{
 "metadata": {
  "language_info": {
   "codemirror_mode": {
    "name": "ipython",
    "version": 3
   },
   "file_extension": ".py",
   "mimetype": "text/x-python",
   "name": "python",
   "nbconvert_exporter": "python",
   "pygments_lexer": "ipython3",
   "version": "3.7.9"
  },
  "orig_nbformat": 2,
  "kernelspec": {
   "name": "python379jvsc74a57bd0d106dbbdda2c87ab37e0e211bc0dfbac0ab305ec9f20e6eb67160d2993429803",
   "display_name": "Python 3.7.9 64-bit ('ML Environment': conda)"
  }
 },
 "nbformat": 4,
 "nbformat_minor": 2,
 "cells": [
  {
   "source": [
    "CSE 546 - Reinforcement Learning\n",
    "# Final Course Project\n",
    "\n",
    "**Author:** @sivashanmugamo"
   ],
   "cell_type": "markdown",
   "metadata": {}
  },
  {
   "source": [
    "## Prerequisites"
   ],
   "cell_type": "markdown",
   "metadata": {}
  },
  {
   "source": [
    "Importing required libraries"
   ],
   "cell_type": "markdown",
   "metadata": {}
  },
  {
   "cell_type": "code",
   "execution_count": 271,
   "metadata": {},
   "outputs": [],
   "source": [
    "import random\n",
    "from datetime import datetime\n",
    "from collections import deque, namedtuple\n",
    "\n",
    "import numpy as np\n",
    "import pandas as pd\n",
    "pd.set_option('display.max_colwidth', 50)\n",
    "\n",
    "import tensorflow as tf\n",
    "\n",
    "import torch\n",
    "from torch import nn, optim, autograd\n",
    "from torch.nn import functional as F"
   ]
  },
  {
   "cell_type": "code",
   "execution_count": 272,
   "metadata": {},
   "outputs": [],
   "source": [
    "DEVICE= torch.device('cuda' if torch.cuda.is_available() else 'cpu')"
   ]
  },
  {
   "source": [
    "Change the following global variable as per requirement"
   ],
   "cell_type": "markdown",
   "metadata": {}
  },
  {
   "cell_type": "code",
   "execution_count": 273,
   "metadata": {},
   "outputs": [],
   "source": [
    "PATH= '/Users/shiva/Documents/GitHub/Reinforcement-Learning/Final/Code/data/S&P 500 - Jan 05 to Mar 21.csv'"
   ]
  },
  {
   "cell_type": "code",
   "execution_count": 274,
   "metadata": {},
   "outputs": [],
   "source": [
    "\n",
    "class Data:\n",
    "    def __init__(self, path: str, header: any):\n",
    "        self.file_path= path\n",
    "        self.read(path= self.file_path, header= header)\n",
    "\n",
    "    def read(self, path: str, header: any):\n",
    "        '''\n",
    "        Reads raw CSV data from given path\n",
    "\n",
    "        Args:\n",
    "            path: str - Path to the data (.csv file)\n",
    "            header: None/int - To mention the presence of header\n",
    "        '''\n",
    "\n",
    "        self.data= pd.read_csv(path, header= header)\n",
    "        self.data= self.prepare(self.data)\n",
    "\n",
    "    def prepare(self, data) -> pd.DataFrame:\n",
    "        '''\n",
    "        Prepares data to a NN suitable format\n",
    "\n",
    "        Arg:\n",
    "            data: pd.DataFrame - Dataframe of raw data\n",
    "        '''\n",
    "\n",
    "        # Renaming columns\n",
    "        data.rename(columns= {\n",
    "            0: 'date', \n",
    "            1: 'open_price', \n",
    "            2: 'high_price', \n",
    "            3: 'low_price', \n",
    "            4: 'close_price', \n",
    "            5: 'adj_close_price', \n",
    "            6: 'share_volume'\n",
    "        }, inplace= True)\n",
    "\n",
    "        # Converting dates (in str format) to datetime format\n",
    "        data['date']= pd.to_datetime(data['date'], format= '%d-%b-%y')\n",
    "\n",
    "        # Seperating day, month, & year from date \n",
    "        # (easier for computation in network)\n",
    "        data['day']= data['date'].dt.day\n",
    "        data['month']= data['date'].dt.month\n",
    "        data['year']= data['date'].dt.year\n",
    "\n",
    "        # Delete date column\n",
    "        del data['date']\n",
    "\n",
    "        # Prepare all values in column for int/float formatting\n",
    "        data= data.replace(',', '', regex= True)\n",
    "\n",
    "        # Converts respective columns to float or int as required\n",
    "        data['open_price']= pd.to_numeric(data['open_price'])\n",
    "        data['high_price']= pd.to_numeric(data['high_price'])\n",
    "        data['low_price']= pd.to_numeric(data['low_price'])\n",
    "        data['close_price']= pd.to_numeric(data['close_price'])\n",
    "        data['adj_close_price']= pd.to_numeric(data['adj_close_price'])\n",
    "        data['share_volume']= pd.to_numeric(data['share_volume'])\n",
    "\n",
    "        return data\n",
    "\n",
    "    def get_state(self):\n",
    "        pass\n",
    "\n",
    "    # ------------------------------------------\n",
    "    # Getter & setter methods\n",
    "    # ------------------------------------------\n",
    "\n",
    "    @property\n",
    "    def file_path(self):\n",
    "        return self._file_path\n",
    "\n",
    "    @file_path.setter\n",
    "    def file_path(self, value):\n",
    "        if isinstance(value, str) == False:\n",
    "            raise TypeError('Invalid path')\n",
    "        self._file_path= value\n",
    "\n",
    "# Example object creation\n",
    "# prepper= DataPrep(\n",
    "#     path= PATH, \n",
    "#     header= None\n",
    "#     )"
   ]
  },
  {
   "cell_type": "code",
   "execution_count": 275,
   "metadata": {},
   "outputs": [],
   "source": [
    "EXPERIENCE= namedtuple('experience', ['state', 'action', 'reward', 'next_state', 'done'])\n",
    "\n",
    "class Memory:\n",
    "    def __init__(self, volume: int= 1e4) -> None:\n",
    "        self._volume= volume\n",
    "        self.memory= deque(\n",
    "            maxlen= self._volume\n",
    "            )\n",
    "\n",
    "    def memorize(self, experience: tuple) -> None:\n",
    "        self.memory.append(EXPERIENCE(experience))\n",
    "\n",
    "    def sample(self, batch_size: int= 64):\n",
    "        return random.sample(self.memory, k= batch_size)\n",
    "\n",
    "    def __len__(self) -> int:\n",
    "        return len(self.memory)"
   ]
  },
  {
   "cell_type": "code",
   "execution_count": 276,
   "metadata": {},
   "outputs": [],
   "source": [
    "class ACNetwork(nn.Module):\n",
    "    def __init__(self, state_size: int, action_size: int, n_hidden: int= 32, n_layers: int= 1, conv_mode: bool= False) -> None:\n",
    "        super(ACNetwork, self).__init__()\n",
    "\n",
    "        #  Observation space size\n",
    "        self.input_dim= state_size\n",
    "        self.n_hidden= n_hidden\n",
    "        self.n_layers= n_layers\n",
    "\n",
    "        # Action space size\n",
    "        self.output_dim= action_size\n",
    "\n",
    "        # Create hidden layers\n",
    "        self.hidden_layers= list()\n",
    "        for _ in range(self.n_hidden):\n",
    "            self.hidden_layers.append(nn.Linear(self.n_hidden, self.n_hidden))\n",
    "            self.hidden_layers(nn.ReLU())\n",
    "\n",
    "        # Actor model\n",
    "        # Predicts policy distribution\n",
    "        self.actor= nn.Sequential(\n",
    "            nn.Linear(self.input_dim, self.n_hidden), \n",
    "            nn.ReLU(), \n",
    "            *self.hidden_layers, \n",
    "            nn.Linear(self.n_hidden, self.output_dim), \n",
    "            nn.Softmax(dim= 1)\n",
    "            )\n",
    "\n",
    "        # Critic model\n",
    "        # Predicts value\n",
    "        self.critic= nn.Sequential(\n",
    "            nn.Linear(self.input_dim, self.n_hidden), \n",
    "            nn.ReLU(), \n",
    "            *self.hidden_layers, \n",
    "            nn.Linear(self.n_hidden, 1)\n",
    "            )\n",
    "\n",
    "    def forward(self, state):\n",
    "        '''\n",
    "        '''\n",
    "        pass"
   ]
  },
  {
   "cell_type": "code",
   "execution_count": 277,
   "metadata": {},
   "outputs": [],
   "source": [
    "class Agent:\n",
    "    def __init__(self, env, mode: str= 'ac', volume: int= 1e4) -> None:\n",
    "        '''\n",
    "        '''\n",
    "\n",
    "        self.env= env\n",
    "        self.mode= mode\n",
    "\n",
    "        # Initializing agent's memory\n",
    "        self.volume= volume\n",
    "        self.memory= Memory(\n",
    "            volume= self.volume\n",
    "            )\n",
    "\n",
    "    def train(self, n_episodes: int= 1000):\n",
    "        '''\n",
    "        '''\n",
    "\n",
    "        pass"
   ]
  },
  {
   "cell_type": "code",
   "execution_count": 278,
   "metadata": {},
   "outputs": [],
   "source": [
    "def run(mode: str):\n",
    "    if mode == 'train':\n",
    "        pass\n",
    "    elif mode == 'test':\n",
    "        pass\n",
    "    else:\n",
    "        raise Exception('Invalid mode. Mode should either be \\'train\\' or \\'test\\'')"
   ]
  },
  {
   "cell_type": "code",
   "execution_count": 270,
   "metadata": {},
   "outputs": [],
   "source": []
  },
  {
   "cell_type": "code",
   "execution_count": null,
   "metadata": {},
   "outputs": [],
   "source": []
  },
  {
   "cell_type": "code",
   "execution_count": null,
   "metadata": {},
   "outputs": [],
   "source": []
  }
 ]
}