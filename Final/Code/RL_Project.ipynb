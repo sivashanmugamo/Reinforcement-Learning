{
  "nbformat": 4,
  "nbformat_minor": 0,
  "metadata": {
    "colab": {
      "name": "RL Project.ipynb",
      "provenance": [],
      "collapsed_sections": []
    },
    "kernelspec": {
      "name": "python3",
      "display_name": "Python 3"
    },
    "language_info": {
      "name": "python"
    },
    "accelerator": "GPU"
  },
  "cells": [
    {
      "cell_type": "markdown",
      "metadata": {
        "id": "_A_sF1wbg6Vv"
      },
      "source": [
        "CSE 546 - Reinfocement Learning\n",
        "# Final course project\n",
        "## Predicting stock price using Actor-critic method & time-series analysis"
      ]
    },
    {
      "cell_type": "markdown",
      "metadata": {
        "id": "gmIYmNTZhHo1"
      },
      "source": [
        "### Prerequisites"
      ]
    },
    {
      "cell_type": "markdown",
      "metadata": {
        "id": "n0pXBGrdgw5j"
      },
      "source": [
        "*Importing required libraries*"
      ]
    },
    {
      "cell_type": "code",
      "metadata": {
        "id": "BbDuTY6yJ9rH"
      },
      "source": [
        "from google.colab import drive, files\n",
        "\n",
        "import io, os, copy, math, random, datetime\n",
        "from copy import deepcopy\n",
        "from collections import deque, namedtuple\n",
        "\n",
        "import numpy as np\n",
        "import pandas as pd\n",
        "pd.set_option('display.max_colwidth', 50)\n",
        "\n",
        "import torch\n",
        "from torch import nn, optim, autograd\n",
        "from torch.nn import functional as F\n",
        "\n",
        "import matplotlib\n",
        "from matplotlib import pyplot as plt\n",
        "%matplotlib inline"
      ],
      "execution_count": 442,
      "outputs": []
    },
    {
      "cell_type": "markdown",
      "metadata": {
        "id": "1_WBx--Xg1Ke"
      },
      "source": [
        "*Checking GPU availability*"
      ]
    },
    {
      "cell_type": "code",
      "metadata": {
        "id": "qL1l4Z_2TirQ"
      },
      "source": [
        "DEVICE= torch.device('cuda' if torch.cuda.is_available() else 'cpu')"
      ],
      "execution_count": 443,
      "outputs": []
    },
    {
      "cell_type": "markdown",
      "metadata": {
        "id": "0AiUeGJthRe8"
      },
      "source": [
        "### Data (Environment)"
      ]
    },
    {
      "cell_type": "code",
      "metadata": {
        "id": "k4DP2TBHcx2W"
      },
      "source": [
        "class Data:\n",
        "    def __init__(self, file_access: str, header: any, \\\n",
        "                 mode: str, file_path: str= None) -> None:\n",
        "        '''\n",
        "        Initiates the stock price environment\n",
        "\n",
        "        Args:\n",
        "            file_access: str - Mode of accessing the stock price data\n",
        "            header: any - Availability of header in CSV file\n",
        "            mode: str - Purpose of data - train (or) test\n",
        "            file_path: str - Path of the CSV file (for local access only)\n",
        "        '''\n",
        "\n",
        "        self.file_access= file_access\n",
        "        self.mode= mode\n",
        "\n",
        "        if self.file_access == 'upload':\n",
        "            io_file= self.get_upload()\n",
        "            self.read(fl= io_file, header= header)\n",
        "        elif self.file_access == 'drive':\n",
        "            pass\n",
        "        elif self.file_access == 'local':\n",
        "            self.read(fl= file_path, header= header)\n",
        "\n",
        "    def get_upload(self):\n",
        "      '''\n",
        "      Upload files from local machine\n",
        "      '''\n",
        "\n",
        "      if os.path.exists('/content/S&P 500 - Jan 05 to Mar 21.csv'):\n",
        "          return '/content/S&P 500 - Jan 05 to Mar 21.csv'\n",
        "      else:\n",
        "          self.uploaded_file= files.upload()\n",
        "          return io.BytesIO(self.uploaded_file\\\n",
        "                            [list(self.uploaded_file.keys())[0]])\n",
        "\n",
        "    def link_drive(self) -> None:\n",
        "      '''\n",
        "      Link Gdrive to access .csv file\n",
        "      '''\n",
        "      # drive.mount()\n",
        "      pass\n",
        "\n",
        "    def read(self, fl: any, header: any) -> None:\n",
        "        '''\n",
        "        Reads raw CSV data from given path\n",
        "\n",
        "        Args:\n",
        "            path: str - Path to the data (.csv file)\n",
        "            header: None/int - To mention the presence of header in csv\n",
        "        '''\n",
        "\n",
        "        self.data= pd.read_csv(fl, header= header)\n",
        "        self.data= self.prepare(self.data)\n",
        "\n",
        "    def prepare(self, data) -> np.array:\n",
        "        '''\n",
        "        Prepares data to a NN suitable format\n",
        "        - Basically Exploratory Data Analysis (EDA)\n",
        "\n",
        "        Arg:\n",
        "            data: pd.DataFrame - Dataframe of raw data\n",
        "        '''\n",
        "\n",
        "        # Renaming columns\n",
        "        data.rename(columns= {\n",
        "            0: 'date', \n",
        "            1: 'open_price', \n",
        "            2: 'high_price', \n",
        "            3: 'low_price', \n",
        "            4: 'close_price', \n",
        "            5: 'adj_close_price', \n",
        "            6: 'share_volume'\n",
        "        }, inplace= True)\n",
        "\n",
        "        # Converting dates (in str format) to datetime format\n",
        "        data['date']= pd.to_datetime(data['date'], format= '%d-%b-%y')\n",
        "\n",
        "        # Seperating day, month, & year from date \n",
        "        # (easier for computation in network)\n",
        "        data['day']= data['date'].dt.day\n",
        "        data['month']= data['date'].dt.month\n",
        "        data['year']= data['date'].dt.year\n",
        "\n",
        "        # Delete date column\n",
        "        del data['date']\n",
        "\n",
        "        # Prepare all values in column for int/float formatting\n",
        "        data= data.replace(',', '', regex= True)\n",
        "\n",
        "        # Converts respective columns to float or int as required\n",
        "        data['open_price']= pd.to_numeric(data['open_price'])\n",
        "        data['high_price']= pd.to_numeric(data['high_price'])\n",
        "        data['low_price']= pd.to_numeric(data['low_price'])\n",
        "        data['close_price']= pd.to_numeric(data['close_price'])\n",
        "        data['adj_close_price']= pd.to_numeric(data['adj_close_price'])\n",
        "        data['share_volume']= pd.to_numeric(data['share_volume'])\n",
        "\n",
        "        if self.mode == 'train':\n",
        "            # Return 85% of data (i.e.) historical data for training\n",
        "            final_data= data['close_price'].values\n",
        "            n= round(final_data.shape[0]*0.85)\n",
        "            return np.flip(final_data[-n:])\n",
        "        elif self.mode == 'test':\n",
        "            # Returns 15% of data (i.e.) recent data for testing\n",
        "            final_data= data['close_price'].values\n",
        "            n= round(final_data.shape[0]*0.15)\n",
        "            return np.flip(final_data[:n])\n",
        "\n",
        "    def sigmoid(self, x, y):\n",
        "        '''\n",
        "        Calculates sigmoid of x & y\n",
        "\n",
        "        Args:\n",
        "            x & y: float - Stock price\n",
        "        '''\n",
        "\n",
        "        return 1/(1 + math.exp(x - y))\n",
        "\n",
        "    def get_state(self, w_data: list, w_start: int, \n",
        "                  w_end: int) -> np.array:\n",
        "        '''\n",
        "        Scales the stock price to 0-1 over a floating window\n",
        "\n",
        "        Args:\n",
        "            w_data: list - List of stock price\n",
        "            w_start & w_end: int - Floating window limits\n",
        "        '''\n",
        "\n",
        "        # Floating window - Generates time-series\n",
        "        if (w_start - w_end) >= -1:\n",
        "            data= w_data[w_start - w_end + 1 : w_start + 1]\n",
        "        else:\n",
        "            data= (-1)*(w_start - w_end + 1)*[w_data[0]]\n",
        "            data.extend(w_data[0: w_start + 1])\n",
        "        \n",
        "        # Exponential scaling\n",
        "        scaled_data= list()\n",
        "        for i in range(w_end - 1):\n",
        "            scaled_data.append(self.sigmoid(\n",
        "                x= data[i], \n",
        "                y= data[i+1]\n",
        "                ))\n",
        "\n",
        "        return np.array([scaled_data])\n",
        "\n",
        "    @property\n",
        "    def file_access(self):\n",
        "        return self._file_access\n",
        "\n",
        "    @file_access.setter\n",
        "    def file_access(self, value):\n",
        "        if isinstance(value, str) == False:\n",
        "            raise TypeError('Invalid path')\n",
        "        if value not in ['upload', 'drive', 'local']:\n",
        "            raise ValueError('Access should be one of the following:\\\n",
        "                              Local, Drive, or Upload')\n",
        "        self._file_access= value\n",
        "\n",
        "    @property\n",
        "    def mode(self):\n",
        "      return self._mode\n",
        "\n",
        "    @mode.setter\n",
        "    def mode(self, value):\n",
        "        if isinstance(value, str) == False:\n",
        "            raise TypeError('Expected str, but received \\\n",
        "                             {}'.format(type(value)))\n",
        "        if value not in ['train', 'test']:\n",
        "            raise ValueError('Modes should be one of the \\\n",
        "                              following: \\'train\\' or \\'test\\'.')\n",
        "        self._mode= value"
      ],
      "execution_count": 444,
      "outputs": []
    },
    {
      "cell_type": "markdown",
      "metadata": {
        "id": "GNzZhvGFheyb"
      },
      "source": [
        "### Actor-critic"
      ]
    },
    {
      "cell_type": "code",
      "metadata": {
        "id": "TGocZuXdc69R"
      },
      "source": [
        "class ACNet(nn.Module):\n",
        "    def __init__(self, input_dim: int, output_dim: int, mode: str, \n",
        "                 n_hidden: int= 32, n_layers: int= 1) -> None:\n",
        "        '''\n",
        "        Initiates network for actor & critic\n",
        "\n",
        "        Args:\n",
        "            input_dim: int - Input dimension\n",
        "            output_dim: int - Output dimension\n",
        "            mode: str - Actor (or) Critic\n",
        "            n_hidden: int - Number of nodes per hidden layer\n",
        "            n_layers: int - Number of layers in NN\n",
        "        '''\n",
        "\n",
        "        super(ACNet, self).__init__()\n",
        "\n",
        "        self.input_dim= input_dim\n",
        "        self.n_hidden= n_hidden\n",
        "        self.n_layers= n_layers\n",
        "        self.output_dim= output_dim\n",
        "\n",
        "        self.mode= mode\n",
        "\n",
        "        self.build()\n",
        "\n",
        "    def build(self) -> None:\n",
        "        '''\n",
        "        Builds Neural Network for given specification\n",
        "        '''\n",
        "\n",
        "        self.layers= list()\n",
        "        for each_layer in range(self.n_layers):\n",
        "            self.layers.append(nn.Linear(self.n_hidden, \n",
        "                                          self.n_hidden))\n",
        "            self.layers.append(nn.BatchNorm1d(self.n_hidden))\n",
        "            self.layers.append(nn.ReLU())\n",
        "\n",
        "        # Build NN for actor\n",
        "        if self.mode == 'actor':\n",
        "            self.model= nn.Sequential(\n",
        "                nn.Linear(self.input_dim, self.n_hidden), \n",
        "                nn.BatchNorm1d(self.n_hidden), \n",
        "                nn.ReLU(), \n",
        "                *self.layers, \n",
        "                nn.Linear(self.n_hidden, self.output_dim), \n",
        "                nn.BatchNorm1d(self.output_dim), \n",
        "                nn.ReLU()\n",
        "            )\n",
        "\n",
        "            # If GPU available, move model to GPU for faster processing\n",
        "            if DEVICE == 'cuda': self.model.cuda()\n",
        "\n",
        "        # Build NN for critic\n",
        "        elif self.mode == 'critic':\n",
        "            self.model= nn.Sequential(\n",
        "                nn.Linear(self.input_dim, self.n_hidden), \n",
        "                nn.ReLU(), \n",
        "                *self.layers, \n",
        "                nn.Linear(self.n_hidden, 1)\n",
        "            )\n",
        "\n",
        "            # If GPU available, move model to GPU for faster processing\n",
        "            if DEVICE == 'cuda': self.model.cuda()\n",
        "\n",
        "        else:\n",
        "            raise ValueError('Modes should be one of the \\\n",
        "                              following: \\'actor\\' or \\'critic\\'.')\n",
        "            \n",
        "        # Initializing optimizer\n",
        "        self.optimizer= optim.Adam(self.model.parameters(), lr= 0.0001)\n",
        "\n",
        "        # Initialize loss function\n",
        "        self.loss_fn= nn.MSELoss()\n",
        "      \n",
        "    def forward(self, state: np.array):\n",
        "        '''\n",
        "        Predicts value for a given state\n",
        "\n",
        "        Args:\n",
        "            state: np.array - Array of state value (values within window)\n",
        "        '''\n",
        "\n",
        "        state= autograd.Variable(\n",
        "            torch.from_numpy(state).float() #.unsqueeze(0)\n",
        "            )\n",
        "\n",
        "        if self.mode == 'actor':\n",
        "            return self.model(state)\n",
        "        elif self.mode == 'critic':\n",
        "            return self.model(state)\n",
        "        else:\n",
        "            raise ValueError('Modes should be one of the \\\n",
        "                              following: \\'actor\\' or \\'critic\\'.')\n",
        "\n",
        "    @property\n",
        "    def mode(self):\n",
        "      return self._mode\n",
        "\n",
        "    @mode.setter\n",
        "    def mode(self, value):\n",
        "        if isinstance(value, str) == False:\n",
        "            raise TypeError('Expected str, but received \\\n",
        "                             {}'.format(type(value)))\n",
        "        if value not in ['actor', 'critic']:\n",
        "            raise ValueError('Modes should be one of the \\\n",
        "                              following: \\'actor\\' or \\'critic\\'.')\n",
        "        self._mode= value"
      ],
      "execution_count": 445,
      "outputs": []
    },
    {
      "cell_type": "markdown",
      "metadata": {
        "id": "3uCwelyChWGX"
      },
      "source": [
        "### Agent"
      ]
    },
    {
      "cell_type": "code",
      "metadata": {
        "id": "G0ie4pTxc6Az"
      },
      "source": [
        "# Format to store experience\n",
        "EXPERIENCE= namedtuple('experience', ['state', 'action',\\\n",
        "                                      'reward', 'next_state', 'done'])\n",
        "\n",
        "# Replay buffer for the agent\n",
        "class Memory:\n",
        "    def __init__(self, volume: int= int(1e4)) -> None:\n",
        "        '''\n",
        "        Initiates memory buffer for the agent\n",
        "\n",
        "        Args:\n",
        "            volume: int - Size of memory\n",
        "        '''\n",
        "\n",
        "        self.volume= volume\n",
        "        self.memory= deque(maxlen= self.volume)\n",
        "\n",
        "    def memorize(self, experience: tuple) -> None:\n",
        "        '''\n",
        "        Stores experience to memory\n",
        "\n",
        "        Args:\n",
        "            experience: tuple - Tuple of state, action, \n",
        "                                reward, next state, & done\n",
        "        '''\n",
        "        self.memory.append(EXPERIENCE(experience))\n",
        "\n",
        "    def sample(self, batch_size: int= 64) -> list:\n",
        "        '''\n",
        "        Samples a batch of experience from memory\n",
        "\n",
        "        Args:\n",
        "            batch_size: int - Number of experiences to be sampled\n",
        "        '''\n",
        "        return random.sample(self.memory, k= batch_size)\n",
        "\n",
        "    def __len__(self) -> int:\n",
        "        '''\n",
        "        Returns the occupied memory size\n",
        "        '''\n",
        "        return len(self.memory)\n",
        "\n",
        "    @property\n",
        "    def volume(self):\n",
        "        return self._volume\n",
        "\n",
        "    @volume.setter\n",
        "    def volume(self, value):\n",
        "        if isinstance(value, int) == False:\n",
        "            raise TypeError('int expected, instead received {}'.\\\n",
        "                            format(type(value)))\n",
        "        if value < 0:\n",
        "            raise ValueError('Memory capacity should be positive,\\\n",
        "                              instead received {}'.format(value))\n",
        "        if value > int(1e6):\n",
        "            raise ValueError('Maximum memory size is {}'.format(int(1e6)))\n",
        "        self._volume= value"
      ],
      "execution_count": 446,
      "outputs": []
    },
    {
      "cell_type": "code",
      "metadata": {
        "id": "B5lYVISkc9aM"
      },
      "source": [
        "class Agent:\n",
        "    def __init__(self, state_size: int, batch_size: int, \n",
        "                 mode: str= 'train', volume: int= int(1e4), \n",
        "                 eval: bool= False, discount_factor: float= 0.99, \n",
        "                 tau: float= 0.001) -> None:\n",
        "        '''\n",
        "        Initiates agent to learn environment\n",
        "\n",
        "        Args:\n",
        "            state_size: int - State size (i.e.) stock price window\n",
        "            batch_size: int - Size of experience replay\n",
        "            mode: str - Train (or) test\n",
        "            volume: int - Size of the memory buffer\n",
        "            eval: bool - Evaluation mode\n",
        "            discount_factor: float - Rate of discount\n",
        "            tau: float - For soft update of AC network\n",
        "        '''\n",
        "\n",
        "        self.state_size= state_size\n",
        "        self.action_size= 3 # Buy, Sell, or Hold\n",
        "        self.batch_size= batch_size\n",
        "\n",
        "        self.mode= mode\n",
        "        self.record= list()\n",
        "\n",
        "        self.eval= eval\n",
        "        self.gamma= discount_factor\n",
        "        self.tau= tau\n",
        "\n",
        "        # Initializing agent's memory\n",
        "        self.volume= volume\n",
        "        self.memory= Memory(volume= self.volume)\n",
        "\n",
        "        # Estimating actor model\n",
        "        self.actor_est= ACNet(\n",
        "            input_dim= self.state_size, \n",
        "            output_dim= self.action_size, \n",
        "            mode= 'actor'\n",
        "        )\n",
        "        # Target actor model\n",
        "        self.actor_tar= deepcopy(self.actor_est)\n",
        "\n",
        "        # Estimating critic model\n",
        "        self.critic_est= ACNet(\n",
        "            input_dim= self.state_size, \n",
        "            output_dim= self.action_size, \n",
        "            mode= 'critic'\n",
        "        )\n",
        "        # Target critic model\n",
        "        self.critic_tar= deepcopy(self.critic_est)\n",
        "\n",
        "    def act(self, state: np.array):\n",
        "        '''\n",
        "        Chooses an action based on state\n",
        "\n",
        "        Args:\n",
        "            state: np.array - State array\n",
        "        '''\n",
        "\n",
        "        pred= self.actor_est.forward(state)\n",
        "        self.prev_state= state\n",
        "        if self.eval == False:\n",
        "            return random.choice(range(self.action_size), p= pred[0])\n",
        "        return np.argmax(pred[0])\n",
        "\n",
        "    def step(self, observation: tuple):\n",
        "        '''\n",
        "        Gets action to be carried out at every step\n",
        "\n",
        "        Args:\n",
        "            observation: tuple - Contains prediction, reward, \n",
        "                                 next state, & done\n",
        "        '''\n",
        "\n",
        "        self.memory.memorize((self.prev_state, *observation))\n",
        "        if len(self.memory) > self.batch_size:\n",
        "            self.learn(self.memory.sample(self.batch_size))\n",
        "            self.last_state= obervation[2] # Next state\n",
        "\n",
        "    def learn(self, experiences: tuple):\n",
        "        '''\n",
        "        Learn form sampled experience\n",
        "\n",
        "        Args:\n",
        "            experiences: tuple - Contains state, action, \n",
        "            next_state, reward, & done\n",
        "        '''\n",
        "\n",
        "        state_np= np.vstack([i.state for i in experiences \\\n",
        "                             if i is not None]).astype(np.float)\\\n",
        "                             .reshape(-1, self.state_size)\n",
        "        action_np= np.vstack([i.action for i in experiences \\\n",
        "                              if i is not None]).astype(np.float)\\\n",
        "                              .reshape(-1, self.action_size)\n",
        "        reward_np= np.vstack([i.reward for i in experiences \\\n",
        "                              if i is not None]).astype(np.float)\\\n",
        "                              .reshape(-1, 1)\n",
        "        done_np= np.vstack([i.done for i in experiences \\\n",
        "                            if i is not None]).astype(np.float)\\\n",
        "                            .reshape(-1, 1)\n",
        "        next_state_np= np.vstack([i.next_state for i in \\\n",
        "                                  experiences if i is not None])\\\n",
        "                                  .astype(np.float)\\\n",
        "                                  .reshape(-1, self.state_size)\n",
        "\n",
        "        next_action= self.actor_tar.forward(next_state_np)\n",
        "        next_Q= self.critic_tar.forward([next_state_np, next_action])\n",
        "\n",
        "        target_Q= reward_np + self.gamma * next_Q * (1 - done_np)\n",
        "        self.critic_est.optimizer.step()\n",
        "        self.actor_est.optimizer.step()\n",
        "        self.soft_update(self.critic_est, self.critic_tar)\n",
        "        self.soft_update(self.actor_est, self.actor_tar)\n",
        "\n",
        "    def soft_update(self, model_est, model_tar):\n",
        "        '''\n",
        "        Performs soft update of model parameters\n",
        "\n",
        "        Args:\n",
        "            model_est - Estimating model\n",
        "            model_tar - Target model\n",
        "        '''\n",
        "\n",
        "        est_weights= model_est.state_dict()\n",
        "        tar_weights= model_tar.state_dict()\n",
        "\n",
        "        if len(est_weights.values()) == len(tar_weights.values()):\n",
        "            upd_weights= (self.tau*est_weights)+((1-self.tau)*tar_weights)\n",
        "        else:\n",
        "            raise Exception('Weight mismatch')\n",
        "\n",
        "        model_tar.load_state_dict(upd_weights)"
      ],
      "execution_count": 447,
      "outputs": []
    },
    {
      "cell_type": "markdown",
      "metadata": {
        "id": "8POCr9f_haci"
      },
      "source": [
        "### Execution"
      ]
    },
    {
      "cell_type": "code",
      "metadata": {
        "id": "i1R5rFiyeYvD"
      },
      "source": [
        "class AgentRun:\n",
        "    def __init__(self, env, batch_size: int= 64, \n",
        "                 window_size: int= 20) -> None:        \n",
        "        self.env= env\n",
        "        self.data= env.data\n",
        "        \n",
        "        self.batch_size= batch_size\n",
        "        self.window_size= window_size\n",
        "\n",
        "        self.agent= Agent(\n",
        "            state_size= self.window_size, \n",
        "            batch_size= self.batch_size\n",
        "        )\n",
        "\n",
        "        self.max_timesteps= len(self.data) - 1\n",
        "\n",
        "    def run(self, mode: str= 'train', max_episodes: int= 100, \n",
        "            verbose: bool= False):\n",
        "        if mode == 'train':\n",
        "          if verbose: print('Begin training')\n",
        "          \n",
        "          for each_episode in range(max_episodes):\n",
        "              if verbose: print('Episode: {}/{}'\\\n",
        "                                    .format(each_episode, max_episodes))\n",
        "\n",
        "              state= self.env.get_state(\n",
        "                  w_data= self.data, \n",
        "                  w_start= 0, \n",
        "                  w_end= self.window_size + 1\n",
        "              )\n",
        "\n",
        "              self.agent.record= list()\n",
        "              overall_profit= 0\n",
        "              done= False\n",
        "              for each_timestep in range(self.max_timesteps):\n",
        "                  action= self.agent.act(state)\n",
        "                  prob= self.agent.actor_est.forward(state)\n",
        "\n",
        "                  next_state= self.env.get_state(\n",
        "                      w_data= self.data, \n",
        "                      w_start= each_timestep + 1, \n",
        "                      w_end= self.window_size + 1\n",
        "                  )\n",
        "\n",
        "                  reward= 0\n",
        "\n",
        "                  if action == 1:\n",
        "                      self.agent.record.append(self.data[each_timestep])\n",
        "                      pass\n",
        "\n",
        "                  elif action == 2 and len(self.agent.record) > 0:\n",
        "                      buy_price= self.agent.record.pop(0)\n",
        "                      reward= max(self.data[each_timestep]-buy_price, 0)\n",
        "                      overall_profit += self.data[each_timestep]-buy_price\n",
        "                      if verbose: \n",
        "                          print('Sell: {} | Profit: {}'\\\n",
        "                                .format(self.data[each_timestep], \n",
        "                                      self.data[each_timestep]-buy_price))\n",
        "\n",
        "                  if each_timestep == self.max_timesteps - 1:\n",
        "                      done= True\n",
        "\n",
        "                  self.agent.step((prob, reward, next_state, done))\n",
        "                  state= next_state\n",
        "\n",
        "                  if done:\n",
        "                      print('Total profit: {}'.format(overall_profit))\n",
        "        \n",
        "        elif mode == 'test':\n",
        "            overall_profit= 0\n",
        "            \n",
        "            state= self.env.get_state(\n",
        "                w_data= self.data, \n",
        "                w_start= 0,\n",
        "                w_end= self.window_size + 1\n",
        "                )\n",
        "            done= False\n",
        "\n",
        "            self.agent.record= list()\n",
        "            self.agent.eval= False\n",
        "            for t in range(self.data.shape[0]):\n",
        "                action= self.agent.act(state)\n",
        "\n",
        "                next_state= self.env.get_state(\n",
        "                    w_data= self.data, \n",
        "                    w_start= each_timestep + 1, \n",
        "                    w_end= self.window_size + 1\n",
        "                    )\n",
        "                reward= 0\n",
        "\n",
        "                if action== 1:\n",
        "                    self.agent.record.append(self.data[t])\n",
        "                    if verbose: print('Buy: {}'.format(self.data[t]))\n",
        "                \n",
        "                elif action == 2 and len(self.agent.record) > 0:\n",
        "                    buy_price= self.agent.record.pop(0)\n",
        "                    reward= max(self.data[t]-buy_price, 0)\n",
        "                    overall_profit += self.data[t]-buy_price\n",
        "                    if verbose: print('Sell: {} | Profit: {}'\\\n",
        "                                      .format(self.data[t], \n",
        "                                              self.data[t]-buy_price))\n",
        "                \n",
        "                if t == len(self.data) - 2:\n",
        "                    done= True\n",
        "                \n",
        "                self.agent.step((prob, reward, next_state, done))\n",
        "                state= next_state\n",
        "\n",
        "                if done:\n",
        "                    print('Total profit: {}'.format(overall_profit))\n",
        "\n",
        "        else:\n",
        "            raise ValueError('Modes should be one of the \\\n",
        "                              following: \\'train\\' or \\'test\\'.')"
      ],
      "execution_count": 448,
      "outputs": []
    },
    {
      "cell_type": "markdown",
      "metadata": {
        "id": "ofPQ7qmkQv5y"
      },
      "source": [
        "#### Train"
      ]
    },
    {
      "cell_type": "code",
      "metadata": {
        "id": "ZkToFWD_h1Jh"
      },
      "source": [
        "train_env= Data(\n",
        "    file_access= 'upload', \n",
        "    header= None, \n",
        "    mode= 'train'\n",
        ")"
      ],
      "execution_count": 449,
      "outputs": []
    },
    {
      "cell_type": "code",
      "metadata": {
        "colab": {
          "base_uri": "https://localhost:8080/",
          "height": 330
        },
        "id": "jTldZqEpyoVA",
        "outputId": "c189d17e-0d98-4391-8ad7-dffe2648ddde"
      },
      "source": [
        "print('Training data - Market open days: {}'.format(train_env.data.shape[0]))\n",
        "plt.plot(train_env.data) #4086 total\n",
        "plt.title('Stock price between 2005 & 2019')\n",
        "plt.xlabel('Days')\n",
        "plt.ylabel('Price in $')"
      ],
      "execution_count": 450,
      "outputs": [
        {
          "output_type": "stream",
          "text": [
            "Training data - Market open days: 3473\n"
          ],
          "name": "stdout"
        },
        {
          "output_type": "execute_result",
          "data": {
            "text/plain": [
              "Text(0, 0.5, 'Price in $')"
            ]
          },
          "metadata": {
            "tags": []
          },
          "execution_count": 450
        },
        {
          "output_type": "display_data",
          "data": {
            "image/png": "[encoded data removed]",
            "text/plain": [
              "<Figure size 432x288 with 1 Axes>"
            ]
          },
          "metadata": {
            "tags": [],
            "needs_background": "light"
          }
        }
      ]
    },
    {
      "cell_type": "code",
      "metadata": {
        "id": "XNav3L-Pf1jn"
      },
      "source": [
        "run_1= AgentRun(\n",
        "    env= train_env\n",
        ")"
      ],
      "execution_count": 451,
      "outputs": []
    },
    {
      "cell_type": "code",
      "metadata": {
        "id": "8JgL_X7ehazH"
      },
      "source": [
        "# run_1.run(\n",
        "#     mode= 'train'\n",
        "# )"
      ],
      "execution_count": 452,
      "outputs": []
    },
    {
      "cell_type": "code",
      "metadata": {
        "id": "EPT6zqn1nHDj"
      },
      "source": [
        "test_env= Data(\n",
        "    file_access= 'upload', \n",
        "    header= None, \n",
        "    mode= 'test'\n",
        ")"
      ],
      "execution_count": 453,
      "outputs": []
    },
    {
      "cell_type": "code",
      "metadata": {
        "id": "6qzOwBjxP3_H",
        "colab": {
          "base_uri": "https://localhost:8080/",
          "height": 330
        },
        "outputId": "1eba4d3f-ad7c-4d7d-95a1-df0c43b070e9"
      },
      "source": [
        "print('Testing data - Market open days: {}'.format(test_env.data.shape[0]))\n",
        "plt.plot(test_env.data) #4086\n",
        "plt.title('Stock price in the last 2 years (approx.)')\n",
        "plt.xlabel('Days')\n",
        "plt.ylabel('Price in $')"
      ],
      "execution_count": 454,
      "outputs": [
        {
          "output_type": "stream",
          "text": [
            "Testing data - Market open days: 613\n"
          ],
          "name": "stdout"
        },
        {
          "output_type": "execute_result",
          "data": {
            "text/plain": [
              "Text(0, 0.5, 'Price in $')"
            ]
          },
          "metadata": {
            "tags": []
          },
          "execution_count": 454
        },
        {
          "output_type": "display_data",
          "data": {
            "image/png": "[encoded data removed]",
            "text/plain": [
              "<Figure size 432x288 with 1 Axes>"
            ]
          },
          "metadata": {
            "tags": [],
            "needs_background": "light"
          }
        }
      ]
    },
    {
      "cell_type": "code",
      "metadata": {
        "id": "lsqdbvqAejij"
      },
      "source": [
        "# run_1.env= test_env # Saving test data\n",
        "# run_1.run(\n",
        "#     mode= 'test'\n",
        "# )"
      ],
      "execution_count": 455,
      "outputs": []
    }
  ]
}