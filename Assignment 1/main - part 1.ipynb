{
  "nbformat": 4,
  "nbformat_minor": 0,
  "metadata": {
    "colab": {
      "name": "RL Assignment 1.ipynb",
      "provenance": []
    },
    "kernelspec": {
      "name": "python3",
      "display_name": "Python 3"
    }
  },
  "cells": [
    {
      "cell_type": "markdown",
      "metadata": {
        "id": "7kGidj2nQpaT"
      },
      "source": [
        "CSE 546 - Reinforcement learning\n",
        "# Assignment 1 - Defining & Solving RL Environments"
      ]
    },
    {
      "cell_type": "markdown",
      "metadata": {
        "id": "lPVSlNSSQmHi"
      },
      "source": [
        "Installing Gym library"
      ]
    },
    {
      "cell_type": "code",
      "metadata": {
        "colab": {
          "base_uri": "https://localhost:8080/"
        },
        "id": "Ve5sSKKPKwjf",
        "outputId": "d542acc0-1a9c-4ef6-f14f-826ab5e6162e"
      },
      "source": [
        "!pip install gym"
      ],
      "execution_count": null,
      "outputs": [
        {
          "output_type": "stream",
          "text": [
            "Requirement already satisfied: gym in /usr/local/lib/python3.6/dist-packages (0.17.3)\n",
            "Requirement already satisfied: scipy in /usr/local/lib/python3.6/dist-packages (from gym) (1.4.1)\n",
            "Requirement already satisfied: cloudpickle<1.7.0,>=1.2.0 in /usr/local/lib/python3.6/dist-packages (from gym) (1.3.0)\n",
            "Requirement already satisfied: numpy>=1.10.4 in /usr/local/lib/python3.6/dist-packages (from gym) (1.19.5)\n",
            "Requirement already satisfied: pyglet<=1.5.0,>=1.4.0 in /usr/local/lib/python3.6/dist-packages (from gym) (1.5.0)\n",
            "Requirement already satisfied: future in /usr/local/lib/python3.6/dist-packages (from pyglet<=1.5.0,>=1.4.0->gym) (0.16.0)\n"
          ],
          "name": "stdout"
        }
      ]
    },
    {
      "cell_type": "markdown",
      "metadata": {
        "id": "z_VLrdCMQjzE"
      },
      "source": [
        "Importing required libraries"
      ]
    },
    {
      "cell_type": "code",
      "metadata": {
        "id": "lNUthO2CK4ps"
      },
      "source": [
        "import gym\n",
        "import time\n",
        "import random\n",
        "import numpy as np\n",
        "import matplotlib.pyplot as plt\n",
        "\n",
        "from gym import spaces\n",
        "from google.colab import widgets"
      ],
      "execution_count": null,
      "outputs": []
    },
    {
      "cell_type": "markdown",
      "metadata": {
        "id": "rKC7j-AvQ5t8"
      },
      "source": [
        "## Part 1 - Defining RL Environment"
      ]
    },
    {
      "cell_type": "markdown",
      "metadata": {
        "id": "QqTAk4_9UlWN"
      },
      "source": [
        "Initializing the positions of the agent, goal, and rewards."
      ]
    },
    {
      "cell_type": "code",
      "metadata": {
        "id": "WjnuaZIZUMlV"
      },
      "source": [
        "init_agent_pos= [0, 0]\n",
        "init_diamond_pos= [0, 2]\n",
        "init_monster_pos= [1, 1]\n",
        "init_goal_pos= [2, 2]"
      ],
      "execution_count": null,
      "outputs": []
    },
    {
      "cell_type": "markdown",
      "metadata": {
        "id": "JtXJhlvQGaX5"
      },
      "source": [
        "Pre-defining the minimum number of states and actions that will be used in the environment"
      ]
    },
    {
      "cell_type": "code",
      "metadata": {
        "id": "5-sk9R9_GNwy"
      },
      "source": [
        "MIN_STATE= 9\n",
        "MIN_ACTION= 4\n",
        "MAX_TIMESTEPS= 10"
      ],
      "execution_count": null,
      "outputs": []
    },
    {
      "cell_type": "markdown",
      "metadata": {
        "id": "Hnrn7Dz9p8YM"
      },
      "source": [
        "Therefore,\n",
        "1. State set: {(0, 0), (0, 1), (0, 2), (1, 1), (1, 2), (1, 3), (2, 1), (2, 2), (2, 3)}\n",
        "2. Action set: {Up, Down, Left, Right}\n",
        "3. Reward set: {-5, 1, 5, 10}"
      ]
    },
    {
      "cell_type": "markdown",
      "metadata": {
        "id": "kvISrdk4NZts"
      },
      "source": [
        "### Deterministic Learning Environment"
      ]
    },
    {
      "cell_type": "code",
      "metadata": {
        "id": "WGmLEHK4LavY"
      },
      "source": [
        "class DeterministicEnvironment(gym.Env):\n",
        "  metadata= {'render.modes': []}\n",
        "\n",
        "  def __init__(self):\n",
        "    self.observation_space= spaces.Discrete(MIN_STATE)\n",
        "    self.action_space= spaces.Discrete(MIN_ACTION)\n",
        "    self.max_timesteps= MAX_TIMESTEPS\n",
        "\n",
        "  def reset(self):\n",
        "    self.timestep= 0\n",
        "\n",
        "    self.agent_pos= [0, 0]\n",
        "    self.diamond_pos= [0, 2]\n",
        "    self.monster_pos= [2, 0]\n",
        "    self.goal_pos= [2, 2]\n",
        "\n",
        "    self.state= np.zeros((3, 3))\n",
        "    self.state[tuple(self.agent_pos)]= 1\n",
        "    self.state[tuple(self.diamond_pos)]= 5\n",
        "    self.state[tuple(self.monster_pos)]= -5\n",
        "    self.state[tuple(self.goal_pos)]= 10\n",
        "\n",
        "    observation= self.agent_pos\n",
        "\n",
        "    return observation\n",
        "\n",
        "  def step(self, action):\n",
        "    if action == 0: # Go down one step\n",
        "      self.agent_pos[0] += 1\n",
        "    if action == 1: # Go up one step\n",
        "      self.agent_pos[0] -= 1\n",
        "    if action == 2: # Go right one step\n",
        "      self.agent_pos[1] += 1\n",
        "    if action == 3: # Go left one step\n",
        "      self.agent_pos[1] -= 1\n",
        "\n",
        "    self.agent_pos= np.clip(self.agent_pos, 0, 2)\n",
        "    self.state= np.zeros((3, 3))\n",
        "    self.state[tuple(self.agent_pos)]= 1\n",
        "    self.state[tuple(self.diamond_pos)]= 5\n",
        "    self.state[tuple(self.monster_pos)]= -5\n",
        "    self.state[tuple(self.goal_pos)]= 10\n",
        "\n",
        "    observation= self.agent_pos\n",
        "\n",
        "    reward= 0\n",
        "    if(self.agent_pos == self.diamond_pos).all():\n",
        "      reward += 5\n",
        "    if(self.agent_pos == self.monster_pos).all():\n",
        "      reward -= 5\n",
        "    if(self.agent_pos == self.goal_pos).all():\n",
        "      reward += 10\n",
        "    \n",
        "    self.timestep += 1\n",
        "\n",
        "    done= True if ((self.timestep >= self.max_timesteps) or (self.agent_pos == self.goal_pos).all()) else False\n",
        "    info= {}\n",
        "\n",
        "    return observation, reward, done, info\n",
        "  \n",
        "  def render(self):\n",
        "    plt.imshow(self.state)"
      ],
      "execution_count": null,
      "outputs": []
    },
    {
      "cell_type": "markdown",
      "metadata": {
        "id": "tG4j68ykIdjz"
      },
      "source": [
        "The following shows the default environment setup\n",
        "\n",
        "Legend:\n",
        "* Turquoise - Agent's initial position (0, 0)\n",
        "* Green - Diamond position (0, 2)\n",
        "* Yellow - Goal position (2, 2)\n",
        "* Blue - Empty states "
      ]
    },
    {
      "cell_type": "code",
      "metadata": {
        "colab": {
          "base_uri": "https://localhost:8080/",
          "height": 286
        },
        "id": "V7Wf41O7_1t8",
        "outputId": "4920650e-6527-420d-dd7b-884a696974dd"
      },
      "source": [
        "det_env= DeterministicEnvironment()\n",
        "observation= det_env.reset()\n",
        "print(observation)\n",
        "det_env.render()"
      ],
      "execution_count": null,
      "outputs": [
        {
          "output_type": "stream",
          "text": [
            "[0, 0]\n"
          ],
          "name": "stdout"
        },
        {
          "output_type": "display_data",
          "data": {
            "image/png": "[encoded data removed]",
            "text/plain": [
              "<Figure size 432x288 with 1 Axes>"
            ]
          },
          "metadata": {
            "tags": [],
            "needs_background": "light"
          }
        }
      ]
    },
    {
      "cell_type": "markdown",
      "metadata": {
        "id": "YyyY7uaysCDW"
      },
      "source": [
        "**Test 1:** Simulating one action"
      ]
    },
    {
      "cell_type": "code",
      "metadata": {
        "colab": {
          "base_uri": "https://localhost:8080/",
          "height": 354
        },
        "id": "pERr06M84eno",
        "outputId": "03fad469-1ffc-4869-812c-b899f291c3c6"
      },
      "source": [
        "take_action= 0\n",
        "observation, reward, done, info= det_env.step(action= take_action)\n",
        "det_env.render()\n",
        "\n",
        "print('----- For action {} -----'.format(take_action))\n",
        "print('Current state: {}'.format(observation))\n",
        "print('Reward for action taken: {}'.format(reward))\n",
        "print('Any info? - {}'.format(info))\n",
        "print('Are you done? - {}'.format(done))"
      ],
      "execution_count": null,
      "outputs": [
        {
          "output_type": "stream",
          "text": [
            "----- For action 0 -----\n",
            "Current state: [1 0]\n",
            "Reward for action taken: 0\n",
            "Any info? - {}\n",
            "Are you done? - False\n"
          ],
          "name": "stdout"
        },
        {
          "output_type": "display_data",
          "data": {
            "image/png": "[encoded data removed]",
            "text/plain": [
              "<Figure size 432x288 with 1 Axes>"
            ]
          },
          "metadata": {
            "tags": [],
            "needs_background": "light"
          }
        }
      ]
    },
    {
      "cell_type": "markdown",
      "metadata": {
        "id": "BO2SdBzlvyFV"
      },
      "source": [
        "**Test 2:** Simulating a sequence of actions"
      ]
    },
    {
      "cell_type": "code",
      "metadata": {
        "id": "MIaZM441E_Iz",
        "colab": {
          "base_uri": "https://localhost:8080/",
          "height": 694
        },
        "outputId": "40bad94f-d748-4b3c-dfa6-cf0682eea66e"
      },
      "source": [
        "det_env.reset()\n",
        "action_list= [2, 2, 0, 0] # Move 2 steps right and then 2 steps down\n",
        "# action_list= [2, 0, 0, 2]\n",
        "# action_list= [0, 0, 2, 2]\n",
        "\n",
        "cumulative_reward= 0\n",
        "for each_action in action_list:\n",
        "  observation, reward, done, info= det_env.step(action= each_action)  \n",
        "  cumulative_reward += reward\n",
        "\n",
        "  print('----- For action {} -----'.format(each_action))\n",
        "  print('Current state: {}'.format(observation))\n",
        "  print('Reward for action taken: {}'.format(reward))\n",
        "  print('Any info? - {}'.format(info))\n",
        "  print('Are you done? - {}'.format(done))\n",
        "  print('Total reward obtained so far - {}'.format(cumulative_reward))\n",
        "\n",
        "print('This path gives a total reward of {}'.format(cumulative_reward))\n",
        "det_env.render()"
      ],
      "execution_count": null,
      "outputs": [
        {
          "output_type": "stream",
          "text": [
            "----- For action 2 -----\n",
            "Current state: [0 1]\n",
            "Reward for action taken: 0\n",
            "Any info? - {}\n",
            "Are you done? - False\n",
            "Total reward obtained so far - 0\n",
            "----- For action 2 -----\n",
            "Current state: [0 2]\n",
            "Reward for action taken: 5\n",
            "Any info? - {}\n",
            "Are you done? - False\n",
            "Total reward obtained so far - 5\n",
            "----- For action 0 -----\n",
            "Current state: [1 2]\n",
            "Reward for action taken: 0\n",
            "Any info? - {}\n",
            "Are you done? - False\n",
            "Total reward obtained so far - 5\n",
            "----- For action 0 -----\n",
            "Current state: [2 2]\n",
            "Reward for action taken: 10\n",
            "Any info? - {}\n",
            "Are you done? - True\n",
            "Total reward obtained so far - 15\n",
            "This path gives a total reward of 15\n"
          ],
          "name": "stdout"
        },
        {
          "output_type": "display_data",
          "data": {
            "image/png": "[encoded data removed]",
            "text/plain": [
              "<Figure size 432x288 with 1 Axes>"
            ]
          },
          "metadata": {
            "tags": [],
            "needs_background": "light"
          }
        }
      ]
    },
    {
      "cell_type": "markdown",
      "metadata": {
        "id": "F7WSpkBRKr4Q"
      },
      "source": [
        "### Stochastic Learning Environment"
      ]
    },
    {
      "cell_type": "code",
      "metadata": {
        "id": "AZ_kp5aHK7Q6"
      },
      "source": [
        "class StochasticEnvironment(gym.Env):\n",
        "  metadata= {'render.modes': []}\n",
        "\n",
        "  def __init__(self):\n",
        "    self.observation_space= spaces.Discrete(MIN_STATE)\n",
        "    self.action_space= spaces.Discrete(MIN_ACTION)\n",
        "    self.max_timesteps= MAX_TIMESTEPS\n",
        "\n",
        "  def reset(self):\n",
        "    self.timestep= 0\n",
        "\n",
        "    self.agent_pos= [0, 0]\n",
        "    self.diamond_pos= [0, 2]\n",
        "    self.monster_pos= [2, 0]\n",
        "    self.goal_pos= [2, 2]\n",
        "\n",
        "    self.state= np.zeros((3, 3))\n",
        "    self.state[tuple(self.agent_pos)]= 1\n",
        "    self.state[tuple(self.diamond_pos)]= 5\n",
        "    self.state[tuple(self.monster_pos)]= -5\n",
        "    self.state[tuple(self.goal_pos)]= 10\n",
        "\n",
        "    observation= self.agent_pos\n",
        "\n",
        "    return observation\n",
        "\n",
        "  def step(self, action):\n",
        "\n",
        "    # Adds a level of uncertainity to the environment\n",
        "    action= action if (random.uniform(0, 1) > 0.75) else np.random.choice(self.action_space.n)\n",
        "\n",
        "    if action == 0: # Go down one step\n",
        "      self.agent_pos[0] += 1\n",
        "    elif action == 1: # Go up one step\n",
        "      self.agent_pos[0] -= 1\n",
        "    elif action == 2: # Go right one step\n",
        "      self.agent_pos[1] += 1\n",
        "    elif action == 3: # Go left one step\n",
        "      self.agent_pos[1] -= 1\n",
        "    else:\n",
        "      raise Exception\n",
        "\n",
        "    self.agent_pos= np.clip(self.agent_pos, 0, 2)\n",
        "    self.state= np.zeros((3, 3))\n",
        "    self.state[tuple(self.agent_pos)]= 1\n",
        "    self.state[tuple(self.diamond_pos)]= 5\n",
        "    self.state[tuple(self.monster_pos)]= -5\n",
        "    self.state[tuple(self.goal_pos)]= 10\n",
        "\n",
        "    observation= self.agent_pos\n",
        "\n",
        "    reward= 0\n",
        "    if(self.agent_pos == self.diamond_pos).all():\n",
        "      reward += 5\n",
        "    if(self.agent_pos == self.monster_pos).all():\n",
        "      reward -= 5\n",
        "    if(self.agent_pos == self.goal_pos).all():\n",
        "      reward += 10\n",
        "    \n",
        "    self.timestep += 1\n",
        "\n",
        "    done= True if ((self.timestep >= self.max_timesteps) or (self.agent_pos == self.goal_pos).all()) else False\n",
        "    info= {}\n",
        "\n",
        "    return observation, reward, done, info\n",
        "  \n",
        "  def render(self):\n",
        "    plt.imshow(self.state)"
      ],
      "execution_count": null,
      "outputs": []
    },
    {
      "cell_type": "markdown",
      "metadata": {
        "id": "KybolGFOrApI"
      },
      "source": [
        "The following shows the default environment setup\n",
        "\n",
        "Legend:\n",
        "* Turquoise - Agent's initial position (0, 0)\n",
        "* Green - Diamond position (0, 2)\n",
        "* Yellow - Goal position (2, 2)\n",
        "* Blue - Empty states "
      ]
    },
    {
      "cell_type": "code",
      "metadata": {
        "colab": {
          "base_uri": "https://localhost:8080/",
          "height": 286
        },
        "id": "fkYTdFU_4QCM",
        "outputId": "3e202d1a-afc3-47e2-d0a6-e6a198af1170"
      },
      "source": [
        "sto_env= StochasticEnvironment()\n",
        "observation= sto_env.reset()\n",
        "print(observation)\n",
        "sto_env.render()"
      ],
      "execution_count": null,
      "outputs": [
        {
          "output_type": "stream",
          "text": [
            "[0, 0]\n"
          ],
          "name": "stdout"
        },
        {
          "output_type": "display_data",
          "data": {
            "image/png": "[encoded data removed]",
            "text/plain": [
              "<Figure size 432x288 with 1 Axes>"
            ]
          },
          "metadata": {
            "tags": [],
            "needs_background": "light"
          }
        }
      ]
    },
    {
      "cell_type": "markdown",
      "metadata": {
        "id": "7rOJwCqZwLdo"
      },
      "source": [
        "**Test 1:** Simulating one action"
      ]
    },
    {
      "cell_type": "code",
      "metadata": {
        "colab": {
          "base_uri": "https://localhost:8080/",
          "height": 354
        },
        "id": "8wTz4Tby4cyK",
        "outputId": "a50712e6-e42e-4b4c-dea3-06b2b47c44f5"
      },
      "source": [
        "take_action= 0\n",
        "observation, reward, done, info= sto_env.step(action= take_action)\n",
        "sto_env.render()\n",
        "\n",
        "print('----- For action {} -----'.format(take_action))\n",
        "print('Current state: {}'.format(observation))\n",
        "print('Reward for action taken: {}'.format(reward))\n",
        "print('Any info? - {}'.format(info))\n",
        "print('Are you done? - {}'.format(done))"
      ],
      "execution_count": null,
      "outputs": [
        {
          "output_type": "stream",
          "text": [
            "----- For action 0 -----\n",
            "Current state: [1 0]\n",
            "Reward for action taken: 0\n",
            "Any info? - {}\n",
            "Are you done? - False\n"
          ],
          "name": "stdout"
        },
        {
          "output_type": "display_data",
          "data": {
            "image/png": "[encoded data removed]",
            "text/plain": [
              "<Figure size 432x288 with 1 Axes>"
            ]
          },
          "metadata": {
            "tags": [],
            "needs_background": "light"
          }
        }
      ]
    },
    {
      "cell_type": "markdown",
      "metadata": {
        "id": "D7StSysiwlED"
      },
      "source": [
        "**Test 2:** Simulating a sequence of actions"
      ]
    },
    {
      "cell_type": "code",
      "metadata": {
        "colab": {
          "base_uri": "https://localhost:8080/",
          "height": 694
        },
        "id": "X3cH6Ungwk1F",
        "outputId": "e3cbfdf6-c55d-4e68-c40d-ff8d60ee8436"
      },
      "source": [
        "sto_env.reset()\n",
        "action_list= [2, 2, 0, 0] # Move 2 steps right and then 2 steps down\n",
        "# action_list= [2, 0, 0, 2]\n",
        "# action_list= [0, 0, 2, 2]\n",
        "\n",
        "cumulative_reward= 0\n",
        "for each_action in action_list:\n",
        "  observation, reward, done, info= sto_env.step(action= each_action)  \n",
        "  cumulative_reward += reward\n",
        "\n",
        "  print('----- For action {} -----'.format(each_action))\n",
        "  print('Current state: {}'.format(observation))\n",
        "  print('Reward for action taken: {}'.format(reward))\n",
        "  print('Any info? - {}'.format(info))\n",
        "  print('Are you done? - {}'.format(done))\n",
        "  print('Total reward obtained so far - {}'.format(cumulative_reward))\n",
        "\n",
        "print('This path gives a total reward of {}'.format(cumulative_reward))\n",
        "sto_env.render()"
      ],
      "execution_count": null,
      "outputs": [
        {
          "output_type": "stream",
          "text": [
            "----- For action 2 -----\n",
            "Current state: [0 1]\n",
            "Reward for action taken: 0\n",
            "Any info? - {}\n",
            "Are you done? - False\n",
            "Total reward obtained so far - 0\n",
            "----- For action 2 -----\n",
            "Current state: [0 2]\n",
            "Reward for action taken: 5\n",
            "Any info? - {}\n",
            "Are you done? - False\n",
            "Total reward obtained so far - 5\n",
            "----- For action 0 -----\n",
            "Current state: [1 2]\n",
            "Reward for action taken: 0\n",
            "Any info? - {}\n",
            "Are you done? - False\n",
            "Total reward obtained so far - 5\n",
            "----- For action 0 -----\n",
            "Current state: [2 2]\n",
            "Reward for action taken: 10\n",
            "Any info? - {}\n",
            "Are you done? - True\n",
            "Total reward obtained so far - 15\n",
            "This path gives a total reward of 15\n"
          ],
          "name": "stdout"
        },
        {
          "output_type": "display_data",
          "data": {
            "image/png": "[encoded data removed]",
            "text/plain": [
              "<Figure size 432x288 with 1 Axes>"
            ]
          },
          "metadata": {
            "tags": [],
            "needs_background": "light"
          }
        }
      ]
    },
    {
      "cell_type": "markdown",
      "metadata": {
        "id": "UxkRuiiKxWjU"
      },
      "source": [
        "### Random Agent"
      ]
    },
    {
      "cell_type": "markdown",
      "metadata": {
        "id": "K73Axc5e3Tfz"
      },
      "source": [
        "Inititalizing a random agent"
      ]
    },
    {
      "cell_type": "code",
      "metadata": {
        "id": "4q3DhFxM6TGB"
      },
      "source": [
        "class RandomAgent:\n",
        "\n",
        "  def __init__(self, env):\n",
        "    self.env= env\n",
        "    self.observation_space= env.observation_space\n",
        "    self.action_space= env.action_space\n",
        "\n",
        "  def step(self, observation):\n",
        "    return np.random.choice(self.action_space.n)"
      ],
      "execution_count": null,
      "outputs": []
    },
    {
      "cell_type": "markdown",
      "metadata": {
        "id": "AFKpBySV2724"
      },
      "source": [
        "Running the random agent in the *deterministic* environment"
      ]
    },
    {
      "cell_type": "code",
      "metadata": {
        "colab": {
          "base_uri": "https://localhost:8080/",
          "height": 375
        },
        "id": "a-BYv0MKxmJa",
        "outputId": "1834e7a7-e493-4039-f1f3-eef010cdf51c"
      },
      "source": [
        "det_environment= DeterministicEnvironment()\n",
        "det_agent= RandomAgent(env= det_environment)\n",
        "det_observation= det_environment.reset()\n",
        "det_done= False\n",
        "\n",
        "det_output_grid= widgets.Grid(1, 1)\n",
        "\n",
        "# Test render of environment within widget grid\n",
        "with det_output_grid.output_to(0, 0):\n",
        "  det_environment.render()\n",
        "\n",
        "# MDP loop\n",
        "while not det_done:\n",
        "  det_action= det_agent.step(det_observation)\n",
        "  det_observation, det_reward, det_done, det_info= det_environment.step(det_action)\n",
        "  print(det_observation, det_reward, det_done, det_info)\n",
        "\n",
        "  with det_output_grid.output_to(0, 0):\n",
        "    det_output_grid.clear_cell()\n",
        "    det_environment.render()\n",
        "    time.sleep(1)"
      ],
      "execution_count": null,
      "outputs": [
        {
          "output_type": "display_data",
          "data": {
            "text/html": [
              "<style>\n",
              "       table#id2, #id2 > tbody > tr > th, #id2 > tbody > tr > td {\n",
              "         border: 1px solid lightgray;\n",
              "         border-collapse:collapse;\n",
              "         \n",
              "        }</style>"
            ],
            "text/plain": [
              "<IPython.core.display.HTML object>"
            ]
          },
          "metadata": {
            "tags": [
              "outputarea_id2"
            ]
          }
        },
        {
          "output_type": "display_data",
          "data": {
            "text/html": [
              "<table id=id2><tr><td id=id2-0-0></td></tr></table>"
            ],
            "text/plain": [
              "<IPython.core.display.HTML object>"
            ]
          },
          "metadata": {
            "tags": [
              "outputarea_id2"
            ]
          }
        },
        {
          "output_type": "display_data",
          "data": {
            "application/javascript": [
              "window[\"f8d13032-73d6-11eb-bb1a-0242ac1c0002\"] = google.colab.output.getActiveOutputArea();\n",
              "//# sourceURL=js_81f4fc6b28"
            ],
            "text/plain": [
              "<IPython.core.display.Javascript object>"
            ]
          },
          "metadata": {
            "tags": [
              "id2-0-0",
              "outputarea_id2"
            ]
          }
        },
        {
          "output_type": "display_data",
          "data": {
            "application/javascript": [
              "window[\"f8d17eca-73d6-11eb-bb1a-0242ac1c0002\"] = document.querySelector(\"#id2-0-0\");\n",
              "//# sourceURL=js_b67413a27a"
            ],
            "text/plain": [
              "<IPython.core.display.Javascript object>"
            ]
          },
          "metadata": {
            "tags": [
              "id2-0-0",
              "outputarea_id2"
            ]
          }
        },
        {
          "output_type": "display_data",
          "data": {
            "application/javascript": [
              "window[\"f8d1cc22-73d6-11eb-bb1a-0242ac1c0002\"] = google.colab.output.setActiveOutputArea(window[\"f8d17eca-73d6-11eb-bb1a-0242ac1c0002\"]);\n",
              "//# sourceURL=js_11c88529b3"
            ],
            "text/plain": [
              "<IPython.core.display.Javascript object>"
            ]
          },
          "metadata": {
            "tags": [
              "id2-0-0",
              "outputarea_id2"
            ]
          }
        },
        {
          "output_type": "display_data",
          "data": {
            "application/javascript": [
              "window[\"f8f023ac-73d6-11eb-bb1a-0242ac1c0002\"] = google.colab.output.setActiveOutputArea(window[\"f8d13032-73d6-11eb-bb1a-0242ac1c0002\"]);\n",
              "//# sourceURL=js_a7713074cd"
            ],
            "text/plain": [
              "<IPython.core.display.Javascript object>"
            ]
          },
          "metadata": {
            "tags": [
              "id2-0-0",
              "outputarea_id2"
            ]
          }
        },
        {
          "output_type": "stream",
          "text": [
            "[1 0] 0 False {}\n"
          ],
          "name": "stdout"
        },
        {
          "output_type": "display_data",
          "data": {
            "application/javascript": [
              "window[\"f8f4c51a-73d6-11eb-bb1a-0242ac1c0002\"] = google.colab.output.getActiveOutputArea();\n",
              "//# sourceURL=js_685c75ebdf"
            ],
            "text/plain": [
              "<IPython.core.display.Javascript object>"
            ]
          },
          "metadata": {
            "tags": [
              "id2-0-0",
              "outputarea_id2"
            ]
          }
        },
        {
          "output_type": "display_data",
          "data": {
            "application/javascript": [
              "window[\"f8f587f2-73d6-11eb-bb1a-0242ac1c0002\"] = document.querySelector(\"#id2-0-0\");\n",
              "//# sourceURL=js_73d1cf8e6e"
            ],
            "text/plain": [
              "<IPython.core.display.Javascript object>"
            ]
          },
          "metadata": {
            "tags": [
              "id2-0-0",
              "outputarea_id2"
            ]
          }
        },
        {
          "output_type": "display_data",
          "data": {
            "application/javascript": [
              "window[\"f8f63d28-73d6-11eb-bb1a-0242ac1c0002\"] = google.colab.output.setActiveOutputArea(window[\"f8f587f2-73d6-11eb-bb1a-0242ac1c0002\"]);\n",
              "//# sourceURL=js_2f1f1521ec"
            ],
            "text/plain": [
              "<IPython.core.display.Javascript object>"
            ]
          },
          "metadata": {
            "tags": [
              "id2-0-0",
              "outputarea_id2"
            ]
          }
        },
        {
          "output_type": "display_data",
          "data": {
            "application/javascript": [
              "window[\"f9abe646-73d6-11eb-bb1a-0242ac1c0002\"] = google.colab.output.setActiveOutputArea(window[\"f8f4c51a-73d6-11eb-bb1a-0242ac1c0002\"]);\n",
              "//# sourceURL=js_55098b4695"
            ],
            "text/plain": [
              "<IPython.core.display.Javascript object>"
            ]
          },
          "metadata": {
            "tags": [
              "id2-0-0",
              "outputarea_id2"
            ]
          }
        },
        {
          "output_type": "stream",
          "text": [
            "[1 0] 0 False {}\n"
          ],
          "name": "stdout"
        },
        {
          "output_type": "display_data",
          "data": {
            "application/javascript": [
              "window[\"f9aedc70-73d6-11eb-bb1a-0242ac1c0002\"] = google.colab.output.getActiveOutputArea();\n",
              "//# sourceURL=js_d992aae83b"
            ],
            "text/plain": [
              "<IPython.core.display.Javascript object>"
            ]
          },
          "metadata": {
            "tags": [
              "id2-0-0",
              "outputarea_id2"
            ]
          }
        },
        {
          "output_type": "display_data",
          "data": {
            "application/javascript": [
              "window[\"f9af3850-73d6-11eb-bb1a-0242ac1c0002\"] = document.querySelector(\"#id2-0-0\");\n",
              "//# sourceURL=js_999932532f"
            ],
            "text/plain": [
              "<IPython.core.display.Javascript object>"
            ]
          },
          "metadata": {
            "tags": [
              "id2-0-0",
              "outputarea_id2"
            ]
          }
        },
        {
          "output_type": "display_data",
          "data": {
            "application/javascript": [
              "window[\"f9af8d96-73d6-11eb-bb1a-0242ac1c0002\"] = google.colab.output.setActiveOutputArea(window[\"f9af3850-73d6-11eb-bb1a-0242ac1c0002\"]);\n",
              "//# sourceURL=js_e48213ef60"
            ],
            "text/plain": [
              "<IPython.core.display.Javascript object>"
            ]
          },
          "metadata": {
            "tags": [
              "id2-0-0",
              "outputarea_id2"
            ]
          }
        },
        {
          "output_type": "display_data",
          "data": {
            "application/javascript": [
              "window[\"fa648912-73d6-11eb-bb1a-0242ac1c0002\"] = google.colab.output.setActiveOutputArea(window[\"f9aedc70-73d6-11eb-bb1a-0242ac1c0002\"]);\n",
              "//# sourceURL=js_fee7aaa61f"
            ],
            "text/plain": [
              "<IPython.core.display.Javascript object>"
            ]
          },
          "metadata": {
            "tags": [
              "id2-0-0",
              "outputarea_id2"
            ]
          }
        },
        {
          "output_type": "stream",
          "text": [
            "[1 1] 0 False {}\n"
          ],
          "name": "stdout"
        },
        {
          "output_type": "display_data",
          "data": {
            "application/javascript": [
              "window[\"fa66e8d8-73d6-11eb-bb1a-0242ac1c0002\"] = google.colab.output.getActiveOutputArea();\n",
              "//# sourceURL=js_72b92fee18"
            ],
            "text/plain": [
              "<IPython.core.display.Javascript object>"
            ]
          },
          "metadata": {
            "tags": [
              "id2-0-0",
              "outputarea_id2"
            ]
          }
        },
        {
          "output_type": "display_data",
          "data": {
            "application/javascript": [
              "window[\"fa674242-73d6-11eb-bb1a-0242ac1c0002\"] = document.querySelector(\"#id2-0-0\");\n",
              "//# sourceURL=js_b79d055602"
            ],
            "text/plain": [
              "<IPython.core.display.Javascript object>"
            ]
          },
          "metadata": {
            "tags": [
              "id2-0-0",
              "outputarea_id2"
            ]
          }
        },
        {
          "output_type": "display_data",
          "data": {
            "application/javascript": [
              "window[\"fa67a57a-73d6-11eb-bb1a-0242ac1c0002\"] = google.colab.output.setActiveOutputArea(window[\"fa674242-73d6-11eb-bb1a-0242ac1c0002\"]);\n",
              "//# sourceURL=js_dba6894a0b"
            ],
            "text/plain": [
              "<IPython.core.display.Javascript object>"
            ]
          },
          "metadata": {
            "tags": [
              "id2-0-0",
              "outputarea_id2"
            ]
          }
        },
        {
          "output_type": "display_data",
          "data": {
            "application/javascript": [
              "window[\"fb1d966e-73d6-11eb-bb1a-0242ac1c0002\"] = google.colab.output.setActiveOutputArea(window[\"fa66e8d8-73d6-11eb-bb1a-0242ac1c0002\"]);\n",
              "//# sourceURL=js_94c35c89aa"
            ],
            "text/plain": [
              "<IPython.core.display.Javascript object>"
            ]
          },
          "metadata": {
            "tags": [
              "id2-0-0",
              "outputarea_id2"
            ]
          }
        },
        {
          "output_type": "stream",
          "text": [
            "[2 1] 0 False {}\n"
          ],
          "name": "stdout"
        },
        {
          "output_type": "display_data",
          "data": {
            "application/javascript": [
              "window[\"fb1faf6c-73d6-11eb-bb1a-0242ac1c0002\"] = google.colab.output.getActiveOutputArea();\n",
              "//# sourceURL=js_fcca8dddee"
            ],
            "text/plain": [
              "<IPython.core.display.Javascript object>"
            ]
          },
          "metadata": {
            "tags": [
              "id2-0-0",
              "outputarea_id2"
            ]
          }
        },
        {
          "output_type": "display_data",
          "data": {
            "application/javascript": [
              "window[\"fb20091c-73d6-11eb-bb1a-0242ac1c0002\"] = document.querySelector(\"#id2-0-0\");\n",
              "//# sourceURL=js_0063b5168a"
            ],
            "text/plain": [
              "<IPython.core.display.Javascript object>"
            ]
          },
          "metadata": {
            "tags": [
              "id2-0-0",
              "outputarea_id2"
            ]
          }
        },
        {
          "output_type": "display_data",
          "data": {
            "application/javascript": [
              "window[\"fb205a70-73d6-11eb-bb1a-0242ac1c0002\"] = google.colab.output.setActiveOutputArea(window[\"fb20091c-73d6-11eb-bb1a-0242ac1c0002\"]);\n",
              "//# sourceURL=js_3602036f36"
            ],
            "text/plain": [
              "<IPython.core.display.Javascript object>"
            ]
          },
          "metadata": {
            "tags": [
              "id2-0-0",
              "outputarea_id2"
            ]
          }
        },
        {
          "output_type": "display_data",
          "data": {
            "application/javascript": [
              "window[\"fbd6bd2e-73d6-11eb-bb1a-0242ac1c0002\"] = google.colab.output.setActiveOutputArea(window[\"fb1faf6c-73d6-11eb-bb1a-0242ac1c0002\"]);\n",
              "//# sourceURL=js_f3dc17b49c"
            ],
            "text/plain": [
              "<IPython.core.display.Javascript object>"
            ]
          },
          "metadata": {
            "tags": [
              "id2-0-0",
              "outputarea_id2"
            ]
          }
        },
        {
          "output_type": "stream",
          "text": [
            "[2 1] 0 False {}\n"
          ],
          "name": "stdout"
        },
        {
          "output_type": "display_data",
          "data": {
            "application/javascript": [
              "window[\"fbd91e52-73d6-11eb-bb1a-0242ac1c0002\"] = google.colab.output.getActiveOutputArea();\n",
              "//# sourceURL=js_28e0f64375"
            ],
            "text/plain": [
              "<IPython.core.display.Javascript object>"
            ]
          },
          "metadata": {
            "tags": [
              "id2-0-0",
              "outputarea_id2"
            ]
          }
        },
        {
          "output_type": "display_data",
          "data": {
            "application/javascript": [
              "window[\"fbd97e7e-73d6-11eb-bb1a-0242ac1c0002\"] = document.querySelector(\"#id2-0-0\");\n",
              "//# sourceURL=js_90b4c08c33"
            ],
            "text/plain": [
              "<IPython.core.display.Javascript object>"
            ]
          },
          "metadata": {
            "tags": [
              "id2-0-0",
              "outputarea_id2"
            ]
          }
        },
        {
          "output_type": "display_data",
          "data": {
            "application/javascript": [
              "window[\"fbd9d59a-73d6-11eb-bb1a-0242ac1c0002\"] = google.colab.output.setActiveOutputArea(window[\"fbd97e7e-73d6-11eb-bb1a-0242ac1c0002\"]);\n",
              "//# sourceURL=js_3d67a4f8b0"
            ],
            "text/plain": [
              "<IPython.core.display.Javascript object>"
            ]
          },
          "metadata": {
            "tags": [
              "id2-0-0",
              "outputarea_id2"
            ]
          }
        },
        {
          "output_type": "display_data",
          "data": {
            "application/javascript": [
              "window[\"fc97ee54-73d6-11eb-bb1a-0242ac1c0002\"] = google.colab.output.setActiveOutputArea(window[\"fbd91e52-73d6-11eb-bb1a-0242ac1c0002\"]);\n",
              "//# sourceURL=js_ac338ad068"
            ],
            "text/plain": [
              "<IPython.core.display.Javascript object>"
            ]
          },
          "metadata": {
            "tags": [
              "id2-0-0",
              "outputarea_id2"
            ]
          }
        },
        {
          "output_type": "stream",
          "text": [
            "[2 2] 10 True {}\n"
          ],
          "name": "stdout"
        },
        {
          "output_type": "display_data",
          "data": {
            "application/javascript": [
              "window[\"fc9a7372-73d6-11eb-bb1a-0242ac1c0002\"] = google.colab.output.getActiveOutputArea();\n",
              "//# sourceURL=js_d9eff44dbd"
            ],
            "text/plain": [
              "<IPython.core.display.Javascript object>"
            ]
          },
          "metadata": {
            "tags": [
              "id2-0-0",
              "outputarea_id2"
            ]
          }
        },
        {
          "output_type": "display_data",
          "data": {
            "application/javascript": [
              "window[\"fc9ad966-73d6-11eb-bb1a-0242ac1c0002\"] = document.querySelector(\"#id2-0-0\");\n",
              "//# sourceURL=js_abacf64228"
            ],
            "text/plain": [
              "<IPython.core.display.Javascript object>"
            ]
          },
          "metadata": {
            "tags": [
              "id2-0-0",
              "outputarea_id2"
            ]
          }
        },
        {
          "output_type": "display_data",
          "data": {
            "application/javascript": [
              "window[\"fc9b3d2a-73d6-11eb-bb1a-0242ac1c0002\"] = google.colab.output.setActiveOutputArea(window[\"fc9ad966-73d6-11eb-bb1a-0242ac1c0002\"]);\n",
              "//# sourceURL=js_9456f2104e"
            ],
            "text/plain": [
              "<IPython.core.display.Javascript object>"
            ]
          },
          "metadata": {
            "tags": [
              "id2-0-0",
              "outputarea_id2"
            ]
          }
        },
        {
          "output_type": "display_data",
          "data": {
            "image/png": "[encoded data removed]",
            "text/plain": [
              "<Figure size 432x288 with 1 Axes>"
            ]
          },
          "metadata": {
            "tags": [
              "id2-0-0",
              "outputarea_id2",
              "user_output"
            ],
            "needs_background": "light"
          }
        },
        {
          "output_type": "display_data",
          "data": {
            "application/javascript": [
              "window[\"fd526b94-73d6-11eb-bb1a-0242ac1c0002\"] = google.colab.output.setActiveOutputArea(window[\"fc9a7372-73d6-11eb-bb1a-0242ac1c0002\"]);\n",
              "//# sourceURL=js_5d3db88c5e"
            ],
            "text/plain": [
              "<IPython.core.display.Javascript object>"
            ]
          },
          "metadata": {
            "tags": [
              "id2-0-0",
              "outputarea_id2"
            ]
          }
        }
      ]
    },
    {
      "cell_type": "markdown",
      "metadata": {
        "id": "DkHLsqNZ3A0I"
      },
      "source": [
        "Running the random agent in the *stochastic* environment"
      ]
    },
    {
      "cell_type": "code",
      "metadata": {
        "colab": {
          "base_uri": "https://localhost:8080/",
          "height": 443
        },
        "id": "fuyJoqAJyfjY",
        "outputId": "84eb46ef-1671-41f2-ec24-bc610e7b36aa"
      },
      "source": [
        "sto_environment= StochasticEnvironment()\n",
        "sto_agent= RandomAgent(env= sto_environment)\n",
        "sto_observation= sto_environment.reset()\n",
        "sto_done= False\n",
        "\n",
        "sto_output_grid= widgets.Grid(1, 1)\n",
        "\n",
        "# Test render of environment within widget grid\n",
        "with sto_output_grid.output_to(0, 0):\n",
        "  sto_environment.render()\n",
        "\n",
        "# MDP loop\n",
        "while not sto_done:\n",
        "  sto_action= sto_agent.step(det_observation)\n",
        "  sto_observation, sto_reward, sto_done, sto_info= sto_environment.step(sto_action)\n",
        "  print(sto_observation, sto_reward, sto_done, sto_info)\n",
        "\n",
        "  with sto_output_grid.output_to(0, 0):\n",
        "    sto_output_grid.clear_cell()\n",
        "    sto_environment.render()\n",
        "    time.sleep(1)"
      ],
      "execution_count": null,
      "outputs": [
        {
          "output_type": "display_data",
          "data": {
            "text/html": [
              "<style>\n",
              "       table#id4, #id4 > tbody > tr > th, #id4 > tbody > tr > td {\n",
              "         border: 1px solid lightgray;\n",
              "         border-collapse:collapse;\n",
              "         \n",
              "        }</style>"
            ],
            "text/plain": [
              "<IPython.core.display.HTML object>"
            ]
          },
          "metadata": {
            "tags": [
              "outputarea_id4"
            ]
          }
        },
        {
          "output_type": "display_data",
          "data": {
            "text/html": [
              "<table id=id4><tr><td id=id4-0-0></td></tr></table>"
            ],
            "text/plain": [
              "<IPython.core.display.HTML object>"
            ]
          },
          "metadata": {
            "tags": [
              "outputarea_id4"
            ]
          }
        },
        {
          "output_type": "display_data",
          "data": {
            "application/javascript": [
              "window[\"fd5a0232-73d6-11eb-bb1a-0242ac1c0002\"] = google.colab.output.getActiveOutputArea();\n",
              "//# sourceURL=js_6caa375565"
            ],
            "text/plain": [
              "<IPython.core.display.Javascript object>"
            ]
          },
          "metadata": {
            "tags": [
              "id4-0-0",
              "outputarea_id4"
            ]
          }
        },
        {
          "output_type": "display_data",
          "data": {
            "application/javascript": [
              "window[\"fd5a5d0e-73d6-11eb-bb1a-0242ac1c0002\"] = document.querySelector(\"#id4-0-0\");\n",
              "//# sourceURL=js_17cd0efecb"
            ],
            "text/plain": [
              "<IPython.core.display.Javascript object>"
            ]
          },
          "metadata": {
            "tags": [
              "id4-0-0",
              "outputarea_id4"
            ]
          }
        },
        {
          "output_type": "display_data",
          "data": {
            "application/javascript": [
              "window[\"fd5aca78-73d6-11eb-bb1a-0242ac1c0002\"] = google.colab.output.setActiveOutputArea(window[\"fd5a5d0e-73d6-11eb-bb1a-0242ac1c0002\"]);\n",
              "//# sourceURL=js_113884461e"
            ],
            "text/plain": [
              "<IPython.core.display.Javascript object>"
            ]
          },
          "metadata": {
            "tags": [
              "id4-0-0",
              "outputarea_id4"
            ]
          }
        },
        {
          "output_type": "display_data",
          "data": {
            "application/javascript": [
              "window[\"fd7606e4-73d6-11eb-bb1a-0242ac1c0002\"] = google.colab.output.setActiveOutputArea(window[\"fd5a0232-73d6-11eb-bb1a-0242ac1c0002\"]);\n",
              "//# sourceURL=js_e5bd2cb834"
            ],
            "text/plain": [
              "<IPython.core.display.Javascript object>"
            ]
          },
          "metadata": {
            "tags": [
              "id4-0-0",
              "outputarea_id4"
            ]
          }
        },
        {
          "output_type": "stream",
          "text": [
            "[0 1] 0 False {}\n"
          ],
          "name": "stdout"
        },
        {
          "output_type": "display_data",
          "data": {
            "application/javascript": [
              "window[\"fd781e5c-73d6-11eb-bb1a-0242ac1c0002\"] = google.colab.output.getActiveOutputArea();\n",
              "//# sourceURL=js_f4099c8a2e"
            ],
            "text/plain": [
              "<IPython.core.display.Javascript object>"
            ]
          },
          "metadata": {
            "tags": [
              "id4-0-0",
              "outputarea_id4"
            ]
          }
        },
        {
          "output_type": "display_data",
          "data": {
            "application/javascript": [
              "window[\"fd786a9c-73d6-11eb-bb1a-0242ac1c0002\"] = document.querySelector(\"#id4-0-0\");\n",
              "//# sourceURL=js_eb9d17018f"
            ],
            "text/plain": [
              "<IPython.core.display.Javascript object>"
            ]
          },
          "metadata": {
            "tags": [
              "id4-0-0",
              "outputarea_id4"
            ]
          }
        },
        {
          "output_type": "display_data",
          "data": {
            "application/javascript": [
              "window[\"fd78bace-73d6-11eb-bb1a-0242ac1c0002\"] = google.colab.output.setActiveOutputArea(window[\"fd786a9c-73d6-11eb-bb1a-0242ac1c0002\"]);\n",
              "//# sourceURL=js_1797544c53"
            ],
            "text/plain": [
              "<IPython.core.display.Javascript object>"
            ]
          },
          "metadata": {
            "tags": [
              "id4-0-0",
              "outputarea_id4"
            ]
          }
        },
        {
          "output_type": "display_data",
          "data": {
            "application/javascript": [
              "window[\"fe2e6d38-73d6-11eb-bb1a-0242ac1c0002\"] = google.colab.output.setActiveOutputArea(window[\"fd781e5c-73d6-11eb-bb1a-0242ac1c0002\"]);\n",
              "//# sourceURL=js_4c23d1dc12"
            ],
            "text/plain": [
              "<IPython.core.display.Javascript object>"
            ]
          },
          "metadata": {
            "tags": [
              "id4-0-0",
              "outputarea_id4"
            ]
          }
        },
        {
          "output_type": "stream",
          "text": [
            "[1 1] 0 False {}\n"
          ],
          "name": "stdout"
        },
        {
          "output_type": "display_data",
          "data": {
            "application/javascript": [
              "window[\"fe3054fe-73d6-11eb-bb1a-0242ac1c0002\"] = google.colab.output.getActiveOutputArea();\n",
              "//# sourceURL=js_d4c275a78f"
            ],
            "text/plain": [
              "<IPython.core.display.Javascript object>"
            ]
          },
          "metadata": {
            "tags": [
              "id4-0-0",
              "outputarea_id4"
            ]
          }
        },
        {
          "output_type": "display_data",
          "data": {
            "application/javascript": [
              "window[\"fe30a3be-73d6-11eb-bb1a-0242ac1c0002\"] = document.querySelector(\"#id4-0-0\");\n",
              "//# sourceURL=js_65f34a6ba4"
            ],
            "text/plain": [
              "<IPython.core.display.Javascript object>"
            ]
          },
          "metadata": {
            "tags": [
              "id4-0-0",
              "outputarea_id4"
            ]
          }
        },
        {
          "output_type": "display_data",
          "data": {
            "application/javascript": [
              "window[\"fe310ff2-73d6-11eb-bb1a-0242ac1c0002\"] = google.colab.output.setActiveOutputArea(window[\"fe30a3be-73d6-11eb-bb1a-0242ac1c0002\"]);\n",
              "//# sourceURL=js_64557cbdd5"
            ],
            "text/plain": [
              "<IPython.core.display.Javascript object>"
            ]
          },
          "metadata": {
            "tags": [
              "id4-0-0",
              "outputarea_id4"
            ]
          }
        },
        {
          "output_type": "display_data",
          "data": {
            "application/javascript": [
              "window[\"fee725b2-73d6-11eb-bb1a-0242ac1c0002\"] = google.colab.output.setActiveOutputArea(window[\"fe3054fe-73d6-11eb-bb1a-0242ac1c0002\"]);\n",
              "//# sourceURL=js_f8aa7e8f8e"
            ],
            "text/plain": [
              "<IPython.core.display.Javascript object>"
            ]
          },
          "metadata": {
            "tags": [
              "id4-0-0",
              "outputarea_id4"
            ]
          }
        },
        {
          "output_type": "stream",
          "text": [
            "[1 0] 0 False {}\n"
          ],
          "name": "stdout"
        },
        {
          "output_type": "display_data",
          "data": {
            "application/javascript": [
              "window[\"feeac672-73d6-11eb-bb1a-0242ac1c0002\"] = google.colab.output.getActiveOutputArea();\n",
              "//# sourceURL=js_1bce283ede"
            ],
            "text/plain": [
              "<IPython.core.display.Javascript object>"
            ]
          },
          "metadata": {
            "tags": [
              "id4-0-0",
              "outputarea_id4"
            ]
          }
        },
        {
          "output_type": "display_data",
          "data": {
            "application/javascript": [
              "window[\"feeb22de-73d6-11eb-bb1a-0242ac1c0002\"] = document.querySelector(\"#id4-0-0\");\n",
              "//# sourceURL=js_6b06fc6c6f"
            ],
            "text/plain": [
              "<IPython.core.display.Javascript object>"
            ]
          },
          "metadata": {
            "tags": [
              "id4-0-0",
              "outputarea_id4"
            ]
          }
        },
        {
          "output_type": "display_data",
          "data": {
            "application/javascript": [
              "window[\"feeb716c-73d6-11eb-bb1a-0242ac1c0002\"] = google.colab.output.setActiveOutputArea(window[\"feeb22de-73d6-11eb-bb1a-0242ac1c0002\"]);\n",
              "//# sourceURL=js_5fe57b18cb"
            ],
            "text/plain": [
              "<IPython.core.display.Javascript object>"
            ]
          },
          "metadata": {
            "tags": [
              "id4-0-0",
              "outputarea_id4"
            ]
          }
        },
        {
          "output_type": "display_data",
          "data": {
            "application/javascript": [
              "window[\"ffa03250-73d6-11eb-bb1a-0242ac1c0002\"] = google.colab.output.setActiveOutputArea(window[\"feeac672-73d6-11eb-bb1a-0242ac1c0002\"]);\n",
              "//# sourceURL=js_cdc1c0460b"
            ],
            "text/plain": [
              "<IPython.core.display.Javascript object>"
            ]
          },
          "metadata": {
            "tags": [
              "id4-0-0",
              "outputarea_id4"
            ]
          }
        },
        {
          "output_type": "stream",
          "text": [
            "[0 0] 0 False {}\n"
          ],
          "name": "stdout"
        },
        {
          "output_type": "display_data",
          "data": {
            "application/javascript": [
              "window[\"ffa2602a-73d6-11eb-bb1a-0242ac1c0002\"] = google.colab.output.getActiveOutputArea();\n",
              "//# sourceURL=js_6c96161777"
            ],
            "text/plain": [
              "<IPython.core.display.Javascript object>"
            ]
          },
          "metadata": {
            "tags": [
              "id4-0-0",
              "outputarea_id4"
            ]
          }
        },
        {
          "output_type": "display_data",
          "data": {
            "application/javascript": [
              "window[\"ffa2b50c-73d6-11eb-bb1a-0242ac1c0002\"] = document.querySelector(\"#id4-0-0\");\n",
              "//# sourceURL=js_7f85404d4d"
            ],
            "text/plain": [
              "<IPython.core.display.Javascript object>"
            ]
          },
          "metadata": {
            "tags": [
              "id4-0-0",
              "outputarea_id4"
            ]
          }
        },
        {
          "output_type": "display_data",
          "data": {
            "application/javascript": [
              "window[\"ffa30534-73d6-11eb-bb1a-0242ac1c0002\"] = google.colab.output.setActiveOutputArea(window[\"ffa2b50c-73d6-11eb-bb1a-0242ac1c0002\"]);\n",
              "//# sourceURL=js_207b0b9dea"
            ],
            "text/plain": [
              "<IPython.core.display.Javascript object>"
            ]
          },
          "metadata": {
            "tags": [
              "id4-0-0",
              "outputarea_id4"
            ]
          }
        },
        {
          "output_type": "display_data",
          "data": {
            "application/javascript": [
              "window[\"00586b0e-73d7-11eb-bb1a-0242ac1c0002\"] = google.colab.output.setActiveOutputArea(window[\"ffa2602a-73d6-11eb-bb1a-0242ac1c0002\"]);\n",
              "//# sourceURL=js_e644d72e1a"
            ],
            "text/plain": [
              "<IPython.core.display.Javascript object>"
            ]
          },
          "metadata": {
            "tags": [
              "id4-0-0",
              "outputarea_id4"
            ]
          }
        },
        {
          "output_type": "stream",
          "text": [
            "[0 0] 0 False {}\n"
          ],
          "name": "stdout"
        },
        {
          "output_type": "display_data",
          "data": {
            "application/javascript": [
              "window[\"005abb0c-73d7-11eb-bb1a-0242ac1c0002\"] = google.colab.output.getActiveOutputArea();\n",
              "//# sourceURL=js_fa17d724cb"
            ],
            "text/plain": [
              "<IPython.core.display.Javascript object>"
            ]
          },
          "metadata": {
            "tags": [
              "id4-0-0",
              "outputarea_id4"
            ]
          }
        },
        {
          "output_type": "display_data",
          "data": {
            "application/javascript": [
              "window[\"005b0d82-73d7-11eb-bb1a-0242ac1c0002\"] = document.querySelector(\"#id4-0-0\");\n",
              "//# sourceURL=js_ebfe86a9eb"
            ],
            "text/plain": [
              "<IPython.core.display.Javascript object>"
            ]
          },
          "metadata": {
            "tags": [
              "id4-0-0",
              "outputarea_id4"
            ]
          }
        },
        {
          "output_type": "display_data",
          "data": {
            "application/javascript": [
              "window[\"005b5eea-73d7-11eb-bb1a-0242ac1c0002\"] = google.colab.output.setActiveOutputArea(window[\"005b0d82-73d7-11eb-bb1a-0242ac1c0002\"]);\n",
              "//# sourceURL=js_7a1ead6e2f"
            ],
            "text/plain": [
              "<IPython.core.display.Javascript object>"
            ]
          },
          "metadata": {
            "tags": [
              "id4-0-0",
              "outputarea_id4"
            ]
          }
        },
        {
          "output_type": "display_data",
          "data": {
            "application/javascript": [
              "window[\"0112f73a-73d7-11eb-bb1a-0242ac1c0002\"] = google.colab.output.setActiveOutputArea(window[\"005abb0c-73d7-11eb-bb1a-0242ac1c0002\"]);\n",
              "//# sourceURL=js_9df66bcc42"
            ],
            "text/plain": [
              "<IPython.core.display.Javascript object>"
            ]
          },
          "metadata": {
            "tags": [
              "id4-0-0",
              "outputarea_id4"
            ]
          }
        },
        {
          "output_type": "stream",
          "text": [
            "[0 0] 0 False {}\n"
          ],
          "name": "stdout"
        },
        {
          "output_type": "display_data",
          "data": {
            "application/javascript": [
              "window[\"011597e2-73d7-11eb-bb1a-0242ac1c0002\"] = google.colab.output.getActiveOutputArea();\n",
              "//# sourceURL=js_daa25c0bea"
            ],
            "text/plain": [
              "<IPython.core.display.Javascript object>"
            ]
          },
          "metadata": {
            "tags": [
              "id4-0-0",
              "outputarea_id4"
            ]
          }
        },
        {
          "output_type": "display_data",
          "data": {
            "application/javascript": [
              "window[\"0115f0ca-73d7-11eb-bb1a-0242ac1c0002\"] = document.querySelector(\"#id4-0-0\");\n",
              "//# sourceURL=js_b69032627a"
            ],
            "text/plain": [
              "<IPython.core.display.Javascript object>"
            ]
          },
          "metadata": {
            "tags": [
              "id4-0-0",
              "outputarea_id4"
            ]
          }
        },
        {
          "output_type": "display_data",
          "data": {
            "application/javascript": [
              "window[\"0116428c-73d7-11eb-bb1a-0242ac1c0002\"] = google.colab.output.setActiveOutputArea(window[\"0115f0ca-73d7-11eb-bb1a-0242ac1c0002\"]);\n",
              "//# sourceURL=js_9bb9822228"
            ],
            "text/plain": [
              "<IPython.core.display.Javascript object>"
            ]
          },
          "metadata": {
            "tags": [
              "id4-0-0",
              "outputarea_id4"
            ]
          }
        },
        {
          "output_type": "display_data",
          "data": {
            "application/javascript": [
              "window[\"01cd4982-73d7-11eb-bb1a-0242ac1c0002\"] = google.colab.output.setActiveOutputArea(window[\"011597e2-73d7-11eb-bb1a-0242ac1c0002\"]);\n",
              "//# sourceURL=js_54b7c4d47c"
            ],
            "text/plain": [
              "<IPython.core.display.Javascript object>"
            ]
          },
          "metadata": {
            "tags": [
              "id4-0-0",
              "outputarea_id4"
            ]
          }
        },
        {
          "output_type": "stream",
          "text": [
            "[0 1] 0 False {}\n"
          ],
          "name": "stdout"
        },
        {
          "output_type": "display_data",
          "data": {
            "application/javascript": [
              "window[\"01d01e32-73d7-11eb-bb1a-0242ac1c0002\"] = google.colab.output.getActiveOutputArea();\n",
              "//# sourceURL=js_d06ea3d81b"
            ],
            "text/plain": [
              "<IPython.core.display.Javascript object>"
            ]
          },
          "metadata": {
            "tags": [
              "id4-0-0",
              "outputarea_id4"
            ]
          }
        },
        {
          "output_type": "display_data",
          "data": {
            "application/javascript": [
              "window[\"01d079b8-73d7-11eb-bb1a-0242ac1c0002\"] = document.querySelector(\"#id4-0-0\");\n",
              "//# sourceURL=js_a25ff81035"
            ],
            "text/plain": [
              "<IPython.core.display.Javascript object>"
            ]
          },
          "metadata": {
            "tags": [
              "id4-0-0",
              "outputarea_id4"
            ]
          }
        },
        {
          "output_type": "display_data",
          "data": {
            "application/javascript": [
              "window[\"01d0c1c0-73d7-11eb-bb1a-0242ac1c0002\"] = google.colab.output.setActiveOutputArea(window[\"01d079b8-73d7-11eb-bb1a-0242ac1c0002\"]);\n",
              "//# sourceURL=js_e4a9bfc8a7"
            ],
            "text/plain": [
              "<IPython.core.display.Javascript object>"
            ]
          },
          "metadata": {
            "tags": [
              "id4-0-0",
              "outputarea_id4"
            ]
          }
        },
        {
          "output_type": "display_data",
          "data": {
            "application/javascript": [
              "window[\"02861e12-73d7-11eb-bb1a-0242ac1c0002\"] = google.colab.output.setActiveOutputArea(window[\"01d01e32-73d7-11eb-bb1a-0242ac1c0002\"]);\n",
              "//# sourceURL=js_b044945311"
            ],
            "text/plain": [
              "<IPython.core.display.Javascript object>"
            ]
          },
          "metadata": {
            "tags": [
              "id4-0-0",
              "outputarea_id4"
            ]
          }
        },
        {
          "output_type": "stream",
          "text": [
            "[0 0] 0 False {}\n"
          ],
          "name": "stdout"
        },
        {
          "output_type": "display_data",
          "data": {
            "application/javascript": [
              "window[\"0288484a-73d7-11eb-bb1a-0242ac1c0002\"] = google.colab.output.getActiveOutputArea();\n",
              "//# sourceURL=js_f28d398a16"
            ],
            "text/plain": [
              "<IPython.core.display.Javascript object>"
            ]
          },
          "metadata": {
            "tags": [
              "id4-0-0",
              "outputarea_id4"
            ]
          }
        },
        {
          "output_type": "display_data",
          "data": {
            "application/javascript": [
              "window[\"0288a790-73d7-11eb-bb1a-0242ac1c0002\"] = document.querySelector(\"#id4-0-0\");\n",
              "//# sourceURL=js_834131f7dc"
            ],
            "text/plain": [
              "<IPython.core.display.Javascript object>"
            ]
          },
          "metadata": {
            "tags": [
              "id4-0-0",
              "outputarea_id4"
            ]
          }
        },
        {
          "output_type": "display_data",
          "data": {
            "application/javascript": [
              "window[\"0288edae-73d7-11eb-bb1a-0242ac1c0002\"] = google.colab.output.setActiveOutputArea(window[\"0288a790-73d7-11eb-bb1a-0242ac1c0002\"]);\n",
              "//# sourceURL=js_6b1f6d1460"
            ],
            "text/plain": [
              "<IPython.core.display.Javascript object>"
            ]
          },
          "metadata": {
            "tags": [
              "id4-0-0",
              "outputarea_id4"
            ]
          }
        },
        {
          "output_type": "display_data",
          "data": {
            "application/javascript": [
              "window[\"033f35e6-73d7-11eb-bb1a-0242ac1c0002\"] = google.colab.output.setActiveOutputArea(window[\"0288484a-73d7-11eb-bb1a-0242ac1c0002\"]);\n",
              "//# sourceURL=js_56c6a73b80"
            ],
            "text/plain": [
              "<IPython.core.display.Javascript object>"
            ]
          },
          "metadata": {
            "tags": [
              "id4-0-0",
              "outputarea_id4"
            ]
          }
        },
        {
          "output_type": "stream",
          "text": [
            "[0 1] 0 False {}\n"
          ],
          "name": "stdout"
        },
        {
          "output_type": "display_data",
          "data": {
            "application/javascript": [
              "window[\"0341f8b2-73d7-11eb-bb1a-0242ac1c0002\"] = google.colab.output.getActiveOutputArea();\n",
              "//# sourceURL=js_ec28373d29"
            ],
            "text/plain": [
              "<IPython.core.display.Javascript object>"
            ]
          },
          "metadata": {
            "tags": [
              "id4-0-0",
              "outputarea_id4"
            ]
          }
        },
        {
          "output_type": "display_data",
          "data": {
            "application/javascript": [
              "window[\"0342640a-73d7-11eb-bb1a-0242ac1c0002\"] = document.querySelector(\"#id4-0-0\");\n",
              "//# sourceURL=js_e68917b975"
            ],
            "text/plain": [
              "<IPython.core.display.Javascript object>"
            ]
          },
          "metadata": {
            "tags": [
              "id4-0-0",
              "outputarea_id4"
            ]
          }
        },
        {
          "output_type": "display_data",
          "data": {
            "application/javascript": [
              "window[\"0342bf86-73d7-11eb-bb1a-0242ac1c0002\"] = google.colab.output.setActiveOutputArea(window[\"0342640a-73d7-11eb-bb1a-0242ac1c0002\"]);\n",
              "//# sourceURL=js_00df3cbaf7"
            ],
            "text/plain": [
              "<IPython.core.display.Javascript object>"
            ]
          },
          "metadata": {
            "tags": [
              "id4-0-0",
              "outputarea_id4"
            ]
          }
        },
        {
          "output_type": "display_data",
          "data": {
            "application/javascript": [
              "window[\"03f8c84e-73d7-11eb-bb1a-0242ac1c0002\"] = google.colab.output.setActiveOutputArea(window[\"0341f8b2-73d7-11eb-bb1a-0242ac1c0002\"]);\n",
              "//# sourceURL=js_dd4720880c"
            ],
            "text/plain": [
              "<IPython.core.display.Javascript object>"
            ]
          },
          "metadata": {
            "tags": [
              "id4-0-0",
              "outputarea_id4"
            ]
          }
        },
        {
          "output_type": "stream",
          "text": [
            "[1 1] 0 True {}\n"
          ],
          "name": "stdout"
        },
        {
          "output_type": "display_data",
          "data": {
            "application/javascript": [
              "window[\"03fb6676-73d7-11eb-bb1a-0242ac1c0002\"] = google.colab.output.getActiveOutputArea();\n",
              "//# sourceURL=js_248ae75bd9"
            ],
            "text/plain": [
              "<IPython.core.display.Javascript object>"
            ]
          },
          "metadata": {
            "tags": [
              "id4-0-0",
              "outputarea_id4"
            ]
          }
        },
        {
          "output_type": "display_data",
          "data": {
            "application/javascript": [
              "window[\"03fbc74c-73d7-11eb-bb1a-0242ac1c0002\"] = document.querySelector(\"#id4-0-0\");\n",
              "//# sourceURL=js_b427e9b433"
            ],
            "text/plain": [
              "<IPython.core.display.Javascript object>"
            ]
          },
          "metadata": {
            "tags": [
              "id4-0-0",
              "outputarea_id4"
            ]
          }
        },
        {
          "output_type": "display_data",
          "data": {
            "application/javascript": [
              "window[\"03fc1e22-73d7-11eb-bb1a-0242ac1c0002\"] = google.colab.output.setActiveOutputArea(window[\"03fbc74c-73d7-11eb-bb1a-0242ac1c0002\"]);\n",
              "//# sourceURL=js_6277fb46b7"
            ],
            "text/plain": [
              "<IPython.core.display.Javascript object>"
            ]
          },
          "metadata": {
            "tags": [
              "id4-0-0",
              "outputarea_id4"
            ]
          }
        },
        {
          "output_type": "display_data",
          "data": {
            "image/png": "[encoded data removed]",
            "text/plain": [
              "<Figure size 432x288 with 1 Axes>"
            ]
          },
          "metadata": {
            "tags": [
              "id4-0-0",
              "outputarea_id4",
              "user_output"
            ],
            "needs_background": "light"
          }
        },
        {
          "output_type": "display_data",
          "data": {
            "application/javascript": [
              "window[\"04b590c8-73d7-11eb-bb1a-0242ac1c0002\"] = google.colab.output.setActiveOutputArea(window[\"03fb6676-73d7-11eb-bb1a-0242ac1c0002\"]);\n",
              "//# sourceURL=js_294a3588ff"
            ],
            "text/plain": [
              "<IPython.core.display.Javascript object>"
            ]
          },
          "metadata": {
            "tags": [
              "id4-0-0",
              "outputarea_id4"
            ]
          }
        }
      ]
    }
  ]
}