{
  "nbformat": 4,
  "nbformat_minor": 0,
  "metadata": {
    "colab": {
      "name": "main.ipynb",
      "provenance": []
    },
    "kernelspec": {
      "name": "python3",
      "display_name": "Python 3"
    }
  },
  "cells": [
    {
      "cell_type": "markdown",
      "metadata": {
        "id": "e13KGdjfy84h"
      },
      "source": [
        "CSE 546 - Reinforcement Learning\n",
        "# Assignment 1 - *Defining & Solving RL Environments*"
      ]
    },
    {
      "cell_type": "markdown",
      "metadata": {
        "id": "yCRK74DTyHZG"
      },
      "source": [
        "## Prerequisites"
      ]
    },
    {
      "cell_type": "markdown",
      "metadata": {
        "id": "Ki-gD2pYw1Nk"
      },
      "source": [
        "*Installing required libraries*"
      ]
    },
    {
      "cell_type": "code",
      "metadata": {
        "colab": {
          "base_uri": "https://localhost:8080/"
        },
        "id": "1X_iEXBOtYnV",
        "outputId": "dc875265-ad73-43f3-cd6b-f363e9c710a1"
      },
      "source": [
        "!pip install gym"
      ],
      "execution_count": 1,
      "outputs": [
        {
          "output_type": "stream",
          "text": [
            "Requirement already satisfied: gym in /usr/local/lib/python3.7/dist-packages (0.17.3)\n",
            "Requirement already satisfied: cloudpickle<1.7.0,>=1.2.0 in /usr/local/lib/python3.7/dist-packages (from gym) (1.3.0)\n",
            "Requirement already satisfied: numpy>=1.10.4 in /usr/local/lib/python3.7/dist-packages (from gym) (1.19.5)\n",
            "Requirement already satisfied: pyglet<=1.5.0,>=1.4.0 in /usr/local/lib/python3.7/dist-packages (from gym) (1.5.0)\n",
            "Requirement already satisfied: scipy in /usr/local/lib/python3.7/dist-packages (from gym) (1.4.1)\n",
            "Requirement already satisfied: future in /usr/local/lib/python3.7/dist-packages (from pyglet<=1.5.0,>=1.4.0->gym) (0.16.0)\n"
          ],
          "name": "stdout"
        }
      ]
    },
    {
      "cell_type": "markdown",
      "metadata": {
        "id": "mu24zxFEw43a"
      },
      "source": [
        "*Importing required libraries*"
      ]
    },
    {
      "cell_type": "code",
      "metadata": {
        "id": "KTj1tKPDtdwI"
      },
      "source": [
        "import gym\n",
        "import math\n",
        "import time\n",
        "import pickle\n",
        "import random\n",
        "import numpy as np\n",
        "import matplotlib.pyplot as plt\n",
        "\n",
        "from gym import spaces\n",
        "from google.colab import widgets\n",
        "from IPython.display import clear_output"
      ],
      "execution_count": 2,
      "outputs": []
    },
    {
      "cell_type": "markdown",
      "metadata": {
        "id": "F_JSTp8lyfJd"
      },
      "source": [
        "*Initializing the positions of the agent, goal, and rewards*"
      ]
    },
    {
      "cell_type": "code",
      "metadata": {
        "id": "7vMSjFmIyfzE"
      },
      "source": [
        "AGENT_POS= [0, 0]\n",
        "DIAMOND_POS= [1, 3]\n",
        "COIN_POS= [3, 2]\n",
        "MONSTER_POS= [2, 1]\n",
        "GOAL_POS= [3, 3]"
      ],
      "execution_count": 3,
      "outputs": []
    },
    {
      "cell_type": "markdown",
      "metadata": {
        "id": "yVgyRqLow8M7"
      },
      "source": [
        "*Pre-defining the minimum number of states and actions that will be used in the environment*"
      ]
    },
    {
      "cell_type": "code",
      "metadata": {
        "id": "RDjZbGdJt6Ru"
      },
      "source": [
        "N_STATES= 16\n",
        "N_ACTIONS= 4\n",
        "MAX_TIMESTEPS= 50"
      ],
      "execution_count": 4,
      "outputs": []
    },
    {
      "cell_type": "markdown",
      "metadata": {
        "id": "wBsMUtH3ooN5"
      },
      "source": [
        "*Initializing lookup dictionaries for states & actions*"
      ]
    },
    {
      "cell_type": "code",
      "metadata": {
        "id": "67S4ZywlmRO7"
      },
      "source": [
        "STATE_LOOKUP= dict()\n",
        "ACTION_LOOKUP= {0: 'Down', 1: 'Up', 2: 'Right', 3: 'Left'}\n",
        "\n",
        "k= 0\n",
        "for i in range(4):\n",
        "  for j in range(4):\n",
        "    STATE_LOOKUP[(i, j)]= k\n",
        "    k+= 1"
      ],
      "execution_count": 5,
      "outputs": []
    },
    {
      "cell_type": "markdown",
      "metadata": {
        "id": "VJqdDeT4RSLx"
      },
      "source": [
        "## Defining Environments"
      ]
    },
    {
      "cell_type": "markdown",
      "metadata": {
        "id": "i1bN9AigxDeT"
      },
      "source": [
        "### Deterministic Environment\n"
      ]
    },
    {
      "cell_type": "markdown",
      "metadata": {
        "id": "YhewMWSnxjcA"
      },
      "source": [
        "*Defining a simple 4x4 deterministic environment*"
      ]
    },
    {
      "cell_type": "code",
      "metadata": {
        "id": "c9Ci1dwrtrPm"
      },
      "source": [
        "class DeterministicEnvironment(gym.Env):\n",
        "  metadata= {'render.modes': []}\n",
        "\n",
        "  def __init__(self):\n",
        "    '''\n",
        "    Initializes the number of states, action, & maximum timestep of the environment\n",
        "    '''\n",
        "\n",
        "    self.observation_space= spaces.Discrete(N_STATES)\n",
        "    self.action_space= spaces.Discrete(N_ACTIONS)\n",
        "    self.max_timesteps= MAX_TIMESTEPS\n",
        "\n",
        "  def reset(self):\n",
        "    '''\n",
        "    Resets the environment to its default setup\n",
        "\n",
        "    Output:\n",
        "      observation: 2-element list - Coordinates of the agent's default position in the grid\n",
        "    '''\n",
        "\n",
        "    self.timestep= 0\n",
        "\n",
        "    self.agent_pos= AGENT_POS.copy()\n",
        "    self.diamond_pos= DIAMOND_POS.copy()\n",
        "    self.coin_pos= COIN_POS.copy()\n",
        "    self.monster_pos= MONSTER_POS.copy()\n",
        "    self.goal_pos= GOAL_POS.copy()\n",
        "\n",
        "    self.state= np.zeros((4, 4))\n",
        "\n",
        "    self.state[tuple(self.agent_pos)]= 1\n",
        "    self.state[tuple(self.diamond_pos)]= 5\n",
        "    self.state[tuple(self.coin_pos)]= 3\n",
        "    self.state[tuple(self.monster_pos)]= -5\n",
        "    self.state[tuple(self.goal_pos)]= 10\n",
        "    \n",
        "    agent_state= self.agent_pos\n",
        "\n",
        "    return STATE_LOOKUP[tuple(agent_state)]\n",
        "\n",
        "  def step(self, action: int):\n",
        "    '''\n",
        "    1. Moves the agent as per the given action\n",
        "    2. Sets the rewards per state in the environment\n",
        "    3. Calculates the reward of the new state\n",
        "\n",
        "    Input:\n",
        "      action: int - Action to be performed\n",
        "\n",
        "    Output:\n",
        "      action: int - Action taken\n",
        "      observation: 2-element list\n",
        "      reward: int - State reward\n",
        "      done: bool - Denotes if the learning is complete (or) goal is reached\n",
        "      info: dict\n",
        "    '''\n",
        "\n",
        "    # Initializing the grid\n",
        "    self.state= np.zeros((4, 4))\n",
        "\n",
        "    # Move the agent\n",
        "    if action == 0: # Go down one step\n",
        "      self.agent_pos[0] += 1\n",
        "    if action == 1: # Go up one step\n",
        "      self.agent_pos[0] -= 1\n",
        "    if action == 2: # Go right one step\n",
        "      self.agent_pos[1] += 1\n",
        "    if action == 3: # Go left one step\n",
        "      self.agent_pos[1] -= 1\n",
        "\n",
        "    # To keep the agent within the confines of the environment\n",
        "    self.agent_pos= np.clip(self.agent_pos, 0, 3)\n",
        "\n",
        "    # Initialize the state rewards\n",
        "    self.state[tuple(self.agent_pos)]= 1\n",
        "    self.state[tuple(self.diamond_pos)]= 5\n",
        "    self.state[tuple(self.coin_pos)]= 3\n",
        "    self.state[tuple(self.monster_pos)]= -5\n",
        "    self.state[tuple(self.goal_pos)]= 10\n",
        "\n",
        "    agent_state= self.agent_pos\n",
        "\n",
        "    # Calculates the reward for the action\n",
        "    reward= 0\n",
        "    if (self.agent_pos == self.diamond_pos).all():\n",
        "      reward += 5\n",
        "    if (self.agent_pos == self.coin_pos).all():\n",
        "      reward += 3\n",
        "    if (self.agent_pos == self.monster_pos).all():\n",
        "      reward -= 5\n",
        "    if (self.agent_pos == self.goal_pos).all():\n",
        "      reward += 10\n",
        "\n",
        "    # Timestep increment\n",
        "    self.timestep += 1\n",
        "\n",
        "    done= True if ((self.timestep >= self.max_timesteps) or (self.agent_pos == self.goal_pos).all()) else False\n",
        "    info= {}\n",
        "\n",
        "    return STATE_LOOKUP[tuple(agent_state)], reward, done, info\n",
        "\n",
        "  def render(self):\n",
        "    '''\n",
        "    Provides pictorial representation of environment\n",
        "    '''\n",
        "\n",
        "    plt.imshow(self.state)"
      ],
      "execution_count": 6,
      "outputs": []
    },
    {
      "cell_type": "markdown",
      "metadata": {
        "id": "Nb5MHc-DE6yI"
      },
      "source": [
        "*Test render*"
      ]
    },
    {
      "cell_type": "code",
      "metadata": {
        "colab": {
          "base_uri": "https://localhost:8080/",
          "height": 286
        },
        "id": "LcchIk5_8H4Q",
        "outputId": "770849eb-9667-4981-9546-b74e50448b07"
      },
      "source": [
        "env= DeterministicEnvironment()\n",
        "state= env.reset()\n",
        "env.render()\n",
        "print('Current state : {}'.format(state))"
      ],
      "execution_count": 7,
      "outputs": [
        {
          "output_type": "stream",
          "text": [
            "Current state : 0\n"
          ],
          "name": "stdout"
        },
        {
          "output_type": "display_data",
          "data": {
            "image/png": "[encoded data removed]",
            "text/plain": [
              "<Figure size 432x288 with 1 Axes>"
            ]
          },
          "metadata": {
            "tags": [],
            "needs_background": "light"
          }
        }
      ]
    },
    {
      "cell_type": "markdown",
      "metadata": {
        "id": "6ASY-urZxMxw"
      },
      "source": [
        "### Stochastic Environment\n"
      ]
    },
    {
      "cell_type": "markdown",
      "metadata": {
        "id": "MqHI65I8xhhU"
      },
      "source": [
        "*Defining a simple 4x4 stochastic environment*"
      ]
    },
    {
      "cell_type": "code",
      "metadata": {
        "id": "ePNIo_qxuXl1"
      },
      "source": [
        "class StochasticEnvironment(gym.Env):\n",
        "  metadata= {'render.modes': []}\n",
        "\n",
        "  def __init__(self):\n",
        "    '''\n",
        "    Initializes the number of states, action, & maximum timestep of the environment\n",
        "    '''\n",
        "\n",
        "    self.observation_space= spaces.Discrete(N_STATES)\n",
        "    self.action_space= spaces.Discrete(N_ACTIONS)\n",
        "    self.max_timesteps= MAX_TIMESTEPS\n",
        "\n",
        "  def reset(self):\n",
        "    '''\n",
        "    Resets the environment to its default setup\n",
        "\n",
        "    Output:\n",
        "      observation: 2-element list - Coordinates of the agent's default position in the grid\n",
        "    '''\n",
        "\n",
        "    self.timestep= 0\n",
        "\n",
        "    self.agent_pos= AGENT_POS.copy()\n",
        "    self.diamond_pos= DIAMOND_POS.copy()\n",
        "    self.coin_pos= COIN_POS.copy()\n",
        "    self.monster_pos= MONSTER_POS.copy()\n",
        "    self.goal_pos= GOAL_POS.copy()\n",
        "\n",
        "    self.state= np.zeros((4, 4))\n",
        "\n",
        "    self.state[tuple(self.agent_pos)]= 1\n",
        "    self.state[tuple(self.diamond_pos)]= 5\n",
        "    self.state[tuple(self.coin_pos)]= 3\n",
        "    self.state[tuple(self.monster_pos)]= -5\n",
        "    self.state[tuple(self.goal_pos)]= 10\n",
        "    \n",
        "    agent_state= self.agent_pos\n",
        "\n",
        "    return STATE_LOOKUP[tuple(agent_state)]\n",
        "  \n",
        "  def step(self, action):\n",
        "    '''\n",
        "    1. Randomly chooses the action to be performed\n",
        "    1. Moves the agent as per the chosen action\n",
        "    2. Sets the rewards per state in the environment\n",
        "    3. Calculates the reward of the new state\n",
        "\n",
        "    Input:\n",
        "      action: int - Action to be performed\n",
        "\n",
        "    Output:\n",
        "      action: int - Action taken\n",
        "      observation: 2-element list\n",
        "      reward: int - State reward\n",
        "      done: bool - Denotes if the learning is complete (or) goal is reached\n",
        "      info: dict\n",
        "    '''\n",
        "\n",
        "    # Initializing the grid\n",
        "    self.state= np.zeros((4, 4))\n",
        "\n",
        "    # Defining stochasticity to the environment\n",
        "    action= action if random.uniform(0, 1) < 0.75 else random.choice([i for i in range(self.action_space.n) if i != action])\n",
        "\n",
        "    # Move the agent\n",
        "    if action == 0: # Go down one step\n",
        "      self.agent_pos[0] += 1\n",
        "    if action == 1: # Go up one step\n",
        "      self.agent_pos[0] -= 1\n",
        "    if action == 2: # Go right one step\n",
        "      self.agent_pos[1] += 1\n",
        "    if action == 3: # Go left one step\n",
        "      self.agent_pos[1] -= 1\n",
        "\n",
        "    # To keep the agent within the confines of the environment\n",
        "    self.agent_pos= np.clip(self.agent_pos, 0, 3)\n",
        "\n",
        "    # Initialize the state rewards\n",
        "    self.state[tuple(self.agent_pos)]= 1\n",
        "    self.state[tuple(self.diamond_pos)]= 5\n",
        "    self.state[tuple(self.coin_pos)]= 3\n",
        "    self.state[tuple(self.monster_pos)]= -5\n",
        "    self.state[tuple(self.goal_pos)]= 10\n",
        "\n",
        "    agent_state= self.agent_pos\n",
        "\n",
        "    # Calculates the reward for the action\n",
        "    reward= 0\n",
        "    if (self.agent_pos == self.diamond_pos).all():\n",
        "      reward += 5\n",
        "    if (self.agent_pos == self.coin_pos).all():\n",
        "      reward += 3\n",
        "    if (self.agent_pos == self.monster_pos).all():\n",
        "      reward -= 5\n",
        "    if (self.agent_pos == self.goal_pos).all():\n",
        "      reward += 10\n",
        "\n",
        "    # Timestep increment\n",
        "    self.timestep += 1\n",
        "\n",
        "    done= True if ((self.timestep >= self.max_timesteps) or (self.agent_pos == self.goal_pos).all()) else False\n",
        "    info= {}\n",
        "\n",
        "    return STATE_LOOKUP[tuple(agent_state)], reward, done, info\n",
        "\n",
        "  def render(self):\n",
        "    '''\n",
        "    Provides pictorial representation of environment\n",
        "    '''\n",
        "\n",
        "    plt.imshow(self.state)"
      ],
      "execution_count": 8,
      "outputs": []
    },
    {
      "cell_type": "markdown",
      "metadata": {
        "id": "KjJhq6hiFEVL"
      },
      "source": [
        "*Test render*"
      ]
    },
    {
      "cell_type": "code",
      "metadata": {
        "colab": {
          "base_uri": "https://localhost:8080/",
          "height": 286
        },
        "id": "EwCvWgzl7rrd",
        "outputId": "ee4eaf2d-0361-4ca3-e418-178c1953cb6f"
      },
      "source": [
        "env= StochasticEnvironment()\n",
        "state= env.reset()\n",
        "env.render()\n",
        "print('Current state : {}'.format(state))"
      ],
      "execution_count": 9,
      "outputs": [
        {
          "output_type": "stream",
          "text": [
            "Current state : 0\n"
          ],
          "name": "stdout"
        },
        {
          "output_type": "display_data",
          "data": {
            "image/png": "[encoded data removed]",
            "text/plain": [
              "<Figure size 432x288 with 1 Axes>"
            ]
          },
          "metadata": {
            "tags": [],
            "needs_background": "light"
          }
        }
      ]
    },
    {
      "cell_type": "markdown",
      "metadata": {
        "id": "tY84t-54xadi"
      },
      "source": [
        "## Defining agents\n"
      ]
    },
    {
      "cell_type": "markdown",
      "metadata": {
        "id": "2ZFFzyEJxS7B"
      },
      "source": [
        "### Random Agent"
      ]
    },
    {
      "cell_type": "markdown",
      "metadata": {
        "id": "M1P57OQZxZl8"
      },
      "source": [
        "*Defining a random agent*"
      ]
    },
    {
      "cell_type": "code",
      "metadata": {
        "id": "IgRMssZkxnBX"
      },
      "source": [
        "class RandomAgent:\n",
        "  \n",
        "  def __init__(self, env):\n",
        "    '''\n",
        "    Initializes a random agent and its parameters\n",
        "\n",
        "    Input:\n",
        "      env: environment class instance - Environment in which the agent will act in\n",
        "    '''\n",
        "    self.env= env\n",
        "    self.observation_space= env.observation_space\n",
        "    self.action_space= env.action_space\n",
        "\n",
        "  def step(self, state):\n",
        "    '''\n",
        "    Chooses an action at random from action set\n",
        "\n",
        "    Input:\n",
        "      state: int - State of the agent\n",
        "    \n",
        "    Output:\n",
        "      int - Randomly chosen action\n",
        "    '''\n",
        "    return np.random.choice(self.action_space.n)"
      ],
      "execution_count": 10,
      "outputs": []
    },
    {
      "cell_type": "markdown",
      "metadata": {
        "id": "YIjQmGpzGs7u"
      },
      "source": [
        "### Q-learning agent"
      ]
    },
    {
      "cell_type": "markdown",
      "metadata": {
        "id": "Cuu6SIxaxdCt"
      },
      "source": [
        "*Defining a Q-learning agent*"
      ]
    },
    {
      "cell_type": "code",
      "metadata": {
        "id": "JhW8rgkgu6Pf"
      },
      "source": [
        "# Subclass of the Random agent class\n",
        "class QLearningAgent(RandomAgent):\n",
        "\n",
        "  def __init__(self, env, discount_rate= 0.99, learning_rate= 0.01, epsilon= 1.0):\n",
        "    '''\n",
        "    Initializes a Q-learning agent and its parameters\n",
        "\n",
        "    Input:\n",
        "      env: environment class instance - Environment in which the agent will act in\n",
        "      discount_rate: float - Rate at which the reward decays (Default 0.99)\n",
        "      learning_rate: float - Rate at which the agent learns (Default 0.01)\n",
        "      epsilon: float - Balances the action of the agent between exploration & exploitation (Default 1.0)\n",
        "    '''\n",
        "    super().__init__(env)\n",
        "\n",
        "    # Sets the exploration, exploitation balance\n",
        "    # Closer to 1.0 - exploration | Closer to 0.0 - exploitation\n",
        "    self.epsilon= epsilon \n",
        "\n",
        "    # Sets the learning & decay parameters\n",
        "    self.gamma= discount_rate\n",
        "    self.alpha= learning_rate\n",
        "\n",
        "    self.build_model()\n",
        "\n",
        "  def build_model(self):\n",
        "    '''\n",
        "    Initializes the Q-table when an object is created\n",
        "    '''\n",
        "    self.Q_table= np.zeros((self.observation_space.n, self.action_space.n))\n",
        "\n",
        "  def save_model(self, filename):\n",
        "    '''\n",
        "    Saves the model (Q-table) to the working directory\n",
        "    '''\n",
        "    pickle.dump(self.Q_table, open(filename, 'wb'))\n",
        "\n",
        "  def step(self, state: int):\n",
        "    '''\n",
        "    Moves the agent based on epsilon value\n",
        "\n",
        "    Input:\n",
        "      state: int - State of the agent\n",
        "\n",
        "    Output:\n",
        "      int - Chosen action based on set epsilon value\n",
        "    '''\n",
        "    Q_state= self.Q_table[state]\n",
        "    greedy_action= np.argmax(Q_state)\n",
        "    random_action= super().step(state)\n",
        "\n",
        "    # Depending on the epsilon value greedy or random action is chosen\n",
        "    return random_action if random.random() < self.epsilon else greedy_action\n",
        "\n",
        "  def train(self, experience: tuple):\n",
        "    '''\n",
        "    Updates the Q-table based on 'experience' of the agent\n",
        "\n",
        "    Input:\n",
        "      experience: tuple\n",
        "        state: int - State of the agent\n",
        "        action: int - Action performed by the agent\n",
        "        next_state: int - Current state of the agent\n",
        "        reward: int - Value of the state\n",
        "        done: bool\n",
        "    '''\n",
        "    state, action, next_state, reward, done= experience\n",
        "    \n",
        "    # Q-value calculation\n",
        "    Q_next= np.zeros([self.action_space.n]) if done else self.Q_table[next_state]\n",
        "    Q_value= reward + self.gamma * np.max(Q_next) - self.Q_table[state, action]\n",
        "    self.Q_table[state, action] += self.alpha * Q_value\n",
        "\n",
        "    if done:\n",
        "      # Setting exponential epsilon decay to prefer exploitation over exploration\n",
        "      self.epsilon= self.epsilon * 0.99"
      ],
      "execution_count": 11,
      "outputs": []
    },
    {
      "cell_type": "markdown",
      "metadata": {
        "id": "NdhaFQ_FQuR1"
      },
      "source": [
        "### SARSA agent"
      ]
    },
    {
      "cell_type": "markdown",
      "metadata": {
        "id": "Q2EJVkp4QH_M"
      },
      "source": [
        "*Defining a SARSA agent*"
      ]
    },
    {
      "cell_type": "code",
      "metadata": {
        "id": "liqHkNVa-nvR"
      },
      "source": [
        "class SARSAAgent(RandomAgent):\n",
        "\n",
        "  def __init__(self, env, discount_rate= 0.99, learning_rate= 0.01, epsilon= 1.0):\n",
        "    '''\n",
        "    Initializes a SARSA agent and its parameters\n",
        "\n",
        "    Input:\n",
        "      env: environment class instance - Environment in which the agent will act in\n",
        "      discount_rate: float - Rate at which the reward decays (Default 0.99)\n",
        "      learning_rate: float - Rate at which the agent learns (Default 0.01)\n",
        "      epsilon: float - Balances the action of the agent between exploration & exploitation (Default 1.0)\n",
        "    '''\n",
        "    super().__init__(env)\n",
        "\n",
        "    # Sets the exploration, exploitation balance\n",
        "    # Closer to 1.0 - exploration | Closer to 0.0 - exploitation\n",
        "    self.epsilon= epsilon\n",
        "\n",
        "    # Sets the learning & decay parameters\n",
        "    self.gamma= discount_rate\n",
        "    self.alpha= learning_rate\n",
        "\n",
        "    self.build_model()\n",
        "\n",
        "  def build_model(self):\n",
        "    '''\n",
        "    Initializes the Q-table when an object is created\n",
        "    '''\n",
        "    self.Q_table= np.zeros((self.observation_space.n, self.action_space.n))\n",
        "\n",
        "  def save_model(self, filename: str):\n",
        "    '''\n",
        "    Saves the model (Q-table) to the working directory\n",
        "    '''\n",
        "    pickle.dump(self.Q_table, open(filename, 'wb'))\n",
        "\n",
        "  def step(self, state: int):\n",
        "    '''\n",
        "    Moves the agent based on epsilon value\n",
        "\n",
        "    Input:\n",
        "      state: int - State of the agent\n",
        "\n",
        "    Output:\n",
        "      int - Chosen action based on set epsilon value\n",
        "    '''\n",
        "    Q_state= self.Q_table[state]\n",
        "    greedy_action= np.argmax(Q_state)\n",
        "    random_action= super().step(state)\n",
        "\n",
        "    # Depending on the epsilon value greedy or random action is chosen\n",
        "    return random_action if random.random() < self.epsilon else greedy_action\n",
        "\n",
        "  def train(self, experience: tuple):\n",
        "    '''\n",
        "    Updates the Q-table based on 'experience' of the agent\n",
        "\n",
        "    Input:\n",
        "      experience: tuple\n",
        "        state: int - State of the agent\n",
        "        action: int - Action performed by the agent\n",
        "        next_state: int - Current state of the agent\n",
        "        reward: int - Value of the state\n",
        "        done: bool\n",
        "    '''\n",
        "    state, action, next_state, next_action, reward, done= experience\n",
        "\n",
        "    # Q-value calculation\n",
        "    Q_next= 0 if done else self.Q_table[next_state, next_action]\n",
        "    Q_value= reward + self.gamma * Q_next - self.Q_table[state, action]\n",
        "    self.Q_table[state, action] += self.alpha * Q_value\n",
        "\n",
        "    if done:\n",
        "      # Setting exponential epsilon decay to prefer exploitation over exploration\n",
        "      self.epsilon= self.epsilon * 0.99"
      ],
      "execution_count": 12,
      "outputs": []
    },
    {
      "cell_type": "markdown",
      "metadata": {
        "id": "QQdopMBuBTQZ"
      },
      "source": [
        "## Running various agents in environment"
      ]
    },
    {
      "cell_type": "markdown",
      "metadata": {
        "id": "6k5D5rnMad26"
      },
      "source": [
        "*Running the random agent in the Deterministic Environment*"
      ]
    },
    {
      "cell_type": "code",
      "metadata": {
        "colab": {
          "base_uri": "https://localhost:8080/",
          "height": 307
        },
        "id": "C8CaivB7BVug",
        "outputId": "63989c3f-b597-42c7-93ad-008b81e658b5"
      },
      "source": [
        "environment= DeterministicEnvironment()\n",
        "random_agent= RandomAgent(env= environment)\n",
        "state= environment.reset()\n",
        "done= False\n",
        "\n",
        "grid= widgets.Grid(1, 1)\n",
        "\n",
        "total_reward= 0\n",
        "while not done:\n",
        "  action= random_agent.step(state= state)\n",
        "  next_state, reward, done, info= environment.step(action= action)\n",
        "  # print('By taking action \\'{}\\' the agent moved from {} to {} and got reward {}'.format(ACTION_LOOKUP[action], state, next_state, reward))\n",
        "  state= next_state\n",
        "  total_reward+= reward\n",
        "\n",
        "  with grid.output_to(0, 0):\n",
        "    grid.clear_cell()\n",
        "    environment.render()\n",
        "    # time.sleep(1)\n",
        "\n",
        "if done == True and environment.timestep < MAX_TIMESTEPS:\n",
        "  print('Agent has reached the Goal position')\n",
        "elif done == True and environment.timestep == MAX_TIMESTEPS:\n",
        "  print('Agent ran out of time')\n",
        "\n",
        "print('At the end of the run, the agent is at state {} & got a total reward of {}'.format(state, total_reward))"
      ],
      "execution_count": 13,
      "outputs": [
        {
          "output_type": "display_data",
          "data": {
            "text/html": [
              "<style>\n",
              "       table#id2, #id2 > tbody > tr > th, #id2 > tbody > tr > td {\n",
              "         border: 1px solid lightgray;\n",
              "         border-collapse:collapse;\n",
              "         \n",
              "        }</style>"
            ],
            "text/plain": [
              "<IPython.core.display.HTML object>"
            ]
          },
          "metadata": {
            "tags": [
              "outputarea_id2"
            ]
          }
        },
        {
          "output_type": "display_data",
          "data": {
            "text/html": [
              "<table id=id2><tr><td id=id2-0-0></td></tr></table>"
            ],
            "text/plain": [
              "<IPython.core.display.HTML object>"
            ]
          },
          "metadata": {
            "tags": [
              "outputarea_id2"
            ]
          }
        },
        {
          "output_type": "display_data",
          "data": {
            "application/javascript": [
              "window[\"c6fd25ba-7805-11eb-b6ee-0242ac1c0002\"] = google.colab.output.getActiveOutputArea();\n",
              "//# sourceURL=js_6d3af35c3b"
            ],
            "text/plain": [
              "<IPython.core.display.Javascript object>"
            ]
          },
          "metadata": {
            "tags": [
              "id2-0-0",
              "outputarea_id2"
            ]
          }
        },
        {
          "output_type": "display_data",
          "data": {
            "application/javascript": [
              "window[\"c6fd8654-7805-11eb-b6ee-0242ac1c0002\"] = document.querySelector(\"#id2-0-0\");\n",
              "//# sourceURL=js_b23d456484"
            ],
            "text/plain": [
              "<IPython.core.display.Javascript object>"
            ]
          },
          "metadata": {
            "tags": [
              "id2-0-0",
              "outputarea_id2"
            ]
          }
        },
        {
          "output_type": "display_data",
          "data": {
            "application/javascript": [
              "window[\"c6fde61c-7805-11eb-b6ee-0242ac1c0002\"] = google.colab.output.setActiveOutputArea(window[\"c6fd8654-7805-11eb-b6ee-0242ac1c0002\"]);\n",
              "//# sourceURL=js_4fdd6eb425"
            ],
            "text/plain": [
              "<IPython.core.display.Javascript object>"
            ]
          },
          "metadata": {
            "tags": [
              "id2-0-0",
              "outputarea_id2"
            ]
          }
        },
        {
          "output_type": "display_data",
          "data": {
            "application/javascript": [
              "window[\"c717839c-7805-11eb-b6ee-0242ac1c0002\"] = google.colab.output.setActiveOutputArea(window[\"c6fd25ba-7805-11eb-b6ee-0242ac1c0002\"]);\n",
              "//# sourceURL=js_b07a4adf88"
            ],
            "text/plain": [
              "<IPython.core.display.Javascript object>"
            ]
          },
          "metadata": {
            "tags": [
              "id2-0-0",
              "outputarea_id2"
            ]
          }
        },
        {
          "output_type": "display_data",
          "data": {
            "application/javascript": [
              "window[\"c719249a-7805-11eb-b6ee-0242ac1c0002\"] = google.colab.output.getActiveOutputArea();\n",
              "//# sourceURL=js_dd2350e209"
            ],
            "text/plain": [
              "<IPython.core.display.Javascript object>"
            ]
          },
          "metadata": {
            "tags": [
              "id2-0-0",
              "outputarea_id2"
            ]
          }
        },
        {
          "output_type": "display_data",
          "data": {
            "application/javascript": [
              "window[\"c7197788-7805-11eb-b6ee-0242ac1c0002\"] = document.querySelector(\"#id2-0-0\");\n",
              "//# sourceURL=js_fab27d76c6"
            ],
            "text/plain": [
              "<IPython.core.display.Javascript object>"
            ]
          },
          "metadata": {
            "tags": [
              "id2-0-0",
              "outputarea_id2"
            ]
          }
        },
        {
          "output_type": "display_data",
          "data": {
            "application/javascript": [
              "window[\"c719c530-7805-11eb-b6ee-0242ac1c0002\"] = google.colab.output.setActiveOutputArea(window[\"c7197788-7805-11eb-b6ee-0242ac1c0002\"]);\n",
              "//# sourceURL=js_f84d30286b"
            ],
            "text/plain": [
              "<IPython.core.display.Javascript object>"
            ]
          },
          "metadata": {
            "tags": [
              "id2-0-0",
              "outputarea_id2"
            ]
          }
        },
        {
          "output_type": "display_data",
          "data": {
            "application/javascript": [
              "window[\"c736010a-7805-11eb-b6ee-0242ac1c0002\"] = google.colab.output.setActiveOutputArea(window[\"c719249a-7805-11eb-b6ee-0242ac1c0002\"]);\n",
              "//# sourceURL=js_e8260173f0"
            ],
            "text/plain": [
              "<IPython.core.display.Javascript object>"
            ]
          },
          "metadata": {
            "tags": [
              "id2-0-0",
              "outputarea_id2"
            ]
          }
        },
        {
          "output_type": "display_data",
          "data": {
            "application/javascript": [
              "window[\"c737a0f0-7805-11eb-b6ee-0242ac1c0002\"] = google.colab.output.getActiveOutputArea();\n",
              "//# sourceURL=js_11ef26c9ae"
            ],
            "text/plain": [
              "<IPython.core.display.Javascript object>"
            ]
          },
          "metadata": {
            "tags": [
              "id2-0-0",
              "outputarea_id2"
            ]
          }
        },
        {
          "output_type": "display_data",
          "data": {
            "application/javascript": [
              "window[\"c73807de-7805-11eb-b6ee-0242ac1c0002\"] = document.querySelector(\"#id2-0-0\");\n",
              "//# sourceURL=js_acd5673155"
            ],
            "text/plain": [
              "<IPython.core.display.Javascript object>"
            ]
          },
          "metadata": {
            "tags": [
              "id2-0-0",
              "outputarea_id2"
            ]
          }
        },
        {
          "output_type": "display_data",
          "data": {
            "application/javascript": [
              "window[\"c738593c-7805-11eb-b6ee-0242ac1c0002\"] = google.colab.output.setActiveOutputArea(window[\"c73807de-7805-11eb-b6ee-0242ac1c0002\"]);\n",
              "//# sourceURL=js_0531ce497e"
            ],
            "text/plain": [
              "<IPython.core.display.Javascript object>"
            ]
          },
          "metadata": {
            "tags": [
              "id2-0-0",
              "outputarea_id2"
            ]
          }
        },
        {
          "output_type": "display_data",
          "data": {
            "application/javascript": [
              "window[\"c7511904-7805-11eb-b6ee-0242ac1c0002\"] = google.colab.output.setActiveOutputArea(window[\"c737a0f0-7805-11eb-b6ee-0242ac1c0002\"]);\n",
              "//# sourceURL=js_a0137704fe"
            ],
            "text/plain": [
              "<IPython.core.display.Javascript object>"
            ]
          },
          "metadata": {
            "tags": [
              "id2-0-0",
              "outputarea_id2"
            ]
          }
        },
        {
          "output_type": "display_data",
          "data": {
            "application/javascript": [
              "window[\"c752bcdc-7805-11eb-b6ee-0242ac1c0002\"] = google.colab.output.getActiveOutputArea();\n",
              "//# sourceURL=js_bb6f0520b8"
            ],
            "text/plain": [
              "<IPython.core.display.Javascript object>"
            ]
          },
          "metadata": {
            "tags": [
              "id2-0-0",
              "outputarea_id2"
            ]
          }
        },
        {
          "output_type": "display_data",
          "data": {
            "application/javascript": [
              "window[\"c7530dc2-7805-11eb-b6ee-0242ac1c0002\"] = document.querySelector(\"#id2-0-0\");\n",
              "//# sourceURL=js_5f44c9a964"
            ],
            "text/plain": [
              "<IPython.core.display.Javascript object>"
            ]
          },
          "metadata": {
            "tags": [
              "id2-0-0",
              "outputarea_id2"
            ]
          }
        },
        {
          "output_type": "display_data",
          "data": {
            "application/javascript": [
              "window[\"c7535f02-7805-11eb-b6ee-0242ac1c0002\"] = google.colab.output.setActiveOutputArea(window[\"c7530dc2-7805-11eb-b6ee-0242ac1c0002\"]);\n",
              "//# sourceURL=js_ae67199674"
            ],
            "text/plain": [
              "<IPython.core.display.Javascript object>"
            ]
          },
          "metadata": {
            "tags": [
              "id2-0-0",
              "outputarea_id2"
            ]
          }
        },
        {
          "output_type": "display_data",
          "data": {
            "application/javascript": [
              "window[\"c76c6af6-7805-11eb-b6ee-0242ac1c0002\"] = google.colab.output.setActiveOutputArea(window[\"c752bcdc-7805-11eb-b6ee-0242ac1c0002\"]);\n",
              "//# sourceURL=js_a796859015"
            ],
            "text/plain": [
              "<IPython.core.display.Javascript object>"
            ]
          },
          "metadata": {
            "tags": [
              "id2-0-0",
              "outputarea_id2"
            ]
          }
        },
        {
          "output_type": "display_data",
          "data": {
            "application/javascript": [
              "window[\"c76df204-7805-11eb-b6ee-0242ac1c0002\"] = google.colab.output.getActiveOutputArea();\n",
              "//# sourceURL=js_eb89b96ce3"
            ],
            "text/plain": [
              "<IPython.core.display.Javascript object>"
            ]
          },
          "metadata": {
            "tags": [
              "id2-0-0",
              "outputarea_id2"
            ]
          }
        },
        {
          "output_type": "display_data",
          "data": {
            "application/javascript": [
              "window[\"c76e410a-7805-11eb-b6ee-0242ac1c0002\"] = document.querySelector(\"#id2-0-0\");\n",
              "//# sourceURL=js_6de52b1a10"
            ],
            "text/plain": [
              "<IPython.core.display.Javascript object>"
            ]
          },
          "metadata": {
            "tags": [
              "id2-0-0",
              "outputarea_id2"
            ]
          }
        },
        {
          "output_type": "display_data",
          "data": {
            "application/javascript": [
              "window[\"c76e8f16-7805-11eb-b6ee-0242ac1c0002\"] = google.colab.output.setActiveOutputArea(window[\"c76e410a-7805-11eb-b6ee-0242ac1c0002\"]);\n",
              "//# sourceURL=js_458941d712"
            ],
            "text/plain": [
              "<IPython.core.display.Javascript object>"
            ]
          },
          "metadata": {
            "tags": [
              "id2-0-0",
              "outputarea_id2"
            ]
          }
        },
        {
          "output_type": "display_data",
          "data": {
            "application/javascript": [
              "window[\"c787f7c6-7805-11eb-b6ee-0242ac1c0002\"] = google.colab.output.setActiveOutputArea(window[\"c76df204-7805-11eb-b6ee-0242ac1c0002\"]);\n",
              "//# sourceURL=js_35de13471b"
            ],
            "text/plain": [
              "<IPython.core.display.Javascript object>"
            ]
          },
          "metadata": {
            "tags": [
              "id2-0-0",
              "outputarea_id2"
            ]
          }
        },
        {
          "output_type": "display_data",
          "data": {
            "application/javascript": [
              "window[\"c78986cc-7805-11eb-b6ee-0242ac1c0002\"] = google.colab.output.getActiveOutputArea();\n",
              "//# sourceURL=js_1dafe2ad4e"
            ],
            "text/plain": [
              "<IPython.core.display.Javascript object>"
            ]
          },
          "metadata": {
            "tags": [
              "id2-0-0",
              "outputarea_id2"
            ]
          }
        },
        {
          "output_type": "display_data",
          "data": {
            "application/javascript": [
              "window[\"c789db4a-7805-11eb-b6ee-0242ac1c0002\"] = document.querySelector(\"#id2-0-0\");\n",
              "//# sourceURL=js_9019b1082a"
            ],
            "text/plain": [
              "<IPython.core.display.Javascript object>"
            ]
          },
          "metadata": {
            "tags": [
              "id2-0-0",
              "outputarea_id2"
            ]
          }
        },
        {
          "output_type": "display_data",
          "data": {
            "application/javascript": [
              "window[\"c78a242e-7805-11eb-b6ee-0242ac1c0002\"] = google.colab.output.setActiveOutputArea(window[\"c789db4a-7805-11eb-b6ee-0242ac1c0002\"]);\n",
              "//# sourceURL=js_f33f52ce8a"
            ],
            "text/plain": [
              "<IPython.core.display.Javascript object>"
            ]
          },
          "metadata": {
            "tags": [
              "id2-0-0",
              "outputarea_id2"
            ]
          }
        },
        {
          "output_type": "display_data",
          "data": {
            "application/javascript": [
              "window[\"c7a4ce3c-7805-11eb-b6ee-0242ac1c0002\"] = google.colab.output.setActiveOutputArea(window[\"c78986cc-7805-11eb-b6ee-0242ac1c0002\"]);\n",
              "//# sourceURL=js_dfcf613077"
            ],
            "text/plain": [
              "<IPython.core.display.Javascript object>"
            ]
          },
          "metadata": {
            "tags": [
              "id2-0-0",
              "outputarea_id2"
            ]
          }
        },
        {
          "output_type": "display_data",
          "data": {
            "application/javascript": [
              "window[\"c7a68ec0-7805-11eb-b6ee-0242ac1c0002\"] = google.colab.output.getActiveOutputArea();\n",
              "//# sourceURL=js_f8e2d134dc"
            ],
            "text/plain": [
              "<IPython.core.display.Javascript object>"
            ]
          },
          "metadata": {
            "tags": [
              "id2-0-0",
              "outputarea_id2"
            ]
          }
        },
        {
          "output_type": "display_data",
          "data": {
            "application/javascript": [
              "window[\"c7a6e05a-7805-11eb-b6ee-0242ac1c0002\"] = document.querySelector(\"#id2-0-0\");\n",
              "//# sourceURL=js_1d3ef6ce8d"
            ],
            "text/plain": [
              "<IPython.core.display.Javascript object>"
            ]
          },
          "metadata": {
            "tags": [
              "id2-0-0",
              "outputarea_id2"
            ]
          }
        },
        {
          "output_type": "display_data",
          "data": {
            "application/javascript": [
              "window[\"c7a72a06-7805-11eb-b6ee-0242ac1c0002\"] = google.colab.output.setActiveOutputArea(window[\"c7a6e05a-7805-11eb-b6ee-0242ac1c0002\"]);\n",
              "//# sourceURL=js_606e75ac9a"
            ],
            "text/plain": [
              "<IPython.core.display.Javascript object>"
            ]
          },
          "metadata": {
            "tags": [
              "id2-0-0",
              "outputarea_id2"
            ]
          }
        },
        {
          "output_type": "display_data",
          "data": {
            "application/javascript": [
              "window[\"c7c5d988-7805-11eb-b6ee-0242ac1c0002\"] = google.colab.output.setActiveOutputArea(window[\"c7a68ec0-7805-11eb-b6ee-0242ac1c0002\"]);\n",
              "//# sourceURL=js_d8bcd9e6dd"
            ],
            "text/plain": [
              "<IPython.core.display.Javascript object>"
            ]
          },
          "metadata": {
            "tags": [
              "id2-0-0",
              "outputarea_id2"
            ]
          }
        },
        {
          "output_type": "display_data",
          "data": {
            "application/javascript": [
              "window[\"c7c7461a-7805-11eb-b6ee-0242ac1c0002\"] = google.colab.output.getActiveOutputArea();\n",
              "//# sourceURL=js_0eb7f9e7ae"
            ],
            "text/plain": [
              "<IPython.core.display.Javascript object>"
            ]
          },
          "metadata": {
            "tags": [
              "id2-0-0",
              "outputarea_id2"
            ]
          }
        },
        {
          "output_type": "display_data",
          "data": {
            "application/javascript": [
              "window[\"c7c7a04c-7805-11eb-b6ee-0242ac1c0002\"] = document.querySelector(\"#id2-0-0\");\n",
              "//# sourceURL=js_70a5507940"
            ],
            "text/plain": [
              "<IPython.core.display.Javascript object>"
            ]
          },
          "metadata": {
            "tags": [
              "id2-0-0",
              "outputarea_id2"
            ]
          }
        },
        {
          "output_type": "display_data",
          "data": {
            "application/javascript": [
              "window[\"c7c7fc68-7805-11eb-b6ee-0242ac1c0002\"] = google.colab.output.setActiveOutputArea(window[\"c7c7a04c-7805-11eb-b6ee-0242ac1c0002\"]);\n",
              "//# sourceURL=js_38490df4ff"
            ],
            "text/plain": [
              "<IPython.core.display.Javascript object>"
            ]
          },
          "metadata": {
            "tags": [
              "id2-0-0",
              "outputarea_id2"
            ]
          }
        },
        {
          "output_type": "display_data",
          "data": {
            "application/javascript": [
              "window[\"c7ea00c4-7805-11eb-b6ee-0242ac1c0002\"] = google.colab.output.setActiveOutputArea(window[\"c7c7461a-7805-11eb-b6ee-0242ac1c0002\"]);\n",
              "//# sourceURL=js_b298f769dd"
            ],
            "text/plain": [
              "<IPython.core.display.Javascript object>"
            ]
          },
          "metadata": {
            "tags": [
              "id2-0-0",
              "outputarea_id2"
            ]
          }
        },
        {
          "output_type": "display_data",
          "data": {
            "application/javascript": [
              "window[\"c7eba4ba-7805-11eb-b6ee-0242ac1c0002\"] = google.colab.output.getActiveOutputArea();\n",
              "//# sourceURL=js_b1e98561e9"
            ],
            "text/plain": [
              "<IPython.core.display.Javascript object>"
            ]
          },
          "metadata": {
            "tags": [
              "id2-0-0",
              "outputarea_id2"
            ]
          }
        },
        {
          "output_type": "display_data",
          "data": {
            "application/javascript": [
              "window[\"c7ec01ee-7805-11eb-b6ee-0242ac1c0002\"] = document.querySelector(\"#id2-0-0\");\n",
              "//# sourceURL=js_92584f06e9"
            ],
            "text/plain": [
              "<IPython.core.display.Javascript object>"
            ]
          },
          "metadata": {
            "tags": [
              "id2-0-0",
              "outputarea_id2"
            ]
          }
        },
        {
          "output_type": "display_data",
          "data": {
            "application/javascript": [
              "window[\"c7ec527a-7805-11eb-b6ee-0242ac1c0002\"] = google.colab.output.setActiveOutputArea(window[\"c7ec01ee-7805-11eb-b6ee-0242ac1c0002\"]);\n",
              "//# sourceURL=js_eae545c26a"
            ],
            "text/plain": [
              "<IPython.core.display.Javascript object>"
            ]
          },
          "metadata": {
            "tags": [
              "id2-0-0",
              "outputarea_id2"
            ]
          }
        },
        {
          "output_type": "display_data",
          "data": {
            "application/javascript": [
              "window[\"c80bb30e-7805-11eb-b6ee-0242ac1c0002\"] = google.colab.output.setActiveOutputArea(window[\"c7eba4ba-7805-11eb-b6ee-0242ac1c0002\"]);\n",
              "//# sourceURL=js_6fd1d927b2"
            ],
            "text/plain": [
              "<IPython.core.display.Javascript object>"
            ]
          },
          "metadata": {
            "tags": [
              "id2-0-0",
              "outputarea_id2"
            ]
          }
        },
        {
          "output_type": "display_data",
          "data": {
            "application/javascript": [
              "window[\"c80dd4b8-7805-11eb-b6ee-0242ac1c0002\"] = google.colab.output.getActiveOutputArea();\n",
              "//# sourceURL=js_15e3765684"
            ],
            "text/plain": [
              "<IPython.core.display.Javascript object>"
            ]
          },
          "metadata": {
            "tags": [
              "id2-0-0",
              "outputarea_id2"
            ]
          }
        },
        {
          "output_type": "display_data",
          "data": {
            "application/javascript": [
              "window[\"c80e41e6-7805-11eb-b6ee-0242ac1c0002\"] = document.querySelector(\"#id2-0-0\");\n",
              "//# sourceURL=js_4960f770f8"
            ],
            "text/plain": [
              "<IPython.core.display.Javascript object>"
            ]
          },
          "metadata": {
            "tags": [
              "id2-0-0",
              "outputarea_id2"
            ]
          }
        },
        {
          "output_type": "display_data",
          "data": {
            "application/javascript": [
              "window[\"c80eb0ae-7805-11eb-b6ee-0242ac1c0002\"] = google.colab.output.setActiveOutputArea(window[\"c80e41e6-7805-11eb-b6ee-0242ac1c0002\"]);\n",
              "//# sourceURL=js_40a391e65a"
            ],
            "text/plain": [
              "<IPython.core.display.Javascript object>"
            ]
          },
          "metadata": {
            "tags": [
              "id2-0-0",
              "outputarea_id2"
            ]
          }
        },
        {
          "output_type": "display_data",
          "data": {
            "application/javascript": [
              "window[\"c82b99da-7805-11eb-b6ee-0242ac1c0002\"] = google.colab.output.setActiveOutputArea(window[\"c80dd4b8-7805-11eb-b6ee-0242ac1c0002\"]);\n",
              "//# sourceURL=js_550b7b9693"
            ],
            "text/plain": [
              "<IPython.core.display.Javascript object>"
            ]
          },
          "metadata": {
            "tags": [
              "id2-0-0",
              "outputarea_id2"
            ]
          }
        },
        {
          "output_type": "display_data",
          "data": {
            "application/javascript": [
              "window[\"c82d25a2-7805-11eb-b6ee-0242ac1c0002\"] = google.colab.output.getActiveOutputArea();\n",
              "//# sourceURL=js_6a85f8fc89"
            ],
            "text/plain": [
              "<IPython.core.display.Javascript object>"
            ]
          },
          "metadata": {
            "tags": [
              "id2-0-0",
              "outputarea_id2"
            ]
          }
        },
        {
          "output_type": "display_data",
          "data": {
            "application/javascript": [
              "window[\"c82d962c-7805-11eb-b6ee-0242ac1c0002\"] = document.querySelector(\"#id2-0-0\");\n",
              "//# sourceURL=js_c28a24ea33"
            ],
            "text/plain": [
              "<IPython.core.display.Javascript object>"
            ]
          },
          "metadata": {
            "tags": [
              "id2-0-0",
              "outputarea_id2"
            ]
          }
        },
        {
          "output_type": "display_data",
          "data": {
            "application/javascript": [
              "window[\"c82df126-7805-11eb-b6ee-0242ac1c0002\"] = google.colab.output.setActiveOutputArea(window[\"c82d962c-7805-11eb-b6ee-0242ac1c0002\"]);\n",
              "//# sourceURL=js_e2fe06280e"
            ],
            "text/plain": [
              "<IPython.core.display.Javascript object>"
            ]
          },
          "metadata": {
            "tags": [
              "id2-0-0",
              "outputarea_id2"
            ]
          }
        },
        {
          "output_type": "display_data",
          "data": {
            "application/javascript": [
              "window[\"c859dcdc-7805-11eb-b6ee-0242ac1c0002\"] = google.colab.output.setActiveOutputArea(window[\"c82d25a2-7805-11eb-b6ee-0242ac1c0002\"]);\n",
              "//# sourceURL=js_c3784bad48"
            ],
            "text/plain": [
              "<IPython.core.display.Javascript object>"
            ]
          },
          "metadata": {
            "tags": [
              "id2-0-0",
              "outputarea_id2"
            ]
          }
        },
        {
          "output_type": "display_data",
          "data": {
            "application/javascript": [
              "window[\"c85b3c6c-7805-11eb-b6ee-0242ac1c0002\"] = google.colab.output.getActiveOutputArea();\n",
              "//# sourceURL=js_5b3f7c344a"
            ],
            "text/plain": [
              "<IPython.core.display.Javascript object>"
            ]
          },
          "metadata": {
            "tags": [
              "id2-0-0",
              "outputarea_id2"
            ]
          }
        },
        {
          "output_type": "display_data",
          "data": {
            "application/javascript": [
              "window[\"c85b7d4e-7805-11eb-b6ee-0242ac1c0002\"] = document.querySelector(\"#id2-0-0\");\n",
              "//# sourceURL=js_80a78d1796"
            ],
            "text/plain": [
              "<IPython.core.display.Javascript object>"
            ]
          },
          "metadata": {
            "tags": [
              "id2-0-0",
              "outputarea_id2"
            ]
          }
        },
        {
          "output_type": "display_data",
          "data": {
            "application/javascript": [
              "window[\"c85bcc86-7805-11eb-b6ee-0242ac1c0002\"] = google.colab.output.setActiveOutputArea(window[\"c85b7d4e-7805-11eb-b6ee-0242ac1c0002\"]);\n",
              "//# sourceURL=js_fc8451f948"
            ],
            "text/plain": [
              "<IPython.core.display.Javascript object>"
            ]
          },
          "metadata": {
            "tags": [
              "id2-0-0",
              "outputarea_id2"
            ]
          }
        },
        {
          "output_type": "display_data",
          "data": {
            "application/javascript": [
              "window[\"c8755de0-7805-11eb-b6ee-0242ac1c0002\"] = google.colab.output.setActiveOutputArea(window[\"c85b3c6c-7805-11eb-b6ee-0242ac1c0002\"]);\n",
              "//# sourceURL=js_0892f9bc69"
            ],
            "text/plain": [
              "<IPython.core.display.Javascript object>"
            ]
          },
          "metadata": {
            "tags": [
              "id2-0-0",
              "outputarea_id2"
            ]
          }
        },
        {
          "output_type": "display_data",
          "data": {
            "application/javascript": [
              "window[\"c877d070-7805-11eb-b6ee-0242ac1c0002\"] = google.colab.output.getActiveOutputArea();\n",
              "//# sourceURL=js_572c64bb33"
            ],
            "text/plain": [
              "<IPython.core.display.Javascript object>"
            ]
          },
          "metadata": {
            "tags": [
              "id2-0-0",
              "outputarea_id2"
            ]
          }
        },
        {
          "output_type": "display_data",
          "data": {
            "application/javascript": [
              "window[\"c8782520-7805-11eb-b6ee-0242ac1c0002\"] = document.querySelector(\"#id2-0-0\");\n",
              "//# sourceURL=js_5e3eb9c712"
            ],
            "text/plain": [
              "<IPython.core.display.Javascript object>"
            ]
          },
          "metadata": {
            "tags": [
              "id2-0-0",
              "outputarea_id2"
            ]
          }
        },
        {
          "output_type": "display_data",
          "data": {
            "application/javascript": [
              "window[\"c87870c0-7805-11eb-b6ee-0242ac1c0002\"] = google.colab.output.setActiveOutputArea(window[\"c8782520-7805-11eb-b6ee-0242ac1c0002\"]);\n",
              "//# sourceURL=js_f4a6d7af89"
            ],
            "text/plain": [
              "<IPython.core.display.Javascript object>"
            ]
          },
          "metadata": {
            "tags": [
              "id2-0-0",
              "outputarea_id2"
            ]
          }
        },
        {
          "output_type": "display_data",
          "data": {
            "application/javascript": [
              "window[\"c892a5c6-7805-11eb-b6ee-0242ac1c0002\"] = google.colab.output.setActiveOutputArea(window[\"c877d070-7805-11eb-b6ee-0242ac1c0002\"]);\n",
              "//# sourceURL=js_1af8c4b845"
            ],
            "text/plain": [
              "<IPython.core.display.Javascript object>"
            ]
          },
          "metadata": {
            "tags": [
              "id2-0-0",
              "outputarea_id2"
            ]
          }
        },
        {
          "output_type": "display_data",
          "data": {
            "application/javascript": [
              "window[\"c8942ca2-7805-11eb-b6ee-0242ac1c0002\"] = google.colab.output.getActiveOutputArea();\n",
              "//# sourceURL=js_8390c69387"
            ],
            "text/plain": [
              "<IPython.core.display.Javascript object>"
            ]
          },
          "metadata": {
            "tags": [
              "id2-0-0",
              "outputarea_id2"
            ]
          }
        },
        {
          "output_type": "display_data",
          "data": {
            "application/javascript": [
              "window[\"c89491ba-7805-11eb-b6ee-0242ac1c0002\"] = document.querySelector(\"#id2-0-0\");\n",
              "//# sourceURL=js_ce81e6dca3"
            ],
            "text/plain": [
              "<IPython.core.display.Javascript object>"
            ]
          },
          "metadata": {
            "tags": [
              "id2-0-0",
              "outputarea_id2"
            ]
          }
        },
        {
          "output_type": "display_data",
          "data": {
            "application/javascript": [
              "window[\"c894db5c-7805-11eb-b6ee-0242ac1c0002\"] = google.colab.output.setActiveOutputArea(window[\"c89491ba-7805-11eb-b6ee-0242ac1c0002\"]);\n",
              "//# sourceURL=js_b79f79aaff"
            ],
            "text/plain": [
              "<IPython.core.display.Javascript object>"
            ]
          },
          "metadata": {
            "tags": [
              "id2-0-0",
              "outputarea_id2"
            ]
          }
        },
        {
          "output_type": "display_data",
          "data": {
            "application/javascript": [
              "window[\"c8ae7efe-7805-11eb-b6ee-0242ac1c0002\"] = google.colab.output.setActiveOutputArea(window[\"c8942ca2-7805-11eb-b6ee-0242ac1c0002\"]);\n",
              "//# sourceURL=js_7cd973a1ec"
            ],
            "text/plain": [
              "<IPython.core.display.Javascript object>"
            ]
          },
          "metadata": {
            "tags": [
              "id2-0-0",
              "outputarea_id2"
            ]
          }
        },
        {
          "output_type": "display_data",
          "data": {
            "application/javascript": [
              "window[\"c8afe5a0-7805-11eb-b6ee-0242ac1c0002\"] = google.colab.output.getActiveOutputArea();\n",
              "//# sourceURL=js_b116092d04"
            ],
            "text/plain": [
              "<IPython.core.display.Javascript object>"
            ]
          },
          "metadata": {
            "tags": [
              "id2-0-0",
              "outputarea_id2"
            ]
          }
        },
        {
          "output_type": "display_data",
          "data": {
            "application/javascript": [
              "window[\"c8b031f4-7805-11eb-b6ee-0242ac1c0002\"] = document.querySelector(\"#id2-0-0\");\n",
              "//# sourceURL=js_b4fb3411f2"
            ],
            "text/plain": [
              "<IPython.core.display.Javascript object>"
            ]
          },
          "metadata": {
            "tags": [
              "id2-0-0",
              "outputarea_id2"
            ]
          }
        },
        {
          "output_type": "display_data",
          "data": {
            "application/javascript": [
              "window[\"c8b07ad8-7805-11eb-b6ee-0242ac1c0002\"] = google.colab.output.setActiveOutputArea(window[\"c8b031f4-7805-11eb-b6ee-0242ac1c0002\"]);\n",
              "//# sourceURL=js_8e69955746"
            ],
            "text/plain": [
              "<IPython.core.display.Javascript object>"
            ]
          },
          "metadata": {
            "tags": [
              "id2-0-0",
              "outputarea_id2"
            ]
          }
        },
        {
          "output_type": "display_data",
          "data": {
            "application/javascript": [
              "window[\"c8cdabb2-7805-11eb-b6ee-0242ac1c0002\"] = google.colab.output.setActiveOutputArea(window[\"c8afe5a0-7805-11eb-b6ee-0242ac1c0002\"]);\n",
              "//# sourceURL=js_8063b04f86"
            ],
            "text/plain": [
              "<IPython.core.display.Javascript object>"
            ]
          },
          "metadata": {
            "tags": [
              "id2-0-0",
              "outputarea_id2"
            ]
          }
        },
        {
          "output_type": "display_data",
          "data": {
            "application/javascript": [
              "window[\"c8cf6290-7805-11eb-b6ee-0242ac1c0002\"] = google.colab.output.getActiveOutputArea();\n",
              "//# sourceURL=js_1ae40b60c7"
            ],
            "text/plain": [
              "<IPython.core.display.Javascript object>"
            ]
          },
          "metadata": {
            "tags": [
              "id2-0-0",
              "outputarea_id2"
            ]
          }
        },
        {
          "output_type": "display_data",
          "data": {
            "application/javascript": [
              "window[\"c8cfb344-7805-11eb-b6ee-0242ac1c0002\"] = document.querySelector(\"#id2-0-0\");\n",
              "//# sourceURL=js_f87967a261"
            ],
            "text/plain": [
              "<IPython.core.display.Javascript object>"
            ]
          },
          "metadata": {
            "tags": [
              "id2-0-0",
              "outputarea_id2"
            ]
          }
        },
        {
          "output_type": "display_data",
          "data": {
            "application/javascript": [
              "window[\"c8d04a5c-7805-11eb-b6ee-0242ac1c0002\"] = google.colab.output.setActiveOutputArea(window[\"c8cfb344-7805-11eb-b6ee-0242ac1c0002\"]);\n",
              "//# sourceURL=js_688e20eec0"
            ],
            "text/plain": [
              "<IPython.core.display.Javascript object>"
            ]
          },
          "metadata": {
            "tags": [
              "id2-0-0",
              "outputarea_id2"
            ]
          }
        },
        {
          "output_type": "display_data",
          "data": {
            "application/javascript": [
              "window[\"c8e91da2-7805-11eb-b6ee-0242ac1c0002\"] = google.colab.output.setActiveOutputArea(window[\"c8cf6290-7805-11eb-b6ee-0242ac1c0002\"]);\n",
              "//# sourceURL=js_7b5fb726de"
            ],
            "text/plain": [
              "<IPython.core.display.Javascript object>"
            ]
          },
          "metadata": {
            "tags": [
              "id2-0-0",
              "outputarea_id2"
            ]
          }
        },
        {
          "output_type": "display_data",
          "data": {
            "application/javascript": [
              "window[\"c8ea8322-7805-11eb-b6ee-0242ac1c0002\"] = google.colab.output.getActiveOutputArea();\n",
              "//# sourceURL=js_170b307f11"
            ],
            "text/plain": [
              "<IPython.core.display.Javascript object>"
            ]
          },
          "metadata": {
            "tags": [
              "id2-0-0",
              "outputarea_id2"
            ]
          }
        },
        {
          "output_type": "display_data",
          "data": {
            "application/javascript": [
              "window[\"c8ead39a-7805-11eb-b6ee-0242ac1c0002\"] = document.querySelector(\"#id2-0-0\");\n",
              "//# sourceURL=js_0231f57633"
            ],
            "text/plain": [
              "<IPython.core.display.Javascript object>"
            ]
          },
          "metadata": {
            "tags": [
              "id2-0-0",
              "outputarea_id2"
            ]
          }
        },
        {
          "output_type": "display_data",
          "data": {
            "application/javascript": [
              "window[\"c8eb1cce-7805-11eb-b6ee-0242ac1c0002\"] = google.colab.output.setActiveOutputArea(window[\"c8ead39a-7805-11eb-b6ee-0242ac1c0002\"]);\n",
              "//# sourceURL=js_1469fec338"
            ],
            "text/plain": [
              "<IPython.core.display.Javascript object>"
            ]
          },
          "metadata": {
            "tags": [
              "id2-0-0",
              "outputarea_id2"
            ]
          }
        },
        {
          "output_type": "display_data",
          "data": {
            "application/javascript": [
              "window[\"c907c914-7805-11eb-b6ee-0242ac1c0002\"] = google.colab.output.setActiveOutputArea(window[\"c8ea8322-7805-11eb-b6ee-0242ac1c0002\"]);\n",
              "//# sourceURL=js_23a1065ff2"
            ],
            "text/plain": [
              "<IPython.core.display.Javascript object>"
            ]
          },
          "metadata": {
            "tags": [
              "id2-0-0",
              "outputarea_id2"
            ]
          }
        },
        {
          "output_type": "display_data",
          "data": {
            "application/javascript": [
              "window[\"c90925fc-7805-11eb-b6ee-0242ac1c0002\"] = google.colab.output.getActiveOutputArea();\n",
              "//# sourceURL=js_b6bbe5ffb5"
            ],
            "text/plain": [
              "<IPython.core.display.Javascript object>"
            ]
          },
          "metadata": {
            "tags": [
              "id2-0-0",
              "outputarea_id2"
            ]
          }
        },
        {
          "output_type": "display_data",
          "data": {
            "application/javascript": [
              "window[\"c9096e86-7805-11eb-b6ee-0242ac1c0002\"] = document.querySelector(\"#id2-0-0\");\n",
              "//# sourceURL=js_ca8ed5df8a"
            ],
            "text/plain": [
              "<IPython.core.display.Javascript object>"
            ]
          },
          "metadata": {
            "tags": [
              "id2-0-0",
              "outputarea_id2"
            ]
          }
        },
        {
          "output_type": "display_data",
          "data": {
            "application/javascript": [
              "window[\"c909bfbc-7805-11eb-b6ee-0242ac1c0002\"] = google.colab.output.setActiveOutputArea(window[\"c9096e86-7805-11eb-b6ee-0242ac1c0002\"]);\n",
              "//# sourceURL=js_04f430a239"
            ],
            "text/plain": [
              "<IPython.core.display.Javascript object>"
            ]
          },
          "metadata": {
            "tags": [
              "id2-0-0",
              "outputarea_id2"
            ]
          }
        },
        {
          "output_type": "display_data",
          "data": {
            "application/javascript": [
              "window[\"c925fd80-7805-11eb-b6ee-0242ac1c0002\"] = google.colab.output.setActiveOutputArea(window[\"c90925fc-7805-11eb-b6ee-0242ac1c0002\"]);\n",
              "//# sourceURL=js_1c9af17c53"
            ],
            "text/plain": [
              "<IPython.core.display.Javascript object>"
            ]
          },
          "metadata": {
            "tags": [
              "id2-0-0",
              "outputarea_id2"
            ]
          }
        },
        {
          "output_type": "display_data",
          "data": {
            "application/javascript": [
              "window[\"c9278e66-7805-11eb-b6ee-0242ac1c0002\"] = google.colab.output.getActiveOutputArea();\n",
              "//# sourceURL=js_a621b8656b"
            ],
            "text/plain": [
              "<IPython.core.display.Javascript object>"
            ]
          },
          "metadata": {
            "tags": [
              "id2-0-0",
              "outputarea_id2"
            ]
          }
        },
        {
          "output_type": "display_data",
          "data": {
            "application/javascript": [
              "window[\"c927de02-7805-11eb-b6ee-0242ac1c0002\"] = document.querySelector(\"#id2-0-0\");\n",
              "//# sourceURL=js_c7579cf572"
            ],
            "text/plain": [
              "<IPython.core.display.Javascript object>"
            ]
          },
          "metadata": {
            "tags": [
              "id2-0-0",
              "outputarea_id2"
            ]
          }
        },
        {
          "output_type": "display_data",
          "data": {
            "application/javascript": [
              "window[\"c9282b1e-7805-11eb-b6ee-0242ac1c0002\"] = google.colab.output.setActiveOutputArea(window[\"c927de02-7805-11eb-b6ee-0242ac1c0002\"]);\n",
              "//# sourceURL=js_5cbab08cfa"
            ],
            "text/plain": [
              "<IPython.core.display.Javascript object>"
            ]
          },
          "metadata": {
            "tags": [
              "id2-0-0",
              "outputarea_id2"
            ]
          }
        },
        {
          "output_type": "display_data",
          "data": {
            "application/javascript": [
              "window[\"c9448fd4-7805-11eb-b6ee-0242ac1c0002\"] = google.colab.output.setActiveOutputArea(window[\"c9278e66-7805-11eb-b6ee-0242ac1c0002\"]);\n",
              "//# sourceURL=js_460c687cb0"
            ],
            "text/plain": [
              "<IPython.core.display.Javascript object>"
            ]
          },
          "metadata": {
            "tags": [
              "id2-0-0",
              "outputarea_id2"
            ]
          }
        },
        {
          "output_type": "display_data",
          "data": {
            "application/javascript": [
              "window[\"c9462aba-7805-11eb-b6ee-0242ac1c0002\"] = google.colab.output.getActiveOutputArea();\n",
              "//# sourceURL=js_40c9c20b26"
            ],
            "text/plain": [
              "<IPython.core.display.Javascript object>"
            ]
          },
          "metadata": {
            "tags": [
              "id2-0-0",
              "outputarea_id2"
            ]
          }
        },
        {
          "output_type": "display_data",
          "data": {
            "application/javascript": [
              "window[\"c946865e-7805-11eb-b6ee-0242ac1c0002\"] = document.querySelector(\"#id2-0-0\");\n",
              "//# sourceURL=js_bf1f4be116"
            ],
            "text/plain": [
              "<IPython.core.display.Javascript object>"
            ]
          },
          "metadata": {
            "tags": [
              "id2-0-0",
              "outputarea_id2"
            ]
          }
        },
        {
          "output_type": "display_data",
          "data": {
            "application/javascript": [
              "window[\"c946db22-7805-11eb-b6ee-0242ac1c0002\"] = google.colab.output.setActiveOutputArea(window[\"c946865e-7805-11eb-b6ee-0242ac1c0002\"]);\n",
              "//# sourceURL=js_80f515c40b"
            ],
            "text/plain": [
              "<IPython.core.display.Javascript object>"
            ]
          },
          "metadata": {
            "tags": [
              "id2-0-0",
              "outputarea_id2"
            ]
          }
        },
        {
          "output_type": "display_data",
          "data": {
            "application/javascript": [
              "window[\"c964ebb2-7805-11eb-b6ee-0242ac1c0002\"] = google.colab.output.setActiveOutputArea(window[\"c9462aba-7805-11eb-b6ee-0242ac1c0002\"]);\n",
              "//# sourceURL=js_926e5a7a04"
            ],
            "text/plain": [
              "<IPython.core.display.Javascript object>"
            ]
          },
          "metadata": {
            "tags": [
              "id2-0-0",
              "outputarea_id2"
            ]
          }
        },
        {
          "output_type": "display_data",
          "data": {
            "application/javascript": [
              "window[\"c96642c8-7805-11eb-b6ee-0242ac1c0002\"] = google.colab.output.getActiveOutputArea();\n",
              "//# sourceURL=js_f9cb438807"
            ],
            "text/plain": [
              "<IPython.core.display.Javascript object>"
            ]
          },
          "metadata": {
            "tags": [
              "id2-0-0",
              "outputarea_id2"
            ]
          }
        },
        {
          "output_type": "display_data",
          "data": {
            "application/javascript": [
              "window[\"c96689c2-7805-11eb-b6ee-0242ac1c0002\"] = document.querySelector(\"#id2-0-0\");\n",
              "//# sourceURL=js_4b55c0e8ea"
            ],
            "text/plain": [
              "<IPython.core.display.Javascript object>"
            ]
          },
          "metadata": {
            "tags": [
              "id2-0-0",
              "outputarea_id2"
            ]
          }
        },
        {
          "output_type": "display_data",
          "data": {
            "application/javascript": [
              "window[\"c966d134-7805-11eb-b6ee-0242ac1c0002\"] = google.colab.output.setActiveOutputArea(window[\"c96689c2-7805-11eb-b6ee-0242ac1c0002\"]);\n",
              "//# sourceURL=js_ceb2d289bf"
            ],
            "text/plain": [
              "<IPython.core.display.Javascript object>"
            ]
          },
          "metadata": {
            "tags": [
              "id2-0-0",
              "outputarea_id2"
            ]
          }
        },
        {
          "output_type": "display_data",
          "data": {
            "application/javascript": [
              "window[\"c981fbd0-7805-11eb-b6ee-0242ac1c0002\"] = google.colab.output.setActiveOutputArea(window[\"c96642c8-7805-11eb-b6ee-0242ac1c0002\"]);\n",
              "//# sourceURL=js_119894dcb7"
            ],
            "text/plain": [
              "<IPython.core.display.Javascript object>"
            ]
          },
          "metadata": {
            "tags": [
              "id2-0-0",
              "outputarea_id2"
            ]
          }
        },
        {
          "output_type": "display_data",
          "data": {
            "application/javascript": [
              "window[\"c9850b72-7805-11eb-b6ee-0242ac1c0002\"] = google.colab.output.getActiveOutputArea();\n",
              "//# sourceURL=js_7eaeed982b"
            ],
            "text/plain": [
              "<IPython.core.display.Javascript object>"
            ]
          },
          "metadata": {
            "tags": [
              "id2-0-0",
              "outputarea_id2"
            ]
          }
        },
        {
          "output_type": "display_data",
          "data": {
            "application/javascript": [
              "window[\"c98597fe-7805-11eb-b6ee-0242ac1c0002\"] = document.querySelector(\"#id2-0-0\");\n",
              "//# sourceURL=js_2b9df89d96"
            ],
            "text/plain": [
              "<IPython.core.display.Javascript object>"
            ]
          },
          "metadata": {
            "tags": [
              "id2-0-0",
              "outputarea_id2"
            ]
          }
        },
        {
          "output_type": "display_data",
          "data": {
            "application/javascript": [
              "window[\"c985fa1e-7805-11eb-b6ee-0242ac1c0002\"] = google.colab.output.setActiveOutputArea(window[\"c98597fe-7805-11eb-b6ee-0242ac1c0002\"]);\n",
              "//# sourceURL=js_dc9e37d22c"
            ],
            "text/plain": [
              "<IPython.core.display.Javascript object>"
            ]
          },
          "metadata": {
            "tags": [
              "id2-0-0",
              "outputarea_id2"
            ]
          }
        },
        {
          "output_type": "display_data",
          "data": {
            "application/javascript": [
              "window[\"c9aeebb8-7805-11eb-b6ee-0242ac1c0002\"] = google.colab.output.setActiveOutputArea(window[\"c9850b72-7805-11eb-b6ee-0242ac1c0002\"]);\n",
              "//# sourceURL=js_59cd75b1b6"
            ],
            "text/plain": [
              "<IPython.core.display.Javascript object>"
            ]
          },
          "metadata": {
            "tags": [
              "id2-0-0",
              "outputarea_id2"
            ]
          }
        },
        {
          "output_type": "display_data",
          "data": {
            "application/javascript": [
              "window[\"c9b0a138-7805-11eb-b6ee-0242ac1c0002\"] = google.colab.output.getActiveOutputArea();\n",
              "//# sourceURL=js_ed7283c637"
            ],
            "text/plain": [
              "<IPython.core.display.Javascript object>"
            ]
          },
          "metadata": {
            "tags": [
              "id2-0-0",
              "outputarea_id2"
            ]
          }
        },
        {
          "output_type": "display_data",
          "data": {
            "application/javascript": [
              "window[\"c9b0f00c-7805-11eb-b6ee-0242ac1c0002\"] = document.querySelector(\"#id2-0-0\");\n",
              "//# sourceURL=js_6c1118c351"
            ],
            "text/plain": [
              "<IPython.core.display.Javascript object>"
            ]
          },
          "metadata": {
            "tags": [
              "id2-0-0",
              "outputarea_id2"
            ]
          }
        },
        {
          "output_type": "display_data",
          "data": {
            "application/javascript": [
              "window[\"c9b12f04-7805-11eb-b6ee-0242ac1c0002\"] = google.colab.output.setActiveOutputArea(window[\"c9b0f00c-7805-11eb-b6ee-0242ac1c0002\"]);\n",
              "//# sourceURL=js_3ad387a6e6"
            ],
            "text/plain": [
              "<IPython.core.display.Javascript object>"
            ]
          },
          "metadata": {
            "tags": [
              "id2-0-0",
              "outputarea_id2"
            ]
          }
        },
        {
          "output_type": "display_data",
          "data": {
            "application/javascript": [
              "window[\"c9cc3e02-7805-11eb-b6ee-0242ac1c0002\"] = google.colab.output.setActiveOutputArea(window[\"c9b0a138-7805-11eb-b6ee-0242ac1c0002\"]);\n",
              "//# sourceURL=js_275e5b9238"
            ],
            "text/plain": [
              "<IPython.core.display.Javascript object>"
            ]
          },
          "metadata": {
            "tags": [
              "id2-0-0",
              "outputarea_id2"
            ]
          }
        },
        {
          "output_type": "display_data",
          "data": {
            "application/javascript": [
              "window[\"c9cd88d4-7805-11eb-b6ee-0242ac1c0002\"] = google.colab.output.getActiveOutputArea();\n",
              "//# sourceURL=js_555049fb90"
            ],
            "text/plain": [
              "<IPython.core.display.Javascript object>"
            ]
          },
          "metadata": {
            "tags": [
              "id2-0-0",
              "outputarea_id2"
            ]
          }
        },
        {
          "output_type": "display_data",
          "data": {
            "application/javascript": [
              "window[\"c9cdd9d8-7805-11eb-b6ee-0242ac1c0002\"] = document.querySelector(\"#id2-0-0\");\n",
              "//# sourceURL=js_55769a069d"
            ],
            "text/plain": [
              "<IPython.core.display.Javascript object>"
            ]
          },
          "metadata": {
            "tags": [
              "id2-0-0",
              "outputarea_id2"
            ]
          }
        },
        {
          "output_type": "display_data",
          "data": {
            "application/javascript": [
              "window[\"c9ce2294-7805-11eb-b6ee-0242ac1c0002\"] = google.colab.output.setActiveOutputArea(window[\"c9cdd9d8-7805-11eb-b6ee-0242ac1c0002\"]);\n",
              "//# sourceURL=js_e779406e9d"
            ],
            "text/plain": [
              "<IPython.core.display.Javascript object>"
            ]
          },
          "metadata": {
            "tags": [
              "id2-0-0",
              "outputarea_id2"
            ]
          }
        },
        {
          "output_type": "display_data",
          "data": {
            "application/javascript": [
              "window[\"c9e9f03c-7805-11eb-b6ee-0242ac1c0002\"] = google.colab.output.setActiveOutputArea(window[\"c9cd88d4-7805-11eb-b6ee-0242ac1c0002\"]);\n",
              "//# sourceURL=js_1874dcb42c"
            ],
            "text/plain": [
              "<IPython.core.display.Javascript object>"
            ]
          },
          "metadata": {
            "tags": [
              "id2-0-0",
              "outputarea_id2"
            ]
          }
        },
        {
          "output_type": "display_data",
          "data": {
            "application/javascript": [
              "window[\"c9ec9c92-7805-11eb-b6ee-0242ac1c0002\"] = google.colab.output.getActiveOutputArea();\n",
              "//# sourceURL=js_19d38d3268"
            ],
            "text/plain": [
              "<IPython.core.display.Javascript object>"
            ]
          },
          "metadata": {
            "tags": [
              "id2-0-0",
              "outputarea_id2"
            ]
          }
        },
        {
          "output_type": "display_data",
          "data": {
            "application/javascript": [
              "window[\"c9ed48ae-7805-11eb-b6ee-0242ac1c0002\"] = document.querySelector(\"#id2-0-0\");\n",
              "//# sourceURL=js_d37a18ed77"
            ],
            "text/plain": [
              "<IPython.core.display.Javascript object>"
            ]
          },
          "metadata": {
            "tags": [
              "id2-0-0",
              "outputarea_id2"
            ]
          }
        },
        {
          "output_type": "display_data",
          "data": {
            "application/javascript": [
              "window[\"c9edf5c4-7805-11eb-b6ee-0242ac1c0002\"] = google.colab.output.setActiveOutputArea(window[\"c9ed48ae-7805-11eb-b6ee-0242ac1c0002\"]);\n",
              "//# sourceURL=js_0ceb0296fc"
            ],
            "text/plain": [
              "<IPython.core.display.Javascript object>"
            ]
          },
          "metadata": {
            "tags": [
              "id2-0-0",
              "outputarea_id2"
            ]
          }
        },
        {
          "output_type": "display_data",
          "data": {
            "application/javascript": [
              "window[\"ca09f7f6-7805-11eb-b6ee-0242ac1c0002\"] = google.colab.output.setActiveOutputArea(window[\"c9ec9c92-7805-11eb-b6ee-0242ac1c0002\"]);\n",
              "//# sourceURL=js_12c1e11f5e"
            ],
            "text/plain": [
              "<IPython.core.display.Javascript object>"
            ]
          },
          "metadata": {
            "tags": [
              "id2-0-0",
              "outputarea_id2"
            ]
          }
        },
        {
          "output_type": "display_data",
          "data": {
            "application/javascript": [
              "window[\"ca0e07b0-7805-11eb-b6ee-0242ac1c0002\"] = google.colab.output.getActiveOutputArea();\n",
              "//# sourceURL=js_6d4760df88"
            ],
            "text/plain": [
              "<IPython.core.display.Javascript object>"
            ]
          },
          "metadata": {
            "tags": [
              "id2-0-0",
              "outputarea_id2"
            ]
          }
        },
        {
          "output_type": "display_data",
          "data": {
            "application/javascript": [
              "window[\"ca0e5580-7805-11eb-b6ee-0242ac1c0002\"] = document.querySelector(\"#id2-0-0\");\n",
              "//# sourceURL=js_31be560153"
            ],
            "text/plain": [
              "<IPython.core.display.Javascript object>"
            ]
          },
          "metadata": {
            "tags": [
              "id2-0-0",
              "outputarea_id2"
            ]
          }
        },
        {
          "output_type": "display_data",
          "data": {
            "application/javascript": [
              "window[\"ca0e9cb6-7805-11eb-b6ee-0242ac1c0002\"] = google.colab.output.setActiveOutputArea(window[\"ca0e5580-7805-11eb-b6ee-0242ac1c0002\"]);\n",
              "//# sourceURL=js_c7221c0971"
            ],
            "text/plain": [
              "<IPython.core.display.Javascript object>"
            ]
          },
          "metadata": {
            "tags": [
              "id2-0-0",
              "outputarea_id2"
            ]
          }
        },
        {
          "output_type": "display_data",
          "data": {
            "application/javascript": [
              "window[\"ca27fa9e-7805-11eb-b6ee-0242ac1c0002\"] = google.colab.output.setActiveOutputArea(window[\"ca0e07b0-7805-11eb-b6ee-0242ac1c0002\"]);\n",
              "//# sourceURL=js_a088328352"
            ],
            "text/plain": [
              "<IPython.core.display.Javascript object>"
            ]
          },
          "metadata": {
            "tags": [
              "id2-0-0",
              "outputarea_id2"
            ]
          }
        },
        {
          "output_type": "display_data",
          "data": {
            "application/javascript": [
              "window[\"ca295876-7805-11eb-b6ee-0242ac1c0002\"] = google.colab.output.getActiveOutputArea();\n",
              "//# sourceURL=js_0ba61a34d3"
            ],
            "text/plain": [
              "<IPython.core.display.Javascript object>"
            ]
          },
          "metadata": {
            "tags": [
              "id2-0-0",
              "outputarea_id2"
            ]
          }
        },
        {
          "output_type": "display_data",
          "data": {
            "application/javascript": [
              "window[\"ca299bf6-7805-11eb-b6ee-0242ac1c0002\"] = document.querySelector(\"#id2-0-0\");\n",
              "//# sourceURL=js_4cbc905ced"
            ],
            "text/plain": [
              "<IPython.core.display.Javascript object>"
            ]
          },
          "metadata": {
            "tags": [
              "id2-0-0",
              "outputarea_id2"
            ]
          }
        },
        {
          "output_type": "display_data",
          "data": {
            "application/javascript": [
              "window[\"ca29dbf2-7805-11eb-b6ee-0242ac1c0002\"] = google.colab.output.setActiveOutputArea(window[\"ca299bf6-7805-11eb-b6ee-0242ac1c0002\"]);\n",
              "//# sourceURL=js_3f7b753cfc"
            ],
            "text/plain": [
              "<IPython.core.display.Javascript object>"
            ]
          },
          "metadata": {
            "tags": [
              "id2-0-0",
              "outputarea_id2"
            ]
          }
        },
        {
          "output_type": "display_data",
          "data": {
            "application/javascript": [
              "window[\"ca46c5e6-7805-11eb-b6ee-0242ac1c0002\"] = google.colab.output.setActiveOutputArea(window[\"ca295876-7805-11eb-b6ee-0242ac1c0002\"]);\n",
              "//# sourceURL=js_b990940b66"
            ],
            "text/plain": [
              "<IPython.core.display.Javascript object>"
            ]
          },
          "metadata": {
            "tags": [
              "id2-0-0",
              "outputarea_id2"
            ]
          }
        },
        {
          "output_type": "display_data",
          "data": {
            "application/javascript": [
              "window[\"ca4806fe-7805-11eb-b6ee-0242ac1c0002\"] = google.colab.output.getActiveOutputArea();\n",
              "//# sourceURL=js_9d42e970b4"
            ],
            "text/plain": [
              "<IPython.core.display.Javascript object>"
            ]
          },
          "metadata": {
            "tags": [
              "id2-0-0",
              "outputarea_id2"
            ]
          }
        },
        {
          "output_type": "display_data",
          "data": {
            "application/javascript": [
              "window[\"ca484dd0-7805-11eb-b6ee-0242ac1c0002\"] = document.querySelector(\"#id2-0-0\");\n",
              "//# sourceURL=js_faf1fa78ea"
            ],
            "text/plain": [
              "<IPython.core.display.Javascript object>"
            ]
          },
          "metadata": {
            "tags": [
              "id2-0-0",
              "outputarea_id2"
            ]
          }
        },
        {
          "output_type": "display_data",
          "data": {
            "application/javascript": [
              "window[\"ca489010-7805-11eb-b6ee-0242ac1c0002\"] = google.colab.output.setActiveOutputArea(window[\"ca484dd0-7805-11eb-b6ee-0242ac1c0002\"]);\n",
              "//# sourceURL=js_74b4c6df6c"
            ],
            "text/plain": [
              "<IPython.core.display.Javascript object>"
            ]
          },
          "metadata": {
            "tags": [
              "id2-0-0",
              "outputarea_id2"
            ]
          }
        },
        {
          "output_type": "display_data",
          "data": {
            "application/javascript": [
              "window[\"ca63a846-7805-11eb-b6ee-0242ac1c0002\"] = google.colab.output.setActiveOutputArea(window[\"ca4806fe-7805-11eb-b6ee-0242ac1c0002\"]);\n",
              "//# sourceURL=js_a225f405fa"
            ],
            "text/plain": [
              "<IPython.core.display.Javascript object>"
            ]
          },
          "metadata": {
            "tags": [
              "id2-0-0",
              "outputarea_id2"
            ]
          }
        },
        {
          "output_type": "display_data",
          "data": {
            "application/javascript": [
              "window[\"ca64d694-7805-11eb-b6ee-0242ac1c0002\"] = google.colab.output.getActiveOutputArea();\n",
              "//# sourceURL=js_5a03714901"
            ],
            "text/plain": [
              "<IPython.core.display.Javascript object>"
            ]
          },
          "metadata": {
            "tags": [
              "id2-0-0",
              "outputarea_id2"
            ]
          }
        },
        {
          "output_type": "display_data",
          "data": {
            "application/javascript": [
              "window[\"ca65144c-7805-11eb-b6ee-0242ac1c0002\"] = document.querySelector(\"#id2-0-0\");\n",
              "//# sourceURL=js_152f9d1d62"
            ],
            "text/plain": [
              "<IPython.core.display.Javascript object>"
            ]
          },
          "metadata": {
            "tags": [
              "id2-0-0",
              "outputarea_id2"
            ]
          }
        },
        {
          "output_type": "display_data",
          "data": {
            "application/javascript": [
              "window[\"ca654bd8-7805-11eb-b6ee-0242ac1c0002\"] = google.colab.output.setActiveOutputArea(window[\"ca65144c-7805-11eb-b6ee-0242ac1c0002\"]);\n",
              "//# sourceURL=js_9487f3f564"
            ],
            "text/plain": [
              "<IPython.core.display.Javascript object>"
            ]
          },
          "metadata": {
            "tags": [
              "id2-0-0",
              "outputarea_id2"
            ]
          }
        },
        {
          "output_type": "display_data",
          "data": {
            "application/javascript": [
              "window[\"ca8106f2-7805-11eb-b6ee-0242ac1c0002\"] = google.colab.output.setActiveOutputArea(window[\"ca64d694-7805-11eb-b6ee-0242ac1c0002\"]);\n",
              "//# sourceURL=js_ff69ac5e51"
            ],
            "text/plain": [
              "<IPython.core.display.Javascript object>"
            ]
          },
          "metadata": {
            "tags": [
              "id2-0-0",
              "outputarea_id2"
            ]
          }
        },
        {
          "output_type": "display_data",
          "data": {
            "application/javascript": [
              "window[\"ca843944-7805-11eb-b6ee-0242ac1c0002\"] = google.colab.output.getActiveOutputArea();\n",
              "//# sourceURL=js_29e35e91e8"
            ],
            "text/plain": [
              "<IPython.core.display.Javascript object>"
            ]
          },
          "metadata": {
            "tags": [
              "id2-0-0",
              "outputarea_id2"
            ]
          }
        },
        {
          "output_type": "display_data",
          "data": {
            "application/javascript": [
              "window[\"ca8484bc-7805-11eb-b6ee-0242ac1c0002\"] = document.querySelector(\"#id2-0-0\");\n",
              "//# sourceURL=js_2980a0792d"
            ],
            "text/plain": [
              "<IPython.core.display.Javascript object>"
            ]
          },
          "metadata": {
            "tags": [
              "id2-0-0",
              "outputarea_id2"
            ]
          }
        },
        {
          "output_type": "display_data",
          "data": {
            "application/javascript": [
              "window[\"ca84eb64-7805-11eb-b6ee-0242ac1c0002\"] = google.colab.output.setActiveOutputArea(window[\"ca8484bc-7805-11eb-b6ee-0242ac1c0002\"]);\n",
              "//# sourceURL=js_ae696ab1ef"
            ],
            "text/plain": [
              "<IPython.core.display.Javascript object>"
            ]
          },
          "metadata": {
            "tags": [
              "id2-0-0",
              "outputarea_id2"
            ]
          }
        },
        {
          "output_type": "display_data",
          "data": {
            "application/javascript": [
              "window[\"ca9dedc6-7805-11eb-b6ee-0242ac1c0002\"] = google.colab.output.setActiveOutputArea(window[\"ca843944-7805-11eb-b6ee-0242ac1c0002\"]);\n",
              "//# sourceURL=js_edbf3b9100"
            ],
            "text/plain": [
              "<IPython.core.display.Javascript object>"
            ]
          },
          "metadata": {
            "tags": [
              "id2-0-0",
              "outputarea_id2"
            ]
          }
        },
        {
          "output_type": "display_data",
          "data": {
            "application/javascript": [
              "window[\"ca9f9054-7805-11eb-b6ee-0242ac1c0002\"] = google.colab.output.getActiveOutputArea();\n",
              "//# sourceURL=js_fa28791e52"
            ],
            "text/plain": [
              "<IPython.core.display.Javascript object>"
            ]
          },
          "metadata": {
            "tags": [
              "id2-0-0",
              "outputarea_id2"
            ]
          }
        },
        {
          "output_type": "display_data",
          "data": {
            "application/javascript": [
              "window[\"ca9fe4e6-7805-11eb-b6ee-0242ac1c0002\"] = document.querySelector(\"#id2-0-0\");\n",
              "//# sourceURL=js_8797a1c5ba"
            ],
            "text/plain": [
              "<IPython.core.display.Javascript object>"
            ]
          },
          "metadata": {
            "tags": [
              "id2-0-0",
              "outputarea_id2"
            ]
          }
        },
        {
          "output_type": "display_data",
          "data": {
            "application/javascript": [
              "window[\"caa0368a-7805-11eb-b6ee-0242ac1c0002\"] = google.colab.output.setActiveOutputArea(window[\"ca9fe4e6-7805-11eb-b6ee-0242ac1c0002\"]);\n",
              "//# sourceURL=js_5db25d3b2a"
            ],
            "text/plain": [
              "<IPython.core.display.Javascript object>"
            ]
          },
          "metadata": {
            "tags": [
              "id2-0-0",
              "outputarea_id2"
            ]
          }
        },
        {
          "output_type": "display_data",
          "data": {
            "application/javascript": [
              "window[\"cabb8ce6-7805-11eb-b6ee-0242ac1c0002\"] = google.colab.output.setActiveOutputArea(window[\"ca9f9054-7805-11eb-b6ee-0242ac1c0002\"]);\n",
              "//# sourceURL=js_8334c22371"
            ],
            "text/plain": [
              "<IPython.core.display.Javascript object>"
            ]
          },
          "metadata": {
            "tags": [
              "id2-0-0",
              "outputarea_id2"
            ]
          }
        },
        {
          "output_type": "display_data",
          "data": {
            "application/javascript": [
              "window[\"cabfbfd2-7805-11eb-b6ee-0242ac1c0002\"] = google.colab.output.getActiveOutputArea();\n",
              "//# sourceURL=js_d5366cc55e"
            ],
            "text/plain": [
              "<IPython.core.display.Javascript object>"
            ]
          },
          "metadata": {
            "tags": [
              "id2-0-0",
              "outputarea_id2"
            ]
          }
        },
        {
          "output_type": "display_data",
          "data": {
            "application/javascript": [
              "window[\"cac024e0-7805-11eb-b6ee-0242ac1c0002\"] = document.querySelector(\"#id2-0-0\");\n",
              "//# sourceURL=js_ce4f8df090"
            ],
            "text/plain": [
              "<IPython.core.display.Javascript object>"
            ]
          },
          "metadata": {
            "tags": [
              "id2-0-0",
              "outputarea_id2"
            ]
          }
        },
        {
          "output_type": "display_data",
          "data": {
            "application/javascript": [
              "window[\"cac081e2-7805-11eb-b6ee-0242ac1c0002\"] = google.colab.output.setActiveOutputArea(window[\"cac024e0-7805-11eb-b6ee-0242ac1c0002\"]);\n",
              "//# sourceURL=js_6f6e03f45f"
            ],
            "text/plain": [
              "<IPython.core.display.Javascript object>"
            ]
          },
          "metadata": {
            "tags": [
              "id2-0-0",
              "outputarea_id2"
            ]
          }
        },
        {
          "output_type": "display_data",
          "data": {
            "application/javascript": [
              "window[\"cadb8956-7805-11eb-b6ee-0242ac1c0002\"] = google.colab.output.setActiveOutputArea(window[\"cabfbfd2-7805-11eb-b6ee-0242ac1c0002\"]);\n",
              "//# sourceURL=js_1c6e6c9024"
            ],
            "text/plain": [
              "<IPython.core.display.Javascript object>"
            ]
          },
          "metadata": {
            "tags": [
              "id2-0-0",
              "outputarea_id2"
            ]
          }
        },
        {
          "output_type": "display_data",
          "data": {
            "application/javascript": [
              "window[\"cadd2482-7805-11eb-b6ee-0242ac1c0002\"] = google.colab.output.getActiveOutputArea();\n",
              "//# sourceURL=js_f0184ad0ed"
            ],
            "text/plain": [
              "<IPython.core.display.Javascript object>"
            ]
          },
          "metadata": {
            "tags": [
              "id2-0-0",
              "outputarea_id2"
            ]
          }
        },
        {
          "output_type": "display_data",
          "data": {
            "application/javascript": [
              "window[\"cadd7afe-7805-11eb-b6ee-0242ac1c0002\"] = document.querySelector(\"#id2-0-0\");\n",
              "//# sourceURL=js_9509dfa487"
            ],
            "text/plain": [
              "<IPython.core.display.Javascript object>"
            ]
          },
          "metadata": {
            "tags": [
              "id2-0-0",
              "outputarea_id2"
            ]
          }
        },
        {
          "output_type": "display_data",
          "data": {
            "application/javascript": [
              "window[\"caddc50e-7805-11eb-b6ee-0242ac1c0002\"] = google.colab.output.setActiveOutputArea(window[\"cadd7afe-7805-11eb-b6ee-0242ac1c0002\"]);\n",
              "//# sourceURL=js_43a948ffcc"
            ],
            "text/plain": [
              "<IPython.core.display.Javascript object>"
            ]
          },
          "metadata": {
            "tags": [
              "id2-0-0",
              "outputarea_id2"
            ]
          }
        },
        {
          "output_type": "display_data",
          "data": {
            "application/javascript": [
              "window[\"cb0408ea-7805-11eb-b6ee-0242ac1c0002\"] = google.colab.output.setActiveOutputArea(window[\"cadd2482-7805-11eb-b6ee-0242ac1c0002\"]);\n",
              "//# sourceURL=js_0ff03816bd"
            ],
            "text/plain": [
              "<IPython.core.display.Javascript object>"
            ]
          },
          "metadata": {
            "tags": [
              "id2-0-0",
              "outputarea_id2"
            ]
          }
        },
        {
          "output_type": "display_data",
          "data": {
            "application/javascript": [
              "window[\"cb058274-7805-11eb-b6ee-0242ac1c0002\"] = google.colab.output.getActiveOutputArea();\n",
              "//# sourceURL=js_130f795544"
            ],
            "text/plain": [
              "<IPython.core.display.Javascript object>"
            ]
          },
          "metadata": {
            "tags": [
              "id2-0-0",
              "outputarea_id2"
            ]
          }
        },
        {
          "output_type": "display_data",
          "data": {
            "application/javascript": [
              "window[\"cb05d012-7805-11eb-b6ee-0242ac1c0002\"] = document.querySelector(\"#id2-0-0\");\n",
              "//# sourceURL=js_b35a05194a"
            ],
            "text/plain": [
              "<IPython.core.display.Javascript object>"
            ]
          },
          "metadata": {
            "tags": [
              "id2-0-0",
              "outputarea_id2"
            ]
          }
        },
        {
          "output_type": "display_data",
          "data": {
            "application/javascript": [
              "window[\"cb061090-7805-11eb-b6ee-0242ac1c0002\"] = google.colab.output.setActiveOutputArea(window[\"cb05d012-7805-11eb-b6ee-0242ac1c0002\"]);\n",
              "//# sourceURL=js_43e2f0efeb"
            ],
            "text/plain": [
              "<IPython.core.display.Javascript object>"
            ]
          },
          "metadata": {
            "tags": [
              "id2-0-0",
              "outputarea_id2"
            ]
          }
        },
        {
          "output_type": "display_data",
          "data": {
            "application/javascript": [
              "window[\"cb215d82-7805-11eb-b6ee-0242ac1c0002\"] = google.colab.output.setActiveOutputArea(window[\"cb058274-7805-11eb-b6ee-0242ac1c0002\"]);\n",
              "//# sourceURL=js_d9f6010554"
            ],
            "text/plain": [
              "<IPython.core.display.Javascript object>"
            ]
          },
          "metadata": {
            "tags": [
              "id2-0-0",
              "outputarea_id2"
            ]
          }
        },
        {
          "output_type": "display_data",
          "data": {
            "application/javascript": [
              "window[\"cb22a99e-7805-11eb-b6ee-0242ac1c0002\"] = google.colab.output.getActiveOutputArea();\n",
              "//# sourceURL=js_8bd5146364"
            ],
            "text/plain": [
              "<IPython.core.display.Javascript object>"
            ]
          },
          "metadata": {
            "tags": [
              "id2-0-0",
              "outputarea_id2"
            ]
          }
        },
        {
          "output_type": "display_data",
          "data": {
            "application/javascript": [
              "window[\"cb22e828-7805-11eb-b6ee-0242ac1c0002\"] = document.querySelector(\"#id2-0-0\");\n",
              "//# sourceURL=js_d55b9cb1d6"
            ],
            "text/plain": [
              "<IPython.core.display.Javascript object>"
            ]
          },
          "metadata": {
            "tags": [
              "id2-0-0",
              "outputarea_id2"
            ]
          }
        },
        {
          "output_type": "display_data",
          "data": {
            "application/javascript": [
              "window[\"cb232216-7805-11eb-b6ee-0242ac1c0002\"] = google.colab.output.setActiveOutputArea(window[\"cb22e828-7805-11eb-b6ee-0242ac1c0002\"]);\n",
              "//# sourceURL=js_76bd2eb123"
            ],
            "text/plain": [
              "<IPython.core.display.Javascript object>"
            ]
          },
          "metadata": {
            "tags": [
              "id2-0-0",
              "outputarea_id2"
            ]
          }
        },
        {
          "output_type": "display_data",
          "data": {
            "application/javascript": [
              "window[\"cb3f0c88-7805-11eb-b6ee-0242ac1c0002\"] = google.colab.output.setActiveOutputArea(window[\"cb22a99e-7805-11eb-b6ee-0242ac1c0002\"]);\n",
              "//# sourceURL=js_a8b70a8bc8"
            ],
            "text/plain": [
              "<IPython.core.display.Javascript object>"
            ]
          },
          "metadata": {
            "tags": [
              "id2-0-0",
              "outputarea_id2"
            ]
          }
        },
        {
          "output_type": "display_data",
          "data": {
            "application/javascript": [
              "window[\"cb403edc-7805-11eb-b6ee-0242ac1c0002\"] = google.colab.output.getActiveOutputArea();\n",
              "//# sourceURL=js_cc788e0b59"
            ],
            "text/plain": [
              "<IPython.core.display.Javascript object>"
            ]
          },
          "metadata": {
            "tags": [
              "id2-0-0",
              "outputarea_id2"
            ]
          }
        },
        {
          "output_type": "display_data",
          "data": {
            "application/javascript": [
              "window[\"cb407a8c-7805-11eb-b6ee-0242ac1c0002\"] = document.querySelector(\"#id2-0-0\");\n",
              "//# sourceURL=js_f68c66b94d"
            ],
            "text/plain": [
              "<IPython.core.display.Javascript object>"
            ]
          },
          "metadata": {
            "tags": [
              "id2-0-0",
              "outputarea_id2"
            ]
          }
        },
        {
          "output_type": "display_data",
          "data": {
            "application/javascript": [
              "window[\"cb40b1c8-7805-11eb-b6ee-0242ac1c0002\"] = google.colab.output.setActiveOutputArea(window[\"cb407a8c-7805-11eb-b6ee-0242ac1c0002\"]);\n",
              "//# sourceURL=js_242864fc1c"
            ],
            "text/plain": [
              "<IPython.core.display.Javascript object>"
            ]
          },
          "metadata": {
            "tags": [
              "id2-0-0",
              "outputarea_id2"
            ]
          }
        },
        {
          "output_type": "display_data",
          "data": {
            "image/png": "[encoded data removed]",
            "text/plain": [
              "<Figure size 432x288 with 1 Axes>"
            ]
          },
          "metadata": {
            "tags": [
              "id2-0-0",
              "outputarea_id2",
              "user_output"
            ],
            "needs_background": "light"
          }
        },
        {
          "output_type": "display_data",
          "data": {
            "application/javascript": [
              "window[\"cb5dab3e-7805-11eb-b6ee-0242ac1c0002\"] = google.colab.output.setActiveOutputArea(window[\"cb403edc-7805-11eb-b6ee-0242ac1c0002\"]);\n",
              "//# sourceURL=js_d3b49b5f15"
            ],
            "text/plain": [
              "<IPython.core.display.Javascript object>"
            ]
          },
          "metadata": {
            "tags": [
              "id2-0-0",
              "outputarea_id2"
            ]
          }
        },
        {
          "output_type": "stream",
          "text": [
            "Agent has reached the Goal position\n",
            "At the end of the run, the agent is at state 15 & got a total reward of 8\n"
          ],
          "name": "stdout"
        }
      ]
    },
    {
      "cell_type": "markdown",
      "metadata": {
        "id": "AKMY1JX9c_jK"
      },
      "source": [
        "*Running the random agent in the Stochastic Environment*"
      ]
    },
    {
      "cell_type": "code",
      "metadata": {
        "colab": {
          "base_uri": "https://localhost:8080/",
          "height": 307
        },
        "id": "w23Qr8k6ca_G",
        "outputId": "b7fa36de-3fc1-49fa-e5fe-16d216fd818e"
      },
      "source": [
        "environment= StochasticEnvironment()\n",
        "random_agent= RandomAgent(env= environment)\n",
        "state= environment.reset()\n",
        "done= False\n",
        "\n",
        "grid= widgets.Grid(1, 1)\n",
        "\n",
        "total_reward= 0\n",
        "while not done:\n",
        "  action= random_agent.step(state= state)\n",
        "  next_state, reward, done, info= environment.step(action= action)\n",
        "  # print('By taking action \\'{}\\' the agent moved from {} to {} and got reward {}'.format(ACTION_LOOKUP[action], state, next_state, reward))\n",
        "  state= next_state\n",
        "  total_reward += reward\n",
        "\n",
        "  with grid.output_to(0, 0):\n",
        "    grid.clear_cell()\n",
        "    environment.render()\n",
        "    # time.sleep(1)\n",
        "\n",
        "if done == True and environment.timestep < MAX_TIMESTEPS:\n",
        "  print('Agent has reached the Goal position')\n",
        "elif done == True and environment.timestep == MAX_TIMESTEPS:\n",
        "  print('Agent ran out of time')\n",
        "\n",
        "print('At the end of the run, the agent got is at state {} & a total reward of {}'.format(state, total_reward))"
      ],
      "execution_count": 14,
      "outputs": [
        {
          "output_type": "display_data",
          "data": {
            "text/html": [
              "<style>\n",
              "       table#id4, #id4 > tbody > tr > th, #id4 > tbody > tr > td {\n",
              "         border: 1px solid lightgray;\n",
              "         border-collapse:collapse;\n",
              "         \n",
              "        }</style>"
            ],
            "text/plain": [
              "<IPython.core.display.HTML object>"
            ]
          },
          "metadata": {
            "tags": [
              "outputarea_id4"
            ]
          }
        },
        {
          "output_type": "display_data",
          "data": {
            "text/html": [
              "<table id=id4><tr><td id=id4-0-0></td></tr></table>"
            ],
            "text/plain": [
              "<IPython.core.display.HTML object>"
            ]
          },
          "metadata": {
            "tags": [
              "outputarea_id4"
            ]
          }
        },
        {
          "output_type": "display_data",
          "data": {
            "application/javascript": [
              "window[\"cb66f040-7805-11eb-b6ee-0242ac1c0002\"] = google.colab.output.getActiveOutputArea();\n",
              "//# sourceURL=js_951d799917"
            ],
            "text/plain": [
              "<IPython.core.display.Javascript object>"
            ]
          },
          "metadata": {
            "tags": [
              "id4-0-0",
              "outputarea_id4"
            ]
          }
        },
        {
          "output_type": "display_data",
          "data": {
            "application/javascript": [
              "window[\"cb674d7e-7805-11eb-b6ee-0242ac1c0002\"] = document.querySelector(\"#id4-0-0\");\n",
              "//# sourceURL=js_a02698580b"
            ],
            "text/plain": [
              "<IPython.core.display.Javascript object>"
            ]
          },
          "metadata": {
            "tags": [
              "id4-0-0",
              "outputarea_id4"
            ]
          }
        },
        {
          "output_type": "display_data",
          "data": {
            "application/javascript": [
              "window[\"cb679be4-7805-11eb-b6ee-0242ac1c0002\"] = google.colab.output.setActiveOutputArea(window[\"cb674d7e-7805-11eb-b6ee-0242ac1c0002\"]);\n",
              "//# sourceURL=js_fcb0b5fdfa"
            ],
            "text/plain": [
              "<IPython.core.display.Javascript object>"
            ]
          },
          "metadata": {
            "tags": [
              "id4-0-0",
              "outputarea_id4"
            ]
          }
        },
        {
          "output_type": "display_data",
          "data": {
            "application/javascript": [
              "window[\"cb7f4e6a-7805-11eb-b6ee-0242ac1c0002\"] = google.colab.output.setActiveOutputArea(window[\"cb66f040-7805-11eb-b6ee-0242ac1c0002\"]);\n",
              "//# sourceURL=js_260a794343"
            ],
            "text/plain": [
              "<IPython.core.display.Javascript object>"
            ]
          },
          "metadata": {
            "tags": [
              "id4-0-0",
              "outputarea_id4"
            ]
          }
        },
        {
          "output_type": "display_data",
          "data": {
            "application/javascript": [
              "window[\"cb80bfb6-7805-11eb-b6ee-0242ac1c0002\"] = google.colab.output.getActiveOutputArea();\n",
              "//# sourceURL=js_d5ba9775c5"
            ],
            "text/plain": [
              "<IPython.core.display.Javascript object>"
            ]
          },
          "metadata": {
            "tags": [
              "id4-0-0",
              "outputarea_id4"
            ]
          }
        },
        {
          "output_type": "display_data",
          "data": {
            "application/javascript": [
              "window[\"cb810958-7805-11eb-b6ee-0242ac1c0002\"] = document.querySelector(\"#id4-0-0\");\n",
              "//# sourceURL=js_d80ae76ddb"
            ],
            "text/plain": [
              "<IPython.core.display.Javascript object>"
            ]
          },
          "metadata": {
            "tags": [
              "id4-0-0",
              "outputarea_id4"
            ]
          }
        },
        {
          "output_type": "display_data",
          "data": {
            "application/javascript": [
              "window[\"cb8149c2-7805-11eb-b6ee-0242ac1c0002\"] = google.colab.output.setActiveOutputArea(window[\"cb810958-7805-11eb-b6ee-0242ac1c0002\"]);\n",
              "//# sourceURL=js_4b9b2f49ff"
            ],
            "text/plain": [
              "<IPython.core.display.Javascript object>"
            ]
          },
          "metadata": {
            "tags": [
              "id4-0-0",
              "outputarea_id4"
            ]
          }
        },
        {
          "output_type": "display_data",
          "data": {
            "application/javascript": [
              "window[\"cb9bb80c-7805-11eb-b6ee-0242ac1c0002\"] = google.colab.output.setActiveOutputArea(window[\"cb80bfb6-7805-11eb-b6ee-0242ac1c0002\"]);\n",
              "//# sourceURL=js_65a82bef17"
            ],
            "text/plain": [
              "<IPython.core.display.Javascript object>"
            ]
          },
          "metadata": {
            "tags": [
              "id4-0-0",
              "outputarea_id4"
            ]
          }
        },
        {
          "output_type": "display_data",
          "data": {
            "application/javascript": [
              "window[\"cb9cf92e-7805-11eb-b6ee-0242ac1c0002\"] = google.colab.output.getActiveOutputArea();\n",
              "//# sourceURL=js_ae2c07686d"
            ],
            "text/plain": [
              "<IPython.core.display.Javascript object>"
            ]
          },
          "metadata": {
            "tags": [
              "id4-0-0",
              "outputarea_id4"
            ]
          }
        },
        {
          "output_type": "display_data",
          "data": {
            "application/javascript": [
              "window[\"cb9d39ca-7805-11eb-b6ee-0242ac1c0002\"] = document.querySelector(\"#id4-0-0\");\n",
              "//# sourceURL=js_a9b23c27f0"
            ],
            "text/plain": [
              "<IPython.core.display.Javascript object>"
            ]
          },
          "metadata": {
            "tags": [
              "id4-0-0",
              "outputarea_id4"
            ]
          }
        },
        {
          "output_type": "display_data",
          "data": {
            "application/javascript": [
              "window[\"cb9d7d18-7805-11eb-b6ee-0242ac1c0002\"] = google.colab.output.setActiveOutputArea(window[\"cb9d39ca-7805-11eb-b6ee-0242ac1c0002\"]);\n",
              "//# sourceURL=js_5fd572187a"
            ],
            "text/plain": [
              "<IPython.core.display.Javascript object>"
            ]
          },
          "metadata": {
            "tags": [
              "id4-0-0",
              "outputarea_id4"
            ]
          }
        },
        {
          "output_type": "display_data",
          "data": {
            "application/javascript": [
              "window[\"cbb56f5e-7805-11eb-b6ee-0242ac1c0002\"] = google.colab.output.setActiveOutputArea(window[\"cb9cf92e-7805-11eb-b6ee-0242ac1c0002\"]);\n",
              "//# sourceURL=js_47f5dd277b"
            ],
            "text/plain": [
              "<IPython.core.display.Javascript object>"
            ]
          },
          "metadata": {
            "tags": [
              "id4-0-0",
              "outputarea_id4"
            ]
          }
        },
        {
          "output_type": "display_data",
          "data": {
            "application/javascript": [
              "window[\"cbb6b4b8-7805-11eb-b6ee-0242ac1c0002\"] = google.colab.output.getActiveOutputArea();\n",
              "//# sourceURL=js_5550ef63f8"
            ],
            "text/plain": [
              "<IPython.core.display.Javascript object>"
            ]
          },
          "metadata": {
            "tags": [
              "id4-0-0",
              "outputarea_id4"
            ]
          }
        },
        {
          "output_type": "display_data",
          "data": {
            "application/javascript": [
              "window[\"cbb6f75c-7805-11eb-b6ee-0242ac1c0002\"] = document.querySelector(\"#id4-0-0\");\n",
              "//# sourceURL=js_875f4ba989"
            ],
            "text/plain": [
              "<IPython.core.display.Javascript object>"
            ]
          },
          "metadata": {
            "tags": [
              "id4-0-0",
              "outputarea_id4"
            ]
          }
        },
        {
          "output_type": "display_data",
          "data": {
            "application/javascript": [
              "window[\"cbb738c0-7805-11eb-b6ee-0242ac1c0002\"] = google.colab.output.setActiveOutputArea(window[\"cbb6f75c-7805-11eb-b6ee-0242ac1c0002\"]);\n",
              "//# sourceURL=js_92f15d83dc"
            ],
            "text/plain": [
              "<IPython.core.display.Javascript object>"
            ]
          },
          "metadata": {
            "tags": [
              "id4-0-0",
              "outputarea_id4"
            ]
          }
        },
        {
          "output_type": "display_data",
          "data": {
            "application/javascript": [
              "window[\"cbcf424e-7805-11eb-b6ee-0242ac1c0002\"] = google.colab.output.setActiveOutputArea(window[\"cbb6b4b8-7805-11eb-b6ee-0242ac1c0002\"]);\n",
              "//# sourceURL=js_57305503b6"
            ],
            "text/plain": [
              "<IPython.core.display.Javascript object>"
            ]
          },
          "metadata": {
            "tags": [
              "id4-0-0",
              "outputarea_id4"
            ]
          }
        },
        {
          "output_type": "display_data",
          "data": {
            "application/javascript": [
              "window[\"cbd08f46-7805-11eb-b6ee-0242ac1c0002\"] = google.colab.output.getActiveOutputArea();\n",
              "//# sourceURL=js_dd4c077c56"
            ],
            "text/plain": [
              "<IPython.core.display.Javascript object>"
            ]
          },
          "metadata": {
            "tags": [
              "id4-0-0",
              "outputarea_id4"
            ]
          }
        },
        {
          "output_type": "display_data",
          "data": {
            "application/javascript": [
              "window[\"cbd0d58c-7805-11eb-b6ee-0242ac1c0002\"] = document.querySelector(\"#id4-0-0\");\n",
              "//# sourceURL=js_11116271b1"
            ],
            "text/plain": [
              "<IPython.core.display.Javascript object>"
            ]
          },
          "metadata": {
            "tags": [
              "id4-0-0",
              "outputarea_id4"
            ]
          }
        },
        {
          "output_type": "display_data",
          "data": {
            "application/javascript": [
              "window[\"cbd1168c-7805-11eb-b6ee-0242ac1c0002\"] = google.colab.output.setActiveOutputArea(window[\"cbd0d58c-7805-11eb-b6ee-0242ac1c0002\"]);\n",
              "//# sourceURL=js_0e251d509a"
            ],
            "text/plain": [
              "<IPython.core.display.Javascript object>"
            ]
          },
          "metadata": {
            "tags": [
              "id4-0-0",
              "outputarea_id4"
            ]
          }
        },
        {
          "output_type": "display_data",
          "data": {
            "application/javascript": [
              "window[\"cbe9d51e-7805-11eb-b6ee-0242ac1c0002\"] = google.colab.output.setActiveOutputArea(window[\"cbd08f46-7805-11eb-b6ee-0242ac1c0002\"]);\n",
              "//# sourceURL=js_87ba90b502"
            ],
            "text/plain": [
              "<IPython.core.display.Javascript object>"
            ]
          },
          "metadata": {
            "tags": [
              "id4-0-0",
              "outputarea_id4"
            ]
          }
        },
        {
          "output_type": "display_data",
          "data": {
            "application/javascript": [
              "window[\"cbeb2932-7805-11eb-b6ee-0242ac1c0002\"] = google.colab.output.getActiveOutputArea();\n",
              "//# sourceURL=js_95715974e2"
            ],
            "text/plain": [
              "<IPython.core.display.Javascript object>"
            ]
          },
          "metadata": {
            "tags": [
              "id4-0-0",
              "outputarea_id4"
            ]
          }
        },
        {
          "output_type": "display_data",
          "data": {
            "application/javascript": [
              "window[\"cbeb7658-7805-11eb-b6ee-0242ac1c0002\"] = document.querySelector(\"#id4-0-0\");\n",
              "//# sourceURL=js_a6f0d1b04c"
            ],
            "text/plain": [
              "<IPython.core.display.Javascript object>"
            ]
          },
          "metadata": {
            "tags": [
              "id4-0-0",
              "outputarea_id4"
            ]
          }
        },
        {
          "output_type": "display_data",
          "data": {
            "application/javascript": [
              "window[\"cbebc234-7805-11eb-b6ee-0242ac1c0002\"] = google.colab.output.setActiveOutputArea(window[\"cbeb7658-7805-11eb-b6ee-0242ac1c0002\"]);\n",
              "//# sourceURL=js_03566a33f4"
            ],
            "text/plain": [
              "<IPython.core.display.Javascript object>"
            ]
          },
          "metadata": {
            "tags": [
              "id4-0-0",
              "outputarea_id4"
            ]
          }
        },
        {
          "output_type": "display_data",
          "data": {
            "application/javascript": [
              "window[\"cc0932e2-7805-11eb-b6ee-0242ac1c0002\"] = google.colab.output.setActiveOutputArea(window[\"cbeb2932-7805-11eb-b6ee-0242ac1c0002\"]);\n",
              "//# sourceURL=js_3e375c85d2"
            ],
            "text/plain": [
              "<IPython.core.display.Javascript object>"
            ]
          },
          "metadata": {
            "tags": [
              "id4-0-0",
              "outputarea_id4"
            ]
          }
        },
        {
          "output_type": "display_data",
          "data": {
            "application/javascript": [
              "window[\"cc0a88ea-7805-11eb-b6ee-0242ac1c0002\"] = google.colab.output.getActiveOutputArea();\n",
              "//# sourceURL=js_52a1d1ccda"
            ],
            "text/plain": [
              "<IPython.core.display.Javascript object>"
            ]
          },
          "metadata": {
            "tags": [
              "id4-0-0",
              "outputarea_id4"
            ]
          }
        },
        {
          "output_type": "display_data",
          "data": {
            "application/javascript": [
              "window[\"cc0ad052-7805-11eb-b6ee-0242ac1c0002\"] = document.querySelector(\"#id4-0-0\");\n",
              "//# sourceURL=js_6fea222b8a"
            ],
            "text/plain": [
              "<IPython.core.display.Javascript object>"
            ]
          },
          "metadata": {
            "tags": [
              "id4-0-0",
              "outputarea_id4"
            ]
          }
        },
        {
          "output_type": "display_data",
          "data": {
            "application/javascript": [
              "window[\"cc0b15ee-7805-11eb-b6ee-0242ac1c0002\"] = google.colab.output.setActiveOutputArea(window[\"cc0ad052-7805-11eb-b6ee-0242ac1c0002\"]);\n",
              "//# sourceURL=js_d6fa1ed99b"
            ],
            "text/plain": [
              "<IPython.core.display.Javascript object>"
            ]
          },
          "metadata": {
            "tags": [
              "id4-0-0",
              "outputarea_id4"
            ]
          }
        },
        {
          "output_type": "display_data",
          "data": {
            "application/javascript": [
              "window[\"cc29140e-7805-11eb-b6ee-0242ac1c0002\"] = google.colab.output.setActiveOutputArea(window[\"cc0a88ea-7805-11eb-b6ee-0242ac1c0002\"]);\n",
              "//# sourceURL=js_62eeebf2e5"
            ],
            "text/plain": [
              "<IPython.core.display.Javascript object>"
            ]
          },
          "metadata": {
            "tags": [
              "id4-0-0",
              "outputarea_id4"
            ]
          }
        },
        {
          "output_type": "display_data",
          "data": {
            "application/javascript": [
              "window[\"cc2b8978-7805-11eb-b6ee-0242ac1c0002\"] = google.colab.output.getActiveOutputArea();\n",
              "//# sourceURL=js_fcb04db675"
            ],
            "text/plain": [
              "<IPython.core.display.Javascript object>"
            ]
          },
          "metadata": {
            "tags": [
              "id4-0-0",
              "outputarea_id4"
            ]
          }
        },
        {
          "output_type": "display_data",
          "data": {
            "application/javascript": [
              "window[\"cc2bf660-7805-11eb-b6ee-0242ac1c0002\"] = document.querySelector(\"#id4-0-0\");\n",
              "//# sourceURL=js_c2cb694622"
            ],
            "text/plain": [
              "<IPython.core.display.Javascript object>"
            ]
          },
          "metadata": {
            "tags": [
              "id4-0-0",
              "outputarea_id4"
            ]
          }
        },
        {
          "output_type": "display_data",
          "data": {
            "application/javascript": [
              "window[\"cc2c8cba-7805-11eb-b6ee-0242ac1c0002\"] = google.colab.output.setActiveOutputArea(window[\"cc2bf660-7805-11eb-b6ee-0242ac1c0002\"]);\n",
              "//# sourceURL=js_90b8a367de"
            ],
            "text/plain": [
              "<IPython.core.display.Javascript object>"
            ]
          },
          "metadata": {
            "tags": [
              "id4-0-0",
              "outputarea_id4"
            ]
          }
        },
        {
          "output_type": "display_data",
          "data": {
            "application/javascript": [
              "window[\"cc582ce4-7805-11eb-b6ee-0242ac1c0002\"] = google.colab.output.setActiveOutputArea(window[\"cc2b8978-7805-11eb-b6ee-0242ac1c0002\"]);\n",
              "//# sourceURL=js_cfc3669db0"
            ],
            "text/plain": [
              "<IPython.core.display.Javascript object>"
            ]
          },
          "metadata": {
            "tags": [
              "id4-0-0",
              "outputarea_id4"
            ]
          }
        },
        {
          "output_type": "display_data",
          "data": {
            "application/javascript": [
              "window[\"cc5a5a00-7805-11eb-b6ee-0242ac1c0002\"] = google.colab.output.getActiveOutputArea();\n",
              "//# sourceURL=js_ea95a43f02"
            ],
            "text/plain": [
              "<IPython.core.display.Javascript object>"
            ]
          },
          "metadata": {
            "tags": [
              "id4-0-0",
              "outputarea_id4"
            ]
          }
        },
        {
          "output_type": "display_data",
          "data": {
            "application/javascript": [
              "window[\"cc5b0432-7805-11eb-b6ee-0242ac1c0002\"] = document.querySelector(\"#id4-0-0\");\n",
              "//# sourceURL=js_6117da24dd"
            ],
            "text/plain": [
              "<IPython.core.display.Javascript object>"
            ]
          },
          "metadata": {
            "tags": [
              "id4-0-0",
              "outputarea_id4"
            ]
          }
        },
        {
          "output_type": "display_data",
          "data": {
            "application/javascript": [
              "window[\"cc5b9744-7805-11eb-b6ee-0242ac1c0002\"] = google.colab.output.setActiveOutputArea(window[\"cc5b0432-7805-11eb-b6ee-0242ac1c0002\"]);\n",
              "//# sourceURL=js_6e73d79a03"
            ],
            "text/plain": [
              "<IPython.core.display.Javascript object>"
            ]
          },
          "metadata": {
            "tags": [
              "id4-0-0",
              "outputarea_id4"
            ]
          }
        },
        {
          "output_type": "display_data",
          "data": {
            "application/javascript": [
              "window[\"cc7700ec-7805-11eb-b6ee-0242ac1c0002\"] = google.colab.output.setActiveOutputArea(window[\"cc5a5a00-7805-11eb-b6ee-0242ac1c0002\"]);\n",
              "//# sourceURL=js_15f23a43c9"
            ],
            "text/plain": [
              "<IPython.core.display.Javascript object>"
            ]
          },
          "metadata": {
            "tags": [
              "id4-0-0",
              "outputarea_id4"
            ]
          }
        },
        {
          "output_type": "display_data",
          "data": {
            "application/javascript": [
              "window[\"cc785aa0-7805-11eb-b6ee-0242ac1c0002\"] = google.colab.output.getActiveOutputArea();\n",
              "//# sourceURL=js_e49b30c938"
            ],
            "text/plain": [
              "<IPython.core.display.Javascript object>"
            ]
          },
          "metadata": {
            "tags": [
              "id4-0-0",
              "outputarea_id4"
            ]
          }
        },
        {
          "output_type": "display_data",
          "data": {
            "application/javascript": [
              "window[\"cc78aafa-7805-11eb-b6ee-0242ac1c0002\"] = document.querySelector(\"#id4-0-0\");\n",
              "//# sourceURL=js_4c7ebc20a9"
            ],
            "text/plain": [
              "<IPython.core.display.Javascript object>"
            ]
          },
          "metadata": {
            "tags": [
              "id4-0-0",
              "outputarea_id4"
            ]
          }
        },
        {
          "output_type": "display_data",
          "data": {
            "application/javascript": [
              "window[\"cc78e75e-7805-11eb-b6ee-0242ac1c0002\"] = google.colab.output.setActiveOutputArea(window[\"cc78aafa-7805-11eb-b6ee-0242ac1c0002\"]);\n",
              "//# sourceURL=js_cbebd6749f"
            ],
            "text/plain": [
              "<IPython.core.display.Javascript object>"
            ]
          },
          "metadata": {
            "tags": [
              "id4-0-0",
              "outputarea_id4"
            ]
          }
        },
        {
          "output_type": "display_data",
          "data": {
            "application/javascript": [
              "window[\"cc958e2c-7805-11eb-b6ee-0242ac1c0002\"] = google.colab.output.setActiveOutputArea(window[\"cc785aa0-7805-11eb-b6ee-0242ac1c0002\"]);\n",
              "//# sourceURL=js_413b7f95db"
            ],
            "text/plain": [
              "<IPython.core.display.Javascript object>"
            ]
          },
          "metadata": {
            "tags": [
              "id4-0-0",
              "outputarea_id4"
            ]
          }
        },
        {
          "output_type": "display_data",
          "data": {
            "application/javascript": [
              "window[\"cc96d26e-7805-11eb-b6ee-0242ac1c0002\"] = google.colab.output.getActiveOutputArea();\n",
              "//# sourceURL=js_57d8999814"
            ],
            "text/plain": [
              "<IPython.core.display.Javascript object>"
            ]
          },
          "metadata": {
            "tags": [
              "id4-0-0",
              "outputarea_id4"
            ]
          }
        },
        {
          "output_type": "display_data",
          "data": {
            "application/javascript": [
              "window[\"cc9718fa-7805-11eb-b6ee-0242ac1c0002\"] = document.querySelector(\"#id4-0-0\");\n",
              "//# sourceURL=js_55eee73e5e"
            ],
            "text/plain": [
              "<IPython.core.display.Javascript object>"
            ]
          },
          "metadata": {
            "tags": [
              "id4-0-0",
              "outputarea_id4"
            ]
          }
        },
        {
          "output_type": "display_data",
          "data": {
            "application/javascript": [
              "window[\"cc9757a2-7805-11eb-b6ee-0242ac1c0002\"] = google.colab.output.setActiveOutputArea(window[\"cc9718fa-7805-11eb-b6ee-0242ac1c0002\"]);\n",
              "//# sourceURL=js_72663e82c4"
            ],
            "text/plain": [
              "<IPython.core.display.Javascript object>"
            ]
          },
          "metadata": {
            "tags": [
              "id4-0-0",
              "outputarea_id4"
            ]
          }
        },
        {
          "output_type": "display_data",
          "data": {
            "application/javascript": [
              "window[\"ccb40cda-7805-11eb-b6ee-0242ac1c0002\"] = google.colab.output.setActiveOutputArea(window[\"cc96d26e-7805-11eb-b6ee-0242ac1c0002\"]);\n",
              "//# sourceURL=js_9867f9ea9f"
            ],
            "text/plain": [
              "<IPython.core.display.Javascript object>"
            ]
          },
          "metadata": {
            "tags": [
              "id4-0-0",
              "outputarea_id4"
            ]
          }
        },
        {
          "output_type": "display_data",
          "data": {
            "application/javascript": [
              "window[\"ccb55612-7805-11eb-b6ee-0242ac1c0002\"] = google.colab.output.getActiveOutputArea();\n",
              "//# sourceURL=js_e93f9745f9"
            ],
            "text/plain": [
              "<IPython.core.display.Javascript object>"
            ]
          },
          "metadata": {
            "tags": [
              "id4-0-0",
              "outputarea_id4"
            ]
          }
        },
        {
          "output_type": "display_data",
          "data": {
            "application/javascript": [
              "window[\"ccb5b2f6-7805-11eb-b6ee-0242ac1c0002\"] = document.querySelector(\"#id4-0-0\");\n",
              "//# sourceURL=js_2378c820ad"
            ],
            "text/plain": [
              "<IPython.core.display.Javascript object>"
            ]
          },
          "metadata": {
            "tags": [
              "id4-0-0",
              "outputarea_id4"
            ]
          }
        },
        {
          "output_type": "display_data",
          "data": {
            "application/javascript": [
              "window[\"ccb5f82e-7805-11eb-b6ee-0242ac1c0002\"] = google.colab.output.setActiveOutputArea(window[\"ccb5b2f6-7805-11eb-b6ee-0242ac1c0002\"]);\n",
              "//# sourceURL=js_0ceb3d7fa9"
            ],
            "text/plain": [
              "<IPython.core.display.Javascript object>"
            ]
          },
          "metadata": {
            "tags": [
              "id4-0-0",
              "outputarea_id4"
            ]
          }
        },
        {
          "output_type": "display_data",
          "data": {
            "application/javascript": [
              "window[\"ccd57f64-7805-11eb-b6ee-0242ac1c0002\"] = google.colab.output.setActiveOutputArea(window[\"ccb55612-7805-11eb-b6ee-0242ac1c0002\"]);\n",
              "//# sourceURL=js_7380bafe32"
            ],
            "text/plain": [
              "<IPython.core.display.Javascript object>"
            ]
          },
          "metadata": {
            "tags": [
              "id4-0-0",
              "outputarea_id4"
            ]
          }
        },
        {
          "output_type": "display_data",
          "data": {
            "application/javascript": [
              "window[\"ccd6ee9e-7805-11eb-b6ee-0242ac1c0002\"] = google.colab.output.getActiveOutputArea();\n",
              "//# sourceURL=js_4b75c434d8"
            ],
            "text/plain": [
              "<IPython.core.display.Javascript object>"
            ]
          },
          "metadata": {
            "tags": [
              "id4-0-0",
              "outputarea_id4"
            ]
          }
        },
        {
          "output_type": "display_data",
          "data": {
            "application/javascript": [
              "window[\"ccd74d80-7805-11eb-b6ee-0242ac1c0002\"] = document.querySelector(\"#id4-0-0\");\n",
              "//# sourceURL=js_5b16190a6e"
            ],
            "text/plain": [
              "<IPython.core.display.Javascript object>"
            ]
          },
          "metadata": {
            "tags": [
              "id4-0-0",
              "outputarea_id4"
            ]
          }
        },
        {
          "output_type": "display_data",
          "data": {
            "application/javascript": [
              "window[\"ccd7caf8-7805-11eb-b6ee-0242ac1c0002\"] = google.colab.output.setActiveOutputArea(window[\"ccd74d80-7805-11eb-b6ee-0242ac1c0002\"]);\n",
              "//# sourceURL=js_ca7f442d52"
            ],
            "text/plain": [
              "<IPython.core.display.Javascript object>"
            ]
          },
          "metadata": {
            "tags": [
              "id4-0-0",
              "outputarea_id4"
            ]
          }
        },
        {
          "output_type": "display_data",
          "data": {
            "application/javascript": [
              "window[\"ccf2ec5c-7805-11eb-b6ee-0242ac1c0002\"] = google.colab.output.setActiveOutputArea(window[\"ccd6ee9e-7805-11eb-b6ee-0242ac1c0002\"]);\n",
              "//# sourceURL=js_65330ff340"
            ],
            "text/plain": [
              "<IPython.core.display.Javascript object>"
            ]
          },
          "metadata": {
            "tags": [
              "id4-0-0",
              "outputarea_id4"
            ]
          }
        },
        {
          "output_type": "display_data",
          "data": {
            "application/javascript": [
              "window[\"ccf44ebc-7805-11eb-b6ee-0242ac1c0002\"] = google.colab.output.getActiveOutputArea();\n",
              "//# sourceURL=js_f444b5b159"
            ],
            "text/plain": [
              "<IPython.core.display.Javascript object>"
            ]
          },
          "metadata": {
            "tags": [
              "id4-0-0",
              "outputarea_id4"
            ]
          }
        },
        {
          "output_type": "display_data",
          "data": {
            "application/javascript": [
              "window[\"ccf49ea8-7805-11eb-b6ee-0242ac1c0002\"] = document.querySelector(\"#id4-0-0\");\n",
              "//# sourceURL=js_fd508411c6"
            ],
            "text/plain": [
              "<IPython.core.display.Javascript object>"
            ]
          },
          "metadata": {
            "tags": [
              "id4-0-0",
              "outputarea_id4"
            ]
          }
        },
        {
          "output_type": "display_data",
          "data": {
            "application/javascript": [
              "window[\"ccf4e4ee-7805-11eb-b6ee-0242ac1c0002\"] = google.colab.output.setActiveOutputArea(window[\"ccf49ea8-7805-11eb-b6ee-0242ac1c0002\"]);\n",
              "//# sourceURL=js_479bbc92aa"
            ],
            "text/plain": [
              "<IPython.core.display.Javascript object>"
            ]
          },
          "metadata": {
            "tags": [
              "id4-0-0",
              "outputarea_id4"
            ]
          }
        },
        {
          "output_type": "display_data",
          "data": {
            "application/javascript": [
              "window[\"cd1117d6-7805-11eb-b6ee-0242ac1c0002\"] = google.colab.output.setActiveOutputArea(window[\"ccf44ebc-7805-11eb-b6ee-0242ac1c0002\"]);\n",
              "//# sourceURL=js_8715b15149"
            ],
            "text/plain": [
              "<IPython.core.display.Javascript object>"
            ]
          },
          "metadata": {
            "tags": [
              "id4-0-0",
              "outputarea_id4"
            ]
          }
        },
        {
          "output_type": "display_data",
          "data": {
            "application/javascript": [
              "window[\"cd12a042-7805-11eb-b6ee-0242ac1c0002\"] = google.colab.output.getActiveOutputArea();\n",
              "//# sourceURL=js_4016f00b5f"
            ],
            "text/plain": [
              "<IPython.core.display.Javascript object>"
            ]
          },
          "metadata": {
            "tags": [
              "id4-0-0",
              "outputarea_id4"
            ]
          }
        },
        {
          "output_type": "display_data",
          "data": {
            "application/javascript": [
              "window[\"cd12e84a-7805-11eb-b6ee-0242ac1c0002\"] = document.querySelector(\"#id4-0-0\");\n",
              "//# sourceURL=js_8c1030b851"
            ],
            "text/plain": [
              "<IPython.core.display.Javascript object>"
            ]
          },
          "metadata": {
            "tags": [
              "id4-0-0",
              "outputarea_id4"
            ]
          }
        },
        {
          "output_type": "display_data",
          "data": {
            "application/javascript": [
              "window[\"cd13413c-7805-11eb-b6ee-0242ac1c0002\"] = google.colab.output.setActiveOutputArea(window[\"cd12e84a-7805-11eb-b6ee-0242ac1c0002\"]);\n",
              "//# sourceURL=js_6f75cf5263"
            ],
            "text/plain": [
              "<IPython.core.display.Javascript object>"
            ]
          },
          "metadata": {
            "tags": [
              "id4-0-0",
              "outputarea_id4"
            ]
          }
        },
        {
          "output_type": "display_data",
          "data": {
            "application/javascript": [
              "window[\"cd2f76ea-7805-11eb-b6ee-0242ac1c0002\"] = google.colab.output.setActiveOutputArea(window[\"cd12a042-7805-11eb-b6ee-0242ac1c0002\"]);\n",
              "//# sourceURL=js_b5044275e2"
            ],
            "text/plain": [
              "<IPython.core.display.Javascript object>"
            ]
          },
          "metadata": {
            "tags": [
              "id4-0-0",
              "outputarea_id4"
            ]
          }
        },
        {
          "output_type": "display_data",
          "data": {
            "application/javascript": [
              "window[\"cd30cf86-7805-11eb-b6ee-0242ac1c0002\"] = google.colab.output.getActiveOutputArea();\n",
              "//# sourceURL=js_34dc33dea5"
            ],
            "text/plain": [
              "<IPython.core.display.Javascript object>"
            ]
          },
          "metadata": {
            "tags": [
              "id4-0-0",
              "outputarea_id4"
            ]
          }
        },
        {
          "output_type": "display_data",
          "data": {
            "application/javascript": [
              "window[\"cd310c8a-7805-11eb-b6ee-0242ac1c0002\"] = document.querySelector(\"#id4-0-0\");\n",
              "//# sourceURL=js_85caa4a191"
            ],
            "text/plain": [
              "<IPython.core.display.Javascript object>"
            ]
          },
          "metadata": {
            "tags": [
              "id4-0-0",
              "outputarea_id4"
            ]
          }
        },
        {
          "output_type": "display_data",
          "data": {
            "application/javascript": [
              "window[\"cd31470e-7805-11eb-b6ee-0242ac1c0002\"] = google.colab.output.setActiveOutputArea(window[\"cd310c8a-7805-11eb-b6ee-0242ac1c0002\"]);\n",
              "//# sourceURL=js_0d8203ffca"
            ],
            "text/plain": [
              "<IPython.core.display.Javascript object>"
            ]
          },
          "metadata": {
            "tags": [
              "id4-0-0",
              "outputarea_id4"
            ]
          }
        },
        {
          "output_type": "display_data",
          "data": {
            "application/javascript": [
              "window[\"cd4e18ac-7805-11eb-b6ee-0242ac1c0002\"] = google.colab.output.setActiveOutputArea(window[\"cd30cf86-7805-11eb-b6ee-0242ac1c0002\"]);\n",
              "//# sourceURL=js_063b776430"
            ],
            "text/plain": [
              "<IPython.core.display.Javascript object>"
            ]
          },
          "metadata": {
            "tags": [
              "id4-0-0",
              "outputarea_id4"
            ]
          }
        },
        {
          "output_type": "display_data",
          "data": {
            "application/javascript": [
              "window[\"cd4fa0fa-7805-11eb-b6ee-0242ac1c0002\"] = google.colab.output.getActiveOutputArea();\n",
              "//# sourceURL=js_e4ba97001e"
            ],
            "text/plain": [
              "<IPython.core.display.Javascript object>"
            ]
          },
          "metadata": {
            "tags": [
              "id4-0-0",
              "outputarea_id4"
            ]
          }
        },
        {
          "output_type": "display_data",
          "data": {
            "application/javascript": [
              "window[\"cd4fe7ae-7805-11eb-b6ee-0242ac1c0002\"] = document.querySelector(\"#id4-0-0\");\n",
              "//# sourceURL=js_e61e47dfa4"
            ],
            "text/plain": [
              "<IPython.core.display.Javascript object>"
            ]
          },
          "metadata": {
            "tags": [
              "id4-0-0",
              "outputarea_id4"
            ]
          }
        },
        {
          "output_type": "display_data",
          "data": {
            "application/javascript": [
              "window[\"cd502e3a-7805-11eb-b6ee-0242ac1c0002\"] = google.colab.output.setActiveOutputArea(window[\"cd4fe7ae-7805-11eb-b6ee-0242ac1c0002\"]);\n",
              "//# sourceURL=js_de11cda0d2"
            ],
            "text/plain": [
              "<IPython.core.display.Javascript object>"
            ]
          },
          "metadata": {
            "tags": [
              "id4-0-0",
              "outputarea_id4"
            ]
          }
        },
        {
          "output_type": "display_data",
          "data": {
            "application/javascript": [
              "window[\"cd69596e-7805-11eb-b6ee-0242ac1c0002\"] = google.colab.output.setActiveOutputArea(window[\"cd4fa0fa-7805-11eb-b6ee-0242ac1c0002\"]);\n",
              "//# sourceURL=js_80080c2bb4"
            ],
            "text/plain": [
              "<IPython.core.display.Javascript object>"
            ]
          },
          "metadata": {
            "tags": [
              "id4-0-0",
              "outputarea_id4"
            ]
          }
        },
        {
          "output_type": "display_data",
          "data": {
            "application/javascript": [
              "window[\"cd6a931a-7805-11eb-b6ee-0242ac1c0002\"] = google.colab.output.getActiveOutputArea();\n",
              "//# sourceURL=js_d58126543c"
            ],
            "text/plain": [
              "<IPython.core.display.Javascript object>"
            ]
          },
          "metadata": {
            "tags": [
              "id4-0-0",
              "outputarea_id4"
            ]
          }
        },
        {
          "output_type": "display_data",
          "data": {
            "application/javascript": [
              "window[\"cd6add48-7805-11eb-b6ee-0242ac1c0002\"] = document.querySelector(\"#id4-0-0\");\n",
              "//# sourceURL=js_9b9a9892ad"
            ],
            "text/plain": [
              "<IPython.core.display.Javascript object>"
            ]
          },
          "metadata": {
            "tags": [
              "id4-0-0",
              "outputarea_id4"
            ]
          }
        },
        {
          "output_type": "display_data",
          "data": {
            "application/javascript": [
              "window[\"cd6b27ee-7805-11eb-b6ee-0242ac1c0002\"] = google.colab.output.setActiveOutputArea(window[\"cd6add48-7805-11eb-b6ee-0242ac1c0002\"]);\n",
              "//# sourceURL=js_b0ba408349"
            ],
            "text/plain": [
              "<IPython.core.display.Javascript object>"
            ]
          },
          "metadata": {
            "tags": [
              "id4-0-0",
              "outputarea_id4"
            ]
          }
        },
        {
          "output_type": "display_data",
          "data": {
            "application/javascript": [
              "window[\"cd8558f8-7805-11eb-b6ee-0242ac1c0002\"] = google.colab.output.setActiveOutputArea(window[\"cd6a931a-7805-11eb-b6ee-0242ac1c0002\"]);\n",
              "//# sourceURL=js_27a5c156a7"
            ],
            "text/plain": [
              "<IPython.core.display.Javascript object>"
            ]
          },
          "metadata": {
            "tags": [
              "id4-0-0",
              "outputarea_id4"
            ]
          }
        },
        {
          "output_type": "display_data",
          "data": {
            "application/javascript": [
              "window[\"cd868d5e-7805-11eb-b6ee-0242ac1c0002\"] = google.colab.output.getActiveOutputArea();\n",
              "//# sourceURL=js_1c5ff0ec0e"
            ],
            "text/plain": [
              "<IPython.core.display.Javascript object>"
            ]
          },
          "metadata": {
            "tags": [
              "id4-0-0",
              "outputarea_id4"
            ]
          }
        },
        {
          "output_type": "display_data",
          "data": {
            "application/javascript": [
              "window[\"cd86d6ec-7805-11eb-b6ee-0242ac1c0002\"] = document.querySelector(\"#id4-0-0\");\n",
              "//# sourceURL=js_d01ac2082a"
            ],
            "text/plain": [
              "<IPython.core.display.Javascript object>"
            ]
          },
          "metadata": {
            "tags": [
              "id4-0-0",
              "outputarea_id4"
            ]
          }
        },
        {
          "output_type": "display_data",
          "data": {
            "application/javascript": [
              "window[\"cd871ff8-7805-11eb-b6ee-0242ac1c0002\"] = google.colab.output.setActiveOutputArea(window[\"cd86d6ec-7805-11eb-b6ee-0242ac1c0002\"]);\n",
              "//# sourceURL=js_84a45d1922"
            ],
            "text/plain": [
              "<IPython.core.display.Javascript object>"
            ]
          },
          "metadata": {
            "tags": [
              "id4-0-0",
              "outputarea_id4"
            ]
          }
        },
        {
          "output_type": "display_data",
          "data": {
            "application/javascript": [
              "window[\"cdaaff04-7805-11eb-b6ee-0242ac1c0002\"] = google.colab.output.setActiveOutputArea(window[\"cd868d5e-7805-11eb-b6ee-0242ac1c0002\"]);\n",
              "//# sourceURL=js_c1b6a4d167"
            ],
            "text/plain": [
              "<IPython.core.display.Javascript object>"
            ]
          },
          "metadata": {
            "tags": [
              "id4-0-0",
              "outputarea_id4"
            ]
          }
        },
        {
          "output_type": "display_data",
          "data": {
            "application/javascript": [
              "window[\"cdac2ca8-7805-11eb-b6ee-0242ac1c0002\"] = google.colab.output.getActiveOutputArea();\n",
              "//# sourceURL=js_f5f39d1ec9"
            ],
            "text/plain": [
              "<IPython.core.display.Javascript object>"
            ]
          },
          "metadata": {
            "tags": [
              "id4-0-0",
              "outputarea_id4"
            ]
          }
        },
        {
          "output_type": "display_data",
          "data": {
            "application/javascript": [
              "window[\"cdac788e-7805-11eb-b6ee-0242ac1c0002\"] = document.querySelector(\"#id4-0-0\");\n",
              "//# sourceURL=js_5ba827a531"
            ],
            "text/plain": [
              "<IPython.core.display.Javascript object>"
            ]
          },
          "metadata": {
            "tags": [
              "id4-0-0",
              "outputarea_id4"
            ]
          }
        },
        {
          "output_type": "display_data",
          "data": {
            "application/javascript": [
              "window[\"cdacbe16-7805-11eb-b6ee-0242ac1c0002\"] = google.colab.output.setActiveOutputArea(window[\"cdac788e-7805-11eb-b6ee-0242ac1c0002\"]);\n",
              "//# sourceURL=js_6922cb01c7"
            ],
            "text/plain": [
              "<IPython.core.display.Javascript object>"
            ]
          },
          "metadata": {
            "tags": [
              "id4-0-0",
              "outputarea_id4"
            ]
          }
        },
        {
          "output_type": "display_data",
          "data": {
            "application/javascript": [
              "window[\"cdc7f348-7805-11eb-b6ee-0242ac1c0002\"] = google.colab.output.setActiveOutputArea(window[\"cdac2ca8-7805-11eb-b6ee-0242ac1c0002\"]);\n",
              "//# sourceURL=js_22a0fb9931"
            ],
            "text/plain": [
              "<IPython.core.display.Javascript object>"
            ]
          },
          "metadata": {
            "tags": [
              "id4-0-0",
              "outputarea_id4"
            ]
          }
        },
        {
          "output_type": "display_data",
          "data": {
            "application/javascript": [
              "window[\"cdc92e02-7805-11eb-b6ee-0242ac1c0002\"] = google.colab.output.getActiveOutputArea();\n",
              "//# sourceURL=js_99764917b6"
            ],
            "text/plain": [
              "<IPython.core.display.Javascript object>"
            ]
          },
          "metadata": {
            "tags": [
              "id4-0-0",
              "outputarea_id4"
            ]
          }
        },
        {
          "output_type": "display_data",
          "data": {
            "application/javascript": [
              "window[\"cdc979f2-7805-11eb-b6ee-0242ac1c0002\"] = document.querySelector(\"#id4-0-0\");\n",
              "//# sourceURL=js_d835809f81"
            ],
            "text/plain": [
              "<IPython.core.display.Javascript object>"
            ]
          },
          "metadata": {
            "tags": [
              "id4-0-0",
              "outputarea_id4"
            ]
          }
        },
        {
          "output_type": "display_data",
          "data": {
            "application/javascript": [
              "window[\"cdc9c506-7805-11eb-b6ee-0242ac1c0002\"] = google.colab.output.setActiveOutputArea(window[\"cdc979f2-7805-11eb-b6ee-0242ac1c0002\"]);\n",
              "//# sourceURL=js_d58a746c29"
            ],
            "text/plain": [
              "<IPython.core.display.Javascript object>"
            ]
          },
          "metadata": {
            "tags": [
              "id4-0-0",
              "outputarea_id4"
            ]
          }
        },
        {
          "output_type": "display_data",
          "data": {
            "application/javascript": [
              "window[\"cde584b2-7805-11eb-b6ee-0242ac1c0002\"] = google.colab.output.setActiveOutputArea(window[\"cdc92e02-7805-11eb-b6ee-0242ac1c0002\"]);\n",
              "//# sourceURL=js_a660e092bf"
            ],
            "text/plain": [
              "<IPython.core.display.Javascript object>"
            ]
          },
          "metadata": {
            "tags": [
              "id4-0-0",
              "outputarea_id4"
            ]
          }
        },
        {
          "output_type": "display_data",
          "data": {
            "application/javascript": [
              "window[\"cde6c91c-7805-11eb-b6ee-0242ac1c0002\"] = google.colab.output.getActiveOutputArea();\n",
              "//# sourceURL=js_e8d74893c0"
            ],
            "text/plain": [
              "<IPython.core.display.Javascript object>"
            ]
          },
          "metadata": {
            "tags": [
              "id4-0-0",
              "outputarea_id4"
            ]
          }
        },
        {
          "output_type": "display_data",
          "data": {
            "application/javascript": [
              "window[\"cde720f6-7805-11eb-b6ee-0242ac1c0002\"] = document.querySelector(\"#id4-0-0\");\n",
              "//# sourceURL=js_2aaa4aa9f4"
            ],
            "text/plain": [
              "<IPython.core.display.Javascript object>"
            ]
          },
          "metadata": {
            "tags": [
              "id4-0-0",
              "outputarea_id4"
            ]
          }
        },
        {
          "output_type": "display_data",
          "data": {
            "application/javascript": [
              "window[\"cde76a98-7805-11eb-b6ee-0242ac1c0002\"] = google.colab.output.setActiveOutputArea(window[\"cde720f6-7805-11eb-b6ee-0242ac1c0002\"]);\n",
              "//# sourceURL=js_e5d87a4962"
            ],
            "text/plain": [
              "<IPython.core.display.Javascript object>"
            ]
          },
          "metadata": {
            "tags": [
              "id4-0-0",
              "outputarea_id4"
            ]
          }
        },
        {
          "output_type": "display_data",
          "data": {
            "application/javascript": [
              "window[\"ce04ac3e-7805-11eb-b6ee-0242ac1c0002\"] = google.colab.output.setActiveOutputArea(window[\"cde6c91c-7805-11eb-b6ee-0242ac1c0002\"]);\n",
              "//# sourceURL=js_05b9433c54"
            ],
            "text/plain": [
              "<IPython.core.display.Javascript object>"
            ]
          },
          "metadata": {
            "tags": [
              "id4-0-0",
              "outputarea_id4"
            ]
          }
        },
        {
          "output_type": "display_data",
          "data": {
            "application/javascript": [
              "window[\"ce05e5b8-7805-11eb-b6ee-0242ac1c0002\"] = google.colab.output.getActiveOutputArea();\n",
              "//# sourceURL=js_e8fce3c29a"
            ],
            "text/plain": [
              "<IPython.core.display.Javascript object>"
            ]
          },
          "metadata": {
            "tags": [
              "id4-0-0",
              "outputarea_id4"
            ]
          }
        },
        {
          "output_type": "display_data",
          "data": {
            "application/javascript": [
              "window[\"ce062d20-7805-11eb-b6ee-0242ac1c0002\"] = document.querySelector(\"#id4-0-0\");\n",
              "//# sourceURL=js_025bee1297"
            ],
            "text/plain": [
              "<IPython.core.display.Javascript object>"
            ]
          },
          "metadata": {
            "tags": [
              "id4-0-0",
              "outputarea_id4"
            ]
          }
        },
        {
          "output_type": "display_data",
          "data": {
            "application/javascript": [
              "window[\"ce0672bc-7805-11eb-b6ee-0242ac1c0002\"] = google.colab.output.setActiveOutputArea(window[\"ce062d20-7805-11eb-b6ee-0242ac1c0002\"]);\n",
              "//# sourceURL=js_10788c04f1"
            ],
            "text/plain": [
              "<IPython.core.display.Javascript object>"
            ]
          },
          "metadata": {
            "tags": [
              "id4-0-0",
              "outputarea_id4"
            ]
          }
        },
        {
          "output_type": "display_data",
          "data": {
            "application/javascript": [
              "window[\"ce1f839c-7805-11eb-b6ee-0242ac1c0002\"] = google.colab.output.setActiveOutputArea(window[\"ce05e5b8-7805-11eb-b6ee-0242ac1c0002\"]);\n",
              "//# sourceURL=js_24228189ab"
            ],
            "text/plain": [
              "<IPython.core.display.Javascript object>"
            ]
          },
          "metadata": {
            "tags": [
              "id4-0-0",
              "outputarea_id4"
            ]
          }
        },
        {
          "output_type": "display_data",
          "data": {
            "application/javascript": [
              "window[\"ce20ca68-7805-11eb-b6ee-0242ac1c0002\"] = google.colab.output.getActiveOutputArea();\n",
              "//# sourceURL=js_8b287b666a"
            ],
            "text/plain": [
              "<IPython.core.display.Javascript object>"
            ]
          },
          "metadata": {
            "tags": [
              "id4-0-0",
              "outputarea_id4"
            ]
          }
        },
        {
          "output_type": "display_data",
          "data": {
            "application/javascript": [
              "window[\"ce210a46-7805-11eb-b6ee-0242ac1c0002\"] = document.querySelector(\"#id4-0-0\");\n",
              "//# sourceURL=js_7cb6829a9c"
            ],
            "text/plain": [
              "<IPython.core.display.Javascript object>"
            ]
          },
          "metadata": {
            "tags": [
              "id4-0-0",
              "outputarea_id4"
            ]
          }
        },
        {
          "output_type": "display_data",
          "data": {
            "application/javascript": [
              "window[\"ce21530c-7805-11eb-b6ee-0242ac1c0002\"] = google.colab.output.setActiveOutputArea(window[\"ce210a46-7805-11eb-b6ee-0242ac1c0002\"]);\n",
              "//# sourceURL=js_fe8645a20d"
            ],
            "text/plain": [
              "<IPython.core.display.Javascript object>"
            ]
          },
          "metadata": {
            "tags": [
              "id4-0-0",
              "outputarea_id4"
            ]
          }
        },
        {
          "output_type": "display_data",
          "data": {
            "application/javascript": [
              "window[\"ce3d6236-7805-11eb-b6ee-0242ac1c0002\"] = google.colab.output.setActiveOutputArea(window[\"ce20ca68-7805-11eb-b6ee-0242ac1c0002\"]);\n",
              "//# sourceURL=js_f8be704184"
            ],
            "text/plain": [
              "<IPython.core.display.Javascript object>"
            ]
          },
          "metadata": {
            "tags": [
              "id4-0-0",
              "outputarea_id4"
            ]
          }
        },
        {
          "output_type": "display_data",
          "data": {
            "application/javascript": [
              "window[\"ce401daa-7805-11eb-b6ee-0242ac1c0002\"] = google.colab.output.getActiveOutputArea();\n",
              "//# sourceURL=js_a8c7cbaeba"
            ],
            "text/plain": [
              "<IPython.core.display.Javascript object>"
            ]
          },
          "metadata": {
            "tags": [
              "id4-0-0",
              "outputarea_id4"
            ]
          }
        },
        {
          "output_type": "display_data",
          "data": {
            "application/javascript": [
              "window[\"ce406c24-7805-11eb-b6ee-0242ac1c0002\"] = document.querySelector(\"#id4-0-0\");\n",
              "//# sourceURL=js_42770fda0b"
            ],
            "text/plain": [
              "<IPython.core.display.Javascript object>"
            ]
          },
          "metadata": {
            "tags": [
              "id4-0-0",
              "outputarea_id4"
            ]
          }
        },
        {
          "output_type": "display_data",
          "data": {
            "application/javascript": [
              "window[\"ce40bcce-7805-11eb-b6ee-0242ac1c0002\"] = google.colab.output.setActiveOutputArea(window[\"ce406c24-7805-11eb-b6ee-0242ac1c0002\"]);\n",
              "//# sourceURL=js_8dc958c78b"
            ],
            "text/plain": [
              "<IPython.core.display.Javascript object>"
            ]
          },
          "metadata": {
            "tags": [
              "id4-0-0",
              "outputarea_id4"
            ]
          }
        },
        {
          "output_type": "display_data",
          "data": {
            "application/javascript": [
              "window[\"ce5e8dee-7805-11eb-b6ee-0242ac1c0002\"] = google.colab.output.setActiveOutputArea(window[\"ce401daa-7805-11eb-b6ee-0242ac1c0002\"]);\n",
              "//# sourceURL=js_38269936d6"
            ],
            "text/plain": [
              "<IPython.core.display.Javascript object>"
            ]
          },
          "metadata": {
            "tags": [
              "id4-0-0",
              "outputarea_id4"
            ]
          }
        },
        {
          "output_type": "display_data",
          "data": {
            "application/javascript": [
              "window[\"ce5fef7c-7805-11eb-b6ee-0242ac1c0002\"] = google.colab.output.getActiveOutputArea();\n",
              "//# sourceURL=js_a0c4ed7570"
            ],
            "text/plain": [
              "<IPython.core.display.Javascript object>"
            ]
          },
          "metadata": {
            "tags": [
              "id4-0-0",
              "outputarea_id4"
            ]
          }
        },
        {
          "output_type": "display_data",
          "data": {
            "application/javascript": [
              "window[\"ce603522-7805-11eb-b6ee-0242ac1c0002\"] = document.querySelector(\"#id4-0-0\");\n",
              "//# sourceURL=js_bd47c27fe1"
            ],
            "text/plain": [
              "<IPython.core.display.Javascript object>"
            ]
          },
          "metadata": {
            "tags": [
              "id4-0-0",
              "outputarea_id4"
            ]
          }
        },
        {
          "output_type": "display_data",
          "data": {
            "application/javascript": [
              "window[\"ce6083b0-7805-11eb-b6ee-0242ac1c0002\"] = google.colab.output.setActiveOutputArea(window[\"ce603522-7805-11eb-b6ee-0242ac1c0002\"]);\n",
              "//# sourceURL=js_157995760a"
            ],
            "text/plain": [
              "<IPython.core.display.Javascript object>"
            ]
          },
          "metadata": {
            "tags": [
              "id4-0-0",
              "outputarea_id4"
            ]
          }
        },
        {
          "output_type": "display_data",
          "data": {
            "application/javascript": [
              "window[\"ce7fe016-7805-11eb-b6ee-0242ac1c0002\"] = google.colab.output.setActiveOutputArea(window[\"ce5fef7c-7805-11eb-b6ee-0242ac1c0002\"]);\n",
              "//# sourceURL=js_84a56c5978"
            ],
            "text/plain": [
              "<IPython.core.display.Javascript object>"
            ]
          },
          "metadata": {
            "tags": [
              "id4-0-0",
              "outputarea_id4"
            ]
          }
        },
        {
          "output_type": "display_data",
          "data": {
            "application/javascript": [
              "window[\"ce83e40e-7805-11eb-b6ee-0242ac1c0002\"] = google.colab.output.getActiveOutputArea();\n",
              "//# sourceURL=js_ddd0d42669"
            ],
            "text/plain": [
              "<IPython.core.display.Javascript object>"
            ]
          },
          "metadata": {
            "tags": [
              "id4-0-0",
              "outputarea_id4"
            ]
          }
        },
        {
          "output_type": "display_data",
          "data": {
            "application/javascript": [
              "window[\"ce842ea0-7805-11eb-b6ee-0242ac1c0002\"] = document.querySelector(\"#id4-0-0\");\n",
              "//# sourceURL=js_8a184f5bd8"
            ],
            "text/plain": [
              "<IPython.core.display.Javascript object>"
            ]
          },
          "metadata": {
            "tags": [
              "id4-0-0",
              "outputarea_id4"
            ]
          }
        },
        {
          "output_type": "display_data",
          "data": {
            "application/javascript": [
              "window[\"ce847fd6-7805-11eb-b6ee-0242ac1c0002\"] = google.colab.output.setActiveOutputArea(window[\"ce842ea0-7805-11eb-b6ee-0242ac1c0002\"]);\n",
              "//# sourceURL=js_ae539aee50"
            ],
            "text/plain": [
              "<IPython.core.display.Javascript object>"
            ]
          },
          "metadata": {
            "tags": [
              "id4-0-0",
              "outputarea_id4"
            ]
          }
        },
        {
          "output_type": "display_data",
          "data": {
            "application/javascript": [
              "window[\"cea1f62e-7805-11eb-b6ee-0242ac1c0002\"] = google.colab.output.setActiveOutputArea(window[\"ce83e40e-7805-11eb-b6ee-0242ac1c0002\"]);\n",
              "//# sourceURL=js_a791b7979c"
            ],
            "text/plain": [
              "<IPython.core.display.Javascript object>"
            ]
          },
          "metadata": {
            "tags": [
              "id4-0-0",
              "outputarea_id4"
            ]
          }
        },
        {
          "output_type": "display_data",
          "data": {
            "application/javascript": [
              "window[\"cea3c3a0-7805-11eb-b6ee-0242ac1c0002\"] = google.colab.output.getActiveOutputArea();\n",
              "//# sourceURL=js_e5307bc87f"
            ],
            "text/plain": [
              "<IPython.core.display.Javascript object>"
            ]
          },
          "metadata": {
            "tags": [
              "id4-0-0",
              "outputarea_id4"
            ]
          }
        },
        {
          "output_type": "display_data",
          "data": {
            "application/javascript": [
              "window[\"cea40ea0-7805-11eb-b6ee-0242ac1c0002\"] = document.querySelector(\"#id4-0-0\");\n",
              "//# sourceURL=js_c86e7c8c68"
            ],
            "text/plain": [
              "<IPython.core.display.Javascript object>"
            ]
          },
          "metadata": {
            "tags": [
              "id4-0-0",
              "outputarea_id4"
            ]
          }
        },
        {
          "output_type": "display_data",
          "data": {
            "application/javascript": [
              "window[\"cea45bf8-7805-11eb-b6ee-0242ac1c0002\"] = google.colab.output.setActiveOutputArea(window[\"cea40ea0-7805-11eb-b6ee-0242ac1c0002\"]);\n",
              "//# sourceURL=js_07b24a6942"
            ],
            "text/plain": [
              "<IPython.core.display.Javascript object>"
            ]
          },
          "metadata": {
            "tags": [
              "id4-0-0",
              "outputarea_id4"
            ]
          }
        },
        {
          "output_type": "display_data",
          "data": {
            "application/javascript": [
              "window[\"cec2d0ec-7805-11eb-b6ee-0242ac1c0002\"] = google.colab.output.setActiveOutputArea(window[\"cea3c3a0-7805-11eb-b6ee-0242ac1c0002\"]);\n",
              "//# sourceURL=js_21fda8eba1"
            ],
            "text/plain": [
              "<IPython.core.display.Javascript object>"
            ]
          },
          "metadata": {
            "tags": [
              "id4-0-0",
              "outputarea_id4"
            ]
          }
        },
        {
          "output_type": "display_data",
          "data": {
            "application/javascript": [
              "window[\"cec44684-7805-11eb-b6ee-0242ac1c0002\"] = google.colab.output.getActiveOutputArea();\n",
              "//# sourceURL=js_805f81ce96"
            ],
            "text/plain": [
              "<IPython.core.display.Javascript object>"
            ]
          },
          "metadata": {
            "tags": [
              "id4-0-0",
              "outputarea_id4"
            ]
          }
        },
        {
          "output_type": "display_data",
          "data": {
            "application/javascript": [
              "window[\"cec49f3a-7805-11eb-b6ee-0242ac1c0002\"] = document.querySelector(\"#id4-0-0\");\n",
              "//# sourceURL=js_c612113b97"
            ],
            "text/plain": [
              "<IPython.core.display.Javascript object>"
            ]
          },
          "metadata": {
            "tags": [
              "id4-0-0",
              "outputarea_id4"
            ]
          }
        },
        {
          "output_type": "display_data",
          "data": {
            "application/javascript": [
              "window[\"cec4e5a8-7805-11eb-b6ee-0242ac1c0002\"] = google.colab.output.setActiveOutputArea(window[\"cec49f3a-7805-11eb-b6ee-0242ac1c0002\"]);\n",
              "//# sourceURL=js_3fe9af7b55"
            ],
            "text/plain": [
              "<IPython.core.display.Javascript object>"
            ]
          },
          "metadata": {
            "tags": [
              "id4-0-0",
              "outputarea_id4"
            ]
          }
        },
        {
          "output_type": "display_data",
          "data": {
            "application/javascript": [
              "window[\"cee23054-7805-11eb-b6ee-0242ac1c0002\"] = google.colab.output.setActiveOutputArea(window[\"cec44684-7805-11eb-b6ee-0242ac1c0002\"]);\n",
              "//# sourceURL=js_4260e3b6ef"
            ],
            "text/plain": [
              "<IPython.core.display.Javascript object>"
            ]
          },
          "metadata": {
            "tags": [
              "id4-0-0",
              "outputarea_id4"
            ]
          }
        },
        {
          "output_type": "display_data",
          "data": {
            "application/javascript": [
              "window[\"cee3b910-7805-11eb-b6ee-0242ac1c0002\"] = google.colab.output.getActiveOutputArea();\n",
              "//# sourceURL=js_d2df9d949b"
            ],
            "text/plain": [
              "<IPython.core.display.Javascript object>"
            ]
          },
          "metadata": {
            "tags": [
              "id4-0-0",
              "outputarea_id4"
            ]
          }
        },
        {
          "output_type": "display_data",
          "data": {
            "application/javascript": [
              "window[\"cee42a76-7805-11eb-b6ee-0242ac1c0002\"] = document.querySelector(\"#id4-0-0\");\n",
              "//# sourceURL=js_8e4aa335c1"
            ],
            "text/plain": [
              "<IPython.core.display.Javascript object>"
            ]
          },
          "metadata": {
            "tags": [
              "id4-0-0",
              "outputarea_id4"
            ]
          }
        },
        {
          "output_type": "display_data",
          "data": {
            "application/javascript": [
              "window[\"cee485d4-7805-11eb-b6ee-0242ac1c0002\"] = google.colab.output.setActiveOutputArea(window[\"cee42a76-7805-11eb-b6ee-0242ac1c0002\"]);\n",
              "//# sourceURL=js_72c7de87d4"
            ],
            "text/plain": [
              "<IPython.core.display.Javascript object>"
            ]
          },
          "metadata": {
            "tags": [
              "id4-0-0",
              "outputarea_id4"
            ]
          }
        },
        {
          "output_type": "display_data",
          "data": {
            "application/javascript": [
              "window[\"cf10075e-7805-11eb-b6ee-0242ac1c0002\"] = google.colab.output.setActiveOutputArea(window[\"cee3b910-7805-11eb-b6ee-0242ac1c0002\"]);\n",
              "//# sourceURL=js_3978b2047c"
            ],
            "text/plain": [
              "<IPython.core.display.Javascript object>"
            ]
          },
          "metadata": {
            "tags": [
              "id4-0-0",
              "outputarea_id4"
            ]
          }
        },
        {
          "output_type": "display_data",
          "data": {
            "application/javascript": [
              "window[\"cf143cb6-7805-11eb-b6ee-0242ac1c0002\"] = google.colab.output.getActiveOutputArea();\n",
              "//# sourceURL=js_e3f1b6b3e2"
            ],
            "text/plain": [
              "<IPython.core.display.Javascript object>"
            ]
          },
          "metadata": {
            "tags": [
              "id4-0-0",
              "outputarea_id4"
            ]
          }
        },
        {
          "output_type": "display_data",
          "data": {
            "application/javascript": [
              "window[\"cf148a90-7805-11eb-b6ee-0242ac1c0002\"] = document.querySelector(\"#id4-0-0\");\n",
              "//# sourceURL=js_ea9aff74c5"
            ],
            "text/plain": [
              "<IPython.core.display.Javascript object>"
            ]
          },
          "metadata": {
            "tags": [
              "id4-0-0",
              "outputarea_id4"
            ]
          }
        },
        {
          "output_type": "display_data",
          "data": {
            "application/javascript": [
              "window[\"cf14ca78-7805-11eb-b6ee-0242ac1c0002\"] = google.colab.output.setActiveOutputArea(window[\"cf148a90-7805-11eb-b6ee-0242ac1c0002\"]);\n",
              "//# sourceURL=js_673ff329d9"
            ],
            "text/plain": [
              "<IPython.core.display.Javascript object>"
            ]
          },
          "metadata": {
            "tags": [
              "id4-0-0",
              "outputarea_id4"
            ]
          }
        },
        {
          "output_type": "display_data",
          "data": {
            "application/javascript": [
              "window[\"cf2eb622-7805-11eb-b6ee-0242ac1c0002\"] = google.colab.output.setActiveOutputArea(window[\"cf143cb6-7805-11eb-b6ee-0242ac1c0002\"]);\n",
              "//# sourceURL=js_f0c187b917"
            ],
            "text/plain": [
              "<IPython.core.display.Javascript object>"
            ]
          },
          "metadata": {
            "tags": [
              "id4-0-0",
              "outputarea_id4"
            ]
          }
        },
        {
          "output_type": "display_data",
          "data": {
            "application/javascript": [
              "window[\"cf2ffb18-7805-11eb-b6ee-0242ac1c0002\"] = google.colab.output.getActiveOutputArea();\n",
              "//# sourceURL=js_0c0ef59be1"
            ],
            "text/plain": [
              "<IPython.core.display.Javascript object>"
            ]
          },
          "metadata": {
            "tags": [
              "id4-0-0",
              "outputarea_id4"
            ]
          }
        },
        {
          "output_type": "display_data",
          "data": {
            "application/javascript": [
              "window[\"cf304032-7805-11eb-b6ee-0242ac1c0002\"] = document.querySelector(\"#id4-0-0\");\n",
              "//# sourceURL=js_e6d5e20301"
            ],
            "text/plain": [
              "<IPython.core.display.Javascript object>"
            ]
          },
          "metadata": {
            "tags": [
              "id4-0-0",
              "outputarea_id4"
            ]
          }
        },
        {
          "output_type": "display_data",
          "data": {
            "application/javascript": [
              "window[\"cf308286-7805-11eb-b6ee-0242ac1c0002\"] = google.colab.output.setActiveOutputArea(window[\"cf304032-7805-11eb-b6ee-0242ac1c0002\"]);\n",
              "//# sourceURL=js_447d10e941"
            ],
            "text/plain": [
              "<IPython.core.display.Javascript object>"
            ]
          },
          "metadata": {
            "tags": [
              "id4-0-0",
              "outputarea_id4"
            ]
          }
        },
        {
          "output_type": "display_data",
          "data": {
            "application/javascript": [
              "window[\"cf4ffe5e-7805-11eb-b6ee-0242ac1c0002\"] = google.colab.output.setActiveOutputArea(window[\"cf2ffb18-7805-11eb-b6ee-0242ac1c0002\"]);\n",
              "//# sourceURL=js_89484e658d"
            ],
            "text/plain": [
              "<IPython.core.display.Javascript object>"
            ]
          },
          "metadata": {
            "tags": [
              "id4-0-0",
              "outputarea_id4"
            ]
          }
        },
        {
          "output_type": "display_data",
          "data": {
            "application/javascript": [
              "window[\"cf512504-7805-11eb-b6ee-0242ac1c0002\"] = google.colab.output.getActiveOutputArea();\n",
              "//# sourceURL=js_20ba79bf6e"
            ],
            "text/plain": [
              "<IPython.core.display.Javascript object>"
            ]
          },
          "metadata": {
            "tags": [
              "id4-0-0",
              "outputarea_id4"
            ]
          }
        },
        {
          "output_type": "display_data",
          "data": {
            "application/javascript": [
              "window[\"cf51624e-7805-11eb-b6ee-0242ac1c0002\"] = document.querySelector(\"#id4-0-0\");\n",
              "//# sourceURL=js_695cca5c99"
            ],
            "text/plain": [
              "<IPython.core.display.Javascript object>"
            ]
          },
          "metadata": {
            "tags": [
              "id4-0-0",
              "outputarea_id4"
            ]
          }
        },
        {
          "output_type": "display_data",
          "data": {
            "application/javascript": [
              "window[\"cf519e30-7805-11eb-b6ee-0242ac1c0002\"] = google.colab.output.setActiveOutputArea(window[\"cf51624e-7805-11eb-b6ee-0242ac1c0002\"]);\n",
              "//# sourceURL=js_dc26f71cc0"
            ],
            "text/plain": [
              "<IPython.core.display.Javascript object>"
            ]
          },
          "metadata": {
            "tags": [
              "id4-0-0",
              "outputarea_id4"
            ]
          }
        },
        {
          "output_type": "display_data",
          "data": {
            "application/javascript": [
              "window[\"cf6d59b8-7805-11eb-b6ee-0242ac1c0002\"] = google.colab.output.setActiveOutputArea(window[\"cf512504-7805-11eb-b6ee-0242ac1c0002\"]);\n",
              "//# sourceURL=js_c122975a9d"
            ],
            "text/plain": [
              "<IPython.core.display.Javascript object>"
            ]
          },
          "metadata": {
            "tags": [
              "id4-0-0",
              "outputarea_id4"
            ]
          }
        },
        {
          "output_type": "display_data",
          "data": {
            "application/javascript": [
              "window[\"cf70952e-7805-11eb-b6ee-0242ac1c0002\"] = google.colab.output.getActiveOutputArea();\n",
              "//# sourceURL=js_8e1c173496"
            ],
            "text/plain": [
              "<IPython.core.display.Javascript object>"
            ]
          },
          "metadata": {
            "tags": [
              "id4-0-0",
              "outputarea_id4"
            ]
          }
        },
        {
          "output_type": "display_data",
          "data": {
            "application/javascript": [
              "window[\"cf71356a-7805-11eb-b6ee-0242ac1c0002\"] = document.querySelector(\"#id4-0-0\");\n",
              "//# sourceURL=js_2c80a3d799"
            ],
            "text/plain": [
              "<IPython.core.display.Javascript object>"
            ]
          },
          "metadata": {
            "tags": [
              "id4-0-0",
              "outputarea_id4"
            ]
          }
        },
        {
          "output_type": "display_data",
          "data": {
            "application/javascript": [
              "window[\"cf71d0b0-7805-11eb-b6ee-0242ac1c0002\"] = google.colab.output.setActiveOutputArea(window[\"cf71356a-7805-11eb-b6ee-0242ac1c0002\"]);\n",
              "//# sourceURL=js_59ccff3f66"
            ],
            "text/plain": [
              "<IPython.core.display.Javascript object>"
            ]
          },
          "metadata": {
            "tags": [
              "id4-0-0",
              "outputarea_id4"
            ]
          }
        },
        {
          "output_type": "display_data",
          "data": {
            "application/javascript": [
              "window[\"cf8bd5dc-7805-11eb-b6ee-0242ac1c0002\"] = google.colab.output.setActiveOutputArea(window[\"cf70952e-7805-11eb-b6ee-0242ac1c0002\"]);\n",
              "//# sourceURL=js_7ae60564d7"
            ],
            "text/plain": [
              "<IPython.core.display.Javascript object>"
            ]
          },
          "metadata": {
            "tags": [
              "id4-0-0",
              "outputarea_id4"
            ]
          }
        },
        {
          "output_type": "display_data",
          "data": {
            "application/javascript": [
              "window[\"cf8e6162-7805-11eb-b6ee-0242ac1c0002\"] = google.colab.output.getActiveOutputArea();\n",
              "//# sourceURL=js_fc082c140f"
            ],
            "text/plain": [
              "<IPython.core.display.Javascript object>"
            ]
          },
          "metadata": {
            "tags": [
              "id4-0-0",
              "outputarea_id4"
            ]
          }
        },
        {
          "output_type": "display_data",
          "data": {
            "application/javascript": [
              "window[\"cf8eb37e-7805-11eb-b6ee-0242ac1c0002\"] = document.querySelector(\"#id4-0-0\");\n",
              "//# sourceURL=js_65c59ad7ad"
            ],
            "text/plain": [
              "<IPython.core.display.Javascript object>"
            ]
          },
          "metadata": {
            "tags": [
              "id4-0-0",
              "outputarea_id4"
            ]
          }
        },
        {
          "output_type": "display_data",
          "data": {
            "application/javascript": [
              "window[\"cf8f7e12-7805-11eb-b6ee-0242ac1c0002\"] = google.colab.output.setActiveOutputArea(window[\"cf8eb37e-7805-11eb-b6ee-0242ac1c0002\"]);\n",
              "//# sourceURL=js_c625d6e7d2"
            ],
            "text/plain": [
              "<IPython.core.display.Javascript object>"
            ]
          },
          "metadata": {
            "tags": [
              "id4-0-0",
              "outputarea_id4"
            ]
          }
        },
        {
          "output_type": "display_data",
          "data": {
            "application/javascript": [
              "window[\"cfa8958c-7805-11eb-b6ee-0242ac1c0002\"] = google.colab.output.setActiveOutputArea(window[\"cf8e6162-7805-11eb-b6ee-0242ac1c0002\"]);\n",
              "//# sourceURL=js_22ad791a3d"
            ],
            "text/plain": [
              "<IPython.core.display.Javascript object>"
            ]
          },
          "metadata": {
            "tags": [
              "id4-0-0",
              "outputarea_id4"
            ]
          }
        },
        {
          "output_type": "display_data",
          "data": {
            "application/javascript": [
              "window[\"cfa9db54-7805-11eb-b6ee-0242ac1c0002\"] = google.colab.output.getActiveOutputArea();\n",
              "//# sourceURL=js_7f690cd476"
            ],
            "text/plain": [
              "<IPython.core.display.Javascript object>"
            ]
          },
          "metadata": {
            "tags": [
              "id4-0-0",
              "outputarea_id4"
            ]
          }
        },
        {
          "output_type": "display_data",
          "data": {
            "application/javascript": [
              "window[\"cfaa1af6-7805-11eb-b6ee-0242ac1c0002\"] = document.querySelector(\"#id4-0-0\");\n",
              "//# sourceURL=js_b52c5cd68b"
            ],
            "text/plain": [
              "<IPython.core.display.Javascript object>"
            ]
          },
          "metadata": {
            "tags": [
              "id4-0-0",
              "outputarea_id4"
            ]
          }
        },
        {
          "output_type": "display_data",
          "data": {
            "application/javascript": [
              "window[\"cfaa66d2-7805-11eb-b6ee-0242ac1c0002\"] = google.colab.output.setActiveOutputArea(window[\"cfaa1af6-7805-11eb-b6ee-0242ac1c0002\"]);\n",
              "//# sourceURL=js_ba90a0f51f"
            ],
            "text/plain": [
              "<IPython.core.display.Javascript object>"
            ]
          },
          "metadata": {
            "tags": [
              "id4-0-0",
              "outputarea_id4"
            ]
          }
        },
        {
          "output_type": "display_data",
          "data": {
            "application/javascript": [
              "window[\"cfc776a0-7805-11eb-b6ee-0242ac1c0002\"] = google.colab.output.setActiveOutputArea(window[\"cfa9db54-7805-11eb-b6ee-0242ac1c0002\"]);\n",
              "//# sourceURL=js_6681afe102"
            ],
            "text/plain": [
              "<IPython.core.display.Javascript object>"
            ]
          },
          "metadata": {
            "tags": [
              "id4-0-0",
              "outputarea_id4"
            ]
          }
        },
        {
          "output_type": "display_data",
          "data": {
            "application/javascript": [
              "window[\"cfc8acbe-7805-11eb-b6ee-0242ac1c0002\"] = google.colab.output.getActiveOutputArea();\n",
              "//# sourceURL=js_cc3c92851b"
            ],
            "text/plain": [
              "<IPython.core.display.Javascript object>"
            ]
          },
          "metadata": {
            "tags": [
              "id4-0-0",
              "outputarea_id4"
            ]
          }
        },
        {
          "output_type": "display_data",
          "data": {
            "application/javascript": [
              "window[\"cfc8eb48-7805-11eb-b6ee-0242ac1c0002\"] = document.querySelector(\"#id4-0-0\");\n",
              "//# sourceURL=js_511bd4e4fe"
            ],
            "text/plain": [
              "<IPython.core.display.Javascript object>"
            ]
          },
          "metadata": {
            "tags": [
              "id4-0-0",
              "outputarea_id4"
            ]
          }
        },
        {
          "output_type": "display_data",
          "data": {
            "application/javascript": [
              "window[\"cfc92df6-7805-11eb-b6ee-0242ac1c0002\"] = google.colab.output.setActiveOutputArea(window[\"cfc8eb48-7805-11eb-b6ee-0242ac1c0002\"]);\n",
              "//# sourceURL=js_a696756fc4"
            ],
            "text/plain": [
              "<IPython.core.display.Javascript object>"
            ]
          },
          "metadata": {
            "tags": [
              "id4-0-0",
              "outputarea_id4"
            ]
          }
        },
        {
          "output_type": "display_data",
          "data": {
            "application/javascript": [
              "window[\"cfe498f2-7805-11eb-b6ee-0242ac1c0002\"] = google.colab.output.setActiveOutputArea(window[\"cfc8acbe-7805-11eb-b6ee-0242ac1c0002\"]);\n",
              "//# sourceURL=js_1ae03ab46f"
            ],
            "text/plain": [
              "<IPython.core.display.Javascript object>"
            ]
          },
          "metadata": {
            "tags": [
              "id4-0-0",
              "outputarea_id4"
            ]
          }
        },
        {
          "output_type": "display_data",
          "data": {
            "application/javascript": [
              "window[\"cfe5ccb8-7805-11eb-b6ee-0242ac1c0002\"] = google.colab.output.getActiveOutputArea();\n",
              "//# sourceURL=js_046a8d0e55"
            ],
            "text/plain": [
              "<IPython.core.display.Javascript object>"
            ]
          },
          "metadata": {
            "tags": [
              "id4-0-0",
              "outputarea_id4"
            ]
          }
        },
        {
          "output_type": "display_data",
          "data": {
            "application/javascript": [
              "window[\"cfe608c2-7805-11eb-b6ee-0242ac1c0002\"] = document.querySelector(\"#id4-0-0\");\n",
              "//# sourceURL=js_e835258640"
            ],
            "text/plain": [
              "<IPython.core.display.Javascript object>"
            ]
          },
          "metadata": {
            "tags": [
              "id4-0-0",
              "outputarea_id4"
            ]
          }
        },
        {
          "output_type": "display_data",
          "data": {
            "application/javascript": [
              "window[\"cfe640bc-7805-11eb-b6ee-0242ac1c0002\"] = google.colab.output.setActiveOutputArea(window[\"cfe608c2-7805-11eb-b6ee-0242ac1c0002\"]);\n",
              "//# sourceURL=js_746dc4113f"
            ],
            "text/plain": [
              "<IPython.core.display.Javascript object>"
            ]
          },
          "metadata": {
            "tags": [
              "id4-0-0",
              "outputarea_id4"
            ]
          }
        },
        {
          "output_type": "display_data",
          "data": {
            "application/javascript": [
              "window[\"d0018246-7805-11eb-b6ee-0242ac1c0002\"] = google.colab.output.setActiveOutputArea(window[\"cfe5ccb8-7805-11eb-b6ee-0242ac1c0002\"]);\n",
              "//# sourceURL=js_61dd00181e"
            ],
            "text/plain": [
              "<IPython.core.display.Javascript object>"
            ]
          },
          "metadata": {
            "tags": [
              "id4-0-0",
              "outputarea_id4"
            ]
          }
        },
        {
          "output_type": "display_data",
          "data": {
            "application/javascript": [
              "window[\"d002bada-7805-11eb-b6ee-0242ac1c0002\"] = google.colab.output.getActiveOutputArea();\n",
              "//# sourceURL=js_23abefabaa"
            ],
            "text/plain": [
              "<IPython.core.display.Javascript object>"
            ]
          },
          "metadata": {
            "tags": [
              "id4-0-0",
              "outputarea_id4"
            ]
          }
        },
        {
          "output_type": "display_data",
          "data": {
            "application/javascript": [
              "window[\"d00303f0-7805-11eb-b6ee-0242ac1c0002\"] = document.querySelector(\"#id4-0-0\");\n",
              "//# sourceURL=js_b00841b5a1"
            ],
            "text/plain": [
              "<IPython.core.display.Javascript object>"
            ]
          },
          "metadata": {
            "tags": [
              "id4-0-0",
              "outputarea_id4"
            ]
          }
        },
        {
          "output_type": "display_data",
          "data": {
            "application/javascript": [
              "window[\"d003425c-7805-11eb-b6ee-0242ac1c0002\"] = google.colab.output.setActiveOutputArea(window[\"d00303f0-7805-11eb-b6ee-0242ac1c0002\"]);\n",
              "//# sourceURL=js_34206a71bd"
            ],
            "text/plain": [
              "<IPython.core.display.Javascript object>"
            ]
          },
          "metadata": {
            "tags": [
              "id4-0-0",
              "outputarea_id4"
            ]
          }
        },
        {
          "output_type": "display_data",
          "data": {
            "application/javascript": [
              "window[\"d01ec522-7805-11eb-b6ee-0242ac1c0002\"] = google.colab.output.setActiveOutputArea(window[\"d002bada-7805-11eb-b6ee-0242ac1c0002\"]);\n",
              "//# sourceURL=js_d5fbff414f"
            ],
            "text/plain": [
              "<IPython.core.display.Javascript object>"
            ]
          },
          "metadata": {
            "tags": [
              "id4-0-0",
              "outputarea_id4"
            ]
          }
        },
        {
          "output_type": "display_data",
          "data": {
            "application/javascript": [
              "window[\"d01fdf0c-7805-11eb-b6ee-0242ac1c0002\"] = google.colab.output.getActiveOutputArea();\n",
              "//# sourceURL=js_cd8d0d7a43"
            ],
            "text/plain": [
              "<IPython.core.display.Javascript object>"
            ]
          },
          "metadata": {
            "tags": [
              "id4-0-0",
              "outputarea_id4"
            ]
          }
        },
        {
          "output_type": "display_data",
          "data": {
            "application/javascript": [
              "window[\"d0201dfa-7805-11eb-b6ee-0242ac1c0002\"] = document.querySelector(\"#id4-0-0\");\n",
              "//# sourceURL=js_b98eff7104"
            ],
            "text/plain": [
              "<IPython.core.display.Javascript object>"
            ]
          },
          "metadata": {
            "tags": [
              "id4-0-0",
              "outputarea_id4"
            ]
          }
        },
        {
          "output_type": "display_data",
          "data": {
            "application/javascript": [
              "window[\"d0205c52-7805-11eb-b6ee-0242ac1c0002\"] = google.colab.output.setActiveOutputArea(window[\"d0201dfa-7805-11eb-b6ee-0242ac1c0002\"]);\n",
              "//# sourceURL=js_3fc00eabcb"
            ],
            "text/plain": [
              "<IPython.core.display.Javascript object>"
            ]
          },
          "metadata": {
            "tags": [
              "id4-0-0",
              "outputarea_id4"
            ]
          }
        },
        {
          "output_type": "display_data",
          "data": {
            "application/javascript": [
              "window[\"d04202da-7805-11eb-b6ee-0242ac1c0002\"] = google.colab.output.setActiveOutputArea(window[\"d01fdf0c-7805-11eb-b6ee-0242ac1c0002\"]);\n",
              "//# sourceURL=js_eacfd408a0"
            ],
            "text/plain": [
              "<IPython.core.display.Javascript object>"
            ]
          },
          "metadata": {
            "tags": [
              "id4-0-0",
              "outputarea_id4"
            ]
          }
        },
        {
          "output_type": "display_data",
          "data": {
            "application/javascript": [
              "window[\"d0477e40-7805-11eb-b6ee-0242ac1c0002\"] = google.colab.output.getActiveOutputArea();\n",
              "//# sourceURL=js_5323189f88"
            ],
            "text/plain": [
              "<IPython.core.display.Javascript object>"
            ]
          },
          "metadata": {
            "tags": [
              "id4-0-0",
              "outputarea_id4"
            ]
          }
        },
        {
          "output_type": "display_data",
          "data": {
            "application/javascript": [
              "window[\"d048852e-7805-11eb-b6ee-0242ac1c0002\"] = document.querySelector(\"#id4-0-0\");\n",
              "//# sourceURL=js_e8b3797186"
            ],
            "text/plain": [
              "<IPython.core.display.Javascript object>"
            ]
          },
          "metadata": {
            "tags": [
              "id4-0-0",
              "outputarea_id4"
            ]
          }
        },
        {
          "output_type": "display_data",
          "data": {
            "application/javascript": [
              "window[\"d0491840-7805-11eb-b6ee-0242ac1c0002\"] = google.colab.output.setActiveOutputArea(window[\"d048852e-7805-11eb-b6ee-0242ac1c0002\"]);\n",
              "//# sourceURL=js_57ab0edf9f"
            ],
            "text/plain": [
              "<IPython.core.display.Javascript object>"
            ]
          },
          "metadata": {
            "tags": [
              "id4-0-0",
              "outputarea_id4"
            ]
          }
        },
        {
          "output_type": "display_data",
          "data": {
            "application/javascript": [
              "window[\"d0780984-7805-11eb-b6ee-0242ac1c0002\"] = google.colab.output.setActiveOutputArea(window[\"d0477e40-7805-11eb-b6ee-0242ac1c0002\"]);\n",
              "//# sourceURL=js_316ecb2764"
            ],
            "text/plain": [
              "<IPython.core.display.Javascript object>"
            ]
          },
          "metadata": {
            "tags": [
              "id4-0-0",
              "outputarea_id4"
            ]
          }
        },
        {
          "output_type": "display_data",
          "data": {
            "application/javascript": [
              "window[\"d079ab72-7805-11eb-b6ee-0242ac1c0002\"] = google.colab.output.getActiveOutputArea();\n",
              "//# sourceURL=js_352bf482d9"
            ],
            "text/plain": [
              "<IPython.core.display.Javascript object>"
            ]
          },
          "metadata": {
            "tags": [
              "id4-0-0",
              "outputarea_id4"
            ]
          }
        },
        {
          "output_type": "display_data",
          "data": {
            "application/javascript": [
              "window[\"d07a0e6e-7805-11eb-b6ee-0242ac1c0002\"] = document.querySelector(\"#id4-0-0\");\n",
              "//# sourceURL=js_c425dcedab"
            ],
            "text/plain": [
              "<IPython.core.display.Javascript object>"
            ]
          },
          "metadata": {
            "tags": [
              "id4-0-0",
              "outputarea_id4"
            ]
          }
        },
        {
          "output_type": "display_data",
          "data": {
            "application/javascript": [
              "window[\"d07a6044-7805-11eb-b6ee-0242ac1c0002\"] = google.colab.output.setActiveOutputArea(window[\"d07a0e6e-7805-11eb-b6ee-0242ac1c0002\"]);\n",
              "//# sourceURL=js_69d7605711"
            ],
            "text/plain": [
              "<IPython.core.display.Javascript object>"
            ]
          },
          "metadata": {
            "tags": [
              "id4-0-0",
              "outputarea_id4"
            ]
          }
        },
        {
          "output_type": "display_data",
          "data": {
            "application/javascript": [
              "window[\"d09a23a2-7805-11eb-b6ee-0242ac1c0002\"] = google.colab.output.setActiveOutputArea(window[\"d079ab72-7805-11eb-b6ee-0242ac1c0002\"]);\n",
              "//# sourceURL=js_6787f7ebc6"
            ],
            "text/plain": [
              "<IPython.core.display.Javascript object>"
            ]
          },
          "metadata": {
            "tags": [
              "id4-0-0",
              "outputarea_id4"
            ]
          }
        },
        {
          "output_type": "display_data",
          "data": {
            "application/javascript": [
              "window[\"d09bb460-7805-11eb-b6ee-0242ac1c0002\"] = google.colab.output.getActiveOutputArea();\n",
              "//# sourceURL=js_a91fe816bb"
            ],
            "text/plain": [
              "<IPython.core.display.Javascript object>"
            ]
          },
          "metadata": {
            "tags": [
              "id4-0-0",
              "outputarea_id4"
            ]
          }
        },
        {
          "output_type": "display_data",
          "data": {
            "application/javascript": [
              "window[\"d09c01b8-7805-11eb-b6ee-0242ac1c0002\"] = document.querySelector(\"#id4-0-0\");\n",
              "//# sourceURL=js_f7e77f43d8"
            ],
            "text/plain": [
              "<IPython.core.display.Javascript object>"
            ]
          },
          "metadata": {
            "tags": [
              "id4-0-0",
              "outputarea_id4"
            ]
          }
        },
        {
          "output_type": "display_data",
          "data": {
            "application/javascript": [
              "window[\"d09c4894-7805-11eb-b6ee-0242ac1c0002\"] = google.colab.output.setActiveOutputArea(window[\"d09c01b8-7805-11eb-b6ee-0242ac1c0002\"]);\n",
              "//# sourceURL=js_3087d52255"
            ],
            "text/plain": [
              "<IPython.core.display.Javascript object>"
            ]
          },
          "metadata": {
            "tags": [
              "id4-0-0",
              "outputarea_id4"
            ]
          }
        },
        {
          "output_type": "display_data",
          "data": {
            "application/javascript": [
              "window[\"d0bca0c6-7805-11eb-b6ee-0242ac1c0002\"] = google.colab.output.setActiveOutputArea(window[\"d09bb460-7805-11eb-b6ee-0242ac1c0002\"]);\n",
              "//# sourceURL=js_e80485a68e"
            ],
            "text/plain": [
              "<IPython.core.display.Javascript object>"
            ]
          },
          "metadata": {
            "tags": [
              "id4-0-0",
              "outputarea_id4"
            ]
          }
        },
        {
          "output_type": "display_data",
          "data": {
            "application/javascript": [
              "window[\"d0be4930-7805-11eb-b6ee-0242ac1c0002\"] = google.colab.output.getActiveOutputArea();\n",
              "//# sourceURL=js_142ff5d098"
            ],
            "text/plain": [
              "<IPython.core.display.Javascript object>"
            ]
          },
          "metadata": {
            "tags": [
              "id4-0-0",
              "outputarea_id4"
            ]
          }
        },
        {
          "output_type": "display_data",
          "data": {
            "application/javascript": [
              "window[\"d0bea0ec-7805-11eb-b6ee-0242ac1c0002\"] = document.querySelector(\"#id4-0-0\");\n",
              "//# sourceURL=js_d39366b2d3"
            ],
            "text/plain": [
              "<IPython.core.display.Javascript object>"
            ]
          },
          "metadata": {
            "tags": [
              "id4-0-0",
              "outputarea_id4"
            ]
          }
        },
        {
          "output_type": "display_data",
          "data": {
            "application/javascript": [
              "window[\"d0beea02-7805-11eb-b6ee-0242ac1c0002\"] = google.colab.output.setActiveOutputArea(window[\"d0bea0ec-7805-11eb-b6ee-0242ac1c0002\"]);\n",
              "//# sourceURL=js_c64fa74044"
            ],
            "text/plain": [
              "<IPython.core.display.Javascript object>"
            ]
          },
          "metadata": {
            "tags": [
              "id4-0-0",
              "outputarea_id4"
            ]
          }
        },
        {
          "output_type": "display_data",
          "data": {
            "application/javascript": [
              "window[\"d0de1814-7805-11eb-b6ee-0242ac1c0002\"] = google.colab.output.setActiveOutputArea(window[\"d0be4930-7805-11eb-b6ee-0242ac1c0002\"]);\n",
              "//# sourceURL=js_72efea4773"
            ],
            "text/plain": [
              "<IPython.core.display.Javascript object>"
            ]
          },
          "metadata": {
            "tags": [
              "id4-0-0",
              "outputarea_id4"
            ]
          }
        },
        {
          "output_type": "display_data",
          "data": {
            "application/javascript": [
              "window[\"d0df66f6-7805-11eb-b6ee-0242ac1c0002\"] = google.colab.output.getActiveOutputArea();\n",
              "//# sourceURL=js_a824a5ef2c"
            ],
            "text/plain": [
              "<IPython.core.display.Javascript object>"
            ]
          },
          "metadata": {
            "tags": [
              "id4-0-0",
              "outputarea_id4"
            ]
          }
        },
        {
          "output_type": "display_data",
          "data": {
            "application/javascript": [
              "window[\"d0dfa940-7805-11eb-b6ee-0242ac1c0002\"] = document.querySelector(\"#id4-0-0\");\n",
              "//# sourceURL=js_05964369e4"
            ],
            "text/plain": [
              "<IPython.core.display.Javascript object>"
            ]
          },
          "metadata": {
            "tags": [
              "id4-0-0",
              "outputarea_id4"
            ]
          }
        },
        {
          "output_type": "display_data",
          "data": {
            "application/javascript": [
              "window[\"d0dfef18-7805-11eb-b6ee-0242ac1c0002\"] = google.colab.output.setActiveOutputArea(window[\"d0dfa940-7805-11eb-b6ee-0242ac1c0002\"]);\n",
              "//# sourceURL=js_2f9581abed"
            ],
            "text/plain": [
              "<IPython.core.display.Javascript object>"
            ]
          },
          "metadata": {
            "tags": [
              "id4-0-0",
              "outputarea_id4"
            ]
          }
        },
        {
          "output_type": "display_data",
          "data": {
            "application/javascript": [
              "window[\"d0fc0c8e-7805-11eb-b6ee-0242ac1c0002\"] = google.colab.output.setActiveOutputArea(window[\"d0df66f6-7805-11eb-b6ee-0242ac1c0002\"]);\n",
              "//# sourceURL=js_20687c0e46"
            ],
            "text/plain": [
              "<IPython.core.display.Javascript object>"
            ]
          },
          "metadata": {
            "tags": [
              "id4-0-0",
              "outputarea_id4"
            ]
          }
        },
        {
          "output_type": "display_data",
          "data": {
            "application/javascript": [
              "window[\"d0fd7984-7805-11eb-b6ee-0242ac1c0002\"] = google.colab.output.getActiveOutputArea();\n",
              "//# sourceURL=js_a457da16ff"
            ],
            "text/plain": [
              "<IPython.core.display.Javascript object>"
            ]
          },
          "metadata": {
            "tags": [
              "id4-0-0",
              "outputarea_id4"
            ]
          }
        },
        {
          "output_type": "display_data",
          "data": {
            "application/javascript": [
              "window[\"d0fdbbb0-7805-11eb-b6ee-0242ac1c0002\"] = document.querySelector(\"#id4-0-0\");\n",
              "//# sourceURL=js_1cfce8b7ee"
            ],
            "text/plain": [
              "<IPython.core.display.Javascript object>"
            ]
          },
          "metadata": {
            "tags": [
              "id4-0-0",
              "outputarea_id4"
            ]
          }
        },
        {
          "output_type": "display_data",
          "data": {
            "application/javascript": [
              "window[\"d0fe01f6-7805-11eb-b6ee-0242ac1c0002\"] = google.colab.output.setActiveOutputArea(window[\"d0fdbbb0-7805-11eb-b6ee-0242ac1c0002\"]);\n",
              "//# sourceURL=js_3aa39f6b19"
            ],
            "text/plain": [
              "<IPython.core.display.Javascript object>"
            ]
          },
          "metadata": {
            "tags": [
              "id4-0-0",
              "outputarea_id4"
            ]
          }
        },
        {
          "output_type": "display_data",
          "data": {
            "application/javascript": [
              "window[\"d11aa9aa-7805-11eb-b6ee-0242ac1c0002\"] = google.colab.output.setActiveOutputArea(window[\"d0fd7984-7805-11eb-b6ee-0242ac1c0002\"]);\n",
              "//# sourceURL=js_065f09f4e8"
            ],
            "text/plain": [
              "<IPython.core.display.Javascript object>"
            ]
          },
          "metadata": {
            "tags": [
              "id4-0-0",
              "outputarea_id4"
            ]
          }
        },
        {
          "output_type": "display_data",
          "data": {
            "application/javascript": [
              "window[\"d11d3d96-7805-11eb-b6ee-0242ac1c0002\"] = google.colab.output.getActiveOutputArea();\n",
              "//# sourceURL=js_1dba537c0c"
            ],
            "text/plain": [
              "<IPython.core.display.Javascript object>"
            ]
          },
          "metadata": {
            "tags": [
              "id4-0-0",
              "outputarea_id4"
            ]
          }
        },
        {
          "output_type": "display_data",
          "data": {
            "application/javascript": [
              "window[\"d11df8b2-7805-11eb-b6ee-0242ac1c0002\"] = document.querySelector(\"#id4-0-0\");\n",
              "//# sourceURL=js_af6cfe3414"
            ],
            "text/plain": [
              "<IPython.core.display.Javascript object>"
            ]
          },
          "metadata": {
            "tags": [
              "id4-0-0",
              "outputarea_id4"
            ]
          }
        },
        {
          "output_type": "display_data",
          "data": {
            "application/javascript": [
              "window[\"d11f14b8-7805-11eb-b6ee-0242ac1c0002\"] = google.colab.output.setActiveOutputArea(window[\"d11df8b2-7805-11eb-b6ee-0242ac1c0002\"]);\n",
              "//# sourceURL=js_f7414a2aac"
            ],
            "text/plain": [
              "<IPython.core.display.Javascript object>"
            ]
          },
          "metadata": {
            "tags": [
              "id4-0-0",
              "outputarea_id4"
            ]
          }
        },
        {
          "output_type": "display_data",
          "data": {
            "application/javascript": [
              "window[\"d13b5bfa-7805-11eb-b6ee-0242ac1c0002\"] = google.colab.output.setActiveOutputArea(window[\"d11d3d96-7805-11eb-b6ee-0242ac1c0002\"]);\n",
              "//# sourceURL=js_8bac5e7b16"
            ],
            "text/plain": [
              "<IPython.core.display.Javascript object>"
            ]
          },
          "metadata": {
            "tags": [
              "id4-0-0",
              "outputarea_id4"
            ]
          }
        },
        {
          "output_type": "display_data",
          "data": {
            "application/javascript": [
              "window[\"d13ca938-7805-11eb-b6ee-0242ac1c0002\"] = google.colab.output.getActiveOutputArea();\n",
              "//# sourceURL=js_443f871063"
            ],
            "text/plain": [
              "<IPython.core.display.Javascript object>"
            ]
          },
          "metadata": {
            "tags": [
              "id4-0-0",
              "outputarea_id4"
            ]
          }
        },
        {
          "output_type": "display_data",
          "data": {
            "application/javascript": [
              "window[\"d13ce6a0-7805-11eb-b6ee-0242ac1c0002\"] = document.querySelector(\"#id4-0-0\");\n",
              "//# sourceURL=js_3c09ff3ee2"
            ],
            "text/plain": [
              "<IPython.core.display.Javascript object>"
            ]
          },
          "metadata": {
            "tags": [
              "id4-0-0",
              "outputarea_id4"
            ]
          }
        },
        {
          "output_type": "display_data",
          "data": {
            "application/javascript": [
              "window[\"d13d23f4-7805-11eb-b6ee-0242ac1c0002\"] = google.colab.output.setActiveOutputArea(window[\"d13ce6a0-7805-11eb-b6ee-0242ac1c0002\"]);\n",
              "//# sourceURL=js_dd54ea0b68"
            ],
            "text/plain": [
              "<IPython.core.display.Javascript object>"
            ]
          },
          "metadata": {
            "tags": [
              "id4-0-0",
              "outputarea_id4"
            ]
          }
        },
        {
          "output_type": "display_data",
          "data": {
            "application/javascript": [
              "window[\"d15aab68-7805-11eb-b6ee-0242ac1c0002\"] = google.colab.output.setActiveOutputArea(window[\"d13ca938-7805-11eb-b6ee-0242ac1c0002\"]);\n",
              "//# sourceURL=js_77efb17d8e"
            ],
            "text/plain": [
              "<IPython.core.display.Javascript object>"
            ]
          },
          "metadata": {
            "tags": [
              "id4-0-0",
              "outputarea_id4"
            ]
          }
        },
        {
          "output_type": "display_data",
          "data": {
            "application/javascript": [
              "window[\"d15d69ca-7805-11eb-b6ee-0242ac1c0002\"] = google.colab.output.getActiveOutputArea();\n",
              "//# sourceURL=js_11a9ef630c"
            ],
            "text/plain": [
              "<IPython.core.display.Javascript object>"
            ]
          },
          "metadata": {
            "tags": [
              "id4-0-0",
              "outputarea_id4"
            ]
          }
        },
        {
          "output_type": "display_data",
          "data": {
            "application/javascript": [
              "window[\"d15dd2f2-7805-11eb-b6ee-0242ac1c0002\"] = document.querySelector(\"#id4-0-0\");\n",
              "//# sourceURL=js_a3eb66100c"
            ],
            "text/plain": [
              "<IPython.core.display.Javascript object>"
            ]
          },
          "metadata": {
            "tags": [
              "id4-0-0",
              "outputarea_id4"
            ]
          }
        },
        {
          "output_type": "display_data",
          "data": {
            "application/javascript": [
              "window[\"d15e35d0-7805-11eb-b6ee-0242ac1c0002\"] = google.colab.output.setActiveOutputArea(window[\"d15dd2f2-7805-11eb-b6ee-0242ac1c0002\"]);\n",
              "//# sourceURL=js_6fc6c98b1f"
            ],
            "text/plain": [
              "<IPython.core.display.Javascript object>"
            ]
          },
          "metadata": {
            "tags": [
              "id4-0-0",
              "outputarea_id4"
            ]
          }
        },
        {
          "output_type": "display_data",
          "data": {
            "application/javascript": [
              "window[\"d17fa8e6-7805-11eb-b6ee-0242ac1c0002\"] = google.colab.output.setActiveOutputArea(window[\"d15d69ca-7805-11eb-b6ee-0242ac1c0002\"]);\n",
              "//# sourceURL=js_ffa4891a10"
            ],
            "text/plain": [
              "<IPython.core.display.Javascript object>"
            ]
          },
          "metadata": {
            "tags": [
              "id4-0-0",
              "outputarea_id4"
            ]
          }
        },
        {
          "output_type": "display_data",
          "data": {
            "application/javascript": [
              "window[\"d182c01c-7805-11eb-b6ee-0242ac1c0002\"] = google.colab.output.getActiveOutputArea();\n",
              "//# sourceURL=js_0385206f1b"
            ],
            "text/plain": [
              "<IPython.core.display.Javascript object>"
            ]
          },
          "metadata": {
            "tags": [
              "id4-0-0",
              "outputarea_id4"
            ]
          }
        },
        {
          "output_type": "display_data",
          "data": {
            "application/javascript": [
              "window[\"d1836378-7805-11eb-b6ee-0242ac1c0002\"] = document.querySelector(\"#id4-0-0\");\n",
              "//# sourceURL=js_d6c845b90b"
            ],
            "text/plain": [
              "<IPython.core.display.Javascript object>"
            ]
          },
          "metadata": {
            "tags": [
              "id4-0-0",
              "outputarea_id4"
            ]
          }
        },
        {
          "output_type": "display_data",
          "data": {
            "application/javascript": [
              "window[\"d183ef00-7805-11eb-b6ee-0242ac1c0002\"] = google.colab.output.setActiveOutputArea(window[\"d1836378-7805-11eb-b6ee-0242ac1c0002\"]);\n",
              "//# sourceURL=js_9ccf4dbbd0"
            ],
            "text/plain": [
              "<IPython.core.display.Javascript object>"
            ]
          },
          "metadata": {
            "tags": [
              "id4-0-0",
              "outputarea_id4"
            ]
          }
        },
        {
          "output_type": "display_data",
          "data": {
            "image/png": "[encoded data removed]",
            "text/plain": [
              "<Figure size 432x288 with 1 Axes>"
            ]
          },
          "metadata": {
            "tags": [
              "id4-0-0",
              "outputarea_id4",
              "user_output"
            ],
            "needs_background": "light"
          }
        },
        {
          "output_type": "display_data",
          "data": {
            "application/javascript": [
              "window[\"d1a19596-7805-11eb-b6ee-0242ac1c0002\"] = google.colab.output.setActiveOutputArea(window[\"d182c01c-7805-11eb-b6ee-0242ac1c0002\"]);\n",
              "//# sourceURL=js_6a441d9170"
            ],
            "text/plain": [
              "<IPython.core.display.Javascript object>"
            ]
          },
          "metadata": {
            "tags": [
              "id4-0-0",
              "outputarea_id4"
            ]
          }
        },
        {
          "output_type": "stream",
          "text": [
            "Agent ran out of time\n",
            "At the end of the run, the agent got is at state 3 & a total reward of -10\n"
          ],
          "name": "stdout"
        }
      ]
    },
    {
      "cell_type": "markdown",
      "metadata": {
        "id": "Ly1zH56A6rf2"
      },
      "source": [
        "*Initializing the episode count & window size (for testing)*"
      ]
    },
    {
      "cell_type": "code",
      "metadata": {
        "id": "m-6yc4jvmVZp"
      },
      "source": [
        "episodes= 1000\n",
        "window_size= 100"
      ],
      "execution_count": 15,
      "outputs": []
    },
    {
      "cell_type": "markdown",
      "metadata": {
        "id": "v4Z_9Gz2dLCt"
      },
      "source": [
        "*Running the Q-learning random agent in the Deterministic Environment*"
      ]
    },
    {
      "cell_type": "code",
      "metadata": {
        "id": "ZiR53K8fyliv"
      },
      "source": [
        "# Initializing the environment & the Q-learning agent\n",
        "environment= DeterministicEnvironment()\n",
        "Q_agent= QLearningAgent(env= environment)"
      ],
      "execution_count": 16,
      "outputs": []
    },
    {
      "cell_type": "code",
      "metadata": {
        "colab": {
          "base_uri": "https://localhost:8080/"
        },
        "id": "MbMNwxcdyvEj",
        "outputId": "2d53ff26-9acf-4df2-aff0-3f54c6988788"
      },
      "source": [
        "# Metrics to calculate\n",
        "reached= 0\n",
        "not_reached= 0\n",
        "total_reward= 0\n",
        "\n",
        "Q_det_bad_state= list()\n",
        "Q_det_reward_mean= list()\n",
        "Q_det_epsilon_decay= list()\n",
        "Q_det_reach_windowed= list()\n",
        "Q_det_episode_reward= list()\n",
        "Q_det_episode_timestep= list()\n",
        "\n",
        "for each_episode in range(episodes):\n",
        "  state= environment.reset()\n",
        "  done= False\n",
        "  reward_per_episode= 0\n",
        "  timestep_per_episode= 0\n",
        "  bad_state= 0\n",
        "\n",
        "  while not done:\n",
        "    action= Q_agent.step(state= state)\n",
        "    next_state, reward, done, info= environment.step(action= action)\n",
        "    Q_agent.train(experience= (state, action, next_state, reward, done))\n",
        "    state= next_state\n",
        "\n",
        "    reward_per_episode += reward\n",
        "    total_reward += reward\n",
        "    timestep_per_episode += 1\n",
        "    bad_state += 1 if (reward<0) else 0\n",
        "\n",
        "  Q_det_bad_state.append(bad_state)\n",
        "  Q_det_episode_timestep.append(timestep_per_episode)\n",
        "  Q_det_epsilon_decay.append(Q_agent.epsilon)\n",
        "  Q_det_episode_reward.append(reward_per_episode)\n",
        "  Q_det_reward_mean.append(np.mean(np.array(Q_det_episode_reward)))\n",
        "\n",
        "  if done == True and environment.timestep < MAX_TIMESTEPS:\n",
        "    # Agent has reached the goal\n",
        "    reached += 1\n",
        "    Q_det_reach_windowed.append(1)\n",
        "  elif done == True and environment.timestep == MAX_TIMESTEPS:\n",
        "    # Agent ran out of time & has not reached the goal\n",
        "    not_reached += 1\n",
        "    Q_det_reach_windowed.append(0)\n",
        "\n",
        "print('\\nReached: {} & Not reached: {}'.format(reached, not_reached))\n",
        "print('At the end of the run, the agent got is at state {} & a total reward of {}'.format(state, total_reward))\n",
        "\n",
        "# print('\\nThe final q-table is')\n",
        "# print(Q_agent.Q_table)"
      ],
      "execution_count": 17,
      "outputs": [
        {
          "output_type": "stream",
          "text": [
            "\n",
            "Reached: 277 & Not reached: 723\n",
            "At the end of the run, the agent got is at state 7 & a total reward of 187089\n"
          ],
          "name": "stdout"
        }
      ]
    },
    {
      "cell_type": "markdown",
      "metadata": {
        "id": "r9VaiXQR7A6o"
      },
      "source": [
        "*Running the Q-learning random agent in the Stochastic Environment*"
      ]
    },
    {
      "cell_type": "code",
      "metadata": {
        "id": "aoq-ySE-Ysmj"
      },
      "source": [
        "# Initializing the environment & the Q-learning agent\n",
        "environment= StochasticEnvironment()\n",
        "Q_agent= QLearningAgent(env= environment)"
      ],
      "execution_count": 18,
      "outputs": []
    },
    {
      "cell_type": "code",
      "metadata": {
        "colab": {
          "base_uri": "https://localhost:8080/"
        },
        "id": "z2FceP7TYtJt",
        "outputId": "9169d08e-514d-4666-f1ae-438262a22878"
      },
      "source": [
        "# Metrics to calculate\n",
        "reached= 0\n",
        "not_reached= 0\n",
        "total_reward= 0\n",
        "\n",
        "Q_sto_bad_state= list()\n",
        "Q_sto_reward_mean= list()\n",
        "Q_sto_epsilon_decay= list()\n",
        "Q_sto_reach_windowed= list()\n",
        "Q_sto_episode_reward= list()\n",
        "Q_sto_episode_timestep= list()\n",
        "\n",
        "for each_episode in range(episodes):\n",
        "  state= environment.reset()\n",
        "  done= False\n",
        "  reward_per_episode= 0\n",
        "  timestep_per_episode= 0\n",
        "  bad_state= 0\n",
        "\n",
        "  while not done:\n",
        "    action= Q_agent.step(state= state)\n",
        "    next_state, reward, done, info= environment.step(action= action)\n",
        "    Q_agent.train(experience= (state, action, next_state, reward, done))\n",
        "    state= next_state\n",
        "\n",
        "    reward_per_episode += reward\n",
        "    total_reward += reward\n",
        "    timestep_per_episode += 1\n",
        "    bad_state += 1 if (reward<0) else 0\n",
        "\n",
        "  Q_sto_bad_state.append(bad_state)\n",
        "  Q_sto_episode_timestep.append(timestep_per_episode)\n",
        "  Q_sto_epsilon_decay.append(Q_agent.epsilon)\n",
        "  Q_sto_episode_reward.append(reward_per_episode)\n",
        "  Q_sto_reward_mean.append(np.mean(np.array(Q_sto_episode_reward)))\n",
        "\n",
        "  if done == True and environment.timestep < MAX_TIMESTEPS:\n",
        "    # Agent has reached the goal\n",
        "    reached += 1\n",
        "    Q_sto_reach_windowed.append(1)\n",
        "  elif done == True and environment.timestep == MAX_TIMESTEPS:\n",
        "    # Agent ran out of time & has not reached the goal\n",
        "    not_reached += 1\n",
        "    Q_sto_reach_windowed.append(0)\n",
        "\n",
        "print('\\nReached: {} & Not reached: {}'.format(reached, not_reached))\n",
        "print('At the end of the run, the agent got is at state {} & a total reward of {}'.format(state, total_reward))\n",
        "\n",
        "# print('\\nThe final q-table is')\n",
        "# print(Q_agent.Q_table)"
      ],
      "execution_count": 19,
      "outputs": [
        {
          "output_type": "stream",
          "text": [
            "\n",
            "Reached: 937 & Not reached: 63\n",
            "At the end of the run, the agent got is at state 15 & a total reward of 57417\n"
          ],
          "name": "stdout"
        }
      ]
    },
    {
      "cell_type": "markdown",
      "metadata": {
        "id": "OsyR2PtFJ_Fr"
      },
      "source": [
        "*Running the SARSA random agent in the Deterministic Environment*"
      ]
    },
    {
      "cell_type": "code",
      "metadata": {
        "id": "0wJ-VgXxD3qS"
      },
      "source": [
        "environment= DeterministicEnvironment()\n",
        "SARSA_agent= SARSAAgent(env= environment)"
      ],
      "execution_count": 20,
      "outputs": []
    },
    {
      "cell_type": "code",
      "metadata": {
        "colab": {
          "base_uri": "https://localhost:8080/"
        },
        "id": "JkMGVbEsECvs",
        "outputId": "33cc4b89-c7cf-455e-db69-dfbc14759dc2"
      },
      "source": [
        "# Metrics to calculate\n",
        "reached= 0\n",
        "not_reached= 0\n",
        "total_reward= 0\n",
        "\n",
        "SARSA_det_bad_state= list()\n",
        "SARSA_det_reward_mean= list()\n",
        "SARSA_det_epsilon_decay= list()\n",
        "SARSA_det_reach_windowed= list()\n",
        "SARSA_det_episode_reward= list()\n",
        "SARSA_det_episode_timestep= list()\n",
        "\n",
        "for each_episode in range(episodes):\n",
        "  state= environment.reset()\n",
        "  done= False\n",
        "  reward_per_episode= 0\n",
        "  timestep_per_episode= 0\n",
        "  bad_state= 0\n",
        "\n",
        "  action= SARSA_agent.step(state= state)\n",
        "  while not done:\n",
        "    next_action= SARSA_agent.step(state= state)\n",
        "    next_state, reward, done, info= environment.step(action= action)\n",
        "    SARSA_agent.train(experience= (state, action, next_state, next_action, reward, done))\n",
        "    state= next_state\n",
        "    action= next_action\n",
        "\n",
        "    reward_per_episode += reward\n",
        "    total_reward += reward\n",
        "    timestep_per_episode += 1\n",
        "    bad_state += 1 if (reward<0) else 0\n",
        "\n",
        "  SARSA_det_bad_state.append(bad_state)\n",
        "  SARSA_det_episode_timestep.append(timestep_per_episode)\n",
        "  SARSA_det_epsilon_decay.append(SARSA_agent.epsilon)\n",
        "  SARSA_det_episode_reward.append(reward_per_episode)\n",
        "  SARSA_det_reward_mean.append(np.mean(np.array(SARSA_det_episode_reward)))\n",
        "\n",
        "  if done == True and environment.timestep < MAX_TIMESTEPS:\n",
        "    # Agent has reached the goal\n",
        "    reached += 1\n",
        "    SARSA_det_reach_windowed.append(1)\n",
        "  elif done == True and environment.timestep == MAX_TIMESTEPS:\n",
        "    # Agent ran out of time & has not reached the goal\n",
        "    not_reached += 1\n",
        "    SARSA_det_reach_windowed.append(0)\n",
        "\n",
        "print('\\nReached: {} & Not reached: {}'.format(reached, not_reached))\n",
        "print('At the end of the run, the agent got is at state {} & a total reward of {}'.format(state, total_reward))"
      ],
      "execution_count": 21,
      "outputs": [
        {
          "output_type": "stream",
          "text": [
            "\n",
            "Reached: 973 & Not reached: 27\n",
            "At the end of the run, the agent got is at state 15 & a total reward of 18690\n"
          ],
          "name": "stdout"
        }
      ]
    },
    {
      "cell_type": "markdown",
      "metadata": {
        "id": "dF7di08zKDLp"
      },
      "source": [
        "*Running the SARSA random agent in the Stochastic Environment*"
      ]
    },
    {
      "cell_type": "code",
      "metadata": {
        "id": "PyyOI5MpJ2Dm"
      },
      "source": [
        "environment= StochasticEnvironment()\n",
        "SARSA_agent= SARSAAgent(env= environment)"
      ],
      "execution_count": 22,
      "outputs": []
    },
    {
      "cell_type": "code",
      "metadata": {
        "colab": {
          "base_uri": "https://localhost:8080/"
        },
        "id": "O5PDe9K0J7jn",
        "outputId": "6dca4ca2-c7ce-4811-bf58-a5e880ca9bf6"
      },
      "source": [
        "# Metrics to calculate\n",
        "reached= 0\n",
        "not_reached= 0\n",
        "total_reward= 0\n",
        "\n",
        "SARSA_sto_bad_state= list()\n",
        "SARSA_sto_reward_mean= list()\n",
        "SARSA_sto_epsilon_decay= list()\n",
        "SARSA_sto_reach_windowed= list()\n",
        "SARSA_sto_episode_reward= list()\n",
        "SARSA_sto_episode_timestep= list()\n",
        "\n",
        "for each_episode in range(episodes):\n",
        "  state= environment.reset()\n",
        "  done= False\n",
        "  reward_per_episode= 0\n",
        "  timestep_per_episode= 0\n",
        "  bad_state= 0\n",
        "\n",
        "  action= SARSA_agent.step(state= state)\n",
        "  while not done:\n",
        "    next_action= SARSA_agent.step(state= state)\n",
        "    next_state, reward, done, info= environment.step(action= action)\n",
        "    SARSA_agent.train(experience= (state, action, next_state, next_action, reward, done))\n",
        "    state= next_state\n",
        "    action= next_action\n",
        "\n",
        "    reward_per_episode += reward\n",
        "    total_reward += reward\n",
        "    timestep_per_episode += 1\n",
        "    bad_state += 1 if (reward<0) else 0\n",
        "\n",
        "  SARSA_sto_bad_state.append(bad_state)\n",
        "  SARSA_sto_episode_timestep.append(timestep_per_episode)\n",
        "  SARSA_sto_epsilon_decay.append(SARSA_agent.epsilon)\n",
        "  SARSA_sto_episode_reward.append(reward_per_episode)\n",
        "  SARSA_sto_reward_mean.append(np.mean(np.array(SARSA_sto_episode_reward)))\n",
        "\n",
        "  if done == True and environment.timestep < MAX_TIMESTEPS:\n",
        "    # Agent has reached the goal\n",
        "    reached += 1\n",
        "    SARSA_sto_reach_windowed.append(1)\n",
        "  elif done == True and environment.timestep == MAX_TIMESTEPS:\n",
        "    # Agent ran out of time & has not reached the goal\n",
        "    not_reached += 1\n",
        "    SARSA_sto_reach_windowed.append(0)\n",
        "\n",
        "print('\\nReached: {} & Not reached: {}'.format(reached, not_reached))\n",
        "print('At the end of the run, the agent got is at state {} & a total reward of {}'.format(state, total_reward))"
      ],
      "execution_count": 23,
      "outputs": [
        {
          "output_type": "stream",
          "text": [
            "\n",
            "Reached: 961 & Not reached: 39\n",
            "At the end of the run, the agent got is at state 15 & a total reward of 28724\n"
          ],
          "name": "stdout"
        }
      ]
    },
    {
      "cell_type": "markdown",
      "metadata": {
        "id": "6xFmucyNTumX"
      },
      "source": [
        "## Results, analysis, & explanation"
      ]
    },
    {
      "cell_type": "code",
      "metadata": {
        "colab": {
          "base_uri": "https://localhost:8080/",
          "height": 1000
        },
        "id": "EEMTu462TuSt",
        "outputId": "dd677fec-d259-408f-f57c-77934959808c"
      },
      "source": [
        "grid= widgets.Grid(7, 5)\n",
        "\n",
        "# ---------------------------------------------------------\n",
        "# Column 0 -> Evaluation metrics\n",
        "# ---------------------------------------------------------\n",
        "with grid.output_to(1, 0):\n",
        "  print('Cummulative reward per episode')\n",
        "with grid.output_to(2, 0):\n",
        "  print('Average reward per episode')\n",
        "with grid.output_to(3, 0):\n",
        "  print('Epsilon decay')\n",
        "with grid.output_to(4, 0):\n",
        "  print('Average number of timesteps per episode')\n",
        "with grid.output_to(5, 0):\n",
        "  print('Average number of times agent \\nreceives penalty per episode')\n",
        "with grid.output_to(6, 0):\n",
        "  print('Percentage of goal achievements by \\nagent for every {} episodes'.format(window_size))\n",
        "\n",
        "# ---------------------------------------------------------\n",
        "# Column 1 -> Q-learning agent in Deterministic Environment\n",
        "# ---------------------------------------------------------\n",
        "with grid.output_to(0, 1):\n",
        "  print('Performance of Q-learning agent in \\nDeterministic Environment')\n",
        "\n",
        "with grid.output_to(1, 1):\n",
        "  plt.title('Cummulative reward per episode')\n",
        "  plt.plot(Q_det_episode_reward)\n",
        "  plt.xlabel('Episodes')\n",
        "  plt.ylabel('Reward')\n",
        "\n",
        "with grid.output_to(2, 1):\n",
        "  plt.title('Average reward per episode')\n",
        "  plt.plot(Q_det_reward_mean)\n",
        "  plt.xlabel('Episodes')\n",
        "  plt.ylabel('Reward')\n",
        "\n",
        "with grid.output_to(3, 1):\n",
        "  plt.title('Epsilon decay')\n",
        "  plt.plot(Q_det_epsilon_decay)\n",
        "  plt.xlabel('Episode')\n",
        "  plt.ylabel('Epsilon')\n",
        "\n",
        "with grid.output_to(4, 1):\n",
        "  print(np.mean(np.array(Q_det_episode_timestep)))\n",
        "\n",
        "with grid.output_to(5, 1):\n",
        "  print(np.mean(np.array(Q_det_bad_state)))\n",
        "\n",
        "with grid.output_to(6, 1):\n",
        "  y_axis= [np.count_nonzero(i) for i in list(np.array(Q_det_reach_windowed).reshape(int(episodes/window_size), window_size))]\n",
        "  fig= plt.figure()\n",
        "  axis= fig.add_axes([0, 0, 1, 1])\n",
        "  axis.bar([i for i in range(1, 11)], y_axis, width= 0.25)\n",
        "  axis.set_title('Percentage of goal achievements by \\nagent for every {} episodes'.format(window_size))\n",
        "  axis.set_xlabel('Episodes (*100)')\n",
        "  axis.set_ylabel('Percentage of goal achievements')\n",
        "  fig.show()\n",
        "  # print(y_axis)\n",
        "  print('Overall percentage of reaching the goal: {}'.format(np.mean(np.array(y_axis))))\n",
        "\n",
        "# ------------------------------------------------------\n",
        "# Column 2 -> Q-learning agent in Stochastic Environment\n",
        "# ------------------------------------------------------\n",
        "with grid.output_to(0, 2):\n",
        "  print('Performance of Q-learning agent in \\nStochastic Environment')\n",
        "\n",
        "with grid.output_to(1, 2):\n",
        "  plt.title('Cummulative reward per episode')\n",
        "  plt.plot(Q_sto_episode_reward)\n",
        "  plt.xlabel('Episodes')\n",
        "  plt.ylabel('Reward')\n",
        "\n",
        "with grid.output_to(2, 2):\n",
        "  plt.title('Average reward per episode')\n",
        "  plt.plot(Q_sto_reward_mean)\n",
        "  plt.xlabel('Episodes')\n",
        "  plt.ylabel('Reward')\n",
        "\n",
        "with grid.output_to(3, 2):\n",
        "  plt.title('Epsilon decay')\n",
        "  plt.plot(Q_sto_epsilon_decay)\n",
        "  plt.xlabel('Episode')\n",
        "  plt.ylabel('Epsilon')\n",
        "\n",
        "with grid.output_to(4, 2):\n",
        "  print(np.mean(np.array(Q_sto_episode_timestep)))\n",
        "\n",
        "with grid.output_to(5, 2):\n",
        "  print(np.mean(np.array(Q_sto_bad_state)))\n",
        "\n",
        "with grid.output_to(6, 2):\n",
        "  y_axis= [np.count_nonzero(i) for i in list(np.array(Q_sto_reach_windowed).reshape(int(episodes/window_size), window_size))]\n",
        "  fig= plt.figure()\n",
        "  axis= fig.add_axes([0, 0, 1, 1])\n",
        "  axis.bar([i for i in range(1, 11)], y_axis, width= 0.25)\n",
        "  axis.set_title('Percentage of goal achievements by \\nagent for every {} episodes'.format(window_size))\n",
        "  axis.set_xlabel('Episodes (*100)')\n",
        "  axis.set_ylabel('Percentage of goal achievements')\n",
        "  fig.show()\n",
        "  # print(y_axis)\n",
        "  print('Overall percentage of reaching the goal: {}'.format(np.mean(np.array(y_axis))))\n",
        "\n",
        "# ----------------------------------------------------\n",
        "# Column 3 -> SARSA agent in Deterministic Environment\n",
        "# ----------------------------------------------------\n",
        "with grid.output_to(0, 3):\n",
        "  print('Performance of SARSA agent in \\nDeterministic Environment')\n",
        "\n",
        "with grid.output_to(1, 3):\n",
        "  plt.title('Cummulative reward per episode')\n",
        "  plt.plot(SARSA_det_episode_reward)\n",
        "  plt.xlabel('Episodes')\n",
        "  plt.ylabel('Reward')\n",
        "\n",
        "with grid.output_to(2, 3):\n",
        "  plt.title('Average reward per episode')\n",
        "  plt.plot(SARSA_det_reward_mean)\n",
        "  plt.xlabel('Episodes')\n",
        "  plt.ylabel('Reward')\n",
        "\n",
        "with grid.output_to(3, 3):\n",
        "  plt.title('Epsilon decay')\n",
        "  plt.plot(SARSA_det_epsilon_decay)\n",
        "  plt.xlabel('Episode')\n",
        "  plt.ylabel('Epsilon')\n",
        "\n",
        "with grid.output_to(4, 3):\n",
        "  print(np.mean(np.array(SARSA_det_episode_timestep)))\n",
        "\n",
        "with grid.output_to(5, 3):\n",
        "  print(np.mean(np.array(SARSA_det_bad_state)))\n",
        "\n",
        "with grid.output_to(6, 3):\n",
        "  y_axis= [np.count_nonzero(i) for i in list(np.array(SARSA_det_reach_windowed).reshape(int(episodes/window_size), window_size))]\n",
        "  fig= plt.figure()\n",
        "  axis= fig.add_axes([0, 0, 1, 1])\n",
        "  axis.bar([i for i in range(1, 11)], y_axis, width= 0.25)\n",
        "  axis.set_title('Percentage of goal achievements by \\nagent for every {} episodes'.format(window_size))\n",
        "  axis.set_xlabel('Episodes (*100)')\n",
        "  axis.set_ylabel('Percentage of goal achievements')\n",
        "  fig.show()\n",
        "  # print(y_axis)\n",
        "  print('Overall percentage of reaching the goal: {}'.format(np.mean(np.array(y_axis))))\n",
        "\n",
        "# -------------------------------------------------\n",
        "# Column 4 -> SARSA agent in Stochastic Environment\n",
        "# -------------------------------------------------\n",
        "with grid.output_to(0, 4):\n",
        "  print('Performance of SARSA agent in \\nStochastic Environment')\n",
        "\n",
        "with grid.output_to(1, 4):\n",
        "  plt.title('Cummulative reward per episode')\n",
        "  plt.plot(SARSA_sto_episode_reward)\n",
        "  plt.xlabel('Episodes')\n",
        "  plt.ylabel('Reward')\n",
        "\n",
        "with grid.output_to(2, 4):\n",
        "  plt.title('Average reward per episode')\n",
        "  plt.plot(SARSA_sto_reward_mean)\n",
        "  plt.xlabel('Episodes')\n",
        "  plt.ylabel('Reward')\n",
        "\n",
        "with grid.output_to(3, 4):\n",
        "  plt.title('Epsilon decay')\n",
        "  plt.plot(SARSA_sto_epsilon_decay)\n",
        "  plt.xlabel('Episode')\n",
        "  plt.ylabel('Epsilon')\n",
        "\n",
        "with grid.output_to(4, 4):\n",
        "  print(np.mean(np.array(SARSA_sto_episode_timestep)))\n",
        "\n",
        "with grid.output_to(5, 4):\n",
        "  print(np.mean(np.array(SARSA_sto_bad_state)))\n",
        "\n",
        "with grid.output_to(6, 4):\n",
        "  y_axis= [np.count_nonzero(i) for i in list(np.array(SARSA_sto_reach_windowed).reshape(int(episodes/window_size), window_size))]\n",
        "  fig= plt.figure()\n",
        "  axis= fig.add_axes([0, 0, 1, 1])\n",
        "  axis.bar([i for i in range(1, 11)], y_axis, width= 0.25)\n",
        "  axis.set_title('Percentage of goal achievements by \\nagent for every {} episodes'.format(window_size))\n",
        "  axis.set_xlabel('Episodes (*100)')\n",
        "  axis.set_ylabel('Percentage of goal achievements')\n",
        "  fig.show()\n",
        "  print('Overall percentage of reaching the goal: {}'.format(np.mean(np.array(y_axis))))"
      ],
      "execution_count": 24,
      "outputs": [
        {
          "output_type": "display_data",
          "data": {
            "text/html": [
              "<style>\n",
              "       table#id6, #id6 > tbody > tr > th, #id6 > tbody > tr > td {\n",
              "         border: 1px solid lightgray;\n",
              "         border-collapse:collapse;\n",
              "         \n",
              "        }</style>"
            ],
            "text/plain": [
              "<IPython.core.display.HTML object>"
            ]
          },
          "metadata": {
            "tags": [
              "outputarea_id6"
            ]
          }
        },
        {
          "output_type": "display_data",
          "data": {
            "text/html": [
              "<table id=id6><tr><td id=id6-0-0></td><td id=id6-0-1></td><td id=id6-0-2></td><td id=id6-0-3></td><td id=id6-0-4></td></tr><tr><td id=id6-1-0></td><td id=id6-1-1></td><td id=id6-1-2></td><td id=id6-1-3></td><td id=id6-1-4></td></tr><tr><td id=id6-2-0></td><td id=id6-2-1></td><td id=id6-2-2></td><td id=id6-2-3></td><td id=id6-2-4></td></tr><tr><td id=id6-3-0></td><td id=id6-3-1></td><td id=id6-3-2></td><td id=id6-3-3></td><td id=id6-3-4></td></tr><tr><td id=id6-4-0></td><td id=id6-4-1></td><td id=id6-4-2></td><td id=id6-4-3></td><td id=id6-4-4></td></tr><tr><td id=id6-5-0></td><td id=id6-5-1></td><td id=id6-5-2></td><td id=id6-5-3></td><td id=id6-5-4></td></tr><tr><td id=id6-6-0></td><td id=id6-6-1></td><td id=id6-6-2></td><td id=id6-6-3></td><td id=id6-6-4></td></tr></table>"
            ],
            "text/plain": [
              "<IPython.core.display.HTML object>"
            ]
          },
          "metadata": {
            "tags": [
              "outputarea_id6"
            ]
          }
        },
        {
          "output_type": "display_data",
          "data": {
            "application/javascript": [
              "window[\"d742c650-7805-11eb-b6ee-0242ac1c0002\"] = google.colab.output.getActiveOutputArea();\n",
              "//# sourceURL=js_c0ae7925eb"
            ],
            "text/plain": [
              "<IPython.core.display.Javascript object>"
            ]
          },
          "metadata": {
            "tags": [
              "id6-1-0",
              "outputarea_id6"
            ]
          }
        },
        {
          "output_type": "display_data",
          "data": {
            "application/javascript": [
              "window[\"d7430f8e-7805-11eb-b6ee-0242ac1c0002\"] = document.querySelector(\"#id6-1-0\");\n",
              "//# sourceURL=js_5054d37d6a"
            ],
            "text/plain": [
              "<IPython.core.display.Javascript object>"
            ]
          },
          "metadata": {
            "tags": [
              "id6-1-0",
              "outputarea_id6"
            ]
          }
        },
        {
          "output_type": "display_data",
          "data": {
            "application/javascript": [
              "window[\"d7434f8a-7805-11eb-b6ee-0242ac1c0002\"] = google.colab.output.setActiveOutputArea(window[\"d7430f8e-7805-11eb-b6ee-0242ac1c0002\"]);\n",
              "//# sourceURL=js_f48b005097"
            ],
            "text/plain": [
              "<IPython.core.display.Javascript object>"
            ]
          },
          "metadata": {
            "tags": [
              "id6-1-0",
              "outputarea_id6"
            ]
          }
        },
        {
          "output_type": "stream",
          "text": [
            "Cummulative reward per episode\n"
          ],
          "name": "stdout"
        },
        {
          "output_type": "display_data",
          "data": {
            "application/javascript": [
              "window[\"d744322e-7805-11eb-b6ee-0242ac1c0002\"] = google.colab.output.setActiveOutputArea(window[\"d742c650-7805-11eb-b6ee-0242ac1c0002\"]);\n",
              "//# sourceURL=js_b200e4aadb"
            ],
            "text/plain": [
              "<IPython.core.display.Javascript object>"
            ]
          },
          "metadata": {
            "tags": [
              "id6-1-0",
              "outputarea_id6"
            ]
          }
        },
        {
          "output_type": "display_data",
          "data": {
            "application/javascript": [
              "window[\"d74594a2-7805-11eb-b6ee-0242ac1c0002\"] = google.colab.output.getActiveOutputArea();\n",
              "//# sourceURL=js_3f20d83270"
            ],
            "text/plain": [
              "<IPython.core.display.Javascript object>"
            ]
          },
          "metadata": {
            "tags": [
              "id6-2-0",
              "outputarea_id6"
            ]
          }
        },
        {
          "output_type": "display_data",
          "data": {
            "application/javascript": [
              "window[\"d745d818-7805-11eb-b6ee-0242ac1c0002\"] = document.querySelector(\"#id6-2-0\");\n",
              "//# sourceURL=js_2283da61d9"
            ],
            "text/plain": [
              "<IPython.core.display.Javascript object>"
            ]
          },
          "metadata": {
            "tags": [
              "id6-2-0",
              "outputarea_id6"
            ]
          }
        },
        {
          "output_type": "display_data",
          "data": {
            "application/javascript": [
              "window[\"d746118e-7805-11eb-b6ee-0242ac1c0002\"] = google.colab.output.setActiveOutputArea(window[\"d745d818-7805-11eb-b6ee-0242ac1c0002\"]);\n",
              "//# sourceURL=js_b9026171d3"
            ],
            "text/plain": [
              "<IPython.core.display.Javascript object>"
            ]
          },
          "metadata": {
            "tags": [
              "id6-2-0",
              "outputarea_id6"
            ]
          }
        },
        {
          "output_type": "stream",
          "text": [
            "Average reward per episode\n"
          ],
          "name": "stdout"
        },
        {
          "output_type": "display_data",
          "data": {
            "application/javascript": [
              "window[\"d746f1bc-7805-11eb-b6ee-0242ac1c0002\"] = google.colab.output.setActiveOutputArea(window[\"d74594a2-7805-11eb-b6ee-0242ac1c0002\"]);\n",
              "//# sourceURL=js_da99baf4ce"
            ],
            "text/plain": [
              "<IPython.core.display.Javascript object>"
            ]
          },
          "metadata": {
            "tags": [
              "id6-2-0",
              "outputarea_id6"
            ]
          }
        },
        {
          "output_type": "display_data",
          "data": {
            "application/javascript": [
              "window[\"d7483932-7805-11eb-b6ee-0242ac1c0002\"] = google.colab.output.getActiveOutputArea();\n",
              "//# sourceURL=js_c91fe13229"
            ],
            "text/plain": [
              "<IPython.core.display.Javascript object>"
            ]
          },
          "metadata": {
            "tags": [
              "id6-3-0",
              "outputarea_id6"
            ]
          }
        },
        {
          "output_type": "display_data",
          "data": {
            "application/javascript": [
              "window[\"d74882de-7805-11eb-b6ee-0242ac1c0002\"] = document.querySelector(\"#id6-3-0\");\n",
              "//# sourceURL=js_5dfaabe0f3"
            ],
            "text/plain": [
              "<IPython.core.display.Javascript object>"
            ]
          },
          "metadata": {
            "tags": [
              "id6-3-0",
              "outputarea_id6"
            ]
          }
        },
        {
          "output_type": "display_data",
          "data": {
            "application/javascript": [
              "window[\"d748cd0c-7805-11eb-b6ee-0242ac1c0002\"] = google.colab.output.setActiveOutputArea(window[\"d74882de-7805-11eb-b6ee-0242ac1c0002\"]);\n",
              "//# sourceURL=js_f7c35ca6e8"
            ],
            "text/plain": [
              "<IPython.core.display.Javascript object>"
            ]
          },
          "metadata": {
            "tags": [
              "id6-3-0",
              "outputarea_id6"
            ]
          }
        },
        {
          "output_type": "stream",
          "text": [
            "Epsilon decay\n"
          ],
          "name": "stdout"
        },
        {
          "output_type": "display_data",
          "data": {
            "application/javascript": [
              "window[\"d749b71c-7805-11eb-b6ee-0242ac1c0002\"] = google.colab.output.setActiveOutputArea(window[\"d7483932-7805-11eb-b6ee-0242ac1c0002\"]);\n",
              "//# sourceURL=js_733eb358c4"
            ],
            "text/plain": [
              "<IPython.core.display.Javascript object>"
            ]
          },
          "metadata": {
            "tags": [
              "id6-3-0",
              "outputarea_id6"
            ]
          }
        },
        {
          "output_type": "display_data",
          "data": {
            "application/javascript": [
              "window[\"d74af76c-7805-11eb-b6ee-0242ac1c0002\"] = google.colab.output.getActiveOutputArea();\n",
              "//# sourceURL=js_d965716540"
            ],
            "text/plain": [
              "<IPython.core.display.Javascript object>"
            ]
          },
          "metadata": {
            "tags": [
              "id6-4-0",
              "outputarea_id6"
            ]
          }
        },
        {
          "output_type": "display_data",
          "data": {
            "application/javascript": [
              "window[\"d74b3060-7805-11eb-b6ee-0242ac1c0002\"] = document.querySelector(\"#id6-4-0\");\n",
              "//# sourceURL=js_57f5a30bcf"
            ],
            "text/plain": [
              "<IPython.core.display.Javascript object>"
            ]
          },
          "metadata": {
            "tags": [
              "id6-4-0",
              "outputarea_id6"
            ]
          }
        },
        {
          "output_type": "display_data",
          "data": {
            "application/javascript": [
              "window[\"d74b717e-7805-11eb-b6ee-0242ac1c0002\"] = google.colab.output.setActiveOutputArea(window[\"d74b3060-7805-11eb-b6ee-0242ac1c0002\"]);\n",
              "//# sourceURL=js_acdacd9840"
            ],
            "text/plain": [
              "<IPython.core.display.Javascript object>"
            ]
          },
          "metadata": {
            "tags": [
              "id6-4-0",
              "outputarea_id6"
            ]
          }
        },
        {
          "output_type": "stream",
          "text": [
            "Average number of timesteps per episode\n"
          ],
          "name": "stdout"
        },
        {
          "output_type": "display_data",
          "data": {
            "application/javascript": [
              "window[\"d74c551c-7805-11eb-b6ee-0242ac1c0002\"] = google.colab.output.setActiveOutputArea(window[\"d74af76c-7805-11eb-b6ee-0242ac1c0002\"]);\n",
              "//# sourceURL=js_c84a63a3ad"
            ],
            "text/plain": [
              "<IPython.core.display.Javascript object>"
            ]
          },
          "metadata": {
            "tags": [
              "id6-4-0",
              "outputarea_id6"
            ]
          }
        },
        {
          "output_type": "display_data",
          "data": {
            "application/javascript": [
              "window[\"d74d8a2c-7805-11eb-b6ee-0242ac1c0002\"] = google.colab.output.getActiveOutputArea();\n",
              "//# sourceURL=js_ac4aaaf104"
            ],
            "text/plain": [
              "<IPython.core.display.Javascript object>"
            ]
          },
          "metadata": {
            "tags": [
              "id6-5-0",
              "outputarea_id6"
            ]
          }
        },
        {
          "output_type": "display_data",
          "data": {
            "application/javascript": [
              "window[\"d74dd1ee-7805-11eb-b6ee-0242ac1c0002\"] = document.querySelector(\"#id6-5-0\");\n",
              "//# sourceURL=js_b61fc9761b"
            ],
            "text/plain": [
              "<IPython.core.display.Javascript object>"
            ]
          },
          "metadata": {
            "tags": [
              "id6-5-0",
              "outputarea_id6"
            ]
          }
        },
        {
          "output_type": "display_data",
          "data": {
            "application/javascript": [
              "window[\"d74e0df8-7805-11eb-b6ee-0242ac1c0002\"] = google.colab.output.setActiveOutputArea(window[\"d74dd1ee-7805-11eb-b6ee-0242ac1c0002\"]);\n",
              "//# sourceURL=js_f30c0aa2a8"
            ],
            "text/plain": [
              "<IPython.core.display.Javascript object>"
            ]
          },
          "metadata": {
            "tags": [
              "id6-5-0",
              "outputarea_id6"
            ]
          }
        },
        {
          "output_type": "stream",
          "text": [
            "Average number of times agent \n",
            "receives penalty per episode\n"
          ],
          "name": "stdout"
        },
        {
          "output_type": "display_data",
          "data": {
            "application/javascript": [
              "window[\"d74eeeda-7805-11eb-b6ee-0242ac1c0002\"] = google.colab.output.setActiveOutputArea(window[\"d74d8a2c-7805-11eb-b6ee-0242ac1c0002\"]);\n",
              "//# sourceURL=js_21bd91c7a5"
            ],
            "text/plain": [
              "<IPython.core.display.Javascript object>"
            ]
          },
          "metadata": {
            "tags": [
              "id6-5-0",
              "outputarea_id6"
            ]
          }
        },
        {
          "output_type": "display_data",
          "data": {
            "application/javascript": [
              "window[\"d7503452-7805-11eb-b6ee-0242ac1c0002\"] = google.colab.output.getActiveOutputArea();\n",
              "//# sourceURL=js_676d059b17"
            ],
            "text/plain": [
              "<IPython.core.display.Javascript object>"
            ]
          },
          "metadata": {
            "tags": [
              "id6-6-0",
              "outputarea_id6"
            ]
          }
        },
        {
          "output_type": "display_data",
          "data": {
            "application/javascript": [
              "window[\"d7507c5a-7805-11eb-b6ee-0242ac1c0002\"] = document.querySelector(\"#id6-6-0\");\n",
              "//# sourceURL=js_e636a004e1"
            ],
            "text/plain": [
              "<IPython.core.display.Javascript object>"
            ]
          },
          "metadata": {
            "tags": [
              "id6-6-0",
              "outputarea_id6"
            ]
          }
        },
        {
          "output_type": "display_data",
          "data": {
            "application/javascript": [
              "window[\"d750c0de-7805-11eb-b6ee-0242ac1c0002\"] = google.colab.output.setActiveOutputArea(window[\"d7507c5a-7805-11eb-b6ee-0242ac1c0002\"]);\n",
              "//# sourceURL=js_cbf82077cf"
            ],
            "text/plain": [
              "<IPython.core.display.Javascript object>"
            ]
          },
          "metadata": {
            "tags": [
              "id6-6-0",
              "outputarea_id6"
            ]
          }
        },
        {
          "output_type": "stream",
          "text": [
            "Percentage of goal achievements by \n",
            "agent for every 100 episodes\n"
          ],
          "name": "stdout"
        },
        {
          "output_type": "display_data",
          "data": {
            "application/javascript": [
              "window[\"d7519482-7805-11eb-b6ee-0242ac1c0002\"] = google.colab.output.setActiveOutputArea(window[\"d7503452-7805-11eb-b6ee-0242ac1c0002\"]);\n",
              "//# sourceURL=js_be8464993c"
            ],
            "text/plain": [
              "<IPython.core.display.Javascript object>"
            ]
          },
          "metadata": {
            "tags": [
              "id6-6-0",
              "outputarea_id6"
            ]
          }
        },
        {
          "output_type": "display_data",
          "data": {
            "application/javascript": [
              "window[\"d752bff6-7805-11eb-b6ee-0242ac1c0002\"] = google.colab.output.getActiveOutputArea();\n",
              "//# sourceURL=js_e45eb6fee0"
            ],
            "text/plain": [
              "<IPython.core.display.Javascript object>"
            ]
          },
          "metadata": {
            "tags": [
              "id6-0-1",
              "outputarea_id6"
            ]
          }
        },
        {
          "output_type": "display_data",
          "data": {
            "application/javascript": [
              "window[\"d752fdd6-7805-11eb-b6ee-0242ac1c0002\"] = document.querySelector(\"#id6-0-1\");\n",
              "//# sourceURL=js_5d4428d13b"
            ],
            "text/plain": [
              "<IPython.core.display.Javascript object>"
            ]
          },
          "metadata": {
            "tags": [
              "id6-0-1",
              "outputarea_id6"
            ]
          }
        },
        {
          "output_type": "display_data",
          "data": {
            "application/javascript": [
              "window[\"d753379c-7805-11eb-b6ee-0242ac1c0002\"] = google.colab.output.setActiveOutputArea(window[\"d752fdd6-7805-11eb-b6ee-0242ac1c0002\"]);\n",
              "//# sourceURL=js_6af2c35b07"
            ],
            "text/plain": [
              "<IPython.core.display.Javascript object>"
            ]
          },
          "metadata": {
            "tags": [
              "id6-0-1",
              "outputarea_id6"
            ]
          }
        },
        {
          "output_type": "stream",
          "text": [
            "Performance of Q-learning agent in \n",
            "Deterministic Environment\n"
          ],
          "name": "stdout"
        },
        {
          "output_type": "display_data",
          "data": {
            "application/javascript": [
              "window[\"d753e93a-7805-11eb-b6ee-0242ac1c0002\"] = google.colab.output.setActiveOutputArea(window[\"d752bff6-7805-11eb-b6ee-0242ac1c0002\"]);\n",
              "//# sourceURL=js_a253e66d7f"
            ],
            "text/plain": [
              "<IPython.core.display.Javascript object>"
            ]
          },
          "metadata": {
            "tags": [
              "id6-0-1",
              "outputarea_id6"
            ]
          }
        },
        {
          "output_type": "display_data",
          "data": {
            "application/javascript": [
              "window[\"d7552c78-7805-11eb-b6ee-0242ac1c0002\"] = google.colab.output.getActiveOutputArea();\n",
              "//# sourceURL=js_05df23e928"
            ],
            "text/plain": [
              "<IPython.core.display.Javascript object>"
            ]
          },
          "metadata": {
            "tags": [
              "id6-1-1",
              "outputarea_id6"
            ]
          }
        },
        {
          "output_type": "display_data",
          "data": {
            "application/javascript": [
              "window[\"d7557656-7805-11eb-b6ee-0242ac1c0002\"] = document.querySelector(\"#id6-1-1\");\n",
              "//# sourceURL=js_3542e74367"
            ],
            "text/plain": [
              "<IPython.core.display.Javascript object>"
            ]
          },
          "metadata": {
            "tags": [
              "id6-1-1",
              "outputarea_id6"
            ]
          }
        },
        {
          "output_type": "display_data",
          "data": {
            "application/javascript": [
              "window[\"d755b8c8-7805-11eb-b6ee-0242ac1c0002\"] = google.colab.output.setActiveOutputArea(window[\"d7557656-7805-11eb-b6ee-0242ac1c0002\"]);\n",
              "//# sourceURL=js_4deb00cf33"
            ],
            "text/plain": [
              "<IPython.core.display.Javascript object>"
            ]
          },
          "metadata": {
            "tags": [
              "id6-1-1",
              "outputarea_id6"
            ]
          }
        },
        {
          "output_type": "display_data",
          "data": {
            "image/png": "[encoded data removed]",
            "text/plain": [
              "<Figure size 432x288 with 1 Axes>"
            ]
          },
          "metadata": {
            "tags": [
              "id6-1-1",
              "outputarea_id6",
              "user_output"
            ],
            "needs_background": "light"
          }
        },
        {
          "output_type": "display_data",
          "data": {
            "application/javascript": [
              "window[\"d7809d0e-7805-11eb-b6ee-0242ac1c0002\"] = google.colab.output.setActiveOutputArea(window[\"d7552c78-7805-11eb-b6ee-0242ac1c0002\"]);\n",
              "//# sourceURL=js_0960d18dfa"
            ],
            "text/plain": [
              "<IPython.core.display.Javascript object>"
            ]
          },
          "metadata": {
            "tags": [
              "id6-1-1",
              "outputarea_id6"
            ]
          }
        },
        {
          "output_type": "display_data",
          "data": {
            "application/javascript": [
              "window[\"d78233f8-7805-11eb-b6ee-0242ac1c0002\"] = google.colab.output.getActiveOutputArea();\n",
              "//# sourceURL=js_a8fa8031d3"
            ],
            "text/plain": [
              "<IPython.core.display.Javascript object>"
            ]
          },
          "metadata": {
            "tags": [
              "id6-2-1",
              "outputarea_id6"
            ]
          }
        },
        {
          "output_type": "display_data",
          "data": {
            "application/javascript": [
              "window[\"d7828ace-7805-11eb-b6ee-0242ac1c0002\"] = document.querySelector(\"#id6-2-1\");\n",
              "//# sourceURL=js_9c68f4b4cd"
            ],
            "text/plain": [
              "<IPython.core.display.Javascript object>"
            ]
          },
          "metadata": {
            "tags": [
              "id6-2-1",
              "outputarea_id6"
            ]
          }
        },
        {
          "output_type": "display_data",
          "data": {
            "application/javascript": [
              "window[\"d7834da6-7805-11eb-b6ee-0242ac1c0002\"] = google.colab.output.setActiveOutputArea(window[\"d7828ace-7805-11eb-b6ee-0242ac1c0002\"]);\n",
              "//# sourceURL=js_0235dfa707"
            ],
            "text/plain": [
              "<IPython.core.display.Javascript object>"
            ]
          },
          "metadata": {
            "tags": [
              "id6-2-1",
              "outputarea_id6"
            ]
          }
        },
        {
          "output_type": "display_data",
          "data": {
            "image/png": "[encoded data removed]",
            "text/plain": [
              "<Figure size 432x288 with 1 Axes>"
            ]
          },
          "metadata": {
            "tags": [
              "id6-2-1",
              "outputarea_id6",
              "user_output"
            ],
            "needs_background": "light"
          }
        },
        {
          "output_type": "display_data",
          "data": {
            "application/javascript": [
              "window[\"d7b3e1d2-7805-11eb-b6ee-0242ac1c0002\"] = google.colab.output.setActiveOutputArea(window[\"d78233f8-7805-11eb-b6ee-0242ac1c0002\"]);\n",
              "//# sourceURL=js_3469e261d3"
            ],
            "text/plain": [
              "<IPython.core.display.Javascript object>"
            ]
          },
          "metadata": {
            "tags": [
              "id6-2-1",
              "outputarea_id6"
            ]
          }
        },
        {
          "output_type": "display_data",
          "data": {
            "application/javascript": [
              "window[\"d7b6fd72-7805-11eb-b6ee-0242ac1c0002\"] = google.colab.output.getActiveOutputArea();\n",
              "//# sourceURL=js_d42ad40aab"
            ],
            "text/plain": [
              "<IPython.core.display.Javascript object>"
            ]
          },
          "metadata": {
            "tags": [
              "id6-3-1",
              "outputarea_id6"
            ]
          }
        },
        {
          "output_type": "display_data",
          "data": {
            "application/javascript": [
              "window[\"d7b75d6c-7805-11eb-b6ee-0242ac1c0002\"] = document.querySelector(\"#id6-3-1\");\n",
              "//# sourceURL=js_fd1cc09339"
            ],
            "text/plain": [
              "<IPython.core.display.Javascript object>"
            ]
          },
          "metadata": {
            "tags": [
              "id6-3-1",
              "outputarea_id6"
            ]
          }
        },
        {
          "output_type": "display_data",
          "data": {
            "application/javascript": [
              "window[\"d7b7b88e-7805-11eb-b6ee-0242ac1c0002\"] = google.colab.output.setActiveOutputArea(window[\"d7b75d6c-7805-11eb-b6ee-0242ac1c0002\"]);\n",
              "//# sourceURL=js_0d570de898"
            ],
            "text/plain": [
              "<IPython.core.display.Javascript object>"
            ]
          },
          "metadata": {
            "tags": [
              "id6-3-1",
              "outputarea_id6"
            ]
          }
        },
        {
          "output_type": "display_data",
          "data": {
            "image/png": "[encoded data removed]",
            "text/plain": [
              "<Figure size 432x288 with 1 Axes>"
            ]
          },
          "metadata": {
            "tags": [
              "id6-3-1",
              "outputarea_id6",
              "user_output"
            ],
            "needs_background": "light"
          }
        },
        {
          "output_type": "display_data",
          "data": {
            "application/javascript": [
              "window[\"d7d3ab16-7805-11eb-b6ee-0242ac1c0002\"] = google.colab.output.setActiveOutputArea(window[\"d7b6fd72-7805-11eb-b6ee-0242ac1c0002\"]);\n",
              "//# sourceURL=js_9207a7f2c8"
            ],
            "text/plain": [
              "<IPython.core.display.Javascript object>"
            ]
          },
          "metadata": {
            "tags": [
              "id6-3-1",
              "outputarea_id6"
            ]
          }
        },
        {
          "output_type": "display_data",
          "data": {
            "application/javascript": [
              "window[\"d7d51f50-7805-11eb-b6ee-0242ac1c0002\"] = google.colab.output.getActiveOutputArea();\n",
              "//# sourceURL=js_2453c4d153"
            ],
            "text/plain": [
              "<IPython.core.display.Javascript object>"
            ]
          },
          "metadata": {
            "tags": [
              "id6-4-1",
              "outputarea_id6"
            ]
          }
        },
        {
          "output_type": "display_data",
          "data": {
            "application/javascript": [
              "window[\"d7d567bc-7805-11eb-b6ee-0242ac1c0002\"] = document.querySelector(\"#id6-4-1\");\n",
              "//# sourceURL=js_1cd25f316c"
            ],
            "text/plain": [
              "<IPython.core.display.Javascript object>"
            ]
          },
          "metadata": {
            "tags": [
              "id6-4-1",
              "outputarea_id6"
            ]
          }
        },
        {
          "output_type": "display_data",
          "data": {
            "application/javascript": [
              "window[\"d7d5aa92-7805-11eb-b6ee-0242ac1c0002\"] = google.colab.output.setActiveOutputArea(window[\"d7d567bc-7805-11eb-b6ee-0242ac1c0002\"]);\n",
              "//# sourceURL=js_5fd0bfcb9c"
            ],
            "text/plain": [
              "<IPython.core.display.Javascript object>"
            ]
          },
          "metadata": {
            "tags": [
              "id6-4-1",
              "outputarea_id6"
            ]
          }
        },
        {
          "output_type": "stream",
          "text": [
            "42.381\n"
          ],
          "name": "stdout"
        },
        {
          "output_type": "display_data",
          "data": {
            "application/javascript": [
              "window[\"d7d6b702-7805-11eb-b6ee-0242ac1c0002\"] = google.colab.output.setActiveOutputArea(window[\"d7d51f50-7805-11eb-b6ee-0242ac1c0002\"]);\n",
              "//# sourceURL=js_7b8733b15f"
            ],
            "text/plain": [
              "<IPython.core.display.Javascript object>"
            ]
          },
          "metadata": {
            "tags": [
              "id6-4-1",
              "outputarea_id6"
            ]
          }
        },
        {
          "output_type": "display_data",
          "data": {
            "application/javascript": [
              "window[\"d7d85864-7805-11eb-b6ee-0242ac1c0002\"] = google.colab.output.getActiveOutputArea();\n",
              "//# sourceURL=js_c6a901c5e9"
            ],
            "text/plain": [
              "<IPython.core.display.Javascript object>"
            ]
          },
          "metadata": {
            "tags": [
              "id6-5-1",
              "outputarea_id6"
            ]
          }
        },
        {
          "output_type": "display_data",
          "data": {
            "application/javascript": [
              "window[\"d7d8b318-7805-11eb-b6ee-0242ac1c0002\"] = document.querySelector(\"#id6-5-1\");\n",
              "//# sourceURL=js_683032f845"
            ],
            "text/plain": [
              "<IPython.core.display.Javascript object>"
            ]
          },
          "metadata": {
            "tags": [
              "id6-5-1",
              "outputarea_id6"
            ]
          }
        },
        {
          "output_type": "display_data",
          "data": {
            "application/javascript": [
              "window[\"d7d90494-7805-11eb-b6ee-0242ac1c0002\"] = google.colab.output.setActiveOutputArea(window[\"d7d8b318-7805-11eb-b6ee-0242ac1c0002\"]);\n",
              "//# sourceURL=js_edf1aa89d0"
            ],
            "text/plain": [
              "<IPython.core.display.Javascript object>"
            ]
          },
          "metadata": {
            "tags": [
              "id6-5-1",
              "outputarea_id6"
            ]
          }
        },
        {
          "output_type": "stream",
          "text": [
            "0.055\n"
          ],
          "name": "stdout"
        },
        {
          "output_type": "display_data",
          "data": {
            "application/javascript": [
              "window[\"d7da36ac-7805-11eb-b6ee-0242ac1c0002\"] = google.colab.output.setActiveOutputArea(window[\"d7d85864-7805-11eb-b6ee-0242ac1c0002\"]);\n",
              "//# sourceURL=js_e4db7310a2"
            ],
            "text/plain": [
              "<IPython.core.display.Javascript object>"
            ]
          },
          "metadata": {
            "tags": [
              "id6-5-1",
              "outputarea_id6"
            ]
          }
        },
        {
          "output_type": "display_data",
          "data": {
            "application/javascript": [
              "window[\"d7dbc044-7805-11eb-b6ee-0242ac1c0002\"] = google.colab.output.getActiveOutputArea();\n",
              "//# sourceURL=js_3b949332a5"
            ],
            "text/plain": [
              "<IPython.core.display.Javascript object>"
            ]
          },
          "metadata": {
            "tags": [
              "id6-6-1",
              "outputarea_id6"
            ]
          }
        },
        {
          "output_type": "display_data",
          "data": {
            "application/javascript": [
              "window[\"d7dc124c-7805-11eb-b6ee-0242ac1c0002\"] = document.querySelector(\"#id6-6-1\");\n",
              "//# sourceURL=js_13395b53ec"
            ],
            "text/plain": [
              "<IPython.core.display.Javascript object>"
            ]
          },
          "metadata": {
            "tags": [
              "id6-6-1",
              "outputarea_id6"
            ]
          }
        },
        {
          "output_type": "display_data",
          "data": {
            "application/javascript": [
              "window[\"d7dc6544-7805-11eb-b6ee-0242ac1c0002\"] = google.colab.output.setActiveOutputArea(window[\"d7dc124c-7805-11eb-b6ee-0242ac1c0002\"]);\n",
              "//# sourceURL=js_a28e9c608f"
            ],
            "text/plain": [
              "<IPython.core.display.Javascript object>"
            ]
          },
          "metadata": {
            "tags": [
              "id6-6-1",
              "outputarea_id6"
            ]
          }
        },
        {
          "output_type": "stream",
          "text": [
            "Overall percentage of reaching the goal: 27.7\n"
          ],
          "name": "stdout"
        },
        {
          "output_type": "display_data",
          "data": {
            "image/png": "[encoded data removed]",
            "text/plain": [
              "<Figure size 432x288 with 1 Axes>"
            ]
          },
          "metadata": {
            "tags": [
              "id6-6-1",
              "outputarea_id6",
              "user_output"
            ],
            "needs_background": "light"
          }
        },
        {
          "output_type": "display_data",
          "data": {
            "application/javascript": [
              "window[\"d808cc74-7805-11eb-b6ee-0242ac1c0002\"] = google.colab.output.setActiveOutputArea(window[\"d7dbc044-7805-11eb-b6ee-0242ac1c0002\"]);\n",
              "//# sourceURL=js_e137fab3ba"
            ],
            "text/plain": [
              "<IPython.core.display.Javascript object>"
            ]
          },
          "metadata": {
            "tags": [
              "id6-6-1",
              "outputarea_id6"
            ]
          }
        },
        {
          "output_type": "display_data",
          "data": {
            "application/javascript": [
              "window[\"d80a3d7a-7805-11eb-b6ee-0242ac1c0002\"] = google.colab.output.getActiveOutputArea();\n",
              "//# sourceURL=js_15a2ae3b03"
            ],
            "text/plain": [
              "<IPython.core.display.Javascript object>"
            ]
          },
          "metadata": {
            "tags": [
              "id6-0-2",
              "outputarea_id6"
            ]
          }
        },
        {
          "output_type": "display_data",
          "data": {
            "application/javascript": [
              "window[\"d80a86c2-7805-11eb-b6ee-0242ac1c0002\"] = document.querySelector(\"#id6-0-2\");\n",
              "//# sourceURL=js_9cc8ca2294"
            ],
            "text/plain": [
              "<IPython.core.display.Javascript object>"
            ]
          },
          "metadata": {
            "tags": [
              "id6-0-2",
              "outputarea_id6"
            ]
          }
        },
        {
          "output_type": "display_data",
          "data": {
            "application/javascript": [
              "window[\"d80acc18-7805-11eb-b6ee-0242ac1c0002\"] = google.colab.output.setActiveOutputArea(window[\"d80a86c2-7805-11eb-b6ee-0242ac1c0002\"]);\n",
              "//# sourceURL=js_8628f34b62"
            ],
            "text/plain": [
              "<IPython.core.display.Javascript object>"
            ]
          },
          "metadata": {
            "tags": [
              "id6-0-2",
              "outputarea_id6"
            ]
          }
        },
        {
          "output_type": "stream",
          "text": [
            "Performance of Q-learning agent in \n",
            "Stochastic Environment\n"
          ],
          "name": "stdout"
        },
        {
          "output_type": "display_data",
          "data": {
            "application/javascript": [
              "window[\"d80bd4f0-7805-11eb-b6ee-0242ac1c0002\"] = google.colab.output.setActiveOutputArea(window[\"d80a3d7a-7805-11eb-b6ee-0242ac1c0002\"]);\n",
              "//# sourceURL=js_2982132b95"
            ],
            "text/plain": [
              "<IPython.core.display.Javascript object>"
            ]
          },
          "metadata": {
            "tags": [
              "id6-0-2",
              "outputarea_id6"
            ]
          }
        },
        {
          "output_type": "display_data",
          "data": {
            "application/javascript": [
              "window[\"d80d3d0e-7805-11eb-b6ee-0242ac1c0002\"] = google.colab.output.getActiveOutputArea();\n",
              "//# sourceURL=js_aadd39e846"
            ],
            "text/plain": [
              "<IPython.core.display.Javascript object>"
            ]
          },
          "metadata": {
            "tags": [
              "id6-1-2",
              "outputarea_id6"
            ]
          }
        },
        {
          "output_type": "display_data",
          "data": {
            "application/javascript": [
              "window[\"d80d852a-7805-11eb-b6ee-0242ac1c0002\"] = document.querySelector(\"#id6-1-2\");\n",
              "//# sourceURL=js_3e3d6efcdf"
            ],
            "text/plain": [
              "<IPython.core.display.Javascript object>"
            ]
          },
          "metadata": {
            "tags": [
              "id6-1-2",
              "outputarea_id6"
            ]
          }
        },
        {
          "output_type": "display_data",
          "data": {
            "application/javascript": [
              "window[\"d80dc86e-7805-11eb-b6ee-0242ac1c0002\"] = google.colab.output.setActiveOutputArea(window[\"d80d852a-7805-11eb-b6ee-0242ac1c0002\"]);\n",
              "//# sourceURL=js_0542ef5a31"
            ],
            "text/plain": [
              "<IPython.core.display.Javascript object>"
            ]
          },
          "metadata": {
            "tags": [
              "id6-1-2",
              "outputarea_id6"
            ]
          }
        },
        {
          "output_type": "display_data",
          "data": {
            "image/png": "[encoded data removed]",
            "text/plain": [
              "<Figure size 432x288 with 1 Axes>"
            ]
          },
          "metadata": {
            "tags": [
              "id6-1-2",
              "outputarea_id6",
              "user_output"
            ],
            "needs_background": "light"
          }
        },
        {
          "output_type": "display_data",
          "data": {
            "application/javascript": [
              "window[\"d835410a-7805-11eb-b6ee-0242ac1c0002\"] = google.colab.output.setActiveOutputArea(window[\"d80d3d0e-7805-11eb-b6ee-0242ac1c0002\"]);\n",
              "//# sourceURL=js_f007ab6be2"
            ],
            "text/plain": [
              "<IPython.core.display.Javascript object>"
            ]
          },
          "metadata": {
            "tags": [
              "id6-1-2",
              "outputarea_id6"
            ]
          }
        },
        {
          "output_type": "display_data",
          "data": {
            "application/javascript": [
              "window[\"d83b04d2-7805-11eb-b6ee-0242ac1c0002\"] = google.colab.output.getActiveOutputArea();\n",
              "//# sourceURL=js_619453acab"
            ],
            "text/plain": [
              "<IPython.core.display.Javascript object>"
            ]
          },
          "metadata": {
            "tags": [
              "id6-2-2",
              "outputarea_id6"
            ]
          }
        },
        {
          "output_type": "display_data",
          "data": {
            "application/javascript": [
              "window[\"d83bf54a-7805-11eb-b6ee-0242ac1c0002\"] = document.querySelector(\"#id6-2-2\");\n",
              "//# sourceURL=js_a6bf290998"
            ],
            "text/plain": [
              "<IPython.core.display.Javascript object>"
            ]
          },
          "metadata": {
            "tags": [
              "id6-2-2",
              "outputarea_id6"
            ]
          }
        },
        {
          "output_type": "display_data",
          "data": {
            "application/javascript": [
              "window[\"d83d41d4-7805-11eb-b6ee-0242ac1c0002\"] = google.colab.output.setActiveOutputArea(window[\"d83bf54a-7805-11eb-b6ee-0242ac1c0002\"]);\n",
              "//# sourceURL=js_fe41c66201"
            ],
            "text/plain": [
              "<IPython.core.display.Javascript object>"
            ]
          },
          "metadata": {
            "tags": [
              "id6-2-2",
              "outputarea_id6"
            ]
          }
        },
        {
          "output_type": "display_data",
          "data": {
            "image/png": "[encoded data removed]",
            "text/plain": [
              "<Figure size 432x288 with 1 Axes>"
            ]
          },
          "metadata": {
            "tags": [
              "id6-2-2",
              "outputarea_id6",
              "user_output"
            ],
            "needs_background": "light"
          }
        },
        {
          "output_type": "display_data",
          "data": {
            "application/javascript": [
              "window[\"d85cc298-7805-11eb-b6ee-0242ac1c0002\"] = google.colab.output.setActiveOutputArea(window[\"d83b04d2-7805-11eb-b6ee-0242ac1c0002\"]);\n",
              "//# sourceURL=js_f585e87f84"
            ],
            "text/plain": [
              "<IPython.core.display.Javascript object>"
            ]
          },
          "metadata": {
            "tags": [
              "id6-2-2",
              "outputarea_id6"
            ]
          }
        },
        {
          "output_type": "display_data",
          "data": {
            "application/javascript": [
              "window[\"d8601074-7805-11eb-b6ee-0242ac1c0002\"] = google.colab.output.getActiveOutputArea();\n",
              "//# sourceURL=js_3c93cf097b"
            ],
            "text/plain": [
              "<IPython.core.display.Javascript object>"
            ]
          },
          "metadata": {
            "tags": [
              "id6-3-2",
              "outputarea_id6"
            ]
          }
        },
        {
          "output_type": "display_data",
          "data": {
            "application/javascript": [
              "window[\"d8605c96-7805-11eb-b6ee-0242ac1c0002\"] = document.querySelector(\"#id6-3-2\");\n",
              "//# sourceURL=js_66845bbd99"
            ],
            "text/plain": [
              "<IPython.core.display.Javascript object>"
            ]
          },
          "metadata": {
            "tags": [
              "id6-3-2",
              "outputarea_id6"
            ]
          }
        },
        {
          "output_type": "display_data",
          "data": {
            "application/javascript": [
              "window[\"d860aaa2-7805-11eb-b6ee-0242ac1c0002\"] = google.colab.output.setActiveOutputArea(window[\"d8605c96-7805-11eb-b6ee-0242ac1c0002\"]);\n",
              "//# sourceURL=js_636ee5a837"
            ],
            "text/plain": [
              "<IPython.core.display.Javascript object>"
            ]
          },
          "metadata": {
            "tags": [
              "id6-3-2",
              "outputarea_id6"
            ]
          }
        },
        {
          "output_type": "display_data",
          "data": {
            "image/png": "[encoded data removed]",
            "text/plain": [
              "<Figure size 432x288 with 1 Axes>"
            ]
          },
          "metadata": {
            "tags": [
              "id6-3-2",
              "outputarea_id6",
              "user_output"
            ],
            "needs_background": "light"
          }
        },
        {
          "output_type": "display_data",
          "data": {
            "application/javascript": [
              "window[\"d87fd95e-7805-11eb-b6ee-0242ac1c0002\"] = google.colab.output.setActiveOutputArea(window[\"d8601074-7805-11eb-b6ee-0242ac1c0002\"]);\n",
              "//# sourceURL=js_e547278e82"
            ],
            "text/plain": [
              "<IPython.core.display.Javascript object>"
            ]
          },
          "metadata": {
            "tags": [
              "id6-3-2",
              "outputarea_id6"
            ]
          }
        },
        {
          "output_type": "display_data",
          "data": {
            "application/javascript": [
              "window[\"d8812a7a-7805-11eb-b6ee-0242ac1c0002\"] = google.colab.output.getActiveOutputArea();\n",
              "//# sourceURL=js_e3c046003f"
            ],
            "text/plain": [
              "<IPython.core.display.Javascript object>"
            ]
          },
          "metadata": {
            "tags": [
              "id6-4-2",
              "outputarea_id6"
            ]
          }
        },
        {
          "output_type": "display_data",
          "data": {
            "application/javascript": [
              "window[\"d8817d54-7805-11eb-b6ee-0242ac1c0002\"] = document.querySelector(\"#id6-4-2\");\n",
              "//# sourceURL=js_118639a0bf"
            ],
            "text/plain": [
              "<IPython.core.display.Javascript object>"
            ]
          },
          "metadata": {
            "tags": [
              "id6-4-2",
              "outputarea_id6"
            ]
          }
        },
        {
          "output_type": "display_data",
          "data": {
            "application/javascript": [
              "window[\"d881c8f4-7805-11eb-b6ee-0242ac1c0002\"] = google.colab.output.setActiveOutputArea(window[\"d8817d54-7805-11eb-b6ee-0242ac1c0002\"]);\n",
              "//# sourceURL=js_dacf31b136"
            ],
            "text/plain": [
              "<IPython.core.display.Javascript object>"
            ]
          },
          "metadata": {
            "tags": [
              "id6-4-2",
              "outputarea_id6"
            ]
          }
        },
        {
          "output_type": "stream",
          "text": [
            "20.987\n"
          ],
          "name": "stdout"
        },
        {
          "output_type": "display_data",
          "data": {
            "application/javascript": [
              "window[\"d882bf02-7805-11eb-b6ee-0242ac1c0002\"] = google.colab.output.setActiveOutputArea(window[\"d8812a7a-7805-11eb-b6ee-0242ac1c0002\"]);\n",
              "//# sourceURL=js_27a514a70b"
            ],
            "text/plain": [
              "<IPython.core.display.Javascript object>"
            ]
          },
          "metadata": {
            "tags": [
              "id6-4-2",
              "outputarea_id6"
            ]
          }
        },
        {
          "output_type": "display_data",
          "data": {
            "application/javascript": [
              "window[\"d8841b72-7805-11eb-b6ee-0242ac1c0002\"] = google.colab.output.getActiveOutputArea();\n",
              "//# sourceURL=js_70c659e37d"
            ],
            "text/plain": [
              "<IPython.core.display.Javascript object>"
            ]
          },
          "metadata": {
            "tags": [
              "id6-5-2",
              "outputarea_id6"
            ]
          }
        },
        {
          "output_type": "display_data",
          "data": {
            "application/javascript": [
              "window[\"d8846776-7805-11eb-b6ee-0242ac1c0002\"] = document.querySelector(\"#id6-5-2\");\n",
              "//# sourceURL=js_bb19dfce6e"
            ],
            "text/plain": [
              "<IPython.core.display.Javascript object>"
            ]
          },
          "metadata": {
            "tags": [
              "id6-5-2",
              "outputarea_id6"
            ]
          }
        },
        {
          "output_type": "display_data",
          "data": {
            "application/javascript": [
              "window[\"d884b55a-7805-11eb-b6ee-0242ac1c0002\"] = google.colab.output.setActiveOutputArea(window[\"d8846776-7805-11eb-b6ee-0242ac1c0002\"]);\n",
              "//# sourceURL=js_0b8833fcc2"
            ],
            "text/plain": [
              "<IPython.core.display.Javascript object>"
            ]
          },
          "metadata": {
            "tags": [
              "id6-5-2",
              "outputarea_id6"
            ]
          }
        },
        {
          "output_type": "stream",
          "text": [
            "0.173\n"
          ],
          "name": "stdout"
        },
        {
          "output_type": "display_data",
          "data": {
            "application/javascript": [
              "window[\"d885c94a-7805-11eb-b6ee-0242ac1c0002\"] = google.colab.output.setActiveOutputArea(window[\"d8841b72-7805-11eb-b6ee-0242ac1c0002\"]);\n",
              "//# sourceURL=js_43bc74efec"
            ],
            "text/plain": [
              "<IPython.core.display.Javascript object>"
            ]
          },
          "metadata": {
            "tags": [
              "id6-5-2",
              "outputarea_id6"
            ]
          }
        },
        {
          "output_type": "display_data",
          "data": {
            "application/javascript": [
              "window[\"d88780f0-7805-11eb-b6ee-0242ac1c0002\"] = google.colab.output.getActiveOutputArea();\n",
              "//# sourceURL=js_32d2feaf60"
            ],
            "text/plain": [
              "<IPython.core.display.Javascript object>"
            ]
          },
          "metadata": {
            "tags": [
              "id6-6-2",
              "outputarea_id6"
            ]
          }
        },
        {
          "output_type": "display_data",
          "data": {
            "application/javascript": [
              "window[\"d887e1b2-7805-11eb-b6ee-0242ac1c0002\"] = document.querySelector(\"#id6-6-2\");\n",
              "//# sourceURL=js_70fa62f38c"
            ],
            "text/plain": [
              "<IPython.core.display.Javascript object>"
            ]
          },
          "metadata": {
            "tags": [
              "id6-6-2",
              "outputarea_id6"
            ]
          }
        },
        {
          "output_type": "display_data",
          "data": {
            "application/javascript": [
              "window[\"d8883662-7805-11eb-b6ee-0242ac1c0002\"] = google.colab.output.setActiveOutputArea(window[\"d887e1b2-7805-11eb-b6ee-0242ac1c0002\"]);\n",
              "//# sourceURL=js_61004b87ed"
            ],
            "text/plain": [
              "<IPython.core.display.Javascript object>"
            ]
          },
          "metadata": {
            "tags": [
              "id6-6-2",
              "outputarea_id6"
            ]
          }
        },
        {
          "output_type": "stream",
          "text": [
            "Overall percentage of reaching the goal: 93.7\n"
          ],
          "name": "stdout"
        },
        {
          "output_type": "display_data",
          "data": {
            "image/png": "[encoded data removed]",
            "text/plain": [
              "<Figure size 432x288 with 1 Axes>"
            ]
          },
          "metadata": {
            "tags": [
              "id6-6-2",
              "outputarea_id6",
              "user_output"
            ],
            "needs_background": "light"
          }
        },
        {
          "output_type": "display_data",
          "data": {
            "application/javascript": [
              "window[\"d8b89f46-7805-11eb-b6ee-0242ac1c0002\"] = google.colab.output.setActiveOutputArea(window[\"d88780f0-7805-11eb-b6ee-0242ac1c0002\"]);\n",
              "//# sourceURL=js_8ebef83bcd"
            ],
            "text/plain": [
              "<IPython.core.display.Javascript object>"
            ]
          },
          "metadata": {
            "tags": [
              "id6-6-2",
              "outputarea_id6"
            ]
          }
        },
        {
          "output_type": "display_data",
          "data": {
            "application/javascript": [
              "window[\"d8b9e4aa-7805-11eb-b6ee-0242ac1c0002\"] = google.colab.output.getActiveOutputArea();\n",
              "//# sourceURL=js_1b4c456aab"
            ],
            "text/plain": [
              "<IPython.core.display.Javascript object>"
            ]
          },
          "metadata": {
            "tags": [
              "id6-0-3",
              "outputarea_id6"
            ]
          }
        },
        {
          "output_type": "display_data",
          "data": {
            "application/javascript": [
              "window[\"d8ba255a-7805-11eb-b6ee-0242ac1c0002\"] = document.querySelector(\"#id6-0-3\");\n",
              "//# sourceURL=js_13f37b3259"
            ],
            "text/plain": [
              "<IPython.core.display.Javascript object>"
            ]
          },
          "metadata": {
            "tags": [
              "id6-0-3",
              "outputarea_id6"
            ]
          }
        },
        {
          "output_type": "display_data",
          "data": {
            "application/javascript": [
              "window[\"d8ba61dc-7805-11eb-b6ee-0242ac1c0002\"] = google.colab.output.setActiveOutputArea(window[\"d8ba255a-7805-11eb-b6ee-0242ac1c0002\"]);\n",
              "//# sourceURL=js_bcc3d14225"
            ],
            "text/plain": [
              "<IPython.core.display.Javascript object>"
            ]
          },
          "metadata": {
            "tags": [
              "id6-0-3",
              "outputarea_id6"
            ]
          }
        },
        {
          "output_type": "stream",
          "text": [
            "Performance of SARSA agent in \n",
            "Deterministic Environment\n"
          ],
          "name": "stdout"
        },
        {
          "output_type": "display_data",
          "data": {
            "application/javascript": [
              "window[\"d8bb5ea2-7805-11eb-b6ee-0242ac1c0002\"] = google.colab.output.setActiveOutputArea(window[\"d8b9e4aa-7805-11eb-b6ee-0242ac1c0002\"]);\n",
              "//# sourceURL=js_d6396e7feb"
            ],
            "text/plain": [
              "<IPython.core.display.Javascript object>"
            ]
          },
          "metadata": {
            "tags": [
              "id6-0-3",
              "outputarea_id6"
            ]
          }
        },
        {
          "output_type": "display_data",
          "data": {
            "application/javascript": [
              "window[\"d8bc9ac4-7805-11eb-b6ee-0242ac1c0002\"] = google.colab.output.getActiveOutputArea();\n",
              "//# sourceURL=js_0a10dfd25b"
            ],
            "text/plain": [
              "<IPython.core.display.Javascript object>"
            ]
          },
          "metadata": {
            "tags": [
              "id6-1-3",
              "outputarea_id6"
            ]
          }
        },
        {
          "output_type": "display_data",
          "data": {
            "application/javascript": [
              "window[\"d8bce448-7805-11eb-b6ee-0242ac1c0002\"] = document.querySelector(\"#id6-1-3\");\n",
              "//# sourceURL=js_343870146f"
            ],
            "text/plain": [
              "<IPython.core.display.Javascript object>"
            ]
          },
          "metadata": {
            "tags": [
              "id6-1-3",
              "outputarea_id6"
            ]
          }
        },
        {
          "output_type": "display_data",
          "data": {
            "application/javascript": [
              "window[\"d8bd1da0-7805-11eb-b6ee-0242ac1c0002\"] = google.colab.output.setActiveOutputArea(window[\"d8bce448-7805-11eb-b6ee-0242ac1c0002\"]);\n",
              "//# sourceURL=js_873415c698"
            ],
            "text/plain": [
              "<IPython.core.display.Javascript object>"
            ]
          },
          "metadata": {
            "tags": [
              "id6-1-3",
              "outputarea_id6"
            ]
          }
        },
        {
          "output_type": "display_data",
          "data": {
            "image/png": "[encoded data removed]",
            "text/plain": [
              "<Figure size 432x288 with 1 Axes>"
            ]
          },
          "metadata": {
            "tags": [
              "id6-1-3",
              "outputarea_id6",
              "user_output"
            ],
            "needs_background": "light"
          }
        },
        {
          "output_type": "display_data",
          "data": {
            "application/javascript": [
              "window[\"d8e0f5ea-7805-11eb-b6ee-0242ac1c0002\"] = google.colab.output.setActiveOutputArea(window[\"d8bc9ac4-7805-11eb-b6ee-0242ac1c0002\"]);\n",
              "//# sourceURL=js_56bf31a501"
            ],
            "text/plain": [
              "<IPython.core.display.Javascript object>"
            ]
          },
          "metadata": {
            "tags": [
              "id6-1-3",
              "outputarea_id6"
            ]
          }
        },
        {
          "output_type": "display_data",
          "data": {
            "application/javascript": [
              "window[\"d8e48a70-7805-11eb-b6ee-0242ac1c0002\"] = google.colab.output.getActiveOutputArea();\n",
              "//# sourceURL=js_9efc64d926"
            ],
            "text/plain": [
              "<IPython.core.display.Javascript object>"
            ]
          },
          "metadata": {
            "tags": [
              "id6-2-3",
              "outputarea_id6"
            ]
          }
        },
        {
          "output_type": "display_data",
          "data": {
            "application/javascript": [
              "window[\"d8e55392-7805-11eb-b6ee-0242ac1c0002\"] = document.querySelector(\"#id6-2-3\");\n",
              "//# sourceURL=js_b08ba217c8"
            ],
            "text/plain": [
              "<IPython.core.display.Javascript object>"
            ]
          },
          "metadata": {
            "tags": [
              "id6-2-3",
              "outputarea_id6"
            ]
          }
        },
        {
          "output_type": "display_data",
          "data": {
            "application/javascript": [
              "window[\"d8e6470c-7805-11eb-b6ee-0242ac1c0002\"] = google.colab.output.setActiveOutputArea(window[\"d8e55392-7805-11eb-b6ee-0242ac1c0002\"]);\n",
              "//# sourceURL=js_de0ea32b1b"
            ],
            "text/plain": [
              "<IPython.core.display.Javascript object>"
            ]
          },
          "metadata": {
            "tags": [
              "id6-2-3",
              "outputarea_id6"
            ]
          }
        },
        {
          "output_type": "display_data",
          "data": {
            "image/png": "[encoded data removed]",
            "text/plain": [
              "<Figure size 432x288 with 1 Axes>"
            ]
          },
          "metadata": {
            "tags": [
              "id6-2-3",
              "outputarea_id6",
              "user_output"
            ],
            "needs_background": "light"
          }
        },
        {
          "output_type": "display_data",
          "data": {
            "application/javascript": [
              "window[\"d9041e76-7805-11eb-b6ee-0242ac1c0002\"] = google.colab.output.setActiveOutputArea(window[\"d8e48a70-7805-11eb-b6ee-0242ac1c0002\"]);\n",
              "//# sourceURL=js_75d3344c32"
            ],
            "text/plain": [
              "<IPython.core.display.Javascript object>"
            ]
          },
          "metadata": {
            "tags": [
              "id6-2-3",
              "outputarea_id6"
            ]
          }
        },
        {
          "output_type": "display_data",
          "data": {
            "application/javascript": [
              "window[\"d9055430-7805-11eb-b6ee-0242ac1c0002\"] = google.colab.output.getActiveOutputArea();\n",
              "//# sourceURL=js_65af259730"
            ],
            "text/plain": [
              "<IPython.core.display.Javascript object>"
            ]
          },
          "metadata": {
            "tags": [
              "id6-3-3",
              "outputarea_id6"
            ]
          }
        },
        {
          "output_type": "display_data",
          "data": {
            "application/javascript": [
              "window[\"d905a868-7805-11eb-b6ee-0242ac1c0002\"] = document.querySelector(\"#id6-3-3\");\n",
              "//# sourceURL=js_f41db078c4"
            ],
            "text/plain": [
              "<IPython.core.display.Javascript object>"
            ]
          },
          "metadata": {
            "tags": [
              "id6-3-3",
              "outputarea_id6"
            ]
          }
        },
        {
          "output_type": "display_data",
          "data": {
            "application/javascript": [
              "window[\"d905ec9c-7805-11eb-b6ee-0242ac1c0002\"] = google.colab.output.setActiveOutputArea(window[\"d905a868-7805-11eb-b6ee-0242ac1c0002\"]);\n",
              "//# sourceURL=js_c407983d63"
            ],
            "text/plain": [
              "<IPython.core.display.Javascript object>"
            ]
          },
          "metadata": {
            "tags": [
              "id6-3-3",
              "outputarea_id6"
            ]
          }
        },
        {
          "output_type": "display_data",
          "data": {
            "image/png": "[encoded data removed]",
            "text/plain": [
              "<Figure size 432x288 with 1 Axes>"
            ]
          },
          "metadata": {
            "tags": [
              "id6-3-3",
              "outputarea_id6",
              "user_output"
            ],
            "needs_background": "light"
          }
        },
        {
          "output_type": "display_data",
          "data": {
            "application/javascript": [
              "window[\"d92314fc-7805-11eb-b6ee-0242ac1c0002\"] = google.colab.output.setActiveOutputArea(window[\"d9055430-7805-11eb-b6ee-0242ac1c0002\"]);\n",
              "//# sourceURL=js_4bbb66d668"
            ],
            "text/plain": [
              "<IPython.core.display.Javascript object>"
            ]
          },
          "metadata": {
            "tags": [
              "id6-3-3",
              "outputarea_id6"
            ]
          }
        },
        {
          "output_type": "display_data",
          "data": {
            "application/javascript": [
              "window[\"d924467e-7805-11eb-b6ee-0242ac1c0002\"] = google.colab.output.getActiveOutputArea();\n",
              "//# sourceURL=js_44e8906f23"
            ],
            "text/plain": [
              "<IPython.core.display.Javascript object>"
            ]
          },
          "metadata": {
            "tags": [
              "id6-4-3",
              "outputarea_id6"
            ]
          }
        },
        {
          "output_type": "display_data",
          "data": {
            "application/javascript": [
              "window[\"d92481e8-7805-11eb-b6ee-0242ac1c0002\"] = document.querySelector(\"#id6-4-3\");\n",
              "//# sourceURL=js_7df1b75342"
            ],
            "text/plain": [
              "<IPython.core.display.Javascript object>"
            ]
          },
          "metadata": {
            "tags": [
              "id6-4-3",
              "outputarea_id6"
            ]
          }
        },
        {
          "output_type": "display_data",
          "data": {
            "application/javascript": [
              "window[\"d924be06-7805-11eb-b6ee-0242ac1c0002\"] = google.colab.output.setActiveOutputArea(window[\"d92481e8-7805-11eb-b6ee-0242ac1c0002\"]);\n",
              "//# sourceURL=js_eb6ba2b040"
            ],
            "text/plain": [
              "<IPython.core.display.Javascript object>"
            ]
          },
          "metadata": {
            "tags": [
              "id6-4-3",
              "outputarea_id6"
            ]
          }
        },
        {
          "output_type": "stream",
          "text": [
            "11.32\n"
          ],
          "name": "stdout"
        },
        {
          "output_type": "display_data",
          "data": {
            "application/javascript": [
              "window[\"d925933a-7805-11eb-b6ee-0242ac1c0002\"] = google.colab.output.setActiveOutputArea(window[\"d924467e-7805-11eb-b6ee-0242ac1c0002\"]);\n",
              "//# sourceURL=js_ed125a139a"
            ],
            "text/plain": [
              "<IPython.core.display.Javascript object>"
            ]
          },
          "metadata": {
            "tags": [
              "id6-4-3",
              "outputarea_id6"
            ]
          }
        },
        {
          "output_type": "display_data",
          "data": {
            "application/javascript": [
              "window[\"d926eb68-7805-11eb-b6ee-0242ac1c0002\"] = google.colab.output.getActiveOutputArea();\n",
              "//# sourceURL=js_387976cb06"
            ],
            "text/plain": [
              "<IPython.core.display.Javascript object>"
            ]
          },
          "metadata": {
            "tags": [
              "id6-5-3",
              "outputarea_id6"
            ]
          }
        },
        {
          "output_type": "display_data",
          "data": {
            "application/javascript": [
              "window[\"d927284e-7805-11eb-b6ee-0242ac1c0002\"] = document.querySelector(\"#id6-5-3\");\n",
              "//# sourceURL=js_f3ba3dc34e"
            ],
            "text/plain": [
              "<IPython.core.display.Javascript object>"
            ]
          },
          "metadata": {
            "tags": [
              "id6-5-3",
              "outputarea_id6"
            ]
          }
        },
        {
          "output_type": "display_data",
          "data": {
            "application/javascript": [
              "window[\"d9276142-7805-11eb-b6ee-0242ac1c0002\"] = google.colab.output.setActiveOutputArea(window[\"d927284e-7805-11eb-b6ee-0242ac1c0002\"]);\n",
              "//# sourceURL=js_7575356683"
            ],
            "text/plain": [
              "<IPython.core.display.Javascript object>"
            ]
          },
          "metadata": {
            "tags": [
              "id6-5-3",
              "outputarea_id6"
            ]
          }
        },
        {
          "output_type": "stream",
          "text": [
            "0.076\n"
          ],
          "name": "stdout"
        },
        {
          "output_type": "display_data",
          "data": {
            "application/javascript": [
              "window[\"d9286088-7805-11eb-b6ee-0242ac1c0002\"] = google.colab.output.setActiveOutputArea(window[\"d926eb68-7805-11eb-b6ee-0242ac1c0002\"]);\n",
              "//# sourceURL=js_dc2c746cab"
            ],
            "text/plain": [
              "<IPython.core.display.Javascript object>"
            ]
          },
          "metadata": {
            "tags": [
              "id6-5-3",
              "outputarea_id6"
            ]
          }
        },
        {
          "output_type": "display_data",
          "data": {
            "application/javascript": [
              "window[\"d929b8b6-7805-11eb-b6ee-0242ac1c0002\"] = google.colab.output.getActiveOutputArea();\n",
              "//# sourceURL=js_55254b39d2"
            ],
            "text/plain": [
              "<IPython.core.display.Javascript object>"
            ]
          },
          "metadata": {
            "tags": [
              "id6-6-3",
              "outputarea_id6"
            ]
          }
        },
        {
          "output_type": "display_data",
          "data": {
            "application/javascript": [
              "window[\"d92a0c3a-7805-11eb-b6ee-0242ac1c0002\"] = document.querySelector(\"#id6-6-3\");\n",
              "//# sourceURL=js_56d15a5a58"
            ],
            "text/plain": [
              "<IPython.core.display.Javascript object>"
            ]
          },
          "metadata": {
            "tags": [
              "id6-6-3",
              "outputarea_id6"
            ]
          }
        },
        {
          "output_type": "display_data",
          "data": {
            "application/javascript": [
              "window[\"d92a4cd6-7805-11eb-b6ee-0242ac1c0002\"] = google.colab.output.setActiveOutputArea(window[\"d92a0c3a-7805-11eb-b6ee-0242ac1c0002\"]);\n",
              "//# sourceURL=js_532f99c7c0"
            ],
            "text/plain": [
              "<IPython.core.display.Javascript object>"
            ]
          },
          "metadata": {
            "tags": [
              "id6-6-3",
              "outputarea_id6"
            ]
          }
        },
        {
          "output_type": "stream",
          "text": [
            "Overall percentage of reaching the goal: 97.3\n"
          ],
          "name": "stdout"
        },
        {
          "output_type": "display_data",
          "data": {
            "image/png": "[encoded data removed]",
            "text/plain": [
              "<Figure size 432x288 with 1 Axes>"
            ]
          },
          "metadata": {
            "tags": [
              "id6-6-3",
              "outputarea_id6",
              "user_output"
            ],
            "needs_background": "light"
          }
        },
        {
          "output_type": "display_data",
          "data": {
            "application/javascript": [
              "window[\"d95c05e6-7805-11eb-b6ee-0242ac1c0002\"] = google.colab.output.setActiveOutputArea(window[\"d929b8b6-7805-11eb-b6ee-0242ac1c0002\"]);\n",
              "//# sourceURL=js_783bfe509c"
            ],
            "text/plain": [
              "<IPython.core.display.Javascript object>"
            ]
          },
          "metadata": {
            "tags": [
              "id6-6-3",
              "outputarea_id6"
            ]
          }
        },
        {
          "output_type": "display_data",
          "data": {
            "application/javascript": [
              "window[\"d95d55b8-7805-11eb-b6ee-0242ac1c0002\"] = google.colab.output.getActiveOutputArea();\n",
              "//# sourceURL=js_bde6252d4c"
            ],
            "text/plain": [
              "<IPython.core.display.Javascript object>"
            ]
          },
          "metadata": {
            "tags": [
              "id6-0-4",
              "outputarea_id6"
            ]
          }
        },
        {
          "output_type": "display_data",
          "data": {
            "application/javascript": [
              "window[\"d95da432-7805-11eb-b6ee-0242ac1c0002\"] = document.querySelector(\"#id6-0-4\");\n",
              "//# sourceURL=js_99da41a730"
            ],
            "text/plain": [
              "<IPython.core.display.Javascript object>"
            ]
          },
          "metadata": {
            "tags": [
              "id6-0-4",
              "outputarea_id6"
            ]
          }
        },
        {
          "output_type": "display_data",
          "data": {
            "application/javascript": [
              "window[\"d95dec94-7805-11eb-b6ee-0242ac1c0002\"] = google.colab.output.setActiveOutputArea(window[\"d95da432-7805-11eb-b6ee-0242ac1c0002\"]);\n",
              "//# sourceURL=js_4f078b85dd"
            ],
            "text/plain": [
              "<IPython.core.display.Javascript object>"
            ]
          },
          "metadata": {
            "tags": [
              "id6-0-4",
              "outputarea_id6"
            ]
          }
        },
        {
          "output_type": "stream",
          "text": [
            "Performance of SARSA agent in \n",
            "Stochastic Environment\n"
          ],
          "name": "stdout"
        },
        {
          "output_type": "display_data",
          "data": {
            "application/javascript": [
              "window[\"d95f0b88-7805-11eb-b6ee-0242ac1c0002\"] = google.colab.output.setActiveOutputArea(window[\"d95d55b8-7805-11eb-b6ee-0242ac1c0002\"]);\n",
              "//# sourceURL=js_3827c7e0e8"
            ],
            "text/plain": [
              "<IPython.core.display.Javascript object>"
            ]
          },
          "metadata": {
            "tags": [
              "id6-0-4",
              "outputarea_id6"
            ]
          }
        },
        {
          "output_type": "display_data",
          "data": {
            "application/javascript": [
              "window[\"d960a7e0-7805-11eb-b6ee-0242ac1c0002\"] = google.colab.output.getActiveOutputArea();\n",
              "//# sourceURL=js_9505a1c9cc"
            ],
            "text/plain": [
              "<IPython.core.display.Javascript object>"
            ]
          },
          "metadata": {
            "tags": [
              "id6-1-4",
              "outputarea_id6"
            ]
          }
        },
        {
          "output_type": "display_data",
          "data": {
            "application/javascript": [
              "window[\"d96106cc-7805-11eb-b6ee-0242ac1c0002\"] = document.querySelector(\"#id6-1-4\");\n",
              "//# sourceURL=js_a5d72b9354"
            ],
            "text/plain": [
              "<IPython.core.display.Javascript object>"
            ]
          },
          "metadata": {
            "tags": [
              "id6-1-4",
              "outputarea_id6"
            ]
          }
        },
        {
          "output_type": "display_data",
          "data": {
            "application/javascript": [
              "window[\"d96159b0-7805-11eb-b6ee-0242ac1c0002\"] = google.colab.output.setActiveOutputArea(window[\"d96106cc-7805-11eb-b6ee-0242ac1c0002\"]);\n",
              "//# sourceURL=js_7fbebf30c1"
            ],
            "text/plain": [
              "<IPython.core.display.Javascript object>"
            ]
          },
          "metadata": {
            "tags": [
              "id6-1-4",
              "outputarea_id6"
            ]
          }
        },
        {
          "output_type": "display_data",
          "data": {
            "image/png": "[encoded data removed]",
            "text/plain": [
              "<Figure size 432x288 with 1 Axes>"
            ]
          },
          "metadata": {
            "tags": [
              "id6-1-4",
              "outputarea_id6",
              "user_output"
            ],
            "needs_background": "light"
          }
        },
        {
          "output_type": "display_data",
          "data": {
            "application/javascript": [
              "window[\"d997d42c-7805-11eb-b6ee-0242ac1c0002\"] = google.colab.output.setActiveOutputArea(window[\"d960a7e0-7805-11eb-b6ee-0242ac1c0002\"]);\n",
              "//# sourceURL=js_b9340d78bf"
            ],
            "text/plain": [
              "<IPython.core.display.Javascript object>"
            ]
          },
          "metadata": {
            "tags": [
              "id6-1-4",
              "outputarea_id6"
            ]
          }
        },
        {
          "output_type": "display_data",
          "data": {
            "application/javascript": [
              "window[\"d99913f0-7805-11eb-b6ee-0242ac1c0002\"] = google.colab.output.getActiveOutputArea();\n",
              "//# sourceURL=js_2352af5751"
            ],
            "text/plain": [
              "<IPython.core.display.Javascript object>"
            ]
          },
          "metadata": {
            "tags": [
              "id6-2-4",
              "outputarea_id6"
            ]
          }
        },
        {
          "output_type": "display_data",
          "data": {
            "application/javascript": [
              "window[\"d99959f0-7805-11eb-b6ee-0242ac1c0002\"] = document.querySelector(\"#id6-2-4\");\n",
              "//# sourceURL=js_ad66405ce9"
            ],
            "text/plain": [
              "<IPython.core.display.Javascript object>"
            ]
          },
          "metadata": {
            "tags": [
              "id6-2-4",
              "outputarea_id6"
            ]
          }
        },
        {
          "output_type": "display_data",
          "data": {
            "application/javascript": [
              "window[\"d9999f0a-7805-11eb-b6ee-0242ac1c0002\"] = google.colab.output.setActiveOutputArea(window[\"d99959f0-7805-11eb-b6ee-0242ac1c0002\"]);\n",
              "//# sourceURL=js_2d6e9b3d35"
            ],
            "text/plain": [
              "<IPython.core.display.Javascript object>"
            ]
          },
          "metadata": {
            "tags": [
              "id6-2-4",
              "outputarea_id6"
            ]
          }
        },
        {
          "output_type": "display_data",
          "data": {
            "image/png": "[encoded data removed]",
            "text/plain": [
              "<Figure size 432x288 with 1 Axes>"
            ]
          },
          "metadata": {
            "tags": [
              "id6-2-4",
              "outputarea_id6",
              "user_output"
            ],
            "needs_background": "light"
          }
        },
        {
          "output_type": "display_data",
          "data": {
            "application/javascript": [
              "window[\"d9bd0b98-7805-11eb-b6ee-0242ac1c0002\"] = google.colab.output.setActiveOutputArea(window[\"d99913f0-7805-11eb-b6ee-0242ac1c0002\"]);\n",
              "//# sourceURL=js_39347c6b56"
            ],
            "text/plain": [
              "<IPython.core.display.Javascript object>"
            ]
          },
          "metadata": {
            "tags": [
              "id6-2-4",
              "outputarea_id6"
            ]
          }
        },
        {
          "output_type": "display_data",
          "data": {
            "application/javascript": [
              "window[\"d9be5cbe-7805-11eb-b6ee-0242ac1c0002\"] = google.colab.output.getActiveOutputArea();\n",
              "//# sourceURL=js_3a5f3e03d9"
            ],
            "text/plain": [
              "<IPython.core.display.Javascript object>"
            ]
          },
          "metadata": {
            "tags": [
              "id6-3-4",
              "outputarea_id6"
            ]
          }
        },
        {
          "output_type": "display_data",
          "data": {
            "application/javascript": [
              "window[\"d9bea37c-7805-11eb-b6ee-0242ac1c0002\"] = document.querySelector(\"#id6-3-4\");\n",
              "//# sourceURL=js_391f66070e"
            ],
            "text/plain": [
              "<IPython.core.display.Javascript object>"
            ]
          },
          "metadata": {
            "tags": [
              "id6-3-4",
              "outputarea_id6"
            ]
          }
        },
        {
          "output_type": "display_data",
          "data": {
            "application/javascript": [
              "window[\"d9bee3a0-7805-11eb-b6ee-0242ac1c0002\"] = google.colab.output.setActiveOutputArea(window[\"d9bea37c-7805-11eb-b6ee-0242ac1c0002\"]);\n",
              "//# sourceURL=js_b7f4c28750"
            ],
            "text/plain": [
              "<IPython.core.display.Javascript object>"
            ]
          },
          "metadata": {
            "tags": [
              "id6-3-4",
              "outputarea_id6"
            ]
          }
        },
        {
          "output_type": "display_data",
          "data": {
            "image/png": "[encoded data removed]",
            "text/plain": [
              "<Figure size 432x288 with 1 Axes>"
            ]
          },
          "metadata": {
            "tags": [
              "id6-3-4",
              "outputarea_id6",
              "user_output"
            ],
            "needs_background": "light"
          }
        },
        {
          "output_type": "display_data",
          "data": {
            "application/javascript": [
              "window[\"d9e0cbe6-7805-11eb-b6ee-0242ac1c0002\"] = google.colab.output.setActiveOutputArea(window[\"d9be5cbe-7805-11eb-b6ee-0242ac1c0002\"]);\n",
              "//# sourceURL=js_4e41c9fa07"
            ],
            "text/plain": [
              "<IPython.core.display.Javascript object>"
            ]
          },
          "metadata": {
            "tags": [
              "id6-3-4",
              "outputarea_id6"
            ]
          }
        },
        {
          "output_type": "display_data",
          "data": {
            "application/javascript": [
              "window[\"d9e57cd6-7805-11eb-b6ee-0242ac1c0002\"] = google.colab.output.getActiveOutputArea();\n",
              "//# sourceURL=js_09a34fca20"
            ],
            "text/plain": [
              "<IPython.core.display.Javascript object>"
            ]
          },
          "metadata": {
            "tags": [
              "id6-4-4",
              "outputarea_id6"
            ]
          }
        },
        {
          "output_type": "display_data",
          "data": {
            "application/javascript": [
              "window[\"d9e5fe68-7805-11eb-b6ee-0242ac1c0002\"] = document.querySelector(\"#id6-4-4\");\n",
              "//# sourceURL=js_bbeaf5d056"
            ],
            "text/plain": [
              "<IPython.core.display.Javascript object>"
            ]
          },
          "metadata": {
            "tags": [
              "id6-4-4",
              "outputarea_id6"
            ]
          }
        },
        {
          "output_type": "display_data",
          "data": {
            "application/javascript": [
              "window[\"d9e81496-7805-11eb-b6ee-0242ac1c0002\"] = google.colab.output.setActiveOutputArea(window[\"d9e5fe68-7805-11eb-b6ee-0242ac1c0002\"]);\n",
              "//# sourceURL=js_b4556ad9f6"
            ],
            "text/plain": [
              "<IPython.core.display.Javascript object>"
            ]
          },
          "metadata": {
            "tags": [
              "id6-4-4",
              "outputarea_id6"
            ]
          }
        },
        {
          "output_type": "stream",
          "text": [
            "17.52\n"
          ],
          "name": "stdout"
        },
        {
          "output_type": "display_data",
          "data": {
            "application/javascript": [
              "window[\"d9ebb7fe-7805-11eb-b6ee-0242ac1c0002\"] = google.colab.output.setActiveOutputArea(window[\"d9e57cd6-7805-11eb-b6ee-0242ac1c0002\"]);\n",
              "//# sourceURL=js_cd2effc503"
            ],
            "text/plain": [
              "<IPython.core.display.Javascript object>"
            ]
          },
          "metadata": {
            "tags": [
              "id6-4-4",
              "outputarea_id6"
            ]
          }
        },
        {
          "output_type": "display_data",
          "data": {
            "application/javascript": [
              "window[\"d9edbca2-7805-11eb-b6ee-0242ac1c0002\"] = google.colab.output.getActiveOutputArea();\n",
              "//# sourceURL=js_000bde1ecb"
            ],
            "text/plain": [
              "<IPython.core.display.Javascript object>"
            ]
          },
          "metadata": {
            "tags": [
              "id6-5-4",
              "outputarea_id6"
            ]
          }
        },
        {
          "output_type": "display_data",
          "data": {
            "application/javascript": [
              "window[\"d9ee59a0-7805-11eb-b6ee-0242ac1c0002\"] = document.querySelector(\"#id6-5-4\");\n",
              "//# sourceURL=js_16b2c8e1b3"
            ],
            "text/plain": [
              "<IPython.core.display.Javascript object>"
            ]
          },
          "metadata": {
            "tags": [
              "id6-5-4",
              "outputarea_id6"
            ]
          }
        },
        {
          "output_type": "display_data",
          "data": {
            "application/javascript": [
              "window[\"d9eea77a-7805-11eb-b6ee-0242ac1c0002\"] = google.colab.output.setActiveOutputArea(window[\"d9ee59a0-7805-11eb-b6ee-0242ac1c0002\"]);\n",
              "//# sourceURL=js_3478688a8f"
            ],
            "text/plain": [
              "<IPython.core.display.Javascript object>"
            ]
          },
          "metadata": {
            "tags": [
              "id6-5-4",
              "outputarea_id6"
            ]
          }
        },
        {
          "output_type": "stream",
          "text": [
            "0.248\n"
          ],
          "name": "stdout"
        },
        {
          "output_type": "display_data",
          "data": {
            "application/javascript": [
              "window[\"d9f20186-7805-11eb-b6ee-0242ac1c0002\"] = google.colab.output.setActiveOutputArea(window[\"d9edbca2-7805-11eb-b6ee-0242ac1c0002\"]);\n",
              "//# sourceURL=js_0ec4cdd022"
            ],
            "text/plain": [
              "<IPython.core.display.Javascript object>"
            ]
          },
          "metadata": {
            "tags": [
              "id6-5-4",
              "outputarea_id6"
            ]
          }
        },
        {
          "output_type": "display_data",
          "data": {
            "application/javascript": [
              "window[\"d9f4b6d8-7805-11eb-b6ee-0242ac1c0002\"] = google.colab.output.getActiveOutputArea();\n",
              "//# sourceURL=js_d466a3b88c"
            ],
            "text/plain": [
              "<IPython.core.display.Javascript object>"
            ]
          },
          "metadata": {
            "tags": [
              "id6-6-4",
              "outputarea_id6"
            ]
          }
        },
        {
          "output_type": "display_data",
          "data": {
            "application/javascript": [
              "window[\"d9f5a20a-7805-11eb-b6ee-0242ac1c0002\"] = document.querySelector(\"#id6-6-4\");\n",
              "//# sourceURL=js_8b5d33a56a"
            ],
            "text/plain": [
              "<IPython.core.display.Javascript object>"
            ]
          },
          "metadata": {
            "tags": [
              "id6-6-4",
              "outputarea_id6"
            ]
          }
        },
        {
          "output_type": "display_data",
          "data": {
            "application/javascript": [
              "window[\"d9f5e0d0-7805-11eb-b6ee-0242ac1c0002\"] = google.colab.output.setActiveOutputArea(window[\"d9f5a20a-7805-11eb-b6ee-0242ac1c0002\"]);\n",
              "//# sourceURL=js_de19e22767"
            ],
            "text/plain": [
              "<IPython.core.display.Javascript object>"
            ]
          },
          "metadata": {
            "tags": [
              "id6-6-4",
              "outputarea_id6"
            ]
          }
        },
        {
          "output_type": "stream",
          "text": [
            "Overall percentage of reaching the goal: 96.1\n"
          ],
          "name": "stdout"
        },
        {
          "output_type": "display_data",
          "data": {
            "image/png": "[encoded data removed]",
            "text/plain": [
              "<Figure size 432x288 with 1 Axes>"
            ]
          },
          "metadata": {
            "tags": [
              "id6-6-4",
              "outputarea_id6",
              "user_output"
            ],
            "needs_background": "light"
          }
        },
        {
          "output_type": "display_data",
          "data": {
            "application/javascript": [
              "window[\"da283e72-7805-11eb-b6ee-0242ac1c0002\"] = google.colab.output.setActiveOutputArea(window[\"d9f4b6d8-7805-11eb-b6ee-0242ac1c0002\"]);\n",
              "//# sourceURL=js_0290cad83e"
            ],
            "text/plain": [
              "<IPython.core.display.Javascript object>"
            ]
          },
          "metadata": {
            "tags": [
              "id6-6-4",
              "outputarea_id6"
            ]
          }
        }
      ]
    },
    {
      "cell_type": "markdown",
      "metadata": {
        "id": "gQWFfdkJ7njD"
      },
      "source": [
        "#### **Report**\n",
        "\n",
        "1. **Cummulative reward earned per episode** \\\n",
        "Deterministic environment (DE): Stays high beyond 600 or so episodes as the agent learns to always uses the same path to goal. \\\n",
        "Stochastic environment (SE): Stays unstable because of the inherent stochasticity of the environment and also because of the epsilon value that is set to 1.0, meaning higher tendency to explore rather than exploit.\n",
        "2. **Average reward per episode** \\\n",
        "The average reward er episode rises as expected over 1000 episodes, but in SE, the agent starts to return higher reward earlier than in DE, as the agent by chance finds a better path to get to goal.\n",
        "3. **Average number of timesteps per episode** \\\n",
        "Agent in DE, on average, takes more timesteps to reach the goal that in SE\n",
        "4. **Average number of times agent receives penalty per episode** \\\n",
        "Agent in SE tends to step on penalty state more than when in DE because the state exploration happens at random.\n",
        "5. **Percentage of goal achievement by the agent for every 100 episodes** \\\n",
        "Agent in SE has a higher percentage of achieving the goal when compared to when in DE."
      ]
    },
    {
      "cell_type": "markdown",
      "metadata": {
        "id": "Fi-TvG5evpXT"
      },
      "source": [
        "## References\n",
        "1. Reinforcement Learning: An Introduction by Richard S. Sutton & Andrew G. Barto - http://incompleteideas.net/book/RLbook2020.pdf\n",
        "2. Q-learning [Wikipedia] - https://en.wikipedia.org/wiki/Q-learning\n",
        "3. An Introduction to Q-Learning [Youtube] - https://youtu.be/wN3rxIKmMgE\n",
        "4. Simple Reinforcement Learning: Q-learning - https://towardsdatascience.com/simple-reinforcement-learning-q-learning-fcddc4b6fe56\n",
        "5. Introduction to Various Reinforcement Learning Algorithms. Part I (Q-Learning, SARSA, DQN, DDPG) - https://towardsdatascience.com/introduction-to-various-reinforcement-learning-algorithms-i-q-learning-sarsa-dqn-ddpg-72a5e0cb6287\n",
        "6. Summary of Tabular Methods in Reinforcement Learning - https://towardsdatascience.com/summary-of-tabular-methods-in-reinforcement-learning-39d653e904af"
      ]
    }
  ]
}