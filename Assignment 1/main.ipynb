{
  "nbformat": 4,
  "nbformat_minor": 0,
  "metadata": {
    "colab": {
      "name": "main.ipynb",
      "provenance": []
    },
    "kernelspec": {
      "name": "python3",
      "display_name": "Python 3"
    }
  },
  "cells": [
    {
      "cell_type": "markdown",
      "metadata": {
        "id": "e13KGdjfy84h"
      },
      "source": [
        "CSE 546 - Reinforcement Learning\n",
        "# Assignment 1 - *Defining & Solving RL Environments*"
      ]
    },
    {
      "cell_type": "markdown",
      "metadata": {
        "id": "yCRK74DTyHZG"
      },
      "source": [
        "## Prerequisites"
      ]
    },
    {
      "cell_type": "markdown",
      "metadata": {
        "id": "Ki-gD2pYw1Nk"
      },
      "source": [
        "*Installing required libraries*"
      ]
    },
    {
      "cell_type": "code",
      "metadata": {
        "colab": {
          "base_uri": "https://localhost:8080/"
        },
        "id": "1X_iEXBOtYnV",
        "outputId": "9fb52402-b495-48c5-e8bc-1c479c501436"
      },
      "source": [
        "!pip install gym"
      ],
      "execution_count": null,
      "outputs": [
        {
          "output_type": "stream",
          "text": [
            "Requirement already satisfied: gym in /usr/local/lib/python3.7/dist-packages (0.17.3)\n",
            "Requirement already satisfied: cloudpickle<1.7.0,>=1.2.0 in /usr/local/lib/python3.7/dist-packages (from gym) (1.3.0)\n",
            "Requirement already satisfied: pyglet<=1.5.0,>=1.4.0 in /usr/local/lib/python3.7/dist-packages (from gym) (1.5.0)\n",
            "Requirement already satisfied: scipy in /usr/local/lib/python3.7/dist-packages (from gym) (1.4.1)\n",
            "Requirement already satisfied: numpy>=1.10.4 in /usr/local/lib/python3.7/dist-packages (from gym) (1.19.5)\n",
            "Requirement already satisfied: future in /usr/local/lib/python3.7/dist-packages (from pyglet<=1.5.0,>=1.4.0->gym) (0.16.0)\n"
          ],
          "name": "stdout"
        }
      ]
    },
    {
      "cell_type": "markdown",
      "metadata": {
        "id": "mu24zxFEw43a"
      },
      "source": [
        "*Importing required libraries*"
      ]
    },
    {
      "cell_type": "code",
      "metadata": {
        "id": "KTj1tKPDtdwI"
      },
      "source": [
        "import gym\n",
        "import math\n",
        "import time\n",
        "import pickle\n",
        "import random\n",
        "import numpy as np\n",
        "import matplotlib.pyplot as plt\n",
        "\n",
        "from gym import spaces\n",
        "from google.colab import widgets\n",
        "from IPython.display import clear_output"
      ],
      "execution_count": null,
      "outputs": []
    },
    {
      "cell_type": "markdown",
      "metadata": {
        "id": "F_JSTp8lyfJd"
      },
      "source": [
        "*Initializing the positions of the agent, goal, and rewards*"
      ]
    },
    {
      "cell_type": "code",
      "metadata": {
        "id": "7vMSjFmIyfzE"
      },
      "source": [
        "AGENT_POS= [0, 0]\n",
        "DIAMOND_POS= [1, 3]\n",
        "COIN_POS= [3, 2]\n",
        "MONSTER_POS= [2, 1]\n",
        "GOAL_POS= [3, 3]"
      ],
      "execution_count": null,
      "outputs": []
    },
    {
      "cell_type": "markdown",
      "metadata": {
        "id": "yVgyRqLow8M7"
      },
      "source": [
        "*Pre-defining the minimum number of states and actions that will be used in the environment*"
      ]
    },
    {
      "cell_type": "code",
      "metadata": {
        "id": "RDjZbGdJt6Ru"
      },
      "source": [
        "N_STATES= 16\n",
        "N_ACTIONS= 4\n",
        "MAX_TIMESTEPS= 50"
      ],
      "execution_count": null,
      "outputs": []
    },
    {
      "cell_type": "markdown",
      "metadata": {
        "id": "wBsMUtH3ooN5"
      },
      "source": [
        "*Initializing lookup dictionaries for states & actions*"
      ]
    },
    {
      "cell_type": "code",
      "metadata": {
        "id": "67S4ZywlmRO7"
      },
      "source": [
        "STATE_LOOKUP= dict()\n",
        "ACTION_LOOKUP= {0: 'Down', 1: 'Up', 2: 'Right', 3: 'Left'}\n",
        "\n",
        "k= 0\n",
        "for i in range(4):\n",
        "  for j in range(4):\n",
        "    STATE_LOOKUP[(i, j)]= k\n",
        "    k+= 1"
      ],
      "execution_count": null,
      "outputs": []
    },
    {
      "cell_type": "markdown",
      "metadata": {
        "id": "i1bN9AigxDeT"
      },
      "source": [
        "## Deterministic Environment\n"
      ]
    },
    {
      "cell_type": "markdown",
      "metadata": {
        "id": "YhewMWSnxjcA"
      },
      "source": [
        "*Defining a simple 4x4 deterministic environment*"
      ]
    },
    {
      "cell_type": "code",
      "metadata": {
        "id": "c9Ci1dwrtrPm"
      },
      "source": [
        "class DeterministicEnvironment(gym.Env):\n",
        "  metadata= {'render.modes': []}\n",
        "\n",
        "  def __init__(self):\n",
        "    '''\n",
        "    Initializes the number of states, action, & maximum timestep of the environment\n",
        "    '''\n",
        "\n",
        "    self.observation_space= spaces.Discrete(N_STATES)\n",
        "    self.action_space= spaces.Discrete(N_ACTIONS)\n",
        "    self.max_timesteps= MAX_TIMESTEPS\n",
        "\n",
        "  def reset(self):\n",
        "    '''\n",
        "    Resets the environment to its default setup\n",
        "\n",
        "    Output:\n",
        "      observation: 2-element list - Coordinates of the agent's default position in the grid\n",
        "    '''\n",
        "\n",
        "    self.timestep= 0\n",
        "\n",
        "    self.agent_pos= AGENT_POS.copy()\n",
        "    self.diamond_pos= DIAMOND_POS.copy()\n",
        "    self.coin_pos= COIN_POS.copy()\n",
        "    self.monster_pos= MONSTER_POS.copy()\n",
        "    self.goal_pos= GOAL_POS.copy()\n",
        "\n",
        "    self.state= np.zeros((4, 4))\n",
        "\n",
        "    self.state[tuple(self.agent_pos)]= 1\n",
        "    self.state[tuple(self.diamond_pos)]= 5\n",
        "    self.state[tuple(self.coin_pos)]= 3\n",
        "    self.state[tuple(self.monster_pos)]= -5\n",
        "    self.state[tuple(self.goal_pos)]= 10\n",
        "    \n",
        "    agent_state= self.agent_pos\n",
        "\n",
        "    return STATE_LOOKUP[tuple(agent_state)]\n",
        "\n",
        "  def step(self, action: int):\n",
        "    '''\n",
        "    1. Moves the agent as per the given action\n",
        "    2. Sets the rewards per state in the environment\n",
        "    3. Calculates the reward of the new state\n",
        "\n",
        "    Input:\n",
        "      action: int - Action to be performed\n",
        "\n",
        "    Output:\n",
        "      action: int - Action taken\n",
        "      observation: 2-element list\n",
        "      reward: int - State reward\n",
        "      done: bool - Denotes if the learning is complete (or) goal is reached\n",
        "      info: dict\n",
        "    '''\n",
        "\n",
        "    # Initializing the grid\n",
        "    self.state= np.zeros((4, 4))\n",
        "\n",
        "    # Move the agent\n",
        "    if action == 0: # Go down one step\n",
        "      self.agent_pos[0] += 1\n",
        "    if action == 1: # Go up one step\n",
        "      self.agent_pos[0] -= 1\n",
        "    if action == 2: # Go right one step\n",
        "      self.agent_pos[1] += 1\n",
        "    if action == 3: # Go left one step\n",
        "      self.agent_pos[1] -= 1\n",
        "\n",
        "    # To keep the agent within the confines of the environment\n",
        "    self.agent_pos= np.clip(self.agent_pos, 0, 3)\n",
        "\n",
        "    # Initialize the state rewards\n",
        "    self.state[tuple(self.agent_pos)]= 1\n",
        "    self.state[tuple(self.diamond_pos)]= 5\n",
        "    self.state[tuple(self.coin_pos)]= 3\n",
        "    self.state[tuple(self.monster_pos)]= -5\n",
        "    self.state[tuple(self.goal_pos)]= 10\n",
        "\n",
        "    agent_state= self.agent_pos\n",
        "\n",
        "    # Calculates the reward for the action\n",
        "    reward= 0\n",
        "    if (self.agent_pos == self.diamond_pos).all():\n",
        "      reward += 5\n",
        "    if (self.agent_pos == self.coin_pos).all():\n",
        "      reward += 3\n",
        "    if (self.agent_pos == self.monster_pos).all():\n",
        "      reward -= 5\n",
        "    if (self.agent_pos == self.goal_pos).all():\n",
        "      reward += 10\n",
        "\n",
        "    # Timestep increment\n",
        "    self.timestep += 1\n",
        "\n",
        "    done= True if ((self.timestep >= self.max_timesteps) or (self.agent_pos == self.goal_pos).all()) else False\n",
        "    info= {}\n",
        "\n",
        "    return STATE_LOOKUP[tuple(agent_state)], reward, done, info\n",
        "\n",
        "  def render(self):\n",
        "    '''\n",
        "    Provides pictorial representation of environment\n",
        "    '''\n",
        "\n",
        "    plt.imshow(self.state)"
      ],
      "execution_count": null,
      "outputs": []
    },
    {
      "cell_type": "markdown",
      "metadata": {
        "id": "Nb5MHc-DE6yI"
      },
      "source": [
        "*Test render*"
      ]
    },
    {
      "cell_type": "code",
      "metadata": {
        "colab": {
          "base_uri": "https://localhost:8080/",
          "height": 286
        },
        "id": "LcchIk5_8H4Q",
        "outputId": "aae117c3-bf3f-4226-b8c1-7aa7ca78dbe4"
      },
      "source": [
        "env= DeterministicEnvironment()\n",
        "state= env.reset()\n",
        "env.render()\n",
        "print('Current state : {}'.format(state))"
      ],
      "execution_count": null,
      "outputs": [
        {
          "output_type": "stream",
          "text": [
            "Current state : 0\n"
          ],
          "name": "stdout"
        },
        {
          "output_type": "display_data",
          "data": {
            "image/png": "[encoded data removed]",
            "text/plain": [
              "<Figure size 432x288 with 1 Axes>"
            ]
          },
          "metadata": {
            "tags": [],
            "needs_background": "light"
          }
        }
      ]
    },
    {
      "cell_type": "markdown",
      "metadata": {
        "id": "6ASY-urZxMxw"
      },
      "source": [
        "## Stochastic Environment\n"
      ]
    },
    {
      "cell_type": "markdown",
      "metadata": {
        "id": "MqHI65I8xhhU"
      },
      "source": [
        "*Defining a simple 4x4 stochastic environment*"
      ]
    },
    {
      "cell_type": "code",
      "metadata": {
        "id": "ePNIo_qxuXl1"
      },
      "source": [
        "class StochasticEnvironment(gym.Env):\n",
        "  metadata= {'render.modes': []}\n",
        "\n",
        "  def __init__(self):\n",
        "    '''\n",
        "    Initializes the number of states, action, & maximum timestep of the environment\n",
        "    '''\n",
        "\n",
        "    self.observation_space= spaces.Discrete(N_STATES)\n",
        "    self.action_space= spaces.Discrete(N_ACTIONS)\n",
        "    self.max_timesteps= MAX_TIMESTEPS\n",
        "\n",
        "  def reset(self):\n",
        "    '''\n",
        "    Resets the environment to its default setup\n",
        "\n",
        "    Output:\n",
        "      observation: 2-element list - Coordinates of the agent's default position in the grid\n",
        "    '''\n",
        "\n",
        "    self.timestep= 0\n",
        "\n",
        "    self.agent_pos= AGENT_POS.copy()\n",
        "    self.diamond_pos= DIAMOND_POS.copy()\n",
        "    self.coin_pos= COIN_POS.copy()\n",
        "    self.monster_pos= MONSTER_POS.copy()\n",
        "    self.goal_pos= GOAL_POS.copy()\n",
        "\n",
        "    self.state= np.zeros((4, 4))\n",
        "\n",
        "    self.state[tuple(self.agent_pos)]= 1\n",
        "    self.state[tuple(self.diamond_pos)]= 5\n",
        "    self.state[tuple(self.coin_pos)]= 3\n",
        "    self.state[tuple(self.monster_pos)]= -5\n",
        "    self.state[tuple(self.goal_pos)]= 10\n",
        "    \n",
        "    agent_state= self.agent_pos\n",
        "\n",
        "    return STATE_LOOKUP[tuple(agent_state)]\n",
        "  \n",
        "  def step(self, action):\n",
        "    '''\n",
        "    1. Randomly chooses the action to be performed\n",
        "    1. Moves the agent as per the chosen action\n",
        "    2. Sets the rewards per state in the environment\n",
        "    3. Calculates the reward of the new state\n",
        "\n",
        "    Input:\n",
        "      action: int - Action to be performed\n",
        "\n",
        "    Output:\n",
        "      action: int - Action taken\n",
        "      observation: 2-element list\n",
        "      reward: int - State reward\n",
        "      done: bool - Denotes if the learning is complete (or) goal is reached\n",
        "      info: dict\n",
        "    '''\n",
        "\n",
        "    # Initializing the grid\n",
        "    self.state= np.zeros((4, 4))\n",
        "\n",
        "    # Defining stochasticity to the environment\n",
        "    action= action if random.uniform(0, 1) < 0.75 else random.choice([i for i in range(self.action_space.n) if i != action])\n",
        "\n",
        "    # Move the agent\n",
        "    if action == 0: # Go down one step\n",
        "      self.agent_pos[0] += 1\n",
        "    if action == 1: # Go up one step\n",
        "      self.agent_pos[0] -= 1\n",
        "    if action == 2: # Go right one step\n",
        "      self.agent_pos[1] += 1\n",
        "    if action == 3: # Go left one step\n",
        "      self.agent_pos[1] -= 1\n",
        "\n",
        "    # To keep the agent within the confines of the environment\n",
        "    self.agent_pos= np.clip(self.agent_pos, 0, 3)\n",
        "\n",
        "    # Initialize the state rewards\n",
        "    self.state[tuple(self.agent_pos)]= 1\n",
        "    self.state[tuple(self.diamond_pos)]= 5\n",
        "    self.state[tuple(self.coin_pos)]= 3\n",
        "    self.state[tuple(self.monster_pos)]= -5\n",
        "    self.state[tuple(self.goal_pos)]= 10\n",
        "\n",
        "    agent_state= self.agent_pos\n",
        "\n",
        "    # Calculates the reward for the action\n",
        "    reward= 0\n",
        "    if (self.agent_pos == self.diamond_pos).all():\n",
        "      reward += 5\n",
        "    if (self.agent_pos == self.coin_pos).all():\n",
        "      reward += 3\n",
        "    if (self.agent_pos == self.monster_pos).all():\n",
        "      reward -= 5\n",
        "    if (self.agent_pos == self.goal_pos).all():\n",
        "      reward += 10\n",
        "\n",
        "    # Timestep increment\n",
        "    self.timestep += 1\n",
        "\n",
        "    done= True if ((self.timestep >= self.max_timesteps) or (self.agent_pos == self.goal_pos).all()) else False\n",
        "    info= {}\n",
        "\n",
        "    return STATE_LOOKUP[tuple(agent_state)], reward, done, info\n",
        "\n",
        "  def render(self):\n",
        "    '''\n",
        "    Provides pictorial representation of environment\n",
        "    '''\n",
        "\n",
        "    plt.imshow(self.state)"
      ],
      "execution_count": null,
      "outputs": []
    },
    {
      "cell_type": "markdown",
      "metadata": {
        "id": "KjJhq6hiFEVL"
      },
      "source": [
        "*Test render*"
      ]
    },
    {
      "cell_type": "code",
      "metadata": {
        "colab": {
          "base_uri": "https://localhost:8080/",
          "height": 286
        },
        "id": "EwCvWgzl7rrd",
        "outputId": "0fb98cfd-a883-4399-e113-93da278cf5c3"
      },
      "source": [
        "env= StochasticEnvironment()\n",
        "state= env.reset()\n",
        "env.render()\n",
        "print('Current state : {}'.format(state))"
      ],
      "execution_count": null,
      "outputs": [
        {
          "output_type": "stream",
          "text": [
            "Current state : 0\n"
          ],
          "name": "stdout"
        },
        {
          "output_type": "display_data",
          "data": {
            "image/png": "[encoded data removed]",
            "text/plain": [
              "<Figure size 432x288 with 1 Axes>"
            ]
          },
          "metadata": {
            "tags": [],
            "needs_background": "light"
          }
        }
      ]
    },
    {
      "cell_type": "markdown",
      "metadata": {
        "id": "2ZFFzyEJxS7B"
      },
      "source": [
        "## Random Agent"
      ]
    },
    {
      "cell_type": "markdown",
      "metadata": {
        "id": "M1P57OQZxZl8"
      },
      "source": [
        "*Defining a random agent*"
      ]
    },
    {
      "cell_type": "code",
      "metadata": {
        "id": "IgRMssZkxnBX"
      },
      "source": [
        "class RandomAgent:\n",
        "  \n",
        "  def __init__(self, env):\n",
        "    '''\n",
        "    Initializes a random agent and its parameters\n",
        "\n",
        "    Input:\n",
        "      env: environment class instance - Environment in which the agent will act in\n",
        "    '''\n",
        "    self.env= env\n",
        "    self.observation_space= env.observation_space\n",
        "    self.action_space= env.action_space\n",
        "\n",
        "  def step(self, state):\n",
        "    '''\n",
        "    Chooses an action at random from action set\n",
        "\n",
        "    Input:\n",
        "      state: int - State of the agent\n",
        "    \n",
        "    Output:\n",
        "      int - Randomly chosen action\n",
        "    '''\n",
        "    return np.random.choice(self.action_space.n)"
      ],
      "execution_count": null,
      "outputs": []
    },
    {
      "cell_type": "markdown",
      "metadata": {
        "id": "tY84t-54xadi"
      },
      "source": [
        "## Defining agents that learn using Tabular methods\n"
      ]
    },
    {
      "cell_type": "markdown",
      "metadata": {
        "id": "YIjQmGpzGs7u"
      },
      "source": [
        "### Q-learning agent"
      ]
    },
    {
      "cell_type": "markdown",
      "metadata": {
        "id": "Cuu6SIxaxdCt"
      },
      "source": [
        "*Defining a Q learning agent*"
      ]
    },
    {
      "cell_type": "code",
      "metadata": {
        "id": "JhW8rgkgu6Pf"
      },
      "source": [
        "# Subclass of the Random agent class\n",
        "class QLearningAgent(RandomAgent):\n",
        "\n",
        "  def __init__(self, env, discount_rate= 0.99, learning_rate= 0.01, epsilon= 1.0):\n",
        "    '''\n",
        "    Initializes a Q-learning agent and its parameters\n",
        "\n",
        "    Input:\n",
        "      env: environment class instance - Environment in which the agent will act in\n",
        "      discount_rate: float - Rate at which the reward decays (Default 0.99)\n",
        "      learning_rate: float - Rate at which the agent learns (Default 0.01)\n",
        "      epsilon: float - Balances the action of the agent between exploration & exploitation (Default 1.0)\n",
        "    '''\n",
        "    super().__init__(env)\n",
        "\n",
        "    # Sets the exploration, exploitation balance\n",
        "    # Closer to 1.0 - exploration | Closer to 0.0 - exploitation\n",
        "    self.epsilon= epsilon \n",
        "\n",
        "    # Sets the learning & decay parameters\n",
        "    self.gamma= discount_rate\n",
        "    self.alpha= learning_rate\n",
        "\n",
        "    self.build_model()\n",
        "\n",
        "  def build_model(self):\n",
        "    '''\n",
        "    Initializes the Q-table when an object is created\n",
        "    '''\n",
        "    self.Q_table= np.zeros((self.observation_space.n, self.action_space.n))\n",
        "\n",
        "  def save_model(self, filename):\n",
        "    '''\n",
        "    Saves the model (Q-table) to the working directory\n",
        "    '''\n",
        "    pickle.dump(self.Q_table, open(filename, 'wb'))\n",
        "\n",
        "  def step(self, state: int):\n",
        "    '''\n",
        "    Moves the agent based on epsilon value\n",
        "\n",
        "    Input:\n",
        "      state: int - State of the agent\n",
        "\n",
        "    Output:\n",
        "      int - Chosen action based on set epsilon value\n",
        "    '''\n",
        "    Q_state= self.Q_table[state]\n",
        "    greedy_action= np.argmax(Q_state)\n",
        "    random_action= super().step(state)\n",
        "\n",
        "    # Depending on the epsilon value greedy or random action is chosen\n",
        "    return random_action if random.random() < self.epsilon else greedy_action\n",
        "\n",
        "  def train(self, experience: tuple):\n",
        "    '''\n",
        "    Updates the Q-table based on 'experience' of the agent\n",
        "\n",
        "    Input:\n",
        "      experience: tuple\n",
        "        state: int - State of the agent\n",
        "        action: int - Action performed by the agent\n",
        "        next_state: int - Current state of the agent\n",
        "        reward: int - Value of the state\n",
        "        done: bool\n",
        "    '''\n",
        "    state, action, next_state, reward, done= experience\n",
        "    \n",
        "    # Q-value calculation\n",
        "    Q_next= np.zeros([self.action_space.n]) if done else self.Q_table[next_state]\n",
        "    Q_value= reward + self.gamma * np.max(Q_next) - self.Q_table[state, action]\n",
        "    self.Q_table[state, action] += self.alpha * Q_value\n",
        "\n",
        "    if done:\n",
        "      # Setting exponential epsilon decay to prefer exploitation over exploration\n",
        "      self.epsilon= self.epsilon * 0.99"
      ],
      "execution_count": null,
      "outputs": []
    },
    {
      "cell_type": "markdown",
      "metadata": {
        "id": "QQdopMBuBTQZ"
      },
      "source": [
        "## Running various agents in environment"
      ]
    },
    {
      "cell_type": "markdown",
      "metadata": {
        "id": "6k5D5rnMad26"
      },
      "source": [
        "*Running the random agent in the Deterministic Environment*"
      ]
    },
    {
      "cell_type": "code",
      "metadata": {
        "colab": {
          "base_uri": "https://localhost:8080/",
          "height": 307
        },
        "id": "C8CaivB7BVug",
        "outputId": "6ef02552-12e0-422a-c02f-33371720b3ef"
      },
      "source": [
        "environment= DeterministicEnvironment()\n",
        "random_agent= RandomAgent(env= environment)\n",
        "state= environment.reset()\n",
        "done= False\n",
        "\n",
        "grid= widgets.Grid(1, 1)\n",
        "\n",
        "total_reward= 0\n",
        "while not done:\n",
        "  action= random_agent.step(state= state)\n",
        "  next_state, reward, done, info= environment.step(action= action)\n",
        "  # print('By taking action \\'{}\\' the agent moved from {} to {} and got reward {}'.format(ACTION_LOOKUP[action], state, next_state, reward))\n",
        "  state= next_state\n",
        "  total_reward+= reward\n",
        "\n",
        "  with grid.output_to(0, 0):\n",
        "    grid.clear_cell()\n",
        "    environment.render()\n",
        "    # time.sleep(1)\n",
        "\n",
        "if done == True and environment.timestep < MAX_TIMESTEPS:\n",
        "  print('Agent has reached the Goal position')\n",
        "elif done == True and environment.timestep == MAX_TIMESTEPS:\n",
        "  print('Agent ran out of time')\n",
        "\n",
        "print('At the end of the run, the agent is at state {} & got a total reward of {}'.format(state, total_reward))"
      ],
      "execution_count": null,
      "outputs": [
        {
          "output_type": "display_data",
          "data": {
            "text/html": [
              "<style>\n",
              "       table#id96, #id96 > tbody > tr > th, #id96 > tbody > tr > td {\n",
              "         border: 1px solid lightgray;\n",
              "         border-collapse:collapse;\n",
              "         \n",
              "        }</style>"
            ],
            "text/plain": [
              "<IPython.core.display.HTML object>"
            ]
          },
          "metadata": {
            "tags": [
              "outputarea_id96"
            ]
          }
        },
        {
          "output_type": "display_data",
          "data": {
            "text/html": [
              "<table id=id96><tr><td id=id96-0-0></td></tr></table>"
            ],
            "text/plain": [
              "<IPython.core.display.HTML object>"
            ]
          },
          "metadata": {
            "tags": [
              "outputarea_id96"
            ]
          }
        },
        {
          "output_type": "display_data",
          "data": {
            "application/javascript": [
              "window[\"eec91c64-77d0-11eb-844c-0242ac1c0002\"] = google.colab.output.getActiveOutputArea();\n",
              "//# sourceURL=js_cfe1ea400e"
            ],
            "text/plain": [
              "<IPython.core.display.Javascript object>"
            ]
          },
          "metadata": {
            "tags": [
              "id96-0-0",
              "outputarea_id96"
            ]
          }
        },
        {
          "output_type": "display_data",
          "data": {
            "application/javascript": [
              "window[\"eec976fa-77d0-11eb-844c-0242ac1c0002\"] = document.querySelector(\"#id96-0-0\");\n",
              "//# sourceURL=js_4225b3dbd6"
            ],
            "text/plain": [
              "<IPython.core.display.Javascript object>"
            ]
          },
          "metadata": {
            "tags": [
              "id96-0-0",
              "outputarea_id96"
            ]
          }
        },
        {
          "output_type": "display_data",
          "data": {
            "application/javascript": [
              "window[\"eec9bd9a-77d0-11eb-844c-0242ac1c0002\"] = google.colab.output.setActiveOutputArea(window[\"eec976fa-77d0-11eb-844c-0242ac1c0002\"]);\n",
              "//# sourceURL=js_6920d7c0ff"
            ],
            "text/plain": [
              "<IPython.core.display.Javascript object>"
            ]
          },
          "metadata": {
            "tags": [
              "id96-0-0",
              "outputarea_id96"
            ]
          }
        },
        {
          "output_type": "display_data",
          "data": {
            "application/javascript": [
              "window[\"eee16aa8-77d0-11eb-844c-0242ac1c0002\"] = google.colab.output.setActiveOutputArea(window[\"eec91c64-77d0-11eb-844c-0242ac1c0002\"]);\n",
              "//# sourceURL=js_b4b2a7948f"
            ],
            "text/plain": [
              "<IPython.core.display.Javascript object>"
            ]
          },
          "metadata": {
            "tags": [
              "id96-0-0",
              "outputarea_id96"
            ]
          }
        },
        {
          "output_type": "display_data",
          "data": {
            "application/javascript": [
              "window[\"eee32ae6-77d0-11eb-844c-0242ac1c0002\"] = google.colab.output.getActiveOutputArea();\n",
              "//# sourceURL=js_2cf60536d0"
            ],
            "text/plain": [
              "<IPython.core.display.Javascript object>"
            ]
          },
          "metadata": {
            "tags": [
              "id96-0-0",
              "outputarea_id96"
            ]
          }
        },
        {
          "output_type": "display_data",
          "data": {
            "application/javascript": [
              "window[\"eee378d4-77d0-11eb-844c-0242ac1c0002\"] = document.querySelector(\"#id96-0-0\");\n",
              "//# sourceURL=js_8add99a2e5"
            ],
            "text/plain": [
              "<IPython.core.display.Javascript object>"
            ]
          },
          "metadata": {
            "tags": [
              "id96-0-0",
              "outputarea_id96"
            ]
          }
        },
        {
          "output_type": "display_data",
          "data": {
            "application/javascript": [
              "window[\"eee3c834-77d0-11eb-844c-0242ac1c0002\"] = google.colab.output.setActiveOutputArea(window[\"eee378d4-77d0-11eb-844c-0242ac1c0002\"]);\n",
              "//# sourceURL=js_f36ea9fa00"
            ],
            "text/plain": [
              "<IPython.core.display.Javascript object>"
            ]
          },
          "metadata": {
            "tags": [
              "id96-0-0",
              "outputarea_id96"
            ]
          }
        },
        {
          "output_type": "display_data",
          "data": {
            "application/javascript": [
              "window[\"eefd7e8c-77d0-11eb-844c-0242ac1c0002\"] = google.colab.output.setActiveOutputArea(window[\"eee32ae6-77d0-11eb-844c-0242ac1c0002\"]);\n",
              "//# sourceURL=js_8c63a6d09c"
            ],
            "text/plain": [
              "<IPython.core.display.Javascript object>"
            ]
          },
          "metadata": {
            "tags": [
              "id96-0-0",
              "outputarea_id96"
            ]
          }
        },
        {
          "output_type": "display_data",
          "data": {
            "application/javascript": [
              "window[\"eefed304-77d0-11eb-844c-0242ac1c0002\"] = google.colab.output.getActiveOutputArea();\n",
              "//# sourceURL=js_db5a9ca6f3"
            ],
            "text/plain": [
              "<IPython.core.display.Javascript object>"
            ]
          },
          "metadata": {
            "tags": [
              "id96-0-0",
              "outputarea_id96"
            ]
          }
        },
        {
          "output_type": "display_data",
          "data": {
            "application/javascript": [
              "window[\"eeff1b0c-77d0-11eb-844c-0242ac1c0002\"] = document.querySelector(\"#id96-0-0\");\n",
              "//# sourceURL=js_82dabcebc2"
            ],
            "text/plain": [
              "<IPython.core.display.Javascript object>"
            ]
          },
          "metadata": {
            "tags": [
              "id96-0-0",
              "outputarea_id96"
            ]
          }
        },
        {
          "output_type": "display_data",
          "data": {
            "application/javascript": [
              "window[\"eeff5d9c-77d0-11eb-844c-0242ac1c0002\"] = google.colab.output.setActiveOutputArea(window[\"eeff1b0c-77d0-11eb-844c-0242ac1c0002\"]);\n",
              "//# sourceURL=js_0b5ac409b4"
            ],
            "text/plain": [
              "<IPython.core.display.Javascript object>"
            ]
          },
          "metadata": {
            "tags": [
              "id96-0-0",
              "outputarea_id96"
            ]
          }
        },
        {
          "output_type": "display_data",
          "data": {
            "application/javascript": [
              "window[\"ef17021c-77d0-11eb-844c-0242ac1c0002\"] = google.colab.output.setActiveOutputArea(window[\"eefed304-77d0-11eb-844c-0242ac1c0002\"]);\n",
              "//# sourceURL=js_91e6b98e86"
            ],
            "text/plain": [
              "<IPython.core.display.Javascript object>"
            ]
          },
          "metadata": {
            "tags": [
              "id96-0-0",
              "outputarea_id96"
            ]
          }
        },
        {
          "output_type": "display_data",
          "data": {
            "application/javascript": [
              "window[\"ef185716-77d0-11eb-844c-0242ac1c0002\"] = google.colab.output.getActiveOutputArea();\n",
              "//# sourceURL=js_d2639fd547"
            ],
            "text/plain": [
              "<IPython.core.display.Javascript object>"
            ]
          },
          "metadata": {
            "tags": [
              "id96-0-0",
              "outputarea_id96"
            ]
          }
        },
        {
          "output_type": "display_data",
          "data": {
            "application/javascript": [
              "window[\"ef18a22a-77d0-11eb-844c-0242ac1c0002\"] = document.querySelector(\"#id96-0-0\");\n",
              "//# sourceURL=js_1662f58ed9"
            ],
            "text/plain": [
              "<IPython.core.display.Javascript object>"
            ]
          },
          "metadata": {
            "tags": [
              "id96-0-0",
              "outputarea_id96"
            ]
          }
        },
        {
          "output_type": "display_data",
          "data": {
            "application/javascript": [
              "window[\"ef18e3e8-77d0-11eb-844c-0242ac1c0002\"] = google.colab.output.setActiveOutputArea(window[\"ef18a22a-77d0-11eb-844c-0242ac1c0002\"]);\n",
              "//# sourceURL=js_27618d6f80"
            ],
            "text/plain": [
              "<IPython.core.display.Javascript object>"
            ]
          },
          "metadata": {
            "tags": [
              "id96-0-0",
              "outputarea_id96"
            ]
          }
        },
        {
          "output_type": "display_data",
          "data": {
            "application/javascript": [
              "window[\"ef3191e0-77d0-11eb-844c-0242ac1c0002\"] = google.colab.output.setActiveOutputArea(window[\"ef185716-77d0-11eb-844c-0242ac1c0002\"]);\n",
              "//# sourceURL=js_9a858f2252"
            ],
            "text/plain": [
              "<IPython.core.display.Javascript object>"
            ]
          },
          "metadata": {
            "tags": [
              "id96-0-0",
              "outputarea_id96"
            ]
          }
        },
        {
          "output_type": "display_data",
          "data": {
            "application/javascript": [
              "window[\"ef32e6e4-77d0-11eb-844c-0242ac1c0002\"] = google.colab.output.getActiveOutputArea();\n",
              "//# sourceURL=js_1d9c3ad96a"
            ],
            "text/plain": [
              "<IPython.core.display.Javascript object>"
            ]
          },
          "metadata": {
            "tags": [
              "id96-0-0",
              "outputarea_id96"
            ]
          }
        },
        {
          "output_type": "display_data",
          "data": {
            "application/javascript": [
              "window[\"ef332eba-77d0-11eb-844c-0242ac1c0002\"] = document.querySelector(\"#id96-0-0\");\n",
              "//# sourceURL=js_a024dd1de7"
            ],
            "text/plain": [
              "<IPython.core.display.Javascript object>"
            ]
          },
          "metadata": {
            "tags": [
              "id96-0-0",
              "outputarea_id96"
            ]
          }
        },
        {
          "output_type": "display_data",
          "data": {
            "application/javascript": [
              "window[\"ef33726c-77d0-11eb-844c-0242ac1c0002\"] = google.colab.output.setActiveOutputArea(window[\"ef332eba-77d0-11eb-844c-0242ac1c0002\"]);\n",
              "//# sourceURL=js_25eddaf8cd"
            ],
            "text/plain": [
              "<IPython.core.display.Javascript object>"
            ]
          },
          "metadata": {
            "tags": [
              "id96-0-0",
              "outputarea_id96"
            ]
          }
        },
        {
          "output_type": "display_data",
          "data": {
            "application/javascript": [
              "window[\"ef4c4170-77d0-11eb-844c-0242ac1c0002\"] = google.colab.output.setActiveOutputArea(window[\"ef32e6e4-77d0-11eb-844c-0242ac1c0002\"]);\n",
              "//# sourceURL=js_a164ddc79b"
            ],
            "text/plain": [
              "<IPython.core.display.Javascript object>"
            ]
          },
          "metadata": {
            "tags": [
              "id96-0-0",
              "outputarea_id96"
            ]
          }
        },
        {
          "output_type": "display_data",
          "data": {
            "application/javascript": [
              "window[\"ef4e11a8-77d0-11eb-844c-0242ac1c0002\"] = google.colab.output.getActiveOutputArea();\n",
              "//# sourceURL=js_7e31e1884d"
            ],
            "text/plain": [
              "<IPython.core.display.Javascript object>"
            ]
          },
          "metadata": {
            "tags": [
              "id96-0-0",
              "outputarea_id96"
            ]
          }
        },
        {
          "output_type": "display_data",
          "data": {
            "application/javascript": [
              "window[\"ef4e56d6-77d0-11eb-844c-0242ac1c0002\"] = document.querySelector(\"#id96-0-0\");\n",
              "//# sourceURL=js_cdc6f229c3"
            ],
            "text/plain": [
              "<IPython.core.display.Javascript object>"
            ]
          },
          "metadata": {
            "tags": [
              "id96-0-0",
              "outputarea_id96"
            ]
          }
        },
        {
          "output_type": "display_data",
          "data": {
            "application/javascript": [
              "window[\"ef4e9736-77d0-11eb-844c-0242ac1c0002\"] = google.colab.output.setActiveOutputArea(window[\"ef4e56d6-77d0-11eb-844c-0242ac1c0002\"]);\n",
              "//# sourceURL=js_97a736bb2e"
            ],
            "text/plain": [
              "<IPython.core.display.Javascript object>"
            ]
          },
          "metadata": {
            "tags": [
              "id96-0-0",
              "outputarea_id96"
            ]
          }
        },
        {
          "output_type": "display_data",
          "data": {
            "application/javascript": [
              "window[\"ef691372-77d0-11eb-844c-0242ac1c0002\"] = google.colab.output.setActiveOutputArea(window[\"ef4e11a8-77d0-11eb-844c-0242ac1c0002\"]);\n",
              "//# sourceURL=js_ce1a50d528"
            ],
            "text/plain": [
              "<IPython.core.display.Javascript object>"
            ]
          },
          "metadata": {
            "tags": [
              "id96-0-0",
              "outputarea_id96"
            ]
          }
        },
        {
          "output_type": "display_data",
          "data": {
            "application/javascript": [
              "window[\"ef6a56ce-77d0-11eb-844c-0242ac1c0002\"] = google.colab.output.getActiveOutputArea();\n",
              "//# sourceURL=js_476f8a9b72"
            ],
            "text/plain": [
              "<IPython.core.display.Javascript object>"
            ]
          },
          "metadata": {
            "tags": [
              "id96-0-0",
              "outputarea_id96"
            ]
          }
        },
        {
          "output_type": "display_data",
          "data": {
            "application/javascript": [
              "window[\"ef6a9a26-77d0-11eb-844c-0242ac1c0002\"] = document.querySelector(\"#id96-0-0\");\n",
              "//# sourceURL=js_63e56c011e"
            ],
            "text/plain": [
              "<IPython.core.display.Javascript object>"
            ]
          },
          "metadata": {
            "tags": [
              "id96-0-0",
              "outputarea_id96"
            ]
          }
        },
        {
          "output_type": "display_data",
          "data": {
            "application/javascript": [
              "window[\"ef6ada5e-77d0-11eb-844c-0242ac1c0002\"] = google.colab.output.setActiveOutputArea(window[\"ef6a9a26-77d0-11eb-844c-0242ac1c0002\"]);\n",
              "//# sourceURL=js_e128c8b6d2"
            ],
            "text/plain": [
              "<IPython.core.display.Javascript object>"
            ]
          },
          "metadata": {
            "tags": [
              "id96-0-0",
              "outputarea_id96"
            ]
          }
        },
        {
          "output_type": "display_data",
          "data": {
            "application/javascript": [
              "window[\"ef829a7c-77d0-11eb-844c-0242ac1c0002\"] = google.colab.output.setActiveOutputArea(window[\"ef6a56ce-77d0-11eb-844c-0242ac1c0002\"]);\n",
              "//# sourceURL=js_44711cbb63"
            ],
            "text/plain": [
              "<IPython.core.display.Javascript object>"
            ]
          },
          "metadata": {
            "tags": [
              "id96-0-0",
              "outputarea_id96"
            ]
          }
        },
        {
          "output_type": "display_data",
          "data": {
            "application/javascript": [
              "window[\"ef83d5e0-77d0-11eb-844c-0242ac1c0002\"] = google.colab.output.getActiveOutputArea();\n",
              "//# sourceURL=js_eb03bb3a47"
            ],
            "text/plain": [
              "<IPython.core.display.Javascript object>"
            ]
          },
          "metadata": {
            "tags": [
              "id96-0-0",
              "outputarea_id96"
            ]
          }
        },
        {
          "output_type": "display_data",
          "data": {
            "application/javascript": [
              "window[\"ef841938-77d0-11eb-844c-0242ac1c0002\"] = document.querySelector(\"#id96-0-0\");\n",
              "//# sourceURL=js_08f417e353"
            ],
            "text/plain": [
              "<IPython.core.display.Javascript object>"
            ]
          },
          "metadata": {
            "tags": [
              "id96-0-0",
              "outputarea_id96"
            ]
          }
        },
        {
          "output_type": "display_data",
          "data": {
            "application/javascript": [
              "window[\"ef84545c-77d0-11eb-844c-0242ac1c0002\"] = google.colab.output.setActiveOutputArea(window[\"ef841938-77d0-11eb-844c-0242ac1c0002\"]);\n",
              "//# sourceURL=js_5f629fe6fb"
            ],
            "text/plain": [
              "<IPython.core.display.Javascript object>"
            ]
          },
          "metadata": {
            "tags": [
              "id96-0-0",
              "outputarea_id96"
            ]
          }
        },
        {
          "output_type": "display_data",
          "data": {
            "application/javascript": [
              "window[\"ef9bf184-77d0-11eb-844c-0242ac1c0002\"] = google.colab.output.setActiveOutputArea(window[\"ef83d5e0-77d0-11eb-844c-0242ac1c0002\"]);\n",
              "//# sourceURL=js_01f0a68ecc"
            ],
            "text/plain": [
              "<IPython.core.display.Javascript object>"
            ]
          },
          "metadata": {
            "tags": [
              "id96-0-0",
              "outputarea_id96"
            ]
          }
        },
        {
          "output_type": "display_data",
          "data": {
            "application/javascript": [
              "window[\"ef9d2ab8-77d0-11eb-844c-0242ac1c0002\"] = google.colab.output.getActiveOutputArea();\n",
              "//# sourceURL=js_aaf9f2c580"
            ],
            "text/plain": [
              "<IPython.core.display.Javascript object>"
            ]
          },
          "metadata": {
            "tags": [
              "id96-0-0",
              "outputarea_id96"
            ]
          }
        },
        {
          "output_type": "display_data",
          "data": {
            "application/javascript": [
              "window[\"ef9d6ece-77d0-11eb-844c-0242ac1c0002\"] = document.querySelector(\"#id96-0-0\");\n",
              "//# sourceURL=js_8c093ee471"
            ],
            "text/plain": [
              "<IPython.core.display.Javascript object>"
            ]
          },
          "metadata": {
            "tags": [
              "id96-0-0",
              "outputarea_id96"
            ]
          }
        },
        {
          "output_type": "display_data",
          "data": {
            "application/javascript": [
              "window[\"ef9dae84-77d0-11eb-844c-0242ac1c0002\"] = google.colab.output.setActiveOutputArea(window[\"ef9d6ece-77d0-11eb-844c-0242ac1c0002\"]);\n",
              "//# sourceURL=js_a57160f057"
            ],
            "text/plain": [
              "<IPython.core.display.Javascript object>"
            ]
          },
          "metadata": {
            "tags": [
              "id96-0-0",
              "outputarea_id96"
            ]
          }
        },
        {
          "output_type": "display_data",
          "data": {
            "application/javascript": [
              "window[\"efb78afc-77d0-11eb-844c-0242ac1c0002\"] = google.colab.output.setActiveOutputArea(window[\"ef9d2ab8-77d0-11eb-844c-0242ac1c0002\"]);\n",
              "//# sourceURL=js_ee6c5195f3"
            ],
            "text/plain": [
              "<IPython.core.display.Javascript object>"
            ]
          },
          "metadata": {
            "tags": [
              "id96-0-0",
              "outputarea_id96"
            ]
          }
        },
        {
          "output_type": "display_data",
          "data": {
            "application/javascript": [
              "window[\"efb8c8cc-77d0-11eb-844c-0242ac1c0002\"] = google.colab.output.getActiveOutputArea();\n",
              "//# sourceURL=js_fd09fd1968"
            ],
            "text/plain": [
              "<IPython.core.display.Javascript object>"
            ]
          },
          "metadata": {
            "tags": [
              "id96-0-0",
              "outputarea_id96"
            ]
          }
        },
        {
          "output_type": "display_data",
          "data": {
            "application/javascript": [
              "window[\"efb90b8e-77d0-11eb-844c-0242ac1c0002\"] = document.querySelector(\"#id96-0-0\");\n",
              "//# sourceURL=js_1df77f9213"
            ],
            "text/plain": [
              "<IPython.core.display.Javascript object>"
            ]
          },
          "metadata": {
            "tags": [
              "id96-0-0",
              "outputarea_id96"
            ]
          }
        },
        {
          "output_type": "display_data",
          "data": {
            "application/javascript": [
              "window[\"efb95846-77d0-11eb-844c-0242ac1c0002\"] = google.colab.output.setActiveOutputArea(window[\"efb90b8e-77d0-11eb-844c-0242ac1c0002\"]);\n",
              "//# sourceURL=js_cc7ed86004"
            ],
            "text/plain": [
              "<IPython.core.display.Javascript object>"
            ]
          },
          "metadata": {
            "tags": [
              "id96-0-0",
              "outputarea_id96"
            ]
          }
        },
        {
          "output_type": "display_data",
          "data": {
            "application/javascript": [
              "window[\"efe239f0-77d0-11eb-844c-0242ac1c0002\"] = google.colab.output.setActiveOutputArea(window[\"efb8c8cc-77d0-11eb-844c-0242ac1c0002\"]);\n",
              "//# sourceURL=js_86dc3751a1"
            ],
            "text/plain": [
              "<IPython.core.display.Javascript object>"
            ]
          },
          "metadata": {
            "tags": [
              "id96-0-0",
              "outputarea_id96"
            ]
          }
        },
        {
          "output_type": "display_data",
          "data": {
            "application/javascript": [
              "window[\"efe3970a-77d0-11eb-844c-0242ac1c0002\"] = google.colab.output.getActiveOutputArea();\n",
              "//# sourceURL=js_9724b93738"
            ],
            "text/plain": [
              "<IPython.core.display.Javascript object>"
            ]
          },
          "metadata": {
            "tags": [
              "id96-0-0",
              "outputarea_id96"
            ]
          }
        },
        {
          "output_type": "display_data",
          "data": {
            "application/javascript": [
              "window[\"efe3defe-77d0-11eb-844c-0242ac1c0002\"] = document.querySelector(\"#id96-0-0\");\n",
              "//# sourceURL=js_2d995676ac"
            ],
            "text/plain": [
              "<IPython.core.display.Javascript object>"
            ]
          },
          "metadata": {
            "tags": [
              "id96-0-0",
              "outputarea_id96"
            ]
          }
        },
        {
          "output_type": "display_data",
          "data": {
            "application/javascript": [
              "window[\"efe42292-77d0-11eb-844c-0242ac1c0002\"] = google.colab.output.setActiveOutputArea(window[\"efe3defe-77d0-11eb-844c-0242ac1c0002\"]);\n",
              "//# sourceURL=js_27414a43fc"
            ],
            "text/plain": [
              "<IPython.core.display.Javascript object>"
            ]
          },
          "metadata": {
            "tags": [
              "id96-0-0",
              "outputarea_id96"
            ]
          }
        },
        {
          "output_type": "display_data",
          "data": {
            "application/javascript": [
              "window[\"f00042c4-77d0-11eb-844c-0242ac1c0002\"] = google.colab.output.setActiveOutputArea(window[\"efe3970a-77d0-11eb-844c-0242ac1c0002\"]);\n",
              "//# sourceURL=js_f3bdc84544"
            ],
            "text/plain": [
              "<IPython.core.display.Javascript object>"
            ]
          },
          "metadata": {
            "tags": [
              "id96-0-0",
              "outputarea_id96"
            ]
          }
        },
        {
          "output_type": "display_data",
          "data": {
            "application/javascript": [
              "window[\"f0026c98-77d0-11eb-844c-0242ac1c0002\"] = google.colab.output.getActiveOutputArea();\n",
              "//# sourceURL=js_f5e68959c9"
            ],
            "text/plain": [
              "<IPython.core.display.Javascript object>"
            ]
          },
          "metadata": {
            "tags": [
              "id96-0-0",
              "outputarea_id96"
            ]
          }
        },
        {
          "output_type": "display_data",
          "data": {
            "application/javascript": [
              "window[\"f002e9b6-77d0-11eb-844c-0242ac1c0002\"] = document.querySelector(\"#id96-0-0\");\n",
              "//# sourceURL=js_9bad066e97"
            ],
            "text/plain": [
              "<IPython.core.display.Javascript object>"
            ]
          },
          "metadata": {
            "tags": [
              "id96-0-0",
              "outputarea_id96"
            ]
          }
        },
        {
          "output_type": "display_data",
          "data": {
            "application/javascript": [
              "window[\"f0036602-77d0-11eb-844c-0242ac1c0002\"] = google.colab.output.setActiveOutputArea(window[\"f002e9b6-77d0-11eb-844c-0242ac1c0002\"]);\n",
              "//# sourceURL=js_ade3bbc1f5"
            ],
            "text/plain": [
              "<IPython.core.display.Javascript object>"
            ]
          },
          "metadata": {
            "tags": [
              "id96-0-0",
              "outputarea_id96"
            ]
          }
        },
        {
          "output_type": "display_data",
          "data": {
            "application/javascript": [
              "window[\"f01b175c-77d0-11eb-844c-0242ac1c0002\"] = google.colab.output.setActiveOutputArea(window[\"f0026c98-77d0-11eb-844c-0242ac1c0002\"]);\n",
              "//# sourceURL=js_6d24ea3f60"
            ],
            "text/plain": [
              "<IPython.core.display.Javascript object>"
            ]
          },
          "metadata": {
            "tags": [
              "id96-0-0",
              "outputarea_id96"
            ]
          }
        },
        {
          "output_type": "display_data",
          "data": {
            "application/javascript": [
              "window[\"f01c5270-77d0-11eb-844c-0242ac1c0002\"] = google.colab.output.getActiveOutputArea();\n",
              "//# sourceURL=js_6bd47e26d6"
            ],
            "text/plain": [
              "<IPython.core.display.Javascript object>"
            ]
          },
          "metadata": {
            "tags": [
              "id96-0-0",
              "outputarea_id96"
            ]
          }
        },
        {
          "output_type": "display_data",
          "data": {
            "application/javascript": [
              "window[\"f01c97b2-77d0-11eb-844c-0242ac1c0002\"] = document.querySelector(\"#id96-0-0\");\n",
              "//# sourceURL=js_1ed0e45495"
            ],
            "text/plain": [
              "<IPython.core.display.Javascript object>"
            ]
          },
          "metadata": {
            "tags": [
              "id96-0-0",
              "outputarea_id96"
            ]
          }
        },
        {
          "output_type": "display_data",
          "data": {
            "application/javascript": [
              "window[\"f01cd768-77d0-11eb-844c-0242ac1c0002\"] = google.colab.output.setActiveOutputArea(window[\"f01c97b2-77d0-11eb-844c-0242ac1c0002\"]);\n",
              "//# sourceURL=js_5fde551632"
            ],
            "text/plain": [
              "<IPython.core.display.Javascript object>"
            ]
          },
          "metadata": {
            "tags": [
              "id96-0-0",
              "outputarea_id96"
            ]
          }
        },
        {
          "output_type": "display_data",
          "data": {
            "application/javascript": [
              "window[\"f037247e-77d0-11eb-844c-0242ac1c0002\"] = google.colab.output.setActiveOutputArea(window[\"f01c5270-77d0-11eb-844c-0242ac1c0002\"]);\n",
              "//# sourceURL=js_6394ed9336"
            ],
            "text/plain": [
              "<IPython.core.display.Javascript object>"
            ]
          },
          "metadata": {
            "tags": [
              "id96-0-0",
              "outputarea_id96"
            ]
          }
        },
        {
          "output_type": "display_data",
          "data": {
            "application/javascript": [
              "window[\"f0385632-77d0-11eb-844c-0242ac1c0002\"] = google.colab.output.getActiveOutputArea();\n",
              "//# sourceURL=js_e90987fefb"
            ],
            "text/plain": [
              "<IPython.core.display.Javascript object>"
            ]
          },
          "metadata": {
            "tags": [
              "id96-0-0",
              "outputarea_id96"
            ]
          }
        },
        {
          "output_type": "display_data",
          "data": {
            "application/javascript": [
              "window[\"f0389854-77d0-11eb-844c-0242ac1c0002\"] = document.querySelector(\"#id96-0-0\");\n",
              "//# sourceURL=js_832ba3fa75"
            ],
            "text/plain": [
              "<IPython.core.display.Javascript object>"
            ]
          },
          "metadata": {
            "tags": [
              "id96-0-0",
              "outputarea_id96"
            ]
          }
        },
        {
          "output_type": "display_data",
          "data": {
            "application/javascript": [
              "window[\"f038d3fa-77d0-11eb-844c-0242ac1c0002\"] = google.colab.output.setActiveOutputArea(window[\"f0389854-77d0-11eb-844c-0242ac1c0002\"]);\n",
              "//# sourceURL=js_c3a9e7b33d"
            ],
            "text/plain": [
              "<IPython.core.display.Javascript object>"
            ]
          },
          "metadata": {
            "tags": [
              "id96-0-0",
              "outputarea_id96"
            ]
          }
        },
        {
          "output_type": "display_data",
          "data": {
            "application/javascript": [
              "window[\"f051093e-77d0-11eb-844c-0242ac1c0002\"] = google.colab.output.setActiveOutputArea(window[\"f0385632-77d0-11eb-844c-0242ac1c0002\"]);\n",
              "//# sourceURL=js_c84567dee2"
            ],
            "text/plain": [
              "<IPython.core.display.Javascript object>"
            ]
          },
          "metadata": {
            "tags": [
              "id96-0-0",
              "outputarea_id96"
            ]
          }
        },
        {
          "output_type": "display_data",
          "data": {
            "application/javascript": [
              "window[\"f05236a6-77d0-11eb-844c-0242ac1c0002\"] = google.colab.output.getActiveOutputArea();\n",
              "//# sourceURL=js_eb619b192d"
            ],
            "text/plain": [
              "<IPython.core.display.Javascript object>"
            ]
          },
          "metadata": {
            "tags": [
              "id96-0-0",
              "outputarea_id96"
            ]
          }
        },
        {
          "output_type": "display_data",
          "data": {
            "application/javascript": [
              "window[\"f0527cd8-77d0-11eb-844c-0242ac1c0002\"] = document.querySelector(\"#id96-0-0\");\n",
              "//# sourceURL=js_b08315bb92"
            ],
            "text/plain": [
              "<IPython.core.display.Javascript object>"
            ]
          },
          "metadata": {
            "tags": [
              "id96-0-0",
              "outputarea_id96"
            ]
          }
        },
        {
          "output_type": "display_data",
          "data": {
            "application/javascript": [
              "window[\"f052bbee-77d0-11eb-844c-0242ac1c0002\"] = google.colab.output.setActiveOutputArea(window[\"f0527cd8-77d0-11eb-844c-0242ac1c0002\"]);\n",
              "//# sourceURL=js_433030dc3b"
            ],
            "text/plain": [
              "<IPython.core.display.Javascript object>"
            ]
          },
          "metadata": {
            "tags": [
              "id96-0-0",
              "outputarea_id96"
            ]
          }
        },
        {
          "output_type": "display_data",
          "data": {
            "application/javascript": [
              "window[\"f06db61a-77d0-11eb-844c-0242ac1c0002\"] = google.colab.output.setActiveOutputArea(window[\"f05236a6-77d0-11eb-844c-0242ac1c0002\"]);\n",
              "//# sourceURL=js_b35c222c73"
            ],
            "text/plain": [
              "<IPython.core.display.Javascript object>"
            ]
          },
          "metadata": {
            "tags": [
              "id96-0-0",
              "outputarea_id96"
            ]
          }
        },
        {
          "output_type": "display_data",
          "data": {
            "application/javascript": [
              "window[\"f06ee508-77d0-11eb-844c-0242ac1c0002\"] = google.colab.output.getActiveOutputArea();\n",
              "//# sourceURL=js_70616d97e8"
            ],
            "text/plain": [
              "<IPython.core.display.Javascript object>"
            ]
          },
          "metadata": {
            "tags": [
              "id96-0-0",
              "outputarea_id96"
            ]
          }
        },
        {
          "output_type": "display_data",
          "data": {
            "application/javascript": [
              "window[\"f06f234c-77d0-11eb-844c-0242ac1c0002\"] = document.querySelector(\"#id96-0-0\");\n",
              "//# sourceURL=js_668d696dac"
            ],
            "text/plain": [
              "<IPython.core.display.Javascript object>"
            ]
          },
          "metadata": {
            "tags": [
              "id96-0-0",
              "outputarea_id96"
            ]
          }
        },
        {
          "output_type": "display_data",
          "data": {
            "application/javascript": [
              "window[\"f06f62bc-77d0-11eb-844c-0242ac1c0002\"] = google.colab.output.setActiveOutputArea(window[\"f06f234c-77d0-11eb-844c-0242ac1c0002\"]);\n",
              "//# sourceURL=js_6218a6ae30"
            ],
            "text/plain": [
              "<IPython.core.display.Javascript object>"
            ]
          },
          "metadata": {
            "tags": [
              "id96-0-0",
              "outputarea_id96"
            ]
          }
        },
        {
          "output_type": "display_data",
          "data": {
            "application/javascript": [
              "window[\"f087bb0a-77d0-11eb-844c-0242ac1c0002\"] = google.colab.output.setActiveOutputArea(window[\"f06ee508-77d0-11eb-844c-0242ac1c0002\"]);\n",
              "//# sourceURL=js_1e5b4ca131"
            ],
            "text/plain": [
              "<IPython.core.display.Javascript object>"
            ]
          },
          "metadata": {
            "tags": [
              "id96-0-0",
              "outputarea_id96"
            ]
          }
        },
        {
          "output_type": "display_data",
          "data": {
            "application/javascript": [
              "window[\"f088ea7a-77d0-11eb-844c-0242ac1c0002\"] = google.colab.output.getActiveOutputArea();\n",
              "//# sourceURL=js_9d4f480e4d"
            ],
            "text/plain": [
              "<IPython.core.display.Javascript object>"
            ]
          },
          "metadata": {
            "tags": [
              "id96-0-0",
              "outputarea_id96"
            ]
          }
        },
        {
          "output_type": "display_data",
          "data": {
            "application/javascript": [
              "window[\"f0892c2e-77d0-11eb-844c-0242ac1c0002\"] = document.querySelector(\"#id96-0-0\");\n",
              "//# sourceURL=js_9049cea63f"
            ],
            "text/plain": [
              "<IPython.core.display.Javascript object>"
            ]
          },
          "metadata": {
            "tags": [
              "id96-0-0",
              "outputarea_id96"
            ]
          }
        },
        {
          "output_type": "display_data",
          "data": {
            "application/javascript": [
              "window[\"f0896c98-77d0-11eb-844c-0242ac1c0002\"] = google.colab.output.setActiveOutputArea(window[\"f0892c2e-77d0-11eb-844c-0242ac1c0002\"]);\n",
              "//# sourceURL=js_597e124c0e"
            ],
            "text/plain": [
              "<IPython.core.display.Javascript object>"
            ]
          },
          "metadata": {
            "tags": [
              "id96-0-0",
              "outputarea_id96"
            ]
          }
        },
        {
          "output_type": "display_data",
          "data": {
            "image/png": "[encoded data removed]",
            "text/plain": [
              "<Figure size 432x288 with 1 Axes>"
            ]
          },
          "metadata": {
            "tags": [
              "id96-0-0",
              "outputarea_id96",
              "user_output"
            ],
            "needs_background": "light"
          }
        },
        {
          "output_type": "display_data",
          "data": {
            "application/javascript": [
              "window[\"f0a4a102-77d0-11eb-844c-0242ac1c0002\"] = google.colab.output.setActiveOutputArea(window[\"f088ea7a-77d0-11eb-844c-0242ac1c0002\"]);\n",
              "//# sourceURL=js_f98ad2944f"
            ],
            "text/plain": [
              "<IPython.core.display.Javascript object>"
            ]
          },
          "metadata": {
            "tags": [
              "id96-0-0",
              "outputarea_id96"
            ]
          }
        },
        {
          "output_type": "stream",
          "text": [
            "Agent has reached the Goal position\n",
            "At the end of the run, the agent is at state 15 & got a total reward of 25\n"
          ],
          "name": "stdout"
        }
      ]
    },
    {
      "cell_type": "markdown",
      "metadata": {
        "id": "AKMY1JX9c_jK"
      },
      "source": [
        "*Running the random agent in the Stochastic Environment*"
      ]
    },
    {
      "cell_type": "code",
      "metadata": {
        "colab": {
          "base_uri": "https://localhost:8080/",
          "height": 307
        },
        "id": "w23Qr8k6ca_G",
        "outputId": "a6593890-f8cc-4963-a7b8-3170140a1e1e"
      },
      "source": [
        "environment= StochasticEnvironment()\n",
        "random_agent= RandomAgent(env= environment)\n",
        "state= environment.reset()\n",
        "done= False\n",
        "\n",
        "grid= widgets.Grid(1, 1)\n",
        "\n",
        "total_reward= 0\n",
        "while not done:\n",
        "  action= random_agent.step(state= state)\n",
        "  next_state, reward, done, info= environment.step(action= action)\n",
        "  # print('By taking action \\'{}\\' the agent moved from {} to {} and got reward {}'.format(ACTION_LOOKUP[action], state, next_state, reward))\n",
        "  state= next_state\n",
        "  total_reward += reward\n",
        "\n",
        "  with grid.output_to(0, 0):\n",
        "    grid.clear_cell()\n",
        "    environment.render()\n",
        "    # time.sleep(1)\n",
        "\n",
        "if done == True and environment.timestep < MAX_TIMESTEPS:\n",
        "  print('Agent has reached the Goal position')\n",
        "elif done == True and environment.timestep == MAX_TIMESTEPS:\n",
        "  print('Agent ran out of time')\n",
        "\n",
        "print('At the end of the run, the agent got is at state {} & a total reward of {}'.format(state, total_reward))"
      ],
      "execution_count": null,
      "outputs": [
        {
          "output_type": "display_data",
          "data": {
            "text/html": [
              "<style>\n",
              "       table#id98, #id98 > tbody > tr > th, #id98 > tbody > tr > td {\n",
              "         border: 1px solid lightgray;\n",
              "         border-collapse:collapse;\n",
              "         \n",
              "        }</style>"
            ],
            "text/plain": [
              "<IPython.core.display.HTML object>"
            ]
          },
          "metadata": {
            "tags": [
              "outputarea_id98"
            ]
          }
        },
        {
          "output_type": "display_data",
          "data": {
            "text/html": [
              "<table id=id98><tr><td id=id98-0-0></td></tr></table>"
            ],
            "text/plain": [
              "<IPython.core.display.HTML object>"
            ]
          },
          "metadata": {
            "tags": [
              "outputarea_id98"
            ]
          }
        },
        {
          "output_type": "display_data",
          "data": {
            "application/javascript": [
              "window[\"f0ab09e8-77d0-11eb-844c-0242ac1c0002\"] = google.colab.output.getActiveOutputArea();\n",
              "//# sourceURL=js_fc84842dff"
            ],
            "text/plain": [
              "<IPython.core.display.Javascript object>"
            ]
          },
          "metadata": {
            "tags": [
              "id98-0-0",
              "outputarea_id98"
            ]
          }
        },
        {
          "output_type": "display_data",
          "data": {
            "application/javascript": [
              "window[\"f0ab5b82-77d0-11eb-844c-0242ac1c0002\"] = document.querySelector(\"#id98-0-0\");\n",
              "//# sourceURL=js_1971d9ff4b"
            ],
            "text/plain": [
              "<IPython.core.display.Javascript object>"
            ]
          },
          "metadata": {
            "tags": [
              "id98-0-0",
              "outputarea_id98"
            ]
          }
        },
        {
          "output_type": "display_data",
          "data": {
            "application/javascript": [
              "window[\"f0aba0e2-77d0-11eb-844c-0242ac1c0002\"] = google.colab.output.setActiveOutputArea(window[\"f0ab5b82-77d0-11eb-844c-0242ac1c0002\"]);\n",
              "//# sourceURL=js_b1e71b2659"
            ],
            "text/plain": [
              "<IPython.core.display.Javascript object>"
            ]
          },
          "metadata": {
            "tags": [
              "id98-0-0",
              "outputarea_id98"
            ]
          }
        },
        {
          "output_type": "display_data",
          "data": {
            "application/javascript": [
              "window[\"f0c66a62-77d0-11eb-844c-0242ac1c0002\"] = google.colab.output.setActiveOutputArea(window[\"f0ab09e8-77d0-11eb-844c-0242ac1c0002\"]);\n",
              "//# sourceURL=js_523297d1f6"
            ],
            "text/plain": [
              "<IPython.core.display.Javascript object>"
            ]
          },
          "metadata": {
            "tags": [
              "id98-0-0",
              "outputarea_id98"
            ]
          }
        },
        {
          "output_type": "display_data",
          "data": {
            "application/javascript": [
              "window[\"f0c80296-77d0-11eb-844c-0242ac1c0002\"] = google.colab.output.getActiveOutputArea();\n",
              "//# sourceURL=js_c55afbb4a2"
            ],
            "text/plain": [
              "<IPython.core.display.Javascript object>"
            ]
          },
          "metadata": {
            "tags": [
              "id98-0-0",
              "outputarea_id98"
            ]
          }
        },
        {
          "output_type": "display_data",
          "data": {
            "application/javascript": [
              "window[\"f0c846e8-77d0-11eb-844c-0242ac1c0002\"] = document.querySelector(\"#id98-0-0\");\n",
              "//# sourceURL=js_4372c4614f"
            ],
            "text/plain": [
              "<IPython.core.display.Javascript object>"
            ]
          },
          "metadata": {
            "tags": [
              "id98-0-0",
              "outputarea_id98"
            ]
          }
        },
        {
          "output_type": "display_data",
          "data": {
            "application/javascript": [
              "window[\"f0c8878e-77d0-11eb-844c-0242ac1c0002\"] = google.colab.output.setActiveOutputArea(window[\"f0c846e8-77d0-11eb-844c-0242ac1c0002\"]);\n",
              "//# sourceURL=js_e537fc9b68"
            ],
            "text/plain": [
              "<IPython.core.display.Javascript object>"
            ]
          },
          "metadata": {
            "tags": [
              "id98-0-0",
              "outputarea_id98"
            ]
          }
        },
        {
          "output_type": "display_data",
          "data": {
            "application/javascript": [
              "window[\"f0e020a6-77d0-11eb-844c-0242ac1c0002\"] = google.colab.output.setActiveOutputArea(window[\"f0c80296-77d0-11eb-844c-0242ac1c0002\"]);\n",
              "//# sourceURL=js_a7ea262677"
            ],
            "text/plain": [
              "<IPython.core.display.Javascript object>"
            ]
          },
          "metadata": {
            "tags": [
              "id98-0-0",
              "outputarea_id98"
            ]
          }
        },
        {
          "output_type": "display_data",
          "data": {
            "application/javascript": [
              "window[\"f0e16894-77d0-11eb-844c-0242ac1c0002\"] = google.colab.output.getActiveOutputArea();\n",
              "//# sourceURL=js_e97c4c4e99"
            ],
            "text/plain": [
              "<IPython.core.display.Javascript object>"
            ]
          },
          "metadata": {
            "tags": [
              "id98-0-0",
              "outputarea_id98"
            ]
          }
        },
        {
          "output_type": "display_data",
          "data": {
            "application/javascript": [
              "window[\"f0e1a930-77d0-11eb-844c-0242ac1c0002\"] = document.querySelector(\"#id98-0-0\");\n",
              "//# sourceURL=js_10b1485bcd"
            ],
            "text/plain": [
              "<IPython.core.display.Javascript object>"
            ]
          },
          "metadata": {
            "tags": [
              "id98-0-0",
              "outputarea_id98"
            ]
          }
        },
        {
          "output_type": "display_data",
          "data": {
            "application/javascript": [
              "window[\"f0e1efc6-77d0-11eb-844c-0242ac1c0002\"] = google.colab.output.setActiveOutputArea(window[\"f0e1a930-77d0-11eb-844c-0242ac1c0002\"]);\n",
              "//# sourceURL=js_633eb5f4cf"
            ],
            "text/plain": [
              "<IPython.core.display.Javascript object>"
            ]
          },
          "metadata": {
            "tags": [
              "id98-0-0",
              "outputarea_id98"
            ]
          }
        },
        {
          "output_type": "display_data",
          "data": {
            "application/javascript": [
              "window[\"f0fbe28c-77d0-11eb-844c-0242ac1c0002\"] = google.colab.output.setActiveOutputArea(window[\"f0e16894-77d0-11eb-844c-0242ac1c0002\"]);\n",
              "//# sourceURL=js_113dabc113"
            ],
            "text/plain": [
              "<IPython.core.display.Javascript object>"
            ]
          },
          "metadata": {
            "tags": [
              "id98-0-0",
              "outputarea_id98"
            ]
          }
        },
        {
          "output_type": "display_data",
          "data": {
            "application/javascript": [
              "window[\"f0fe5986-77d0-11eb-844c-0242ac1c0002\"] = google.colab.output.getActiveOutputArea();\n",
              "//# sourceURL=js_bf0fba8139"
            ],
            "text/plain": [
              "<IPython.core.display.Javascript object>"
            ]
          },
          "metadata": {
            "tags": [
              "id98-0-0",
              "outputarea_id98"
            ]
          }
        },
        {
          "output_type": "display_data",
          "data": {
            "application/javascript": [
              "window[\"f0fea0da-77d0-11eb-844c-0242ac1c0002\"] = document.querySelector(\"#id98-0-0\");\n",
              "//# sourceURL=js_4de5267a6c"
            ],
            "text/plain": [
              "<IPython.core.display.Javascript object>"
            ]
          },
          "metadata": {
            "tags": [
              "id98-0-0",
              "outputarea_id98"
            ]
          }
        },
        {
          "output_type": "display_data",
          "data": {
            "application/javascript": [
              "window[\"f0fee4b4-77d0-11eb-844c-0242ac1c0002\"] = google.colab.output.setActiveOutputArea(window[\"f0fea0da-77d0-11eb-844c-0242ac1c0002\"]);\n",
              "//# sourceURL=js_a8dcc3a14b"
            ],
            "text/plain": [
              "<IPython.core.display.Javascript object>"
            ]
          },
          "metadata": {
            "tags": [
              "id98-0-0",
              "outputarea_id98"
            ]
          }
        },
        {
          "output_type": "display_data",
          "data": {
            "application/javascript": [
              "window[\"f11780f0-77d0-11eb-844c-0242ac1c0002\"] = google.colab.output.setActiveOutputArea(window[\"f0fe5986-77d0-11eb-844c-0242ac1c0002\"]);\n",
              "//# sourceURL=js_c4ee2abe46"
            ],
            "text/plain": [
              "<IPython.core.display.Javascript object>"
            ]
          },
          "metadata": {
            "tags": [
              "id98-0-0",
              "outputarea_id98"
            ]
          }
        },
        {
          "output_type": "display_data",
          "data": {
            "application/javascript": [
              "window[\"f118efe4-77d0-11eb-844c-0242ac1c0002\"] = google.colab.output.getActiveOutputArea();\n",
              "//# sourceURL=js_a53fbd947e"
            ],
            "text/plain": [
              "<IPython.core.display.Javascript object>"
            ]
          },
          "metadata": {
            "tags": [
              "id98-0-0",
              "outputarea_id98"
            ]
          }
        },
        {
          "output_type": "display_data",
          "data": {
            "application/javascript": [
              "window[\"f11937f6-77d0-11eb-844c-0242ac1c0002\"] = document.querySelector(\"#id98-0-0\");\n",
              "//# sourceURL=js_bc4cba0fb9"
            ],
            "text/plain": [
              "<IPython.core.display.Javascript object>"
            ]
          },
          "metadata": {
            "tags": [
              "id98-0-0",
              "outputarea_id98"
            ]
          }
        },
        {
          "output_type": "display_data",
          "data": {
            "application/javascript": [
              "window[\"f1197d2e-77d0-11eb-844c-0242ac1c0002\"] = google.colab.output.setActiveOutputArea(window[\"f11937f6-77d0-11eb-844c-0242ac1c0002\"]);\n",
              "//# sourceURL=js_5049b6eee3"
            ],
            "text/plain": [
              "<IPython.core.display.Javascript object>"
            ]
          },
          "metadata": {
            "tags": [
              "id98-0-0",
              "outputarea_id98"
            ]
          }
        },
        {
          "output_type": "display_data",
          "data": {
            "application/javascript": [
              "window[\"f1316092-77d0-11eb-844c-0242ac1c0002\"] = google.colab.output.setActiveOutputArea(window[\"f118efe4-77d0-11eb-844c-0242ac1c0002\"]);\n",
              "//# sourceURL=js_b6e7dec9ac"
            ],
            "text/plain": [
              "<IPython.core.display.Javascript object>"
            ]
          },
          "metadata": {
            "tags": [
              "id98-0-0",
              "outputarea_id98"
            ]
          }
        },
        {
          "output_type": "display_data",
          "data": {
            "application/javascript": [
              "window[\"f132b2d0-77d0-11eb-844c-0242ac1c0002\"] = google.colab.output.getActiveOutputArea();\n",
              "//# sourceURL=js_eb5ffe9a88"
            ],
            "text/plain": [
              "<IPython.core.display.Javascript object>"
            ]
          },
          "metadata": {
            "tags": [
              "id98-0-0",
              "outputarea_id98"
            ]
          }
        },
        {
          "output_type": "display_data",
          "data": {
            "application/javascript": [
              "window[\"f132fb6e-77d0-11eb-844c-0242ac1c0002\"] = document.querySelector(\"#id98-0-0\");\n",
              "//# sourceURL=js_7e67abe595"
            ],
            "text/plain": [
              "<IPython.core.display.Javascript object>"
            ]
          },
          "metadata": {
            "tags": [
              "id98-0-0",
              "outputarea_id98"
            ]
          }
        },
        {
          "output_type": "display_data",
          "data": {
            "application/javascript": [
              "window[\"f1333d2c-77d0-11eb-844c-0242ac1c0002\"] = google.colab.output.setActiveOutputArea(window[\"f132fb6e-77d0-11eb-844c-0242ac1c0002\"]);\n",
              "//# sourceURL=js_12f5950f9e"
            ],
            "text/plain": [
              "<IPython.core.display.Javascript object>"
            ]
          },
          "metadata": {
            "tags": [
              "id98-0-0",
              "outputarea_id98"
            ]
          }
        },
        {
          "output_type": "display_data",
          "data": {
            "application/javascript": [
              "window[\"f14b2c20-77d0-11eb-844c-0242ac1c0002\"] = google.colab.output.setActiveOutputArea(window[\"f132b2d0-77d0-11eb-844c-0242ac1c0002\"]);\n",
              "//# sourceURL=js_e2bd4133f9"
            ],
            "text/plain": [
              "<IPython.core.display.Javascript object>"
            ]
          },
          "metadata": {
            "tags": [
              "id98-0-0",
              "outputarea_id98"
            ]
          }
        },
        {
          "output_type": "display_data",
          "data": {
            "application/javascript": [
              "window[\"f14c8f5c-77d0-11eb-844c-0242ac1c0002\"] = google.colab.output.getActiveOutputArea();\n",
              "//# sourceURL=js_d07f5dafa9"
            ],
            "text/plain": [
              "<IPython.core.display.Javascript object>"
            ]
          },
          "metadata": {
            "tags": [
              "id98-0-0",
              "outputarea_id98"
            ]
          }
        },
        {
          "output_type": "display_data",
          "data": {
            "application/javascript": [
              "window[\"f14cdd54-77d0-11eb-844c-0242ac1c0002\"] = document.querySelector(\"#id98-0-0\");\n",
              "//# sourceURL=js_9d1f4bfad1"
            ],
            "text/plain": [
              "<IPython.core.display.Javascript object>"
            ]
          },
          "metadata": {
            "tags": [
              "id98-0-0",
              "outputarea_id98"
            ]
          }
        },
        {
          "output_type": "display_data",
          "data": {
            "application/javascript": [
              "window[\"f14d2160-77d0-11eb-844c-0242ac1c0002\"] = google.colab.output.setActiveOutputArea(window[\"f14cdd54-77d0-11eb-844c-0242ac1c0002\"]);\n",
              "//# sourceURL=js_916fa3a3af"
            ],
            "text/plain": [
              "<IPython.core.display.Javascript object>"
            ]
          },
          "metadata": {
            "tags": [
              "id98-0-0",
              "outputarea_id98"
            ]
          }
        },
        {
          "output_type": "display_data",
          "data": {
            "application/javascript": [
              "window[\"f17394a8-77d0-11eb-844c-0242ac1c0002\"] = google.colab.output.setActiveOutputArea(window[\"f14c8f5c-77d0-11eb-844c-0242ac1c0002\"]);\n",
              "//# sourceURL=js_7c72ab2fd2"
            ],
            "text/plain": [
              "<IPython.core.display.Javascript object>"
            ]
          },
          "metadata": {
            "tags": [
              "id98-0-0",
              "outputarea_id98"
            ]
          }
        },
        {
          "output_type": "display_data",
          "data": {
            "application/javascript": [
              "window[\"f174ffa0-77d0-11eb-844c-0242ac1c0002\"] = google.colab.output.getActiveOutputArea();\n",
              "//# sourceURL=js_880a069b18"
            ],
            "text/plain": [
              "<IPython.core.display.Javascript object>"
            ]
          },
          "metadata": {
            "tags": [
              "id98-0-0",
              "outputarea_id98"
            ]
          }
        },
        {
          "output_type": "display_data",
          "data": {
            "application/javascript": [
              "window[\"f17549b0-77d0-11eb-844c-0242ac1c0002\"] = document.querySelector(\"#id98-0-0\");\n",
              "//# sourceURL=js_c89b0eaf9f"
            ],
            "text/plain": [
              "<IPython.core.display.Javascript object>"
            ]
          },
          "metadata": {
            "tags": [
              "id98-0-0",
              "outputarea_id98"
            ]
          }
        },
        {
          "output_type": "display_data",
          "data": {
            "application/javascript": [
              "window[\"f17595be-77d0-11eb-844c-0242ac1c0002\"] = google.colab.output.setActiveOutputArea(window[\"f17549b0-77d0-11eb-844c-0242ac1c0002\"]);\n",
              "//# sourceURL=js_61fe4bbf7d"
            ],
            "text/plain": [
              "<IPython.core.display.Javascript object>"
            ]
          },
          "metadata": {
            "tags": [
              "id98-0-0",
              "outputarea_id98"
            ]
          }
        },
        {
          "output_type": "display_data",
          "data": {
            "application/javascript": [
              "window[\"f18f9130-77d0-11eb-844c-0242ac1c0002\"] = google.colab.output.setActiveOutputArea(window[\"f174ffa0-77d0-11eb-844c-0242ac1c0002\"]);\n",
              "//# sourceURL=js_c4cdcdf2b7"
            ],
            "text/plain": [
              "<IPython.core.display.Javascript object>"
            ]
          },
          "metadata": {
            "tags": [
              "id98-0-0",
              "outputarea_id98"
            ]
          }
        },
        {
          "output_type": "display_data",
          "data": {
            "application/javascript": [
              "window[\"f1914750-77d0-11eb-844c-0242ac1c0002\"] = google.colab.output.getActiveOutputArea();\n",
              "//# sourceURL=js_d41cf16434"
            ],
            "text/plain": [
              "<IPython.core.display.Javascript object>"
            ]
          },
          "metadata": {
            "tags": [
              "id98-0-0",
              "outputarea_id98"
            ]
          }
        },
        {
          "output_type": "display_data",
          "data": {
            "application/javascript": [
              "window[\"f19189fe-77d0-11eb-844c-0242ac1c0002\"] = document.querySelector(\"#id98-0-0\");\n",
              "//# sourceURL=js_2c047370e0"
            ],
            "text/plain": [
              "<IPython.core.display.Javascript object>"
            ]
          },
          "metadata": {
            "tags": [
              "id98-0-0",
              "outputarea_id98"
            ]
          }
        },
        {
          "output_type": "display_data",
          "data": {
            "application/javascript": [
              "window[\"f191c98c-77d0-11eb-844c-0242ac1c0002\"] = google.colab.output.setActiveOutputArea(window[\"f19189fe-77d0-11eb-844c-0242ac1c0002\"]);\n",
              "//# sourceURL=js_7ab10072e0"
            ],
            "text/plain": [
              "<IPython.core.display.Javascript object>"
            ]
          },
          "metadata": {
            "tags": [
              "id98-0-0",
              "outputarea_id98"
            ]
          }
        },
        {
          "output_type": "display_data",
          "data": {
            "application/javascript": [
              "window[\"f1ac028e-77d0-11eb-844c-0242ac1c0002\"] = google.colab.output.setActiveOutputArea(window[\"f1914750-77d0-11eb-844c-0242ac1c0002\"]);\n",
              "//# sourceURL=js_a2f9138b45"
            ],
            "text/plain": [
              "<IPython.core.display.Javascript object>"
            ]
          },
          "metadata": {
            "tags": [
              "id98-0-0",
              "outputarea_id98"
            ]
          }
        },
        {
          "output_type": "display_data",
          "data": {
            "application/javascript": [
              "window[\"f1ad3b86-77d0-11eb-844c-0242ac1c0002\"] = google.colab.output.getActiveOutputArea();\n",
              "//# sourceURL=js_9fd10a67d1"
            ],
            "text/plain": [
              "<IPython.core.display.Javascript object>"
            ]
          },
          "metadata": {
            "tags": [
              "id98-0-0",
              "outputarea_id98"
            ]
          }
        },
        {
          "output_type": "display_data",
          "data": {
            "application/javascript": [
              "window[\"f1ad8488-77d0-11eb-844c-0242ac1c0002\"] = document.querySelector(\"#id98-0-0\");\n",
              "//# sourceURL=js_598d21d067"
            ],
            "text/plain": [
              "<IPython.core.display.Javascript object>"
            ]
          },
          "metadata": {
            "tags": [
              "id98-0-0",
              "outputarea_id98"
            ]
          }
        },
        {
          "output_type": "display_data",
          "data": {
            "application/javascript": [
              "window[\"f1adc704-77d0-11eb-844c-0242ac1c0002\"] = google.colab.output.setActiveOutputArea(window[\"f1ad8488-77d0-11eb-844c-0242ac1c0002\"]);\n",
              "//# sourceURL=js_83622a78cf"
            ],
            "text/plain": [
              "<IPython.core.display.Javascript object>"
            ]
          },
          "metadata": {
            "tags": [
              "id98-0-0",
              "outputarea_id98"
            ]
          }
        },
        {
          "output_type": "display_data",
          "data": {
            "application/javascript": [
              "window[\"f1c70854-77d0-11eb-844c-0242ac1c0002\"] = google.colab.output.setActiveOutputArea(window[\"f1ad3b86-77d0-11eb-844c-0242ac1c0002\"]);\n",
              "//# sourceURL=js_0e4c701f3c"
            ],
            "text/plain": [
              "<IPython.core.display.Javascript object>"
            ]
          },
          "metadata": {
            "tags": [
              "id98-0-0",
              "outputarea_id98"
            ]
          }
        },
        {
          "output_type": "display_data",
          "data": {
            "application/javascript": [
              "window[\"f1c8c6bc-77d0-11eb-844c-0242ac1c0002\"] = google.colab.output.getActiveOutputArea();\n",
              "//# sourceURL=js_f935f1b34f"
            ],
            "text/plain": [
              "<IPython.core.display.Javascript object>"
            ]
          },
          "metadata": {
            "tags": [
              "id98-0-0",
              "outputarea_id98"
            ]
          }
        },
        {
          "output_type": "display_data",
          "data": {
            "application/javascript": [
              "window[\"f1c90bfe-77d0-11eb-844c-0242ac1c0002\"] = document.querySelector(\"#id98-0-0\");\n",
              "//# sourceURL=js_2c7badccc0"
            ],
            "text/plain": [
              "<IPython.core.display.Javascript object>"
            ]
          },
          "metadata": {
            "tags": [
              "id98-0-0",
              "outputarea_id98"
            ]
          }
        },
        {
          "output_type": "display_data",
          "data": {
            "application/javascript": [
              "window[\"f1c97fc6-77d0-11eb-844c-0242ac1c0002\"] = google.colab.output.setActiveOutputArea(window[\"f1c90bfe-77d0-11eb-844c-0242ac1c0002\"]);\n",
              "//# sourceURL=js_63929483ea"
            ],
            "text/plain": [
              "<IPython.core.display.Javascript object>"
            ]
          },
          "metadata": {
            "tags": [
              "id98-0-0",
              "outputarea_id98"
            ]
          }
        },
        {
          "output_type": "display_data",
          "data": {
            "application/javascript": [
              "window[\"f1e4dfbe-77d0-11eb-844c-0242ac1c0002\"] = google.colab.output.setActiveOutputArea(window[\"f1c8c6bc-77d0-11eb-844c-0242ac1c0002\"]);\n",
              "//# sourceURL=js_9248c8b4cc"
            ],
            "text/plain": [
              "<IPython.core.display.Javascript object>"
            ]
          },
          "metadata": {
            "tags": [
              "id98-0-0",
              "outputarea_id98"
            ]
          }
        },
        {
          "output_type": "display_data",
          "data": {
            "application/javascript": [
              "window[\"f1e61960-77d0-11eb-844c-0242ac1c0002\"] = google.colab.output.getActiveOutputArea();\n",
              "//# sourceURL=js_10e83d49ff"
            ],
            "text/plain": [
              "<IPython.core.display.Javascript object>"
            ]
          },
          "metadata": {
            "tags": [
              "id98-0-0",
              "outputarea_id98"
            ]
          }
        },
        {
          "output_type": "display_data",
          "data": {
            "application/javascript": [
              "window[\"f1e65baa-77d0-11eb-844c-0242ac1c0002\"] = document.querySelector(\"#id98-0-0\");\n",
              "//# sourceURL=js_39e973b637"
            ],
            "text/plain": [
              "<IPython.core.display.Javascript object>"
            ]
          },
          "metadata": {
            "tags": [
              "id98-0-0",
              "outputarea_id98"
            ]
          }
        },
        {
          "output_type": "display_data",
          "data": {
            "application/javascript": [
              "window[\"f1e69b2e-77d0-11eb-844c-0242ac1c0002\"] = google.colab.output.setActiveOutputArea(window[\"f1e65baa-77d0-11eb-844c-0242ac1c0002\"]);\n",
              "//# sourceURL=js_3f9845a9ad"
            ],
            "text/plain": [
              "<IPython.core.display.Javascript object>"
            ]
          },
          "metadata": {
            "tags": [
              "id98-0-0",
              "outputarea_id98"
            ]
          }
        },
        {
          "output_type": "display_data",
          "data": {
            "application/javascript": [
              "window[\"f1ffa740-77d0-11eb-844c-0242ac1c0002\"] = google.colab.output.setActiveOutputArea(window[\"f1e61960-77d0-11eb-844c-0242ac1c0002\"]);\n",
              "//# sourceURL=js_6f04970a22"
            ],
            "text/plain": [
              "<IPython.core.display.Javascript object>"
            ]
          },
          "metadata": {
            "tags": [
              "id98-0-0",
              "outputarea_id98"
            ]
          }
        },
        {
          "output_type": "display_data",
          "data": {
            "application/javascript": [
              "window[\"f200eb5a-77d0-11eb-844c-0242ac1c0002\"] = google.colab.output.getActiveOutputArea();\n",
              "//# sourceURL=js_bfd6fb937c"
            ],
            "text/plain": [
              "<IPython.core.display.Javascript object>"
            ]
          },
          "metadata": {
            "tags": [
              "id98-0-0",
              "outputarea_id98"
            ]
          }
        },
        {
          "output_type": "display_data",
          "data": {
            "application/javascript": [
              "window[\"f20129ee-77d0-11eb-844c-0242ac1c0002\"] = document.querySelector(\"#id98-0-0\");\n",
              "//# sourceURL=js_3571ece15f"
            ],
            "text/plain": [
              "<IPython.core.display.Javascript object>"
            ]
          },
          "metadata": {
            "tags": [
              "id98-0-0",
              "outputarea_id98"
            ]
          }
        },
        {
          "output_type": "display_data",
          "data": {
            "application/javascript": [
              "window[\"f20169ea-77d0-11eb-844c-0242ac1c0002\"] = google.colab.output.setActiveOutputArea(window[\"f20129ee-77d0-11eb-844c-0242ac1c0002\"]);\n",
              "//# sourceURL=js_4ef1efba00"
            ],
            "text/plain": [
              "<IPython.core.display.Javascript object>"
            ]
          },
          "metadata": {
            "tags": [
              "id98-0-0",
              "outputarea_id98"
            ]
          }
        },
        {
          "output_type": "display_data",
          "data": {
            "application/javascript": [
              "window[\"f21bb2d2-77d0-11eb-844c-0242ac1c0002\"] = google.colab.output.setActiveOutputArea(window[\"f200eb5a-77d0-11eb-844c-0242ac1c0002\"]);\n",
              "//# sourceURL=js_c66ed4b6e8"
            ],
            "text/plain": [
              "<IPython.core.display.Javascript object>"
            ]
          },
          "metadata": {
            "tags": [
              "id98-0-0",
              "outputarea_id98"
            ]
          }
        },
        {
          "output_type": "display_data",
          "data": {
            "application/javascript": [
              "window[\"f21ce4b8-77d0-11eb-844c-0242ac1c0002\"] = google.colab.output.getActiveOutputArea();\n",
              "//# sourceURL=js_bb76f54ffc"
            ],
            "text/plain": [
              "<IPython.core.display.Javascript object>"
            ]
          },
          "metadata": {
            "tags": [
              "id98-0-0",
              "outputarea_id98"
            ]
          }
        },
        {
          "output_type": "display_data",
          "data": {
            "application/javascript": [
              "window[\"f21d28ba-77d0-11eb-844c-0242ac1c0002\"] = document.querySelector(\"#id98-0-0\");\n",
              "//# sourceURL=js_00c50046a4"
            ],
            "text/plain": [
              "<IPython.core.display.Javascript object>"
            ]
          },
          "metadata": {
            "tags": [
              "id98-0-0",
              "outputarea_id98"
            ]
          }
        },
        {
          "output_type": "display_data",
          "data": {
            "application/javascript": [
              "window[\"f21d6ae6-77d0-11eb-844c-0242ac1c0002\"] = google.colab.output.setActiveOutputArea(window[\"f21d28ba-77d0-11eb-844c-0242ac1c0002\"]);\n",
              "//# sourceURL=js_5fbb522058"
            ],
            "text/plain": [
              "<IPython.core.display.Javascript object>"
            ]
          },
          "metadata": {
            "tags": [
              "id98-0-0",
              "outputarea_id98"
            ]
          }
        },
        {
          "output_type": "display_data",
          "data": {
            "application/javascript": [
              "window[\"f238315a-77d0-11eb-844c-0242ac1c0002\"] = google.colab.output.setActiveOutputArea(window[\"f21ce4b8-77d0-11eb-844c-0242ac1c0002\"]);\n",
              "//# sourceURL=js_2185413b3e"
            ],
            "text/plain": [
              "<IPython.core.display.Javascript object>"
            ]
          },
          "metadata": {
            "tags": [
              "id98-0-0",
              "outputarea_id98"
            ]
          }
        },
        {
          "output_type": "display_data",
          "data": {
            "application/javascript": [
              "window[\"f2396124-77d0-11eb-844c-0242ac1c0002\"] = google.colab.output.getActiveOutputArea();\n",
              "//# sourceURL=js_af65149676"
            ],
            "text/plain": [
              "<IPython.core.display.Javascript object>"
            ]
          },
          "metadata": {
            "tags": [
              "id98-0-0",
              "outputarea_id98"
            ]
          }
        },
        {
          "output_type": "display_data",
          "data": {
            "application/javascript": [
              "window[\"f239a300-77d0-11eb-844c-0242ac1c0002\"] = document.querySelector(\"#id98-0-0\");\n",
              "//# sourceURL=js_33781edb85"
            ],
            "text/plain": [
              "<IPython.core.display.Javascript object>"
            ]
          },
          "metadata": {
            "tags": [
              "id98-0-0",
              "outputarea_id98"
            ]
          }
        },
        {
          "output_type": "display_data",
          "data": {
            "application/javascript": [
              "window[\"f239e536-77d0-11eb-844c-0242ac1c0002\"] = google.colab.output.setActiveOutputArea(window[\"f239a300-77d0-11eb-844c-0242ac1c0002\"]);\n",
              "//# sourceURL=js_75f87a41a6"
            ],
            "text/plain": [
              "<IPython.core.display.Javascript object>"
            ]
          },
          "metadata": {
            "tags": [
              "id98-0-0",
              "outputarea_id98"
            ]
          }
        },
        {
          "output_type": "display_data",
          "data": {
            "application/javascript": [
              "window[\"f2553f70-77d0-11eb-844c-0242ac1c0002\"] = google.colab.output.setActiveOutputArea(window[\"f2396124-77d0-11eb-844c-0242ac1c0002\"]);\n",
              "//# sourceURL=js_d56c6f6d97"
            ],
            "text/plain": [
              "<IPython.core.display.Javascript object>"
            ]
          },
          "metadata": {
            "tags": [
              "id98-0-0",
              "outputarea_id98"
            ]
          }
        },
        {
          "output_type": "display_data",
          "data": {
            "application/javascript": [
              "window[\"f25694a6-77d0-11eb-844c-0242ac1c0002\"] = google.colab.output.getActiveOutputArea();\n",
              "//# sourceURL=js_051a4c0a9c"
            ],
            "text/plain": [
              "<IPython.core.display.Javascript object>"
            ]
          },
          "metadata": {
            "tags": [
              "id98-0-0",
              "outputarea_id98"
            ]
          }
        },
        {
          "output_type": "display_data",
          "data": {
            "application/javascript": [
              "window[\"f256d146-77d0-11eb-844c-0242ac1c0002\"] = document.querySelector(\"#id98-0-0\");\n",
              "//# sourceURL=js_8f11872d9f"
            ],
            "text/plain": [
              "<IPython.core.display.Javascript object>"
            ]
          },
          "metadata": {
            "tags": [
              "id98-0-0",
              "outputarea_id98"
            ]
          }
        },
        {
          "output_type": "display_data",
          "data": {
            "application/javascript": [
              "window[\"f2570a3a-77d0-11eb-844c-0242ac1c0002\"] = google.colab.output.setActiveOutputArea(window[\"f256d146-77d0-11eb-844c-0242ac1c0002\"]);\n",
              "//# sourceURL=js_228e6fa8a5"
            ],
            "text/plain": [
              "<IPython.core.display.Javascript object>"
            ]
          },
          "metadata": {
            "tags": [
              "id98-0-0",
              "outputarea_id98"
            ]
          }
        },
        {
          "output_type": "display_data",
          "data": {
            "application/javascript": [
              "window[\"f2725f60-77d0-11eb-844c-0242ac1c0002\"] = google.colab.output.setActiveOutputArea(window[\"f25694a6-77d0-11eb-844c-0242ac1c0002\"]);\n",
              "//# sourceURL=js_6326de8975"
            ],
            "text/plain": [
              "<IPython.core.display.Javascript object>"
            ]
          },
          "metadata": {
            "tags": [
              "id98-0-0",
              "outputarea_id98"
            ]
          }
        },
        {
          "output_type": "display_data",
          "data": {
            "application/javascript": [
              "window[\"f27529d4-77d0-11eb-844c-0242ac1c0002\"] = google.colab.output.getActiveOutputArea();\n",
              "//# sourceURL=js_5ce49a047a"
            ],
            "text/plain": [
              "<IPython.core.display.Javascript object>"
            ]
          },
          "metadata": {
            "tags": [
              "id98-0-0",
              "outputarea_id98"
            ]
          }
        },
        {
          "output_type": "display_data",
          "data": {
            "application/javascript": [
              "window[\"f2759e8c-77d0-11eb-844c-0242ac1c0002\"] = document.querySelector(\"#id98-0-0\");\n",
              "//# sourceURL=js_aaa7137c20"
            ],
            "text/plain": [
              "<IPython.core.display.Javascript object>"
            ]
          },
          "metadata": {
            "tags": [
              "id98-0-0",
              "outputarea_id98"
            ]
          }
        },
        {
          "output_type": "display_data",
          "data": {
            "application/javascript": [
              "window[\"f2760818-77d0-11eb-844c-0242ac1c0002\"] = google.colab.output.setActiveOutputArea(window[\"f2759e8c-77d0-11eb-844c-0242ac1c0002\"]);\n",
              "//# sourceURL=js_85cc985b7e"
            ],
            "text/plain": [
              "<IPython.core.display.Javascript object>"
            ]
          },
          "metadata": {
            "tags": [
              "id98-0-0",
              "outputarea_id98"
            ]
          }
        },
        {
          "output_type": "display_data",
          "data": {
            "application/javascript": [
              "window[\"f29237cc-77d0-11eb-844c-0242ac1c0002\"] = google.colab.output.setActiveOutputArea(window[\"f27529d4-77d0-11eb-844c-0242ac1c0002\"]);\n",
              "//# sourceURL=js_057a650f30"
            ],
            "text/plain": [
              "<IPython.core.display.Javascript object>"
            ]
          },
          "metadata": {
            "tags": [
              "id98-0-0",
              "outputarea_id98"
            ]
          }
        },
        {
          "output_type": "display_data",
          "data": {
            "application/javascript": [
              "window[\"f2945200-77d0-11eb-844c-0242ac1c0002\"] = google.colab.output.getActiveOutputArea();\n",
              "//# sourceURL=js_9d4ce8e99c"
            ],
            "text/plain": [
              "<IPython.core.display.Javascript object>"
            ]
          },
          "metadata": {
            "tags": [
              "id98-0-0",
              "outputarea_id98"
            ]
          }
        },
        {
          "output_type": "display_data",
          "data": {
            "application/javascript": [
              "window[\"f294ac64-77d0-11eb-844c-0242ac1c0002\"] = document.querySelector(\"#id98-0-0\");\n",
              "//# sourceURL=js_4a36df2403"
            ],
            "text/plain": [
              "<IPython.core.display.Javascript object>"
            ]
          },
          "metadata": {
            "tags": [
              "id98-0-0",
              "outputarea_id98"
            ]
          }
        },
        {
          "output_type": "display_data",
          "data": {
            "application/javascript": [
              "window[\"f29500f6-77d0-11eb-844c-0242ac1c0002\"] = google.colab.output.setActiveOutputArea(window[\"f294ac64-77d0-11eb-844c-0242ac1c0002\"]);\n",
              "//# sourceURL=js_5354f8d2f9"
            ],
            "text/plain": [
              "<IPython.core.display.Javascript object>"
            ]
          },
          "metadata": {
            "tags": [
              "id98-0-0",
              "outputarea_id98"
            ]
          }
        },
        {
          "output_type": "display_data",
          "data": {
            "application/javascript": [
              "window[\"f2b0ac16-77d0-11eb-844c-0242ac1c0002\"] = google.colab.output.setActiveOutputArea(window[\"f2945200-77d0-11eb-844c-0242ac1c0002\"]);\n",
              "//# sourceURL=js_7bc55c695e"
            ],
            "text/plain": [
              "<IPython.core.display.Javascript object>"
            ]
          },
          "metadata": {
            "tags": [
              "id98-0-0",
              "outputarea_id98"
            ]
          }
        },
        {
          "output_type": "display_data",
          "data": {
            "application/javascript": [
              "window[\"f2b39002-77d0-11eb-844c-0242ac1c0002\"] = google.colab.output.getActiveOutputArea();\n",
              "//# sourceURL=js_32117aec0e"
            ],
            "text/plain": [
              "<IPython.core.display.Javascript object>"
            ]
          },
          "metadata": {
            "tags": [
              "id98-0-0",
              "outputarea_id98"
            ]
          }
        },
        {
          "output_type": "display_data",
          "data": {
            "application/javascript": [
              "window[\"f2b4fd70-77d0-11eb-844c-0242ac1c0002\"] = document.querySelector(\"#id98-0-0\");\n",
              "//# sourceURL=js_c1cb4e91ca"
            ],
            "text/plain": [
              "<IPython.core.display.Javascript object>"
            ]
          },
          "metadata": {
            "tags": [
              "id98-0-0",
              "outputarea_id98"
            ]
          }
        },
        {
          "output_type": "display_data",
          "data": {
            "application/javascript": [
              "window[\"f2b553ba-77d0-11eb-844c-0242ac1c0002\"] = google.colab.output.setActiveOutputArea(window[\"f2b4fd70-77d0-11eb-844c-0242ac1c0002\"]);\n",
              "//# sourceURL=js_6d73020534"
            ],
            "text/plain": [
              "<IPython.core.display.Javascript object>"
            ]
          },
          "metadata": {
            "tags": [
              "id98-0-0",
              "outputarea_id98"
            ]
          }
        },
        {
          "output_type": "display_data",
          "data": {
            "application/javascript": [
              "window[\"f2cf08b4-77d0-11eb-844c-0242ac1c0002\"] = google.colab.output.setActiveOutputArea(window[\"f2b39002-77d0-11eb-844c-0242ac1c0002\"]);\n",
              "//# sourceURL=js_89ad58e8c6"
            ],
            "text/plain": [
              "<IPython.core.display.Javascript object>"
            ]
          },
          "metadata": {
            "tags": [
              "id98-0-0",
              "outputarea_id98"
            ]
          }
        },
        {
          "output_type": "display_data",
          "data": {
            "application/javascript": [
              "window[\"f2d18864-77d0-11eb-844c-0242ac1c0002\"] = google.colab.output.getActiveOutputArea();\n",
              "//# sourceURL=js_cc336c9ddd"
            ],
            "text/plain": [
              "<IPython.core.display.Javascript object>"
            ]
          },
          "metadata": {
            "tags": [
              "id98-0-0",
              "outputarea_id98"
            ]
          }
        },
        {
          "output_type": "display_data",
          "data": {
            "application/javascript": [
              "window[\"f2d1d102-77d0-11eb-844c-0242ac1c0002\"] = document.querySelector(\"#id98-0-0\");\n",
              "//# sourceURL=js_20b3ad4b53"
            ],
            "text/plain": [
              "<IPython.core.display.Javascript object>"
            ]
          },
          "metadata": {
            "tags": [
              "id98-0-0",
              "outputarea_id98"
            ]
          }
        },
        {
          "output_type": "display_data",
          "data": {
            "application/javascript": [
              "window[\"f2d25d16-77d0-11eb-844c-0242ac1c0002\"] = google.colab.output.setActiveOutputArea(window[\"f2d1d102-77d0-11eb-844c-0242ac1c0002\"]);\n",
              "//# sourceURL=js_8b9c3caab8"
            ],
            "text/plain": [
              "<IPython.core.display.Javascript object>"
            ]
          },
          "metadata": {
            "tags": [
              "id98-0-0",
              "outputarea_id98"
            ]
          }
        },
        {
          "output_type": "display_data",
          "data": {
            "application/javascript": [
              "window[\"f2ec21e2-77d0-11eb-844c-0242ac1c0002\"] = google.colab.output.setActiveOutputArea(window[\"f2d18864-77d0-11eb-844c-0242ac1c0002\"]);\n",
              "//# sourceURL=js_18ccb3f023"
            ],
            "text/plain": [
              "<IPython.core.display.Javascript object>"
            ]
          },
          "metadata": {
            "tags": [
              "id98-0-0",
              "outputarea_id98"
            ]
          }
        },
        {
          "output_type": "display_data",
          "data": {
            "application/javascript": [
              "window[\"f2ee83c4-77d0-11eb-844c-0242ac1c0002\"] = google.colab.output.getActiveOutputArea();\n",
              "//# sourceURL=js_1279e663b8"
            ],
            "text/plain": [
              "<IPython.core.display.Javascript object>"
            ]
          },
          "metadata": {
            "tags": [
              "id98-0-0",
              "outputarea_id98"
            ]
          }
        },
        {
          "output_type": "display_data",
          "data": {
            "application/javascript": [
              "window[\"f2ef5c68-77d0-11eb-844c-0242ac1c0002\"] = document.querySelector(\"#id98-0-0\");\n",
              "//# sourceURL=js_3aae383713"
            ],
            "text/plain": [
              "<IPython.core.display.Javascript object>"
            ]
          },
          "metadata": {
            "tags": [
              "id98-0-0",
              "outputarea_id98"
            ]
          }
        },
        {
          "output_type": "display_data",
          "data": {
            "application/javascript": [
              "window[\"f2f02a4e-77d0-11eb-844c-0242ac1c0002\"] = google.colab.output.setActiveOutputArea(window[\"f2ef5c68-77d0-11eb-844c-0242ac1c0002\"]);\n",
              "//# sourceURL=js_28da419c87"
            ],
            "text/plain": [
              "<IPython.core.display.Javascript object>"
            ]
          },
          "metadata": {
            "tags": [
              "id98-0-0",
              "outputarea_id98"
            ]
          }
        },
        {
          "output_type": "display_data",
          "data": {
            "application/javascript": [
              "window[\"f3199352-77d0-11eb-844c-0242ac1c0002\"] = google.colab.output.setActiveOutputArea(window[\"f2ee83c4-77d0-11eb-844c-0242ac1c0002\"]);\n",
              "//# sourceURL=js_5fe7c9e5a0"
            ],
            "text/plain": [
              "<IPython.core.display.Javascript object>"
            ]
          },
          "metadata": {
            "tags": [
              "id98-0-0",
              "outputarea_id98"
            ]
          }
        },
        {
          "output_type": "display_data",
          "data": {
            "application/javascript": [
              "window[\"f31ca1be-77d0-11eb-844c-0242ac1c0002\"] = google.colab.output.getActiveOutputArea();\n",
              "//# sourceURL=js_24736292bf"
            ],
            "text/plain": [
              "<IPython.core.display.Javascript object>"
            ]
          },
          "metadata": {
            "tags": [
              "id98-0-0",
              "outputarea_id98"
            ]
          }
        },
        {
          "output_type": "display_data",
          "data": {
            "application/javascript": [
              "window[\"f31d19d2-77d0-11eb-844c-0242ac1c0002\"] = document.querySelector(\"#id98-0-0\");\n",
              "//# sourceURL=js_9a3f4bb4a8"
            ],
            "text/plain": [
              "<IPython.core.display.Javascript object>"
            ]
          },
          "metadata": {
            "tags": [
              "id98-0-0",
              "outputarea_id98"
            ]
          }
        },
        {
          "output_type": "display_data",
          "data": {
            "application/javascript": [
              "window[\"f31da4e2-77d0-11eb-844c-0242ac1c0002\"] = google.colab.output.setActiveOutputArea(window[\"f31d19d2-77d0-11eb-844c-0242ac1c0002\"]);\n",
              "//# sourceURL=js_5ade8e1b55"
            ],
            "text/plain": [
              "<IPython.core.display.Javascript object>"
            ]
          },
          "metadata": {
            "tags": [
              "id98-0-0",
              "outputarea_id98"
            ]
          }
        },
        {
          "output_type": "display_data",
          "data": {
            "application/javascript": [
              "window[\"f33670c6-77d0-11eb-844c-0242ac1c0002\"] = google.colab.output.setActiveOutputArea(window[\"f31ca1be-77d0-11eb-844c-0242ac1c0002\"]);\n",
              "//# sourceURL=js_8641d4f07d"
            ],
            "text/plain": [
              "<IPython.core.display.Javascript object>"
            ]
          },
          "metadata": {
            "tags": [
              "id98-0-0",
              "outputarea_id98"
            ]
          }
        },
        {
          "output_type": "display_data",
          "data": {
            "application/javascript": [
              "window[\"f337d1be-77d0-11eb-844c-0242ac1c0002\"] = google.colab.output.getActiveOutputArea();\n",
              "//# sourceURL=js_9083c1fd94"
            ],
            "text/plain": [
              "<IPython.core.display.Javascript object>"
            ]
          },
          "metadata": {
            "tags": [
              "id98-0-0",
              "outputarea_id98"
            ]
          }
        },
        {
          "output_type": "display_data",
          "data": {
            "application/javascript": [
              "window[\"f338215a-77d0-11eb-844c-0242ac1c0002\"] = document.querySelector(\"#id98-0-0\");\n",
              "//# sourceURL=js_7665b4e475"
            ],
            "text/plain": [
              "<IPython.core.display.Javascript object>"
            ]
          },
          "metadata": {
            "tags": [
              "id98-0-0",
              "outputarea_id98"
            ]
          }
        },
        {
          "output_type": "display_data",
          "data": {
            "application/javascript": [
              "window[\"f33860c0-77d0-11eb-844c-0242ac1c0002\"] = google.colab.output.setActiveOutputArea(window[\"f338215a-77d0-11eb-844c-0242ac1c0002\"]);\n",
              "//# sourceURL=js_55f920172c"
            ],
            "text/plain": [
              "<IPython.core.display.Javascript object>"
            ]
          },
          "metadata": {
            "tags": [
              "id98-0-0",
              "outputarea_id98"
            ]
          }
        },
        {
          "output_type": "display_data",
          "data": {
            "application/javascript": [
              "window[\"f3534c5a-77d0-11eb-844c-0242ac1c0002\"] = google.colab.output.setActiveOutputArea(window[\"f337d1be-77d0-11eb-844c-0242ac1c0002\"]);\n",
              "//# sourceURL=js_b34f57c096"
            ],
            "text/plain": [
              "<IPython.core.display.Javascript object>"
            ]
          },
          "metadata": {
            "tags": [
              "id98-0-0",
              "outputarea_id98"
            ]
          }
        },
        {
          "output_type": "display_data",
          "data": {
            "application/javascript": [
              "window[\"f354a9a6-77d0-11eb-844c-0242ac1c0002\"] = google.colab.output.getActiveOutputArea();\n",
              "//# sourceURL=js_0b7cd1c993"
            ],
            "text/plain": [
              "<IPython.core.display.Javascript object>"
            ]
          },
          "metadata": {
            "tags": [
              "id98-0-0",
              "outputarea_id98"
            ]
          }
        },
        {
          "output_type": "display_data",
          "data": {
            "application/javascript": [
              "window[\"f354f7d0-77d0-11eb-844c-0242ac1c0002\"] = document.querySelector(\"#id98-0-0\");\n",
              "//# sourceURL=js_ad03ac3a16"
            ],
            "text/plain": [
              "<IPython.core.display.Javascript object>"
            ]
          },
          "metadata": {
            "tags": [
              "id98-0-0",
              "outputarea_id98"
            ]
          }
        },
        {
          "output_type": "display_data",
          "data": {
            "application/javascript": [
              "window[\"f35537e0-77d0-11eb-844c-0242ac1c0002\"] = google.colab.output.setActiveOutputArea(window[\"f354f7d0-77d0-11eb-844c-0242ac1c0002\"]);\n",
              "//# sourceURL=js_846c807a7e"
            ],
            "text/plain": [
              "<IPython.core.display.Javascript object>"
            ]
          },
          "metadata": {
            "tags": [
              "id98-0-0",
              "outputarea_id98"
            ]
          }
        },
        {
          "output_type": "display_data",
          "data": {
            "application/javascript": [
              "window[\"f3711014-77d0-11eb-844c-0242ac1c0002\"] = google.colab.output.setActiveOutputArea(window[\"f354a9a6-77d0-11eb-844c-0242ac1c0002\"]);\n",
              "//# sourceURL=js_1f17d8040a"
            ],
            "text/plain": [
              "<IPython.core.display.Javascript object>"
            ]
          },
          "metadata": {
            "tags": [
              "id98-0-0",
              "outputarea_id98"
            ]
          }
        },
        {
          "output_type": "display_data",
          "data": {
            "application/javascript": [
              "window[\"f372749a-77d0-11eb-844c-0242ac1c0002\"] = google.colab.output.getActiveOutputArea();\n",
              "//# sourceURL=js_86d0b0c410"
            ],
            "text/plain": [
              "<IPython.core.display.Javascript object>"
            ]
          },
          "metadata": {
            "tags": [
              "id98-0-0",
              "outputarea_id98"
            ]
          }
        },
        {
          "output_type": "display_data",
          "data": {
            "application/javascript": [
              "window[\"f372c5f8-77d0-11eb-844c-0242ac1c0002\"] = document.querySelector(\"#id98-0-0\");\n",
              "//# sourceURL=js_526f151c59"
            ],
            "text/plain": [
              "<IPython.core.display.Javascript object>"
            ]
          },
          "metadata": {
            "tags": [
              "id98-0-0",
              "outputarea_id98"
            ]
          }
        },
        {
          "output_type": "display_data",
          "data": {
            "application/javascript": [
              "window[\"f37309aa-77d0-11eb-844c-0242ac1c0002\"] = google.colab.output.setActiveOutputArea(window[\"f372c5f8-77d0-11eb-844c-0242ac1c0002\"]);\n",
              "//# sourceURL=js_88b5fa818a"
            ],
            "text/plain": [
              "<IPython.core.display.Javascript object>"
            ]
          },
          "metadata": {
            "tags": [
              "id98-0-0",
              "outputarea_id98"
            ]
          }
        },
        {
          "output_type": "display_data",
          "data": {
            "application/javascript": [
              "window[\"f38d27b8-77d0-11eb-844c-0242ac1c0002\"] = google.colab.output.setActiveOutputArea(window[\"f372749a-77d0-11eb-844c-0242ac1c0002\"]);\n",
              "//# sourceURL=js_be9ba562a9"
            ],
            "text/plain": [
              "<IPython.core.display.Javascript object>"
            ]
          },
          "metadata": {
            "tags": [
              "id98-0-0",
              "outputarea_id98"
            ]
          }
        },
        {
          "output_type": "display_data",
          "data": {
            "application/javascript": [
              "window[\"f38e60a6-77d0-11eb-844c-0242ac1c0002\"] = google.colab.output.getActiveOutputArea();\n",
              "//# sourceURL=js_530e61f1aa"
            ],
            "text/plain": [
              "<IPython.core.display.Javascript object>"
            ]
          },
          "metadata": {
            "tags": [
              "id98-0-0",
              "outputarea_id98"
            ]
          }
        },
        {
          "output_type": "display_data",
          "data": {
            "application/javascript": [
              "window[\"f38e9ef4-77d0-11eb-844c-0242ac1c0002\"] = document.querySelector(\"#id98-0-0\");\n",
              "//# sourceURL=js_8e20a1f530"
            ],
            "text/plain": [
              "<IPython.core.display.Javascript object>"
            ]
          },
          "metadata": {
            "tags": [
              "id98-0-0",
              "outputarea_id98"
            ]
          }
        },
        {
          "output_type": "display_data",
          "data": {
            "application/javascript": [
              "window[\"f38ef0e8-77d0-11eb-844c-0242ac1c0002\"] = google.colab.output.setActiveOutputArea(window[\"f38e9ef4-77d0-11eb-844c-0242ac1c0002\"]);\n",
              "//# sourceURL=js_adb25fc3a4"
            ],
            "text/plain": [
              "<IPython.core.display.Javascript object>"
            ]
          },
          "metadata": {
            "tags": [
              "id98-0-0",
              "outputarea_id98"
            ]
          }
        },
        {
          "output_type": "display_data",
          "data": {
            "application/javascript": [
              "window[\"f3aa8dc6-77d0-11eb-844c-0242ac1c0002\"] = google.colab.output.setActiveOutputArea(window[\"f38e60a6-77d0-11eb-844c-0242ac1c0002\"]);\n",
              "//# sourceURL=js_caa55fd5f3"
            ],
            "text/plain": [
              "<IPython.core.display.Javascript object>"
            ]
          },
          "metadata": {
            "tags": [
              "id98-0-0",
              "outputarea_id98"
            ]
          }
        },
        {
          "output_type": "display_data",
          "data": {
            "application/javascript": [
              "window[\"f3abee3c-77d0-11eb-844c-0242ac1c0002\"] = google.colab.output.getActiveOutputArea();\n",
              "//# sourceURL=js_92bb0eb6a3"
            ],
            "text/plain": [
              "<IPython.core.display.Javascript object>"
            ]
          },
          "metadata": {
            "tags": [
              "id98-0-0",
              "outputarea_id98"
            ]
          }
        },
        {
          "output_type": "display_data",
          "data": {
            "application/javascript": [
              "window[\"f3ac4620-77d0-11eb-844c-0242ac1c0002\"] = document.querySelector(\"#id98-0-0\");\n",
              "//# sourceURL=js_65cdff8a8f"
            ],
            "text/plain": [
              "<IPython.core.display.Javascript object>"
            ]
          },
          "metadata": {
            "tags": [
              "id98-0-0",
              "outputarea_id98"
            ]
          }
        },
        {
          "output_type": "display_data",
          "data": {
            "application/javascript": [
              "window[\"f3ac8a86-77d0-11eb-844c-0242ac1c0002\"] = google.colab.output.setActiveOutputArea(window[\"f3ac4620-77d0-11eb-844c-0242ac1c0002\"]);\n",
              "//# sourceURL=js_13b6965ed9"
            ],
            "text/plain": [
              "<IPython.core.display.Javascript object>"
            ]
          },
          "metadata": {
            "tags": [
              "id98-0-0",
              "outputarea_id98"
            ]
          }
        },
        {
          "output_type": "display_data",
          "data": {
            "application/javascript": [
              "window[\"f3c7deda-77d0-11eb-844c-0242ac1c0002\"] = google.colab.output.setActiveOutputArea(window[\"f3abee3c-77d0-11eb-844c-0242ac1c0002\"]);\n",
              "//# sourceURL=js_24200e51c7"
            ],
            "text/plain": [
              "<IPython.core.display.Javascript object>"
            ]
          },
          "metadata": {
            "tags": [
              "id98-0-0",
              "outputarea_id98"
            ]
          }
        },
        {
          "output_type": "display_data",
          "data": {
            "application/javascript": [
              "window[\"f3c91c5a-77d0-11eb-844c-0242ac1c0002\"] = google.colab.output.getActiveOutputArea();\n",
              "//# sourceURL=js_943fd7df40"
            ],
            "text/plain": [
              "<IPython.core.display.Javascript object>"
            ]
          },
          "metadata": {
            "tags": [
              "id98-0-0",
              "outputarea_id98"
            ]
          }
        },
        {
          "output_type": "display_data",
          "data": {
            "application/javascript": [
              "window[\"f3c96912-77d0-11eb-844c-0242ac1c0002\"] = document.querySelector(\"#id98-0-0\");\n",
              "//# sourceURL=js_7acd10f2bf"
            ],
            "text/plain": [
              "<IPython.core.display.Javascript object>"
            ]
          },
          "metadata": {
            "tags": [
              "id98-0-0",
              "outputarea_id98"
            ]
          }
        },
        {
          "output_type": "display_data",
          "data": {
            "application/javascript": [
              "window[\"f3c9b502-77d0-11eb-844c-0242ac1c0002\"] = google.colab.output.setActiveOutputArea(window[\"f3c96912-77d0-11eb-844c-0242ac1c0002\"]);\n",
              "//# sourceURL=js_f4ebe78571"
            ],
            "text/plain": [
              "<IPython.core.display.Javascript object>"
            ]
          },
          "metadata": {
            "tags": [
              "id98-0-0",
              "outputarea_id98"
            ]
          }
        },
        {
          "output_type": "display_data",
          "data": {
            "application/javascript": [
              "window[\"f3e4a128-77d0-11eb-844c-0242ac1c0002\"] = google.colab.output.setActiveOutputArea(window[\"f3c91c5a-77d0-11eb-844c-0242ac1c0002\"]);\n",
              "//# sourceURL=js_feda8c72b2"
            ],
            "text/plain": [
              "<IPython.core.display.Javascript object>"
            ]
          },
          "metadata": {
            "tags": [
              "id98-0-0",
              "outputarea_id98"
            ]
          }
        },
        {
          "output_type": "display_data",
          "data": {
            "application/javascript": [
              "window[\"f3e5e5a6-77d0-11eb-844c-0242ac1c0002\"] = google.colab.output.getActiveOutputArea();\n",
              "//# sourceURL=js_0a02dd290c"
            ],
            "text/plain": [
              "<IPython.core.display.Javascript object>"
            ]
          },
          "metadata": {
            "tags": [
              "id98-0-0",
              "outputarea_id98"
            ]
          }
        },
        {
          "output_type": "display_data",
          "data": {
            "application/javascript": [
              "window[\"f3e63006-77d0-11eb-844c-0242ac1c0002\"] = document.querySelector(\"#id98-0-0\");\n",
              "//# sourceURL=js_c96651e955"
            ],
            "text/plain": [
              "<IPython.core.display.Javascript object>"
            ]
          },
          "metadata": {
            "tags": [
              "id98-0-0",
              "outputarea_id98"
            ]
          }
        },
        {
          "output_type": "display_data",
          "data": {
            "application/javascript": [
              "window[\"f3e67b60-77d0-11eb-844c-0242ac1c0002\"] = google.colab.output.setActiveOutputArea(window[\"f3e63006-77d0-11eb-844c-0242ac1c0002\"]);\n",
              "//# sourceURL=js_e9d07bbf60"
            ],
            "text/plain": [
              "<IPython.core.display.Javascript object>"
            ]
          },
          "metadata": {
            "tags": [
              "id98-0-0",
              "outputarea_id98"
            ]
          }
        },
        {
          "output_type": "display_data",
          "data": {
            "application/javascript": [
              "window[\"f402b848-77d0-11eb-844c-0242ac1c0002\"] = google.colab.output.setActiveOutputArea(window[\"f3e5e5a6-77d0-11eb-844c-0242ac1c0002\"]);\n",
              "//# sourceURL=js_7ace4fffed"
            ],
            "text/plain": [
              "<IPython.core.display.Javascript object>"
            ]
          },
          "metadata": {
            "tags": [
              "id98-0-0",
              "outputarea_id98"
            ]
          }
        },
        {
          "output_type": "display_data",
          "data": {
            "application/javascript": [
              "window[\"f403f5d2-77d0-11eb-844c-0242ac1c0002\"] = google.colab.output.getActiveOutputArea();\n",
              "//# sourceURL=js_62bc48e51f"
            ],
            "text/plain": [
              "<IPython.core.display.Javascript object>"
            ]
          },
          "metadata": {
            "tags": [
              "id98-0-0",
              "outputarea_id98"
            ]
          }
        },
        {
          "output_type": "display_data",
          "data": {
            "application/javascript": [
              "window[\"f4043326-77d0-11eb-844c-0242ac1c0002\"] = document.querySelector(\"#id98-0-0\");\n",
              "//# sourceURL=js_bc329764e1"
            ],
            "text/plain": [
              "<IPython.core.display.Javascript object>"
            ]
          },
          "metadata": {
            "tags": [
              "id98-0-0",
              "outputarea_id98"
            ]
          }
        },
        {
          "output_type": "display_data",
          "data": {
            "application/javascript": [
              "window[\"f4046fda-77d0-11eb-844c-0242ac1c0002\"] = google.colab.output.setActiveOutputArea(window[\"f4043326-77d0-11eb-844c-0242ac1c0002\"]);\n",
              "//# sourceURL=js_cb5f733df8"
            ],
            "text/plain": [
              "<IPython.core.display.Javascript object>"
            ]
          },
          "metadata": {
            "tags": [
              "id98-0-0",
              "outputarea_id98"
            ]
          }
        },
        {
          "output_type": "display_data",
          "data": {
            "application/javascript": [
              "window[\"f4210ee2-77d0-11eb-844c-0242ac1c0002\"] = google.colab.output.setActiveOutputArea(window[\"f403f5d2-77d0-11eb-844c-0242ac1c0002\"]);\n",
              "//# sourceURL=js_e30ec1f13d"
            ],
            "text/plain": [
              "<IPython.core.display.Javascript object>"
            ]
          },
          "metadata": {
            "tags": [
              "id98-0-0",
              "outputarea_id98"
            ]
          }
        },
        {
          "output_type": "display_data",
          "data": {
            "application/javascript": [
              "window[\"f42379e8-77d0-11eb-844c-0242ac1c0002\"] = google.colab.output.getActiveOutputArea();\n",
              "//# sourceURL=js_0d0fb34efd"
            ],
            "text/plain": [
              "<IPython.core.display.Javascript object>"
            ]
          },
          "metadata": {
            "tags": [
              "id98-0-0",
              "outputarea_id98"
            ]
          }
        },
        {
          "output_type": "display_data",
          "data": {
            "application/javascript": [
              "window[\"f423d032-77d0-11eb-844c-0242ac1c0002\"] = document.querySelector(\"#id98-0-0\");\n",
              "//# sourceURL=js_f1094f8368"
            ],
            "text/plain": [
              "<IPython.core.display.Javascript object>"
            ]
          },
          "metadata": {
            "tags": [
              "id98-0-0",
              "outputarea_id98"
            ]
          }
        },
        {
          "output_type": "display_data",
          "data": {
            "application/javascript": [
              "window[\"f4241222-77d0-11eb-844c-0242ac1c0002\"] = google.colab.output.setActiveOutputArea(window[\"f423d032-77d0-11eb-844c-0242ac1c0002\"]);\n",
              "//# sourceURL=js_5e1abc7c13"
            ],
            "text/plain": [
              "<IPython.core.display.Javascript object>"
            ]
          },
          "metadata": {
            "tags": [
              "id98-0-0",
              "outputarea_id98"
            ]
          }
        },
        {
          "output_type": "display_data",
          "data": {
            "application/javascript": [
              "window[\"f43d26b8-77d0-11eb-844c-0242ac1c0002\"] = google.colab.output.setActiveOutputArea(window[\"f42379e8-77d0-11eb-844c-0242ac1c0002\"]);\n",
              "//# sourceURL=js_b0a4fbe4fc"
            ],
            "text/plain": [
              "<IPython.core.display.Javascript object>"
            ]
          },
          "metadata": {
            "tags": [
              "id98-0-0",
              "outputarea_id98"
            ]
          }
        },
        {
          "output_type": "display_data",
          "data": {
            "application/javascript": [
              "window[\"f43e9a2a-77d0-11eb-844c-0242ac1c0002\"] = google.colab.output.getActiveOutputArea();\n",
              "//# sourceURL=js_ac4cc611c8"
            ],
            "text/plain": [
              "<IPython.core.display.Javascript object>"
            ]
          },
          "metadata": {
            "tags": [
              "id98-0-0",
              "outputarea_id98"
            ]
          }
        },
        {
          "output_type": "display_data",
          "data": {
            "application/javascript": [
              "window[\"f43eea48-77d0-11eb-844c-0242ac1c0002\"] = document.querySelector(\"#id98-0-0\");\n",
              "//# sourceURL=js_e15f60773e"
            ],
            "text/plain": [
              "<IPython.core.display.Javascript object>"
            ]
          },
          "metadata": {
            "tags": [
              "id98-0-0",
              "outputarea_id98"
            ]
          }
        },
        {
          "output_type": "display_data",
          "data": {
            "application/javascript": [
              "window[\"f43f2c2e-77d0-11eb-844c-0242ac1c0002\"] = google.colab.output.setActiveOutputArea(window[\"f43eea48-77d0-11eb-844c-0242ac1c0002\"]);\n",
              "//# sourceURL=js_8083e9ffbb"
            ],
            "text/plain": [
              "<IPython.core.display.Javascript object>"
            ]
          },
          "metadata": {
            "tags": [
              "id98-0-0",
              "outputarea_id98"
            ]
          }
        },
        {
          "output_type": "display_data",
          "data": {
            "application/javascript": [
              "window[\"f45ab43a-77d0-11eb-844c-0242ac1c0002\"] = google.colab.output.setActiveOutputArea(window[\"f43e9a2a-77d0-11eb-844c-0242ac1c0002\"]);\n",
              "//# sourceURL=js_7841ec7684"
            ],
            "text/plain": [
              "<IPython.core.display.Javascript object>"
            ]
          },
          "metadata": {
            "tags": [
              "id98-0-0",
              "outputarea_id98"
            ]
          }
        },
        {
          "output_type": "display_data",
          "data": {
            "application/javascript": [
              "window[\"f45c0326-77d0-11eb-844c-0242ac1c0002\"] = google.colab.output.getActiveOutputArea();\n",
              "//# sourceURL=js_ba0cfb3903"
            ],
            "text/plain": [
              "<IPython.core.display.Javascript object>"
            ]
          },
          "metadata": {
            "tags": [
              "id98-0-0",
              "outputarea_id98"
            ]
          }
        },
        {
          "output_type": "display_data",
          "data": {
            "application/javascript": [
              "window[\"f45c5056-77d0-11eb-844c-0242ac1c0002\"] = document.querySelector(\"#id98-0-0\");\n",
              "//# sourceURL=js_61751d7831"
            ],
            "text/plain": [
              "<IPython.core.display.Javascript object>"
            ]
          },
          "metadata": {
            "tags": [
              "id98-0-0",
              "outputarea_id98"
            ]
          }
        },
        {
          "output_type": "display_data",
          "data": {
            "application/javascript": [
              "window[\"f45c9dfe-77d0-11eb-844c-0242ac1c0002\"] = google.colab.output.setActiveOutputArea(window[\"f45c5056-77d0-11eb-844c-0242ac1c0002\"]);\n",
              "//# sourceURL=js_f37c3e02a5"
            ],
            "text/plain": [
              "<IPython.core.display.Javascript object>"
            ]
          },
          "metadata": {
            "tags": [
              "id98-0-0",
              "outputarea_id98"
            ]
          }
        },
        {
          "output_type": "display_data",
          "data": {
            "application/javascript": [
              "window[\"f4781fd4-77d0-11eb-844c-0242ac1c0002\"] = google.colab.output.setActiveOutputArea(window[\"f45c0326-77d0-11eb-844c-0242ac1c0002\"]);\n",
              "//# sourceURL=js_7408219c02"
            ],
            "text/plain": [
              "<IPython.core.display.Javascript object>"
            ]
          },
          "metadata": {
            "tags": [
              "id98-0-0",
              "outputarea_id98"
            ]
          }
        },
        {
          "output_type": "display_data",
          "data": {
            "application/javascript": [
              "window[\"f4797028-77d0-11eb-844c-0242ac1c0002\"] = google.colab.output.getActiveOutputArea();\n",
              "//# sourceURL=js_3b951d6f46"
            ],
            "text/plain": [
              "<IPython.core.display.Javascript object>"
            ]
          },
          "metadata": {
            "tags": [
              "id98-0-0",
              "outputarea_id98"
            ]
          }
        },
        {
          "output_type": "display_data",
          "data": {
            "application/javascript": [
              "window[\"f479c00a-77d0-11eb-844c-0242ac1c0002\"] = document.querySelector(\"#id98-0-0\");\n",
              "//# sourceURL=js_0dddbc2024"
            ],
            "text/plain": [
              "<IPython.core.display.Javascript object>"
            ]
          },
          "metadata": {
            "tags": [
              "id98-0-0",
              "outputarea_id98"
            ]
          }
        },
        {
          "output_type": "display_data",
          "data": {
            "application/javascript": [
              "window[\"f47a1334-77d0-11eb-844c-0242ac1c0002\"] = google.colab.output.setActiveOutputArea(window[\"f479c00a-77d0-11eb-844c-0242ac1c0002\"]);\n",
              "//# sourceURL=js_2a3751d0ba"
            ],
            "text/plain": [
              "<IPython.core.display.Javascript object>"
            ]
          },
          "metadata": {
            "tags": [
              "id98-0-0",
              "outputarea_id98"
            ]
          }
        },
        {
          "output_type": "display_data",
          "data": {
            "application/javascript": [
              "window[\"f4961322-77d0-11eb-844c-0242ac1c0002\"] = google.colab.output.setActiveOutputArea(window[\"f4797028-77d0-11eb-844c-0242ac1c0002\"]);\n",
              "//# sourceURL=js_7ba18e9930"
            ],
            "text/plain": [
              "<IPython.core.display.Javascript object>"
            ]
          },
          "metadata": {
            "tags": [
              "id98-0-0",
              "outputarea_id98"
            ]
          }
        },
        {
          "output_type": "display_data",
          "data": {
            "application/javascript": [
              "window[\"f4977a00-77d0-11eb-844c-0242ac1c0002\"] = google.colab.output.getActiveOutputArea();\n",
              "//# sourceURL=js_267b7ca29a"
            ],
            "text/plain": [
              "<IPython.core.display.Javascript object>"
            ]
          },
          "metadata": {
            "tags": [
              "id98-0-0",
              "outputarea_id98"
            ]
          }
        },
        {
          "output_type": "display_data",
          "data": {
            "application/javascript": [
              "window[\"f497c9ec-77d0-11eb-844c-0242ac1c0002\"] = document.querySelector(\"#id98-0-0\");\n",
              "//# sourceURL=js_d75e116382"
            ],
            "text/plain": [
              "<IPython.core.display.Javascript object>"
            ]
          },
          "metadata": {
            "tags": [
              "id98-0-0",
              "outputarea_id98"
            ]
          }
        },
        {
          "output_type": "display_data",
          "data": {
            "application/javascript": [
              "window[\"f498199c-77d0-11eb-844c-0242ac1c0002\"] = google.colab.output.setActiveOutputArea(window[\"f497c9ec-77d0-11eb-844c-0242ac1c0002\"]);\n",
              "//# sourceURL=js_d01171161f"
            ],
            "text/plain": [
              "<IPython.core.display.Javascript object>"
            ]
          },
          "metadata": {
            "tags": [
              "id98-0-0",
              "outputarea_id98"
            ]
          }
        },
        {
          "output_type": "display_data",
          "data": {
            "application/javascript": [
              "window[\"f4c52ec8-77d0-11eb-844c-0242ac1c0002\"] = google.colab.output.setActiveOutputArea(window[\"f4977a00-77d0-11eb-844c-0242ac1c0002\"]);\n",
              "//# sourceURL=js_10e128e5a3"
            ],
            "text/plain": [
              "<IPython.core.display.Javascript object>"
            ]
          },
          "metadata": {
            "tags": [
              "id98-0-0",
              "outputarea_id98"
            ]
          }
        },
        {
          "output_type": "display_data",
          "data": {
            "application/javascript": [
              "window[\"f4c6b9c8-77d0-11eb-844c-0242ac1c0002\"] = google.colab.output.getActiveOutputArea();\n",
              "//# sourceURL=js_dfdb577ea7"
            ],
            "text/plain": [
              "<IPython.core.display.Javascript object>"
            ]
          },
          "metadata": {
            "tags": [
              "id98-0-0",
              "outputarea_id98"
            ]
          }
        },
        {
          "output_type": "display_data",
          "data": {
            "application/javascript": [
              "window[\"f4c706f8-77d0-11eb-844c-0242ac1c0002\"] = document.querySelector(\"#id98-0-0\");\n",
              "//# sourceURL=js_27fa9af62e"
            ],
            "text/plain": [
              "<IPython.core.display.Javascript object>"
            ]
          },
          "metadata": {
            "tags": [
              "id98-0-0",
              "outputarea_id98"
            ]
          }
        },
        {
          "output_type": "display_data",
          "data": {
            "application/javascript": [
              "window[\"f4c75356-77d0-11eb-844c-0242ac1c0002\"] = google.colab.output.setActiveOutputArea(window[\"f4c706f8-77d0-11eb-844c-0242ac1c0002\"]);\n",
              "//# sourceURL=js_684f1b68b2"
            ],
            "text/plain": [
              "<IPython.core.display.Javascript object>"
            ]
          },
          "metadata": {
            "tags": [
              "id98-0-0",
              "outputarea_id98"
            ]
          }
        },
        {
          "output_type": "display_data",
          "data": {
            "image/png": "[encoded data removed]",
            "text/plain": [
              "<Figure size 432x288 with 1 Axes>"
            ]
          },
          "metadata": {
            "tags": [
              "id98-0-0",
              "outputarea_id98",
              "user_output"
            ],
            "needs_background": "light"
          }
        },
        {
          "output_type": "display_data",
          "data": {
            "application/javascript": [
              "window[\"f4e15666-77d0-11eb-844c-0242ac1c0002\"] = google.colab.output.setActiveOutputArea(window[\"f4c6b9c8-77d0-11eb-844c-0242ac1c0002\"]);\n",
              "//# sourceURL=js_49623f3ee8"
            ],
            "text/plain": [
              "<IPython.core.display.Javascript object>"
            ]
          },
          "metadata": {
            "tags": [
              "id98-0-0",
              "outputarea_id98"
            ]
          }
        },
        {
          "output_type": "stream",
          "text": [
            "Agent has reached the Goal position\n",
            "At the end of the run, the agent got is at state 15 & a total reward of -2\n"
          ],
          "name": "stdout"
        }
      ]
    },
    {
      "cell_type": "markdown",
      "metadata": {
        "id": "Ly1zH56A6rf2"
      },
      "source": [
        "*Initializing the episode count & window size (for testing)*"
      ]
    },
    {
      "cell_type": "code",
      "metadata": {
        "id": "m-6yc4jvmVZp"
      },
      "source": [
        "episodes= 1000\n",
        "window_size= 100"
      ],
      "execution_count": null,
      "outputs": []
    },
    {
      "cell_type": "markdown",
      "metadata": {
        "id": "v4Z_9Gz2dLCt"
      },
      "source": [
        "*Running the Q-learning random agent in the Deterministic Environment*"
      ]
    },
    {
      "cell_type": "code",
      "metadata": {
        "id": "ZiR53K8fyliv"
      },
      "source": [
        "# Initializing the environment & the Q-learning agent\n",
        "environment= DeterministicEnvironment()\n",
        "Q_agent= QLearningAgent(env= environment)"
      ],
      "execution_count": null,
      "outputs": []
    },
    {
      "cell_type": "code",
      "metadata": {
        "colab": {
          "base_uri": "https://localhost:8080/"
        },
        "id": "MbMNwxcdyvEj",
        "outputId": "8b2d92be-1de6-4737-a577-89cbd580213d"
      },
      "source": [
        "# Metrics to calculate\n",
        "reached= 0\n",
        "not_reached= 0\n",
        "total_reward= 0\n",
        "\n",
        "Q_det_bad_state= list()\n",
        "Q_det_reward_mean= list()\n",
        "Q_det_epsilon_decay= list()\n",
        "Q_det_reach_windowed= list()\n",
        "Q_det_episode_reward= list()\n",
        "Q_det_episode_timestep= list()\n",
        "\n",
        "for each_episode in range(episodes):\n",
        "  state= environment.reset()\n",
        "  done= False\n",
        "  reward_per_episode= 0\n",
        "  timestep_per_episode= 0\n",
        "  bad_state= 0\n",
        "\n",
        "  while not done:\n",
        "    action= Q_agent.step(state= state)\n",
        "    next_state, reward, done, info= environment.step(action= action)\n",
        "    Q_agent.train(experience= (state, action, next_state, reward, done))\n",
        "    state= next_state\n",
        "\n",
        "    reward_per_episode += reward\n",
        "    total_reward += reward\n",
        "    timestep_per_episode += 1\n",
        "    bad_state += 1 if (reward<0) else 0\n",
        "\n",
        "  Q_det_bad_state.append(bad_state)\n",
        "  Q_det_episode_timestep.append(timestep_per_episode)\n",
        "  Q_det_epsilon_decay.append(Q_agent.epsilon)\n",
        "  Q_det_episode_reward.append(reward_per_episode)\n",
        "  Q_det_reward_mean.append(np.mean(np.array(Q_det_episode_reward)))\n",
        "\n",
        "  if done == True and environment.timestep < MAX_TIMESTEPS:\n",
        "    # Agent has reached the goal\n",
        "    reached += 1\n",
        "    Q_det_reach_windowed.append(1)\n",
        "  elif done == True and environment.timestep == MAX_TIMESTEPS:\n",
        "    # Agent ran out of time & has not reached the goal\n",
        "    not_reached += 1\n",
        "    Q_det_reach_windowed.append(0)\n",
        "\n",
        "print('\\nReached: {} & Not reached: {}'.format(reached, not_reached))\n",
        "print('At the end of the run, the agent got is at state {} & a total reward of {}'.format(state, total_reward))\n",
        "\n",
        "# print('\\nThe final q-table is')\n",
        "# print(Q_agent.Q_table)"
      ],
      "execution_count": null,
      "outputs": [
        {
          "output_type": "stream",
          "text": [
            "\n",
            "Reached: 282 & Not reached: 718\n",
            "At the end of the run, the agent got is at state 7 & a total reward of 182288\n"
          ],
          "name": "stdout"
        }
      ]
    },
    {
      "cell_type": "markdown",
      "metadata": {
        "id": "r9VaiXQR7A6o"
      },
      "source": [
        "*Running the Q-learning random agent in the Stochastic Environment*"
      ]
    },
    {
      "cell_type": "code",
      "metadata": {
        "id": "aoq-ySE-Ysmj"
      },
      "source": [
        "# Initializing the environment & the Q-learning agent\n",
        "environment= StochasticEnvironment()\n",
        "Q_agent= QLearningAgent(env= environment)"
      ],
      "execution_count": null,
      "outputs": []
    },
    {
      "cell_type": "code",
      "metadata": {
        "colab": {
          "base_uri": "https://localhost:8080/"
        },
        "id": "z2FceP7TYtJt",
        "outputId": "de4e6723-fb72-451f-e2b0-62d6d8db91fb"
      },
      "source": [
        "# Metrics to calculate\n",
        "reached= 0\n",
        "not_reached= 0\n",
        "total_reward= 0\n",
        "\n",
        "Q_sto_bad_state= list()\n",
        "Q_sto_reward_mean= list()\n",
        "Q_sto_epsilon_decay= list()\n",
        "Q_sto_reach_windowed= list()\n",
        "Q_sto_episode_reward= list()\n",
        "Q_sto_episode_timestep= list()\n",
        "\n",
        "for each_episode in range(episodes):\n",
        "  state= environment.reset()\n",
        "  done= False\n",
        "  reward_per_episode= 0\n",
        "  timestep_per_episode= 0\n",
        "  bad_state= 0\n",
        "\n",
        "  while not done:\n",
        "    action= Q_agent.step(state= state)\n",
        "    next_state, reward, done, info= environment.step(action= action)\n",
        "    Q_agent.train(experience= (state, action, next_state, reward, done))\n",
        "    state= next_state\n",
        "\n",
        "    reward_per_episode += reward\n",
        "    total_reward += reward\n",
        "    timestep_per_episode += 1\n",
        "    bad_state += 1 if (reward<0) else 0\n",
        "\n",
        "  Q_sto_bad_state.append(bad_state)\n",
        "  Q_sto_episode_timestep.append(timestep_per_episode)\n",
        "  Q_sto_epsilon_decay.append(Q_agent.epsilon)\n",
        "  Q_sto_episode_reward.append(reward_per_episode)\n",
        "  Q_sto_reward_mean.append(np.mean(np.array(Q_sto_episode_reward)))\n",
        "\n",
        "  if done == True and environment.timestep < MAX_TIMESTEPS:\n",
        "    # Agent has reached the goal\n",
        "    reached += 1\n",
        "    Q_sto_reach_windowed.append(1)\n",
        "  elif done == True and environment.timestep == MAX_TIMESTEPS:\n",
        "    # Agent ran out of time & has not reached the goal\n",
        "    not_reached += 1\n",
        "    Q_sto_reach_windowed.append(0)\n",
        "\n",
        "print('\\nReached: {} & Not reached: {}'.format(reached, not_reached))\n",
        "print('At the end of the run, the agent got is at state {} & a total reward of {}'.format(state, total_reward))\n",
        "\n",
        "# print('\\nThe final q-table is')\n",
        "# print(Q_agent.Q_table)"
      ],
      "execution_count": null,
      "outputs": [
        {
          "output_type": "stream",
          "text": [
            "\n",
            "Reached: 924 & Not reached: 76\n",
            "At the end of the run, the agent got is at state 15 & a total reward of 38786\n"
          ],
          "name": "stdout"
        }
      ]
    },
    {
      "cell_type": "markdown",
      "metadata": {
        "id": "6xFmucyNTumX"
      },
      "source": [
        "## Results, analysis, & explanation"
      ]
    },
    {
      "cell_type": "code",
      "metadata": {
        "colab": {
          "base_uri": "https://localhost:8080/",
          "height": 1000
        },
        "id": "EEMTu462TuSt",
        "outputId": "9c8f1739-3661-42c8-db46-0cfe5d8d9bab"
      },
      "source": [
        "grid= widgets.Grid(7, 3)\n",
        "\n",
        "# ---------------------------------------------------------\n",
        "# Column 0 -> Evaluation metrics\n",
        "# ---------------------------------------------------------\n",
        "with grid.output_to(1, 0):\n",
        "  print('Cummulative reward per episode')\n",
        "with grid.output_to(2, 0):\n",
        "  print('Average reward per episode')\n",
        "with grid.output_to(3, 0):\n",
        "  print('Epsilon decay')\n",
        "with grid.output_to(4, 0):\n",
        "  print('Average number of timesteps per episode')\n",
        "with grid.output_to(5, 0):\n",
        "  print('Average number of times agent \\nreceives penalty per episode')\n",
        "with grid.output_to(6, 0):\n",
        "  print('Percentage of goal achievements by \\nagent for every {} episodes'.format(window_size))\n",
        "\n",
        "# ---------------------------------------------------------\n",
        "# Column 1 -> Q-learning agent in Deterministic Environment\n",
        "# ---------------------------------------------------------\n",
        "with grid.output_to(0, 1):\n",
        "  print('Performance of Q-learning agent in \\nDeterministic Environment')\n",
        "\n",
        "with grid.output_to(1, 1):\n",
        "  plt.title('Cummulative reward per episode')\n",
        "  plt.plot(Q_det_episode_reward)\n",
        "  plt.xlabel('Episodes')\n",
        "  plt.ylabel('Reward')\n",
        "\n",
        "with grid.output_to(2, 1):\n",
        "  plt.title('Average reward per episode')\n",
        "  plt.plot(Q_det_reward_mean)\n",
        "  plt.xlabel('Episodes')\n",
        "  plt.ylabel('Reward')\n",
        "\n",
        "with grid.output_to(3, 1):\n",
        "  plt.title('Epsilon decay')\n",
        "  plt.plot(Q_det_epsilon_decay)\n",
        "  plt.xlabel('Episode')\n",
        "  plt.ylabel('Epsilon')\n",
        "\n",
        "with grid.output_to(4, 1):\n",
        "  print(np.mean(np.array(Q_det_episode_timestep)))\n",
        "\n",
        "with grid.output_to(5, 1):\n",
        "  print(np.mean(np.array(Q_det_bad_state)))\n",
        "\n",
        "with grid.output_to(6, 1):\n",
        "  y_axis= [np.count_nonzero(i) for i in list(np.array(Q_det_reach_windowed).reshape(int(episodes/window_size), window_size))]\n",
        "  fig= plt.figure()\n",
        "  axis= fig.add_axes([0, 0, 1, 1])\n",
        "  axis.bar([i for i in range(1, 11)], y_axis, width= 0.25)\n",
        "  axis.set_title('Percentage of goal achievements by \\nagent for every {} episodes'.format(window_size))\n",
        "  axis.set_xlabel('Episodes (*100)')\n",
        "  axis.set_ylabel('Percentage of goal achievements')\n",
        "  fig.show()\n",
        "  print(y_axis)\n",
        "\n",
        "# ------------------------------------------------------\n",
        "# Column 2 -> Q-learning agent in Stochastic Environment\n",
        "# ------------------------------------------------------\n",
        "with grid.output_to(0, 2):\n",
        "  print('Performance of Q-learning agent in \\nStochastic Environment')\n",
        "\n",
        "with grid.output_to(1, 2):\n",
        "  plt.title('Cummulative reward per episode')\n",
        "  plt.plot(Q_sto_episode_reward)\n",
        "  plt.xlabel('Episodes')\n",
        "  plt.ylabel('Reward')\n",
        "\n",
        "with grid.output_to(2, 2):\n",
        "  plt.title('Average reward per episode')\n",
        "  plt.plot(Q_sto_reward_mean)\n",
        "  plt.xlabel('Episodes')\n",
        "  plt.ylabel('Reward')\n",
        "\n",
        "with grid.output_to(3, 2):\n",
        "  plt.title('Epsilon decay')\n",
        "  plt.plot(Q_sto_epsilon_decay)\n",
        "  plt.xlabel('Episode')\n",
        "  plt.ylabel('Epsilon')\n",
        "\n",
        "with grid.output_to(4, 2):\n",
        "  print(np.mean(np.array(Q_sto_episode_timestep)))\n",
        "\n",
        "with grid.output_to(5, 2):\n",
        "  print(np.mean(np.array(Q_sto_bad_state)))\n",
        "\n",
        "with grid.output_to(6, 2):\n",
        "  y_axis= [np.count_nonzero(i) for i in list(np.array(Q_sto_reach_windowed).reshape(int(episodes/window_size), window_size))]\n",
        "  fig= plt.figure()\n",
        "  axis= fig.add_axes([0, 0, 1, 1])\n",
        "  axis.bar([i for i in range(1, 11)], y_axis, width= 0.25)\n",
        "  axis.set_title('Percentage of goal achievements by \\nagent for every {} episodes'.format(window_size))\n",
        "  axis.set_xlabel('Episodes (*100)')\n",
        "  axis.set_ylabel('Percentage of goal achievements')\n",
        "  fig.show()\n",
        "  print(y_axis)"
      ],
      "execution_count": null,
      "outputs": [
        {
          "output_type": "display_data",
          "data": {
            "text/html": [
              "<style>\n",
              "       table#id102, #id102 > tbody > tr > th, #id102 > tbody > tr > td {\n",
              "         border: 1px solid lightgray;\n",
              "         border-collapse:collapse;\n",
              "         \n",
              "        }</style>"
            ],
            "text/plain": [
              "<IPython.core.display.HTML object>"
            ]
          },
          "metadata": {
            "tags": [
              "outputarea_id102"
            ]
          }
        },
        {
          "output_type": "display_data",
          "data": {
            "text/html": [
              "<table id=id102><tr><td id=id102-0-0></td><td id=id102-0-1></td><td id=id102-0-2></td></tr><tr><td id=id102-1-0></td><td id=id102-1-1></td><td id=id102-1-2></td></tr><tr><td id=id102-2-0></td><td id=id102-2-1></td><td id=id102-2-2></td></tr><tr><td id=id102-3-0></td><td id=id102-3-1></td><td id=id102-3-2></td></tr><tr><td id=id102-4-0></td><td id=id102-4-1></td><td id=id102-4-2></td></tr><tr><td id=id102-5-0></td><td id=id102-5-1></td><td id=id102-5-2></td></tr><tr><td id=id102-6-0></td><td id=id102-6-1></td><td id=id102-6-2></td></tr></table>"
            ],
            "text/plain": [
              "<IPython.core.display.HTML object>"
            ]
          },
          "metadata": {
            "tags": [
              "outputarea_id102"
            ]
          }
        },
        {
          "output_type": "display_data",
          "data": {
            "application/javascript": [
              "window[\"29a1d6b6-77d4-11eb-844c-0242ac1c0002\"] = google.colab.output.getActiveOutputArea();\n",
              "//# sourceURL=js_2b5b4742a4"
            ],
            "text/plain": [
              "<IPython.core.display.Javascript object>"
            ]
          },
          "metadata": {
            "tags": [
              "id102-1-0",
              "outputarea_id102"
            ]
          }
        },
        {
          "output_type": "display_data",
          "data": {
            "application/javascript": [
              "window[\"29a21cac-77d4-11eb-844c-0242ac1c0002\"] = document.querySelector(\"#id102-1-0\");\n",
              "//# sourceURL=js_c8f57c35f6"
            ],
            "text/plain": [
              "<IPython.core.display.Javascript object>"
            ]
          },
          "metadata": {
            "tags": [
              "id102-1-0",
              "outputarea_id102"
            ]
          }
        },
        {
          "output_type": "display_data",
          "data": {
            "application/javascript": [
              "window[\"29a25ce4-77d4-11eb-844c-0242ac1c0002\"] = google.colab.output.setActiveOutputArea(window[\"29a21cac-77d4-11eb-844c-0242ac1c0002\"]);\n",
              "//# sourceURL=js_e9a7aa401b"
            ],
            "text/plain": [
              "<IPython.core.display.Javascript object>"
            ]
          },
          "metadata": {
            "tags": [
              "id102-1-0",
              "outputarea_id102"
            ]
          }
        },
        {
          "output_type": "stream",
          "text": [
            "Cummulative reward per episode\n"
          ],
          "name": "stdout"
        },
        {
          "output_type": "display_data",
          "data": {
            "application/javascript": [
              "window[\"29a349ce-77d4-11eb-844c-0242ac1c0002\"] = google.colab.output.setActiveOutputArea(window[\"29a1d6b6-77d4-11eb-844c-0242ac1c0002\"]);\n",
              "//# sourceURL=js_dca11d0824"
            ],
            "text/plain": [
              "<IPython.core.display.Javascript object>"
            ]
          },
          "metadata": {
            "tags": [
              "id102-1-0",
              "outputarea_id102"
            ]
          }
        },
        {
          "output_type": "display_data",
          "data": {
            "application/javascript": [
              "window[\"29a4a9b8-77d4-11eb-844c-0242ac1c0002\"] = google.colab.output.getActiveOutputArea();\n",
              "//# sourceURL=js_e21fb648a9"
            ],
            "text/plain": [
              "<IPython.core.display.Javascript object>"
            ]
          },
          "metadata": {
            "tags": [
              "id102-2-0",
              "outputarea_id102"
            ]
          }
        },
        {
          "output_type": "display_data",
          "data": {
            "application/javascript": [
              "window[\"29a4f7c4-77d4-11eb-844c-0242ac1c0002\"] = document.querySelector(\"#id102-2-0\");\n",
              "//# sourceURL=js_7c6efed833"
            ],
            "text/plain": [
              "<IPython.core.display.Javascript object>"
            ]
          },
          "metadata": {
            "tags": [
              "id102-2-0",
              "outputarea_id102"
            ]
          }
        },
        {
          "output_type": "display_data",
          "data": {
            "application/javascript": [
              "window[\"29a53bee-77d4-11eb-844c-0242ac1c0002\"] = google.colab.output.setActiveOutputArea(window[\"29a4f7c4-77d4-11eb-844c-0242ac1c0002\"]);\n",
              "//# sourceURL=js_d6b7b007a6"
            ],
            "text/plain": [
              "<IPython.core.display.Javascript object>"
            ]
          },
          "metadata": {
            "tags": [
              "id102-2-0",
              "outputarea_id102"
            ]
          }
        },
        {
          "output_type": "stream",
          "text": [
            "Average reward per episode\n"
          ],
          "name": "stdout"
        },
        {
          "output_type": "display_data",
          "data": {
            "application/javascript": [
              "window[\"29a62504-77d4-11eb-844c-0242ac1c0002\"] = google.colab.output.setActiveOutputArea(window[\"29a4a9b8-77d4-11eb-844c-0242ac1c0002\"]);\n",
              "//# sourceURL=js_16f43d7c01"
            ],
            "text/plain": [
              "<IPython.core.display.Javascript object>"
            ]
          },
          "metadata": {
            "tags": [
              "id102-2-0",
              "outputarea_id102"
            ]
          }
        },
        {
          "output_type": "display_data",
          "data": {
            "application/javascript": [
              "window[\"29a78188-77d4-11eb-844c-0242ac1c0002\"] = google.colab.output.getActiveOutputArea();\n",
              "//# sourceURL=js_a4d5a3d99a"
            ],
            "text/plain": [
              "<IPython.core.display.Javascript object>"
            ]
          },
          "metadata": {
            "tags": [
              "id102-3-0",
              "outputarea_id102"
            ]
          }
        },
        {
          "output_type": "display_data",
          "data": {
            "application/javascript": [
              "window[\"29a7c4ea-77d4-11eb-844c-0242ac1c0002\"] = document.querySelector(\"#id102-3-0\");\n",
              "//# sourceURL=js_c8caff1081"
            ],
            "text/plain": [
              "<IPython.core.display.Javascript object>"
            ]
          },
          "metadata": {
            "tags": [
              "id102-3-0",
              "outputarea_id102"
            ]
          }
        },
        {
          "output_type": "display_data",
          "data": {
            "application/javascript": [
              "window[\"29a809be-77d4-11eb-844c-0242ac1c0002\"] = google.colab.output.setActiveOutputArea(window[\"29a7c4ea-77d4-11eb-844c-0242ac1c0002\"]);\n",
              "//# sourceURL=js_a1696eddca"
            ],
            "text/plain": [
              "<IPython.core.display.Javascript object>"
            ]
          },
          "metadata": {
            "tags": [
              "id102-3-0",
              "outputarea_id102"
            ]
          }
        },
        {
          "output_type": "stream",
          "text": [
            "Epsilon decay\n"
          ],
          "name": "stdout"
        },
        {
          "output_type": "display_data",
          "data": {
            "application/javascript": [
              "window[\"29a8f176-77d4-11eb-844c-0242ac1c0002\"] = google.colab.output.setActiveOutputArea(window[\"29a78188-77d4-11eb-844c-0242ac1c0002\"]);\n",
              "//# sourceURL=js_b779bebd60"
            ],
            "text/plain": [
              "<IPython.core.display.Javascript object>"
            ]
          },
          "metadata": {
            "tags": [
              "id102-3-0",
              "outputarea_id102"
            ]
          }
        },
        {
          "output_type": "display_data",
          "data": {
            "application/javascript": [
              "window[\"29aa5200-77d4-11eb-844c-0242ac1c0002\"] = google.colab.output.getActiveOutputArea();\n",
              "//# sourceURL=js_2a934ddc1b"
            ],
            "text/plain": [
              "<IPython.core.display.Javascript object>"
            ]
          },
          "metadata": {
            "tags": [
              "id102-4-0",
              "outputarea_id102"
            ]
          }
        },
        {
          "output_type": "display_data",
          "data": {
            "application/javascript": [
              "window[\"29aa9774-77d4-11eb-844c-0242ac1c0002\"] = document.querySelector(\"#id102-4-0\");\n",
              "//# sourceURL=js_72fd962c36"
            ],
            "text/plain": [
              "<IPython.core.display.Javascript object>"
            ]
          },
          "metadata": {
            "tags": [
              "id102-4-0",
              "outputarea_id102"
            ]
          }
        },
        {
          "output_type": "display_data",
          "data": {
            "application/javascript": [
              "window[\"29aad8a6-77d4-11eb-844c-0242ac1c0002\"] = google.colab.output.setActiveOutputArea(window[\"29aa9774-77d4-11eb-844c-0242ac1c0002\"]);\n",
              "//# sourceURL=js_77e632df60"
            ],
            "text/plain": [
              "<IPython.core.display.Javascript object>"
            ]
          },
          "metadata": {
            "tags": [
              "id102-4-0",
              "outputarea_id102"
            ]
          }
        },
        {
          "output_type": "stream",
          "text": [
            "Average number of timesteps per episode\n"
          ],
          "name": "stdout"
        },
        {
          "output_type": "display_data",
          "data": {
            "application/javascript": [
              "window[\"29abc518-77d4-11eb-844c-0242ac1c0002\"] = google.colab.output.setActiveOutputArea(window[\"29aa5200-77d4-11eb-844c-0242ac1c0002\"]);\n",
              "//# sourceURL=js_beb6480302"
            ],
            "text/plain": [
              "<IPython.core.display.Javascript object>"
            ]
          },
          "metadata": {
            "tags": [
              "id102-4-0",
              "outputarea_id102"
            ]
          }
        },
        {
          "output_type": "display_data",
          "data": {
            "application/javascript": [
              "window[\"29ad5608-77d4-11eb-844c-0242ac1c0002\"] = google.colab.output.getActiveOutputArea();\n",
              "//# sourceURL=js_e09dd1db9e"
            ],
            "text/plain": [
              "<IPython.core.display.Javascript object>"
            ]
          },
          "metadata": {
            "tags": [
              "id102-5-0",
              "outputarea_id102"
            ]
          }
        },
        {
          "output_type": "display_data",
          "data": {
            "application/javascript": [
              "window[\"29ad9a28-77d4-11eb-844c-0242ac1c0002\"] = document.querySelector(\"#id102-5-0\");\n",
              "//# sourceURL=js_9bb48a4862"
            ],
            "text/plain": [
              "<IPython.core.display.Javascript object>"
            ]
          },
          "metadata": {
            "tags": [
              "id102-5-0",
              "outputarea_id102"
            ]
          }
        },
        {
          "output_type": "display_data",
          "data": {
            "application/javascript": [
              "window[\"29addd94-77d4-11eb-844c-0242ac1c0002\"] = google.colab.output.setActiveOutputArea(window[\"29ad9a28-77d4-11eb-844c-0242ac1c0002\"]);\n",
              "//# sourceURL=js_3719ed910c"
            ],
            "text/plain": [
              "<IPython.core.display.Javascript object>"
            ]
          },
          "metadata": {
            "tags": [
              "id102-5-0",
              "outputarea_id102"
            ]
          }
        },
        {
          "output_type": "stream",
          "text": [
            "Average number of times agent \n",
            "receives penalty per episode\n"
          ],
          "name": "stdout"
        },
        {
          "output_type": "display_data",
          "data": {
            "application/javascript": [
              "window[\"29aee0c2-77d4-11eb-844c-0242ac1c0002\"] = google.colab.output.setActiveOutputArea(window[\"29ad5608-77d4-11eb-844c-0242ac1c0002\"]);\n",
              "//# sourceURL=js_123e94f7c4"
            ],
            "text/plain": [
              "<IPython.core.display.Javascript object>"
            ]
          },
          "metadata": {
            "tags": [
              "id102-5-0",
              "outputarea_id102"
            ]
          }
        },
        {
          "output_type": "display_data",
          "data": {
            "application/javascript": [
              "window[\"29b0547a-77d4-11eb-844c-0242ac1c0002\"] = google.colab.output.getActiveOutputArea();\n",
              "//# sourceURL=js_d294659892"
            ],
            "text/plain": [
              "<IPython.core.display.Javascript object>"
            ]
          },
          "metadata": {
            "tags": [
              "id102-6-0",
              "outputarea_id102"
            ]
          }
        },
        {
          "output_type": "display_data",
          "data": {
            "application/javascript": [
              "window[\"29b0a060-77d4-11eb-844c-0242ac1c0002\"] = document.querySelector(\"#id102-6-0\");\n",
              "//# sourceURL=js_108d8524b5"
            ],
            "text/plain": [
              "<IPython.core.display.Javascript object>"
            ]
          },
          "metadata": {
            "tags": [
              "id102-6-0",
              "outputarea_id102"
            ]
          }
        },
        {
          "output_type": "display_data",
          "data": {
            "application/javascript": [
              "window[\"29b0e46c-77d4-11eb-844c-0242ac1c0002\"] = google.colab.output.setActiveOutputArea(window[\"29b0a060-77d4-11eb-844c-0242ac1c0002\"]);\n",
              "//# sourceURL=js_8766e76adf"
            ],
            "text/plain": [
              "<IPython.core.display.Javascript object>"
            ]
          },
          "metadata": {
            "tags": [
              "id102-6-0",
              "outputarea_id102"
            ]
          }
        },
        {
          "output_type": "stream",
          "text": [
            "Percentage of goal achievements by \n",
            "agent for every 100 episodes\n"
          ],
          "name": "stdout"
        },
        {
          "output_type": "display_data",
          "data": {
            "application/javascript": [
              "window[\"29b1edbc-77d4-11eb-844c-0242ac1c0002\"] = google.colab.output.setActiveOutputArea(window[\"29b0547a-77d4-11eb-844c-0242ac1c0002\"]);\n",
              "//# sourceURL=js_2e5cd271da"
            ],
            "text/plain": [
              "<IPython.core.display.Javascript object>"
            ]
          },
          "metadata": {
            "tags": [
              "id102-6-0",
              "outputarea_id102"
            ]
          }
        },
        {
          "output_type": "display_data",
          "data": {
            "application/javascript": [
              "window[\"29b38028-77d4-11eb-844c-0242ac1c0002\"] = google.colab.output.getActiveOutputArea();\n",
              "//# sourceURL=js_c56aa2cd00"
            ],
            "text/plain": [
              "<IPython.core.display.Javascript object>"
            ]
          },
          "metadata": {
            "tags": [
              "id102-0-1",
              "outputarea_id102"
            ]
          }
        },
        {
          "output_type": "display_data",
          "data": {
            "application/javascript": [
              "window[\"29b3c646-77d4-11eb-844c-0242ac1c0002\"] = document.querySelector(\"#id102-0-1\");\n",
              "//# sourceURL=js_1cd0b5807b"
            ],
            "text/plain": [
              "<IPython.core.display.Javascript object>"
            ]
          },
          "metadata": {
            "tags": [
              "id102-0-1",
              "outputarea_id102"
            ]
          }
        },
        {
          "output_type": "display_data",
          "data": {
            "application/javascript": [
              "window[\"29b411a0-77d4-11eb-844c-0242ac1c0002\"] = google.colab.output.setActiveOutputArea(window[\"29b3c646-77d4-11eb-844c-0242ac1c0002\"]);\n",
              "//# sourceURL=js_0a81a81323"
            ],
            "text/plain": [
              "<IPython.core.display.Javascript object>"
            ]
          },
          "metadata": {
            "tags": [
              "id102-0-1",
              "outputarea_id102"
            ]
          }
        },
        {
          "output_type": "stream",
          "text": [
            "Performance of Q-learning agent in \n",
            "Deterministic Environment\n"
          ],
          "name": "stdout"
        },
        {
          "output_type": "display_data",
          "data": {
            "application/javascript": [
              "window[\"29b5227a-77d4-11eb-844c-0242ac1c0002\"] = google.colab.output.setActiveOutputArea(window[\"29b38028-77d4-11eb-844c-0242ac1c0002\"]);\n",
              "//# sourceURL=js_48cf34cc4d"
            ],
            "text/plain": [
              "<IPython.core.display.Javascript object>"
            ]
          },
          "metadata": {
            "tags": [
              "id102-0-1",
              "outputarea_id102"
            ]
          }
        },
        {
          "output_type": "display_data",
          "data": {
            "application/javascript": [
              "window[\"29b69ec0-77d4-11eb-844c-0242ac1c0002\"] = google.colab.output.getActiveOutputArea();\n",
              "//# sourceURL=js_744edf0ef7"
            ],
            "text/plain": [
              "<IPython.core.display.Javascript object>"
            ]
          },
          "metadata": {
            "tags": [
              "id102-1-1",
              "outputarea_id102"
            ]
          }
        },
        {
          "output_type": "display_data",
          "data": {
            "application/javascript": [
              "window[\"29b71148-77d4-11eb-844c-0242ac1c0002\"] = document.querySelector(\"#id102-1-1\");\n",
              "//# sourceURL=js_874c7cd7e0"
            ],
            "text/plain": [
              "<IPython.core.display.Javascript object>"
            ]
          },
          "metadata": {
            "tags": [
              "id102-1-1",
              "outputarea_id102"
            ]
          }
        },
        {
          "output_type": "display_data",
          "data": {
            "application/javascript": [
              "window[\"29b7541e-77d4-11eb-844c-0242ac1c0002\"] = google.colab.output.setActiveOutputArea(window[\"29b71148-77d4-11eb-844c-0242ac1c0002\"]);\n",
              "//# sourceURL=js_c4afdc6643"
            ],
            "text/plain": [
              "<IPython.core.display.Javascript object>"
            ]
          },
          "metadata": {
            "tags": [
              "id102-1-1",
              "outputarea_id102"
            ]
          }
        },
        {
          "output_type": "display_data",
          "data": {
            "image/png": "[encoded data removed]",
            "text/plain": [
              "<Figure size 432x288 with 1 Axes>"
            ]
          },
          "metadata": {
            "tags": [
              "id102-1-1",
              "outputarea_id102",
              "user_output"
            ],
            "needs_background": "light"
          }
        },
        {
          "output_type": "display_data",
          "data": {
            "application/javascript": [
              "window[\"29dd26b2-77d4-11eb-844c-0242ac1c0002\"] = google.colab.output.setActiveOutputArea(window[\"29b69ec0-77d4-11eb-844c-0242ac1c0002\"]);\n",
              "//# sourceURL=js_22682c3d43"
            ],
            "text/plain": [
              "<IPython.core.display.Javascript object>"
            ]
          },
          "metadata": {
            "tags": [
              "id102-1-1",
              "outputarea_id102"
            ]
          }
        },
        {
          "output_type": "display_data",
          "data": {
            "application/javascript": [
              "window[\"29e0ae04-77d4-11eb-844c-0242ac1c0002\"] = google.colab.output.getActiveOutputArea();\n",
              "//# sourceURL=js_f80708c046"
            ],
            "text/plain": [
              "<IPython.core.display.Javascript object>"
            ]
          },
          "metadata": {
            "tags": [
              "id102-2-1",
              "outputarea_id102"
            ]
          }
        },
        {
          "output_type": "display_data",
          "data": {
            "application/javascript": [
              "window[\"29e13d06-77d4-11eb-844c-0242ac1c0002\"] = document.querySelector(\"#id102-2-1\");\n",
              "//# sourceURL=js_dd88471588"
            ],
            "text/plain": [
              "<IPython.core.display.Javascript object>"
            ]
          },
          "metadata": {
            "tags": [
              "id102-2-1",
              "outputarea_id102"
            ]
          }
        },
        {
          "output_type": "display_data",
          "data": {
            "application/javascript": [
              "window[\"29e17a46-77d4-11eb-844c-0242ac1c0002\"] = google.colab.output.setActiveOutputArea(window[\"29e13d06-77d4-11eb-844c-0242ac1c0002\"]);\n",
              "//# sourceURL=js_2fdf2717fc"
            ],
            "text/plain": [
              "<IPython.core.display.Javascript object>"
            ]
          },
          "metadata": {
            "tags": [
              "id102-2-1",
              "outputarea_id102"
            ]
          }
        },
        {
          "output_type": "display_data",
          "data": {
            "image/png": "[encoded data removed]",
            "text/plain": [
              "<Figure size 432x288 with 1 Axes>"
            ]
          },
          "metadata": {
            "tags": [
              "id102-2-1",
              "outputarea_id102",
              "user_output"
            ],
            "needs_background": "light"
          }
        },
        {
          "output_type": "display_data",
          "data": {
            "application/javascript": [
              "window[\"29fc0a82-77d4-11eb-844c-0242ac1c0002\"] = google.colab.output.setActiveOutputArea(window[\"29e0ae04-77d4-11eb-844c-0242ac1c0002\"]);\n",
              "//# sourceURL=js_48810b9c76"
            ],
            "text/plain": [
              "<IPython.core.display.Javascript object>"
            ]
          },
          "metadata": {
            "tags": [
              "id102-2-1",
              "outputarea_id102"
            ]
          }
        },
        {
          "output_type": "display_data",
          "data": {
            "application/javascript": [
              "window[\"29ff08b8-77d4-11eb-844c-0242ac1c0002\"] = google.colab.output.getActiveOutputArea();\n",
              "//# sourceURL=js_f89023a840"
            ],
            "text/plain": [
              "<IPython.core.display.Javascript object>"
            ]
          },
          "metadata": {
            "tags": [
              "id102-3-1",
              "outputarea_id102"
            ]
          }
        },
        {
          "output_type": "display_data",
          "data": {
            "application/javascript": [
              "window[\"29ff5318-77d4-11eb-844c-0242ac1c0002\"] = document.querySelector(\"#id102-3-1\");\n",
              "//# sourceURL=js_69d5364857"
            ],
            "text/plain": [
              "<IPython.core.display.Javascript object>"
            ]
          },
          "metadata": {
            "tags": [
              "id102-3-1",
              "outputarea_id102"
            ]
          }
        },
        {
          "output_type": "display_data",
          "data": {
            "application/javascript": [
              "window[\"29ffabec-77d4-11eb-844c-0242ac1c0002\"] = google.colab.output.setActiveOutputArea(window[\"29ff5318-77d4-11eb-844c-0242ac1c0002\"]);\n",
              "//# sourceURL=js_5f66dc698a"
            ],
            "text/plain": [
              "<IPython.core.display.Javascript object>"
            ]
          },
          "metadata": {
            "tags": [
              "id102-3-1",
              "outputarea_id102"
            ]
          }
        },
        {
          "output_type": "display_data",
          "data": {
            "image/png": "[encoded data removed]",
            "text/plain": [
              "<Figure size 432x288 with 1 Axes>"
            ]
          },
          "metadata": {
            "tags": [
              "id102-3-1",
              "outputarea_id102",
              "user_output"
            ],
            "needs_background": "light"
          }
        },
        {
          "output_type": "display_data",
          "data": {
            "application/javascript": [
              "window[\"2a16145e-77d4-11eb-844c-0242ac1c0002\"] = google.colab.output.setActiveOutputArea(window[\"29ff08b8-77d4-11eb-844c-0242ac1c0002\"]);\n",
              "//# sourceURL=js_38d3078a0e"
            ],
            "text/plain": [
              "<IPython.core.display.Javascript object>"
            ]
          },
          "metadata": {
            "tags": [
              "id102-3-1",
              "outputarea_id102"
            ]
          }
        },
        {
          "output_type": "display_data",
          "data": {
            "application/javascript": [
              "window[\"2a17c0c4-77d4-11eb-844c-0242ac1c0002\"] = google.colab.output.getActiveOutputArea();\n",
              "//# sourceURL=js_b87832afcb"
            ],
            "text/plain": [
              "<IPython.core.display.Javascript object>"
            ]
          },
          "metadata": {
            "tags": [
              "id102-4-1",
              "outputarea_id102"
            ]
          }
        },
        {
          "output_type": "display_data",
          "data": {
            "application/javascript": [
              "window[\"2a181bfa-77d4-11eb-844c-0242ac1c0002\"] = document.querySelector(\"#id102-4-1\");\n",
              "//# sourceURL=js_61eb841972"
            ],
            "text/plain": [
              "<IPython.core.display.Javascript object>"
            ]
          },
          "metadata": {
            "tags": [
              "id102-4-1",
              "outputarea_id102"
            ]
          }
        },
        {
          "output_type": "display_data",
          "data": {
            "application/javascript": [
              "window[\"2a186f7e-77d4-11eb-844c-0242ac1c0002\"] = google.colab.output.setActiveOutputArea(window[\"2a181bfa-77d4-11eb-844c-0242ac1c0002\"]);\n",
              "//# sourceURL=js_3ee762c67b"
            ],
            "text/plain": [
              "<IPython.core.display.Javascript object>"
            ]
          },
          "metadata": {
            "tags": [
              "id102-4-1",
              "outputarea_id102"
            ]
          }
        },
        {
          "output_type": "stream",
          "text": [
            "41.286\n"
          ],
          "name": "stdout"
        },
        {
          "output_type": "display_data",
          "data": {
            "application/javascript": [
              "window[\"2a19acae-77d4-11eb-844c-0242ac1c0002\"] = google.colab.output.setActiveOutputArea(window[\"2a17c0c4-77d4-11eb-844c-0242ac1c0002\"]);\n",
              "//# sourceURL=js_375f10524a"
            ],
            "text/plain": [
              "<IPython.core.display.Javascript object>"
            ]
          },
          "metadata": {
            "tags": [
              "id102-4-1",
              "outputarea_id102"
            ]
          }
        },
        {
          "output_type": "display_data",
          "data": {
            "application/javascript": [
              "window[\"2a1b5d92-77d4-11eb-844c-0242ac1c0002\"] = google.colab.output.getActiveOutputArea();\n",
              "//# sourceURL=js_c38732aac3"
            ],
            "text/plain": [
              "<IPython.core.display.Javascript object>"
            ]
          },
          "metadata": {
            "tags": [
              "id102-5-1",
              "outputarea_id102"
            ]
          }
        },
        {
          "output_type": "display_data",
          "data": {
            "application/javascript": [
              "window[\"2a1bad92-77d4-11eb-844c-0242ac1c0002\"] = document.querySelector(\"#id102-5-1\");\n",
              "//# sourceURL=js_24cb9bbae0"
            ],
            "text/plain": [
              "<IPython.core.display.Javascript object>"
            ]
          },
          "metadata": {
            "tags": [
              "id102-5-1",
              "outputarea_id102"
            ]
          }
        },
        {
          "output_type": "display_data",
          "data": {
            "application/javascript": [
              "window[\"2a1bfd42-77d4-11eb-844c-0242ac1c0002\"] = google.colab.output.setActiveOutputArea(window[\"2a1bad92-77d4-11eb-844c-0242ac1c0002\"]);\n",
              "//# sourceURL=js_ee15dc58a5"
            ],
            "text/plain": [
              "<IPython.core.display.Javascript object>"
            ]
          },
          "metadata": {
            "tags": [
              "id102-5-1",
              "outputarea_id102"
            ]
          }
        },
        {
          "output_type": "stream",
          "text": [
            "0.095\n"
          ],
          "name": "stdout"
        },
        {
          "output_type": "display_data",
          "data": {
            "application/javascript": [
              "window[\"2a1d4580-77d4-11eb-844c-0242ac1c0002\"] = google.colab.output.setActiveOutputArea(window[\"2a1b5d92-77d4-11eb-844c-0242ac1c0002\"]);\n",
              "//# sourceURL=js_21ce56281b"
            ],
            "text/plain": [
              "<IPython.core.display.Javascript object>"
            ]
          },
          "metadata": {
            "tags": [
              "id102-5-1",
              "outputarea_id102"
            ]
          }
        },
        {
          "output_type": "display_data",
          "data": {
            "application/javascript": [
              "window[\"2a1ee6e2-77d4-11eb-844c-0242ac1c0002\"] = google.colab.output.getActiveOutputArea();\n",
              "//# sourceURL=js_2e79a5a6a9"
            ],
            "text/plain": [
              "<IPython.core.display.Javascript object>"
            ]
          },
          "metadata": {
            "tags": [
              "id102-6-1",
              "outputarea_id102"
            ]
          }
        },
        {
          "output_type": "display_data",
          "data": {
            "application/javascript": [
              "window[\"2a1f4c7c-77d4-11eb-844c-0242ac1c0002\"] = document.querySelector(\"#id102-6-1\");\n",
              "//# sourceURL=js_fd9a606914"
            ],
            "text/plain": [
              "<IPython.core.display.Javascript object>"
            ]
          },
          "metadata": {
            "tags": [
              "id102-6-1",
              "outputarea_id102"
            ]
          }
        },
        {
          "output_type": "display_data",
          "data": {
            "application/javascript": [
              "window[\"2a1f98da-77d4-11eb-844c-0242ac1c0002\"] = google.colab.output.setActiveOutputArea(window[\"2a1f4c7c-77d4-11eb-844c-0242ac1c0002\"]);\n",
              "//# sourceURL=js_1ffaf1810b"
            ],
            "text/plain": [
              "<IPython.core.display.Javascript object>"
            ]
          },
          "metadata": {
            "tags": [
              "id102-6-1",
              "outputarea_id102"
            ]
          }
        },
        {
          "output_type": "stream",
          "text": [
            "[93, 89, 63, 27, 5, 4, 1, 0, 0, 0]\n"
          ],
          "name": "stdout"
        },
        {
          "output_type": "display_data",
          "data": {
            "image/png": "[encoded data removed]",
            "text/plain": [
              "<Figure size 432x288 with 1 Axes>"
            ]
          },
          "metadata": {
            "tags": [
              "id102-6-1",
              "outputarea_id102",
              "user_output"
            ],
            "needs_background": "light"
          }
        },
        {
          "output_type": "display_data",
          "data": {
            "application/javascript": [
              "window[\"2a538e6a-77d4-11eb-844c-0242ac1c0002\"] = google.colab.output.setActiveOutputArea(window[\"2a1ee6e2-77d4-11eb-844c-0242ac1c0002\"]);\n",
              "//# sourceURL=js_af979efb4e"
            ],
            "text/plain": [
              "<IPython.core.display.Javascript object>"
            ]
          },
          "metadata": {
            "tags": [
              "id102-6-1",
              "outputarea_id102"
            ]
          }
        },
        {
          "output_type": "display_data",
          "data": {
            "application/javascript": [
              "window[\"2a552176-77d4-11eb-844c-0242ac1c0002\"] = google.colab.output.getActiveOutputArea();\n",
              "//# sourceURL=js_b8cd13db47"
            ],
            "text/plain": [
              "<IPython.core.display.Javascript object>"
            ]
          },
          "metadata": {
            "tags": [
              "id102-0-2",
              "outputarea_id102"
            ]
          }
        },
        {
          "output_type": "display_data",
          "data": {
            "application/javascript": [
              "window[\"2a55740a-77d4-11eb-844c-0242ac1c0002\"] = document.querySelector(\"#id102-0-2\");\n",
              "//# sourceURL=js_ffe0a3e226"
            ],
            "text/plain": [
              "<IPython.core.display.Javascript object>"
            ]
          },
          "metadata": {
            "tags": [
              "id102-0-2",
              "outputarea_id102"
            ]
          }
        },
        {
          "output_type": "display_data",
          "data": {
            "application/javascript": [
              "window[\"2a55c9c8-77d4-11eb-844c-0242ac1c0002\"] = google.colab.output.setActiveOutputArea(window[\"2a55740a-77d4-11eb-844c-0242ac1c0002\"]);\n",
              "//# sourceURL=js_59b4ce00dc"
            ],
            "text/plain": [
              "<IPython.core.display.Javascript object>"
            ]
          },
          "metadata": {
            "tags": [
              "id102-0-2",
              "outputarea_id102"
            ]
          }
        },
        {
          "output_type": "stream",
          "text": [
            "Performance of Q-learning agent in \n",
            "Stochastic Environment\n"
          ],
          "name": "stdout"
        },
        {
          "output_type": "display_data",
          "data": {
            "application/javascript": [
              "window[\"2a56e164-77d4-11eb-844c-0242ac1c0002\"] = google.colab.output.setActiveOutputArea(window[\"2a552176-77d4-11eb-844c-0242ac1c0002\"]);\n",
              "//# sourceURL=js_35fce00cd1"
            ],
            "text/plain": [
              "<IPython.core.display.Javascript object>"
            ]
          },
          "metadata": {
            "tags": [
              "id102-0-2",
              "outputarea_id102"
            ]
          }
        },
        {
          "output_type": "display_data",
          "data": {
            "application/javascript": [
              "window[\"2a582b64-77d4-11eb-844c-0242ac1c0002\"] = google.colab.output.getActiveOutputArea();\n",
              "//# sourceURL=js_105277f8a0"
            ],
            "text/plain": [
              "<IPython.core.display.Javascript object>"
            ]
          },
          "metadata": {
            "tags": [
              "id102-1-2",
              "outputarea_id102"
            ]
          }
        },
        {
          "output_type": "display_data",
          "data": {
            "application/javascript": [
              "window[\"2a58716e-77d4-11eb-844c-0242ac1c0002\"] = document.querySelector(\"#id102-1-2\");\n",
              "//# sourceURL=js_8f6c1731af"
            ],
            "text/plain": [
              "<IPython.core.display.Javascript object>"
            ]
          },
          "metadata": {
            "tags": [
              "id102-1-2",
              "outputarea_id102"
            ]
          }
        },
        {
          "output_type": "display_data",
          "data": {
            "application/javascript": [
              "window[\"2a58cf06-77d4-11eb-844c-0242ac1c0002\"] = google.colab.output.setActiveOutputArea(window[\"2a58716e-77d4-11eb-844c-0242ac1c0002\"]);\n",
              "//# sourceURL=js_61db4ab5ac"
            ],
            "text/plain": [
              "<IPython.core.display.Javascript object>"
            ]
          },
          "metadata": {
            "tags": [
              "id102-1-2",
              "outputarea_id102"
            ]
          }
        },
        {
          "output_type": "display_data",
          "data": {
            "image/png": "[encoded data removed]",
            "text/plain": [
              "<Figure size 432x288 with 1 Axes>"
            ]
          },
          "metadata": {
            "tags": [
              "id102-1-2",
              "outputarea_id102",
              "user_output"
            ],
            "needs_background": "light"
          }
        },
        {
          "output_type": "display_data",
          "data": {
            "application/javascript": [
              "window[\"2a7adb6e-77d4-11eb-844c-0242ac1c0002\"] = google.colab.output.setActiveOutputArea(window[\"2a582b64-77d4-11eb-844c-0242ac1c0002\"]);\n",
              "//# sourceURL=js_04d70f4cac"
            ],
            "text/plain": [
              "<IPython.core.display.Javascript object>"
            ]
          },
          "metadata": {
            "tags": [
              "id102-1-2",
              "outputarea_id102"
            ]
          }
        },
        {
          "output_type": "display_data",
          "data": {
            "application/javascript": [
              "window[\"2a7d05d8-77d4-11eb-844c-0242ac1c0002\"] = google.colab.output.getActiveOutputArea();\n",
              "//# sourceURL=js_62162748c4"
            ],
            "text/plain": [
              "<IPython.core.display.Javascript object>"
            ]
          },
          "metadata": {
            "tags": [
              "id102-2-2",
              "outputarea_id102"
            ]
          }
        },
        {
          "output_type": "display_data",
          "data": {
            "application/javascript": [
              "window[\"2a7d6dd4-77d4-11eb-844c-0242ac1c0002\"] = document.querySelector(\"#id102-2-2\");\n",
              "//# sourceURL=js_ba8a1627cc"
            ],
            "text/plain": [
              "<IPython.core.display.Javascript object>"
            ]
          },
          "metadata": {
            "tags": [
              "id102-2-2",
              "outputarea_id102"
            ]
          }
        },
        {
          "output_type": "display_data",
          "data": {
            "application/javascript": [
              "window[\"2a7de44e-77d4-11eb-844c-0242ac1c0002\"] = google.colab.output.setActiveOutputArea(window[\"2a7d6dd4-77d4-11eb-844c-0242ac1c0002\"]);\n",
              "//# sourceURL=js_026f26ef0b"
            ],
            "text/plain": [
              "<IPython.core.display.Javascript object>"
            ]
          },
          "metadata": {
            "tags": [
              "id102-2-2",
              "outputarea_id102"
            ]
          }
        },
        {
          "output_type": "display_data",
          "data": {
            "image/png": "[encoded data removed]",
            "text/plain": [
              "<Figure size 432x288 with 1 Axes>"
            ]
          },
          "metadata": {
            "tags": [
              "id102-2-2",
              "outputarea_id102",
              "user_output"
            ],
            "needs_background": "light"
          }
        },
        {
          "output_type": "display_data",
          "data": {
            "application/javascript": [
              "window[\"2a9b0ace-77d4-11eb-844c-0242ac1c0002\"] = google.colab.output.setActiveOutputArea(window[\"2a7d05d8-77d4-11eb-844c-0242ac1c0002\"]);\n",
              "//# sourceURL=js_dd7f2c7aa5"
            ],
            "text/plain": [
              "<IPython.core.display.Javascript object>"
            ]
          },
          "metadata": {
            "tags": [
              "id102-2-2",
              "outputarea_id102"
            ]
          }
        },
        {
          "output_type": "display_data",
          "data": {
            "application/javascript": [
              "window[\"2a9c3c0a-77d4-11eb-844c-0242ac1c0002\"] = google.colab.output.getActiveOutputArea();\n",
              "//# sourceURL=js_2abf811a29"
            ],
            "text/plain": [
              "<IPython.core.display.Javascript object>"
            ]
          },
          "metadata": {
            "tags": [
              "id102-3-2",
              "outputarea_id102"
            ]
          }
        },
        {
          "output_type": "display_data",
          "data": {
            "application/javascript": [
              "window[\"2a9c7756-77d4-11eb-844c-0242ac1c0002\"] = document.querySelector(\"#id102-3-2\");\n",
              "//# sourceURL=js_9da6f59096"
            ],
            "text/plain": [
              "<IPython.core.display.Javascript object>"
            ]
          },
          "metadata": {
            "tags": [
              "id102-3-2",
              "outputarea_id102"
            ]
          }
        },
        {
          "output_type": "display_data",
          "data": {
            "application/javascript": [
              "window[\"2a9cafb4-77d4-11eb-844c-0242ac1c0002\"] = google.colab.output.setActiveOutputArea(window[\"2a9c7756-77d4-11eb-844c-0242ac1c0002\"]);\n",
              "//# sourceURL=js_6237506357"
            ],
            "text/plain": [
              "<IPython.core.display.Javascript object>"
            ]
          },
          "metadata": {
            "tags": [
              "id102-3-2",
              "outputarea_id102"
            ]
          }
        },
        {
          "output_type": "display_data",
          "data": {
            "image/png": "[encoded data removed]",
            "text/plain": [
              "<Figure size 432x288 with 1 Axes>"
            ]
          },
          "metadata": {
            "tags": [
              "id102-3-2",
              "outputarea_id102",
              "user_output"
            ],
            "needs_background": "light"
          }
        },
        {
          "output_type": "display_data",
          "data": {
            "application/javascript": [
              "window[\"2ab850de-77d4-11eb-844c-0242ac1c0002\"] = google.colab.output.setActiveOutputArea(window[\"2a9c3c0a-77d4-11eb-844c-0242ac1c0002\"]);\n",
              "//# sourceURL=js_88113829d4"
            ],
            "text/plain": [
              "<IPython.core.display.Javascript object>"
            ]
          },
          "metadata": {
            "tags": [
              "id102-3-2",
              "outputarea_id102"
            ]
          }
        },
        {
          "output_type": "display_data",
          "data": {
            "application/javascript": [
              "window[\"2ab9623a-77d4-11eb-844c-0242ac1c0002\"] = google.colab.output.getActiveOutputArea();\n",
              "//# sourceURL=js_d2cd64830d"
            ],
            "text/plain": [
              "<IPython.core.display.Javascript object>"
            ]
          },
          "metadata": {
            "tags": [
              "id102-4-2",
              "outputarea_id102"
            ]
          }
        },
        {
          "output_type": "display_data",
          "data": {
            "application/javascript": [
              "window[\"2ab9a5f6-77d4-11eb-844c-0242ac1c0002\"] = document.querySelector(\"#id102-4-2\");\n",
              "//# sourceURL=js_1cae010411"
            ],
            "text/plain": [
              "<IPython.core.display.Javascript object>"
            ]
          },
          "metadata": {
            "tags": [
              "id102-4-2",
              "outputarea_id102"
            ]
          }
        },
        {
          "output_type": "display_data",
          "data": {
            "application/javascript": [
              "window[\"2ab9e016-77d4-11eb-844c-0242ac1c0002\"] = google.colab.output.setActiveOutputArea(window[\"2ab9a5f6-77d4-11eb-844c-0242ac1c0002\"]);\n",
              "//# sourceURL=js_567cb937ee"
            ],
            "text/plain": [
              "<IPython.core.display.Javascript object>"
            ]
          },
          "metadata": {
            "tags": [
              "id102-4-2",
              "outputarea_id102"
            ]
          }
        },
        {
          "output_type": "stream",
          "text": [
            "22.265\n"
          ],
          "name": "stdout"
        },
        {
          "output_type": "display_data",
          "data": {
            "application/javascript": [
              "window[\"2aba9d80-77d4-11eb-844c-0242ac1c0002\"] = google.colab.output.setActiveOutputArea(window[\"2ab9623a-77d4-11eb-844c-0242ac1c0002\"]);\n",
              "//# sourceURL=js_6b19c3524b"
            ],
            "text/plain": [
              "<IPython.core.display.Javascript object>"
            ]
          },
          "metadata": {
            "tags": [
              "id102-4-2",
              "outputarea_id102"
            ]
          }
        },
        {
          "output_type": "display_data",
          "data": {
            "application/javascript": [
              "window[\"2abbc8b8-77d4-11eb-844c-0242ac1c0002\"] = google.colab.output.getActiveOutputArea();\n",
              "//# sourceURL=js_ed73ccebec"
            ],
            "text/plain": [
              "<IPython.core.display.Javascript object>"
            ]
          },
          "metadata": {
            "tags": [
              "id102-5-2",
              "outputarea_id102"
            ]
          }
        },
        {
          "output_type": "display_data",
          "data": {
            "application/javascript": [
              "window[\"2abc0b5c-77d4-11eb-844c-0242ac1c0002\"] = document.querySelector(\"#id102-5-2\");\n",
              "//# sourceURL=js_4ce788522f"
            ],
            "text/plain": [
              "<IPython.core.display.Javascript object>"
            ]
          },
          "metadata": {
            "tags": [
              "id102-5-2",
              "outputarea_id102"
            ]
          }
        },
        {
          "output_type": "display_data",
          "data": {
            "application/javascript": [
              "window[\"2abc4f0e-77d4-11eb-844c-0242ac1c0002\"] = google.colab.output.setActiveOutputArea(window[\"2abc0b5c-77d4-11eb-844c-0242ac1c0002\"]);\n",
              "//# sourceURL=js_c84314161f"
            ],
            "text/plain": [
              "<IPython.core.display.Javascript object>"
            ]
          },
          "metadata": {
            "tags": [
              "id102-5-2",
              "outputarea_id102"
            ]
          }
        },
        {
          "output_type": "stream",
          "text": [
            "0.223\n"
          ],
          "name": "stdout"
        },
        {
          "output_type": "display_data",
          "data": {
            "application/javascript": [
              "window[\"2abd1fd8-77d4-11eb-844c-0242ac1c0002\"] = google.colab.output.setActiveOutputArea(window[\"2abbc8b8-77d4-11eb-844c-0242ac1c0002\"]);\n",
              "//# sourceURL=js_f8619d63fc"
            ],
            "text/plain": [
              "<IPython.core.display.Javascript object>"
            ]
          },
          "metadata": {
            "tags": [
              "id102-5-2",
              "outputarea_id102"
            ]
          }
        },
        {
          "output_type": "display_data",
          "data": {
            "application/javascript": [
              "window[\"2abe6b2c-77d4-11eb-844c-0242ac1c0002\"] = google.colab.output.getActiveOutputArea();\n",
              "//# sourceURL=js_8da9d7be12"
            ],
            "text/plain": [
              "<IPython.core.display.Javascript object>"
            ]
          },
          "metadata": {
            "tags": [
              "id102-6-2",
              "outputarea_id102"
            ]
          }
        },
        {
          "output_type": "display_data",
          "data": {
            "application/javascript": [
              "window[\"2abeae02-77d4-11eb-844c-0242ac1c0002\"] = document.querySelector(\"#id102-6-2\");\n",
              "//# sourceURL=js_55c92d7ad9"
            ],
            "text/plain": [
              "<IPython.core.display.Javascript object>"
            ]
          },
          "metadata": {
            "tags": [
              "id102-6-2",
              "outputarea_id102"
            ]
          }
        },
        {
          "output_type": "display_data",
          "data": {
            "application/javascript": [
              "window[\"2abee1b0-77d4-11eb-844c-0242ac1c0002\"] = google.colab.output.setActiveOutputArea(window[\"2abeae02-77d4-11eb-844c-0242ac1c0002\"]);\n",
              "//# sourceURL=js_0181e5c041"
            ],
            "text/plain": [
              "<IPython.core.display.Javascript object>"
            ]
          },
          "metadata": {
            "tags": [
              "id102-6-2",
              "outputarea_id102"
            ]
          }
        },
        {
          "output_type": "stream",
          "text": [
            "[82, 95, 93, 95, 94, 97, 90, 93, 95, 90]\n"
          ],
          "name": "stdout"
        },
        {
          "output_type": "display_data",
          "data": {
            "image/png": "[encoded data removed]",
            "text/plain": [
              "<Figure size 432x288 with 1 Axes>"
            ]
          },
          "metadata": {
            "tags": [
              "id102-6-2",
              "outputarea_id102",
              "user_output"
            ],
            "needs_background": "light"
          }
        },
        {
          "output_type": "display_data",
          "data": {
            "application/javascript": [
              "window[\"2ae87d68-77d4-11eb-844c-0242ac1c0002\"] = google.colab.output.setActiveOutputArea(window[\"2abe6b2c-77d4-11eb-844c-0242ac1c0002\"]);\n",
              "//# sourceURL=js_63f3f9f384"
            ],
            "text/plain": [
              "<IPython.core.display.Javascript object>"
            ]
          },
          "metadata": {
            "tags": [
              "id102-6-2",
              "outputarea_id102"
            ]
          }
        }
      ]
    },
    {
      "cell_type": "markdown",
      "metadata": {
        "id": "gQWFfdkJ7njD"
      },
      "source": [
        "#### **Report**\n",
        "\n",
        "1. **Cummulative reward earned per episode** \\\n",
        "Deterministic environment (DE): Stays high beyond 600 or so episodes as the agent learns to always uses the same path to goal. \\\n",
        "Stochastic environment (SE): Stays unstable because of the inherent stochasticity of the environment and also because of the epsilon value that is set to 1.0, meaning higher tendency to explore rather than exploit.\n",
        "2. **Average reward per episode** \\\n",
        "The average reward er episode rises as expected over 1000 episodes, but in SE, the agent starts to return higher reward earlier than in DE, as the agent by chance finds a better path to get to goal.\n",
        "3. **Average number of timesteps per episode** \\\n",
        "Agent in DE, on average, takes more timesteps to reach the goal that in SE\n",
        "4. **Average number of times agent receives penalty per episode** \\\n",
        "Agent in SE tends to step on penalty state more than when in DE because the state exploration happens at random.\n",
        "5. **Percentage of goal achievement by the agent for every 100 episodes** \\\n",
        "Agent in SE has a higher percentage of achieving the goal when compared to when in DE."
      ]
    },
    {
      "cell_type": "markdown",
      "metadata": {
        "id": "Fi-TvG5evpXT"
      },
      "source": [
        "## References\n",
        "1. Reinforcement Learning: An Introduction by Richard S. Sutton & Andrew G. Barto - http://incompleteideas.net/book/RLbook2020.pdf\n",
        "2. Q-learning [Wikipedia] - https://en.wikipedia.org/wiki/Q-learning\n",
        "3. An Introduction to Q-Learning [Youtube] - https://youtu.be/wN3rxIKmMgE\n",
        "4. Simple Reinforcement Learning: Q-learning - https://towardsdatascience.com/simple-reinforcement-learning-q-learning-fcddc4b6fe56\n",
        "5. Introduction to Various Reinforcement Learning Algorithms. Part I (Q-Learning, SARSA, DQN, DDPG) - https://towardsdatascience.com/introduction-to-various-reinforcement-learning-algorithms-i-q-learning-sarsa-dqn-ddpg-72a5e0cb6287"
      ]
    }
  ]
}