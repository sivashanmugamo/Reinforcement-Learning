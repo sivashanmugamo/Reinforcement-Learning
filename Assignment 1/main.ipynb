{
  "nbformat": 4,
  "nbformat_minor": 0,
  "metadata": {
    "colab": {
      "name": "main.ipynb",
      "provenance": [],
      "collapsed_sections": []
    },
    "kernelspec": {
      "name": "python3",
      "display_name": "Python 3"
    }
  },
  "cells": [
    {
      "cell_type": "markdown",
      "metadata": {
        "id": "e13KGdjfy84h"
      },
      "source": [
        "CSE 546 - Reinforcement Learning\n",
        "# Assignment 1 - *Defining & Solving RL Environments*"
      ]
    },
    {
      "cell_type": "markdown",
      "metadata": {
        "id": "yCRK74DTyHZG"
      },
      "source": [
        "## Prerequisites"
      ]
    },
    {
      "cell_type": "markdown",
      "metadata": {
        "id": "Ki-gD2pYw1Nk"
      },
      "source": [
        "*Installing required libraries*"
      ]
    },
    {
      "cell_type": "code",
      "metadata": {
        "colab": {
          "base_uri": "https://localhost:8080/"
        },
        "id": "1X_iEXBOtYnV",
        "outputId": "fc950f44-065d-4527-8b88-01a67740f756"
      },
      "source": [
        "!pip install gym"
      ],
      "execution_count": 1,
      "outputs": [
        {
          "output_type": "stream",
          "text": [
            "Requirement already satisfied: gym in /usr/local/lib/python3.7/dist-packages (0.17.3)\n",
            "Requirement already satisfied: numpy>=1.10.4 in /usr/local/lib/python3.7/dist-packages (from gym) (1.19.5)\n",
            "Requirement already satisfied: cloudpickle<1.7.0,>=1.2.0 in /usr/local/lib/python3.7/dist-packages (from gym) (1.3.0)\n",
            "Requirement already satisfied: pyglet<=1.5.0,>=1.4.0 in /usr/local/lib/python3.7/dist-packages (from gym) (1.5.0)\n",
            "Requirement already satisfied: scipy in /usr/local/lib/python3.7/dist-packages (from gym) (1.4.1)\n",
            "Requirement already satisfied: future in /usr/local/lib/python3.7/dist-packages (from pyglet<=1.5.0,>=1.4.0->gym) (0.16.0)\n"
          ],
          "name": "stdout"
        }
      ]
    },
    {
      "cell_type": "markdown",
      "metadata": {
        "id": "mu24zxFEw43a"
      },
      "source": [
        "*Importing required libraries*"
      ]
    },
    {
      "cell_type": "code",
      "metadata": {
        "id": "KTj1tKPDtdwI"
      },
      "source": [
        "import gym\n",
        "import math\n",
        "import time\n",
        "import pickle\n",
        "import random\n",
        "import numpy as np\n",
        "import matplotlib.pyplot as plt\n",
        "\n",
        "from gym import spaces\n",
        "from google.colab import drive, widgets\n",
        "from IPython.display import clear_output"
      ],
      "execution_count": 2,
      "outputs": []
    },
    {
      "cell_type": "code",
      "metadata": {
        "colab": {
          "base_uri": "https://localhost:8080/"
        },
        "id": "KdMVI3WLJE1o",
        "outputId": "b3e9ba7c-bf41-4175-f825-9273936b78ff"
      },
      "source": [
        "drive.mount('/content/drive')"
      ],
      "execution_count": 3,
      "outputs": [
        {
          "output_type": "stream",
          "text": [
            "Drive already mounted at /content/drive; to attempt to forcibly remount, call drive.mount(\"/content/drive\", force_remount=True).\n"
          ],
          "name": "stdout"
        }
      ]
    },
    {
      "cell_type": "markdown",
      "metadata": {
        "id": "F_JSTp8lyfJd"
      },
      "source": [
        "*Initializing the positions of the agent, goal, and rewards*"
      ]
    },
    {
      "cell_type": "code",
      "metadata": {
        "id": "7vMSjFmIyfzE"
      },
      "source": [
        "AGENT_POS= [0, 0]\n",
        "DIAMOND_POS= [1, 3]\n",
        "COIN_POS= [3, 2]\n",
        "MONSTER_POS= [2, 1]\n",
        "GOAL_POS= [3, 3]"
      ],
      "execution_count": 4,
      "outputs": []
    },
    {
      "cell_type": "markdown",
      "metadata": {
        "id": "yVgyRqLow8M7"
      },
      "source": [
        "*Pre-defining the minimum number of states and actions that will be used in the environment*"
      ]
    },
    {
      "cell_type": "code",
      "metadata": {
        "id": "RDjZbGdJt6Ru"
      },
      "source": [
        "N_STATES= 16\n",
        "N_ACTIONS= 4\n",
        "MAX_TIMESTEPS= 50"
      ],
      "execution_count": 5,
      "outputs": []
    },
    {
      "cell_type": "markdown",
      "metadata": {
        "id": "wBsMUtH3ooN5"
      },
      "source": [
        "*Initializing lookup dictionaries for states & actions*"
      ]
    },
    {
      "cell_type": "code",
      "metadata": {
        "id": "67S4ZywlmRO7"
      },
      "source": [
        "STATE_LOOKUP= dict()\n",
        "ACTION_LOOKUP= {0: 'Down', 1: 'Up', 2: 'Right', 3: 'Left'}\n",
        "\n",
        "k= 0\n",
        "for i in range(4):\n",
        "  for j in range(4):\n",
        "    STATE_LOOKUP[(i, j)]= k\n",
        "    k+= 1"
      ],
      "execution_count": 6,
      "outputs": []
    },
    {
      "cell_type": "markdown",
      "metadata": {
        "id": "Z5C7fUdCMnXT"
      },
      "source": [
        "*Defining directory to & from where models are stored & loaded*"
      ]
    },
    {
      "cell_type": "code",
      "metadata": {
        "id": "DREZO75eMcm0"
      },
      "source": [
        "# Change as per requirement\n",
        "MODEL_DIRECTORY= '/content/drive/MyDrive/Colab Notebooks'"
      ],
      "execution_count": 7,
      "outputs": []
    },
    {
      "cell_type": "markdown",
      "metadata": {
        "id": "VJqdDeT4RSLx"
      },
      "source": [
        "## Defining Environments"
      ]
    },
    {
      "cell_type": "markdown",
      "metadata": {
        "id": "i1bN9AigxDeT"
      },
      "source": [
        "### Deterministic Environment\n"
      ]
    },
    {
      "cell_type": "markdown",
      "metadata": {
        "id": "YhewMWSnxjcA"
      },
      "source": [
        "*Defining a simple 4x4 deterministic environment*"
      ]
    },
    {
      "cell_type": "code",
      "metadata": {
        "id": "c9Ci1dwrtrPm"
      },
      "source": [
        "class DeterministicEnvironment(gym.Env):\n",
        "  metadata= {'render.modes': []}\n",
        "\n",
        "  def __init__(self):\n",
        "    '''\n",
        "    Initializes the number of states, action, & maximum timestep of the environment\n",
        "    '''\n",
        "\n",
        "    self.observation_space= spaces.Discrete(N_STATES)\n",
        "    self.action_space= spaces.Discrete(N_ACTIONS)\n",
        "    self.max_timesteps= MAX_TIMESTEPS\n",
        "\n",
        "  def reset(self):\n",
        "    '''\n",
        "    Resets the environment to its default setup\n",
        "\n",
        "    Output:\n",
        "      observation: 2-element list - Coordinates of the agent's default position in the grid\n",
        "    '''\n",
        "\n",
        "    self.timestep= 0\n",
        "\n",
        "    self.agent_pos= AGENT_POS.copy()\n",
        "    self.diamond_pos= DIAMOND_POS.copy()\n",
        "    self.coin_pos= COIN_POS.copy()\n",
        "    self.monster_pos= MONSTER_POS.copy()\n",
        "    self.goal_pos= GOAL_POS.copy()\n",
        "\n",
        "    self.state= np.zeros((4, 4))\n",
        "\n",
        "    self.state[tuple(self.agent_pos)]= 1\n",
        "    self.state[tuple(self.diamond_pos)]= 5\n",
        "    self.state[tuple(self.coin_pos)]= 3\n",
        "    self.state[tuple(self.monster_pos)]= -5\n",
        "    self.state[tuple(self.goal_pos)]= 10\n",
        "    \n",
        "    agent_state= self.agent_pos\n",
        "\n",
        "    return STATE_LOOKUP[tuple(agent_state)]\n",
        "\n",
        "  def step(self, action: int):\n",
        "    '''\n",
        "    1. Moves the agent as per the given action\n",
        "    2. Sets the rewards per state in the environment\n",
        "    3. Calculates the reward of the new state\n",
        "\n",
        "    Input:\n",
        "      action: int - Action to be performed\n",
        "\n",
        "    Output:\n",
        "      action: int - Action taken\n",
        "      observation: 2-element list\n",
        "      reward: int - State reward\n",
        "      done: bool - Denotes if the learning is complete (or) goal is reached\n",
        "      info: dict\n",
        "    '''\n",
        "\n",
        "    # Initializing the grid\n",
        "    self.state= np.zeros((4, 4))\n",
        "\n",
        "    # Move the agent\n",
        "    if action == 0: # Go down one step\n",
        "      self.agent_pos[0] += 1\n",
        "    if action == 1: # Go up one step\n",
        "      self.agent_pos[0] -= 1\n",
        "    if action == 2: # Go right one step\n",
        "      self.agent_pos[1] += 1\n",
        "    if action == 3: # Go left one step\n",
        "      self.agent_pos[1] -= 1\n",
        "\n",
        "    # To keep the agent within the confines of the environment\n",
        "    self.agent_pos= np.clip(self.agent_pos, 0, 3)\n",
        "\n",
        "    # Initialize the state rewards\n",
        "    self.state[tuple(self.agent_pos)]= 1\n",
        "    self.state[tuple(self.diamond_pos)]= 5\n",
        "    self.state[tuple(self.coin_pos)]= 3\n",
        "    self.state[tuple(self.monster_pos)]= -5\n",
        "    self.state[tuple(self.goal_pos)]= 10\n",
        "\n",
        "    agent_state= self.agent_pos\n",
        "\n",
        "    # Calculates the reward for the action\n",
        "    reward= 0\n",
        "    if (self.agent_pos == self.diamond_pos).all():\n",
        "      reward += 5\n",
        "    if (self.agent_pos == self.coin_pos).all():\n",
        "      reward += 3\n",
        "    if (self.agent_pos == self.monster_pos).all():\n",
        "      reward -= 5\n",
        "    if (self.agent_pos == self.goal_pos).all():\n",
        "      reward += 10\n",
        "\n",
        "    # Timestep increment\n",
        "    self.timestep += 1\n",
        "\n",
        "    done= True if ((self.timestep >= self.max_timesteps) or (self.agent_pos == self.goal_pos).all()) else False\n",
        "    info= {}\n",
        "\n",
        "    return STATE_LOOKUP[tuple(agent_state)], reward, done, info\n",
        "\n",
        "  def render(self):\n",
        "    '''\n",
        "    Provides pictorial representation of environment\n",
        "    '''\n",
        "\n",
        "    plt.imshow(self.state)"
      ],
      "execution_count": 8,
      "outputs": []
    },
    {
      "cell_type": "markdown",
      "metadata": {
        "id": "Nb5MHc-DE6yI"
      },
      "source": [
        "*Test render*"
      ]
    },
    {
      "cell_type": "code",
      "metadata": {
        "colab": {
          "base_uri": "https://localhost:8080/",
          "height": 286
        },
        "id": "LcchIk5_8H4Q",
        "outputId": "0046b78d-74b1-4890-bce7-b7883f10f5a4"
      },
      "source": [
        "env= DeterministicEnvironment()\n",
        "state= env.reset()\n",
        "env.render()\n",
        "print('Current state : {}'.format(state))"
      ],
      "execution_count": 9,
      "outputs": [
        {
          "output_type": "stream",
          "text": [
            "Current state : 0\n"
          ],
          "name": "stdout"
        },
        {
          "output_type": "display_data",
          "data": {
            "image/png": "[encoded data removed]",
            "text/plain": [
              "<Figure size 432x288 with 1 Axes>"
            ]
          },
          "metadata": {
            "tags": [],
            "needs_background": "light"
          }
        }
      ]
    },
    {
      "cell_type": "markdown",
      "metadata": {
        "id": "6ASY-urZxMxw"
      },
      "source": [
        "### Stochastic Environment\n"
      ]
    },
    {
      "cell_type": "markdown",
      "metadata": {
        "id": "MqHI65I8xhhU"
      },
      "source": [
        "*Defining a simple 4x4 stochastic environment*"
      ]
    },
    {
      "cell_type": "code",
      "metadata": {
        "id": "ePNIo_qxuXl1"
      },
      "source": [
        "class StochasticEnvironment(gym.Env):\n",
        "  metadata= {'render.modes': []}\n",
        "\n",
        "  def __init__(self):\n",
        "    '''\n",
        "    Initializes the number of states, action, & maximum timestep of the environment\n",
        "    '''\n",
        "\n",
        "    self.observation_space= spaces.Discrete(N_STATES)\n",
        "    self.action_space= spaces.Discrete(N_ACTIONS)\n",
        "    self.max_timesteps= MAX_TIMESTEPS\n",
        "\n",
        "  def reset(self):\n",
        "    '''\n",
        "    Resets the environment to its default setup\n",
        "\n",
        "    Output:\n",
        "      observation: 2-element list - Coordinates of the agent's default position in the grid\n",
        "    '''\n",
        "\n",
        "    self.timestep= 0\n",
        "\n",
        "    self.agent_pos= AGENT_POS.copy()\n",
        "    self.diamond_pos= DIAMOND_POS.copy()\n",
        "    self.coin_pos= COIN_POS.copy()\n",
        "    self.monster_pos= MONSTER_POS.copy()\n",
        "    self.goal_pos= GOAL_POS.copy()\n",
        "\n",
        "    self.state= np.zeros((4, 4))\n",
        "\n",
        "    self.state[tuple(self.agent_pos)]= 1\n",
        "    self.state[tuple(self.diamond_pos)]= 5\n",
        "    self.state[tuple(self.coin_pos)]= 3\n",
        "    self.state[tuple(self.monster_pos)]= -5\n",
        "    self.state[tuple(self.goal_pos)]= 10\n",
        "    \n",
        "    agent_state= self.agent_pos\n",
        "\n",
        "    return STATE_LOOKUP[tuple(agent_state)]\n",
        "  \n",
        "  def step(self, action):\n",
        "    '''\n",
        "    1. Randomly chooses the action to be performed\n",
        "    1. Moves the agent as per the chosen action\n",
        "    2. Sets the rewards per state in the environment\n",
        "    3. Calculates the reward of the new state\n",
        "\n",
        "    Input:\n",
        "      action: int - Action to be performed\n",
        "\n",
        "    Output:\n",
        "      action: int - Action taken\n",
        "      observation: 2-element list\n",
        "      reward: int - State reward\n",
        "      done: bool - Denotes if the learning is complete (or) goal is reached\n",
        "      info: dict\n",
        "    '''\n",
        "\n",
        "    # Initializing the grid\n",
        "    self.state= np.zeros((4, 4))\n",
        "\n",
        "    # Defining stochasticity to the environment\n",
        "    action= action if random.uniform(0, 1) < 0.75 else random.choice([i for i in range(self.action_space.n) if i != action])\n",
        "\n",
        "    # Move the agent\n",
        "    if action == 0: # Go down one step\n",
        "      self.agent_pos[0] += 1\n",
        "    if action == 1: # Go up one step\n",
        "      self.agent_pos[0] -= 1\n",
        "    if action == 2: # Go right one step\n",
        "      self.agent_pos[1] += 1\n",
        "    if action == 3: # Go left one step\n",
        "      self.agent_pos[1] -= 1\n",
        "\n",
        "    # To keep the agent within the confines of the environment\n",
        "    self.agent_pos= np.clip(self.agent_pos, 0, 3)\n",
        "\n",
        "    # Initialize the state rewards\n",
        "    self.state[tuple(self.agent_pos)]= 1\n",
        "    self.state[tuple(self.diamond_pos)]= 5\n",
        "    self.state[tuple(self.coin_pos)]= 3\n",
        "    self.state[tuple(self.monster_pos)]= -5\n",
        "    self.state[tuple(self.goal_pos)]= 10\n",
        "\n",
        "    agent_state= self.agent_pos\n",
        "\n",
        "    # Calculates the reward for the action\n",
        "    reward= 0\n",
        "    if (self.agent_pos == self.diamond_pos).all():\n",
        "      reward += 5\n",
        "    if (self.agent_pos == self.coin_pos).all():\n",
        "      reward += 3\n",
        "    if (self.agent_pos == self.monster_pos).all():\n",
        "      reward -= 5\n",
        "    if (self.agent_pos == self.goal_pos).all():\n",
        "      reward += 10\n",
        "\n",
        "    # Timestep increment\n",
        "    self.timestep += 1\n",
        "\n",
        "    done= True if ((self.timestep >= self.max_timesteps) or (self.agent_pos == self.goal_pos).all()) else False\n",
        "    info= {}\n",
        "\n",
        "    return STATE_LOOKUP[tuple(agent_state)], reward, done, info\n",
        "\n",
        "  def render(self):\n",
        "    '''\n",
        "    Provides pictorial representation of environment\n",
        "    '''\n",
        "\n",
        "    plt.imshow(self.state)"
      ],
      "execution_count": 10,
      "outputs": []
    },
    {
      "cell_type": "markdown",
      "metadata": {
        "id": "KjJhq6hiFEVL"
      },
      "source": [
        "*Test render*"
      ]
    },
    {
      "cell_type": "code",
      "metadata": {
        "colab": {
          "base_uri": "https://localhost:8080/",
          "height": 286
        },
        "id": "EwCvWgzl7rrd",
        "outputId": "d608f0dd-f09c-4b5f-b8ba-3813490a9202"
      },
      "source": [
        "env= StochasticEnvironment()\n",
        "state= env.reset()\n",
        "env.render()\n",
        "print('Current state : {}'.format(state))"
      ],
      "execution_count": 11,
      "outputs": [
        {
          "output_type": "stream",
          "text": [
            "Current state : 0\n"
          ],
          "name": "stdout"
        },
        {
          "output_type": "display_data",
          "data": {
            "image/png": "[encoded data removed]",
            "text/plain": [
              "<Figure size 432x288 with 1 Axes>"
            ]
          },
          "metadata": {
            "tags": [],
            "needs_background": "light"
          }
        }
      ]
    },
    {
      "cell_type": "markdown",
      "metadata": {
        "id": "tY84t-54xadi"
      },
      "source": [
        "## Defining agents\n"
      ]
    },
    {
      "cell_type": "markdown",
      "metadata": {
        "id": "2ZFFzyEJxS7B"
      },
      "source": [
        "### Random Agent"
      ]
    },
    {
      "cell_type": "markdown",
      "metadata": {
        "id": "M1P57OQZxZl8"
      },
      "source": [
        "*Defining a random agent*"
      ]
    },
    {
      "cell_type": "code",
      "metadata": {
        "id": "IgRMssZkxnBX"
      },
      "source": [
        "class RandomAgent:\n",
        "  \n",
        "  def __init__(self, env):\n",
        "    '''\n",
        "    Initializes a random agent and its parameters\n",
        "\n",
        "    Input:\n",
        "      env: environment class instance - Environment in which the agent will act in\n",
        "    '''\n",
        "    self.env= env\n",
        "    self.observation_space= env.observation_space\n",
        "    self.action_space= env.action_space\n",
        "\n",
        "  def step(self, state):\n",
        "    '''\n",
        "    Chooses an action at random from action set\n",
        "\n",
        "    Input:\n",
        "      state: int - State of the agent\n",
        "    \n",
        "    Output:\n",
        "      int - Randomly chosen action\n",
        "    '''\n",
        "    return np.random.choice(self.action_space.n)"
      ],
      "execution_count": 12,
      "outputs": []
    },
    {
      "cell_type": "markdown",
      "metadata": {
        "id": "YIjQmGpzGs7u"
      },
      "source": [
        "### Q-learning agent"
      ]
    },
    {
      "cell_type": "markdown",
      "metadata": {
        "id": "Cuu6SIxaxdCt"
      },
      "source": [
        "*Defining a Q-learning agent*"
      ]
    },
    {
      "cell_type": "code",
      "metadata": {
        "id": "JhW8rgkgu6Pf"
      },
      "source": [
        "# Subclass of the Random agent class\n",
        "class QLearningAgent(RandomAgent):\n",
        "\n",
        "  def __init__(self, env, discount_rate= 0.99, learning_rate= 0.01, epsilon= 1.0):\n",
        "    '''\n",
        "    Initializes a Q-learning agent and its parameters\n",
        "\n",
        "    Input:\n",
        "      env: environment class instance - Environment in which the agent will act in\n",
        "      discount_rate: float - Rate at which the reward decays (Default 0.99)\n",
        "      learning_rate: float - Rate at which the agent learns (Default 0.01)\n",
        "      epsilon: float - Balances the action of the agent between exploration & exploitation (Default 1.0)\n",
        "    '''\n",
        "    super().__init__(env)\n",
        "\n",
        "    # Sets the exploration, exploitation balance\n",
        "    # Closer to 1.0 - exploration | Closer to 0.0 - exploitation\n",
        "    self.epsilon= epsilon \n",
        "\n",
        "    # Sets the learning & decay parameters\n",
        "    self.gamma= discount_rate\n",
        "    self.alpha= learning_rate\n",
        "\n",
        "    self.build_model()\n",
        "\n",
        "  def build_model(self):\n",
        "    '''\n",
        "    Initializes the Q-table when an object is created\n",
        "    '''\n",
        "    self.Q_table= np.zeros((self.observation_space.n, self.action_space.n))\n",
        "\n",
        "  def save_model(self, filename):\n",
        "    '''\n",
        "    Saves the model (Q-table) to the working directory\n",
        "\n",
        "    Input:\n",
        "      filename: str - Directory & file name\n",
        "    '''\n",
        "    pickle.dump(self.Q_table, open(filename, 'wb'))\n",
        "\n",
        "  def load_model(self, filepath):\n",
        "    '''\n",
        "    Loads the Q-table from the file path\n",
        "\n",
        "    Input:\n",
        "      filepath: str - Directory & file name\n",
        "    '''\n",
        "    with open(filepath, 'wb') as f:\n",
        "      self.Q_table= pickle.load(f)\n",
        "\n",
        "  def step(self, state: int):\n",
        "    '''\n",
        "    Moves the agent based on epsilon value\n",
        "\n",
        "    Input:\n",
        "      state: int - State of the agent\n",
        "\n",
        "    Output:\n",
        "      int - Chosen action based on set epsilon value\n",
        "    '''\n",
        "    Q_state= self.Q_table[state]\n",
        "    greedy_action= np.argmax(Q_state)\n",
        "    random_action= super().step(state)\n",
        "\n",
        "    # Depending on the epsilon value greedy or random action is chosen\n",
        "    return random_action if random.random() < self.epsilon else greedy_action\n",
        "\n",
        "  def train(self, experience: tuple):\n",
        "    '''\n",
        "    Updates the Q-table based on 'experience' of the agent\n",
        "\n",
        "    Input:\n",
        "      experience: tuple\n",
        "        state: int - State of the agent\n",
        "        action: int - Action performed by the agent\n",
        "        next_state: int - Current state of the agent\n",
        "        reward: int - Value of the state\n",
        "        done: bool\n",
        "    '''\n",
        "    state, action, next_state, reward, done= experience\n",
        "    \n",
        "    # Q-value calculation\n",
        "    Q_next= np.zeros([self.action_space.n]) if done else self.Q_table[next_state]\n",
        "    Q_value= reward + self.gamma * np.max(Q_next) - self.Q_table[state, action]\n",
        "    self.Q_table[state, action] += self.alpha * Q_value\n",
        "\n",
        "    if done:\n",
        "      # Setting exponential epsilon decay to prefer exploitation over exploration\n",
        "      self.epsilon= self.epsilon * 0.99"
      ],
      "execution_count": 13,
      "outputs": []
    },
    {
      "cell_type": "markdown",
      "metadata": {
        "id": "NdhaFQ_FQuR1"
      },
      "source": [
        "### SARSA agent"
      ]
    },
    {
      "cell_type": "markdown",
      "metadata": {
        "id": "Q2EJVkp4QH_M"
      },
      "source": [
        "*Defining a SARSA agent*"
      ]
    },
    {
      "cell_type": "code",
      "metadata": {
        "id": "liqHkNVa-nvR"
      },
      "source": [
        "class SARSAAgent(RandomAgent):\n",
        "\n",
        "  def __init__(self, env, discount_rate= 0.99, learning_rate= 0.01, epsilon= 1.0):\n",
        "    '''\n",
        "    Initializes a SARSA agent and its parameters\n",
        "\n",
        "    Input:\n",
        "      env: environment class instance - Environment in which the agent will act in\n",
        "      discount_rate: float - Rate at which the reward decays (Default 0.99)\n",
        "      learning_rate: float - Rate at which the agent learns (Default 0.01)\n",
        "      epsilon: float - Balances the action of the agent between exploration & exploitation (Default 1.0)\n",
        "    '''\n",
        "    super().__init__(env)\n",
        "\n",
        "    # Sets the exploration, exploitation balance\n",
        "    # Closer to 1.0 - exploration | Closer to 0.0 - exploitation\n",
        "    self.epsilon= epsilon\n",
        "\n",
        "    # Sets the learning & decay parameters\n",
        "    self.gamma= discount_rate\n",
        "    self.alpha= learning_rate\n",
        "\n",
        "    self.build_model()\n",
        "\n",
        "  def build_model(self):\n",
        "    '''\n",
        "    Initializes the Q-table when an object is created\n",
        "    '''\n",
        "    self.Q_table= np.zeros((self.observation_space.n, self.action_space.n))\n",
        "\n",
        "  def save_model(self, filename: str):\n",
        "    '''\n",
        "    Saves the model (Q-table) to the working directory\n",
        "\n",
        "    Input:\n",
        "      filename: str - Directory & file name\n",
        "    '''\n",
        "    pickle.dump(self.Q_table, open(filename, 'wb'))\n",
        "\n",
        "  def load_model(self, filepath: str):\n",
        "    '''\n",
        "    Loads the Q-table from the file path\n",
        "\n",
        "    Input:\n",
        "      filepath: str - Directory & file name\n",
        "    '''\n",
        "    with open(filepath, 'wb') as f:\n",
        "      self.Q_table= pickle.load(f)\n",
        "\n",
        "  def step(self, state: int):\n",
        "    '''\n",
        "    Moves the agent based on epsilon value\n",
        "\n",
        "    Input:\n",
        "      state: int - State of the agent\n",
        "\n",
        "    Output:\n",
        "      int - Chosen action based on set epsilon value\n",
        "    '''\n",
        "    Q_state= self.Q_table[state]\n",
        "    greedy_action= np.argmax(Q_state)\n",
        "    random_action= super().step(state)\n",
        "\n",
        "    # Depending on the epsilon value greedy or random action is chosen\n",
        "    return random_action if random.random() < self.epsilon else greedy_action\n",
        "\n",
        "  def train(self, experience: tuple):\n",
        "    '''\n",
        "    Updates the Q-table based on 'experience' of the agent\n",
        "\n",
        "    Input:\n",
        "      experience: tuple\n",
        "        state: int - State of the agent\n",
        "        action: int - Action performed by the agent\n",
        "        next_state: int - Current state of the agent\n",
        "        reward: int - Value of the state\n",
        "        done: bool\n",
        "    '''\n",
        "    state, action, next_state, next_action, reward, done= experience\n",
        "\n",
        "    # Q-value calculation\n",
        "    Q_next= 0 if done else self.Q_table[next_state, next_action]\n",
        "    Q_value= reward + self.gamma * Q_next - self.Q_table[state, action]\n",
        "    self.Q_table[state, action] += self.alpha * Q_value\n",
        "\n",
        "    if done:\n",
        "      # Setting exponential epsilon decay to prefer exploitation over exploration\n",
        "      self.epsilon= self.epsilon * 0.99"
      ],
      "execution_count": 14,
      "outputs": []
    },
    {
      "cell_type": "markdown",
      "metadata": {
        "id": "QQdopMBuBTQZ"
      },
      "source": [
        "## Running various agents in environment"
      ]
    },
    {
      "cell_type": "markdown",
      "metadata": {
        "id": "6k5D5rnMad26"
      },
      "source": [
        "*Running the random agent in the Deterministic Environment*"
      ]
    },
    {
      "cell_type": "code",
      "metadata": {
        "colab": {
          "base_uri": "https://localhost:8080/",
          "height": 307
        },
        "id": "C8CaivB7BVug",
        "outputId": "3ac886c7-f47d-4c81-f746-80cd7780f718"
      },
      "source": [
        "environment= DeterministicEnvironment()\n",
        "random_agent= RandomAgent(env= environment)\n",
        "state= environment.reset()\n",
        "done= False\n",
        "\n",
        "grid= widgets.Grid(1, 1)\n",
        "\n",
        "total_reward= 0\n",
        "while not done:\n",
        "  action= random_agent.step(state= state)\n",
        "  next_state, reward, done, info= environment.step(action= action)\n",
        "  # print('By taking action \\'{}\\' the agent moved from {} to {} and got reward {}'.format(ACTION_LOOKUP[action], state, next_state, reward))\n",
        "  state= next_state\n",
        "  total_reward+= reward\n",
        "\n",
        "  with grid.output_to(0, 0):\n",
        "    grid.clear_cell()\n",
        "    environment.render()\n",
        "    # time.sleep(1)\n",
        "\n",
        "if done == True and environment.timestep < MAX_TIMESTEPS:\n",
        "  print('Agent has reached the Goal position')\n",
        "elif done == True and environment.timestep == MAX_TIMESTEPS:\n",
        "  print('Agent ran out of time')\n",
        "\n",
        "print('At the end of the run, the agent is at state {} & got a total reward of {}'.format(state, total_reward))"
      ],
      "execution_count": 15,
      "outputs": [
        {
          "output_type": "display_data",
          "data": {
            "text/html": [
              "<style>\n",
              "       table#id2, #id2 > tbody > tr > th, #id2 > tbody > tr > td {\n",
              "         border: 1px solid lightgray;\n",
              "         border-collapse:collapse;\n",
              "         \n",
              "        }</style>"
            ],
            "text/plain": [
              "<IPython.core.display.HTML object>"
            ]
          },
          "metadata": {
            "tags": [
              "outputarea_id2"
            ]
          }
        },
        {
          "output_type": "display_data",
          "data": {
            "text/html": [
              "<table id=id2><tr><td id=id2-0-0></td></tr></table>"
            ],
            "text/plain": [
              "<IPython.core.display.HTML object>"
            ]
          },
          "metadata": {
            "tags": [
              "outputarea_id2"
            ]
          }
        },
        {
          "output_type": "display_data",
          "data": {
            "application/javascript": [
              "window[\"03c9480e-7953-11eb-b1d5-0242ac1c0002\"] = google.colab.output.getActiveOutputArea();\n",
              "//# sourceURL=js_1c3f6052a6"
            ],
            "text/plain": [
              "<IPython.core.display.Javascript object>"
            ]
          },
          "metadata": {
            "tags": [
              "id2-0-0",
              "outputarea_id2"
            ]
          }
        },
        {
          "output_type": "display_data",
          "data": {
            "application/javascript": [
              "window[\"03c99124-7953-11eb-b1d5-0242ac1c0002\"] = document.querySelector(\"#id2-0-0\");\n",
              "//# sourceURL=js_7a2a336403"
            ],
            "text/plain": [
              "<IPython.core.display.Javascript object>"
            ]
          },
          "metadata": {
            "tags": [
              "id2-0-0",
              "outputarea_id2"
            ]
          }
        },
        {
          "output_type": "display_data",
          "data": {
            "application/javascript": [
              "window[\"03c9ed90-7953-11eb-b1d5-0242ac1c0002\"] = google.colab.output.setActiveOutputArea(window[\"03c99124-7953-11eb-b1d5-0242ac1c0002\"]);\n",
              "//# sourceURL=js_c861f815ba"
            ],
            "text/plain": [
              "<IPython.core.display.Javascript object>"
            ]
          },
          "metadata": {
            "tags": [
              "id2-0-0",
              "outputarea_id2"
            ]
          }
        },
        {
          "output_type": "display_data",
          "data": {
            "application/javascript": [
              "window[\"03e0240c-7953-11eb-b1d5-0242ac1c0002\"] = google.colab.output.setActiveOutputArea(window[\"03c9480e-7953-11eb-b1d5-0242ac1c0002\"]);\n",
              "//# sourceURL=js_d79c76656a"
            ],
            "text/plain": [
              "<IPython.core.display.Javascript object>"
            ]
          },
          "metadata": {
            "tags": [
              "id2-0-0",
              "outputarea_id2"
            ]
          }
        },
        {
          "output_type": "display_data",
          "data": {
            "application/javascript": [
              "window[\"03e1c5f0-7953-11eb-b1d5-0242ac1c0002\"] = google.colab.output.getActiveOutputArea();\n",
              "//# sourceURL=js_93a126fd46"
            ],
            "text/plain": [
              "<IPython.core.display.Javascript object>"
            ]
          },
          "metadata": {
            "tags": [
              "id2-0-0",
              "outputarea_id2"
            ]
          }
        },
        {
          "output_type": "display_data",
          "data": {
            "application/javascript": [
              "window[\"03e21366-7953-11eb-b1d5-0242ac1c0002\"] = document.querySelector(\"#id2-0-0\");\n",
              "//# sourceURL=js_f409f5d2b0"
            ],
            "text/plain": [
              "<IPython.core.display.Javascript object>"
            ]
          },
          "metadata": {
            "tags": [
              "id2-0-0",
              "outputarea_id2"
            ]
          }
        },
        {
          "output_type": "display_data",
          "data": {
            "application/javascript": [
              "window[\"03e25c04-7953-11eb-b1d5-0242ac1c0002\"] = google.colab.output.setActiveOutputArea(window[\"03e21366-7953-11eb-b1d5-0242ac1c0002\"]);\n",
              "//# sourceURL=js_e31e96b7e1"
            ],
            "text/plain": [
              "<IPython.core.display.Javascript object>"
            ]
          },
          "metadata": {
            "tags": [
              "id2-0-0",
              "outputarea_id2"
            ]
          }
        },
        {
          "output_type": "display_data",
          "data": {
            "application/javascript": [
              "window[\"03f94bda-7953-11eb-b1d5-0242ac1c0002\"] = google.colab.output.setActiveOutputArea(window[\"03e1c5f0-7953-11eb-b1d5-0242ac1c0002\"]);\n",
              "//# sourceURL=js_8e79fc98b2"
            ],
            "text/plain": [
              "<IPython.core.display.Javascript object>"
            ]
          },
          "metadata": {
            "tags": [
              "id2-0-0",
              "outputarea_id2"
            ]
          }
        },
        {
          "output_type": "display_data",
          "data": {
            "application/javascript": [
              "window[\"03fae134-7953-11eb-b1d5-0242ac1c0002\"] = google.colab.output.getActiveOutputArea();\n",
              "//# sourceURL=js_df707f2a58"
            ],
            "text/plain": [
              "<IPython.core.display.Javascript object>"
            ]
          },
          "metadata": {
            "tags": [
              "id2-0-0",
              "outputarea_id2"
            ]
          }
        },
        {
          "output_type": "display_data",
          "data": {
            "application/javascript": [
              "window[\"03fb2b12-7953-11eb-b1d5-0242ac1c0002\"] = document.querySelector(\"#id2-0-0\");\n",
              "//# sourceURL=js_f0857d64b1"
            ],
            "text/plain": [
              "<IPython.core.display.Javascript object>"
            ]
          },
          "metadata": {
            "tags": [
              "id2-0-0",
              "outputarea_id2"
            ]
          }
        },
        {
          "output_type": "display_data",
          "data": {
            "application/javascript": [
              "window[\"03fb7a72-7953-11eb-b1d5-0242ac1c0002\"] = google.colab.output.setActiveOutputArea(window[\"03fb2b12-7953-11eb-b1d5-0242ac1c0002\"]);\n",
              "//# sourceURL=js_093cb4e07b"
            ],
            "text/plain": [
              "<IPython.core.display.Javascript object>"
            ]
          },
          "metadata": {
            "tags": [
              "id2-0-0",
              "outputarea_id2"
            ]
          }
        },
        {
          "output_type": "display_data",
          "data": {
            "application/javascript": [
              "window[\"0414a9de-7953-11eb-b1d5-0242ac1c0002\"] = google.colab.output.setActiveOutputArea(window[\"03fae134-7953-11eb-b1d5-0242ac1c0002\"]);\n",
              "//# sourceURL=js_ed0e3ef322"
            ],
            "text/plain": [
              "<IPython.core.display.Javascript object>"
            ]
          },
          "metadata": {
            "tags": [
              "id2-0-0",
              "outputarea_id2"
            ]
          }
        },
        {
          "output_type": "display_data",
          "data": {
            "application/javascript": [
              "window[\"04161f6c-7953-11eb-b1d5-0242ac1c0002\"] = google.colab.output.getActiveOutputArea();\n",
              "//# sourceURL=js_ccf51c3a4e"
            ],
            "text/plain": [
              "<IPython.core.display.Javascript object>"
            ]
          },
          "metadata": {
            "tags": [
              "id2-0-0",
              "outputarea_id2"
            ]
          }
        },
        {
          "output_type": "display_data",
          "data": {
            "application/javascript": [
              "window[\"041664cc-7953-11eb-b1d5-0242ac1c0002\"] = document.querySelector(\"#id2-0-0\");\n",
              "//# sourceURL=js_55d4345b4e"
            ],
            "text/plain": [
              "<IPython.core.display.Javascript object>"
            ]
          },
          "metadata": {
            "tags": [
              "id2-0-0",
              "outputarea_id2"
            ]
          }
        },
        {
          "output_type": "display_data",
          "data": {
            "application/javascript": [
              "window[\"0416b06c-7953-11eb-b1d5-0242ac1c0002\"] = google.colab.output.setActiveOutputArea(window[\"041664cc-7953-11eb-b1d5-0242ac1c0002\"]);\n",
              "//# sourceURL=js_57e48d9c7a"
            ],
            "text/plain": [
              "<IPython.core.display.Javascript object>"
            ]
          },
          "metadata": {
            "tags": [
              "id2-0-0",
              "outputarea_id2"
            ]
          }
        },
        {
          "output_type": "display_data",
          "data": {
            "application/javascript": [
              "window[\"042d362a-7953-11eb-b1d5-0242ac1c0002\"] = google.colab.output.setActiveOutputArea(window[\"04161f6c-7953-11eb-b1d5-0242ac1c0002\"]);\n",
              "//# sourceURL=js_e6e97bfc3c"
            ],
            "text/plain": [
              "<IPython.core.display.Javascript object>"
            ]
          },
          "metadata": {
            "tags": [
              "id2-0-0",
              "outputarea_id2"
            ]
          }
        },
        {
          "output_type": "display_data",
          "data": {
            "application/javascript": [
              "window[\"042eb1d0-7953-11eb-b1d5-0242ac1c0002\"] = google.colab.output.getActiveOutputArea();\n",
              "//# sourceURL=js_a656b05eb6"
            ],
            "text/plain": [
              "<IPython.core.display.Javascript object>"
            ]
          },
          "metadata": {
            "tags": [
              "id2-0-0",
              "outputarea_id2"
            ]
          }
        },
        {
          "output_type": "display_data",
          "data": {
            "application/javascript": [
              "window[\"042efb0e-7953-11eb-b1d5-0242ac1c0002\"] = document.querySelector(\"#id2-0-0\");\n",
              "//# sourceURL=js_0efe3d7002"
            ],
            "text/plain": [
              "<IPython.core.display.Javascript object>"
            ]
          },
          "metadata": {
            "tags": [
              "id2-0-0",
              "outputarea_id2"
            ]
          }
        },
        {
          "output_type": "display_data",
          "data": {
            "application/javascript": [
              "window[\"042f4258-7953-11eb-b1d5-0242ac1c0002\"] = google.colab.output.setActiveOutputArea(window[\"042efb0e-7953-11eb-b1d5-0242ac1c0002\"]);\n",
              "//# sourceURL=js_1dc50bfe57"
            ],
            "text/plain": [
              "<IPython.core.display.Javascript object>"
            ]
          },
          "metadata": {
            "tags": [
              "id2-0-0",
              "outputarea_id2"
            ]
          }
        },
        {
          "output_type": "display_data",
          "data": {
            "application/javascript": [
              "window[\"04459274-7953-11eb-b1d5-0242ac1c0002\"] = google.colab.output.setActiveOutputArea(window[\"042eb1d0-7953-11eb-b1d5-0242ac1c0002\"]);\n",
              "//# sourceURL=js_50f23a0164"
            ],
            "text/plain": [
              "<IPython.core.display.Javascript object>"
            ]
          },
          "metadata": {
            "tags": [
              "id2-0-0",
              "outputarea_id2"
            ]
          }
        },
        {
          "output_type": "display_data",
          "data": {
            "application/javascript": [
              "window[\"0446ecdc-7953-11eb-b1d5-0242ac1c0002\"] = google.colab.output.getActiveOutputArea();\n",
              "//# sourceURL=js_45a6716075"
            ],
            "text/plain": [
              "<IPython.core.display.Javascript object>"
            ]
          },
          "metadata": {
            "tags": [
              "id2-0-0",
              "outputarea_id2"
            ]
          }
        },
        {
          "output_type": "display_data",
          "data": {
            "application/javascript": [
              "window[\"04472e2c-7953-11eb-b1d5-0242ac1c0002\"] = document.querySelector(\"#id2-0-0\");\n",
              "//# sourceURL=js_00edb56eb1"
            ],
            "text/plain": [
              "<IPython.core.display.Javascript object>"
            ]
          },
          "metadata": {
            "tags": [
              "id2-0-0",
              "outputarea_id2"
            ]
          }
        },
        {
          "output_type": "display_data",
          "data": {
            "application/javascript": [
              "window[\"04476f86-7953-11eb-b1d5-0242ac1c0002\"] = google.colab.output.setActiveOutputArea(window[\"04472e2c-7953-11eb-b1d5-0242ac1c0002\"]);\n",
              "//# sourceURL=js_de042adf77"
            ],
            "text/plain": [
              "<IPython.core.display.Javascript object>"
            ]
          },
          "metadata": {
            "tags": [
              "id2-0-0",
              "outputarea_id2"
            ]
          }
        },
        {
          "output_type": "display_data",
          "data": {
            "application/javascript": [
              "window[\"045dd136-7953-11eb-b1d5-0242ac1c0002\"] = google.colab.output.setActiveOutputArea(window[\"0446ecdc-7953-11eb-b1d5-0242ac1c0002\"]);\n",
              "//# sourceURL=js_974a070372"
            ],
            "text/plain": [
              "<IPython.core.display.Javascript object>"
            ]
          },
          "metadata": {
            "tags": [
              "id2-0-0",
              "outputarea_id2"
            ]
          }
        },
        {
          "output_type": "display_data",
          "data": {
            "application/javascript": [
              "window[\"045f32f6-7953-11eb-b1d5-0242ac1c0002\"] = google.colab.output.getActiveOutputArea();\n",
              "//# sourceURL=js_d2db562061"
            ],
            "text/plain": [
              "<IPython.core.display.Javascript object>"
            ]
          },
          "metadata": {
            "tags": [
              "id2-0-0",
              "outputarea_id2"
            ]
          }
        },
        {
          "output_type": "display_data",
          "data": {
            "application/javascript": [
              "window[\"045f728e-7953-11eb-b1d5-0242ac1c0002\"] = document.querySelector(\"#id2-0-0\");\n",
              "//# sourceURL=js_099c19e236"
            ],
            "text/plain": [
              "<IPython.core.display.Javascript object>"
            ]
          },
          "metadata": {
            "tags": [
              "id2-0-0",
              "outputarea_id2"
            ]
          }
        },
        {
          "output_type": "display_data",
          "data": {
            "application/javascript": [
              "window[\"045fb5aa-7953-11eb-b1d5-0242ac1c0002\"] = google.colab.output.setActiveOutputArea(window[\"045f728e-7953-11eb-b1d5-0242ac1c0002\"]);\n",
              "//# sourceURL=js_41ff9f77d3"
            ],
            "text/plain": [
              "<IPython.core.display.Javascript object>"
            ]
          },
          "metadata": {
            "tags": [
              "id2-0-0",
              "outputarea_id2"
            ]
          }
        },
        {
          "output_type": "display_data",
          "data": {
            "application/javascript": [
              "window[\"047738d8-7953-11eb-b1d5-0242ac1c0002\"] = google.colab.output.setActiveOutputArea(window[\"045f32f6-7953-11eb-b1d5-0242ac1c0002\"]);\n",
              "//# sourceURL=js_347301d8cd"
            ],
            "text/plain": [
              "<IPython.core.display.Javascript object>"
            ]
          },
          "metadata": {
            "tags": [
              "id2-0-0",
              "outputarea_id2"
            ]
          }
        },
        {
          "output_type": "display_data",
          "data": {
            "application/javascript": [
              "window[\"04788c2e-7953-11eb-b1d5-0242ac1c0002\"] = google.colab.output.getActiveOutputArea();\n",
              "//# sourceURL=js_c25a717a71"
            ],
            "text/plain": [
              "<IPython.core.display.Javascript object>"
            ]
          },
          "metadata": {
            "tags": [
              "id2-0-0",
              "outputarea_id2"
            ]
          }
        },
        {
          "output_type": "display_data",
          "data": {
            "application/javascript": [
              "window[\"0478dbb6-7953-11eb-b1d5-0242ac1c0002\"] = document.querySelector(\"#id2-0-0\");\n",
              "//# sourceURL=js_896b36c04b"
            ],
            "text/plain": [
              "<IPython.core.display.Javascript object>"
            ]
          },
          "metadata": {
            "tags": [
              "id2-0-0",
              "outputarea_id2"
            ]
          }
        },
        {
          "output_type": "display_data",
          "data": {
            "application/javascript": [
              "window[\"04791e64-7953-11eb-b1d5-0242ac1c0002\"] = google.colab.output.setActiveOutputArea(window[\"0478dbb6-7953-11eb-b1d5-0242ac1c0002\"]);\n",
              "//# sourceURL=js_3115a5e421"
            ],
            "text/plain": [
              "<IPython.core.display.Javascript object>"
            ]
          },
          "metadata": {
            "tags": [
              "id2-0-0",
              "outputarea_id2"
            ]
          }
        },
        {
          "output_type": "display_data",
          "data": {
            "application/javascript": [
              "window[\"049016a0-7953-11eb-b1d5-0242ac1c0002\"] = google.colab.output.setActiveOutputArea(window[\"04788c2e-7953-11eb-b1d5-0242ac1c0002\"]);\n",
              "//# sourceURL=js_441478beeb"
            ],
            "text/plain": [
              "<IPython.core.display.Javascript object>"
            ]
          },
          "metadata": {
            "tags": [
              "id2-0-0",
              "outputarea_id2"
            ]
          }
        },
        {
          "output_type": "display_data",
          "data": {
            "application/javascript": [
              "window[\"049170d6-7953-11eb-b1d5-0242ac1c0002\"] = google.colab.output.getActiveOutputArea();\n",
              "//# sourceURL=js_c7f16e4926"
            ],
            "text/plain": [
              "<IPython.core.display.Javascript object>"
            ]
          },
          "metadata": {
            "tags": [
              "id2-0-0",
              "outputarea_id2"
            ]
          }
        },
        {
          "output_type": "display_data",
          "data": {
            "application/javascript": [
              "window[\"0491b4ce-7953-11eb-b1d5-0242ac1c0002\"] = document.querySelector(\"#id2-0-0\");\n",
              "//# sourceURL=js_172342eb8d"
            ],
            "text/plain": [
              "<IPython.core.display.Javascript object>"
            ]
          },
          "metadata": {
            "tags": [
              "id2-0-0",
              "outputarea_id2"
            ]
          }
        },
        {
          "output_type": "display_data",
          "data": {
            "application/javascript": [
              "window[\"0491f3bc-7953-11eb-b1d5-0242ac1c0002\"] = google.colab.output.setActiveOutputArea(window[\"0491b4ce-7953-11eb-b1d5-0242ac1c0002\"]);\n",
              "//# sourceURL=js_e69e89a36e"
            ],
            "text/plain": [
              "<IPython.core.display.Javascript object>"
            ]
          },
          "metadata": {
            "tags": [
              "id2-0-0",
              "outputarea_id2"
            ]
          }
        },
        {
          "output_type": "display_data",
          "data": {
            "application/javascript": [
              "window[\"04a97820-7953-11eb-b1d5-0242ac1c0002\"] = google.colab.output.setActiveOutputArea(window[\"049170d6-7953-11eb-b1d5-0242ac1c0002\"]);\n",
              "//# sourceURL=js_97b71ddfd4"
            ],
            "text/plain": [
              "<IPython.core.display.Javascript object>"
            ]
          },
          "metadata": {
            "tags": [
              "id2-0-0",
              "outputarea_id2"
            ]
          }
        },
        {
          "output_type": "display_data",
          "data": {
            "application/javascript": [
              "window[\"04aaa98e-7953-11eb-b1d5-0242ac1c0002\"] = google.colab.output.getActiveOutputArea();\n",
              "//# sourceURL=js_7dafb68c66"
            ],
            "text/plain": [
              "<IPython.core.display.Javascript object>"
            ]
          },
          "metadata": {
            "tags": [
              "id2-0-0",
              "outputarea_id2"
            ]
          }
        },
        {
          "output_type": "display_data",
          "data": {
            "application/javascript": [
              "window[\"04aae192-7953-11eb-b1d5-0242ac1c0002\"] = document.querySelector(\"#id2-0-0\");\n",
              "//# sourceURL=js_ea73e49339"
            ],
            "text/plain": [
              "<IPython.core.display.Javascript object>"
            ]
          },
          "metadata": {
            "tags": [
              "id2-0-0",
              "outputarea_id2"
            ]
          }
        },
        {
          "output_type": "display_data",
          "data": {
            "application/javascript": [
              "window[\"04ab29ae-7953-11eb-b1d5-0242ac1c0002\"] = google.colab.output.setActiveOutputArea(window[\"04aae192-7953-11eb-b1d5-0242ac1c0002\"]);\n",
              "//# sourceURL=js_f3e4354138"
            ],
            "text/plain": [
              "<IPython.core.display.Javascript object>"
            ]
          },
          "metadata": {
            "tags": [
              "id2-0-0",
              "outputarea_id2"
            ]
          }
        },
        {
          "output_type": "display_data",
          "data": {
            "application/javascript": [
              "window[\"04c29c1a-7953-11eb-b1d5-0242ac1c0002\"] = google.colab.output.setActiveOutputArea(window[\"04aaa98e-7953-11eb-b1d5-0242ac1c0002\"]);\n",
              "//# sourceURL=js_007c125c20"
            ],
            "text/plain": [
              "<IPython.core.display.Javascript object>"
            ]
          },
          "metadata": {
            "tags": [
              "id2-0-0",
              "outputarea_id2"
            ]
          }
        },
        {
          "output_type": "display_data",
          "data": {
            "application/javascript": [
              "window[\"04c3bfdc-7953-11eb-b1d5-0242ac1c0002\"] = google.colab.output.getActiveOutputArea();\n",
              "//# sourceURL=js_b34d059105"
            ],
            "text/plain": [
              "<IPython.core.display.Javascript object>"
            ]
          },
          "metadata": {
            "tags": [
              "id2-0-0",
              "outputarea_id2"
            ]
          }
        },
        {
          "output_type": "display_data",
          "data": {
            "application/javascript": [
              "window[\"04c3f380-7953-11eb-b1d5-0242ac1c0002\"] = document.querySelector(\"#id2-0-0\");\n",
              "//# sourceURL=js_bb786848d4"
            ],
            "text/plain": [
              "<IPython.core.display.Javascript object>"
            ]
          },
          "metadata": {
            "tags": [
              "id2-0-0",
              "outputarea_id2"
            ]
          }
        },
        {
          "output_type": "display_data",
          "data": {
            "application/javascript": [
              "window[\"04c42634-7953-11eb-b1d5-0242ac1c0002\"] = google.colab.output.setActiveOutputArea(window[\"04c3f380-7953-11eb-b1d5-0242ac1c0002\"]);\n",
              "//# sourceURL=js_4f3492052d"
            ],
            "text/plain": [
              "<IPython.core.display.Javascript object>"
            ]
          },
          "metadata": {
            "tags": [
              "id2-0-0",
              "outputarea_id2"
            ]
          }
        },
        {
          "output_type": "display_data",
          "data": {
            "application/javascript": [
              "window[\"04e32340-7953-11eb-b1d5-0242ac1c0002\"] = google.colab.output.setActiveOutputArea(window[\"04c3bfdc-7953-11eb-b1d5-0242ac1c0002\"]);\n",
              "//# sourceURL=js_5ad42b4bed"
            ],
            "text/plain": [
              "<IPython.core.display.Javascript object>"
            ]
          },
          "metadata": {
            "tags": [
              "id2-0-0",
              "outputarea_id2"
            ]
          }
        },
        {
          "output_type": "display_data",
          "data": {
            "application/javascript": [
              "window[\"04e454a4-7953-11eb-b1d5-0242ac1c0002\"] = google.colab.output.getActiveOutputArea();\n",
              "//# sourceURL=js_2e5637880c"
            ],
            "text/plain": [
              "<IPython.core.display.Javascript object>"
            ]
          },
          "metadata": {
            "tags": [
              "id2-0-0",
              "outputarea_id2"
            ]
          }
        },
        {
          "output_type": "display_data",
          "data": {
            "application/javascript": [
              "window[\"04e49522-7953-11eb-b1d5-0242ac1c0002\"] = document.querySelector(\"#id2-0-0\");\n",
              "//# sourceURL=js_73ce25c682"
            ],
            "text/plain": [
              "<IPython.core.display.Javascript object>"
            ]
          },
          "metadata": {
            "tags": [
              "id2-0-0",
              "outputarea_id2"
            ]
          }
        },
        {
          "output_type": "display_data",
          "data": {
            "application/javascript": [
              "window[\"04e4d618-7953-11eb-b1d5-0242ac1c0002\"] = google.colab.output.setActiveOutputArea(window[\"04e49522-7953-11eb-b1d5-0242ac1c0002\"]);\n",
              "//# sourceURL=js_4862ab59bd"
            ],
            "text/plain": [
              "<IPython.core.display.Javascript object>"
            ]
          },
          "metadata": {
            "tags": [
              "id2-0-0",
              "outputarea_id2"
            ]
          }
        },
        {
          "output_type": "display_data",
          "data": {
            "application/javascript": [
              "window[\"04fb7832-7953-11eb-b1d5-0242ac1c0002\"] = google.colab.output.setActiveOutputArea(window[\"04e454a4-7953-11eb-b1d5-0242ac1c0002\"]);\n",
              "//# sourceURL=js_3da560a346"
            ],
            "text/plain": [
              "<IPython.core.display.Javascript object>"
            ]
          },
          "metadata": {
            "tags": [
              "id2-0-0",
              "outputarea_id2"
            ]
          }
        },
        {
          "output_type": "display_data",
          "data": {
            "application/javascript": [
              "window[\"04fcad6a-7953-11eb-b1d5-0242ac1c0002\"] = google.colab.output.getActiveOutputArea();\n",
              "//# sourceURL=js_ed7f29c51d"
            ],
            "text/plain": [
              "<IPython.core.display.Javascript object>"
            ]
          },
          "metadata": {
            "tags": [
              "id2-0-0",
              "outputarea_id2"
            ]
          }
        },
        {
          "output_type": "display_data",
          "data": {
            "application/javascript": [
              "window[\"04fce9d8-7953-11eb-b1d5-0242ac1c0002\"] = document.querySelector(\"#id2-0-0\");\n",
              "//# sourceURL=js_5eeb0c1061"
            ],
            "text/plain": [
              "<IPython.core.display.Javascript object>"
            ]
          },
          "metadata": {
            "tags": [
              "id2-0-0",
              "outputarea_id2"
            ]
          }
        },
        {
          "output_type": "display_data",
          "data": {
            "application/javascript": [
              "window[\"04fd263c-7953-11eb-b1d5-0242ac1c0002\"] = google.colab.output.setActiveOutputArea(window[\"04fce9d8-7953-11eb-b1d5-0242ac1c0002\"]);\n",
              "//# sourceURL=js_3d8eda5379"
            ],
            "text/plain": [
              "<IPython.core.display.Javascript object>"
            ]
          },
          "metadata": {
            "tags": [
              "id2-0-0",
              "outputarea_id2"
            ]
          }
        },
        {
          "output_type": "display_data",
          "data": {
            "application/javascript": [
              "window[\"05158074-7953-11eb-b1d5-0242ac1c0002\"] = google.colab.output.setActiveOutputArea(window[\"04fcad6a-7953-11eb-b1d5-0242ac1c0002\"]);\n",
              "//# sourceURL=js_b2bdc56075"
            ],
            "text/plain": [
              "<IPython.core.display.Javascript object>"
            ]
          },
          "metadata": {
            "tags": [
              "id2-0-0",
              "outputarea_id2"
            ]
          }
        },
        {
          "output_type": "display_data",
          "data": {
            "application/javascript": [
              "window[\"0516b08e-7953-11eb-b1d5-0242ac1c0002\"] = google.colab.output.getActiveOutputArea();\n",
              "//# sourceURL=js_404890a83c"
            ],
            "text/plain": [
              "<IPython.core.display.Javascript object>"
            ]
          },
          "metadata": {
            "tags": [
              "id2-0-0",
              "outputarea_id2"
            ]
          }
        },
        {
          "output_type": "display_data",
          "data": {
            "application/javascript": [
              "window[\"0516efa4-7953-11eb-b1d5-0242ac1c0002\"] = document.querySelector(\"#id2-0-0\");\n",
              "//# sourceURL=js_a3327aa587"
            ],
            "text/plain": [
              "<IPython.core.display.Javascript object>"
            ]
          },
          "metadata": {
            "tags": [
              "id2-0-0",
              "outputarea_id2"
            ]
          }
        },
        {
          "output_type": "display_data",
          "data": {
            "application/javascript": [
              "window[\"051728fc-7953-11eb-b1d5-0242ac1c0002\"] = google.colab.output.setActiveOutputArea(window[\"0516efa4-7953-11eb-b1d5-0242ac1c0002\"]);\n",
              "//# sourceURL=js_4cd922936b"
            ],
            "text/plain": [
              "<IPython.core.display.Javascript object>"
            ]
          },
          "metadata": {
            "tags": [
              "id2-0-0",
              "outputarea_id2"
            ]
          }
        },
        {
          "output_type": "display_data",
          "data": {
            "application/javascript": [
              "window[\"052ee190-7953-11eb-b1d5-0242ac1c0002\"] = google.colab.output.setActiveOutputArea(window[\"0516b08e-7953-11eb-b1d5-0242ac1c0002\"]);\n",
              "//# sourceURL=js_6dd08cc81e"
            ],
            "text/plain": [
              "<IPython.core.display.Javascript object>"
            ]
          },
          "metadata": {
            "tags": [
              "id2-0-0",
              "outputarea_id2"
            ]
          }
        },
        {
          "output_type": "display_data",
          "data": {
            "application/javascript": [
              "window[\"05300fac-7953-11eb-b1d5-0242ac1c0002\"] = google.colab.output.getActiveOutputArea();\n",
              "//# sourceURL=js_58fba3e7f0"
            ],
            "text/plain": [
              "<IPython.core.display.Javascript object>"
            ]
          },
          "metadata": {
            "tags": [
              "id2-0-0",
              "outputarea_id2"
            ]
          }
        },
        {
          "output_type": "display_data",
          "data": {
            "application/javascript": [
              "window[\"05304e9a-7953-11eb-b1d5-0242ac1c0002\"] = document.querySelector(\"#id2-0-0\");\n",
              "//# sourceURL=js_053449aa09"
            ],
            "text/plain": [
              "<IPython.core.display.Javascript object>"
            ]
          },
          "metadata": {
            "tags": [
              "id2-0-0",
              "outputarea_id2"
            ]
          }
        },
        {
          "output_type": "display_data",
          "data": {
            "application/javascript": [
              "window[\"05308982-7953-11eb-b1d5-0242ac1c0002\"] = google.colab.output.setActiveOutputArea(window[\"05304e9a-7953-11eb-b1d5-0242ac1c0002\"]);\n",
              "//# sourceURL=js_6751275e83"
            ],
            "text/plain": [
              "<IPython.core.display.Javascript object>"
            ]
          },
          "metadata": {
            "tags": [
              "id2-0-0",
              "outputarea_id2"
            ]
          }
        },
        {
          "output_type": "display_data",
          "data": {
            "application/javascript": [
              "window[\"0549add6-7953-11eb-b1d5-0242ac1c0002\"] = google.colab.output.setActiveOutputArea(window[\"05300fac-7953-11eb-b1d5-0242ac1c0002\"]);\n",
              "//# sourceURL=js_a02d4f8b37"
            ],
            "text/plain": [
              "<IPython.core.display.Javascript object>"
            ]
          },
          "metadata": {
            "tags": [
              "id2-0-0",
              "outputarea_id2"
            ]
          }
        },
        {
          "output_type": "display_data",
          "data": {
            "application/javascript": [
              "window[\"054aec50-7953-11eb-b1d5-0242ac1c0002\"] = google.colab.output.getActiveOutputArea();\n",
              "//# sourceURL=js_7182ecc1f7"
            ],
            "text/plain": [
              "<IPython.core.display.Javascript object>"
            ]
          },
          "metadata": {
            "tags": [
              "id2-0-0",
              "outputarea_id2"
            ]
          }
        },
        {
          "output_type": "display_data",
          "data": {
            "application/javascript": [
              "window[\"054b29d6-7953-11eb-b1d5-0242ac1c0002\"] = document.querySelector(\"#id2-0-0\");\n",
              "//# sourceURL=js_9573cda1eb"
            ],
            "text/plain": [
              "<IPython.core.display.Javascript object>"
            ]
          },
          "metadata": {
            "tags": [
              "id2-0-0",
              "outputarea_id2"
            ]
          }
        },
        {
          "output_type": "display_data",
          "data": {
            "application/javascript": [
              "window[\"054b6676-7953-11eb-b1d5-0242ac1c0002\"] = google.colab.output.setActiveOutputArea(window[\"054b29d6-7953-11eb-b1d5-0242ac1c0002\"]);\n",
              "//# sourceURL=js_595ebf85c8"
            ],
            "text/plain": [
              "<IPython.core.display.Javascript object>"
            ]
          },
          "metadata": {
            "tags": [
              "id2-0-0",
              "outputarea_id2"
            ]
          }
        },
        {
          "output_type": "display_data",
          "data": {
            "application/javascript": [
              "window[\"05620688-7953-11eb-b1d5-0242ac1c0002\"] = google.colab.output.setActiveOutputArea(window[\"054aec50-7953-11eb-b1d5-0242ac1c0002\"]);\n",
              "//# sourceURL=js_1aa8660173"
            ],
            "text/plain": [
              "<IPython.core.display.Javascript object>"
            ]
          },
          "metadata": {
            "tags": [
              "id2-0-0",
              "outputarea_id2"
            ]
          }
        },
        {
          "output_type": "display_data",
          "data": {
            "application/javascript": [
              "window[\"05633008-7953-11eb-b1d5-0242ac1c0002\"] = google.colab.output.getActiveOutputArea();\n",
              "//# sourceURL=js_132598d0c1"
            ],
            "text/plain": [
              "<IPython.core.display.Javascript object>"
            ]
          },
          "metadata": {
            "tags": [
              "id2-0-0",
              "outputarea_id2"
            ]
          }
        },
        {
          "output_type": "display_data",
          "data": {
            "application/javascript": [
              "window[\"05636dfc-7953-11eb-b1d5-0242ac1c0002\"] = document.querySelector(\"#id2-0-0\");\n",
              "//# sourceURL=js_8e00dcc6cd"
            ],
            "text/plain": [
              "<IPython.core.display.Javascript object>"
            ]
          },
          "metadata": {
            "tags": [
              "id2-0-0",
              "outputarea_id2"
            ]
          }
        },
        {
          "output_type": "display_data",
          "data": {
            "application/javascript": [
              "window[\"0563a9ca-7953-11eb-b1d5-0242ac1c0002\"] = google.colab.output.setActiveOutputArea(window[\"05636dfc-7953-11eb-b1d5-0242ac1c0002\"]);\n",
              "//# sourceURL=js_63002e5f8a"
            ],
            "text/plain": [
              "<IPython.core.display.Javascript object>"
            ]
          },
          "metadata": {
            "tags": [
              "id2-0-0",
              "outputarea_id2"
            ]
          }
        },
        {
          "output_type": "display_data",
          "data": {
            "application/javascript": [
              "window[\"057b9d3c-7953-11eb-b1d5-0242ac1c0002\"] = google.colab.output.setActiveOutputArea(window[\"05633008-7953-11eb-b1d5-0242ac1c0002\"]);\n",
              "//# sourceURL=js_e1582ddad5"
            ],
            "text/plain": [
              "<IPython.core.display.Javascript object>"
            ]
          },
          "metadata": {
            "tags": [
              "id2-0-0",
              "outputarea_id2"
            ]
          }
        },
        {
          "output_type": "display_data",
          "data": {
            "application/javascript": [
              "window[\"057cb94c-7953-11eb-b1d5-0242ac1c0002\"] = google.colab.output.getActiveOutputArea();\n",
              "//# sourceURL=js_bf5e9e442f"
            ],
            "text/plain": [
              "<IPython.core.display.Javascript object>"
            ]
          },
          "metadata": {
            "tags": [
              "id2-0-0",
              "outputarea_id2"
            ]
          }
        },
        {
          "output_type": "display_data",
          "data": {
            "application/javascript": [
              "window[\"057cf560-7953-11eb-b1d5-0242ac1c0002\"] = document.querySelector(\"#id2-0-0\");\n",
              "//# sourceURL=js_9d5531b099"
            ],
            "text/plain": [
              "<IPython.core.display.Javascript object>"
            ]
          },
          "metadata": {
            "tags": [
              "id2-0-0",
              "outputarea_id2"
            ]
          }
        },
        {
          "output_type": "display_data",
          "data": {
            "application/javascript": [
              "window[\"057d31a6-7953-11eb-b1d5-0242ac1c0002\"] = google.colab.output.setActiveOutputArea(window[\"057cf560-7953-11eb-b1d5-0242ac1c0002\"]);\n",
              "//# sourceURL=js_2bcfa9155f"
            ],
            "text/plain": [
              "<IPython.core.display.Javascript object>"
            ]
          },
          "metadata": {
            "tags": [
              "id2-0-0",
              "outputarea_id2"
            ]
          }
        },
        {
          "output_type": "display_data",
          "data": {
            "application/javascript": [
              "window[\"0594a7dc-7953-11eb-b1d5-0242ac1c0002\"] = google.colab.output.setActiveOutputArea(window[\"057cb94c-7953-11eb-b1d5-0242ac1c0002\"]);\n",
              "//# sourceURL=js_c23f796982"
            ],
            "text/plain": [
              "<IPython.core.display.Javascript object>"
            ]
          },
          "metadata": {
            "tags": [
              "id2-0-0",
              "outputarea_id2"
            ]
          }
        },
        {
          "output_type": "display_data",
          "data": {
            "application/javascript": [
              "window[\"059617fc-7953-11eb-b1d5-0242ac1c0002\"] = google.colab.output.getActiveOutputArea();\n",
              "//# sourceURL=js_00c726c2d4"
            ],
            "text/plain": [
              "<IPython.core.display.Javascript object>"
            ]
          },
          "metadata": {
            "tags": [
              "id2-0-0",
              "outputarea_id2"
            ]
          }
        },
        {
          "output_type": "display_data",
          "data": {
            "application/javascript": [
              "window[\"05965442-7953-11eb-b1d5-0242ac1c0002\"] = document.querySelector(\"#id2-0-0\");\n",
              "//# sourceURL=js_e23f9d7efc"
            ],
            "text/plain": [
              "<IPython.core.display.Javascript object>"
            ]
          },
          "metadata": {
            "tags": [
              "id2-0-0",
              "outputarea_id2"
            ]
          }
        },
        {
          "output_type": "display_data",
          "data": {
            "application/javascript": [
              "window[\"059692f4-7953-11eb-b1d5-0242ac1c0002\"] = google.colab.output.setActiveOutputArea(window[\"05965442-7953-11eb-b1d5-0242ac1c0002\"]);\n",
              "//# sourceURL=js_57dacbb299"
            ],
            "text/plain": [
              "<IPython.core.display.Javascript object>"
            ]
          },
          "metadata": {
            "tags": [
              "id2-0-0",
              "outputarea_id2"
            ]
          }
        },
        {
          "output_type": "display_data",
          "data": {
            "application/javascript": [
              "window[\"05aeca22-7953-11eb-b1d5-0242ac1c0002\"] = google.colab.output.setActiveOutputArea(window[\"059617fc-7953-11eb-b1d5-0242ac1c0002\"]);\n",
              "//# sourceURL=js_c74e487fd0"
            ],
            "text/plain": [
              "<IPython.core.display.Javascript object>"
            ]
          },
          "metadata": {
            "tags": [
              "id2-0-0",
              "outputarea_id2"
            ]
          }
        },
        {
          "output_type": "display_data",
          "data": {
            "application/javascript": [
              "window[\"05aff2e4-7953-11eb-b1d5-0242ac1c0002\"] = google.colab.output.getActiveOutputArea();\n",
              "//# sourceURL=js_32f8350ead"
            ],
            "text/plain": [
              "<IPython.core.display.Javascript object>"
            ]
          },
          "metadata": {
            "tags": [
              "id2-0-0",
              "outputarea_id2"
            ]
          }
        },
        {
          "output_type": "display_data",
          "data": {
            "application/javascript": [
              "window[\"05b02c32-7953-11eb-b1d5-0242ac1c0002\"] = document.querySelector(\"#id2-0-0\");\n",
              "//# sourceURL=js_c381f4fc5b"
            ],
            "text/plain": [
              "<IPython.core.display.Javascript object>"
            ]
          },
          "metadata": {
            "tags": [
              "id2-0-0",
              "outputarea_id2"
            ]
          }
        },
        {
          "output_type": "display_data",
          "data": {
            "application/javascript": [
              "window[\"05b0676a-7953-11eb-b1d5-0242ac1c0002\"] = google.colab.output.setActiveOutputArea(window[\"05b02c32-7953-11eb-b1d5-0242ac1c0002\"]);\n",
              "//# sourceURL=js_0f8f8589a1"
            ],
            "text/plain": [
              "<IPython.core.display.Javascript object>"
            ]
          },
          "metadata": {
            "tags": [
              "id2-0-0",
              "outputarea_id2"
            ]
          }
        },
        {
          "output_type": "display_data",
          "data": {
            "application/javascript": [
              "window[\"05ca521a-7953-11eb-b1d5-0242ac1c0002\"] = google.colab.output.setActiveOutputArea(window[\"05aff2e4-7953-11eb-b1d5-0242ac1c0002\"]);\n",
              "//# sourceURL=js_a6b9415f34"
            ],
            "text/plain": [
              "<IPython.core.display.Javascript object>"
            ]
          },
          "metadata": {
            "tags": [
              "id2-0-0",
              "outputarea_id2"
            ]
          }
        },
        {
          "output_type": "display_data",
          "data": {
            "application/javascript": [
              "window[\"05ccb816-7953-11eb-b1d5-0242ac1c0002\"] = google.colab.output.getActiveOutputArea();\n",
              "//# sourceURL=js_a8f33711b3"
            ],
            "text/plain": [
              "<IPython.core.display.Javascript object>"
            ]
          },
          "metadata": {
            "tags": [
              "id2-0-0",
              "outputarea_id2"
            ]
          }
        },
        {
          "output_type": "display_data",
          "data": {
            "application/javascript": [
              "window[\"05cd0b7c-7953-11eb-b1d5-0242ac1c0002\"] = document.querySelector(\"#id2-0-0\");\n",
              "//# sourceURL=js_29054666ba"
            ],
            "text/plain": [
              "<IPython.core.display.Javascript object>"
            ]
          },
          "metadata": {
            "tags": [
              "id2-0-0",
              "outputarea_id2"
            ]
          }
        },
        {
          "output_type": "display_data",
          "data": {
            "application/javascript": [
              "window[\"05cdda3e-7953-11eb-b1d5-0242ac1c0002\"] = google.colab.output.setActiveOutputArea(window[\"05cd0b7c-7953-11eb-b1d5-0242ac1c0002\"]);\n",
              "//# sourceURL=js_cd291be61b"
            ],
            "text/plain": [
              "<IPython.core.display.Javascript object>"
            ]
          },
          "metadata": {
            "tags": [
              "id2-0-0",
              "outputarea_id2"
            ]
          }
        },
        {
          "output_type": "display_data",
          "data": {
            "application/javascript": [
              "window[\"05e6591a-7953-11eb-b1d5-0242ac1c0002\"] = google.colab.output.setActiveOutputArea(window[\"05ccb816-7953-11eb-b1d5-0242ac1c0002\"]);\n",
              "//# sourceURL=js_85764a7dc9"
            ],
            "text/plain": [
              "<IPython.core.display.Javascript object>"
            ]
          },
          "metadata": {
            "tags": [
              "id2-0-0",
              "outputarea_id2"
            ]
          }
        },
        {
          "output_type": "display_data",
          "data": {
            "application/javascript": [
              "window[\"05e7c980-7953-11eb-b1d5-0242ac1c0002\"] = google.colab.output.getActiveOutputArea();\n",
              "//# sourceURL=js_c202bef01a"
            ],
            "text/plain": [
              "<IPython.core.display.Javascript object>"
            ]
          },
          "metadata": {
            "tags": [
              "id2-0-0",
              "outputarea_id2"
            ]
          }
        },
        {
          "output_type": "display_data",
          "data": {
            "application/javascript": [
              "window[\"05e8185e-7953-11eb-b1d5-0242ac1c0002\"] = document.querySelector(\"#id2-0-0\");\n",
              "//# sourceURL=js_3c1f8f6e64"
            ],
            "text/plain": [
              "<IPython.core.display.Javascript object>"
            ]
          },
          "metadata": {
            "tags": [
              "id2-0-0",
              "outputarea_id2"
            ]
          }
        },
        {
          "output_type": "display_data",
          "data": {
            "application/javascript": [
              "window[\"05e8544a-7953-11eb-b1d5-0242ac1c0002\"] = google.colab.output.setActiveOutputArea(window[\"05e8185e-7953-11eb-b1d5-0242ac1c0002\"]);\n",
              "//# sourceURL=js_a3b197b85f"
            ],
            "text/plain": [
              "<IPython.core.display.Javascript object>"
            ]
          },
          "metadata": {
            "tags": [
              "id2-0-0",
              "outputarea_id2"
            ]
          }
        },
        {
          "output_type": "display_data",
          "data": {
            "application/javascript": [
              "window[\"06071a1a-7953-11eb-b1d5-0242ac1c0002\"] = google.colab.output.setActiveOutputArea(window[\"05e7c980-7953-11eb-b1d5-0242ac1c0002\"]);\n",
              "//# sourceURL=js_fc2598d347"
            ],
            "text/plain": [
              "<IPython.core.display.Javascript object>"
            ]
          },
          "metadata": {
            "tags": [
              "id2-0-0",
              "outputarea_id2"
            ]
          }
        },
        {
          "output_type": "display_data",
          "data": {
            "application/javascript": [
              "window[\"06086c3a-7953-11eb-b1d5-0242ac1c0002\"] = google.colab.output.getActiveOutputArea();\n",
              "//# sourceURL=js_1a7395e24e"
            ],
            "text/plain": [
              "<IPython.core.display.Javascript object>"
            ]
          },
          "metadata": {
            "tags": [
              "id2-0-0",
              "outputarea_id2"
            ]
          }
        },
        {
          "output_type": "display_data",
          "data": {
            "application/javascript": [
              "window[\"0608b398-7953-11eb-b1d5-0242ac1c0002\"] = document.querySelector(\"#id2-0-0\");\n",
              "//# sourceURL=js_97ccaca190"
            ],
            "text/plain": [
              "<IPython.core.display.Javascript object>"
            ]
          },
          "metadata": {
            "tags": [
              "id2-0-0",
              "outputarea_id2"
            ]
          }
        },
        {
          "output_type": "display_data",
          "data": {
            "application/javascript": [
              "window[\"0608ecf0-7953-11eb-b1d5-0242ac1c0002\"] = google.colab.output.setActiveOutputArea(window[\"0608b398-7953-11eb-b1d5-0242ac1c0002\"]);\n",
              "//# sourceURL=js_de6ee278a2"
            ],
            "text/plain": [
              "<IPython.core.display.Javascript object>"
            ]
          },
          "metadata": {
            "tags": [
              "id2-0-0",
              "outputarea_id2"
            ]
          }
        },
        {
          "output_type": "display_data",
          "data": {
            "application/javascript": [
              "window[\"0620b1be-7953-11eb-b1d5-0242ac1c0002\"] = google.colab.output.setActiveOutputArea(window[\"06086c3a-7953-11eb-b1d5-0242ac1c0002\"]);\n",
              "//# sourceURL=js_cd55c2a705"
            ],
            "text/plain": [
              "<IPython.core.display.Javascript object>"
            ]
          },
          "metadata": {
            "tags": [
              "id2-0-0",
              "outputarea_id2"
            ]
          }
        },
        {
          "output_type": "display_data",
          "data": {
            "application/javascript": [
              "window[\"0621e94e-7953-11eb-b1d5-0242ac1c0002\"] = google.colab.output.getActiveOutputArea();\n",
              "//# sourceURL=js_c39239885d"
            ],
            "text/plain": [
              "<IPython.core.display.Javascript object>"
            ]
          },
          "metadata": {
            "tags": [
              "id2-0-0",
              "outputarea_id2"
            ]
          }
        },
        {
          "output_type": "display_data",
          "data": {
            "application/javascript": [
              "window[\"062230d4-7953-11eb-b1d5-0242ac1c0002\"] = document.querySelector(\"#id2-0-0\");\n",
              "//# sourceURL=js_c9258d71cb"
            ],
            "text/plain": [
              "<IPython.core.display.Javascript object>"
            ]
          },
          "metadata": {
            "tags": [
              "id2-0-0",
              "outputarea_id2"
            ]
          }
        },
        {
          "output_type": "display_data",
          "data": {
            "application/javascript": [
              "window[\"062277ba-7953-11eb-b1d5-0242ac1c0002\"] = google.colab.output.setActiveOutputArea(window[\"062230d4-7953-11eb-b1d5-0242ac1c0002\"]);\n",
              "//# sourceURL=js_46233dcd54"
            ],
            "text/plain": [
              "<IPython.core.display.Javascript object>"
            ]
          },
          "metadata": {
            "tags": [
              "id2-0-0",
              "outputarea_id2"
            ]
          }
        },
        {
          "output_type": "display_data",
          "data": {
            "application/javascript": [
              "window[\"063a347c-7953-11eb-b1d5-0242ac1c0002\"] = google.colab.output.setActiveOutputArea(window[\"0621e94e-7953-11eb-b1d5-0242ac1c0002\"]);\n",
              "//# sourceURL=js_306944008e"
            ],
            "text/plain": [
              "<IPython.core.display.Javascript object>"
            ]
          },
          "metadata": {
            "tags": [
              "id2-0-0",
              "outputarea_id2"
            ]
          }
        },
        {
          "output_type": "display_data",
          "data": {
            "application/javascript": [
              "window[\"063b7ec2-7953-11eb-b1d5-0242ac1c0002\"] = google.colab.output.getActiveOutputArea();\n",
              "//# sourceURL=js_4829357c8f"
            ],
            "text/plain": [
              "<IPython.core.display.Javascript object>"
            ]
          },
          "metadata": {
            "tags": [
              "id2-0-0",
              "outputarea_id2"
            ]
          }
        },
        {
          "output_type": "display_data",
          "data": {
            "application/javascript": [
              "window[\"063bc2b0-7953-11eb-b1d5-0242ac1c0002\"] = document.querySelector(\"#id2-0-0\");\n",
              "//# sourceURL=js_220a14a3c7"
            ],
            "text/plain": [
              "<IPython.core.display.Javascript object>"
            ]
          },
          "metadata": {
            "tags": [
              "id2-0-0",
              "outputarea_id2"
            ]
          }
        },
        {
          "output_type": "display_data",
          "data": {
            "application/javascript": [
              "window[\"063c07d4-7953-11eb-b1d5-0242ac1c0002\"] = google.colab.output.setActiveOutputArea(window[\"063bc2b0-7953-11eb-b1d5-0242ac1c0002\"]);\n",
              "//# sourceURL=js_fbd1792d63"
            ],
            "text/plain": [
              "<IPython.core.display.Javascript object>"
            ]
          },
          "metadata": {
            "tags": [
              "id2-0-0",
              "outputarea_id2"
            ]
          }
        },
        {
          "output_type": "display_data",
          "data": {
            "application/javascript": [
              "window[\"06548f0c-7953-11eb-b1d5-0242ac1c0002\"] = google.colab.output.setActiveOutputArea(window[\"063b7ec2-7953-11eb-b1d5-0242ac1c0002\"]);\n",
              "//# sourceURL=js_5f64976ea3"
            ],
            "text/plain": [
              "<IPython.core.display.Javascript object>"
            ]
          },
          "metadata": {
            "tags": [
              "id2-0-0",
              "outputarea_id2"
            ]
          }
        },
        {
          "output_type": "display_data",
          "data": {
            "application/javascript": [
              "window[\"0655cfac-7953-11eb-b1d5-0242ac1c0002\"] = google.colab.output.getActiveOutputArea();\n",
              "//# sourceURL=js_83e103ab44"
            ],
            "text/plain": [
              "<IPython.core.display.Javascript object>"
            ]
          },
          "metadata": {
            "tags": [
              "id2-0-0",
              "outputarea_id2"
            ]
          }
        },
        {
          "output_type": "display_data",
          "data": {
            "application/javascript": [
              "window[\"06561340-7953-11eb-b1d5-0242ac1c0002\"] = document.querySelector(\"#id2-0-0\");\n",
              "//# sourceURL=js_0acc1c729b"
            ],
            "text/plain": [
              "<IPython.core.display.Javascript object>"
            ]
          },
          "metadata": {
            "tags": [
              "id2-0-0",
              "outputarea_id2"
            ]
          }
        },
        {
          "output_type": "display_data",
          "data": {
            "application/javascript": [
              "window[\"06565346-7953-11eb-b1d5-0242ac1c0002\"] = google.colab.output.setActiveOutputArea(window[\"06561340-7953-11eb-b1d5-0242ac1c0002\"]);\n",
              "//# sourceURL=js_3797973412"
            ],
            "text/plain": [
              "<IPython.core.display.Javascript object>"
            ]
          },
          "metadata": {
            "tags": [
              "id2-0-0",
              "outputarea_id2"
            ]
          }
        },
        {
          "output_type": "display_data",
          "data": {
            "application/javascript": [
              "window[\"066eec76-7953-11eb-b1d5-0242ac1c0002\"] = google.colab.output.setActiveOutputArea(window[\"0655cfac-7953-11eb-b1d5-0242ac1c0002\"]);\n",
              "//# sourceURL=js_f017d8cb38"
            ],
            "text/plain": [
              "<IPython.core.display.Javascript object>"
            ]
          },
          "metadata": {
            "tags": [
              "id2-0-0",
              "outputarea_id2"
            ]
          }
        },
        {
          "output_type": "display_data",
          "data": {
            "application/javascript": [
              "window[\"06702e06-7953-11eb-b1d5-0242ac1c0002\"] = google.colab.output.getActiveOutputArea();\n",
              "//# sourceURL=js_f573dcda3c"
            ],
            "text/plain": [
              "<IPython.core.display.Javascript object>"
            ]
          },
          "metadata": {
            "tags": [
              "id2-0-0",
              "outputarea_id2"
            ]
          }
        },
        {
          "output_type": "display_data",
          "data": {
            "application/javascript": [
              "window[\"06707078-7953-11eb-b1d5-0242ac1c0002\"] = document.querySelector(\"#id2-0-0\");\n",
              "//# sourceURL=js_1bac8601b4"
            ],
            "text/plain": [
              "<IPython.core.display.Javascript object>"
            ]
          },
          "metadata": {
            "tags": [
              "id2-0-0",
              "outputarea_id2"
            ]
          }
        },
        {
          "output_type": "display_data",
          "data": {
            "application/javascript": [
              "window[\"0670acc8-7953-11eb-b1d5-0242ac1c0002\"] = google.colab.output.setActiveOutputArea(window[\"06707078-7953-11eb-b1d5-0242ac1c0002\"]);\n",
              "//# sourceURL=js_58c866c03c"
            ],
            "text/plain": [
              "<IPython.core.display.Javascript object>"
            ]
          },
          "metadata": {
            "tags": [
              "id2-0-0",
              "outputarea_id2"
            ]
          }
        },
        {
          "output_type": "display_data",
          "data": {
            "application/javascript": [
              "window[\"068b10fe-7953-11eb-b1d5-0242ac1c0002\"] = google.colab.output.setActiveOutputArea(window[\"06702e06-7953-11eb-b1d5-0242ac1c0002\"]);\n",
              "//# sourceURL=js_0f02b99828"
            ],
            "text/plain": [
              "<IPython.core.display.Javascript object>"
            ]
          },
          "metadata": {
            "tags": [
              "id2-0-0",
              "outputarea_id2"
            ]
          }
        },
        {
          "output_type": "display_data",
          "data": {
            "application/javascript": [
              "window[\"068c4bf4-7953-11eb-b1d5-0242ac1c0002\"] = google.colab.output.getActiveOutputArea();\n",
              "//# sourceURL=js_0be4ae3371"
            ],
            "text/plain": [
              "<IPython.core.display.Javascript object>"
            ]
          },
          "metadata": {
            "tags": [
              "id2-0-0",
              "outputarea_id2"
            ]
          }
        },
        {
          "output_type": "display_data",
          "data": {
            "application/javascript": [
              "window[\"068c8e70-7953-11eb-b1d5-0242ac1c0002\"] = document.querySelector(\"#id2-0-0\");\n",
              "//# sourceURL=js_c3f4e23cc0"
            ],
            "text/plain": [
              "<IPython.core.display.Javascript object>"
            ]
          },
          "metadata": {
            "tags": [
              "id2-0-0",
              "outputarea_id2"
            ]
          }
        },
        {
          "output_type": "display_data",
          "data": {
            "application/javascript": [
              "window[\"068ccc96-7953-11eb-b1d5-0242ac1c0002\"] = google.colab.output.setActiveOutputArea(window[\"068c8e70-7953-11eb-b1d5-0242ac1c0002\"]);\n",
              "//# sourceURL=js_2ca5970142"
            ],
            "text/plain": [
              "<IPython.core.display.Javascript object>"
            ]
          },
          "metadata": {
            "tags": [
              "id2-0-0",
              "outputarea_id2"
            ]
          }
        },
        {
          "output_type": "display_data",
          "data": {
            "application/javascript": [
              "window[\"06a5ba44-7953-11eb-b1d5-0242ac1c0002\"] = google.colab.output.setActiveOutputArea(window[\"068c4bf4-7953-11eb-b1d5-0242ac1c0002\"]);\n",
              "//# sourceURL=js_ee0b8e7827"
            ],
            "text/plain": [
              "<IPython.core.display.Javascript object>"
            ]
          },
          "metadata": {
            "tags": [
              "id2-0-0",
              "outputarea_id2"
            ]
          }
        },
        {
          "output_type": "display_data",
          "data": {
            "application/javascript": [
              "window[\"06a8edea-7953-11eb-b1d5-0242ac1c0002\"] = google.colab.output.getActiveOutputArea();\n",
              "//# sourceURL=js_72bba522c7"
            ],
            "text/plain": [
              "<IPython.core.display.Javascript object>"
            ]
          },
          "metadata": {
            "tags": [
              "id2-0-0",
              "outputarea_id2"
            ]
          }
        },
        {
          "output_type": "display_data",
          "data": {
            "application/javascript": [
              "window[\"06a92e0e-7953-11eb-b1d5-0242ac1c0002\"] = document.querySelector(\"#id2-0-0\");\n",
              "//# sourceURL=js_dc3fed9f81"
            ],
            "text/plain": [
              "<IPython.core.display.Javascript object>"
            ]
          },
          "metadata": {
            "tags": [
              "id2-0-0",
              "outputarea_id2"
            ]
          }
        },
        {
          "output_type": "display_data",
          "data": {
            "application/javascript": [
              "window[\"06a9ce54-7953-11eb-b1d5-0242ac1c0002\"] = google.colab.output.setActiveOutputArea(window[\"06a92e0e-7953-11eb-b1d5-0242ac1c0002\"]);\n",
              "//# sourceURL=js_0149ced780"
            ],
            "text/plain": [
              "<IPython.core.display.Javascript object>"
            ]
          },
          "metadata": {
            "tags": [
              "id2-0-0",
              "outputarea_id2"
            ]
          }
        },
        {
          "output_type": "display_data",
          "data": {
            "application/javascript": [
              "window[\"06c07122-7953-11eb-b1d5-0242ac1c0002\"] = google.colab.output.setActiveOutputArea(window[\"06a8edea-7953-11eb-b1d5-0242ac1c0002\"]);\n",
              "//# sourceURL=js_1452469df7"
            ],
            "text/plain": [
              "<IPython.core.display.Javascript object>"
            ]
          },
          "metadata": {
            "tags": [
              "id2-0-0",
              "outputarea_id2"
            ]
          }
        },
        {
          "output_type": "display_data",
          "data": {
            "application/javascript": [
              "window[\"06c31418-7953-11eb-b1d5-0242ac1c0002\"] = google.colab.output.getActiveOutputArea();\n",
              "//# sourceURL=js_51f4471fe4"
            ],
            "text/plain": [
              "<IPython.core.display.Javascript object>"
            ]
          },
          "metadata": {
            "tags": [
              "id2-0-0",
              "outputarea_id2"
            ]
          }
        },
        {
          "output_type": "display_data",
          "data": {
            "application/javascript": [
              "window[\"06c359c8-7953-11eb-b1d5-0242ac1c0002\"] = document.querySelector(\"#id2-0-0\");\n",
              "//# sourceURL=js_6b3899e6f6"
            ],
            "text/plain": [
              "<IPython.core.display.Javascript object>"
            ]
          },
          "metadata": {
            "tags": [
              "id2-0-0",
              "outputarea_id2"
            ]
          }
        },
        {
          "output_type": "display_data",
          "data": {
            "application/javascript": [
              "window[\"06c39532-7953-11eb-b1d5-0242ac1c0002\"] = google.colab.output.setActiveOutputArea(window[\"06c359c8-7953-11eb-b1d5-0242ac1c0002\"]);\n",
              "//# sourceURL=js_e38b9013a8"
            ],
            "text/plain": [
              "<IPython.core.display.Javascript object>"
            ]
          },
          "metadata": {
            "tags": [
              "id2-0-0",
              "outputarea_id2"
            ]
          }
        },
        {
          "output_type": "display_data",
          "data": {
            "application/javascript": [
              "window[\"06dad01c-7953-11eb-b1d5-0242ac1c0002\"] = google.colab.output.setActiveOutputArea(window[\"06c31418-7953-11eb-b1d5-0242ac1c0002\"]);\n",
              "//# sourceURL=js_5a73fb4c64"
            ],
            "text/plain": [
              "<IPython.core.display.Javascript object>"
            ]
          },
          "metadata": {
            "tags": [
              "id2-0-0",
              "outputarea_id2"
            ]
          }
        },
        {
          "output_type": "display_data",
          "data": {
            "application/javascript": [
              "window[\"06dbfc58-7953-11eb-b1d5-0242ac1c0002\"] = google.colab.output.getActiveOutputArea();\n",
              "//# sourceURL=js_861cffc1cb"
            ],
            "text/plain": [
              "<IPython.core.display.Javascript object>"
            ]
          },
          "metadata": {
            "tags": [
              "id2-0-0",
              "outputarea_id2"
            ]
          }
        },
        {
          "output_type": "display_data",
          "data": {
            "application/javascript": [
              "window[\"06dc41a4-7953-11eb-b1d5-0242ac1c0002\"] = document.querySelector(\"#id2-0-0\");\n",
              "//# sourceURL=js_40933a4b74"
            ],
            "text/plain": [
              "<IPython.core.display.Javascript object>"
            ]
          },
          "metadata": {
            "tags": [
              "id2-0-0",
              "outputarea_id2"
            ]
          }
        },
        {
          "output_type": "display_data",
          "data": {
            "application/javascript": [
              "window[\"06dc806a-7953-11eb-b1d5-0242ac1c0002\"] = google.colab.output.setActiveOutputArea(window[\"06dc41a4-7953-11eb-b1d5-0242ac1c0002\"]);\n",
              "//# sourceURL=js_4afcc5ae1e"
            ],
            "text/plain": [
              "<IPython.core.display.Javascript object>"
            ]
          },
          "metadata": {
            "tags": [
              "id2-0-0",
              "outputarea_id2"
            ]
          }
        },
        {
          "output_type": "display_data",
          "data": {
            "application/javascript": [
              "window[\"06f5e3ac-7953-11eb-b1d5-0242ac1c0002\"] = google.colab.output.setActiveOutputArea(window[\"06dbfc58-7953-11eb-b1d5-0242ac1c0002\"]);\n",
              "//# sourceURL=js_240b5cad78"
            ],
            "text/plain": [
              "<IPython.core.display.Javascript object>"
            ]
          },
          "metadata": {
            "tags": [
              "id2-0-0",
              "outputarea_id2"
            ]
          }
        },
        {
          "output_type": "display_data",
          "data": {
            "application/javascript": [
              "window[\"06f7136c-7953-11eb-b1d5-0242ac1c0002\"] = google.colab.output.getActiveOutputArea();\n",
              "//# sourceURL=js_dc818f5128"
            ],
            "text/plain": [
              "<IPython.core.display.Javascript object>"
            ]
          },
          "metadata": {
            "tags": [
              "id2-0-0",
              "outputarea_id2"
            ]
          }
        },
        {
          "output_type": "display_data",
          "data": {
            "application/javascript": [
              "window[\"06f75408-7953-11eb-b1d5-0242ac1c0002\"] = document.querySelector(\"#id2-0-0\");\n",
              "//# sourceURL=js_ab24ed240e"
            ],
            "text/plain": [
              "<IPython.core.display.Javascript object>"
            ]
          },
          "metadata": {
            "tags": [
              "id2-0-0",
              "outputarea_id2"
            ]
          }
        },
        {
          "output_type": "display_data",
          "data": {
            "application/javascript": [
              "window[\"06f79986-7953-11eb-b1d5-0242ac1c0002\"] = google.colab.output.setActiveOutputArea(window[\"06f75408-7953-11eb-b1d5-0242ac1c0002\"]);\n",
              "//# sourceURL=js_0867b9f29c"
            ],
            "text/plain": [
              "<IPython.core.display.Javascript object>"
            ]
          },
          "metadata": {
            "tags": [
              "id2-0-0",
              "outputarea_id2"
            ]
          }
        },
        {
          "output_type": "display_data",
          "data": {
            "application/javascript": [
              "window[\"0710fc82-7953-11eb-b1d5-0242ac1c0002\"] = google.colab.output.setActiveOutputArea(window[\"06f7136c-7953-11eb-b1d5-0242ac1c0002\"]);\n",
              "//# sourceURL=js_7877d914d4"
            ],
            "text/plain": [
              "<IPython.core.display.Javascript object>"
            ]
          },
          "metadata": {
            "tags": [
              "id2-0-0",
              "outputarea_id2"
            ]
          }
        },
        {
          "output_type": "display_data",
          "data": {
            "application/javascript": [
              "window[\"07123750-7953-11eb-b1d5-0242ac1c0002\"] = google.colab.output.getActiveOutputArea();\n",
              "//# sourceURL=js_b377466f76"
            ],
            "text/plain": [
              "<IPython.core.display.Javascript object>"
            ]
          },
          "metadata": {
            "tags": [
              "id2-0-0",
              "outputarea_id2"
            ]
          }
        },
        {
          "output_type": "display_data",
          "data": {
            "application/javascript": [
              "window[\"07127dfa-7953-11eb-b1d5-0242ac1c0002\"] = document.querySelector(\"#id2-0-0\");\n",
              "//# sourceURL=js_376ae52a47"
            ],
            "text/plain": [
              "<IPython.core.display.Javascript object>"
            ]
          },
          "metadata": {
            "tags": [
              "id2-0-0",
              "outputarea_id2"
            ]
          }
        },
        {
          "output_type": "display_data",
          "data": {
            "application/javascript": [
              "window[\"0712b90a-7953-11eb-b1d5-0242ac1c0002\"] = google.colab.output.setActiveOutputArea(window[\"07127dfa-7953-11eb-b1d5-0242ac1c0002\"]);\n",
              "//# sourceURL=js_c9ffc57ec1"
            ],
            "text/plain": [
              "<IPython.core.display.Javascript object>"
            ]
          },
          "metadata": {
            "tags": [
              "id2-0-0",
              "outputarea_id2"
            ]
          }
        },
        {
          "output_type": "display_data",
          "data": {
            "application/javascript": [
              "window[\"0732f24c-7953-11eb-b1d5-0242ac1c0002\"] = google.colab.output.setActiveOutputArea(window[\"07123750-7953-11eb-b1d5-0242ac1c0002\"]);\n",
              "//# sourceURL=js_b3af1dfd79"
            ],
            "text/plain": [
              "<IPython.core.display.Javascript object>"
            ]
          },
          "metadata": {
            "tags": [
              "id2-0-0",
              "outputarea_id2"
            ]
          }
        },
        {
          "output_type": "display_data",
          "data": {
            "application/javascript": [
              "window[\"07342838-7953-11eb-b1d5-0242ac1c0002\"] = google.colab.output.getActiveOutputArea();\n",
              "//# sourceURL=js_b79a5eb673"
            ],
            "text/plain": [
              "<IPython.core.display.Javascript object>"
            ]
          },
          "metadata": {
            "tags": [
              "id2-0-0",
              "outputarea_id2"
            ]
          }
        },
        {
          "output_type": "display_data",
          "data": {
            "application/javascript": [
              "window[\"0734628a-7953-11eb-b1d5-0242ac1c0002\"] = document.querySelector(\"#id2-0-0\");\n",
              "//# sourceURL=js_e1a3fcea07"
            ],
            "text/plain": [
              "<IPython.core.display.Javascript object>"
            ]
          },
          "metadata": {
            "tags": [
              "id2-0-0",
              "outputarea_id2"
            ]
          }
        },
        {
          "output_type": "display_data",
          "data": {
            "application/javascript": [
              "window[\"0734a376-7953-11eb-b1d5-0242ac1c0002\"] = google.colab.output.setActiveOutputArea(window[\"0734628a-7953-11eb-b1d5-0242ac1c0002\"]);\n",
              "//# sourceURL=js_5c2bf26744"
            ],
            "text/plain": [
              "<IPython.core.display.Javascript object>"
            ]
          },
          "metadata": {
            "tags": [
              "id2-0-0",
              "outputarea_id2"
            ]
          }
        },
        {
          "output_type": "display_data",
          "data": {
            "application/javascript": [
              "window[\"074d7662-7953-11eb-b1d5-0242ac1c0002\"] = google.colab.output.setActiveOutputArea(window[\"07342838-7953-11eb-b1d5-0242ac1c0002\"]);\n",
              "//# sourceURL=js_fe55cfb50d"
            ],
            "text/plain": [
              "<IPython.core.display.Javascript object>"
            ]
          },
          "metadata": {
            "tags": [
              "id2-0-0",
              "outputarea_id2"
            ]
          }
        },
        {
          "output_type": "display_data",
          "data": {
            "application/javascript": [
              "window[\"074eab9a-7953-11eb-b1d5-0242ac1c0002\"] = google.colab.output.getActiveOutputArea();\n",
              "//# sourceURL=js_4fb91c10a6"
            ],
            "text/plain": [
              "<IPython.core.display.Javascript object>"
            ]
          },
          "metadata": {
            "tags": [
              "id2-0-0",
              "outputarea_id2"
            ]
          }
        },
        {
          "output_type": "display_data",
          "data": {
            "application/javascript": [
              "window[\"074ee4a2-7953-11eb-b1d5-0242ac1c0002\"] = document.querySelector(\"#id2-0-0\");\n",
              "//# sourceURL=js_f0685c29dc"
            ],
            "text/plain": [
              "<IPython.core.display.Javascript object>"
            ]
          },
          "metadata": {
            "tags": [
              "id2-0-0",
              "outputarea_id2"
            ]
          }
        },
        {
          "output_type": "display_data",
          "data": {
            "application/javascript": [
              "window[\"074f1f80-7953-11eb-b1d5-0242ac1c0002\"] = google.colab.output.setActiveOutputArea(window[\"074ee4a2-7953-11eb-b1d5-0242ac1c0002\"]);\n",
              "//# sourceURL=js_e0fb858789"
            ],
            "text/plain": [
              "<IPython.core.display.Javascript object>"
            ]
          },
          "metadata": {
            "tags": [
              "id2-0-0",
              "outputarea_id2"
            ]
          }
        },
        {
          "output_type": "display_data",
          "data": {
            "application/javascript": [
              "window[\"07688de4-7953-11eb-b1d5-0242ac1c0002\"] = google.colab.output.setActiveOutputArea(window[\"074eab9a-7953-11eb-b1d5-0242ac1c0002\"]);\n",
              "//# sourceURL=js_e603177a81"
            ],
            "text/plain": [
              "<IPython.core.display.Javascript object>"
            ]
          },
          "metadata": {
            "tags": [
              "id2-0-0",
              "outputarea_id2"
            ]
          }
        },
        {
          "output_type": "display_data",
          "data": {
            "application/javascript": [
              "window[\"076b8aee-7953-11eb-b1d5-0242ac1c0002\"] = google.colab.output.getActiveOutputArea();\n",
              "//# sourceURL=js_4d5452d938"
            ],
            "text/plain": [
              "<IPython.core.display.Javascript object>"
            ]
          },
          "metadata": {
            "tags": [
              "id2-0-0",
              "outputarea_id2"
            ]
          }
        },
        {
          "output_type": "display_data",
          "data": {
            "application/javascript": [
              "window[\"076c1158-7953-11eb-b1d5-0242ac1c0002\"] = document.querySelector(\"#id2-0-0\");\n",
              "//# sourceURL=js_98ba30578d"
            ],
            "text/plain": [
              "<IPython.core.display.Javascript object>"
            ]
          },
          "metadata": {
            "tags": [
              "id2-0-0",
              "outputarea_id2"
            ]
          }
        },
        {
          "output_type": "display_data",
          "data": {
            "application/javascript": [
              "window[\"076d1954-7953-11eb-b1d5-0242ac1c0002\"] = google.colab.output.setActiveOutputArea(window[\"076c1158-7953-11eb-b1d5-0242ac1c0002\"]);\n",
              "//# sourceURL=js_3c1d175616"
            ],
            "text/plain": [
              "<IPython.core.display.Javascript object>"
            ]
          },
          "metadata": {
            "tags": [
              "id2-0-0",
              "outputarea_id2"
            ]
          }
        },
        {
          "output_type": "display_data",
          "data": {
            "application/javascript": [
              "window[\"078612ec-7953-11eb-b1d5-0242ac1c0002\"] = google.colab.output.setActiveOutputArea(window[\"076b8aee-7953-11eb-b1d5-0242ac1c0002\"]);\n",
              "//# sourceURL=js_e0ce005bd8"
            ],
            "text/plain": [
              "<IPython.core.display.Javascript object>"
            ]
          },
          "metadata": {
            "tags": [
              "id2-0-0",
              "outputarea_id2"
            ]
          }
        },
        {
          "output_type": "display_data",
          "data": {
            "application/javascript": [
              "window[\"0788f2a0-7953-11eb-b1d5-0242ac1c0002\"] = google.colab.output.getActiveOutputArea();\n",
              "//# sourceURL=js_e8e3b77b7a"
            ],
            "text/plain": [
              "<IPython.core.display.Javascript object>"
            ]
          },
          "metadata": {
            "tags": [
              "id2-0-0",
              "outputarea_id2"
            ]
          }
        },
        {
          "output_type": "display_data",
          "data": {
            "application/javascript": [
              "window[\"07892fd6-7953-11eb-b1d5-0242ac1c0002\"] = document.querySelector(\"#id2-0-0\");\n",
              "//# sourceURL=js_bd82b05aa3"
            ],
            "text/plain": [
              "<IPython.core.display.Javascript object>"
            ]
          },
          "metadata": {
            "tags": [
              "id2-0-0",
              "outputarea_id2"
            ]
          }
        },
        {
          "output_type": "display_data",
          "data": {
            "application/javascript": [
              "window[\"07896e24-7953-11eb-b1d5-0242ac1c0002\"] = google.colab.output.setActiveOutputArea(window[\"07892fd6-7953-11eb-b1d5-0242ac1c0002\"]);\n",
              "//# sourceURL=js_22dbd28050"
            ],
            "text/plain": [
              "<IPython.core.display.Javascript object>"
            ]
          },
          "metadata": {
            "tags": [
              "id2-0-0",
              "outputarea_id2"
            ]
          }
        },
        {
          "output_type": "display_data",
          "data": {
            "application/javascript": [
              "window[\"07a2a736-7953-11eb-b1d5-0242ac1c0002\"] = google.colab.output.setActiveOutputArea(window[\"0788f2a0-7953-11eb-b1d5-0242ac1c0002\"]);\n",
              "//# sourceURL=js_69a67c254d"
            ],
            "text/plain": [
              "<IPython.core.display.Javascript object>"
            ]
          },
          "metadata": {
            "tags": [
              "id2-0-0",
              "outputarea_id2"
            ]
          }
        },
        {
          "output_type": "display_data",
          "data": {
            "application/javascript": [
              "window[\"07a4072a-7953-11eb-b1d5-0242ac1c0002\"] = google.colab.output.getActiveOutputArea();\n",
              "//# sourceURL=js_56c4677141"
            ],
            "text/plain": [
              "<IPython.core.display.Javascript object>"
            ]
          },
          "metadata": {
            "tags": [
              "id2-0-0",
              "outputarea_id2"
            ]
          }
        },
        {
          "output_type": "display_data",
          "data": {
            "application/javascript": [
              "window[\"07a44938-7953-11eb-b1d5-0242ac1c0002\"] = document.querySelector(\"#id2-0-0\");\n",
              "//# sourceURL=js_38ebbd7553"
            ],
            "text/plain": [
              "<IPython.core.display.Javascript object>"
            ]
          },
          "metadata": {
            "tags": [
              "id2-0-0",
              "outputarea_id2"
            ]
          }
        },
        {
          "output_type": "display_data",
          "data": {
            "application/javascript": [
              "window[\"07a48d94-7953-11eb-b1d5-0242ac1c0002\"] = google.colab.output.setActiveOutputArea(window[\"07a44938-7953-11eb-b1d5-0242ac1c0002\"]);\n",
              "//# sourceURL=js_ebc4e2ef08"
            ],
            "text/plain": [
              "<IPython.core.display.Javascript object>"
            ]
          },
          "metadata": {
            "tags": [
              "id2-0-0",
              "outputarea_id2"
            ]
          }
        },
        {
          "output_type": "display_data",
          "data": {
            "application/javascript": [
              "window[\"07bdddda-7953-11eb-b1d5-0242ac1c0002\"] = google.colab.output.setActiveOutputArea(window[\"07a4072a-7953-11eb-b1d5-0242ac1c0002\"]);\n",
              "//# sourceURL=js_68d37a78ca"
            ],
            "text/plain": [
              "<IPython.core.display.Javascript object>"
            ]
          },
          "metadata": {
            "tags": [
              "id2-0-0",
              "outputarea_id2"
            ]
          }
        },
        {
          "output_type": "display_data",
          "data": {
            "application/javascript": [
              "window[\"07bf4404-7953-11eb-b1d5-0242ac1c0002\"] = google.colab.output.getActiveOutputArea();\n",
              "//# sourceURL=js_8acdd905fd"
            ],
            "text/plain": [
              "<IPython.core.display.Javascript object>"
            ]
          },
          "metadata": {
            "tags": [
              "id2-0-0",
              "outputarea_id2"
            ]
          }
        },
        {
          "output_type": "display_data",
          "data": {
            "application/javascript": [
              "window[\"07bf8518-7953-11eb-b1d5-0242ac1c0002\"] = document.querySelector(\"#id2-0-0\");\n",
              "//# sourceURL=js_6c473abed3"
            ],
            "text/plain": [
              "<IPython.core.display.Javascript object>"
            ]
          },
          "metadata": {
            "tags": [
              "id2-0-0",
              "outputarea_id2"
            ]
          }
        },
        {
          "output_type": "display_data",
          "data": {
            "application/javascript": [
              "window[\"07bfc8d4-7953-11eb-b1d5-0242ac1c0002\"] = google.colab.output.setActiveOutputArea(window[\"07bf8518-7953-11eb-b1d5-0242ac1c0002\"]);\n",
              "//# sourceURL=js_47e170a080"
            ],
            "text/plain": [
              "<IPython.core.display.Javascript object>"
            ]
          },
          "metadata": {
            "tags": [
              "id2-0-0",
              "outputarea_id2"
            ]
          }
        },
        {
          "output_type": "display_data",
          "data": {
            "application/javascript": [
              "window[\"07d8593a-7953-11eb-b1d5-0242ac1c0002\"] = google.colab.output.setActiveOutputArea(window[\"07bf4404-7953-11eb-b1d5-0242ac1c0002\"]);\n",
              "//# sourceURL=js_ea91a61bc9"
            ],
            "text/plain": [
              "<IPython.core.display.Javascript object>"
            ]
          },
          "metadata": {
            "tags": [
              "id2-0-0",
              "outputarea_id2"
            ]
          }
        },
        {
          "output_type": "display_data",
          "data": {
            "application/javascript": [
              "window[\"07d99e1c-7953-11eb-b1d5-0242ac1c0002\"] = google.colab.output.getActiveOutputArea();\n",
              "//# sourceURL=js_e40073ee44"
            ],
            "text/plain": [
              "<IPython.core.display.Javascript object>"
            ]
          },
          "metadata": {
            "tags": [
              "id2-0-0",
              "outputarea_id2"
            ]
          }
        },
        {
          "output_type": "display_data",
          "data": {
            "application/javascript": [
              "window[\"07d9d706-7953-11eb-b1d5-0242ac1c0002\"] = document.querySelector(\"#id2-0-0\");\n",
              "//# sourceURL=js_0535aaa4f5"
            ],
            "text/plain": [
              "<IPython.core.display.Javascript object>"
            ]
          },
          "metadata": {
            "tags": [
              "id2-0-0",
              "outputarea_id2"
            ]
          }
        },
        {
          "output_type": "display_data",
          "data": {
            "application/javascript": [
              "window[\"07da0dde-7953-11eb-b1d5-0242ac1c0002\"] = google.colab.output.setActiveOutputArea(window[\"07d9d706-7953-11eb-b1d5-0242ac1c0002\"]);\n",
              "//# sourceURL=js_9b048cf292"
            ],
            "text/plain": [
              "<IPython.core.display.Javascript object>"
            ]
          },
          "metadata": {
            "tags": [
              "id2-0-0",
              "outputarea_id2"
            ]
          }
        },
        {
          "output_type": "display_data",
          "data": {
            "application/javascript": [
              "window[\"07f2fe84-7953-11eb-b1d5-0242ac1c0002\"] = google.colab.output.setActiveOutputArea(window[\"07d99e1c-7953-11eb-b1d5-0242ac1c0002\"]);\n",
              "//# sourceURL=js_6281cf3004"
            ],
            "text/plain": [
              "<IPython.core.display.Javascript object>"
            ]
          },
          "metadata": {
            "tags": [
              "id2-0-0",
              "outputarea_id2"
            ]
          }
        },
        {
          "output_type": "display_data",
          "data": {
            "application/javascript": [
              "window[\"07f41e2c-7953-11eb-b1d5-0242ac1c0002\"] = google.colab.output.getActiveOutputArea();\n",
              "//# sourceURL=js_1d58680027"
            ],
            "text/plain": [
              "<IPython.core.display.Javascript object>"
            ]
          },
          "metadata": {
            "tags": [
              "id2-0-0",
              "outputarea_id2"
            ]
          }
        },
        {
          "output_type": "display_data",
          "data": {
            "application/javascript": [
              "window[\"07f458a6-7953-11eb-b1d5-0242ac1c0002\"] = document.querySelector(\"#id2-0-0\");\n",
              "//# sourceURL=js_d8419b5520"
            ],
            "text/plain": [
              "<IPython.core.display.Javascript object>"
            ]
          },
          "metadata": {
            "tags": [
              "id2-0-0",
              "outputarea_id2"
            ]
          }
        },
        {
          "output_type": "display_data",
          "data": {
            "application/javascript": [
              "window[\"07f496ea-7953-11eb-b1d5-0242ac1c0002\"] = google.colab.output.setActiveOutputArea(window[\"07f458a6-7953-11eb-b1d5-0242ac1c0002\"]);\n",
              "//# sourceURL=js_98e71cb7a9"
            ],
            "text/plain": [
              "<IPython.core.display.Javascript object>"
            ]
          },
          "metadata": {
            "tags": [
              "id2-0-0",
              "outputarea_id2"
            ]
          }
        },
        {
          "output_type": "display_data",
          "data": {
            "application/javascript": [
              "window[\"080e82b2-7953-11eb-b1d5-0242ac1c0002\"] = google.colab.output.setActiveOutputArea(window[\"07f41e2c-7953-11eb-b1d5-0242ac1c0002\"]);\n",
              "//# sourceURL=js_4d0f4e2e68"
            ],
            "text/plain": [
              "<IPython.core.display.Javascript object>"
            ]
          },
          "metadata": {
            "tags": [
              "id2-0-0",
              "outputarea_id2"
            ]
          }
        },
        {
          "output_type": "display_data",
          "data": {
            "application/javascript": [
              "window[\"080fe396-7953-11eb-b1d5-0242ac1c0002\"] = google.colab.output.getActiveOutputArea();\n",
              "//# sourceURL=js_8a2d14c7c1"
            ],
            "text/plain": [
              "<IPython.core.display.Javascript object>"
            ]
          },
          "metadata": {
            "tags": [
              "id2-0-0",
              "outputarea_id2"
            ]
          }
        },
        {
          "output_type": "display_data",
          "data": {
            "application/javascript": [
              "window[\"08102824-7953-11eb-b1d5-0242ac1c0002\"] = document.querySelector(\"#id2-0-0\");\n",
              "//# sourceURL=js_22d44be698"
            ],
            "text/plain": [
              "<IPython.core.display.Javascript object>"
            ]
          },
          "metadata": {
            "tags": [
              "id2-0-0",
              "outputarea_id2"
            ]
          }
        },
        {
          "output_type": "display_data",
          "data": {
            "application/javascript": [
              "window[\"08106f82-7953-11eb-b1d5-0242ac1c0002\"] = google.colab.output.setActiveOutputArea(window[\"08102824-7953-11eb-b1d5-0242ac1c0002\"]);\n",
              "//# sourceURL=js_3fa8eb22c3"
            ],
            "text/plain": [
              "<IPython.core.display.Javascript object>"
            ]
          },
          "metadata": {
            "tags": [
              "id2-0-0",
              "outputarea_id2"
            ]
          }
        },
        {
          "output_type": "display_data",
          "data": {
            "application/javascript": [
              "window[\"0829df8a-7953-11eb-b1d5-0242ac1c0002\"] = google.colab.output.setActiveOutputArea(window[\"080fe396-7953-11eb-b1d5-0242ac1c0002\"]);\n",
              "//# sourceURL=js_7fbfd47edf"
            ],
            "text/plain": [
              "<IPython.core.display.Javascript object>"
            ]
          },
          "metadata": {
            "tags": [
              "id2-0-0",
              "outputarea_id2"
            ]
          }
        },
        {
          "output_type": "display_data",
          "data": {
            "application/javascript": [
              "window[\"082b3952-7953-11eb-b1d5-0242ac1c0002\"] = google.colab.output.getActiveOutputArea();\n",
              "//# sourceURL=js_0ce5f863ae"
            ],
            "text/plain": [
              "<IPython.core.display.Javascript object>"
            ]
          },
          "metadata": {
            "tags": [
              "id2-0-0",
              "outputarea_id2"
            ]
          }
        },
        {
          "output_type": "display_data",
          "data": {
            "application/javascript": [
              "window[\"082b81dc-7953-11eb-b1d5-0242ac1c0002\"] = document.querySelector(\"#id2-0-0\");\n",
              "//# sourceURL=js_4efeb17e44"
            ],
            "text/plain": [
              "<IPython.core.display.Javascript object>"
            ]
          },
          "metadata": {
            "tags": [
              "id2-0-0",
              "outputarea_id2"
            ]
          }
        },
        {
          "output_type": "display_data",
          "data": {
            "application/javascript": [
              "window[\"082bcd36-7953-11eb-b1d5-0242ac1c0002\"] = google.colab.output.setActiveOutputArea(window[\"082b81dc-7953-11eb-b1d5-0242ac1c0002\"]);\n",
              "//# sourceURL=js_a228485b58"
            ],
            "text/plain": [
              "<IPython.core.display.Javascript object>"
            ]
          },
          "metadata": {
            "tags": [
              "id2-0-0",
              "outputarea_id2"
            ]
          }
        },
        {
          "output_type": "display_data",
          "data": {
            "application/javascript": [
              "window[\"0844ef14-7953-11eb-b1d5-0242ac1c0002\"] = google.colab.output.setActiveOutputArea(window[\"082b3952-7953-11eb-b1d5-0242ac1c0002\"]);\n",
              "//# sourceURL=js_33a8a17fe4"
            ],
            "text/plain": [
              "<IPython.core.display.Javascript object>"
            ]
          },
          "metadata": {
            "tags": [
              "id2-0-0",
              "outputarea_id2"
            ]
          }
        },
        {
          "output_type": "display_data",
          "data": {
            "application/javascript": [
              "window[\"0848492a-7953-11eb-b1d5-0242ac1c0002\"] = google.colab.output.getActiveOutputArea();\n",
              "//# sourceURL=js_1b89850b0a"
            ],
            "text/plain": [
              "<IPython.core.display.Javascript object>"
            ]
          },
          "metadata": {
            "tags": [
              "id2-0-0",
              "outputarea_id2"
            ]
          }
        },
        {
          "output_type": "display_data",
          "data": {
            "application/javascript": [
              "window[\"08488520-7953-11eb-b1d5-0242ac1c0002\"] = document.querySelector(\"#id2-0-0\");\n",
              "//# sourceURL=js_d305dfd2c1"
            ],
            "text/plain": [
              "<IPython.core.display.Javascript object>"
            ]
          },
          "metadata": {
            "tags": [
              "id2-0-0",
              "outputarea_id2"
            ]
          }
        },
        {
          "output_type": "display_data",
          "data": {
            "application/javascript": [
              "window[\"0848c102-7953-11eb-b1d5-0242ac1c0002\"] = google.colab.output.setActiveOutputArea(window[\"08488520-7953-11eb-b1d5-0242ac1c0002\"]);\n",
              "//# sourceURL=js_2bb39eff2d"
            ],
            "text/plain": [
              "<IPython.core.display.Javascript object>"
            ]
          },
          "metadata": {
            "tags": [
              "id2-0-0",
              "outputarea_id2"
            ]
          }
        },
        {
          "output_type": "display_data",
          "data": {
            "application/javascript": [
              "window[\"08686a2a-7953-11eb-b1d5-0242ac1c0002\"] = google.colab.output.setActiveOutputArea(window[\"0848492a-7953-11eb-b1d5-0242ac1c0002\"]);\n",
              "//# sourceURL=js_2a67aa1e88"
            ],
            "text/plain": [
              "<IPython.core.display.Javascript object>"
            ]
          },
          "metadata": {
            "tags": [
              "id2-0-0",
              "outputarea_id2"
            ]
          }
        },
        {
          "output_type": "display_data",
          "data": {
            "application/javascript": [
              "window[\"0869a322-7953-11eb-b1d5-0242ac1c0002\"] = google.colab.output.getActiveOutputArea();\n",
              "//# sourceURL=js_b7f5accd2c"
            ],
            "text/plain": [
              "<IPython.core.display.Javascript object>"
            ]
          },
          "metadata": {
            "tags": [
              "id2-0-0",
              "outputarea_id2"
            ]
          }
        },
        {
          "output_type": "display_data",
          "data": {
            "application/javascript": [
              "window[\"0869e30a-7953-11eb-b1d5-0242ac1c0002\"] = document.querySelector(\"#id2-0-0\");\n",
              "//# sourceURL=js_0d78338178"
            ],
            "text/plain": [
              "<IPython.core.display.Javascript object>"
            ]
          },
          "metadata": {
            "tags": [
              "id2-0-0",
              "outputarea_id2"
            ]
          }
        },
        {
          "output_type": "display_data",
          "data": {
            "application/javascript": [
              "window[\"086a1dac-7953-11eb-b1d5-0242ac1c0002\"] = google.colab.output.setActiveOutputArea(window[\"0869e30a-7953-11eb-b1d5-0242ac1c0002\"]);\n",
              "//# sourceURL=js_55a615118d"
            ],
            "text/plain": [
              "<IPython.core.display.Javascript object>"
            ]
          },
          "metadata": {
            "tags": [
              "id2-0-0",
              "outputarea_id2"
            ]
          }
        },
        {
          "output_type": "display_data",
          "data": {
            "application/javascript": [
              "window[\"08842116-7953-11eb-b1d5-0242ac1c0002\"] = google.colab.output.setActiveOutputArea(window[\"0869a322-7953-11eb-b1d5-0242ac1c0002\"]);\n",
              "//# sourceURL=js_3d35474ff7"
            ],
            "text/plain": [
              "<IPython.core.display.Javascript object>"
            ]
          },
          "metadata": {
            "tags": [
              "id2-0-0",
              "outputarea_id2"
            ]
          }
        },
        {
          "output_type": "display_data",
          "data": {
            "application/javascript": [
              "window[\"08855f54-7953-11eb-b1d5-0242ac1c0002\"] = google.colab.output.getActiveOutputArea();\n",
              "//# sourceURL=js_32745ea5a9"
            ],
            "text/plain": [
              "<IPython.core.display.Javascript object>"
            ]
          },
          "metadata": {
            "tags": [
              "id2-0-0",
              "outputarea_id2"
            ]
          }
        },
        {
          "output_type": "display_data",
          "data": {
            "application/javascript": [
              "window[\"08859a96-7953-11eb-b1d5-0242ac1c0002\"] = document.querySelector(\"#id2-0-0\");\n",
              "//# sourceURL=js_87f32f832c"
            ],
            "text/plain": [
              "<IPython.core.display.Javascript object>"
            ]
          },
          "metadata": {
            "tags": [
              "id2-0-0",
              "outputarea_id2"
            ]
          }
        },
        {
          "output_type": "display_data",
          "data": {
            "application/javascript": [
              "window[\"0885d6fa-7953-11eb-b1d5-0242ac1c0002\"] = google.colab.output.setActiveOutputArea(window[\"08859a96-7953-11eb-b1d5-0242ac1c0002\"]);\n",
              "//# sourceURL=js_294a663d7a"
            ],
            "text/plain": [
              "<IPython.core.display.Javascript object>"
            ]
          },
          "metadata": {
            "tags": [
              "id2-0-0",
              "outputarea_id2"
            ]
          }
        },
        {
          "output_type": "display_data",
          "data": {
            "application/javascript": [
              "window[\"089fa47c-7953-11eb-b1d5-0242ac1c0002\"] = google.colab.output.setActiveOutputArea(window[\"08855f54-7953-11eb-b1d5-0242ac1c0002\"]);\n",
              "//# sourceURL=js_7a847cc948"
            ],
            "text/plain": [
              "<IPython.core.display.Javascript object>"
            ]
          },
          "metadata": {
            "tags": [
              "id2-0-0",
              "outputarea_id2"
            ]
          }
        },
        {
          "output_type": "display_data",
          "data": {
            "application/javascript": [
              "window[\"08a0d6ee-7953-11eb-b1d5-0242ac1c0002\"] = google.colab.output.getActiveOutputArea();\n",
              "//# sourceURL=js_7c2f4133e4"
            ],
            "text/plain": [
              "<IPython.core.display.Javascript object>"
            ]
          },
          "metadata": {
            "tags": [
              "id2-0-0",
              "outputarea_id2"
            ]
          }
        },
        {
          "output_type": "display_data",
          "data": {
            "application/javascript": [
              "window[\"08a11140-7953-11eb-b1d5-0242ac1c0002\"] = document.querySelector(\"#id2-0-0\");\n",
              "//# sourceURL=js_44a1a6bb8a"
            ],
            "text/plain": [
              "<IPython.core.display.Javascript object>"
            ]
          },
          "metadata": {
            "tags": [
              "id2-0-0",
              "outputarea_id2"
            ]
          }
        },
        {
          "output_type": "display_data",
          "data": {
            "application/javascript": [
              "window[\"08a14ad4-7953-11eb-b1d5-0242ac1c0002\"] = google.colab.output.setActiveOutputArea(window[\"08a11140-7953-11eb-b1d5-0242ac1c0002\"]);\n",
              "//# sourceURL=js_02ac669ec3"
            ],
            "text/plain": [
              "<IPython.core.display.Javascript object>"
            ]
          },
          "metadata": {
            "tags": [
              "id2-0-0",
              "outputarea_id2"
            ]
          }
        },
        {
          "output_type": "display_data",
          "data": {
            "application/javascript": [
              "window[\"08bad1b6-7953-11eb-b1d5-0242ac1c0002\"] = google.colab.output.setActiveOutputArea(window[\"08a0d6ee-7953-11eb-b1d5-0242ac1c0002\"]);\n",
              "//# sourceURL=js_f417d717be"
            ],
            "text/plain": [
              "<IPython.core.display.Javascript object>"
            ]
          },
          "metadata": {
            "tags": [
              "id2-0-0",
              "outputarea_id2"
            ]
          }
        },
        {
          "output_type": "display_data",
          "data": {
            "application/javascript": [
              "window[\"08bd6f8e-7953-11eb-b1d5-0242ac1c0002\"] = google.colab.output.getActiveOutputArea();\n",
              "//# sourceURL=js_4bc1c42425"
            ],
            "text/plain": [
              "<IPython.core.display.Javascript object>"
            ]
          },
          "metadata": {
            "tags": [
              "id2-0-0",
              "outputarea_id2"
            ]
          }
        },
        {
          "output_type": "display_data",
          "data": {
            "application/javascript": [
              "window[\"08bdca92-7953-11eb-b1d5-0242ac1c0002\"] = document.querySelector(\"#id2-0-0\");\n",
              "//# sourceURL=js_23613bca50"
            ],
            "text/plain": [
              "<IPython.core.display.Javascript object>"
            ]
          },
          "metadata": {
            "tags": [
              "id2-0-0",
              "outputarea_id2"
            ]
          }
        },
        {
          "output_type": "display_data",
          "data": {
            "application/javascript": [
              "window[\"08be3bc6-7953-11eb-b1d5-0242ac1c0002\"] = google.colab.output.setActiveOutputArea(window[\"08bdca92-7953-11eb-b1d5-0242ac1c0002\"]);\n",
              "//# sourceURL=js_0fab5583e1"
            ],
            "text/plain": [
              "<IPython.core.display.Javascript object>"
            ]
          },
          "metadata": {
            "tags": [
              "id2-0-0",
              "outputarea_id2"
            ]
          }
        },
        {
          "output_type": "display_data",
          "data": {
            "application/javascript": [
              "window[\"08d79f6c-7953-11eb-b1d5-0242ac1c0002\"] = google.colab.output.setActiveOutputArea(window[\"08bd6f8e-7953-11eb-b1d5-0242ac1c0002\"]);\n",
              "//# sourceURL=js_bd5077c2f2"
            ],
            "text/plain": [
              "<IPython.core.display.Javascript object>"
            ]
          },
          "metadata": {
            "tags": [
              "id2-0-0",
              "outputarea_id2"
            ]
          }
        },
        {
          "output_type": "display_data",
          "data": {
            "application/javascript": [
              "window[\"08d8d4ae-7953-11eb-b1d5-0242ac1c0002\"] = google.colab.output.getActiveOutputArea();\n",
              "//# sourceURL=js_7757e3677e"
            ],
            "text/plain": [
              "<IPython.core.display.Javascript object>"
            ]
          },
          "metadata": {
            "tags": [
              "id2-0-0",
              "outputarea_id2"
            ]
          }
        },
        {
          "output_type": "display_data",
          "data": {
            "application/javascript": [
              "window[\"08d90bea-7953-11eb-b1d5-0242ac1c0002\"] = document.querySelector(\"#id2-0-0\");\n",
              "//# sourceURL=js_7430983565"
            ],
            "text/plain": [
              "<IPython.core.display.Javascript object>"
            ]
          },
          "metadata": {
            "tags": [
              "id2-0-0",
              "outputarea_id2"
            ]
          }
        },
        {
          "output_type": "display_data",
          "data": {
            "application/javascript": [
              "window[\"08d94290-7953-11eb-b1d5-0242ac1c0002\"] = google.colab.output.setActiveOutputArea(window[\"08d90bea-7953-11eb-b1d5-0242ac1c0002\"]);\n",
              "//# sourceURL=js_80947e7d2c"
            ],
            "text/plain": [
              "<IPython.core.display.Javascript object>"
            ]
          },
          "metadata": {
            "tags": [
              "id2-0-0",
              "outputarea_id2"
            ]
          }
        },
        {
          "output_type": "display_data",
          "data": {
            "application/javascript": [
              "window[\"08f3ab08-7953-11eb-b1d5-0242ac1c0002\"] = google.colab.output.setActiveOutputArea(window[\"08d8d4ae-7953-11eb-b1d5-0242ac1c0002\"]);\n",
              "//# sourceURL=js_8fa6776fd7"
            ],
            "text/plain": [
              "<IPython.core.display.Javascript object>"
            ]
          },
          "metadata": {
            "tags": [
              "id2-0-0",
              "outputarea_id2"
            ]
          }
        },
        {
          "output_type": "display_data",
          "data": {
            "application/javascript": [
              "window[\"08f4dfe6-7953-11eb-b1d5-0242ac1c0002\"] = google.colab.output.getActiveOutputArea();\n",
              "//# sourceURL=js_cdbe9e2cc1"
            ],
            "text/plain": [
              "<IPython.core.display.Javascript object>"
            ]
          },
          "metadata": {
            "tags": [
              "id2-0-0",
              "outputarea_id2"
            ]
          }
        },
        {
          "output_type": "display_data",
          "data": {
            "application/javascript": [
              "window[\"08f516aa-7953-11eb-b1d5-0242ac1c0002\"] = document.querySelector(\"#id2-0-0\");\n",
              "//# sourceURL=js_cd9430e566"
            ],
            "text/plain": [
              "<IPython.core.display.Javascript object>"
            ]
          },
          "metadata": {
            "tags": [
              "id2-0-0",
              "outputarea_id2"
            ]
          }
        },
        {
          "output_type": "display_data",
          "data": {
            "application/javascript": [
              "window[\"08f55d40-7953-11eb-b1d5-0242ac1c0002\"] = google.colab.output.setActiveOutputArea(window[\"08f516aa-7953-11eb-b1d5-0242ac1c0002\"]);\n",
              "//# sourceURL=js_04dcfe007c"
            ],
            "text/plain": [
              "<IPython.core.display.Javascript object>"
            ]
          },
          "metadata": {
            "tags": [
              "id2-0-0",
              "outputarea_id2"
            ]
          }
        },
        {
          "output_type": "display_data",
          "data": {
            "image/png": "[encoded data removed]",
            "text/plain": [
              "<Figure size 432x288 with 1 Axes>"
            ]
          },
          "metadata": {
            "tags": [
              "id2-0-0",
              "outputarea_id2",
              "user_output"
            ],
            "needs_background": "light"
          }
        },
        {
          "output_type": "display_data",
          "data": {
            "application/javascript": [
              "window[\"090f0b28-7953-11eb-b1d5-0242ac1c0002\"] = google.colab.output.setActiveOutputArea(window[\"08f4dfe6-7953-11eb-b1d5-0242ac1c0002\"]);\n",
              "//# sourceURL=js_190418f495"
            ],
            "text/plain": [
              "<IPython.core.display.Javascript object>"
            ]
          },
          "metadata": {
            "tags": [
              "id2-0-0",
              "outputarea_id2"
            ]
          }
        },
        {
          "output_type": "stream",
          "text": [
            "Agent ran out of time\n",
            "At the end of the run, the agent is at state 6 & got a total reward of 10\n"
          ],
          "name": "stdout"
        }
      ]
    },
    {
      "cell_type": "markdown",
      "metadata": {
        "id": "AKMY1JX9c_jK"
      },
      "source": [
        "*Running the random agent in the Stochastic Environment*"
      ]
    },
    {
      "cell_type": "code",
      "metadata": {
        "colab": {
          "base_uri": "https://localhost:8080/",
          "height": 307
        },
        "id": "w23Qr8k6ca_G",
        "outputId": "8308de80-5643-48d4-eb4f-6447744cc349"
      },
      "source": [
        "environment= StochasticEnvironment()\n",
        "random_agent= RandomAgent(env= environment)\n",
        "state= environment.reset()\n",
        "done= False\n",
        "\n",
        "grid= widgets.Grid(1, 1)\n",
        "\n",
        "total_reward= 0\n",
        "while not done:\n",
        "  action= random_agent.step(state= state)\n",
        "  next_state, reward, done, info= environment.step(action= action)\n",
        "  # print('By taking action \\'{}\\' the agent moved from {} to {} and got reward {}'.format(ACTION_LOOKUP[action], state, next_state, reward))\n",
        "  state= next_state\n",
        "  total_reward += reward\n",
        "\n",
        "  with grid.output_to(0, 0):\n",
        "    grid.clear_cell()\n",
        "    environment.render()\n",
        "    # time.sleep(1)\n",
        "\n",
        "if done == True and environment.timestep < MAX_TIMESTEPS:\n",
        "  print('Agent has reached the Goal position')\n",
        "elif done == True and environment.timestep == MAX_TIMESTEPS:\n",
        "  print('Agent ran out of time')\n",
        "\n",
        "print('At the end of the run, the agent got is at state {} & a total reward of {}'.format(state, total_reward))"
      ],
      "execution_count": 16,
      "outputs": [
        {
          "output_type": "display_data",
          "data": {
            "text/html": [
              "<style>\n",
              "       table#id4, #id4 > tbody > tr > th, #id4 > tbody > tr > td {\n",
              "         border: 1px solid lightgray;\n",
              "         border-collapse:collapse;\n",
              "         \n",
              "        }</style>"
            ],
            "text/plain": [
              "<IPython.core.display.HTML object>"
            ]
          },
          "metadata": {
            "tags": [
              "outputarea_id4"
            ]
          }
        },
        {
          "output_type": "display_data",
          "data": {
            "text/html": [
              "<table id=id4><tr><td id=id4-0-0></td></tr></table>"
            ],
            "text/plain": [
              "<IPython.core.display.HTML object>"
            ]
          },
          "metadata": {
            "tags": [
              "outputarea_id4"
            ]
          }
        },
        {
          "output_type": "display_data",
          "data": {
            "application/javascript": [
              "window[\"0915c0d0-7953-11eb-b1d5-0242ac1c0002\"] = google.colab.output.getActiveOutputArea();\n",
              "//# sourceURL=js_918a374984"
            ],
            "text/plain": [
              "<IPython.core.display.Javascript object>"
            ]
          },
          "metadata": {
            "tags": [
              "id4-0-0",
              "outputarea_id4"
            ]
          }
        },
        {
          "output_type": "display_data",
          "data": {
            "application/javascript": [
              "window[\"09160914-7953-11eb-b1d5-0242ac1c0002\"] = document.querySelector(\"#id4-0-0\");\n",
              "//# sourceURL=js_21352564ac"
            ],
            "text/plain": [
              "<IPython.core.display.Javascript object>"
            ]
          },
          "metadata": {
            "tags": [
              "id4-0-0",
              "outputarea_id4"
            ]
          }
        },
        {
          "output_type": "display_data",
          "data": {
            "application/javascript": [
              "window[\"0916726e-7953-11eb-b1d5-0242ac1c0002\"] = google.colab.output.setActiveOutputArea(window[\"09160914-7953-11eb-b1d5-0242ac1c0002\"]);\n",
              "//# sourceURL=js_3da5f35d94"
            ],
            "text/plain": [
              "<IPython.core.display.Javascript object>"
            ]
          },
          "metadata": {
            "tags": [
              "id4-0-0",
              "outputarea_id4"
            ]
          }
        },
        {
          "output_type": "display_data",
          "data": {
            "application/javascript": [
              "window[\"092e463c-7953-11eb-b1d5-0242ac1c0002\"] = google.colab.output.setActiveOutputArea(window[\"0915c0d0-7953-11eb-b1d5-0242ac1c0002\"]);\n",
              "//# sourceURL=js_7c097a2321"
            ],
            "text/plain": [
              "<IPython.core.display.Javascript object>"
            ]
          },
          "metadata": {
            "tags": [
              "id4-0-0",
              "outputarea_id4"
            ]
          }
        },
        {
          "output_type": "display_data",
          "data": {
            "application/javascript": [
              "window[\"092faa2c-7953-11eb-b1d5-0242ac1c0002\"] = google.colab.output.getActiveOutputArea();\n",
              "//# sourceURL=js_98bba64c63"
            ],
            "text/plain": [
              "<IPython.core.display.Javascript object>"
            ]
          },
          "metadata": {
            "tags": [
              "id4-0-0",
              "outputarea_id4"
            ]
          }
        },
        {
          "output_type": "display_data",
          "data": {
            "application/javascript": [
              "window[\"092ff68a-7953-11eb-b1d5-0242ac1c0002\"] = document.querySelector(\"#id4-0-0\");\n",
              "//# sourceURL=js_a50c1163ae"
            ],
            "text/plain": [
              "<IPython.core.display.Javascript object>"
            ]
          },
          "metadata": {
            "tags": [
              "id4-0-0",
              "outputarea_id4"
            ]
          }
        },
        {
          "output_type": "display_data",
          "data": {
            "application/javascript": [
              "window[\"09303f5a-7953-11eb-b1d5-0242ac1c0002\"] = google.colab.output.setActiveOutputArea(window[\"092ff68a-7953-11eb-b1d5-0242ac1c0002\"]);\n",
              "//# sourceURL=js_028287f9d4"
            ],
            "text/plain": [
              "<IPython.core.display.Javascript object>"
            ]
          },
          "metadata": {
            "tags": [
              "id4-0-0",
              "outputarea_id4"
            ]
          }
        },
        {
          "output_type": "display_data",
          "data": {
            "application/javascript": [
              "window[\"09462b3a-7953-11eb-b1d5-0242ac1c0002\"] = google.colab.output.setActiveOutputArea(window[\"092faa2c-7953-11eb-b1d5-0242ac1c0002\"]);\n",
              "//# sourceURL=js_a1535c0abf"
            ],
            "text/plain": [
              "<IPython.core.display.Javascript object>"
            ]
          },
          "metadata": {
            "tags": [
              "id4-0-0",
              "outputarea_id4"
            ]
          }
        },
        {
          "output_type": "display_data",
          "data": {
            "application/javascript": [
              "window[\"0947aabe-7953-11eb-b1d5-0242ac1c0002\"] = google.colab.output.getActiveOutputArea();\n",
              "//# sourceURL=js_81b0096ea7"
            ],
            "text/plain": [
              "<IPython.core.display.Javascript object>"
            ]
          },
          "metadata": {
            "tags": [
              "id4-0-0",
              "outputarea_id4"
            ]
          }
        },
        {
          "output_type": "display_data",
          "data": {
            "application/javascript": [
              "window[\"0947f96a-7953-11eb-b1d5-0242ac1c0002\"] = document.querySelector(\"#id4-0-0\");\n",
              "//# sourceURL=js_aff67d0611"
            ],
            "text/plain": [
              "<IPython.core.display.Javascript object>"
            ]
          },
          "metadata": {
            "tags": [
              "id4-0-0",
              "outputarea_id4"
            ]
          }
        },
        {
          "output_type": "display_data",
          "data": {
            "application/javascript": [
              "window[\"094849ce-7953-11eb-b1d5-0242ac1c0002\"] = google.colab.output.setActiveOutputArea(window[\"0947f96a-7953-11eb-b1d5-0242ac1c0002\"]);\n",
              "//# sourceURL=js_20b9f69c6f"
            ],
            "text/plain": [
              "<IPython.core.display.Javascript object>"
            ]
          },
          "metadata": {
            "tags": [
              "id4-0-0",
              "outputarea_id4"
            ]
          }
        },
        {
          "output_type": "display_data",
          "data": {
            "application/javascript": [
              "window[\"0962b962-7953-11eb-b1d5-0242ac1c0002\"] = google.colab.output.setActiveOutputArea(window[\"0947aabe-7953-11eb-b1d5-0242ac1c0002\"]);\n",
              "//# sourceURL=js_d4de279747"
            ],
            "text/plain": [
              "<IPython.core.display.Javascript object>"
            ]
          },
          "metadata": {
            "tags": [
              "id4-0-0",
              "outputarea_id4"
            ]
          }
        },
        {
          "output_type": "display_data",
          "data": {
            "application/javascript": [
              "window[\"0963d6a8-7953-11eb-b1d5-0242ac1c0002\"] = google.colab.output.getActiveOutputArea();\n",
              "//# sourceURL=js_343c206dcb"
            ],
            "text/plain": [
              "<IPython.core.display.Javascript object>"
            ]
          },
          "metadata": {
            "tags": [
              "id4-0-0",
              "outputarea_id4"
            ]
          }
        },
        {
          "output_type": "display_data",
          "data": {
            "application/javascript": [
              "window[\"09640e70-7953-11eb-b1d5-0242ac1c0002\"] = document.querySelector(\"#id4-0-0\");\n",
              "//# sourceURL=js_f32d3f877e"
            ],
            "text/plain": [
              "<IPython.core.display.Javascript object>"
            ]
          },
          "metadata": {
            "tags": [
              "id4-0-0",
              "outputarea_id4"
            ]
          }
        },
        {
          "output_type": "display_data",
          "data": {
            "application/javascript": [
              "window[\"096446d8-7953-11eb-b1d5-0242ac1c0002\"] = google.colab.output.setActiveOutputArea(window[\"09640e70-7953-11eb-b1d5-0242ac1c0002\"]);\n",
              "//# sourceURL=js_5e8314c948"
            ],
            "text/plain": [
              "<IPython.core.display.Javascript object>"
            ]
          },
          "metadata": {
            "tags": [
              "id4-0-0",
              "outputarea_id4"
            ]
          }
        },
        {
          "output_type": "display_data",
          "data": {
            "application/javascript": [
              "window[\"097c31c6-7953-11eb-b1d5-0242ac1c0002\"] = google.colab.output.setActiveOutputArea(window[\"0963d6a8-7953-11eb-b1d5-0242ac1c0002\"]);\n",
              "//# sourceURL=js_fbbab57d2f"
            ],
            "text/plain": [
              "<IPython.core.display.Javascript object>"
            ]
          },
          "metadata": {
            "tags": [
              "id4-0-0",
              "outputarea_id4"
            ]
          }
        },
        {
          "output_type": "display_data",
          "data": {
            "application/javascript": [
              "window[\"097d984a-7953-11eb-b1d5-0242ac1c0002\"] = google.colab.output.getActiveOutputArea();\n",
              "//# sourceURL=js_83b2bf8411"
            ],
            "text/plain": [
              "<IPython.core.display.Javascript object>"
            ]
          },
          "metadata": {
            "tags": [
              "id4-0-0",
              "outputarea_id4"
            ]
          }
        },
        {
          "output_type": "display_data",
          "data": {
            "application/javascript": [
              "window[\"097dd396-7953-11eb-b1d5-0242ac1c0002\"] = document.querySelector(\"#id4-0-0\");\n",
              "//# sourceURL=js_06c01b1255"
            ],
            "text/plain": [
              "<IPython.core.display.Javascript object>"
            ]
          },
          "metadata": {
            "tags": [
              "id4-0-0",
              "outputarea_id4"
            ]
          }
        },
        {
          "output_type": "display_data",
          "data": {
            "application/javascript": [
              "window[\"097e1eaa-7953-11eb-b1d5-0242ac1c0002\"] = google.colab.output.setActiveOutputArea(window[\"097dd396-7953-11eb-b1d5-0242ac1c0002\"]);\n",
              "//# sourceURL=js_17a525a6f4"
            ],
            "text/plain": [
              "<IPython.core.display.Javascript object>"
            ]
          },
          "metadata": {
            "tags": [
              "id4-0-0",
              "outputarea_id4"
            ]
          }
        },
        {
          "output_type": "display_data",
          "data": {
            "application/javascript": [
              "window[\"099ce7ea-7953-11eb-b1d5-0242ac1c0002\"] = google.colab.output.setActiveOutputArea(window[\"097d984a-7953-11eb-b1d5-0242ac1c0002\"]);\n",
              "//# sourceURL=js_32316ee33b"
            ],
            "text/plain": [
              "<IPython.core.display.Javascript object>"
            ]
          },
          "metadata": {
            "tags": [
              "id4-0-0",
              "outputarea_id4"
            ]
          }
        },
        {
          "output_type": "display_data",
          "data": {
            "application/javascript": [
              "window[\"099e468a-7953-11eb-b1d5-0242ac1c0002\"] = google.colab.output.getActiveOutputArea();\n",
              "//# sourceURL=js_38607a598c"
            ],
            "text/plain": [
              "<IPython.core.display.Javascript object>"
            ]
          },
          "metadata": {
            "tags": [
              "id4-0-0",
              "outputarea_id4"
            ]
          }
        },
        {
          "output_type": "display_data",
          "data": {
            "application/javascript": [
              "window[\"099e83d4-7953-11eb-b1d5-0242ac1c0002\"] = document.querySelector(\"#id4-0-0\");\n",
              "//# sourceURL=js_621a4eea58"
            ],
            "text/plain": [
              "<IPython.core.display.Javascript object>"
            ]
          },
          "metadata": {
            "tags": [
              "id4-0-0",
              "outputarea_id4"
            ]
          }
        },
        {
          "output_type": "display_data",
          "data": {
            "application/javascript": [
              "window[\"099ecf10-7953-11eb-b1d5-0242ac1c0002\"] = google.colab.output.setActiveOutputArea(window[\"099e83d4-7953-11eb-b1d5-0242ac1c0002\"]);\n",
              "//# sourceURL=js_812e2b403d"
            ],
            "text/plain": [
              "<IPython.core.display.Javascript object>"
            ]
          },
          "metadata": {
            "tags": [
              "id4-0-0",
              "outputarea_id4"
            ]
          }
        },
        {
          "output_type": "display_data",
          "data": {
            "application/javascript": [
              "window[\"09b597e0-7953-11eb-b1d5-0242ac1c0002\"] = google.colab.output.setActiveOutputArea(window[\"099e468a-7953-11eb-b1d5-0242ac1c0002\"]);\n",
              "//# sourceURL=js_e057a546d8"
            ],
            "text/plain": [
              "<IPython.core.display.Javascript object>"
            ]
          },
          "metadata": {
            "tags": [
              "id4-0-0",
              "outputarea_id4"
            ]
          }
        },
        {
          "output_type": "display_data",
          "data": {
            "application/javascript": [
              "window[\"09b6c732-7953-11eb-b1d5-0242ac1c0002\"] = google.colab.output.getActiveOutputArea();\n",
              "//# sourceURL=js_f700ff8f7d"
            ],
            "text/plain": [
              "<IPython.core.display.Javascript object>"
            ]
          },
          "metadata": {
            "tags": [
              "id4-0-0",
              "outputarea_id4"
            ]
          }
        },
        {
          "output_type": "display_data",
          "data": {
            "application/javascript": [
              "window[\"09b7076a-7953-11eb-b1d5-0242ac1c0002\"] = document.querySelector(\"#id4-0-0\");\n",
              "//# sourceURL=js_6192040814"
            ],
            "text/plain": [
              "<IPython.core.display.Javascript object>"
            ]
          },
          "metadata": {
            "tags": [
              "id4-0-0",
              "outputarea_id4"
            ]
          }
        },
        {
          "output_type": "display_data",
          "data": {
            "application/javascript": [
              "window[\"09b74d38-7953-11eb-b1d5-0242ac1c0002\"] = google.colab.output.setActiveOutputArea(window[\"09b7076a-7953-11eb-b1d5-0242ac1c0002\"]);\n",
              "//# sourceURL=js_ac31ee5227"
            ],
            "text/plain": [
              "<IPython.core.display.Javascript object>"
            ]
          },
          "metadata": {
            "tags": [
              "id4-0-0",
              "outputarea_id4"
            ]
          }
        },
        {
          "output_type": "display_data",
          "data": {
            "application/javascript": [
              "window[\"09cfafea-7953-11eb-b1d5-0242ac1c0002\"] = google.colab.output.setActiveOutputArea(window[\"09b6c732-7953-11eb-b1d5-0242ac1c0002\"]);\n",
              "//# sourceURL=js_973a1be826"
            ],
            "text/plain": [
              "<IPython.core.display.Javascript object>"
            ]
          },
          "metadata": {
            "tags": [
              "id4-0-0",
              "outputarea_id4"
            ]
          }
        },
        {
          "output_type": "display_data",
          "data": {
            "application/javascript": [
              "window[\"09d0fe18-7953-11eb-b1d5-0242ac1c0002\"] = google.colab.output.getActiveOutputArea();\n",
              "//# sourceURL=js_0253762994"
            ],
            "text/plain": [
              "<IPython.core.display.Javascript object>"
            ]
          },
          "metadata": {
            "tags": [
              "id4-0-0",
              "outputarea_id4"
            ]
          }
        },
        {
          "output_type": "display_data",
          "data": {
            "application/javascript": [
              "window[\"09d14bac-7953-11eb-b1d5-0242ac1c0002\"] = document.querySelector(\"#id4-0-0\");\n",
              "//# sourceURL=js_883d9d80ce"
            ],
            "text/plain": [
              "<IPython.core.display.Javascript object>"
            ]
          },
          "metadata": {
            "tags": [
              "id4-0-0",
              "outputarea_id4"
            ]
          }
        },
        {
          "output_type": "display_data",
          "data": {
            "application/javascript": [
              "window[\"09d187de-7953-11eb-b1d5-0242ac1c0002\"] = google.colab.output.setActiveOutputArea(window[\"09d14bac-7953-11eb-b1d5-0242ac1c0002\"]);\n",
              "//# sourceURL=js_a8cbc04fd7"
            ],
            "text/plain": [
              "<IPython.core.display.Javascript object>"
            ]
          },
          "metadata": {
            "tags": [
              "id4-0-0",
              "outputarea_id4"
            ]
          }
        },
        {
          "output_type": "display_data",
          "data": {
            "application/javascript": [
              "window[\"09e7ebdc-7953-11eb-b1d5-0242ac1c0002\"] = google.colab.output.setActiveOutputArea(window[\"09d0fe18-7953-11eb-b1d5-0242ac1c0002\"]);\n",
              "//# sourceURL=js_ddb189bccb"
            ],
            "text/plain": [
              "<IPython.core.display.Javascript object>"
            ]
          },
          "metadata": {
            "tags": [
              "id4-0-0",
              "outputarea_id4"
            ]
          }
        },
        {
          "output_type": "display_data",
          "data": {
            "application/javascript": [
              "window[\"09e93e7e-7953-11eb-b1d5-0242ac1c0002\"] = google.colab.output.getActiveOutputArea();\n",
              "//# sourceURL=js_b2e498595a"
            ],
            "text/plain": [
              "<IPython.core.display.Javascript object>"
            ]
          },
          "metadata": {
            "tags": [
              "id4-0-0",
              "outputarea_id4"
            ]
          }
        },
        {
          "output_type": "display_data",
          "data": {
            "application/javascript": [
              "window[\"09e985fa-7953-11eb-b1d5-0242ac1c0002\"] = document.querySelector(\"#id4-0-0\");\n",
              "//# sourceURL=js_e7cc3939dc"
            ],
            "text/plain": [
              "<IPython.core.display.Javascript object>"
            ]
          },
          "metadata": {
            "tags": [
              "id4-0-0",
              "outputarea_id4"
            ]
          }
        },
        {
          "output_type": "display_data",
          "data": {
            "application/javascript": [
              "window[\"09e9ca7e-7953-11eb-b1d5-0242ac1c0002\"] = google.colab.output.setActiveOutputArea(window[\"09e985fa-7953-11eb-b1d5-0242ac1c0002\"]);\n",
              "//# sourceURL=js_aa5681d359"
            ],
            "text/plain": [
              "<IPython.core.display.Javascript object>"
            ]
          },
          "metadata": {
            "tags": [
              "id4-0-0",
              "outputarea_id4"
            ]
          }
        },
        {
          "output_type": "display_data",
          "data": {
            "application/javascript": [
              "window[\"0a004538-7953-11eb-b1d5-0242ac1c0002\"] = google.colab.output.setActiveOutputArea(window[\"09e93e7e-7953-11eb-b1d5-0242ac1c0002\"]);\n",
              "//# sourceURL=js_f916eaf6fa"
            ],
            "text/plain": [
              "<IPython.core.display.Javascript object>"
            ]
          },
          "metadata": {
            "tags": [
              "id4-0-0",
              "outputarea_id4"
            ]
          }
        },
        {
          "output_type": "display_data",
          "data": {
            "application/javascript": [
              "window[\"0a018bbe-7953-11eb-b1d5-0242ac1c0002\"] = google.colab.output.getActiveOutputArea();\n",
              "//# sourceURL=js_9f01b529bf"
            ],
            "text/plain": [
              "<IPython.core.display.Javascript object>"
            ]
          },
          "metadata": {
            "tags": [
              "id4-0-0",
              "outputarea_id4"
            ]
          }
        },
        {
          "output_type": "display_data",
          "data": {
            "application/javascript": [
              "window[\"0a01d236-7953-11eb-b1d5-0242ac1c0002\"] = document.querySelector(\"#id4-0-0\");\n",
              "//# sourceURL=js_4cfb118096"
            ],
            "text/plain": [
              "<IPython.core.display.Javascript object>"
            ]
          },
          "metadata": {
            "tags": [
              "id4-0-0",
              "outputarea_id4"
            ]
          }
        },
        {
          "output_type": "display_data",
          "data": {
            "application/javascript": [
              "window[\"0a020c24-7953-11eb-b1d5-0242ac1c0002\"] = google.colab.output.setActiveOutputArea(window[\"0a01d236-7953-11eb-b1d5-0242ac1c0002\"]);\n",
              "//# sourceURL=js_f34f72f3d1"
            ],
            "text/plain": [
              "<IPython.core.display.Javascript object>"
            ]
          },
          "metadata": {
            "tags": [
              "id4-0-0",
              "outputarea_id4"
            ]
          }
        },
        {
          "output_type": "display_data",
          "data": {
            "application/javascript": [
              "window[\"0a1b91da-7953-11eb-b1d5-0242ac1c0002\"] = google.colab.output.setActiveOutputArea(window[\"0a018bbe-7953-11eb-b1d5-0242ac1c0002\"]);\n",
              "//# sourceURL=js_4f1b9e573b"
            ],
            "text/plain": [
              "<IPython.core.display.Javascript object>"
            ]
          },
          "metadata": {
            "tags": [
              "id4-0-0",
              "outputarea_id4"
            ]
          }
        },
        {
          "output_type": "display_data",
          "data": {
            "application/javascript": [
              "window[\"0a1e6d7e-7953-11eb-b1d5-0242ac1c0002\"] = google.colab.output.getActiveOutputArea();\n",
              "//# sourceURL=js_91240beffc"
            ],
            "text/plain": [
              "<IPython.core.display.Javascript object>"
            ]
          },
          "metadata": {
            "tags": [
              "id4-0-0",
              "outputarea_id4"
            ]
          }
        },
        {
          "output_type": "display_data",
          "data": {
            "application/javascript": [
              "window[\"0a1f65d0-7953-11eb-b1d5-0242ac1c0002\"] = document.querySelector(\"#id4-0-0\");\n",
              "//# sourceURL=js_acadbe72ec"
            ],
            "text/plain": [
              "<IPython.core.display.Javascript object>"
            ]
          },
          "metadata": {
            "tags": [
              "id4-0-0",
              "outputarea_id4"
            ]
          }
        },
        {
          "output_type": "display_data",
          "data": {
            "application/javascript": [
              "window[\"0a1fb2ce-7953-11eb-b1d5-0242ac1c0002\"] = google.colab.output.setActiveOutputArea(window[\"0a1f65d0-7953-11eb-b1d5-0242ac1c0002\"]);\n",
              "//# sourceURL=js_ff7d00b70e"
            ],
            "text/plain": [
              "<IPython.core.display.Javascript object>"
            ]
          },
          "metadata": {
            "tags": [
              "id4-0-0",
              "outputarea_id4"
            ]
          }
        },
        {
          "output_type": "display_data",
          "data": {
            "application/javascript": [
              "window[\"0a370a3c-7953-11eb-b1d5-0242ac1c0002\"] = google.colab.output.setActiveOutputArea(window[\"0a1e6d7e-7953-11eb-b1d5-0242ac1c0002\"]);\n",
              "//# sourceURL=js_54fd7e5383"
            ],
            "text/plain": [
              "<IPython.core.display.Javascript object>"
            ]
          },
          "metadata": {
            "tags": [
              "id4-0-0",
              "outputarea_id4"
            ]
          }
        },
        {
          "output_type": "display_data",
          "data": {
            "application/javascript": [
              "window[\"0a38d0a6-7953-11eb-b1d5-0242ac1c0002\"] = google.colab.output.getActiveOutputArea();\n",
              "//# sourceURL=js_8fd89e7cc6"
            ],
            "text/plain": [
              "<IPython.core.display.Javascript object>"
            ]
          },
          "metadata": {
            "tags": [
              "id4-0-0",
              "outputarea_id4"
            ]
          }
        },
        {
          "output_type": "display_data",
          "data": {
            "application/javascript": [
              "window[\"0a394dba-7953-11eb-b1d5-0242ac1c0002\"] = document.querySelector(\"#id4-0-0\");\n",
              "//# sourceURL=js_d47718f259"
            ],
            "text/plain": [
              "<IPython.core.display.Javascript object>"
            ]
          },
          "metadata": {
            "tags": [
              "id4-0-0",
              "outputarea_id4"
            ]
          }
        },
        {
          "output_type": "display_data",
          "data": {
            "application/javascript": [
              "window[\"0a399554-7953-11eb-b1d5-0242ac1c0002\"] = google.colab.output.setActiveOutputArea(window[\"0a394dba-7953-11eb-b1d5-0242ac1c0002\"]);\n",
              "//# sourceURL=js_5c80e912a8"
            ],
            "text/plain": [
              "<IPython.core.display.Javascript object>"
            ]
          },
          "metadata": {
            "tags": [
              "id4-0-0",
              "outputarea_id4"
            ]
          }
        },
        {
          "output_type": "display_data",
          "data": {
            "application/javascript": [
              "window[\"0a52c63c-7953-11eb-b1d5-0242ac1c0002\"] = google.colab.output.setActiveOutputArea(window[\"0a38d0a6-7953-11eb-b1d5-0242ac1c0002\"]);\n",
              "//# sourceURL=js_9e0f89371f"
            ],
            "text/plain": [
              "<IPython.core.display.Javascript object>"
            ]
          },
          "metadata": {
            "tags": [
              "id4-0-0",
              "outputarea_id4"
            ]
          }
        },
        {
          "output_type": "display_data",
          "data": {
            "application/javascript": [
              "window[\"0a54d292-7953-11eb-b1d5-0242ac1c0002\"] = google.colab.output.getActiveOutputArea();\n",
              "//# sourceURL=js_08f293c6ab"
            ],
            "text/plain": [
              "<IPython.core.display.Javascript object>"
            ]
          },
          "metadata": {
            "tags": [
              "id4-0-0",
              "outputarea_id4"
            ]
          }
        },
        {
          "output_type": "display_data",
          "data": {
            "application/javascript": [
              "window[\"0a558afc-7953-11eb-b1d5-0242ac1c0002\"] = document.querySelector(\"#id4-0-0\");\n",
              "//# sourceURL=js_3b7168ac8f"
            ],
            "text/plain": [
              "<IPython.core.display.Javascript object>"
            ]
          },
          "metadata": {
            "tags": [
              "id4-0-0",
              "outputarea_id4"
            ]
          }
        },
        {
          "output_type": "display_data",
          "data": {
            "application/javascript": [
              "window[\"0a55d00c-7953-11eb-b1d5-0242ac1c0002\"] = google.colab.output.setActiveOutputArea(window[\"0a558afc-7953-11eb-b1d5-0242ac1c0002\"]);\n",
              "//# sourceURL=js_df24f65ce4"
            ],
            "text/plain": [
              "<IPython.core.display.Javascript object>"
            ]
          },
          "metadata": {
            "tags": [
              "id4-0-0",
              "outputarea_id4"
            ]
          }
        },
        {
          "output_type": "display_data",
          "data": {
            "application/javascript": [
              "window[\"0a6be9fa-7953-11eb-b1d5-0242ac1c0002\"] = google.colab.output.setActiveOutputArea(window[\"0a54d292-7953-11eb-b1d5-0242ac1c0002\"]);\n",
              "//# sourceURL=js_8430385b97"
            ],
            "text/plain": [
              "<IPython.core.display.Javascript object>"
            ]
          },
          "metadata": {
            "tags": [
              "id4-0-0",
              "outputarea_id4"
            ]
          }
        },
        {
          "output_type": "display_data",
          "data": {
            "application/javascript": [
              "window[\"0a6d83f0-7953-11eb-b1d5-0242ac1c0002\"] = google.colab.output.getActiveOutputArea();\n",
              "//# sourceURL=js_c4f4423399"
            ],
            "text/plain": [
              "<IPython.core.display.Javascript object>"
            ]
          },
          "metadata": {
            "tags": [
              "id4-0-0",
              "outputarea_id4"
            ]
          }
        },
        {
          "output_type": "display_data",
          "data": {
            "application/javascript": [
              "window[\"0a6dcef0-7953-11eb-b1d5-0242ac1c0002\"] = document.querySelector(\"#id4-0-0\");\n",
              "//# sourceURL=js_61ff84b08c"
            ],
            "text/plain": [
              "<IPython.core.display.Javascript object>"
            ]
          },
          "metadata": {
            "tags": [
              "id4-0-0",
              "outputarea_id4"
            ]
          }
        },
        {
          "output_type": "display_data",
          "data": {
            "application/javascript": [
              "window[\"0a6e1c70-7953-11eb-b1d5-0242ac1c0002\"] = google.colab.output.setActiveOutputArea(window[\"0a6dcef0-7953-11eb-b1d5-0242ac1c0002\"]);\n",
              "//# sourceURL=js_bf1283b077"
            ],
            "text/plain": [
              "<IPython.core.display.Javascript object>"
            ]
          },
          "metadata": {
            "tags": [
              "id4-0-0",
              "outputarea_id4"
            ]
          }
        },
        {
          "output_type": "display_data",
          "data": {
            "application/javascript": [
              "window[\"0a8624aa-7953-11eb-b1d5-0242ac1c0002\"] = google.colab.output.setActiveOutputArea(window[\"0a6d83f0-7953-11eb-b1d5-0242ac1c0002\"]);\n",
              "//# sourceURL=js_66d2c754ee"
            ],
            "text/plain": [
              "<IPython.core.display.Javascript object>"
            ]
          },
          "metadata": {
            "tags": [
              "id4-0-0",
              "outputarea_id4"
            ]
          }
        },
        {
          "output_type": "display_data",
          "data": {
            "application/javascript": [
              "window[\"0a878660-7953-11eb-b1d5-0242ac1c0002\"] = google.colab.output.getActiveOutputArea();\n",
              "//# sourceURL=js_4bb1a889c8"
            ],
            "text/plain": [
              "<IPython.core.display.Javascript object>"
            ]
          },
          "metadata": {
            "tags": [
              "id4-0-0",
              "outputarea_id4"
            ]
          }
        },
        {
          "output_type": "display_data",
          "data": {
            "application/javascript": [
              "window[\"0a87d494-7953-11eb-b1d5-0242ac1c0002\"] = document.querySelector(\"#id4-0-0\");\n",
              "//# sourceURL=js_2f44da132a"
            ],
            "text/plain": [
              "<IPython.core.display.Javascript object>"
            ]
          },
          "metadata": {
            "tags": [
              "id4-0-0",
              "outputarea_id4"
            ]
          }
        },
        {
          "output_type": "display_data",
          "data": {
            "application/javascript": [
              "window[\"0a881468-7953-11eb-b1d5-0242ac1c0002\"] = google.colab.output.setActiveOutputArea(window[\"0a87d494-7953-11eb-b1d5-0242ac1c0002\"]);\n",
              "//# sourceURL=js_6a18ba04fc"
            ],
            "text/plain": [
              "<IPython.core.display.Javascript object>"
            ]
          },
          "metadata": {
            "tags": [
              "id4-0-0",
              "outputarea_id4"
            ]
          }
        },
        {
          "output_type": "display_data",
          "data": {
            "application/javascript": [
              "window[\"0a9f07ae-7953-11eb-b1d5-0242ac1c0002\"] = google.colab.output.setActiveOutputArea(window[\"0a878660-7953-11eb-b1d5-0242ac1c0002\"]);\n",
              "//# sourceURL=js_4c66413ee1"
            ],
            "text/plain": [
              "<IPython.core.display.Javascript object>"
            ]
          },
          "metadata": {
            "tags": [
              "id4-0-0",
              "outputarea_id4"
            ]
          }
        },
        {
          "output_type": "display_data",
          "data": {
            "application/javascript": [
              "window[\"0aa07260-7953-11eb-b1d5-0242ac1c0002\"] = google.colab.output.getActiveOutputArea();\n",
              "//# sourceURL=js_887e324e45"
            ],
            "text/plain": [
              "<IPython.core.display.Javascript object>"
            ]
          },
          "metadata": {
            "tags": [
              "id4-0-0",
              "outputarea_id4"
            ]
          }
        },
        {
          "output_type": "display_data",
          "data": {
            "application/javascript": [
              "window[\"0aa0c120-7953-11eb-b1d5-0242ac1c0002\"] = document.querySelector(\"#id4-0-0\");\n",
              "//# sourceURL=js_d365401378"
            ],
            "text/plain": [
              "<IPython.core.display.Javascript object>"
            ]
          },
          "metadata": {
            "tags": [
              "id4-0-0",
              "outputarea_id4"
            ]
          }
        },
        {
          "output_type": "display_data",
          "data": {
            "application/javascript": [
              "window[\"0aa0fee2-7953-11eb-b1d5-0242ac1c0002\"] = google.colab.output.setActiveOutputArea(window[\"0aa0c120-7953-11eb-b1d5-0242ac1c0002\"]);\n",
              "//# sourceURL=js_589b83134b"
            ],
            "text/plain": [
              "<IPython.core.display.Javascript object>"
            ]
          },
          "metadata": {
            "tags": [
              "id4-0-0",
              "outputarea_id4"
            ]
          }
        },
        {
          "output_type": "display_data",
          "data": {
            "application/javascript": [
              "window[\"0ac21032-7953-11eb-b1d5-0242ac1c0002\"] = google.colab.output.setActiveOutputArea(window[\"0aa07260-7953-11eb-b1d5-0242ac1c0002\"]);\n",
              "//# sourceURL=js_9ebf079d8f"
            ],
            "text/plain": [
              "<IPython.core.display.Javascript object>"
            ]
          },
          "metadata": {
            "tags": [
              "id4-0-0",
              "outputarea_id4"
            ]
          }
        },
        {
          "output_type": "display_data",
          "data": {
            "application/javascript": [
              "window[\"0ac379ea-7953-11eb-b1d5-0242ac1c0002\"] = google.colab.output.getActiveOutputArea();\n",
              "//# sourceURL=js_9b2b6242e6"
            ],
            "text/plain": [
              "<IPython.core.display.Javascript object>"
            ]
          },
          "metadata": {
            "tags": [
              "id4-0-0",
              "outputarea_id4"
            ]
          }
        },
        {
          "output_type": "display_data",
          "data": {
            "application/javascript": [
              "window[\"0ac3bab8-7953-11eb-b1d5-0242ac1c0002\"] = document.querySelector(\"#id4-0-0\");\n",
              "//# sourceURL=js_7018a45e70"
            ],
            "text/plain": [
              "<IPython.core.display.Javascript object>"
            ]
          },
          "metadata": {
            "tags": [
              "id4-0-0",
              "outputarea_id4"
            ]
          }
        },
        {
          "output_type": "display_data",
          "data": {
            "application/javascript": [
              "window[\"0ac40ce8-7953-11eb-b1d5-0242ac1c0002\"] = google.colab.output.setActiveOutputArea(window[\"0ac3bab8-7953-11eb-b1d5-0242ac1c0002\"]);\n",
              "//# sourceURL=js_e161fd52a3"
            ],
            "text/plain": [
              "<IPython.core.display.Javascript object>"
            ]
          },
          "metadata": {
            "tags": [
              "id4-0-0",
              "outputarea_id4"
            ]
          }
        },
        {
          "output_type": "display_data",
          "data": {
            "application/javascript": [
              "window[\"0adb4476-7953-11eb-b1d5-0242ac1c0002\"] = google.colab.output.setActiveOutputArea(window[\"0ac379ea-7953-11eb-b1d5-0242ac1c0002\"]);\n",
              "//# sourceURL=js_434cd7cd74"
            ],
            "text/plain": [
              "<IPython.core.display.Javascript object>"
            ]
          },
          "metadata": {
            "tags": [
              "id4-0-0",
              "outputarea_id4"
            ]
          }
        },
        {
          "output_type": "display_data",
          "data": {
            "application/javascript": [
              "window[\"0adca56e-7953-11eb-b1d5-0242ac1c0002\"] = google.colab.output.getActiveOutputArea();\n",
              "//# sourceURL=js_0bee3b76c1"
            ],
            "text/plain": [
              "<IPython.core.display.Javascript object>"
            ]
          },
          "metadata": {
            "tags": [
              "id4-0-0",
              "outputarea_id4"
            ]
          }
        },
        {
          "output_type": "display_data",
          "data": {
            "application/javascript": [
              "window[\"0adce84e-7953-11eb-b1d5-0242ac1c0002\"] = document.querySelector(\"#id4-0-0\");\n",
              "//# sourceURL=js_bc8dc46788"
            ],
            "text/plain": [
              "<IPython.core.display.Javascript object>"
            ]
          },
          "metadata": {
            "tags": [
              "id4-0-0",
              "outputarea_id4"
            ]
          }
        },
        {
          "output_type": "display_data",
          "data": {
            "application/javascript": [
              "window[\"0add31dc-7953-11eb-b1d5-0242ac1c0002\"] = google.colab.output.setActiveOutputArea(window[\"0adce84e-7953-11eb-b1d5-0242ac1c0002\"]);\n",
              "//# sourceURL=js_2db655e57f"
            ],
            "text/plain": [
              "<IPython.core.display.Javascript object>"
            ]
          },
          "metadata": {
            "tags": [
              "id4-0-0",
              "outputarea_id4"
            ]
          }
        },
        {
          "output_type": "display_data",
          "data": {
            "application/javascript": [
              "window[\"0af61346-7953-11eb-b1d5-0242ac1c0002\"] = google.colab.output.setActiveOutputArea(window[\"0adca56e-7953-11eb-b1d5-0242ac1c0002\"]);\n",
              "//# sourceURL=js_13f787f6f5"
            ],
            "text/plain": [
              "<IPython.core.display.Javascript object>"
            ]
          },
          "metadata": {
            "tags": [
              "id4-0-0",
              "outputarea_id4"
            ]
          }
        },
        {
          "output_type": "display_data",
          "data": {
            "application/javascript": [
              "window[\"0af7739e-7953-11eb-b1d5-0242ac1c0002\"] = google.colab.output.getActiveOutputArea();\n",
              "//# sourceURL=js_9a38e02a09"
            ],
            "text/plain": [
              "<IPython.core.display.Javascript object>"
            ]
          },
          "metadata": {
            "tags": [
              "id4-0-0",
              "outputarea_id4"
            ]
          }
        },
        {
          "output_type": "display_data",
          "data": {
            "application/javascript": [
              "window[\"0af7b944-7953-11eb-b1d5-0242ac1c0002\"] = document.querySelector(\"#id4-0-0\");\n",
              "//# sourceURL=js_ea76962c12"
            ],
            "text/plain": [
              "<IPython.core.display.Javascript object>"
            ]
          },
          "metadata": {
            "tags": [
              "id4-0-0",
              "outputarea_id4"
            ]
          }
        },
        {
          "output_type": "display_data",
          "data": {
            "application/javascript": [
              "window[\"0af803ae-7953-11eb-b1d5-0242ac1c0002\"] = google.colab.output.setActiveOutputArea(window[\"0af7b944-7953-11eb-b1d5-0242ac1c0002\"]);\n",
              "//# sourceURL=js_7222606a55"
            ],
            "text/plain": [
              "<IPython.core.display.Javascript object>"
            ]
          },
          "metadata": {
            "tags": [
              "id4-0-0",
              "outputarea_id4"
            ]
          }
        },
        {
          "output_type": "display_data",
          "data": {
            "application/javascript": [
              "window[\"0b1035a0-7953-11eb-b1d5-0242ac1c0002\"] = google.colab.output.setActiveOutputArea(window[\"0af7739e-7953-11eb-b1d5-0242ac1c0002\"]);\n",
              "//# sourceURL=js_12ea0705e0"
            ],
            "text/plain": [
              "<IPython.core.display.Javascript object>"
            ]
          },
          "metadata": {
            "tags": [
              "id4-0-0",
              "outputarea_id4"
            ]
          }
        },
        {
          "output_type": "display_data",
          "data": {
            "application/javascript": [
              "window[\"0b119814-7953-11eb-b1d5-0242ac1c0002\"] = google.colab.output.getActiveOutputArea();\n",
              "//# sourceURL=js_f3beb72c1d"
            ],
            "text/plain": [
              "<IPython.core.display.Javascript object>"
            ]
          },
          "metadata": {
            "tags": [
              "id4-0-0",
              "outputarea_id4"
            ]
          }
        },
        {
          "output_type": "display_data",
          "data": {
            "application/javascript": [
              "window[\"0b11d4dc-7953-11eb-b1d5-0242ac1c0002\"] = document.querySelector(\"#id4-0-0\");\n",
              "//# sourceURL=js_ecc3701aed"
            ],
            "text/plain": [
              "<IPython.core.display.Javascript object>"
            ]
          },
          "metadata": {
            "tags": [
              "id4-0-0",
              "outputarea_id4"
            ]
          }
        },
        {
          "output_type": "display_data",
          "data": {
            "application/javascript": [
              "window[\"0b122428-7953-11eb-b1d5-0242ac1c0002\"] = google.colab.output.setActiveOutputArea(window[\"0b11d4dc-7953-11eb-b1d5-0242ac1c0002\"]);\n",
              "//# sourceURL=js_2fd40b5428"
            ],
            "text/plain": [
              "<IPython.core.display.Javascript object>"
            ]
          },
          "metadata": {
            "tags": [
              "id4-0-0",
              "outputarea_id4"
            ]
          }
        },
        {
          "output_type": "display_data",
          "data": {
            "application/javascript": [
              "window[\"0b29b64c-7953-11eb-b1d5-0242ac1c0002\"] = google.colab.output.setActiveOutputArea(window[\"0b119814-7953-11eb-b1d5-0242ac1c0002\"]);\n",
              "//# sourceURL=js_8000b97e1c"
            ],
            "text/plain": [
              "<IPython.core.display.Javascript object>"
            ]
          },
          "metadata": {
            "tags": [
              "id4-0-0",
              "outputarea_id4"
            ]
          }
        },
        {
          "output_type": "display_data",
          "data": {
            "application/javascript": [
              "window[\"0b2b0a74-7953-11eb-b1d5-0242ac1c0002\"] = google.colab.output.getActiveOutputArea();\n",
              "//# sourceURL=js_ac78af45ca"
            ],
            "text/plain": [
              "<IPython.core.display.Javascript object>"
            ]
          },
          "metadata": {
            "tags": [
              "id4-0-0",
              "outputarea_id4"
            ]
          }
        },
        {
          "output_type": "display_data",
          "data": {
            "application/javascript": [
              "window[\"0b2b4a02-7953-11eb-b1d5-0242ac1c0002\"] = document.querySelector(\"#id4-0-0\");\n",
              "//# sourceURL=js_4abbe5a96f"
            ],
            "text/plain": [
              "<IPython.core.display.Javascript object>"
            ]
          },
          "metadata": {
            "tags": [
              "id4-0-0",
              "outputarea_id4"
            ]
          }
        },
        {
          "output_type": "display_data",
          "data": {
            "application/javascript": [
              "window[\"0b2b8daa-7953-11eb-b1d5-0242ac1c0002\"] = google.colab.output.setActiveOutputArea(window[\"0b2b4a02-7953-11eb-b1d5-0242ac1c0002\"]);\n",
              "//# sourceURL=js_3054458c82"
            ],
            "text/plain": [
              "<IPython.core.display.Javascript object>"
            ]
          },
          "metadata": {
            "tags": [
              "id4-0-0",
              "outputarea_id4"
            ]
          }
        },
        {
          "output_type": "display_data",
          "data": {
            "application/javascript": [
              "window[\"0b4490c0-7953-11eb-b1d5-0242ac1c0002\"] = google.colab.output.setActiveOutputArea(window[\"0b2b0a74-7953-11eb-b1d5-0242ac1c0002\"]);\n",
              "//# sourceURL=js_f3d062086f"
            ],
            "text/plain": [
              "<IPython.core.display.Javascript object>"
            ]
          },
          "metadata": {
            "tags": [
              "id4-0-0",
              "outputarea_id4"
            ]
          }
        },
        {
          "output_type": "display_data",
          "data": {
            "application/javascript": [
              "window[\"0b45dc46-7953-11eb-b1d5-0242ac1c0002\"] = google.colab.output.getActiveOutputArea();\n",
              "//# sourceURL=js_ee707968d2"
            ],
            "text/plain": [
              "<IPython.core.display.Javascript object>"
            ]
          },
          "metadata": {
            "tags": [
              "id4-0-0",
              "outputarea_id4"
            ]
          }
        },
        {
          "output_type": "display_data",
          "data": {
            "application/javascript": [
              "window[\"0b461a94-7953-11eb-b1d5-0242ac1c0002\"] = document.querySelector(\"#id4-0-0\");\n",
              "//# sourceURL=js_9dd49a8f7a"
            ],
            "text/plain": [
              "<IPython.core.display.Javascript object>"
            ]
          },
          "metadata": {
            "tags": [
              "id4-0-0",
              "outputarea_id4"
            ]
          }
        },
        {
          "output_type": "display_data",
          "data": {
            "application/javascript": [
              "window[\"0b465496-7953-11eb-b1d5-0242ac1c0002\"] = google.colab.output.setActiveOutputArea(window[\"0b461a94-7953-11eb-b1d5-0242ac1c0002\"]);\n",
              "//# sourceURL=js_ce85fcf81b"
            ],
            "text/plain": [
              "<IPython.core.display.Javascript object>"
            ]
          },
          "metadata": {
            "tags": [
              "id4-0-0",
              "outputarea_id4"
            ]
          }
        },
        {
          "output_type": "display_data",
          "data": {
            "application/javascript": [
              "window[\"0b601e30-7953-11eb-b1d5-0242ac1c0002\"] = google.colab.output.setActiveOutputArea(window[\"0b45dc46-7953-11eb-b1d5-0242ac1c0002\"]);\n",
              "//# sourceURL=js_9779df3910"
            ],
            "text/plain": [
              "<IPython.core.display.Javascript object>"
            ]
          },
          "metadata": {
            "tags": [
              "id4-0-0",
              "outputarea_id4"
            ]
          }
        },
        {
          "output_type": "display_data",
          "data": {
            "application/javascript": [
              "window[\"0b619d28-7953-11eb-b1d5-0242ac1c0002\"] = google.colab.output.getActiveOutputArea();\n",
              "//# sourceURL=js_45ba3bf592"
            ],
            "text/plain": [
              "<IPython.core.display.Javascript object>"
            ]
          },
          "metadata": {
            "tags": [
              "id4-0-0",
              "outputarea_id4"
            ]
          }
        },
        {
          "output_type": "display_data",
          "data": {
            "application/javascript": [
              "window[\"0b61e81e-7953-11eb-b1d5-0242ac1c0002\"] = document.querySelector(\"#id4-0-0\");\n",
              "//# sourceURL=js_ad295440a9"
            ],
            "text/plain": [
              "<IPython.core.display.Javascript object>"
            ]
          },
          "metadata": {
            "tags": [
              "id4-0-0",
              "outputarea_id4"
            ]
          }
        },
        {
          "output_type": "display_data",
          "data": {
            "application/javascript": [
              "window[\"0b622f18-7953-11eb-b1d5-0242ac1c0002\"] = google.colab.output.setActiveOutputArea(window[\"0b61e81e-7953-11eb-b1d5-0242ac1c0002\"]);\n",
              "//# sourceURL=js_fecd815312"
            ],
            "text/plain": [
              "<IPython.core.display.Javascript object>"
            ]
          },
          "metadata": {
            "tags": [
              "id4-0-0",
              "outputarea_id4"
            ]
          }
        },
        {
          "output_type": "display_data",
          "data": {
            "application/javascript": [
              "window[\"0b799a90-7953-11eb-b1d5-0242ac1c0002\"] = google.colab.output.setActiveOutputArea(window[\"0b619d28-7953-11eb-b1d5-0242ac1c0002\"]);\n",
              "//# sourceURL=js_25825c192a"
            ],
            "text/plain": [
              "<IPython.core.display.Javascript object>"
            ]
          },
          "metadata": {
            "tags": [
              "id4-0-0",
              "outputarea_id4"
            ]
          }
        },
        {
          "output_type": "display_data",
          "data": {
            "application/javascript": [
              "window[\"0b7b4dea-7953-11eb-b1d5-0242ac1c0002\"] = google.colab.output.getActiveOutputArea();\n",
              "//# sourceURL=js_63803c99f7"
            ],
            "text/plain": [
              "<IPython.core.display.Javascript object>"
            ]
          },
          "metadata": {
            "tags": [
              "id4-0-0",
              "outputarea_id4"
            ]
          }
        },
        {
          "output_type": "display_data",
          "data": {
            "application/javascript": [
              "window[\"0b7b987c-7953-11eb-b1d5-0242ac1c0002\"] = document.querySelector(\"#id4-0-0\");\n",
              "//# sourceURL=js_e9af6d0f33"
            ],
            "text/plain": [
              "<IPython.core.display.Javascript object>"
            ]
          },
          "metadata": {
            "tags": [
              "id4-0-0",
              "outputarea_id4"
            ]
          }
        },
        {
          "output_type": "display_data",
          "data": {
            "application/javascript": [
              "window[\"0b7bdeea-7953-11eb-b1d5-0242ac1c0002\"] = google.colab.output.setActiveOutputArea(window[\"0b7b987c-7953-11eb-b1d5-0242ac1c0002\"]);\n",
              "//# sourceURL=js_872c57c6fd"
            ],
            "text/plain": [
              "<IPython.core.display.Javascript object>"
            ]
          },
          "metadata": {
            "tags": [
              "id4-0-0",
              "outputarea_id4"
            ]
          }
        },
        {
          "output_type": "display_data",
          "data": {
            "application/javascript": [
              "window[\"0b9403d0-7953-11eb-b1d5-0242ac1c0002\"] = google.colab.output.setActiveOutputArea(window[\"0b7b4dea-7953-11eb-b1d5-0242ac1c0002\"]);\n",
              "//# sourceURL=js_2a05e3773e"
            ],
            "text/plain": [
              "<IPython.core.display.Javascript object>"
            ]
          },
          "metadata": {
            "tags": [
              "id4-0-0",
              "outputarea_id4"
            ]
          }
        },
        {
          "output_type": "display_data",
          "data": {
            "application/javascript": [
              "window[\"0b957a76-7953-11eb-b1d5-0242ac1c0002\"] = google.colab.output.getActiveOutputArea();\n",
              "//# sourceURL=js_3a5bc6dbf4"
            ],
            "text/plain": [
              "<IPython.core.display.Javascript object>"
            ]
          },
          "metadata": {
            "tags": [
              "id4-0-0",
              "outputarea_id4"
            ]
          }
        },
        {
          "output_type": "display_data",
          "data": {
            "application/javascript": [
              "window[\"0b95c580-7953-11eb-b1d5-0242ac1c0002\"] = document.querySelector(\"#id4-0-0\");\n",
              "//# sourceURL=js_7c0826d793"
            ],
            "text/plain": [
              "<IPython.core.display.Javascript object>"
            ]
          },
          "metadata": {
            "tags": [
              "id4-0-0",
              "outputarea_id4"
            ]
          }
        },
        {
          "output_type": "display_data",
          "data": {
            "application/javascript": [
              "window[\"0b960ac2-7953-11eb-b1d5-0242ac1c0002\"] = google.colab.output.setActiveOutputArea(window[\"0b95c580-7953-11eb-b1d5-0242ac1c0002\"]);\n",
              "//# sourceURL=js_a8d1593bf4"
            ],
            "text/plain": [
              "<IPython.core.display.Javascript object>"
            ]
          },
          "metadata": {
            "tags": [
              "id4-0-0",
              "outputarea_id4"
            ]
          }
        },
        {
          "output_type": "display_data",
          "data": {
            "application/javascript": [
              "window[\"0baeee02-7953-11eb-b1d5-0242ac1c0002\"] = google.colab.output.setActiveOutputArea(window[\"0b957a76-7953-11eb-b1d5-0242ac1c0002\"]);\n",
              "//# sourceURL=js_8a88130d3f"
            ],
            "text/plain": [
              "<IPython.core.display.Javascript object>"
            ]
          },
          "metadata": {
            "tags": [
              "id4-0-0",
              "outputarea_id4"
            ]
          }
        },
        {
          "output_type": "display_data",
          "data": {
            "application/javascript": [
              "window[\"0bb05ba2-7953-11eb-b1d5-0242ac1c0002\"] = google.colab.output.getActiveOutputArea();\n",
              "//# sourceURL=js_53a8e29239"
            ],
            "text/plain": [
              "<IPython.core.display.Javascript object>"
            ]
          },
          "metadata": {
            "tags": [
              "id4-0-0",
              "outputarea_id4"
            ]
          }
        },
        {
          "output_type": "display_data",
          "data": {
            "application/javascript": [
              "window[\"0bb0a170-7953-11eb-b1d5-0242ac1c0002\"] = document.querySelector(\"#id4-0-0\");\n",
              "//# sourceURL=js_aa1dd14046"
            ],
            "text/plain": [
              "<IPython.core.display.Javascript object>"
            ]
          },
          "metadata": {
            "tags": [
              "id4-0-0",
              "outputarea_id4"
            ]
          }
        },
        {
          "output_type": "display_data",
          "data": {
            "application/javascript": [
              "window[\"0bb0e568-7953-11eb-b1d5-0242ac1c0002\"] = google.colab.output.setActiveOutputArea(window[\"0bb0a170-7953-11eb-b1d5-0242ac1c0002\"]);\n",
              "//# sourceURL=js_41e9fd507f"
            ],
            "text/plain": [
              "<IPython.core.display.Javascript object>"
            ]
          },
          "metadata": {
            "tags": [
              "id4-0-0",
              "outputarea_id4"
            ]
          }
        },
        {
          "output_type": "display_data",
          "data": {
            "application/javascript": [
              "window[\"0bca45bc-7953-11eb-b1d5-0242ac1c0002\"] = google.colab.output.setActiveOutputArea(window[\"0bb05ba2-7953-11eb-b1d5-0242ac1c0002\"]);\n",
              "//# sourceURL=js_a3c6fdc313"
            ],
            "text/plain": [
              "<IPython.core.display.Javascript object>"
            ]
          },
          "metadata": {
            "tags": [
              "id4-0-0",
              "outputarea_id4"
            ]
          }
        },
        {
          "output_type": "display_data",
          "data": {
            "application/javascript": [
              "window[\"0bcb78ce-7953-11eb-b1d5-0242ac1c0002\"] = google.colab.output.getActiveOutputArea();\n",
              "//# sourceURL=js_504156ecd8"
            ],
            "text/plain": [
              "<IPython.core.display.Javascript object>"
            ]
          },
          "metadata": {
            "tags": [
              "id4-0-0",
              "outputarea_id4"
            ]
          }
        },
        {
          "output_type": "display_data",
          "data": {
            "application/javascript": [
              "window[\"0bcbc09a-7953-11eb-b1d5-0242ac1c0002\"] = document.querySelector(\"#id4-0-0\");\n",
              "//# sourceURL=js_c853dbdc0a"
            ],
            "text/plain": [
              "<IPython.core.display.Javascript object>"
            ]
          },
          "metadata": {
            "tags": [
              "id4-0-0",
              "outputarea_id4"
            ]
          }
        },
        {
          "output_type": "display_data",
          "data": {
            "application/javascript": [
              "window[\"0bcc01ae-7953-11eb-b1d5-0242ac1c0002\"] = google.colab.output.setActiveOutputArea(window[\"0bcbc09a-7953-11eb-b1d5-0242ac1c0002\"]);\n",
              "//# sourceURL=js_4c43c4995b"
            ],
            "text/plain": [
              "<IPython.core.display.Javascript object>"
            ]
          },
          "metadata": {
            "tags": [
              "id4-0-0",
              "outputarea_id4"
            ]
          }
        },
        {
          "output_type": "display_data",
          "data": {
            "application/javascript": [
              "window[\"0beb70fc-7953-11eb-b1d5-0242ac1c0002\"] = google.colab.output.setActiveOutputArea(window[\"0bcb78ce-7953-11eb-b1d5-0242ac1c0002\"]);\n",
              "//# sourceURL=js_674d57580a"
            ],
            "text/plain": [
              "<IPython.core.display.Javascript object>"
            ]
          },
          "metadata": {
            "tags": [
              "id4-0-0",
              "outputarea_id4"
            ]
          }
        },
        {
          "output_type": "display_data",
          "data": {
            "application/javascript": [
              "window[\"0bec9dc4-7953-11eb-b1d5-0242ac1c0002\"] = google.colab.output.getActiveOutputArea();\n",
              "//# sourceURL=js_6877872871"
            ],
            "text/plain": [
              "<IPython.core.display.Javascript object>"
            ]
          },
          "metadata": {
            "tags": [
              "id4-0-0",
              "outputarea_id4"
            ]
          }
        },
        {
          "output_type": "display_data",
          "data": {
            "application/javascript": [
              "window[\"0beceb44-7953-11eb-b1d5-0242ac1c0002\"] = document.querySelector(\"#id4-0-0\");\n",
              "//# sourceURL=js_7beb215b33"
            ],
            "text/plain": [
              "<IPython.core.display.Javascript object>"
            ]
          },
          "metadata": {
            "tags": [
              "id4-0-0",
              "outputarea_id4"
            ]
          }
        },
        {
          "output_type": "display_data",
          "data": {
            "application/javascript": [
              "window[\"0bed613c-7953-11eb-b1d5-0242ac1c0002\"] = google.colab.output.setActiveOutputArea(window[\"0beceb44-7953-11eb-b1d5-0242ac1c0002\"]);\n",
              "//# sourceURL=js_2e535529d5"
            ],
            "text/plain": [
              "<IPython.core.display.Javascript object>"
            ]
          },
          "metadata": {
            "tags": [
              "id4-0-0",
              "outputarea_id4"
            ]
          }
        },
        {
          "output_type": "display_data",
          "data": {
            "application/javascript": [
              "window[\"0c0676f4-7953-11eb-b1d5-0242ac1c0002\"] = google.colab.output.setActiveOutputArea(window[\"0bec9dc4-7953-11eb-b1d5-0242ac1c0002\"]);\n",
              "//# sourceURL=js_6cd14b9fca"
            ],
            "text/plain": [
              "<IPython.core.display.Javascript object>"
            ]
          },
          "metadata": {
            "tags": [
              "id4-0-0",
              "outputarea_id4"
            ]
          }
        },
        {
          "output_type": "display_data",
          "data": {
            "application/javascript": [
              "window[\"0c079b9c-7953-11eb-b1d5-0242ac1c0002\"] = google.colab.output.getActiveOutputArea();\n",
              "//# sourceURL=js_f15817ae4e"
            ],
            "text/plain": [
              "<IPython.core.display.Javascript object>"
            ]
          },
          "metadata": {
            "tags": [
              "id4-0-0",
              "outputarea_id4"
            ]
          }
        },
        {
          "output_type": "display_data",
          "data": {
            "application/javascript": [
              "window[\"0c07d918-7953-11eb-b1d5-0242ac1c0002\"] = document.querySelector(\"#id4-0-0\");\n",
              "//# sourceURL=js_db24f4042d"
            ],
            "text/plain": [
              "<IPython.core.display.Javascript object>"
            ]
          },
          "metadata": {
            "tags": [
              "id4-0-0",
              "outputarea_id4"
            ]
          }
        },
        {
          "output_type": "display_data",
          "data": {
            "application/javascript": [
              "window[\"0c081bf8-7953-11eb-b1d5-0242ac1c0002\"] = google.colab.output.setActiveOutputArea(window[\"0c07d918-7953-11eb-b1d5-0242ac1c0002\"]);\n",
              "//# sourceURL=js_d490671927"
            ],
            "text/plain": [
              "<IPython.core.display.Javascript object>"
            ]
          },
          "metadata": {
            "tags": [
              "id4-0-0",
              "outputarea_id4"
            ]
          }
        },
        {
          "output_type": "display_data",
          "data": {
            "application/javascript": [
              "window[\"0c216482-7953-11eb-b1d5-0242ac1c0002\"] = google.colab.output.setActiveOutputArea(window[\"0c079b9c-7953-11eb-b1d5-0242ac1c0002\"]);\n",
              "//# sourceURL=js_1afa4d9fdf"
            ],
            "text/plain": [
              "<IPython.core.display.Javascript object>"
            ]
          },
          "metadata": {
            "tags": [
              "id4-0-0",
              "outputarea_id4"
            ]
          }
        },
        {
          "output_type": "display_data",
          "data": {
            "application/javascript": [
              "window[\"0c250650-7953-11eb-b1d5-0242ac1c0002\"] = google.colab.output.getActiveOutputArea();\n",
              "//# sourceURL=js_af066a3494"
            ],
            "text/plain": [
              "<IPython.core.display.Javascript object>"
            ]
          },
          "metadata": {
            "tags": [
              "id4-0-0",
              "outputarea_id4"
            ]
          }
        },
        {
          "output_type": "display_data",
          "data": {
            "application/javascript": [
              "window[\"0c25a61e-7953-11eb-b1d5-0242ac1c0002\"] = document.querySelector(\"#id4-0-0\");\n",
              "//# sourceURL=js_1d4bfaaa80"
            ],
            "text/plain": [
              "<IPython.core.display.Javascript object>"
            ]
          },
          "metadata": {
            "tags": [
              "id4-0-0",
              "outputarea_id4"
            ]
          }
        },
        {
          "output_type": "display_data",
          "data": {
            "application/javascript": [
              "window[\"0c25e9e4-7953-11eb-b1d5-0242ac1c0002\"] = google.colab.output.setActiveOutputArea(window[\"0c25a61e-7953-11eb-b1d5-0242ac1c0002\"]);\n",
              "//# sourceURL=js_1b8c0ced3f"
            ],
            "text/plain": [
              "<IPython.core.display.Javascript object>"
            ]
          },
          "metadata": {
            "tags": [
              "id4-0-0",
              "outputarea_id4"
            ]
          }
        },
        {
          "output_type": "display_data",
          "data": {
            "application/javascript": [
              "window[\"0c3cb23c-7953-11eb-b1d5-0242ac1c0002\"] = google.colab.output.setActiveOutputArea(window[\"0c250650-7953-11eb-b1d5-0242ac1c0002\"]);\n",
              "//# sourceURL=js_0be9c21f2a"
            ],
            "text/plain": [
              "<IPython.core.display.Javascript object>"
            ]
          },
          "metadata": {
            "tags": [
              "id4-0-0",
              "outputarea_id4"
            ]
          }
        },
        {
          "output_type": "display_data",
          "data": {
            "application/javascript": [
              "window[\"0c40644a-7953-11eb-b1d5-0242ac1c0002\"] = google.colab.output.getActiveOutputArea();\n",
              "//# sourceURL=js_bf0e7193ce"
            ],
            "text/plain": [
              "<IPython.core.display.Javascript object>"
            ]
          },
          "metadata": {
            "tags": [
              "id4-0-0",
              "outputarea_id4"
            ]
          }
        },
        {
          "output_type": "display_data",
          "data": {
            "application/javascript": [
              "window[\"0c40d1e6-7953-11eb-b1d5-0242ac1c0002\"] = document.querySelector(\"#id4-0-0\");\n",
              "//# sourceURL=js_5a850f498e"
            ],
            "text/plain": [
              "<IPython.core.display.Javascript object>"
            ]
          },
          "metadata": {
            "tags": [
              "id4-0-0",
              "outputarea_id4"
            ]
          }
        },
        {
          "output_type": "display_data",
          "data": {
            "application/javascript": [
              "window[\"0c412d44-7953-11eb-b1d5-0242ac1c0002\"] = google.colab.output.setActiveOutputArea(window[\"0c40d1e6-7953-11eb-b1d5-0242ac1c0002\"]);\n",
              "//# sourceURL=js_fe5f2f657c"
            ],
            "text/plain": [
              "<IPython.core.display.Javascript object>"
            ]
          },
          "metadata": {
            "tags": [
              "id4-0-0",
              "outputarea_id4"
            ]
          }
        },
        {
          "output_type": "display_data",
          "data": {
            "application/javascript": [
              "window[\"0c581810-7953-11eb-b1d5-0242ac1c0002\"] = google.colab.output.setActiveOutputArea(window[\"0c40644a-7953-11eb-b1d5-0242ac1c0002\"]);\n",
              "//# sourceURL=js_5cdeebd47b"
            ],
            "text/plain": [
              "<IPython.core.display.Javascript object>"
            ]
          },
          "metadata": {
            "tags": [
              "id4-0-0",
              "outputarea_id4"
            ]
          }
        },
        {
          "output_type": "display_data",
          "data": {
            "application/javascript": [
              "window[\"0c5be224-7953-11eb-b1d5-0242ac1c0002\"] = google.colab.output.getActiveOutputArea();\n",
              "//# sourceURL=js_b25bb6dfb2"
            ],
            "text/plain": [
              "<IPython.core.display.Javascript object>"
            ]
          },
          "metadata": {
            "tags": [
              "id4-0-0",
              "outputarea_id4"
            ]
          }
        },
        {
          "output_type": "display_data",
          "data": {
            "application/javascript": [
              "window[\"0c5ce23c-7953-11eb-b1d5-0242ac1c0002\"] = document.querySelector(\"#id4-0-0\");\n",
              "//# sourceURL=js_add67e70ce"
            ],
            "text/plain": [
              "<IPython.core.display.Javascript object>"
            ]
          },
          "metadata": {
            "tags": [
              "id4-0-0",
              "outputarea_id4"
            ]
          }
        },
        {
          "output_type": "display_data",
          "data": {
            "application/javascript": [
              "window[\"0c5d8cc8-7953-11eb-b1d5-0242ac1c0002\"] = google.colab.output.setActiveOutputArea(window[\"0c5ce23c-7953-11eb-b1d5-0242ac1c0002\"]);\n",
              "//# sourceURL=js_1af3029142"
            ],
            "text/plain": [
              "<IPython.core.display.Javascript object>"
            ]
          },
          "metadata": {
            "tags": [
              "id4-0-0",
              "outputarea_id4"
            ]
          }
        },
        {
          "output_type": "display_data",
          "data": {
            "image/png": "[encoded data removed]",
            "text/plain": [
              "<Figure size 432x288 with 1 Axes>"
            ]
          },
          "metadata": {
            "tags": [
              "id4-0-0",
              "outputarea_id4",
              "user_output"
            ],
            "needs_background": "light"
          }
        },
        {
          "output_type": "display_data",
          "data": {
            "application/javascript": [
              "window[\"0c75d2c4-7953-11eb-b1d5-0242ac1c0002\"] = google.colab.output.setActiveOutputArea(window[\"0c5be224-7953-11eb-b1d5-0242ac1c0002\"]);\n",
              "//# sourceURL=js_9a6298d0a9"
            ],
            "text/plain": [
              "<IPython.core.display.Javascript object>"
            ]
          },
          "metadata": {
            "tags": [
              "id4-0-0",
              "outputarea_id4"
            ]
          }
        },
        {
          "output_type": "stream",
          "text": [
            "Agent has reached the Goal position\n",
            "At the end of the run, the agent got is at state 15 & a total reward of 10\n"
          ],
          "name": "stdout"
        }
      ]
    },
    {
      "cell_type": "markdown",
      "metadata": {
        "id": "Ly1zH56A6rf2"
      },
      "source": [
        "*Initializing the episode count & window size (for testing)*"
      ]
    },
    {
      "cell_type": "code",
      "metadata": {
        "id": "m-6yc4jvmVZp"
      },
      "source": [
        "episodes= 1000\n",
        "window_size= 100 # For windowed reporting of percentage of goal achievement"
      ],
      "execution_count": 17,
      "outputs": []
    },
    {
      "cell_type": "markdown",
      "metadata": {
        "id": "z6Vg_an6W0LE"
      },
      "source": [
        "*Initializing the environments to run Q-learning agent and SARSA agent*"
      ]
    },
    {
      "cell_type": "code",
      "metadata": {
        "id": "ZiR53K8fyliv"
      },
      "source": [
        "det_environment= DeterministicEnvironment()\n",
        "sto_environment= StochasticEnvironment()"
      ],
      "execution_count": 18,
      "outputs": []
    },
    {
      "cell_type": "markdown",
      "metadata": {
        "id": "v4Z_9Gz2dLCt"
      },
      "source": [
        "*Running the Q-learning random agent in the Deterministic Environment*"
      ]
    },
    {
      "cell_type": "code",
      "metadata": {
        "colab": {
          "base_uri": "https://localhost:8080/"
        },
        "id": "MbMNwxcdyvEj",
        "outputId": "94438e88-252d-4047-d88a-8406228a547f"
      },
      "source": [
        "Q_agent= QLearningAgent(env= det_environment)\n",
        "\n",
        "# Metrics to calculate\n",
        "reached= 0\n",
        "not_reached= 0\n",
        "total_reward= 0\n",
        "\n",
        "Q_det_bad_state= list()\n",
        "Q_det_reward_mean= list()\n",
        "Q_det_epsilon_decay= list()\n",
        "Q_det_reach_windowed= list()\n",
        "Q_det_episode_reward= list()\n",
        "Q_det_episode_timestep= list()\n",
        "\n",
        "for each_episode in range(episodes):\n",
        "  state= det_environment.reset()\n",
        "  done= False\n",
        "  reward_per_episode= 0\n",
        "  timestep_per_episode= 0\n",
        "  bad_state= 0\n",
        "\n",
        "  while not done:\n",
        "    action= Q_agent.step(state= state)\n",
        "    next_state, reward, done, info= det_environment.step(action= action)\n",
        "    Q_agent.train(experience= (state, action, next_state, reward, done))\n",
        "    state= next_state\n",
        "\n",
        "    reward_per_episode += reward\n",
        "    total_reward += reward\n",
        "    timestep_per_episode += 1\n",
        "    bad_state += 1 if (reward<0) else 0\n",
        "\n",
        "  Q_det_bad_state.append(bad_state)\n",
        "  Q_det_episode_timestep.append(timestep_per_episode)\n",
        "  Q_det_epsilon_decay.append(Q_agent.epsilon)\n",
        "  Q_det_episode_reward.append(reward_per_episode)\n",
        "  Q_det_reward_mean.append(reward_per_episode/episodes)\n",
        "\n",
        "  if done == True and det_environment.timestep < MAX_TIMESTEPS:\n",
        "    # Agent has reached the goal\n",
        "    reached += 1\n",
        "    Q_det_reach_windowed.append(1)\n",
        "  elif done == True and det_environment.timestep == MAX_TIMESTEPS:\n",
        "    # Agent ran out of time & has not reached the goal\n",
        "    not_reached += 1\n",
        "    Q_det_reach_windowed.append(0)\n",
        "\n",
        "print('\\nReached: {} & Not reached: {}'.format(reached, not_reached))\n",
        "print('At the end of the run, the agent got is at state {} & a total reward of {}'.format(state, total_reward))\n",
        "\n",
        "# print('\\nThe final q-table is')\n",
        "# print(Q_agent.Q_table)"
      ],
      "execution_count": 19,
      "outputs": [
        {
          "output_type": "stream",
          "text": [
            "\n",
            "Reached: 287 & Not reached: 713\n",
            "At the end of the run, the agent got is at state 7 & a total reward of 185522\n"
          ],
          "name": "stdout"
        }
      ]
    },
    {
      "cell_type": "code",
      "metadata": {
        "id": "FhEM-BS2KIvE"
      },
      "source": [
        "# Saves the model\n",
        "Q_agent.save_model(filename= MODEL_DIRECTORY+'/q_agent_det_env_model.md5')"
      ],
      "execution_count": 20,
      "outputs": []
    },
    {
      "cell_type": "markdown",
      "metadata": {
        "id": "r9VaiXQR7A6o"
      },
      "source": [
        "*Running the Q-learning random agent in the Stochastic Environment*"
      ]
    },
    {
      "cell_type": "code",
      "metadata": {
        "colab": {
          "base_uri": "https://localhost:8080/"
        },
        "id": "z2FceP7TYtJt",
        "outputId": "bba116d1-6e45-4975-9687-868b81b9ea1d"
      },
      "source": [
        "Q_agent= QLearningAgent(env= sto_environment)\n",
        "\n",
        "# Metrics to calculate\n",
        "reached= 0\n",
        "not_reached= 0\n",
        "total_reward= 0\n",
        "\n",
        "Q_sto_bad_state= list()\n",
        "Q_sto_reward_mean= list()\n",
        "Q_sto_epsilon_decay= list()\n",
        "Q_sto_reach_windowed= list()\n",
        "Q_sto_episode_reward= list()\n",
        "Q_sto_episode_timestep= list()\n",
        "\n",
        "for each_episode in range(episodes):\n",
        "  state= sto_environment.reset()\n",
        "  done= False\n",
        "  reward_per_episode= 0\n",
        "  timestep_per_episode= 0\n",
        "  bad_state= 0\n",
        "\n",
        "  while not done:\n",
        "    action= Q_agent.step(state= state)\n",
        "    next_state, reward, done, info= sto_environment.step(action= action)\n",
        "    Q_agent.train(experience= (state, action, next_state, reward, done))\n",
        "    state= next_state\n",
        "\n",
        "    reward_per_episode += reward\n",
        "    total_reward += reward\n",
        "    timestep_per_episode += 1\n",
        "    bad_state += 1 if (reward<0) else 0\n",
        "\n",
        "  Q_sto_bad_state.append(bad_state)\n",
        "  Q_sto_episode_timestep.append(timestep_per_episode)\n",
        "  Q_sto_epsilon_decay.append(Q_agent.epsilon)\n",
        "  Q_sto_episode_reward.append(reward_per_episode)\n",
        "  Q_sto_reward_mean.append(reward_per_episode/episodes)\n",
        "\n",
        "  if done == True and sto_environment.timestep < MAX_TIMESTEPS:\n",
        "    # Agent has reached the goal\n",
        "    reached += 1\n",
        "    Q_sto_reach_windowed.append(1)\n",
        "  elif done == True and sto_environment.timestep == MAX_TIMESTEPS:\n",
        "    # Agent ran out of time & has not reached the goal\n",
        "    not_reached += 1\n",
        "    Q_sto_reach_windowed.append(0)\n",
        "\n",
        "print('\\nReached: {} & Not reached: {}'.format(reached, not_reached))\n",
        "print('At the end of the run, the agent got is at state {} & a total reward of {}'.format(state, total_reward))\n",
        "\n",
        "# print('\\nThe final q-table is')\n",
        "# print(Q_agent.Q_table)"
      ],
      "execution_count": 21,
      "outputs": [
        {
          "output_type": "stream",
          "text": [
            "\n",
            "Reached: 938 & Not reached: 62\n",
            "At the end of the run, the agent got is at state 15 & a total reward of 49915\n"
          ],
          "name": "stdout"
        }
      ]
    },
    {
      "cell_type": "code",
      "metadata": {
        "id": "tdW0csa2P8C7"
      },
      "source": [
        "# Saves the model\n",
        "Q_agent.save_model(filename= MODEL_DIRECTORY+'/q_agent_sto_env_model.md5')"
      ],
      "execution_count": 22,
      "outputs": []
    },
    {
      "cell_type": "markdown",
      "metadata": {
        "id": "OsyR2PtFJ_Fr"
      },
      "source": [
        "*Running the SARSA random agent in the Deterministic Environment*"
      ]
    },
    {
      "cell_type": "code",
      "metadata": {
        "colab": {
          "base_uri": "https://localhost:8080/"
        },
        "id": "JkMGVbEsECvs",
        "outputId": "62ce5ab0-e0b4-4a6d-9bae-25bf452eebd8"
      },
      "source": [
        "SARSA_agent= SARSAAgent(env= det_environment)\n",
        "\n",
        "# Metrics to calculate\n",
        "reached= 0\n",
        "not_reached= 0\n",
        "total_reward= 0\n",
        "\n",
        "SARSA_det_bad_state= list()\n",
        "SARSA_det_reward_mean= list()\n",
        "SARSA_det_epsilon_decay= list()\n",
        "SARSA_det_reach_windowed= list()\n",
        "SARSA_det_episode_reward= list()\n",
        "SARSA_det_episode_timestep= list()\n",
        "\n",
        "for each_episode in range(episodes):\n",
        "  state= det_environment.reset()\n",
        "  done= False\n",
        "  reward_per_episode= 0\n",
        "  timestep_per_episode= 0\n",
        "  bad_state= 0\n",
        "\n",
        "  action= SARSA_agent.step(state= state)\n",
        "  while not done:\n",
        "    next_action= SARSA_agent.step(state= state)\n",
        "    next_state, reward, done, info= det_environment.step(action= action)\n",
        "    SARSA_agent.train(experience= (state, action, next_state, next_action, reward, done))\n",
        "    state= next_state\n",
        "    action= next_action\n",
        "\n",
        "    reward_per_episode += reward\n",
        "    total_reward += reward\n",
        "    timestep_per_episode += 1\n",
        "    bad_state += 1 if (reward<0) else 0\n",
        "\n",
        "  SARSA_det_bad_state.append(bad_state)\n",
        "  SARSA_det_episode_timestep.append(timestep_per_episode)\n",
        "  SARSA_det_epsilon_decay.append(SARSA_agent.epsilon)\n",
        "  SARSA_det_episode_reward.append(reward_per_episode)\n",
        "  SARSA_det_reward_mean.append(reward_per_episode/episodes)\n",
        "\n",
        "  if done == True and det_environment.timestep < MAX_TIMESTEPS:\n",
        "    # Agent has reached the goal\n",
        "    reached += 1\n",
        "    SARSA_det_reach_windowed.append(1)\n",
        "  elif done == True and det_environment.timestep == MAX_TIMESTEPS:\n",
        "    # Agent ran out of time & has not reached the goal\n",
        "    not_reached += 1\n",
        "    SARSA_det_reach_windowed.append(0)\n",
        "\n",
        "print('\\nReached: {} & Not reached: {}'.format(reached, not_reached))\n",
        "print('At the end of the run, the agent got is at state {} & a total reward of {}'.format(state, total_reward))"
      ],
      "execution_count": 23,
      "outputs": [
        {
          "output_type": "stream",
          "text": [
            "\n",
            "Reached: 984 & Not reached: 16\n",
            "At the end of the run, the agent got is at state 15 & a total reward of 19021\n"
          ],
          "name": "stdout"
        }
      ]
    },
    {
      "cell_type": "code",
      "metadata": {
        "id": "8cXWrV6pP-80"
      },
      "source": [
        "# Saves the model\n",
        "Q_agent.save_model(filename= MODEL_DIRECTORY+'/sarsa_agent_det_env_model.md5')"
      ],
      "execution_count": 24,
      "outputs": []
    },
    {
      "cell_type": "markdown",
      "metadata": {
        "id": "dF7di08zKDLp"
      },
      "source": [
        "*Running the SARSA random agent in the Stochastic Environment*"
      ]
    },
    {
      "cell_type": "code",
      "metadata": {
        "colab": {
          "base_uri": "https://localhost:8080/"
        },
        "id": "O5PDe9K0J7jn",
        "outputId": "f4680c21-ebf2-40f6-d552-bcb5102b967b"
      },
      "source": [
        "SARSA_agent= SARSAAgent(env= environment)\n",
        "\n",
        "# Metrics to calculate\n",
        "reached= 0\n",
        "not_reached= 0\n",
        "total_reward= 0\n",
        "\n",
        "SARSA_sto_bad_state= list()\n",
        "SARSA_sto_reward_mean= list()\n",
        "SARSA_sto_epsilon_decay= list()\n",
        "SARSA_sto_reach_windowed= list()\n",
        "SARSA_sto_episode_reward= list()\n",
        "SARSA_sto_episode_timestep= list()\n",
        "\n",
        "for each_episode in range(episodes):\n",
        "  state= sto_environment.reset()\n",
        "  done= False\n",
        "  reward_per_episode= 0\n",
        "  timestep_per_episode= 0\n",
        "  bad_state= 0\n",
        "\n",
        "  action= SARSA_agent.step(state= state)\n",
        "  while not done:\n",
        "    next_action= SARSA_agent.step(state= state)\n",
        "    next_state, reward, done, info= sto_environment.step(action= action)\n",
        "    SARSA_agent.train(experience= (state, action, next_state, next_action, reward, done))\n",
        "    state= next_state\n",
        "    action= next_action\n",
        "\n",
        "    reward_per_episode += reward\n",
        "    total_reward += reward\n",
        "    timestep_per_episode += 1\n",
        "    bad_state += 1 if (reward<0) else 0\n",
        "\n",
        "  SARSA_sto_bad_state.append(bad_state)\n",
        "  SARSA_sto_episode_timestep.append(timestep_per_episode)\n",
        "  SARSA_sto_epsilon_decay.append(SARSA_agent.epsilon)\n",
        "  SARSA_sto_episode_reward.append(reward_per_episode)\n",
        "  SARSA_sto_reward_mean.append(reward_per_episode/episodes)\n",
        "\n",
        "  if done == True and sto_environment.timestep < MAX_TIMESTEPS:\n",
        "    # Agent has reached the goal\n",
        "    reached += 1\n",
        "    SARSA_sto_reach_windowed.append(1)\n",
        "  elif done == True and sto_environment.timestep == MAX_TIMESTEPS:\n",
        "    # Agent ran out of time & has not reached the goal\n",
        "    not_reached += 1\n",
        "    SARSA_sto_reach_windowed.append(0)\n",
        "\n",
        "print('\\nReached: {} & Not reached: {}'.format(reached, not_reached))\n",
        "print('At the end of the run, the agent got is at state {} & a total reward of {}'.format(state, total_reward))"
      ],
      "execution_count": 25,
      "outputs": [
        {
          "output_type": "stream",
          "text": [
            "\n",
            "Reached: 933 & Not reached: 67\n",
            "At the end of the run, the agent got is at state 15 & a total reward of 32808\n"
          ],
          "name": "stdout"
        }
      ]
    },
    {
      "cell_type": "code",
      "metadata": {
        "id": "Dkmj9LNdQBpf"
      },
      "source": [
        "# Saves the model\n",
        "Q_agent.save_model(filename= MODEL_DIRECTORY+'/sarsa_agent_sto_env_model.md5')"
      ],
      "execution_count": 26,
      "outputs": []
    },
    {
      "cell_type": "markdown",
      "metadata": {
        "id": "6xFmucyNTumX"
      },
      "source": [
        "## Results, analysis, & explanation"
      ]
    },
    {
      "cell_type": "code",
      "metadata": {
        "colab": {
          "base_uri": "https://localhost:8080/",
          "height": 1000
        },
        "id": "EEMTu462TuSt",
        "outputId": "5979a348-0b51-4364-d792-9aa69cbf989e"
      },
      "source": [
        "grid= widgets.Grid(7, 5)\n",
        "\n",
        "# ---------------------------------------------------------\n",
        "# Column 0 -> Evaluation metrics\n",
        "# ---------------------------------------------------------\n",
        "with grid.output_to(1, 0):\n",
        "  print('Cumulative reward per episode')\n",
        "with grid.output_to(2, 0):\n",
        "  print('Average reward per episode')\n",
        "with grid.output_to(3, 0):\n",
        "  print('Epsilon decay')\n",
        "with grid.output_to(4, 0):\n",
        "  print('Average number of timesteps per episode')\n",
        "with grid.output_to(5, 0):\n",
        "  print('Average number of times agent \\nreceives penalty per episode')\n",
        "with grid.output_to(6, 0):\n",
        "  print('Percentage of goal achievements by \\nagent for every {} episodes'.format(window_size))\n",
        "\n",
        "# ---------------------------------------------------------\n",
        "# Column 1 -> Q-learning agent in Deterministic Environment\n",
        "# ---------------------------------------------------------\n",
        "with grid.output_to(0, 1):\n",
        "  print('Performance of Q-learning agent in \\nDeterministic Environment')\n",
        "\n",
        "with grid.output_to(1, 1):\n",
        "  plt.title('Cumulative reward per episode')\n",
        "  plt.plot(Q_det_episode_reward)\n",
        "  plt.xlabel('Episodes')\n",
        "  plt.ylabel('Reward')\n",
        "\n",
        "with grid.output_to(2, 1):\n",
        "  plt.title('Average reward per episode')\n",
        "  plt.plot(Q_det_reward_mean)\n",
        "  plt.xlabel('Episodes')\n",
        "  plt.ylabel('Reward')\n",
        "\n",
        "with grid.output_to(3, 1):\n",
        "  plt.title('Epsilon decay')\n",
        "  plt.plot(Q_det_epsilon_decay)\n",
        "  plt.xlabel('Episode')\n",
        "  plt.ylabel('Epsilon')\n",
        "\n",
        "with grid.output_to(4, 1):\n",
        "  print(np.mean(np.array(Q_det_episode_timestep)))\n",
        "\n",
        "with grid.output_to(5, 1):\n",
        "  print(np.mean(np.array(Q_det_bad_state)))\n",
        "\n",
        "with grid.output_to(6, 1):\n",
        "  y_axis= [np.count_nonzero(i) for i in list(np.array(Q_det_reach_windowed).reshape(int(episodes/window_size), window_size))]\n",
        "  fig= plt.figure()\n",
        "  axis= fig.add_axes([0, 0, 1, 1])\n",
        "  axis.bar([i for i in range(1, 11)], y_axis, width= 0.25)\n",
        "  axis.set_title('Percentage of goal achievements by \\nagent for every {} episodes'.format(window_size))\n",
        "  axis.set_xlabel('Episodes (*100)')\n",
        "  axis.set_ylabel('Percentage of goal achievements')\n",
        "  fig.show()\n",
        "  # print(y_axis)\n",
        "  print('Overall percentage of reaching the goal: {}'.format(np.mean(np.array(y_axis))))\n",
        "\n",
        "# ------------------------------------------------------\n",
        "# Column 2 -> Q-learning agent in Stochastic Environment\n",
        "# ------------------------------------------------------\n",
        "with grid.output_to(0, 2):\n",
        "  print('Performance of Q-learning agent in \\nStochastic Environment')\n",
        "\n",
        "with grid.output_to(1, 2):\n",
        "  plt.title('Cumulative reward per episode')\n",
        "  plt.plot(Q_sto_episode_reward)\n",
        "  plt.xlabel('Episodes')\n",
        "  plt.ylabel('Reward')\n",
        "\n",
        "with grid.output_to(2, 2):\n",
        "  plt.title('Average reward per episode')\n",
        "  plt.plot(Q_sto_reward_mean)\n",
        "  plt.xlabel('Episodes')\n",
        "  plt.ylabel('Reward')\n",
        "\n",
        "with grid.output_to(3, 2):\n",
        "  plt.title('Epsilon decay')\n",
        "  plt.plot(Q_sto_epsilon_decay)\n",
        "  plt.xlabel('Episode')\n",
        "  plt.ylabel('Epsilon')\n",
        "\n",
        "with grid.output_to(4, 2):\n",
        "  print(np.mean(np.array(Q_sto_episode_timestep)))\n",
        "\n",
        "with grid.output_to(5, 2):\n",
        "  print(np.mean(np.array(Q_sto_bad_state)))\n",
        "\n",
        "with grid.output_to(6, 2):\n",
        "  y_axis= [np.count_nonzero(i) for i in list(np.array(Q_sto_reach_windowed).reshape(int(episodes/window_size), window_size))]\n",
        "  fig= plt.figure()\n",
        "  axis= fig.add_axes([0, 0, 1, 1])\n",
        "  axis.bar([i for i in range(1, 11)], y_axis, width= 0.25)\n",
        "  axis.set_title('Percentage of goal achievements by \\nagent for every {} episodes'.format(window_size))\n",
        "  axis.set_xlabel('Episodes (*100)')\n",
        "  axis.set_ylabel('Percentage of goal achievements')\n",
        "  fig.show()\n",
        "  # print(y_axis)\n",
        "  print('Overall percentage of reaching the goal: {}'.format(np.mean(np.array(y_axis))))\n",
        "\n",
        "# ----------------------------------------------------\n",
        "# Column 3 -> SARSA agent in Deterministic Environment\n",
        "# ----------------------------------------------------\n",
        "with grid.output_to(0, 3):\n",
        "  print('Performance of SARSA agent in \\nDeterministic Environment')\n",
        "\n",
        "with grid.output_to(1, 3):\n",
        "  plt.title('Cumulative reward per episode')\n",
        "  plt.plot(SARSA_det_episode_reward)\n",
        "  plt.xlabel('Episodes')\n",
        "  plt.ylabel('Reward')\n",
        "\n",
        "with grid.output_to(2, 3):\n",
        "  plt.title('Average reward per episode')\n",
        "  plt.plot(SARSA_det_reward_mean)\n",
        "  plt.xlabel('Episodes')\n",
        "  plt.ylabel('Reward')\n",
        "\n",
        "with grid.output_to(3, 3):\n",
        "  plt.title('Epsilon decay')\n",
        "  plt.plot(SARSA_det_epsilon_decay)\n",
        "  plt.xlabel('Episode')\n",
        "  plt.ylabel('Epsilon')\n",
        "\n",
        "with grid.output_to(4, 3):\n",
        "  print(np.mean(np.array(SARSA_det_episode_timestep)))\n",
        "\n",
        "with grid.output_to(5, 3):\n",
        "  print(np.mean(np.array(SARSA_det_bad_state)))\n",
        "\n",
        "with grid.output_to(6, 3):\n",
        "  y_axis= [np.count_nonzero(i) for i in list(np.array(SARSA_det_reach_windowed).reshape(int(episodes/window_size), window_size))]\n",
        "  fig= plt.figure()\n",
        "  axis= fig.add_axes([0, 0, 1, 1])\n",
        "  axis.bar([i for i in range(1, 11)], y_axis, width= 0.25)\n",
        "  axis.set_title('Percentage of goal achievements by \\nagent for every {} episodes'.format(window_size))\n",
        "  axis.set_xlabel('Episodes (*100)')\n",
        "  axis.set_ylabel('Percentage of goal achievements')\n",
        "  fig.show()\n",
        "  # print(y_axis)\n",
        "  print('Overall percentage of reaching the goal: {}'.format(np.mean(np.array(y_axis))))\n",
        "\n",
        "# -------------------------------------------------\n",
        "# Column 4 -> SARSA agent in Stochastic Environment\n",
        "# -------------------------------------------------\n",
        "with grid.output_to(0, 4):\n",
        "  print('Performance of SARSA agent in \\nStochastic Environment')\n",
        "\n",
        "with grid.output_to(1, 4):\n",
        "  plt.title('Cumulative reward per episode')\n",
        "  plt.plot(SARSA_sto_episode_reward)\n",
        "  plt.xlabel('Episodes')\n",
        "  plt.ylabel('Reward')\n",
        "\n",
        "with grid.output_to(2, 4):\n",
        "  plt.title('Average reward per episode')\n",
        "  plt.plot(SARSA_sto_reward_mean)\n",
        "  plt.xlabel('Episodes')\n",
        "  plt.ylabel('Reward')\n",
        "\n",
        "with grid.output_to(3, 4):\n",
        "  plt.title('Epsilon decay')\n",
        "  plt.plot(SARSA_sto_epsilon_decay)\n",
        "  plt.xlabel('Episode')\n",
        "  plt.ylabel('Epsilon')\n",
        "\n",
        "with grid.output_to(4, 4):\n",
        "  print(np.mean(np.array(SARSA_sto_episode_timestep)))\n",
        "\n",
        "with grid.output_to(5, 4):\n",
        "  print(np.mean(np.array(SARSA_sto_bad_state)))\n",
        "\n",
        "with grid.output_to(6, 4):\n",
        "  y_axis= [np.count_nonzero(i) for i in list(np.array(SARSA_sto_reach_windowed).reshape(int(episodes/window_size), window_size))]\n",
        "  fig= plt.figure()\n",
        "  axis= fig.add_axes([0, 0, 1, 1])\n",
        "  axis.bar([i for i in range(1, 11)], y_axis, width= 0.25)\n",
        "  axis.set_title('Percentage of goal achievements by \\nagent for every {} episodes'.format(window_size))\n",
        "  axis.set_xlabel('Episodes (*100)')\n",
        "  axis.set_ylabel('Percentage of goal achievements')\n",
        "  fig.show()\n",
        "  print('Overall percentage of reaching the goal: {}'.format(np.mean(np.array(y_axis))))"
      ],
      "execution_count": 27,
      "outputs": [
        {
          "output_type": "display_data",
          "data": {
            "text/html": [
              "<style>\n",
              "       table#id6, #id6 > tbody > tr > th, #id6 > tbody > tr > td {\n",
              "         border: 1px solid lightgray;\n",
              "         border-collapse:collapse;\n",
              "         \n",
              "        }</style>"
            ],
            "text/plain": [
              "<IPython.core.display.HTML object>"
            ]
          },
          "metadata": {
            "tags": [
              "outputarea_id6"
            ]
          }
        },
        {
          "output_type": "display_data",
          "data": {
            "text/html": [
              "<table id=id6><tr><td id=id6-0-0></td><td id=id6-0-1></td><td id=id6-0-2></td><td id=id6-0-3></td><td id=id6-0-4></td></tr><tr><td id=id6-1-0></td><td id=id6-1-1></td><td id=id6-1-2></td><td id=id6-1-3></td><td id=id6-1-4></td></tr><tr><td id=id6-2-0></td><td id=id6-2-1></td><td id=id6-2-2></td><td id=id6-2-3></td><td id=id6-2-4></td></tr><tr><td id=id6-3-0></td><td id=id6-3-1></td><td id=id6-3-2></td><td id=id6-3-3></td><td id=id6-3-4></td></tr><tr><td id=id6-4-0></td><td id=id6-4-1></td><td id=id6-4-2></td><td id=id6-4-3></td><td id=id6-4-4></td></tr><tr><td id=id6-5-0></td><td id=id6-5-1></td><td id=id6-5-2></td><td id=id6-5-3></td><td id=id6-5-4></td></tr><tr><td id=id6-6-0></td><td id=id6-6-1></td><td id=id6-6-2></td><td id=id6-6-3></td><td id=id6-6-4></td></tr></table>"
            ],
            "text/plain": [
              "<IPython.core.display.HTML object>"
            ]
          },
          "metadata": {
            "tags": [
              "outputarea_id6"
            ]
          }
        },
        {
          "output_type": "display_data",
          "data": {
            "application/javascript": [
              "window[\"117688b8-7953-11eb-b1d5-0242ac1c0002\"] = google.colab.output.getActiveOutputArea();\n",
              "//# sourceURL=js_dc57767178"
            ],
            "text/plain": [
              "<IPython.core.display.Javascript object>"
            ]
          },
          "metadata": {
            "tags": [
              "id6-1-0",
              "outputarea_id6"
            ]
          }
        },
        {
          "output_type": "display_data",
          "data": {
            "application/javascript": [
              "window[\"1176ce72-7953-11eb-b1d5-0242ac1c0002\"] = document.querySelector(\"#id6-1-0\");\n",
              "//# sourceURL=js_8b33f995d4"
            ],
            "text/plain": [
              "<IPython.core.display.Javascript object>"
            ]
          },
          "metadata": {
            "tags": [
              "id6-1-0",
              "outputarea_id6"
            ]
          }
        },
        {
          "output_type": "display_data",
          "data": {
            "application/javascript": [
              "window[\"1177197c-7953-11eb-b1d5-0242ac1c0002\"] = google.colab.output.setActiveOutputArea(window[\"1176ce72-7953-11eb-b1d5-0242ac1c0002\"]);\n",
              "//# sourceURL=js_cf59a939fc"
            ],
            "text/plain": [
              "<IPython.core.display.Javascript object>"
            ]
          },
          "metadata": {
            "tags": [
              "id6-1-0",
              "outputarea_id6"
            ]
          }
        },
        {
          "output_type": "stream",
          "text": [
            "Cumulative reward per episode\n"
          ],
          "name": "stdout"
        },
        {
          "output_type": "display_data",
          "data": {
            "application/javascript": [
              "window[\"117815ac-7953-11eb-b1d5-0242ac1c0002\"] = google.colab.output.setActiveOutputArea(window[\"117688b8-7953-11eb-b1d5-0242ac1c0002\"]);\n",
              "//# sourceURL=js_f499bdacd0"
            ],
            "text/plain": [
              "<IPython.core.display.Javascript object>"
            ]
          },
          "metadata": {
            "tags": [
              "id6-1-0",
              "outputarea_id6"
            ]
          }
        },
        {
          "output_type": "display_data",
          "data": {
            "application/javascript": [
              "window[\"1179b844-7953-11eb-b1d5-0242ac1c0002\"] = google.colab.output.getActiveOutputArea();\n",
              "//# sourceURL=js_ac518ebcc5"
            ],
            "text/plain": [
              "<IPython.core.display.Javascript object>"
            ]
          },
          "metadata": {
            "tags": [
              "id6-2-0",
              "outputarea_id6"
            ]
          }
        },
        {
          "output_type": "display_data",
          "data": {
            "application/javascript": [
              "window[\"117a11f4-7953-11eb-b1d5-0242ac1c0002\"] = document.querySelector(\"#id6-2-0\");\n",
              "//# sourceURL=js_5ffe2a798e"
            ],
            "text/plain": [
              "<IPython.core.display.Javascript object>"
            ]
          },
          "metadata": {
            "tags": [
              "id6-2-0",
              "outputarea_id6"
            ]
          }
        },
        {
          "output_type": "display_data",
          "data": {
            "application/javascript": [
              "window[\"117a6398-7953-11eb-b1d5-0242ac1c0002\"] = google.colab.output.setActiveOutputArea(window[\"117a11f4-7953-11eb-b1d5-0242ac1c0002\"]);\n",
              "//# sourceURL=js_9385681c1d"
            ],
            "text/plain": [
              "<IPython.core.display.Javascript object>"
            ]
          },
          "metadata": {
            "tags": [
              "id6-2-0",
              "outputarea_id6"
            ]
          }
        },
        {
          "output_type": "stream",
          "text": [
            "Average reward per episode\n"
          ],
          "name": "stdout"
        },
        {
          "output_type": "display_data",
          "data": {
            "application/javascript": [
              "window[\"117b2e7c-7953-11eb-b1d5-0242ac1c0002\"] = google.colab.output.setActiveOutputArea(window[\"1179b844-7953-11eb-b1d5-0242ac1c0002\"]);\n",
              "//# sourceURL=js_42283f6582"
            ],
            "text/plain": [
              "<IPython.core.display.Javascript object>"
            ]
          },
          "metadata": {
            "tags": [
              "id6-2-0",
              "outputarea_id6"
            ]
          }
        },
        {
          "output_type": "display_data",
          "data": {
            "application/javascript": [
              "window[\"117c23a4-7953-11eb-b1d5-0242ac1c0002\"] = google.colab.output.getActiveOutputArea();\n",
              "//# sourceURL=js_46c2bde53f"
            ],
            "text/plain": [
              "<IPython.core.display.Javascript object>"
            ]
          },
          "metadata": {
            "tags": [
              "id6-3-0",
              "outputarea_id6"
            ]
          }
        },
        {
          "output_type": "display_data",
          "data": {
            "application/javascript": [
              "window[\"117c9712-7953-11eb-b1d5-0242ac1c0002\"] = document.querySelector(\"#id6-3-0\");\n",
              "//# sourceURL=js_9f1a23ea47"
            ],
            "text/plain": [
              "<IPython.core.display.Javascript object>"
            ]
          },
          "metadata": {
            "tags": [
              "id6-3-0",
              "outputarea_id6"
            ]
          }
        },
        {
          "output_type": "display_data",
          "data": {
            "application/javascript": [
              "window[\"117ccb38-7953-11eb-b1d5-0242ac1c0002\"] = google.colab.output.setActiveOutputArea(window[\"117c9712-7953-11eb-b1d5-0242ac1c0002\"]);\n",
              "//# sourceURL=js_81239c6296"
            ],
            "text/plain": [
              "<IPython.core.display.Javascript object>"
            ]
          },
          "metadata": {
            "tags": [
              "id6-3-0",
              "outputarea_id6"
            ]
          }
        },
        {
          "output_type": "stream",
          "text": [
            "Epsilon decay\n"
          ],
          "name": "stdout"
        },
        {
          "output_type": "display_data",
          "data": {
            "application/javascript": [
              "window[\"117d86ae-7953-11eb-b1d5-0242ac1c0002\"] = google.colab.output.setActiveOutputArea(window[\"117c23a4-7953-11eb-b1d5-0242ac1c0002\"]);\n",
              "//# sourceURL=js_b009e23880"
            ],
            "text/plain": [
              "<IPython.core.display.Javascript object>"
            ]
          },
          "metadata": {
            "tags": [
              "id6-3-0",
              "outputarea_id6"
            ]
          }
        },
        {
          "output_type": "display_data",
          "data": {
            "application/javascript": [
              "window[\"117e881a-7953-11eb-b1d5-0242ac1c0002\"] = google.colab.output.getActiveOutputArea();\n",
              "//# sourceURL=js_88fc81a087"
            ],
            "text/plain": [
              "<IPython.core.display.Javascript object>"
            ]
          },
          "metadata": {
            "tags": [
              "id6-4-0",
              "outputarea_id6"
            ]
          }
        },
        {
          "output_type": "display_data",
          "data": {
            "application/javascript": [
              "window[\"117ef02a-7953-11eb-b1d5-0242ac1c0002\"] = document.querySelector(\"#id6-4-0\");\n",
              "//# sourceURL=js_a001f3009c"
            ],
            "text/plain": [
              "<IPython.core.display.Javascript object>"
            ]
          },
          "metadata": {
            "tags": [
              "id6-4-0",
              "outputarea_id6"
            ]
          }
        },
        {
          "output_type": "display_data",
          "data": {
            "application/javascript": [
              "window[\"117f2e6e-7953-11eb-b1d5-0242ac1c0002\"] = google.colab.output.setActiveOutputArea(window[\"117ef02a-7953-11eb-b1d5-0242ac1c0002\"]);\n",
              "//# sourceURL=js_2e6c44bba5"
            ],
            "text/plain": [
              "<IPython.core.display.Javascript object>"
            ]
          },
          "metadata": {
            "tags": [
              "id6-4-0",
              "outputarea_id6"
            ]
          }
        },
        {
          "output_type": "stream",
          "text": [
            "Average number of timesteps per episode\n"
          ],
          "name": "stdout"
        },
        {
          "output_type": "display_data",
          "data": {
            "application/javascript": [
              "window[\"11802170-7953-11eb-b1d5-0242ac1c0002\"] = google.colab.output.setActiveOutputArea(window[\"117e881a-7953-11eb-b1d5-0242ac1c0002\"]);\n",
              "//# sourceURL=js_aea5c7888f"
            ],
            "text/plain": [
              "<IPython.core.display.Javascript object>"
            ]
          },
          "metadata": {
            "tags": [
              "id6-4-0",
              "outputarea_id6"
            ]
          }
        },
        {
          "output_type": "display_data",
          "data": {
            "application/javascript": [
              "window[\"11811dbe-7953-11eb-b1d5-0242ac1c0002\"] = google.colab.output.getActiveOutputArea();\n",
              "//# sourceURL=js_d17b5dc39a"
            ],
            "text/plain": [
              "<IPython.core.display.Javascript object>"
            ]
          },
          "metadata": {
            "tags": [
              "id6-5-0",
              "outputarea_id6"
            ]
          }
        },
        {
          "output_type": "display_data",
          "data": {
            "application/javascript": [
              "window[\"11814df2-7953-11eb-b1d5-0242ac1c0002\"] = document.querySelector(\"#id6-5-0\");\n",
              "//# sourceURL=js_d4a99a7fe4"
            ],
            "text/plain": [
              "<IPython.core.display.Javascript object>"
            ]
          },
          "metadata": {
            "tags": [
              "id6-5-0",
              "outputarea_id6"
            ]
          }
        },
        {
          "output_type": "display_data",
          "data": {
            "application/javascript": [
              "window[\"11817b92-7953-11eb-b1d5-0242ac1c0002\"] = google.colab.output.setActiveOutputArea(window[\"11814df2-7953-11eb-b1d5-0242ac1c0002\"]);\n",
              "//# sourceURL=js_36d476cf92"
            ],
            "text/plain": [
              "<IPython.core.display.Javascript object>"
            ]
          },
          "metadata": {
            "tags": [
              "id6-5-0",
              "outputarea_id6"
            ]
          }
        },
        {
          "output_type": "stream",
          "text": [
            "Average number of times agent \n",
            "receives penalty per episode\n"
          ],
          "name": "stdout"
        },
        {
          "output_type": "display_data",
          "data": {
            "application/javascript": [
              "window[\"118250ee-7953-11eb-b1d5-0242ac1c0002\"] = google.colab.output.setActiveOutputArea(window[\"11811dbe-7953-11eb-b1d5-0242ac1c0002\"]);\n",
              "//# sourceURL=js_d239424d8c"
            ],
            "text/plain": [
              "<IPython.core.display.Javascript object>"
            ]
          },
          "metadata": {
            "tags": [
              "id6-5-0",
              "outputarea_id6"
            ]
          }
        },
        {
          "output_type": "display_data",
          "data": {
            "application/javascript": [
              "window[\"1183701e-7953-11eb-b1d5-0242ac1c0002\"] = google.colab.output.getActiveOutputArea();\n",
              "//# sourceURL=js_caaec2dcaa"
            ],
            "text/plain": [
              "<IPython.core.display.Javascript object>"
            ]
          },
          "metadata": {
            "tags": [
              "id6-6-0",
              "outputarea_id6"
            ]
          }
        },
        {
          "output_type": "display_data",
          "data": {
            "application/javascript": [
              "window[\"1183a494-7953-11eb-b1d5-0242ac1c0002\"] = document.querySelector(\"#id6-6-0\");\n",
              "//# sourceURL=js_226d8530f3"
            ],
            "text/plain": [
              "<IPython.core.display.Javascript object>"
            ]
          },
          "metadata": {
            "tags": [
              "id6-6-0",
              "outputarea_id6"
            ]
          }
        },
        {
          "output_type": "display_data",
          "data": {
            "application/javascript": [
              "window[\"11842216-7953-11eb-b1d5-0242ac1c0002\"] = google.colab.output.setActiveOutputArea(window[\"1183a494-7953-11eb-b1d5-0242ac1c0002\"]);\n",
              "//# sourceURL=js_81d7281e2d"
            ],
            "text/plain": [
              "<IPython.core.display.Javascript object>"
            ]
          },
          "metadata": {
            "tags": [
              "id6-6-0",
              "outputarea_id6"
            ]
          }
        },
        {
          "output_type": "stream",
          "text": [
            "Percentage of goal achievements by \n",
            "agent for every 100 episodes\n"
          ],
          "name": "stdout"
        },
        {
          "output_type": "display_data",
          "data": {
            "application/javascript": [
              "window[\"1184dc2e-7953-11eb-b1d5-0242ac1c0002\"] = google.colab.output.setActiveOutputArea(window[\"1183701e-7953-11eb-b1d5-0242ac1c0002\"]);\n",
              "//# sourceURL=js_fdb9476729"
            ],
            "text/plain": [
              "<IPython.core.display.Javascript object>"
            ]
          },
          "metadata": {
            "tags": [
              "id6-6-0",
              "outputarea_id6"
            ]
          }
        },
        {
          "output_type": "display_data",
          "data": {
            "application/javascript": [
              "window[\"1185db7e-7953-11eb-b1d5-0242ac1c0002\"] = google.colab.output.getActiveOutputArea();\n",
              "//# sourceURL=js_47a0b94580"
            ],
            "text/plain": [
              "<IPython.core.display.Javascript object>"
            ]
          },
          "metadata": {
            "tags": [
              "id6-0-1",
              "outputarea_id6"
            ]
          }
        },
        {
          "output_type": "display_data",
          "data": {
            "application/javascript": [
              "window[\"118654c8-7953-11eb-b1d5-0242ac1c0002\"] = document.querySelector(\"#id6-0-1\");\n",
              "//# sourceURL=js_248b054adf"
            ],
            "text/plain": [
              "<IPython.core.display.Javascript object>"
            ]
          },
          "metadata": {
            "tags": [
              "id6-0-1",
              "outputarea_id6"
            ]
          }
        },
        {
          "output_type": "display_data",
          "data": {
            "application/javascript": [
              "window[\"11868416-7953-11eb-b1d5-0242ac1c0002\"] = google.colab.output.setActiveOutputArea(window[\"118654c8-7953-11eb-b1d5-0242ac1c0002\"]);\n",
              "//# sourceURL=js_3b06d8f7cc"
            ],
            "text/plain": [
              "<IPython.core.display.Javascript object>"
            ]
          },
          "metadata": {
            "tags": [
              "id6-0-1",
              "outputarea_id6"
            ]
          }
        },
        {
          "output_type": "stream",
          "text": [
            "Performance of Q-learning agent in \n",
            "Deterministic Environment\n"
          ],
          "name": "stdout"
        },
        {
          "output_type": "display_data",
          "data": {
            "application/javascript": [
              "window[\"11871b2e-7953-11eb-b1d5-0242ac1c0002\"] = google.colab.output.setActiveOutputArea(window[\"1185db7e-7953-11eb-b1d5-0242ac1c0002\"]);\n",
              "//# sourceURL=js_a557dd098a"
            ],
            "text/plain": [
              "<IPython.core.display.Javascript object>"
            ]
          },
          "metadata": {
            "tags": [
              "id6-0-1",
              "outputarea_id6"
            ]
          }
        },
        {
          "output_type": "display_data",
          "data": {
            "application/javascript": [
              "window[\"11881b0a-7953-11eb-b1d5-0242ac1c0002\"] = google.colab.output.getActiveOutputArea();\n",
              "//# sourceURL=js_edb762df58"
            ],
            "text/plain": [
              "<IPython.core.display.Javascript object>"
            ]
          },
          "metadata": {
            "tags": [
              "id6-1-1",
              "outputarea_id6"
            ]
          }
        },
        {
          "output_type": "display_data",
          "data": {
            "application/javascript": [
              "window[\"1188a868-7953-11eb-b1d5-0242ac1c0002\"] = document.querySelector(\"#id6-1-1\");\n",
              "//# sourceURL=js_6f34792856"
            ],
            "text/plain": [
              "<IPython.core.display.Javascript object>"
            ]
          },
          "metadata": {
            "tags": [
              "id6-1-1",
              "outputarea_id6"
            ]
          }
        },
        {
          "output_type": "display_data",
          "data": {
            "application/javascript": [
              "window[\"1188da18-7953-11eb-b1d5-0242ac1c0002\"] = google.colab.output.setActiveOutputArea(window[\"1188a868-7953-11eb-b1d5-0242ac1c0002\"]);\n",
              "//# sourceURL=js_3e978b6522"
            ],
            "text/plain": [
              "<IPython.core.display.Javascript object>"
            ]
          },
          "metadata": {
            "tags": [
              "id6-1-1",
              "outputarea_id6"
            ]
          }
        },
        {
          "output_type": "display_data",
          "data": {
            "image/png": "[encoded data removed]",
            "text/plain": [
              "<Figure size 432x288 with 1 Axes>"
            ]
          },
          "metadata": {
            "tags": [
              "id6-1-1",
              "outputarea_id6",
              "user_output"
            ],
            "needs_background": "light"
          }
        },
        {
          "output_type": "display_data",
          "data": {
            "application/javascript": [
              "window[\"11b3253e-7953-11eb-b1d5-0242ac1c0002\"] = google.colab.output.setActiveOutputArea(window[\"11881b0a-7953-11eb-b1d5-0242ac1c0002\"]);\n",
              "//# sourceURL=js_613535680d"
            ],
            "text/plain": [
              "<IPython.core.display.Javascript object>"
            ]
          },
          "metadata": {
            "tags": [
              "id6-1-1",
              "outputarea_id6"
            ]
          }
        },
        {
          "output_type": "display_data",
          "data": {
            "application/javascript": [
              "window[\"11b44a72-7953-11eb-b1d5-0242ac1c0002\"] = google.colab.output.getActiveOutputArea();\n",
              "//# sourceURL=js_4ad1bc2ab3"
            ],
            "text/plain": [
              "<IPython.core.display.Javascript object>"
            ]
          },
          "metadata": {
            "tags": [
              "id6-2-1",
              "outputarea_id6"
            ]
          }
        },
        {
          "output_type": "display_data",
          "data": {
            "application/javascript": [
              "window[\"11b47fe2-7953-11eb-b1d5-0242ac1c0002\"] = document.querySelector(\"#id6-2-1\");\n",
              "//# sourceURL=js_0531a6d419"
            ],
            "text/plain": [
              "<IPython.core.display.Javascript object>"
            ]
          },
          "metadata": {
            "tags": [
              "id6-2-1",
              "outputarea_id6"
            ]
          }
        },
        {
          "output_type": "display_data",
          "data": {
            "application/javascript": [
              "window[\"11b4c402-7953-11eb-b1d5-0242ac1c0002\"] = google.colab.output.setActiveOutputArea(window[\"11b47fe2-7953-11eb-b1d5-0242ac1c0002\"]);\n",
              "//# sourceURL=js_7406b39d05"
            ],
            "text/plain": [
              "<IPython.core.display.Javascript object>"
            ]
          },
          "metadata": {
            "tags": [
              "id6-2-1",
              "outputarea_id6"
            ]
          }
        },
        {
          "output_type": "display_data",
          "data": {
            "image/png": "[encoded data removed]",
            "text/plain": [
              "<Figure size 432x288 with 1 Axes>"
            ]
          },
          "metadata": {
            "tags": [
              "id6-2-1",
              "outputarea_id6",
              "user_output"
            ],
            "needs_background": "light"
          }
        },
        {
          "output_type": "display_data",
          "data": {
            "application/javascript": [
              "window[\"11cca766-7953-11eb-b1d5-0242ac1c0002\"] = google.colab.output.setActiveOutputArea(window[\"11b44a72-7953-11eb-b1d5-0242ac1c0002\"]);\n",
              "//# sourceURL=js_a4deab5c46"
            ],
            "text/plain": [
              "<IPython.core.display.Javascript object>"
            ]
          },
          "metadata": {
            "tags": [
              "id6-2-1",
              "outputarea_id6"
            ]
          }
        },
        {
          "output_type": "display_data",
          "data": {
            "application/javascript": [
              "window[\"11cdba16-7953-11eb-b1d5-0242ac1c0002\"] = google.colab.output.getActiveOutputArea();\n",
              "//# sourceURL=js_cc52c2a213"
            ],
            "text/plain": [
              "<IPython.core.display.Javascript object>"
            ]
          },
          "metadata": {
            "tags": [
              "id6-3-1",
              "outputarea_id6"
            ]
          }
        },
        {
          "output_type": "display_data",
          "data": {
            "application/javascript": [
              "window[\"11cdeaa4-7953-11eb-b1d5-0242ac1c0002\"] = document.querySelector(\"#id6-3-1\");\n",
              "//# sourceURL=js_7d2f40568e"
            ],
            "text/plain": [
              "<IPython.core.display.Javascript object>"
            ]
          },
          "metadata": {
            "tags": [
              "id6-3-1",
              "outputarea_id6"
            ]
          }
        },
        {
          "output_type": "display_data",
          "data": {
            "application/javascript": [
              "window[\"11ce22e4-7953-11eb-b1d5-0242ac1c0002\"] = google.colab.output.setActiveOutputArea(window[\"11cdeaa4-7953-11eb-b1d5-0242ac1c0002\"]);\n",
              "//# sourceURL=js_330d6bb01d"
            ],
            "text/plain": [
              "<IPython.core.display.Javascript object>"
            ]
          },
          "metadata": {
            "tags": [
              "id6-3-1",
              "outputarea_id6"
            ]
          }
        },
        {
          "output_type": "display_data",
          "data": {
            "image/png": "[encoded data removed]",
            "text/plain": [
              "<Figure size 432x288 with 1 Axes>"
            ]
          },
          "metadata": {
            "tags": [
              "id6-3-1",
              "outputarea_id6",
              "user_output"
            ],
            "needs_background": "light"
          }
        },
        {
          "output_type": "display_data",
          "data": {
            "application/javascript": [
              "window[\"11e69b44-7953-11eb-b1d5-0242ac1c0002\"] = google.colab.output.setActiveOutputArea(window[\"11cdba16-7953-11eb-b1d5-0242ac1c0002\"]);\n",
              "//# sourceURL=js_d502269ef9"
            ],
            "text/plain": [
              "<IPython.core.display.Javascript object>"
            ]
          },
          "metadata": {
            "tags": [
              "id6-3-1",
              "outputarea_id6"
            ]
          }
        },
        {
          "output_type": "display_data",
          "data": {
            "application/javascript": [
              "window[\"11e7c03c-7953-11eb-b1d5-0242ac1c0002\"] = google.colab.output.getActiveOutputArea();\n",
              "//# sourceURL=js_f45e0328ac"
            ],
            "text/plain": [
              "<IPython.core.display.Javascript object>"
            ]
          },
          "metadata": {
            "tags": [
              "id6-4-1",
              "outputarea_id6"
            ]
          }
        },
        {
          "output_type": "display_data",
          "data": {
            "application/javascript": [
              "window[\"11e7fba6-7953-11eb-b1d5-0242ac1c0002\"] = document.querySelector(\"#id6-4-1\");\n",
              "//# sourceURL=js_8b4e09fe0d"
            ],
            "text/plain": [
              "<IPython.core.display.Javascript object>"
            ]
          },
          "metadata": {
            "tags": [
              "id6-4-1",
              "outputarea_id6"
            ]
          }
        },
        {
          "output_type": "display_data",
          "data": {
            "application/javascript": [
              "window[\"11e83562-7953-11eb-b1d5-0242ac1c0002\"] = google.colab.output.setActiveOutputArea(window[\"11e7fba6-7953-11eb-b1d5-0242ac1c0002\"]);\n",
              "//# sourceURL=js_f583562111"
            ],
            "text/plain": [
              "<IPython.core.display.Javascript object>"
            ]
          },
          "metadata": {
            "tags": [
              "id6-4-1",
              "outputarea_id6"
            ]
          }
        },
        {
          "output_type": "stream",
          "text": [
            "42.003\n"
          ],
          "name": "stdout"
        },
        {
          "output_type": "display_data",
          "data": {
            "application/javascript": [
              "window[\"11e91b1c-7953-11eb-b1d5-0242ac1c0002\"] = google.colab.output.setActiveOutputArea(window[\"11e7c03c-7953-11eb-b1d5-0242ac1c0002\"]);\n",
              "//# sourceURL=js_3cad85765d"
            ],
            "text/plain": [
              "<IPython.core.display.Javascript object>"
            ]
          },
          "metadata": {
            "tags": [
              "id6-4-1",
              "outputarea_id6"
            ]
          }
        },
        {
          "output_type": "display_data",
          "data": {
            "application/javascript": [
              "window[\"11ea56e4-7953-11eb-b1d5-0242ac1c0002\"] = google.colab.output.getActiveOutputArea();\n",
              "//# sourceURL=js_8c7cd146df"
            ],
            "text/plain": [
              "<IPython.core.display.Javascript object>"
            ]
          },
          "metadata": {
            "tags": [
              "id6-5-1",
              "outputarea_id6"
            ]
          }
        },
        {
          "output_type": "display_data",
          "data": {
            "application/javascript": [
              "window[\"11ea9780-7953-11eb-b1d5-0242ac1c0002\"] = document.querySelector(\"#id6-5-1\");\n",
              "//# sourceURL=js_7aea6cf9ad"
            ],
            "text/plain": [
              "<IPython.core.display.Javascript object>"
            ]
          },
          "metadata": {
            "tags": [
              "id6-5-1",
              "outputarea_id6"
            ]
          }
        },
        {
          "output_type": "display_data",
          "data": {
            "application/javascript": [
              "window[\"11ead718-7953-11eb-b1d5-0242ac1c0002\"] = google.colab.output.setActiveOutputArea(window[\"11ea9780-7953-11eb-b1d5-0242ac1c0002\"]);\n",
              "//# sourceURL=js_f2e1a91b39"
            ],
            "text/plain": [
              "<IPython.core.display.Javascript object>"
            ]
          },
          "metadata": {
            "tags": [
              "id6-5-1",
              "outputarea_id6"
            ]
          }
        },
        {
          "output_type": "stream",
          "text": [
            "0.074\n"
          ],
          "name": "stdout"
        },
        {
          "output_type": "display_data",
          "data": {
            "application/javascript": [
              "window[\"11ebc4de-7953-11eb-b1d5-0242ac1c0002\"] = google.colab.output.setActiveOutputArea(window[\"11ea56e4-7953-11eb-b1d5-0242ac1c0002\"]);\n",
              "//# sourceURL=js_06c46fafb0"
            ],
            "text/plain": [
              "<IPython.core.display.Javascript object>"
            ]
          },
          "metadata": {
            "tags": [
              "id6-5-1",
              "outputarea_id6"
            ]
          }
        },
        {
          "output_type": "display_data",
          "data": {
            "application/javascript": [
              "window[\"11ece72e-7953-11eb-b1d5-0242ac1c0002\"] = google.colab.output.getActiveOutputArea();\n",
              "//# sourceURL=js_9273bcc059"
            ],
            "text/plain": [
              "<IPython.core.display.Javascript object>"
            ]
          },
          "metadata": {
            "tags": [
              "id6-6-1",
              "outputarea_id6"
            ]
          }
        },
        {
          "output_type": "display_data",
          "data": {
            "application/javascript": [
              "window[\"11ed14f6-7953-11eb-b1d5-0242ac1c0002\"] = document.querySelector(\"#id6-6-1\");\n",
              "//# sourceURL=js_8108991014"
            ],
            "text/plain": [
              "<IPython.core.display.Javascript object>"
            ]
          },
          "metadata": {
            "tags": [
              "id6-6-1",
              "outputarea_id6"
            ]
          }
        },
        {
          "output_type": "display_data",
          "data": {
            "application/javascript": [
              "window[\"11ed4f3e-7953-11eb-b1d5-0242ac1c0002\"] = google.colab.output.setActiveOutputArea(window[\"11ed14f6-7953-11eb-b1d5-0242ac1c0002\"]);\n",
              "//# sourceURL=js_80b52e6954"
            ],
            "text/plain": [
              "<IPython.core.display.Javascript object>"
            ]
          },
          "metadata": {
            "tags": [
              "id6-6-1",
              "outputarea_id6"
            ]
          }
        },
        {
          "output_type": "stream",
          "text": [
            "Overall percentage of reaching the goal: 28.7\n"
          ],
          "name": "stdout"
        },
        {
          "output_type": "display_data",
          "data": {
            "image/png": "[encoded data removed]",
            "text/plain": [
              "<Figure size 432x288 with 1 Axes>"
            ]
          },
          "metadata": {
            "tags": [
              "id6-6-1",
              "outputarea_id6",
              "user_output"
            ],
            "needs_background": "light"
          }
        },
        {
          "output_type": "display_data",
          "data": {
            "application/javascript": [
              "window[\"1212adc4-7953-11eb-b1d5-0242ac1c0002\"] = google.colab.output.setActiveOutputArea(window[\"11ece72e-7953-11eb-b1d5-0242ac1c0002\"]);\n",
              "//# sourceURL=js_1c371415bd"
            ],
            "text/plain": [
              "<IPython.core.display.Javascript object>"
            ]
          },
          "metadata": {
            "tags": [
              "id6-6-1",
              "outputarea_id6"
            ]
          }
        },
        {
          "output_type": "display_data",
          "data": {
            "application/javascript": [
              "window[\"121549d0-7953-11eb-b1d5-0242ac1c0002\"] = google.colab.output.getActiveOutputArea();\n",
              "//# sourceURL=js_365059341e"
            ],
            "text/plain": [
              "<IPython.core.display.Javascript object>"
            ]
          },
          "metadata": {
            "tags": [
              "id6-0-2",
              "outputarea_id6"
            ]
          }
        },
        {
          "output_type": "display_data",
          "data": {
            "application/javascript": [
              "window[\"1215a272-7953-11eb-b1d5-0242ac1c0002\"] = document.querySelector(\"#id6-0-2\");\n",
              "//# sourceURL=js_4dc5b288fe"
            ],
            "text/plain": [
              "<IPython.core.display.Javascript object>"
            ]
          },
          "metadata": {
            "tags": [
              "id6-0-2",
              "outputarea_id6"
            ]
          }
        },
        {
          "output_type": "display_data",
          "data": {
            "application/javascript": [
              "window[\"1215f04c-7953-11eb-b1d5-0242ac1c0002\"] = google.colab.output.setActiveOutputArea(window[\"1215a272-7953-11eb-b1d5-0242ac1c0002\"]);\n",
              "//# sourceURL=js_5bea20d78f"
            ],
            "text/plain": [
              "<IPython.core.display.Javascript object>"
            ]
          },
          "metadata": {
            "tags": [
              "id6-0-2",
              "outputarea_id6"
            ]
          }
        },
        {
          "output_type": "stream",
          "text": [
            "Performance of Q-learning agent in \n",
            "Stochastic Environment\n"
          ],
          "name": "stdout"
        },
        {
          "output_type": "display_data",
          "data": {
            "application/javascript": [
              "window[\"12171a62-7953-11eb-b1d5-0242ac1c0002\"] = google.colab.output.setActiveOutputArea(window[\"121549d0-7953-11eb-b1d5-0242ac1c0002\"]);\n",
              "//# sourceURL=js_7bb2bba5e2"
            ],
            "text/plain": [
              "<IPython.core.display.Javascript object>"
            ]
          },
          "metadata": {
            "tags": [
              "id6-0-2",
              "outputarea_id6"
            ]
          }
        },
        {
          "output_type": "display_data",
          "data": {
            "application/javascript": [
              "window[\"1218ae7c-7953-11eb-b1d5-0242ac1c0002\"] = google.colab.output.getActiveOutputArea();\n",
              "//# sourceURL=js_59face9252"
            ],
            "text/plain": [
              "<IPython.core.display.Javascript object>"
            ]
          },
          "metadata": {
            "tags": [
              "id6-1-2",
              "outputarea_id6"
            ]
          }
        },
        {
          "output_type": "display_data",
          "data": {
            "application/javascript": [
              "window[\"12191222-7953-11eb-b1d5-0242ac1c0002\"] = document.querySelector(\"#id6-1-2\");\n",
              "//# sourceURL=js_21eaa29f89"
            ],
            "text/plain": [
              "<IPython.core.display.Javascript object>"
            ]
          },
          "metadata": {
            "tags": [
              "id6-1-2",
              "outputarea_id6"
            ]
          }
        },
        {
          "output_type": "display_data",
          "data": {
            "application/javascript": [
              "window[\"12195f8e-7953-11eb-b1d5-0242ac1c0002\"] = google.colab.output.setActiveOutputArea(window[\"12191222-7953-11eb-b1d5-0242ac1c0002\"]);\n",
              "//# sourceURL=js_e99377f0b5"
            ],
            "text/plain": [
              "<IPython.core.display.Javascript object>"
            ]
          },
          "metadata": {
            "tags": [
              "id6-1-2",
              "outputarea_id6"
            ]
          }
        },
        {
          "output_type": "display_data",
          "data": {
            "image/png": "[encoded data removed]",
            "text/plain": [
              "<Figure size 432x288 with 1 Axes>"
            ]
          },
          "metadata": {
            "tags": [
              "id6-1-2",
              "outputarea_id6",
              "user_output"
            ],
            "needs_background": "light"
          }
        },
        {
          "output_type": "display_data",
          "data": {
            "application/javascript": [
              "window[\"1237ff84-7953-11eb-b1d5-0242ac1c0002\"] = google.colab.output.setActiveOutputArea(window[\"1218ae7c-7953-11eb-b1d5-0242ac1c0002\"]);\n",
              "//# sourceURL=js_ff73dcb913"
            ],
            "text/plain": [
              "<IPython.core.display.Javascript object>"
            ]
          },
          "metadata": {
            "tags": [
              "id6-1-2",
              "outputarea_id6"
            ]
          }
        },
        {
          "output_type": "display_data",
          "data": {
            "application/javascript": [
              "window[\"123b3b18-7953-11eb-b1d5-0242ac1c0002\"] = google.colab.output.getActiveOutputArea();\n",
              "//# sourceURL=js_0155ff5c93"
            ],
            "text/plain": [
              "<IPython.core.display.Javascript object>"
            ]
          },
          "metadata": {
            "tags": [
              "id6-2-2",
              "outputarea_id6"
            ]
          }
        },
        {
          "output_type": "display_data",
          "data": {
            "application/javascript": [
              "window[\"123baaf8-7953-11eb-b1d5-0242ac1c0002\"] = document.querySelector(\"#id6-2-2\");\n",
              "//# sourceURL=js_69a70fbd63"
            ],
            "text/plain": [
              "<IPython.core.display.Javascript object>"
            ]
          },
          "metadata": {
            "tags": [
              "id6-2-2",
              "outputarea_id6"
            ]
          }
        },
        {
          "output_type": "display_data",
          "data": {
            "application/javascript": [
              "window[\"123d7522-7953-11eb-b1d5-0242ac1c0002\"] = google.colab.output.setActiveOutputArea(window[\"123baaf8-7953-11eb-b1d5-0242ac1c0002\"]);\n",
              "//# sourceURL=js_54a22ed661"
            ],
            "text/plain": [
              "<IPython.core.display.Javascript object>"
            ]
          },
          "metadata": {
            "tags": [
              "id6-2-2",
              "outputarea_id6"
            ]
          }
        },
        {
          "output_type": "display_data",
          "data": {
            "image/png": "[encoded data removed]",
            "text/plain": [
              "<Figure size 432x288 with 1 Axes>"
            ]
          },
          "metadata": {
            "tags": [
              "id6-2-2",
              "outputarea_id6",
              "user_output"
            ],
            "needs_background": "light"
          }
        },
        {
          "output_type": "display_data",
          "data": {
            "application/javascript": [
              "window[\"125d4d48-7953-11eb-b1d5-0242ac1c0002\"] = google.colab.output.setActiveOutputArea(window[\"123b3b18-7953-11eb-b1d5-0242ac1c0002\"]);\n",
              "//# sourceURL=js_785d603b40"
            ],
            "text/plain": [
              "<IPython.core.display.Javascript object>"
            ]
          },
          "metadata": {
            "tags": [
              "id6-2-2",
              "outputarea_id6"
            ]
          }
        },
        {
          "output_type": "display_data",
          "data": {
            "application/javascript": [
              "window[\"125e9d42-7953-11eb-b1d5-0242ac1c0002\"] = google.colab.output.getActiveOutputArea();\n",
              "//# sourceURL=js_04e74fbb93"
            ],
            "text/plain": [
              "<IPython.core.display.Javascript object>"
            ]
          },
          "metadata": {
            "tags": [
              "id6-3-2",
              "outputarea_id6"
            ]
          }
        },
        {
          "output_type": "display_data",
          "data": {
            "application/javascript": [
              "window[\"125ee2ca-7953-11eb-b1d5-0242ac1c0002\"] = document.querySelector(\"#id6-3-2\");\n",
              "//# sourceURL=js_2bc9c17f2a"
            ],
            "text/plain": [
              "<IPython.core.display.Javascript object>"
            ]
          },
          "metadata": {
            "tags": [
              "id6-3-2",
              "outputarea_id6"
            ]
          }
        },
        {
          "output_type": "display_data",
          "data": {
            "application/javascript": [
              "window[\"125f1b96-7953-11eb-b1d5-0242ac1c0002\"] = google.colab.output.setActiveOutputArea(window[\"125ee2ca-7953-11eb-b1d5-0242ac1c0002\"]);\n",
              "//# sourceURL=js_2630027b1d"
            ],
            "text/plain": [
              "<IPython.core.display.Javascript object>"
            ]
          },
          "metadata": {
            "tags": [
              "id6-3-2",
              "outputarea_id6"
            ]
          }
        },
        {
          "output_type": "display_data",
          "data": {
            "image/png": "[encoded data removed]",
            "text/plain": [
              "<Figure size 432x288 with 1 Axes>"
            ]
          },
          "metadata": {
            "tags": [
              "id6-3-2",
              "outputarea_id6",
              "user_output"
            ],
            "needs_background": "light"
          }
        },
        {
          "output_type": "display_data",
          "data": {
            "application/javascript": [
              "window[\"1279c84c-7953-11eb-b1d5-0242ac1c0002\"] = google.colab.output.setActiveOutputArea(window[\"125e9d42-7953-11eb-b1d5-0242ac1c0002\"]);\n",
              "//# sourceURL=js_c56ec5707b"
            ],
            "text/plain": [
              "<IPython.core.display.Javascript object>"
            ]
          },
          "metadata": {
            "tags": [
              "id6-3-2",
              "outputarea_id6"
            ]
          }
        },
        {
          "output_type": "display_data",
          "data": {
            "application/javascript": [
              "window[\"127b1fee-7953-11eb-b1d5-0242ac1c0002\"] = google.colab.output.getActiveOutputArea();\n",
              "//# sourceURL=js_8c52f0c01f"
            ],
            "text/plain": [
              "<IPython.core.display.Javascript object>"
            ]
          },
          "metadata": {
            "tags": [
              "id6-4-2",
              "outputarea_id6"
            ]
          }
        },
        {
          "output_type": "display_data",
          "data": {
            "application/javascript": [
              "window[\"127b59fa-7953-11eb-b1d5-0242ac1c0002\"] = document.querySelector(\"#id6-4-2\");\n",
              "//# sourceURL=js_e6de4a3b6f"
            ],
            "text/plain": [
              "<IPython.core.display.Javascript object>"
            ]
          },
          "metadata": {
            "tags": [
              "id6-4-2",
              "outputarea_id6"
            ]
          }
        },
        {
          "output_type": "display_data",
          "data": {
            "application/javascript": [
              "window[\"127b944c-7953-11eb-b1d5-0242ac1c0002\"] = google.colab.output.setActiveOutputArea(window[\"127b59fa-7953-11eb-b1d5-0242ac1c0002\"]);\n",
              "//# sourceURL=js_4cf7745a11"
            ],
            "text/plain": [
              "<IPython.core.display.Javascript object>"
            ]
          },
          "metadata": {
            "tags": [
              "id6-4-2",
              "outputarea_id6"
            ]
          }
        },
        {
          "output_type": "stream",
          "text": [
            "19.499\n"
          ],
          "name": "stdout"
        },
        {
          "output_type": "display_data",
          "data": {
            "application/javascript": [
              "window[\"127c71e6-7953-11eb-b1d5-0242ac1c0002\"] = google.colab.output.setActiveOutputArea(window[\"127b1fee-7953-11eb-b1d5-0242ac1c0002\"]);\n",
              "//# sourceURL=js_4e08b8e232"
            ],
            "text/plain": [
              "<IPython.core.display.Javascript object>"
            ]
          },
          "metadata": {
            "tags": [
              "id6-4-2",
              "outputarea_id6"
            ]
          }
        },
        {
          "output_type": "display_data",
          "data": {
            "application/javascript": [
              "window[\"127dcb18-7953-11eb-b1d5-0242ac1c0002\"] = google.colab.output.getActiveOutputArea();\n",
              "//# sourceURL=js_1bf765c84a"
            ],
            "text/plain": [
              "<IPython.core.display.Javascript object>"
            ]
          },
          "metadata": {
            "tags": [
              "id6-5-2",
              "outputarea_id6"
            ]
          }
        },
        {
          "output_type": "display_data",
          "data": {
            "application/javascript": [
              "window[\"127e1e24-7953-11eb-b1d5-0242ac1c0002\"] = document.querySelector(\"#id6-5-2\");\n",
              "//# sourceURL=js_a9491aa892"
            ],
            "text/plain": [
              "<IPython.core.display.Javascript object>"
            ]
          },
          "metadata": {
            "tags": [
              "id6-5-2",
              "outputarea_id6"
            ]
          }
        },
        {
          "output_type": "display_data",
          "data": {
            "application/javascript": [
              "window[\"127e6e4c-7953-11eb-b1d5-0242ac1c0002\"] = google.colab.output.setActiveOutputArea(window[\"127e1e24-7953-11eb-b1d5-0242ac1c0002\"]);\n",
              "//# sourceURL=js_c09a33eab5"
            ],
            "text/plain": [
              "<IPython.core.display.Javascript object>"
            ]
          },
          "metadata": {
            "tags": [
              "id6-5-2",
              "outputarea_id6"
            ]
          }
        },
        {
          "output_type": "stream",
          "text": [
            "0.257\n"
          ],
          "name": "stdout"
        },
        {
          "output_type": "display_data",
          "data": {
            "application/javascript": [
              "window[\"127f6c98-7953-11eb-b1d5-0242ac1c0002\"] = google.colab.output.setActiveOutputArea(window[\"127dcb18-7953-11eb-b1d5-0242ac1c0002\"]);\n",
              "//# sourceURL=js_e3e9e9f062"
            ],
            "text/plain": [
              "<IPython.core.display.Javascript object>"
            ]
          },
          "metadata": {
            "tags": [
              "id6-5-2",
              "outputarea_id6"
            ]
          }
        },
        {
          "output_type": "display_data",
          "data": {
            "application/javascript": [
              "window[\"1280db46-7953-11eb-b1d5-0242ac1c0002\"] = google.colab.output.getActiveOutputArea();\n",
              "//# sourceURL=js_0aa369ab23"
            ],
            "text/plain": [
              "<IPython.core.display.Javascript object>"
            ]
          },
          "metadata": {
            "tags": [
              "id6-6-2",
              "outputarea_id6"
            ]
          }
        },
        {
          "output_type": "display_data",
          "data": {
            "application/javascript": [
              "window[\"128115fc-7953-11eb-b1d5-0242ac1c0002\"] = document.querySelector(\"#id6-6-2\");\n",
              "//# sourceURL=js_400cf02954"
            ],
            "text/plain": [
              "<IPython.core.display.Javascript object>"
            ]
          },
          "metadata": {
            "tags": [
              "id6-6-2",
              "outputarea_id6"
            ]
          }
        },
        {
          "output_type": "display_data",
          "data": {
            "application/javascript": [
              "window[\"12814fd6-7953-11eb-b1d5-0242ac1c0002\"] = google.colab.output.setActiveOutputArea(window[\"128115fc-7953-11eb-b1d5-0242ac1c0002\"]);\n",
              "//# sourceURL=js_ac28554115"
            ],
            "text/plain": [
              "<IPython.core.display.Javascript object>"
            ]
          },
          "metadata": {
            "tags": [
              "id6-6-2",
              "outputarea_id6"
            ]
          }
        },
        {
          "output_type": "stream",
          "text": [
            "Overall percentage of reaching the goal: 93.8\n"
          ],
          "name": "stdout"
        },
        {
          "output_type": "display_data",
          "data": {
            "image/png": "[encoded data removed]",
            "text/plain": [
              "<Figure size 432x288 with 1 Axes>"
            ]
          },
          "metadata": {
            "tags": [
              "id6-6-2",
              "outputarea_id6",
              "user_output"
            ],
            "needs_background": "light"
          }
        },
        {
          "output_type": "display_data",
          "data": {
            "application/javascript": [
              "window[\"12aa9486-7953-11eb-b1d5-0242ac1c0002\"] = google.colab.output.setActiveOutputArea(window[\"1280db46-7953-11eb-b1d5-0242ac1c0002\"]);\n",
              "//# sourceURL=js_26cbd8bf20"
            ],
            "text/plain": [
              "<IPython.core.display.Javascript object>"
            ]
          },
          "metadata": {
            "tags": [
              "id6-6-2",
              "outputarea_id6"
            ]
          }
        },
        {
          "output_type": "display_data",
          "data": {
            "application/javascript": [
              "window[\"12ac986c-7953-11eb-b1d5-0242ac1c0002\"] = google.colab.output.getActiveOutputArea();\n",
              "//# sourceURL=js_543381c8c8"
            ],
            "text/plain": [
              "<IPython.core.display.Javascript object>"
            ]
          },
          "metadata": {
            "tags": [
              "id6-0-3",
              "outputarea_id6"
            ]
          }
        },
        {
          "output_type": "display_data",
          "data": {
            "application/javascript": [
              "window[\"12ad06da-7953-11eb-b1d5-0242ac1c0002\"] = document.querySelector(\"#id6-0-3\");\n",
              "//# sourceURL=js_bd1a226edf"
            ],
            "text/plain": [
              "<IPython.core.display.Javascript object>"
            ]
          },
          "metadata": {
            "tags": [
              "id6-0-3",
              "outputarea_id6"
            ]
          }
        },
        {
          "output_type": "display_data",
          "data": {
            "application/javascript": [
              "window[\"12ad4438-7953-11eb-b1d5-0242ac1c0002\"] = google.colab.output.setActiveOutputArea(window[\"12ad06da-7953-11eb-b1d5-0242ac1c0002\"]);\n",
              "//# sourceURL=js_5c8ce7df62"
            ],
            "text/plain": [
              "<IPython.core.display.Javascript object>"
            ]
          },
          "metadata": {
            "tags": [
              "id6-0-3",
              "outputarea_id6"
            ]
          }
        },
        {
          "output_type": "stream",
          "text": [
            "Performance of SARSA agent in \n",
            "Deterministic Environment\n"
          ],
          "name": "stdout"
        },
        {
          "output_type": "display_data",
          "data": {
            "application/javascript": [
              "window[\"12ae39c4-7953-11eb-b1d5-0242ac1c0002\"] = google.colab.output.setActiveOutputArea(window[\"12ac986c-7953-11eb-b1d5-0242ac1c0002\"]);\n",
              "//# sourceURL=js_97f737a3ca"
            ],
            "text/plain": [
              "<IPython.core.display.Javascript object>"
            ]
          },
          "metadata": {
            "tags": [
              "id6-0-3",
              "outputarea_id6"
            ]
          }
        },
        {
          "output_type": "display_data",
          "data": {
            "application/javascript": [
              "window[\"12af7f46-7953-11eb-b1d5-0242ac1c0002\"] = google.colab.output.getActiveOutputArea();\n",
              "//# sourceURL=js_0ea152b447"
            ],
            "text/plain": [
              "<IPython.core.display.Javascript object>"
            ]
          },
          "metadata": {
            "tags": [
              "id6-1-3",
              "outputarea_id6"
            ]
          }
        },
        {
          "output_type": "display_data",
          "data": {
            "application/javascript": [
              "window[\"12afcadc-7953-11eb-b1d5-0242ac1c0002\"] = document.querySelector(\"#id6-1-3\");\n",
              "//# sourceURL=js_a5f17a7690"
            ],
            "text/plain": [
              "<IPython.core.display.Javascript object>"
            ]
          },
          "metadata": {
            "tags": [
              "id6-1-3",
              "outputarea_id6"
            ]
          }
        },
        {
          "output_type": "display_data",
          "data": {
            "application/javascript": [
              "window[\"12b01686-7953-11eb-b1d5-0242ac1c0002\"] = google.colab.output.setActiveOutputArea(window[\"12afcadc-7953-11eb-b1d5-0242ac1c0002\"]);\n",
              "//# sourceURL=js_f8b924b5db"
            ],
            "text/plain": [
              "<IPython.core.display.Javascript object>"
            ]
          },
          "metadata": {
            "tags": [
              "id6-1-3",
              "outputarea_id6"
            ]
          }
        },
        {
          "output_type": "display_data",
          "data": {
            "image/png": "[encoded data removed]",
            "text/plain": [
              "<Figure size 432x288 with 1 Axes>"
            ]
          },
          "metadata": {
            "tags": [
              "id6-1-3",
              "outputarea_id6",
              "user_output"
            ],
            "needs_background": "light"
          }
        },
        {
          "output_type": "display_data",
          "data": {
            "application/javascript": [
              "window[\"12cdd810-7953-11eb-b1d5-0242ac1c0002\"] = google.colab.output.setActiveOutputArea(window[\"12af7f46-7953-11eb-b1d5-0242ac1c0002\"]);\n",
              "//# sourceURL=js_6116f59815"
            ],
            "text/plain": [
              "<IPython.core.display.Javascript object>"
            ]
          },
          "metadata": {
            "tags": [
              "id6-1-3",
              "outputarea_id6"
            ]
          }
        },
        {
          "output_type": "display_data",
          "data": {
            "application/javascript": [
              "window[\"12cf1f54-7953-11eb-b1d5-0242ac1c0002\"] = google.colab.output.getActiveOutputArea();\n",
              "//# sourceURL=js_9c202278c3"
            ],
            "text/plain": [
              "<IPython.core.display.Javascript object>"
            ]
          },
          "metadata": {
            "tags": [
              "id6-2-3",
              "outputarea_id6"
            ]
          }
        },
        {
          "output_type": "display_data",
          "data": {
            "application/javascript": [
              "window[\"12cf5b04-7953-11eb-b1d5-0242ac1c0002\"] = document.querySelector(\"#id6-2-3\");\n",
              "//# sourceURL=js_3fc930e3d5"
            ],
            "text/plain": [
              "<IPython.core.display.Javascript object>"
            ]
          },
          "metadata": {
            "tags": [
              "id6-2-3",
              "outputarea_id6"
            ]
          }
        },
        {
          "output_type": "display_data",
          "data": {
            "application/javascript": [
              "window[\"12cf9c9a-7953-11eb-b1d5-0242ac1c0002\"] = google.colab.output.setActiveOutputArea(window[\"12cf5b04-7953-11eb-b1d5-0242ac1c0002\"]);\n",
              "//# sourceURL=js_3a897211f3"
            ],
            "text/plain": [
              "<IPython.core.display.Javascript object>"
            ]
          },
          "metadata": {
            "tags": [
              "id6-2-3",
              "outputarea_id6"
            ]
          }
        },
        {
          "output_type": "display_data",
          "data": {
            "image/png": "[encoded data removed]",
            "text/plain": [
              "<Figure size 432x288 with 1 Axes>"
            ]
          },
          "metadata": {
            "tags": [
              "id6-2-3",
              "outputarea_id6",
              "user_output"
            ],
            "needs_background": "light"
          }
        },
        {
          "output_type": "display_data",
          "data": {
            "application/javascript": [
              "window[\"12ea5986-7953-11eb-b1d5-0242ac1c0002\"] = google.colab.output.setActiveOutputArea(window[\"12cf1f54-7953-11eb-b1d5-0242ac1c0002\"]);\n",
              "//# sourceURL=js_4fb2868bbe"
            ],
            "text/plain": [
              "<IPython.core.display.Javascript object>"
            ]
          },
          "metadata": {
            "tags": [
              "id6-2-3",
              "outputarea_id6"
            ]
          }
        },
        {
          "output_type": "display_data",
          "data": {
            "application/javascript": [
              "window[\"12eb8fe0-7953-11eb-b1d5-0242ac1c0002\"] = google.colab.output.getActiveOutputArea();\n",
              "//# sourceURL=js_4c451f532c"
            ],
            "text/plain": [
              "<IPython.core.display.Javascript object>"
            ]
          },
          "metadata": {
            "tags": [
              "id6-3-3",
              "outputarea_id6"
            ]
          }
        },
        {
          "output_type": "display_data",
          "data": {
            "application/javascript": [
              "window[\"12ebc6ae-7953-11eb-b1d5-0242ac1c0002\"] = document.querySelector(\"#id6-3-3\");\n",
              "//# sourceURL=js_d5861167f2"
            ],
            "text/plain": [
              "<IPython.core.display.Javascript object>"
            ]
          },
          "metadata": {
            "tags": [
              "id6-3-3",
              "outputarea_id6"
            ]
          }
        },
        {
          "output_type": "display_data",
          "data": {
            "application/javascript": [
              "window[\"12ebfdb8-7953-11eb-b1d5-0242ac1c0002\"] = google.colab.output.setActiveOutputArea(window[\"12ebc6ae-7953-11eb-b1d5-0242ac1c0002\"]);\n",
              "//# sourceURL=js_70e8cf359f"
            ],
            "text/plain": [
              "<IPython.core.display.Javascript object>"
            ]
          },
          "metadata": {
            "tags": [
              "id6-3-3",
              "outputarea_id6"
            ]
          }
        },
        {
          "output_type": "display_data",
          "data": {
            "image/png": "[encoded data removed]",
            "text/plain": [
              "<Figure size 432x288 with 1 Axes>"
            ]
          },
          "metadata": {
            "tags": [
              "id6-3-3",
              "outputarea_id6",
              "user_output"
            ],
            "needs_background": "light"
          }
        },
        {
          "output_type": "display_data",
          "data": {
            "application/javascript": [
              "window[\"1305bf82-7953-11eb-b1d5-0242ac1c0002\"] = google.colab.output.setActiveOutputArea(window[\"12eb8fe0-7953-11eb-b1d5-0242ac1c0002\"]);\n",
              "//# sourceURL=js_385661f48d"
            ],
            "text/plain": [
              "<IPython.core.display.Javascript object>"
            ]
          },
          "metadata": {
            "tags": [
              "id6-3-3",
              "outputarea_id6"
            ]
          }
        },
        {
          "output_type": "display_data",
          "data": {
            "application/javascript": [
              "window[\"1306ea06-7953-11eb-b1d5-0242ac1c0002\"] = google.colab.output.getActiveOutputArea();\n",
              "//# sourceURL=js_15ee8f75c5"
            ],
            "text/plain": [
              "<IPython.core.display.Javascript object>"
            ]
          },
          "metadata": {
            "tags": [
              "id6-4-3",
              "outputarea_id6"
            ]
          }
        },
        {
          "output_type": "display_data",
          "data": {
            "application/javascript": [
              "window[\"130725ac-7953-11eb-b1d5-0242ac1c0002\"] = document.querySelector(\"#id6-4-3\");\n",
              "//# sourceURL=js_04ae65cc35"
            ],
            "text/plain": [
              "<IPython.core.display.Javascript object>"
            ]
          },
          "metadata": {
            "tags": [
              "id6-4-3",
              "outputarea_id6"
            ]
          }
        },
        {
          "output_type": "display_data",
          "data": {
            "application/javascript": [
              "window[\"13075950-7953-11eb-b1d5-0242ac1c0002\"] = google.colab.output.setActiveOutputArea(window[\"130725ac-7953-11eb-b1d5-0242ac1c0002\"]);\n",
              "//# sourceURL=js_953d338259"
            ],
            "text/plain": [
              "<IPython.core.display.Javascript object>"
            ]
          },
          "metadata": {
            "tags": [
              "id6-4-3",
              "outputarea_id6"
            ]
          }
        },
        {
          "output_type": "stream",
          "text": [
            "10.491\n"
          ],
          "name": "stdout"
        },
        {
          "output_type": "display_data",
          "data": {
            "application/javascript": [
              "window[\"130833c0-7953-11eb-b1d5-0242ac1c0002\"] = google.colab.output.setActiveOutputArea(window[\"1306ea06-7953-11eb-b1d5-0242ac1c0002\"]);\n",
              "//# sourceURL=js_05c8f244d4"
            ],
            "text/plain": [
              "<IPython.core.display.Javascript object>"
            ]
          },
          "metadata": {
            "tags": [
              "id6-4-3",
              "outputarea_id6"
            ]
          }
        },
        {
          "output_type": "display_data",
          "data": {
            "application/javascript": [
              "window[\"13096452-7953-11eb-b1d5-0242ac1c0002\"] = google.colab.output.getActiveOutputArea();\n",
              "//# sourceURL=js_91cfa5781d"
            ],
            "text/plain": [
              "<IPython.core.display.Javascript object>"
            ]
          },
          "metadata": {
            "tags": [
              "id6-5-3",
              "outputarea_id6"
            ]
          }
        },
        {
          "output_type": "display_data",
          "data": {
            "application/javascript": [
              "window[\"1309a7a0-7953-11eb-b1d5-0242ac1c0002\"] = document.querySelector(\"#id6-5-3\");\n",
              "//# sourceURL=js_666cd9d7b3"
            ],
            "text/plain": [
              "<IPython.core.display.Javascript object>"
            ]
          },
          "metadata": {
            "tags": [
              "id6-5-3",
              "outputarea_id6"
            ]
          }
        },
        {
          "output_type": "display_data",
          "data": {
            "application/javascript": [
              "window[\"1309dd60-7953-11eb-b1d5-0242ac1c0002\"] = google.colab.output.setActiveOutputArea(window[\"1309a7a0-7953-11eb-b1d5-0242ac1c0002\"]);\n",
              "//# sourceURL=js_43510534dd"
            ],
            "text/plain": [
              "<IPython.core.display.Javascript object>"
            ]
          },
          "metadata": {
            "tags": [
              "id6-5-3",
              "outputarea_id6"
            ]
          }
        },
        {
          "output_type": "stream",
          "text": [
            "0.06\n"
          ],
          "name": "stdout"
        },
        {
          "output_type": "display_data",
          "data": {
            "application/javascript": [
              "window[\"130ab032-7953-11eb-b1d5-0242ac1c0002\"] = google.colab.output.setActiveOutputArea(window[\"13096452-7953-11eb-b1d5-0242ac1c0002\"]);\n",
              "//# sourceURL=js_520c9575a4"
            ],
            "text/plain": [
              "<IPython.core.display.Javascript object>"
            ]
          },
          "metadata": {
            "tags": [
              "id6-5-3",
              "outputarea_id6"
            ]
          }
        },
        {
          "output_type": "display_data",
          "data": {
            "application/javascript": [
              "window[\"130bf848-7953-11eb-b1d5-0242ac1c0002\"] = google.colab.output.getActiveOutputArea();\n",
              "//# sourceURL=js_e35b77b733"
            ],
            "text/plain": [
              "<IPython.core.display.Javascript object>"
            ]
          },
          "metadata": {
            "tags": [
              "id6-6-3",
              "outputarea_id6"
            ]
          }
        },
        {
          "output_type": "display_data",
          "data": {
            "application/javascript": [
              "window[\"130c2692-7953-11eb-b1d5-0242ac1c0002\"] = document.querySelector(\"#id6-6-3\");\n",
              "//# sourceURL=js_43423c1f7c"
            ],
            "text/plain": [
              "<IPython.core.display.Javascript object>"
            ]
          },
          "metadata": {
            "tags": [
              "id6-6-3",
              "outputarea_id6"
            ]
          }
        },
        {
          "output_type": "display_data",
          "data": {
            "application/javascript": [
              "window[\"130c6030-7953-11eb-b1d5-0242ac1c0002\"] = google.colab.output.setActiveOutputArea(window[\"130c2692-7953-11eb-b1d5-0242ac1c0002\"]);\n",
              "//# sourceURL=js_653bd5ab82"
            ],
            "text/plain": [
              "<IPython.core.display.Javascript object>"
            ]
          },
          "metadata": {
            "tags": [
              "id6-6-3",
              "outputarea_id6"
            ]
          }
        },
        {
          "output_type": "stream",
          "text": [
            "Overall percentage of reaching the goal: 98.4\n"
          ],
          "name": "stdout"
        },
        {
          "output_type": "display_data",
          "data": {
            "image/png": "[encoded data removed]",
            "text/plain": [
              "<Figure size 432x288 with 1 Axes>"
            ]
          },
          "metadata": {
            "tags": [
              "id6-6-3",
              "outputarea_id6",
              "user_output"
            ],
            "needs_background": "light"
          }
        },
        {
          "output_type": "display_data",
          "data": {
            "application/javascript": [
              "window[\"133899e8-7953-11eb-b1d5-0242ac1c0002\"] = google.colab.output.setActiveOutputArea(window[\"130bf848-7953-11eb-b1d5-0242ac1c0002\"]);\n",
              "//# sourceURL=js_b44a3c43c7"
            ],
            "text/plain": [
              "<IPython.core.display.Javascript object>"
            ]
          },
          "metadata": {
            "tags": [
              "id6-6-3",
              "outputarea_id6"
            ]
          }
        },
        {
          "output_type": "display_data",
          "data": {
            "application/javascript": [
              "window[\"133b2f6e-7953-11eb-b1d5-0242ac1c0002\"] = google.colab.output.getActiveOutputArea();\n",
              "//# sourceURL=js_f120f4fb14"
            ],
            "text/plain": [
              "<IPython.core.display.Javascript object>"
            ]
          },
          "metadata": {
            "tags": [
              "id6-0-4",
              "outputarea_id6"
            ]
          }
        },
        {
          "output_type": "display_data",
          "data": {
            "application/javascript": [
              "window[\"133b9fbc-7953-11eb-b1d5-0242ac1c0002\"] = document.querySelector(\"#id6-0-4\");\n",
              "//# sourceURL=js_ac10d9f9c4"
            ],
            "text/plain": [
              "<IPython.core.display.Javascript object>"
            ]
          },
          "metadata": {
            "tags": [
              "id6-0-4",
              "outputarea_id6"
            ]
          }
        },
        {
          "output_type": "display_data",
          "data": {
            "application/javascript": [
              "window[\"133c2220-7953-11eb-b1d5-0242ac1c0002\"] = google.colab.output.setActiveOutputArea(window[\"133b9fbc-7953-11eb-b1d5-0242ac1c0002\"]);\n",
              "//# sourceURL=js_6602fa76fb"
            ],
            "text/plain": [
              "<IPython.core.display.Javascript object>"
            ]
          },
          "metadata": {
            "tags": [
              "id6-0-4",
              "outputarea_id6"
            ]
          }
        },
        {
          "output_type": "stream",
          "text": [
            "Performance of SARSA agent in \n",
            "Stochastic Environment\n"
          ],
          "name": "stdout"
        },
        {
          "output_type": "display_data",
          "data": {
            "application/javascript": [
              "window[\"133db414-7953-11eb-b1d5-0242ac1c0002\"] = google.colab.output.setActiveOutputArea(window[\"133b2f6e-7953-11eb-b1d5-0242ac1c0002\"]);\n",
              "//# sourceURL=js_a575644260"
            ],
            "text/plain": [
              "<IPython.core.display.Javascript object>"
            ]
          },
          "metadata": {
            "tags": [
              "id6-0-4",
              "outputarea_id6"
            ]
          }
        },
        {
          "output_type": "display_data",
          "data": {
            "application/javascript": [
              "window[\"133f87b2-7953-11eb-b1d5-0242ac1c0002\"] = google.colab.output.getActiveOutputArea();\n",
              "//# sourceURL=js_8dfdad6282"
            ],
            "text/plain": [
              "<IPython.core.display.Javascript object>"
            ]
          },
          "metadata": {
            "tags": [
              "id6-1-4",
              "outputarea_id6"
            ]
          }
        },
        {
          "output_type": "display_data",
          "data": {
            "application/javascript": [
              "window[\"133fdb4a-7953-11eb-b1d5-0242ac1c0002\"] = document.querySelector(\"#id6-1-4\");\n",
              "//# sourceURL=js_02b1058219"
            ],
            "text/plain": [
              "<IPython.core.display.Javascript object>"
            ]
          },
          "metadata": {
            "tags": [
              "id6-1-4",
              "outputarea_id6"
            ]
          }
        },
        {
          "output_type": "display_data",
          "data": {
            "application/javascript": [
              "window[\"13404c74-7953-11eb-b1d5-0242ac1c0002\"] = google.colab.output.setActiveOutputArea(window[\"133fdb4a-7953-11eb-b1d5-0242ac1c0002\"]);\n",
              "//# sourceURL=js_0033dedddc"
            ],
            "text/plain": [
              "<IPython.core.display.Javascript object>"
            ]
          },
          "metadata": {
            "tags": [
              "id6-1-4",
              "outputarea_id6"
            ]
          }
        },
        {
          "output_type": "display_data",
          "data": {
            "image/png": "[encoded data removed]",
            "text/plain": [
              "<Figure size 432x288 with 1 Axes>"
            ]
          },
          "metadata": {
            "tags": [
              "id6-1-4",
              "outputarea_id6",
              "user_output"
            ],
            "needs_background": "light"
          }
        },
        {
          "output_type": "display_data",
          "data": {
            "application/javascript": [
              "window[\"135e7302-7953-11eb-b1d5-0242ac1c0002\"] = google.colab.output.setActiveOutputArea(window[\"133f87b2-7953-11eb-b1d5-0242ac1c0002\"]);\n",
              "//# sourceURL=js_bfccc56224"
            ],
            "text/plain": [
              "<IPython.core.display.Javascript object>"
            ]
          },
          "metadata": {
            "tags": [
              "id6-1-4",
              "outputarea_id6"
            ]
          }
        },
        {
          "output_type": "display_data",
          "data": {
            "application/javascript": [
              "window[\"135f9b56-7953-11eb-b1d5-0242ac1c0002\"] = google.colab.output.getActiveOutputArea();\n",
              "//# sourceURL=js_c88b0e3de6"
            ],
            "text/plain": [
              "<IPython.core.display.Javascript object>"
            ]
          },
          "metadata": {
            "tags": [
              "id6-2-4",
              "outputarea_id6"
            ]
          }
        },
        {
          "output_type": "display_data",
          "data": {
            "application/javascript": [
              "window[\"135fd5e4-7953-11eb-b1d5-0242ac1c0002\"] = document.querySelector(\"#id6-2-4\");\n",
              "//# sourceURL=js_18d0964575"
            ],
            "text/plain": [
              "<IPython.core.display.Javascript object>"
            ]
          },
          "metadata": {
            "tags": [
              "id6-2-4",
              "outputarea_id6"
            ]
          }
        },
        {
          "output_type": "display_data",
          "data": {
            "application/javascript": [
              "window[\"13600d48-7953-11eb-b1d5-0242ac1c0002\"] = google.colab.output.setActiveOutputArea(window[\"135fd5e4-7953-11eb-b1d5-0242ac1c0002\"]);\n",
              "//# sourceURL=js_40827da5b8"
            ],
            "text/plain": [
              "<IPython.core.display.Javascript object>"
            ]
          },
          "metadata": {
            "tags": [
              "id6-2-4",
              "outputarea_id6"
            ]
          }
        },
        {
          "output_type": "display_data",
          "data": {
            "image/png": "[encoded data removed]",
            "text/plain": [
              "<Figure size 432x288 with 1 Axes>"
            ]
          },
          "metadata": {
            "tags": [
              "id6-2-4",
              "outputarea_id6",
              "user_output"
            ],
            "needs_background": "light"
          }
        },
        {
          "output_type": "display_data",
          "data": {
            "application/javascript": [
              "window[\"137dc5a4-7953-11eb-b1d5-0242ac1c0002\"] = google.colab.output.setActiveOutputArea(window[\"135f9b56-7953-11eb-b1d5-0242ac1c0002\"]);\n",
              "//# sourceURL=js_e41a28bf86"
            ],
            "text/plain": [
              "<IPython.core.display.Javascript object>"
            ]
          },
          "metadata": {
            "tags": [
              "id6-2-4",
              "outputarea_id6"
            ]
          }
        },
        {
          "output_type": "display_data",
          "data": {
            "application/javascript": [
              "window[\"13802fb0-7953-11eb-b1d5-0242ac1c0002\"] = google.colab.output.getActiveOutputArea();\n",
              "//# sourceURL=js_d61748679d"
            ],
            "text/plain": [
              "<IPython.core.display.Javascript object>"
            ]
          },
          "metadata": {
            "tags": [
              "id6-3-4",
              "outputarea_id6"
            ]
          }
        },
        {
          "output_type": "display_data",
          "data": {
            "application/javascript": [
              "window[\"1380bc3c-7953-11eb-b1d5-0242ac1c0002\"] = document.querySelector(\"#id6-3-4\");\n",
              "//# sourceURL=js_175d338dfb"
            ],
            "text/plain": [
              "<IPython.core.display.Javascript object>"
            ]
          },
          "metadata": {
            "tags": [
              "id6-3-4",
              "outputarea_id6"
            ]
          }
        },
        {
          "output_type": "display_data",
          "data": {
            "application/javascript": [
              "window[\"13813144-7953-11eb-b1d5-0242ac1c0002\"] = google.colab.output.setActiveOutputArea(window[\"1380bc3c-7953-11eb-b1d5-0242ac1c0002\"]);\n",
              "//# sourceURL=js_4f34a8ecf5"
            ],
            "text/plain": [
              "<IPython.core.display.Javascript object>"
            ]
          },
          "metadata": {
            "tags": [
              "id6-3-4",
              "outputarea_id6"
            ]
          }
        },
        {
          "output_type": "display_data",
          "data": {
            "image/png": "[encoded data removed]",
            "text/plain": [
              "<Figure size 432x288 with 1 Axes>"
            ]
          },
          "metadata": {
            "tags": [
              "id6-3-4",
              "outputarea_id6",
              "user_output"
            ],
            "needs_background": "light"
          }
        },
        {
          "output_type": "display_data",
          "data": {
            "application/javascript": [
              "window[\"139c86c4-7953-11eb-b1d5-0242ac1c0002\"] = google.colab.output.setActiveOutputArea(window[\"13802fb0-7953-11eb-b1d5-0242ac1c0002\"]);\n",
              "//# sourceURL=js_583da8feb9"
            ],
            "text/plain": [
              "<IPython.core.display.Javascript object>"
            ]
          },
          "metadata": {
            "tags": [
              "id6-3-4",
              "outputarea_id6"
            ]
          }
        },
        {
          "output_type": "display_data",
          "data": {
            "application/javascript": [
              "window[\"139dc6a6-7953-11eb-b1d5-0242ac1c0002\"] = google.colab.output.getActiveOutputArea();\n",
              "//# sourceURL=js_a571142823"
            ],
            "text/plain": [
              "<IPython.core.display.Javascript object>"
            ]
          },
          "metadata": {
            "tags": [
              "id6-4-4",
              "outputarea_id6"
            ]
          }
        },
        {
          "output_type": "display_data",
          "data": {
            "application/javascript": [
              "window[\"139e0206-7953-11eb-b1d5-0242ac1c0002\"] = document.querySelector(\"#id6-4-4\");\n",
              "//# sourceURL=js_3d3997bdb7"
            ],
            "text/plain": [
              "<IPython.core.display.Javascript object>"
            ]
          },
          "metadata": {
            "tags": [
              "id6-4-4",
              "outputarea_id6"
            ]
          }
        },
        {
          "output_type": "display_data",
          "data": {
            "application/javascript": [
              "window[\"139e3a78-7953-11eb-b1d5-0242ac1c0002\"] = google.colab.output.setActiveOutputArea(window[\"139e0206-7953-11eb-b1d5-0242ac1c0002\"]);\n",
              "//# sourceURL=js_3ffae3d77d"
            ],
            "text/plain": [
              "<IPython.core.display.Javascript object>"
            ]
          },
          "metadata": {
            "tags": [
              "id6-4-4",
              "outputarea_id6"
            ]
          }
        },
        {
          "output_type": "stream",
          "text": [
            "19.601\n"
          ],
          "name": "stdout"
        },
        {
          "output_type": "display_data",
          "data": {
            "application/javascript": [
              "window[\"139f0fca-7953-11eb-b1d5-0242ac1c0002\"] = google.colab.output.setActiveOutputArea(window[\"139dc6a6-7953-11eb-b1d5-0242ac1c0002\"]);\n",
              "//# sourceURL=js_44ac246ea3"
            ],
            "text/plain": [
              "<IPython.core.display.Javascript object>"
            ]
          },
          "metadata": {
            "tags": [
              "id6-4-4",
              "outputarea_id6"
            ]
          }
        },
        {
          "output_type": "display_data",
          "data": {
            "application/javascript": [
              "window[\"13a03274-7953-11eb-b1d5-0242ac1c0002\"] = google.colab.output.getActiveOutputArea();\n",
              "//# sourceURL=js_6bade74e69"
            ],
            "text/plain": [
              "<IPython.core.display.Javascript object>"
            ]
          },
          "metadata": {
            "tags": [
              "id6-5-4",
              "outputarea_id6"
            ]
          }
        },
        {
          "output_type": "display_data",
          "data": {
            "application/javascript": [
              "window[\"13a067ee-7953-11eb-b1d5-0242ac1c0002\"] = document.querySelector(\"#id6-5-4\");\n",
              "//# sourceURL=js_1cbe48c160"
            ],
            "text/plain": [
              "<IPython.core.display.Javascript object>"
            ]
          },
          "metadata": {
            "tags": [
              "id6-5-4",
              "outputarea_id6"
            ]
          }
        },
        {
          "output_type": "display_data",
          "data": {
            "application/javascript": [
              "window[\"13a0a484-7953-11eb-b1d5-0242ac1c0002\"] = google.colab.output.setActiveOutputArea(window[\"13a067ee-7953-11eb-b1d5-0242ac1c0002\"]);\n",
              "//# sourceURL=js_b2c5bec14e"
            ],
            "text/plain": [
              "<IPython.core.display.Javascript object>"
            ]
          },
          "metadata": {
            "tags": [
              "id6-5-4",
              "outputarea_id6"
            ]
          }
        },
        {
          "output_type": "stream",
          "text": [
            "0.212\n"
          ],
          "name": "stdout"
        },
        {
          "output_type": "display_data",
          "data": {
            "application/javascript": [
              "window[\"13a17b66-7953-11eb-b1d5-0242ac1c0002\"] = google.colab.output.setActiveOutputArea(window[\"13a03274-7953-11eb-b1d5-0242ac1c0002\"]);\n",
              "//# sourceURL=js_d85f5d7526"
            ],
            "text/plain": [
              "<IPython.core.display.Javascript object>"
            ]
          },
          "metadata": {
            "tags": [
              "id6-5-4",
              "outputarea_id6"
            ]
          }
        },
        {
          "output_type": "display_data",
          "data": {
            "application/javascript": [
              "window[\"13a2af22-7953-11eb-b1d5-0242ac1c0002\"] = google.colab.output.getActiveOutputArea();\n",
              "//# sourceURL=js_0c90d0b045"
            ],
            "text/plain": [
              "<IPython.core.display.Javascript object>"
            ]
          },
          "metadata": {
            "tags": [
              "id6-6-4",
              "outputarea_id6"
            ]
          }
        },
        {
          "output_type": "display_data",
          "data": {
            "application/javascript": [
              "window[\"13a2e212-7953-11eb-b1d5-0242ac1c0002\"] = document.querySelector(\"#id6-6-4\");\n",
              "//# sourceURL=js_de7bc3a062"
            ],
            "text/plain": [
              "<IPython.core.display.Javascript object>"
            ]
          },
          "metadata": {
            "tags": [
              "id6-6-4",
              "outputarea_id6"
            ]
          }
        },
        {
          "output_type": "display_data",
          "data": {
            "application/javascript": [
              "window[\"13a31caa-7953-11eb-b1d5-0242ac1c0002\"] = google.colab.output.setActiveOutputArea(window[\"13a2e212-7953-11eb-b1d5-0242ac1c0002\"]);\n",
              "//# sourceURL=js_aa885a21df"
            ],
            "text/plain": [
              "<IPython.core.display.Javascript object>"
            ]
          },
          "metadata": {
            "tags": [
              "id6-6-4",
              "outputarea_id6"
            ]
          }
        },
        {
          "output_type": "stream",
          "text": [
            "Overall percentage of reaching the goal: 93.3\n"
          ],
          "name": "stdout"
        },
        {
          "output_type": "display_data",
          "data": {
            "image/png": "[encoded data removed]",
            "text/plain": [
              "<Figure size 432x288 with 1 Axes>"
            ]
          },
          "metadata": {
            "tags": [
              "id6-6-4",
              "outputarea_id6",
              "user_output"
            ],
            "needs_background": "light"
          }
        },
        {
          "output_type": "display_data",
          "data": {
            "application/javascript": [
              "window[\"13cef622-7953-11eb-b1d5-0242ac1c0002\"] = google.colab.output.setActiveOutputArea(window[\"13a2af22-7953-11eb-b1d5-0242ac1c0002\"]);\n",
              "//# sourceURL=js_c5b7d1cfcc"
            ],
            "text/plain": [
              "<IPython.core.display.Javascript object>"
            ]
          },
          "metadata": {
            "tags": [
              "id6-6-4",
              "outputarea_id6"
            ]
          }
        }
      ]
    },
    {
      "cell_type": "markdown",
      "metadata": {
        "id": "gQWFfdkJ7njD"
      },
      "source": [
        "#### **Report**\n",
        "\n",
        "1. **Cummulative reward earned per episode** \\\n",
        "Deterministic environment (DE): Stays high beyond 600 or so episodes as the agent learns to always uses the same path to goal. \\\n",
        "Stochastic environment (SE): Stays unstable because of the inherent stochasticity of the environment and also because of the epsilon value that is set to 1.0, meaning higher tendency to explore rather than exploit.\n",
        "2. **Average reward per episode** \\\n",
        "The average reward er episode rises as expected over 1000 episodes, but in SE, the agent starts to return higher reward earlier than in DE, as the agent by chance finds a better path to get to goal.\n",
        "3. **Average number of timesteps per episode** \\\n",
        "Agent in DE, on average, takes more timesteps to reach the goal that in SE\n",
        "4. **Average number of times agent receives penalty per episode** \\\n",
        "Agent in SE tends to step on penalty state more than when in DE because the state exploration happens at random.\n",
        "5. **Percentage of goal achievement by the agent for every 100 episodes** \\\n",
        "Agent in SE has a higher percentage of achieving the goal when compared to when in DE."
      ]
    },
    {
      "cell_type": "markdown",
      "metadata": {
        "id": "0x8tIfHiWaC0"
      },
      "source": [
        "## Hyperparameter Tuning"
      ]
    },
    {
      "cell_type": "markdown",
      "metadata": {
        "id": "xYQiplSrjTTD"
      },
      "source": [
        "**Tuning parameter:** Discount Rate ($\\gamma$)\n"
      ]
    },
    {
      "cell_type": "code",
      "metadata": {
        "colab": {
          "base_uri": "https://localhost:8080/",
          "height": 299
        },
        "id": "hJ27-zwtXYyD",
        "outputId": "ae1d51c5-a8c8-4fe1-dd44-7e4b0a3d4d04"
      },
      "source": [
        "index= 0\n",
        "discounts= [0.9, 0.66, 0.33]\n",
        "grid= widgets.Grid(1, len(discounts))\n",
        "\n",
        "for each_discount in discounts:\n",
        "  environment= DeterministicEnvironment()\n",
        "  Q_agent= QLearningAgent(env= environment, discount_rate= each_discount)\n",
        "\n",
        "  reward_list= list()\n",
        "  for each_episode in range(1000):\n",
        "    state= environment.reset()\n",
        "    done= False\n",
        "    reward_per_episode= 0\n",
        "\n",
        "    while not done:\n",
        "      action= Q_agent.step(state= state)\n",
        "      next_state, reward, done, info= environment.step(action= action)\n",
        "      Q_agent.train(experience= (state, action, next_state, reward, done))\n",
        "      state= next_state\n",
        "\n",
        "      reward_per_episode += reward\n",
        "    \n",
        "    reward_list.append(reward_per_episode)\n",
        "\n",
        "  with grid.output_to(0, index):\n",
        "    plt.title('Cummulative reward per episode')\n",
        "    plt.plot(reward_list)\n",
        "    plt.xlabel('Episodes')\n",
        "    plt.ylabel('Reward')\n",
        "  index += 1"
      ],
      "execution_count": 28,
      "outputs": [
        {
          "output_type": "display_data",
          "data": {
            "text/html": [
              "<style>\n",
              "       table#id8, #id8 > tbody > tr > th, #id8 > tbody > tr > td {\n",
              "         border: 1px solid lightgray;\n",
              "         border-collapse:collapse;\n",
              "         \n",
              "        }</style>"
            ],
            "text/plain": [
              "<IPython.core.display.HTML object>"
            ]
          },
          "metadata": {
            "tags": [
              "outputarea_id8"
            ]
          }
        },
        {
          "output_type": "display_data",
          "data": {
            "text/html": [
              "<table id=id8><tr><td id=id8-0-0></td><td id=id8-0-1></td><td id=id8-0-2></td></tr></table>"
            ],
            "text/plain": [
              "<IPython.core.display.HTML object>"
            ]
          },
          "metadata": {
            "tags": [
              "outputarea_id8"
            ]
          }
        },
        {
          "output_type": "display_data",
          "data": {
            "application/javascript": [
              "window[\"15ea9cc2-7953-11eb-b1d5-0242ac1c0002\"] = google.colab.output.getActiveOutputArea();\n",
              "//# sourceURL=js_28a177e42f"
            ],
            "text/plain": [
              "<IPython.core.display.Javascript object>"
            ]
          },
          "metadata": {
            "tags": [
              "id8-0-0",
              "outputarea_id8"
            ]
          }
        },
        {
          "output_type": "display_data",
          "data": {
            "application/javascript": [
              "window[\"15eb185a-7953-11eb-b1d5-0242ac1c0002\"] = document.querySelector(\"#id8-0-0\");\n",
              "//# sourceURL=js_5003d5e5dc"
            ],
            "text/plain": [
              "<IPython.core.display.Javascript object>"
            ]
          },
          "metadata": {
            "tags": [
              "id8-0-0",
              "outputarea_id8"
            ]
          }
        },
        {
          "output_type": "display_data",
          "data": {
            "application/javascript": [
              "window[\"15eb7ce6-7953-11eb-b1d5-0242ac1c0002\"] = google.colab.output.setActiveOutputArea(window[\"15eb185a-7953-11eb-b1d5-0242ac1c0002\"]);\n",
              "//# sourceURL=js_8a1e02353f"
            ],
            "text/plain": [
              "<IPython.core.display.Javascript object>"
            ]
          },
          "metadata": {
            "tags": [
              "id8-0-0",
              "outputarea_id8"
            ]
          }
        },
        {
          "output_type": "display_data",
          "data": {
            "image/png": "[encoded data removed]",
            "text/plain": [
              "<Figure size 432x288 with 1 Axes>"
            ]
          },
          "metadata": {
            "tags": [
              "id8-0-0",
              "outputarea_id8",
              "user_output"
            ],
            "needs_background": "light"
          }
        },
        {
          "output_type": "display_data",
          "data": {
            "application/javascript": [
              "window[\"1609f978-7953-11eb-b1d5-0242ac1c0002\"] = google.colab.output.setActiveOutputArea(window[\"15ea9cc2-7953-11eb-b1d5-0242ac1c0002\"]);\n",
              "//# sourceURL=js_5e9cca1678"
            ],
            "text/plain": [
              "<IPython.core.display.Javascript object>"
            ]
          },
          "metadata": {
            "tags": [
              "id8-0-0",
              "outputarea_id8"
            ]
          }
        },
        {
          "output_type": "display_data",
          "data": {
            "application/javascript": [
              "window[\"1821e770-7953-11eb-b1d5-0242ac1c0002\"] = google.colab.output.getActiveOutputArea();\n",
              "//# sourceURL=js_cdf50d1aa1"
            ],
            "text/plain": [
              "<IPython.core.display.Javascript object>"
            ]
          },
          "metadata": {
            "tags": [
              "id8-0-1",
              "outputarea_id8"
            ]
          }
        },
        {
          "output_type": "display_data",
          "data": {
            "application/javascript": [
              "window[\"18224f12-7953-11eb-b1d5-0242ac1c0002\"] = document.querySelector(\"#id8-0-1\");\n",
              "//# sourceURL=js_1fbb3998a7"
            ],
            "text/plain": [
              "<IPython.core.display.Javascript object>"
            ]
          },
          "metadata": {
            "tags": [
              "id8-0-1",
              "outputarea_id8"
            ]
          }
        },
        {
          "output_type": "display_data",
          "data": {
            "application/javascript": [
              "window[\"18232e64-7953-11eb-b1d5-0242ac1c0002\"] = google.colab.output.setActiveOutputArea(window[\"18224f12-7953-11eb-b1d5-0242ac1c0002\"]);\n",
              "//# sourceURL=js_760c222668"
            ],
            "text/plain": [
              "<IPython.core.display.Javascript object>"
            ]
          },
          "metadata": {
            "tags": [
              "id8-0-1",
              "outputarea_id8"
            ]
          }
        },
        {
          "output_type": "display_data",
          "data": {
            "image/png": "[encoded data removed]",
            "text/plain": [
              "<Figure size 432x288 with 1 Axes>"
            ]
          },
          "metadata": {
            "tags": [
              "id8-0-1",
              "outputarea_id8",
              "user_output"
            ],
            "needs_background": "light"
          }
        },
        {
          "output_type": "display_data",
          "data": {
            "application/javascript": [
              "window[\"183ab6ec-7953-11eb-b1d5-0242ac1c0002\"] = google.colab.output.setActiveOutputArea(window[\"1821e770-7953-11eb-b1d5-0242ac1c0002\"]);\n",
              "//# sourceURL=js_1154952c39"
            ],
            "text/plain": [
              "<IPython.core.display.Javascript object>"
            ]
          },
          "metadata": {
            "tags": [
              "id8-0-1",
              "outputarea_id8"
            ]
          }
        },
        {
          "output_type": "display_data",
          "data": {
            "application/javascript": [
              "window[\"1a5467d4-7953-11eb-b1d5-0242ac1c0002\"] = google.colab.output.getActiveOutputArea();\n",
              "//# sourceURL=js_4c704621db"
            ],
            "text/plain": [
              "<IPython.core.display.Javascript object>"
            ]
          },
          "metadata": {
            "tags": [
              "id8-0-2",
              "outputarea_id8"
            ]
          }
        },
        {
          "output_type": "display_data",
          "data": {
            "application/javascript": [
              "window[\"1a54a9d8-7953-11eb-b1d5-0242ac1c0002\"] = document.querySelector(\"#id8-0-2\");\n",
              "//# sourceURL=js_422bd8df34"
            ],
            "text/plain": [
              "<IPython.core.display.Javascript object>"
            ]
          },
          "metadata": {
            "tags": [
              "id8-0-2",
              "outputarea_id8"
            ]
          }
        },
        {
          "output_type": "display_data",
          "data": {
            "application/javascript": [
              "window[\"1a54efce-7953-11eb-b1d5-0242ac1c0002\"] = google.colab.output.setActiveOutputArea(window[\"1a54a9d8-7953-11eb-b1d5-0242ac1c0002\"]);\n",
              "//# sourceURL=js_7303f69fb3"
            ],
            "text/plain": [
              "<IPython.core.display.Javascript object>"
            ]
          },
          "metadata": {
            "tags": [
              "id8-0-2",
              "outputarea_id8"
            ]
          }
        },
        {
          "output_type": "display_data",
          "data": {
            "image/png": "[encoded data removed]",
            "text/plain": [
              "<Figure size 432x288 with 1 Axes>"
            ]
          },
          "metadata": {
            "tags": [
              "id8-0-2",
              "outputarea_id8",
              "user_output"
            ],
            "needs_background": "light"
          }
        },
        {
          "output_type": "display_data",
          "data": {
            "application/javascript": [
              "window[\"1a6ae234-7953-11eb-b1d5-0242ac1c0002\"] = google.colab.output.setActiveOutputArea(window[\"1a5467d4-7953-11eb-b1d5-0242ac1c0002\"]);\n",
              "//# sourceURL=js_f3e2a0674b"
            ],
            "text/plain": [
              "<IPython.core.display.Javascript object>"
            ]
          },
          "metadata": {
            "tags": [
              "id8-0-2",
              "outputarea_id8"
            ]
          }
        }
      ]
    },
    {
      "cell_type": "markdown",
      "metadata": {
        "id": "CkDx-oELjeM6"
      },
      "source": [
        "**Tuning Parameter:** Epsilon (Max/Min value)"
      ]
    },
    {
      "cell_type": "code",
      "metadata": {
        "colab": {
          "base_uri": "https://localhost:8080/",
          "height": 299
        },
        "id": "Ph6pVHRbWiF6",
        "outputId": "e66a1ad9-2934-41cf-b7c7-e897fc61c263"
      },
      "source": [
        "index= 0\n",
        "epsilons= [0.85, 0.42]\n",
        "grid= widgets.Grid(1, len(epsilons))\n",
        "\n",
        "for each_epsilon in epsilons:\n",
        "  environment= DeterministicEnvironment()\n",
        "  Q_agent= QLearningAgent(env= environment, epsilon= each_epsilon)\n",
        "\n",
        "  reward_list= list()\n",
        "  for each_episode in range(1000):\n",
        "    state= environment.reset()\n",
        "    done= False\n",
        "    reward_per_episode= 0\n",
        "\n",
        "    while not done:\n",
        "      action= Q_agent.step(state= state)\n",
        "      next_state, reward, done, info= environment.step(action= action)\n",
        "      Q_agent.train(experience= (state, action, next_state, reward, done))\n",
        "      state= next_state\n",
        "\n",
        "      reward_per_episode += reward\n",
        "    \n",
        "    reward_list.append(reward_per_episode)\n",
        "\n",
        "  with grid.output_to(0, index):\n",
        "    plt.title('Cummulative reward per episode')\n",
        "    plt.plot(reward_list)\n",
        "    plt.xlabel('Episodes')\n",
        "    plt.ylabel('Reward')\n",
        "  index += 1"
      ],
      "execution_count": 29,
      "outputs": [
        {
          "output_type": "display_data",
          "data": {
            "text/html": [
              "<style>\n",
              "       table#id10, #id10 > tbody > tr > th, #id10 > tbody > tr > td {\n",
              "         border: 1px solid lightgray;\n",
              "         border-collapse:collapse;\n",
              "         \n",
              "        }</style>"
            ],
            "text/plain": [
              "<IPython.core.display.HTML object>"
            ]
          },
          "metadata": {
            "tags": [
              "outputarea_id10"
            ]
          }
        },
        {
          "output_type": "display_data",
          "data": {
            "text/html": [
              "<table id=id10><tr><td id=id10-0-0></td><td id=id10-0-1></td></tr></table>"
            ],
            "text/plain": [
              "<IPython.core.display.HTML object>"
            ]
          },
          "metadata": {
            "tags": [
              "outputarea_id10"
            ]
          }
        },
        {
          "output_type": "display_data",
          "data": {
            "application/javascript": [
              "window[\"1c8fb5c6-7953-11eb-b1d5-0242ac1c0002\"] = google.colab.output.getActiveOutputArea();\n",
              "//# sourceURL=js_0ef5dcd5cd"
            ],
            "text/plain": [
              "<IPython.core.display.Javascript object>"
            ]
          },
          "metadata": {
            "tags": [
              "id10-0-0",
              "outputarea_id10"
            ]
          }
        },
        {
          "output_type": "display_data",
          "data": {
            "application/javascript": [
              "window[\"1c9065fc-7953-11eb-b1d5-0242ac1c0002\"] = document.querySelector(\"#id10-0-0\");\n",
              "//# sourceURL=js_db76038fd2"
            ],
            "text/plain": [
              "<IPython.core.display.Javascript object>"
            ]
          },
          "metadata": {
            "tags": [
              "id10-0-0",
              "outputarea_id10"
            ]
          }
        },
        {
          "output_type": "display_data",
          "data": {
            "application/javascript": [
              "window[\"1c90a8a0-7953-11eb-b1d5-0242ac1c0002\"] = google.colab.output.setActiveOutputArea(window[\"1c9065fc-7953-11eb-b1d5-0242ac1c0002\"]);\n",
              "//# sourceURL=js_24976a189a"
            ],
            "text/plain": [
              "<IPython.core.display.Javascript object>"
            ]
          },
          "metadata": {
            "tags": [
              "id10-0-0",
              "outputarea_id10"
            ]
          }
        },
        {
          "output_type": "display_data",
          "data": {
            "image/png": "[encoded data removed]",
            "text/plain": [
              "<Figure size 432x288 with 1 Axes>"
            ]
          },
          "metadata": {
            "tags": [
              "id10-0-0",
              "outputarea_id10",
              "user_output"
            ],
            "needs_background": "light"
          }
        },
        {
          "output_type": "display_data",
          "data": {
            "application/javascript": [
              "window[\"1ca677f2-7953-11eb-b1d5-0242ac1c0002\"] = google.colab.output.setActiveOutputArea(window[\"1c8fb5c6-7953-11eb-b1d5-0242ac1c0002\"]);\n",
              "//# sourceURL=js_3f67ef469d"
            ],
            "text/plain": [
              "<IPython.core.display.Javascript object>"
            ]
          },
          "metadata": {
            "tags": [
              "id10-0-0",
              "outputarea_id10"
            ]
          }
        },
        {
          "output_type": "display_data",
          "data": {
            "application/javascript": [
              "window[\"1ed94d06-7953-11eb-b1d5-0242ac1c0002\"] = google.colab.output.getActiveOutputArea();\n",
              "//# sourceURL=js_15208bbab6"
            ],
            "text/plain": [
              "<IPython.core.display.Javascript object>"
            ]
          },
          "metadata": {
            "tags": [
              "id10-0-1",
              "outputarea_id10"
            ]
          }
        },
        {
          "output_type": "display_data",
          "data": {
            "application/javascript": [
              "window[\"1ed9ef0e-7953-11eb-b1d5-0242ac1c0002\"] = document.querySelector(\"#id10-0-1\");\n",
              "//# sourceURL=js_56f695fcf1"
            ],
            "text/plain": [
              "<IPython.core.display.Javascript object>"
            ]
          },
          "metadata": {
            "tags": [
              "id10-0-1",
              "outputarea_id10"
            ]
          }
        },
        {
          "output_type": "display_data",
          "data": {
            "application/javascript": [
              "window[\"1edab5c4-7953-11eb-b1d5-0242ac1c0002\"] = google.colab.output.setActiveOutputArea(window[\"1ed9ef0e-7953-11eb-b1d5-0242ac1c0002\"]);\n",
              "//# sourceURL=js_a7db41aa81"
            ],
            "text/plain": [
              "<IPython.core.display.Javascript object>"
            ]
          },
          "metadata": {
            "tags": [
              "id10-0-1",
              "outputarea_id10"
            ]
          }
        },
        {
          "output_type": "display_data",
          "data": {
            "image/png": "[encoded data removed]",
            "text/plain": [
              "<Figure size 432x288 with 1 Axes>"
            ]
          },
          "metadata": {
            "tags": [
              "id10-0-1",
              "outputarea_id10",
              "user_output"
            ],
            "needs_background": "light"
          }
        },
        {
          "output_type": "display_data",
          "data": {
            "application/javascript": [
              "window[\"1ef30e1c-7953-11eb-b1d5-0242ac1c0002\"] = google.colab.output.setActiveOutputArea(window[\"1ed94d06-7953-11eb-b1d5-0242ac1c0002\"]);\n",
              "//# sourceURL=js_2b4dfca4ef"
            ],
            "text/plain": [
              "<IPython.core.display.Javascript object>"
            ]
          },
          "metadata": {
            "tags": [
              "id10-0-1",
              "outputarea_id10"
            ]
          }
        }
      ]
    },
    {
      "cell_type": "markdown",
      "metadata": {
        "id": "EN4xNRixjpRU"
      },
      "source": [
        "**Tuning Parameter:** Number of episodes"
      ]
    },
    {
      "cell_type": "code",
      "metadata": {
        "colab": {
          "base_uri": "https://localhost:8080/",
          "height": 299
        },
        "id": "p4PHLORFhuij",
        "outputId": "0a22a81e-2075-404f-d3bc-6d9adff872dc"
      },
      "source": [
        "index= 0\n",
        "episode_list= [800, 650, 500]\n",
        "grid= widgets.Grid(1, len(episode_list))\n",
        "for each_eps in episode_list:\n",
        "  environment= DeterministicEnvironment()\n",
        "  Q_agent= QLearningAgent(env= environment)\n",
        "\n",
        "  reward_list= list()\n",
        "  for each_episode in range(each_eps):\n",
        "    state= environment.reset()\n",
        "    done= False\n",
        "    reward_per_episode= 0\n",
        "\n",
        "    while not done:\n",
        "      action= Q_agent.step(state= state)\n",
        "      next_state, reward, done, info= environment.step(action= action)\n",
        "      Q_agent.train(experience= (state, action, next_state, reward, done))\n",
        "      state= next_state\n",
        "\n",
        "      reward_per_episode += reward\n",
        "    \n",
        "    reward_list.append(reward_per_episode)\n",
        "\n",
        "  with grid.output_to(0, index):\n",
        "    plt.title('Cummulative reward per episode')\n",
        "    plt.plot(reward_list)\n",
        "    plt.xlabel('Episodes')\n",
        "    plt.ylabel('Reward')\n",
        "  index += 1"
      ],
      "execution_count": 67,
      "outputs": [
        {
          "output_type": "display_data",
          "data": {
            "text/html": [
              "<style>\n",
              "       table#id86, #id86 > tbody > tr > th, #id86 > tbody > tr > td {\n",
              "         border: 1px solid lightgray;\n",
              "         border-collapse:collapse;\n",
              "         \n",
              "        }</style>"
            ],
            "text/plain": [
              "<IPython.core.display.HTML object>"
            ]
          },
          "metadata": {
            "tags": [
              "outputarea_id86"
            ]
          }
        },
        {
          "output_type": "display_data",
          "data": {
            "text/html": [
              "<table id=id86><tr><td id=id86-0-0></td><td id=id86-0-1></td><td id=id86-0-2></td></tr></table>"
            ],
            "text/plain": [
              "<IPython.core.display.HTML object>"
            ]
          },
          "metadata": {
            "tags": [
              "outputarea_id86"
            ]
          }
        },
        {
          "output_type": "display_data",
          "data": {
            "application/javascript": [
              "window[\"d657ab38-7955-11eb-b1d5-0242ac1c0002\"] = google.colab.output.getActiveOutputArea();\n",
              "//# sourceURL=js_af6a7587ac"
            ],
            "text/plain": [
              "<IPython.core.display.Javascript object>"
            ]
          },
          "metadata": {
            "tags": [
              "id86-0-0",
              "outputarea_id86"
            ]
          }
        },
        {
          "output_type": "display_data",
          "data": {
            "application/javascript": [
              "window[\"d657f3b8-7955-11eb-b1d5-0242ac1c0002\"] = document.querySelector(\"#id86-0-0\");\n",
              "//# sourceURL=js_d0d8f85464"
            ],
            "text/plain": [
              "<IPython.core.display.Javascript object>"
            ]
          },
          "metadata": {
            "tags": [
              "id86-0-0",
              "outputarea_id86"
            ]
          }
        },
        {
          "output_type": "display_data",
          "data": {
            "application/javascript": [
              "window[\"d6583c38-7955-11eb-b1d5-0242ac1c0002\"] = google.colab.output.setActiveOutputArea(window[\"d657f3b8-7955-11eb-b1d5-0242ac1c0002\"]);\n",
              "//# sourceURL=js_45c6dc0d4e"
            ],
            "text/plain": [
              "<IPython.core.display.Javascript object>"
            ]
          },
          "metadata": {
            "tags": [
              "id86-0-0",
              "outputarea_id86"
            ]
          }
        },
        {
          "output_type": "display_data",
          "data": {
            "image/png": "[encoded data removed]",
            "text/plain": [
              "<Figure size 432x288 with 1 Axes>"
            ]
          },
          "metadata": {
            "tags": [
              "id86-0-0",
              "outputarea_id86",
              "user_output"
            ],
            "needs_background": "light"
          }
        },
        {
          "output_type": "display_data",
          "data": {
            "application/javascript": [
              "window[\"d6722e0e-7955-11eb-b1d5-0242ac1c0002\"] = google.colab.output.setActiveOutputArea(window[\"d657ab38-7955-11eb-b1d5-0242ac1c0002\"]);\n",
              "//# sourceURL=js_a3c1e4cf70"
            ],
            "text/plain": [
              "<IPython.core.display.Javascript object>"
            ]
          },
          "metadata": {
            "tags": [
              "id86-0-0",
              "outputarea_id86"
            ]
          }
        },
        {
          "output_type": "display_data",
          "data": {
            "application/javascript": [
              "window[\"d7a94b7c-7955-11eb-b1d5-0242ac1c0002\"] = google.colab.output.getActiveOutputArea();\n",
              "//# sourceURL=js_37952eba8d"
            ],
            "text/plain": [
              "<IPython.core.display.Javascript object>"
            ]
          },
          "metadata": {
            "tags": [
              "id86-0-1",
              "outputarea_id86"
            ]
          }
        },
        {
          "output_type": "display_data",
          "data": {
            "application/javascript": [
              "window[\"d7a98fce-7955-11eb-b1d5-0242ac1c0002\"] = document.querySelector(\"#id86-0-1\");\n",
              "//# sourceURL=js_d47f7843bc"
            ],
            "text/plain": [
              "<IPython.core.display.Javascript object>"
            ]
          },
          "metadata": {
            "tags": [
              "id86-0-1",
              "outputarea_id86"
            ]
          }
        },
        {
          "output_type": "display_data",
          "data": {
            "application/javascript": [
              "window[\"d7a9e3f2-7955-11eb-b1d5-0242ac1c0002\"] = google.colab.output.setActiveOutputArea(window[\"d7a98fce-7955-11eb-b1d5-0242ac1c0002\"]);\n",
              "//# sourceURL=js_b7b7d3ac65"
            ],
            "text/plain": [
              "<IPython.core.display.Javascript object>"
            ]
          },
          "metadata": {
            "tags": [
              "id86-0-1",
              "outputarea_id86"
            ]
          }
        },
        {
          "output_type": "display_data",
          "data": {
            "image/png": "[encoded data removed]",
            "text/plain": [
              "<Figure size 432x288 with 1 Axes>"
            ]
          },
          "metadata": {
            "tags": [
              "id86-0-1",
              "outputarea_id86",
              "user_output"
            ],
            "needs_background": "light"
          }
        },
        {
          "output_type": "display_data",
          "data": {
            "application/javascript": [
              "window[\"d7c1190a-7955-11eb-b1d5-0242ac1c0002\"] = google.colab.output.setActiveOutputArea(window[\"d7a94b7c-7955-11eb-b1d5-0242ac1c0002\"]);\n",
              "//# sourceURL=js_c036f01874"
            ],
            "text/plain": [
              "<IPython.core.display.Javascript object>"
            ]
          },
          "metadata": {
            "tags": [
              "id86-0-1",
              "outputarea_id86"
            ]
          }
        },
        {
          "output_type": "display_data",
          "data": {
            "application/javascript": [
              "window[\"d893f974-7955-11eb-b1d5-0242ac1c0002\"] = google.colab.output.getActiveOutputArea();\n",
              "//# sourceURL=js_3827489e87"
            ],
            "text/plain": [
              "<IPython.core.display.Javascript object>"
            ]
          },
          "metadata": {
            "tags": [
              "id86-0-2",
              "outputarea_id86"
            ]
          }
        },
        {
          "output_type": "display_data",
          "data": {
            "application/javascript": [
              "window[\"d8947dcc-7955-11eb-b1d5-0242ac1c0002\"] = document.querySelector(\"#id86-0-2\");\n",
              "//# sourceURL=js_5b3b2234e4"
            ],
            "text/plain": [
              "<IPython.core.display.Javascript object>"
            ]
          },
          "metadata": {
            "tags": [
              "id86-0-2",
              "outputarea_id86"
            ]
          }
        },
        {
          "output_type": "display_data",
          "data": {
            "application/javascript": [
              "window[\"d894b8fa-7955-11eb-b1d5-0242ac1c0002\"] = google.colab.output.setActiveOutputArea(window[\"d8947dcc-7955-11eb-b1d5-0242ac1c0002\"]);\n",
              "//# sourceURL=js_c2ddd004ab"
            ],
            "text/plain": [
              "<IPython.core.display.Javascript object>"
            ]
          },
          "metadata": {
            "tags": [
              "id86-0-2",
              "outputarea_id86"
            ]
          }
        },
        {
          "output_type": "display_data",
          "data": {
            "image/png": "[encoded data removed]",
            "text/plain": [
              "<Figure size 432x288 with 1 Axes>"
            ]
          },
          "metadata": {
            "tags": [
              "id86-0-2",
              "outputarea_id86",
              "user_output"
            ],
            "needs_background": "light"
          }
        },
        {
          "output_type": "display_data",
          "data": {
            "application/javascript": [
              "window[\"d8adbb52-7955-11eb-b1d5-0242ac1c0002\"] = google.colab.output.setActiveOutputArea(window[\"d893f974-7955-11eb-b1d5-0242ac1c0002\"]);\n",
              "//# sourceURL=js_17a938181c"
            ],
            "text/plain": [
              "<IPython.core.display.Javascript object>"
            ]
          },
          "metadata": {
            "tags": [
              "id86-0-2",
              "outputarea_id86"
            ]
          }
        }
      ]
    }
  ]
}