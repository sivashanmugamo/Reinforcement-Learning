{
  "nbformat": 4,
  "nbformat_minor": 0,
  "metadata": {
    "colab": {
      "name": "main.ipynb",
      "provenance": []
    },
    "kernelspec": {
      "name": "python3",
      "display_name": "Python 3"
    }
  },
  "cells": [
    {
      "cell_type": "markdown",
      "metadata": {
        "id": "e13KGdjfy84h"
      },
      "source": [
        "CSE 546 - Reinforcement Learning\n",
        "# Assignment 1 - *Defining & Solving RL Environments*"
      ]
    },
    {
      "cell_type": "markdown",
      "metadata": {
        "id": "yCRK74DTyHZG"
      },
      "source": [
        "## Prerequisites"
      ]
    },
    {
      "cell_type": "markdown",
      "metadata": {
        "id": "Ki-gD2pYw1Nk"
      },
      "source": [
        "*Installing required libraries*"
      ]
    },
    {
      "cell_type": "code",
      "metadata": {
        "colab": {
          "base_uri": "https://localhost:8080/"
        },
        "id": "1X_iEXBOtYnV",
        "outputId": "c70ab945-7672-4cbd-f767-d765a3898cce"
      },
      "source": [
        "!pip install gym"
      ],
      "execution_count": 1,
      "outputs": [
        {
          "output_type": "stream",
          "text": [
            "Requirement already satisfied: gym in /usr/local/lib/python3.7/dist-packages (0.17.3)\n",
            "Requirement already satisfied: scipy in /usr/local/lib/python3.7/dist-packages (from gym) (1.4.1)\n",
            "Requirement already satisfied: numpy>=1.10.4 in /usr/local/lib/python3.7/dist-packages (from gym) (1.19.5)\n",
            "Requirement already satisfied: cloudpickle<1.7.0,>=1.2.0 in /usr/local/lib/python3.7/dist-packages (from gym) (1.3.0)\n",
            "Requirement already satisfied: pyglet<=1.5.0,>=1.4.0 in /usr/local/lib/python3.7/dist-packages (from gym) (1.5.0)\n",
            "Requirement already satisfied: future in /usr/local/lib/python3.7/dist-packages (from pyglet<=1.5.0,>=1.4.0->gym) (0.16.0)\n"
          ],
          "name": "stdout"
        }
      ]
    },
    {
      "cell_type": "markdown",
      "metadata": {
        "id": "mu24zxFEw43a"
      },
      "source": [
        "*Importing required libraries*"
      ]
    },
    {
      "cell_type": "code",
      "metadata": {
        "id": "KTj1tKPDtdwI"
      },
      "source": [
        "import gym\n",
        "import math\n",
        "import time\n",
        "import random\n",
        "import numpy as np\n",
        "import matplotlib.pyplot as plt\n",
        "\n",
        "from gym import spaces\n",
        "from google.colab import widgets\n",
        "from IPython.display import clear_output"
      ],
      "execution_count": 2,
      "outputs": []
    },
    {
      "cell_type": "markdown",
      "metadata": {
        "id": "F_JSTp8lyfJd"
      },
      "source": [
        "*Initializing the positions of the agent, goal, and rewards*"
      ]
    },
    {
      "cell_type": "code",
      "metadata": {
        "id": "7vMSjFmIyfzE"
      },
      "source": [
        "AGENT_POS= [0, 0]\n",
        "DIAMOND_POS= [1, 3]\n",
        "COIN_POS= [3, 2]\n",
        "MONSTER_POS= [2, 1]\n",
        "GOAL_POS= [3, 3]"
      ],
      "execution_count": 3,
      "outputs": []
    },
    {
      "cell_type": "markdown",
      "metadata": {
        "id": "yVgyRqLow8M7"
      },
      "source": [
        "*Pre-defining the minimum number of states and actions that will be used in the environment*"
      ]
    },
    {
      "cell_type": "code",
      "metadata": {
        "id": "RDjZbGdJt6Ru"
      },
      "source": [
        "N_STATES= 16\n",
        "N_ACTIONS= 4\n",
        "MAX_TIMESTEPS= 50"
      ],
      "execution_count": 4,
      "outputs": []
    },
    {
      "cell_type": "markdown",
      "metadata": {
        "id": "wBsMUtH3ooN5"
      },
      "source": [
        "*Initializing lookup dictionaries for states & actions*"
      ]
    },
    {
      "cell_type": "code",
      "metadata": {
        "id": "67S4ZywlmRO7"
      },
      "source": [
        "STATE_LOOKUP= dict()\n",
        "ACTION_LOOKUP= {0: 'Down', 1: 'Up', 2: 'Right', 3: 'Left'}\n",
        "\n",
        "k= 0\n",
        "for i in range(4):\n",
        "  for j in range(4):\n",
        "    STATE_LOOKUP[(i, j)]= k\n",
        "    k+= 1"
      ],
      "execution_count": 5,
      "outputs": []
    },
    {
      "cell_type": "markdown",
      "metadata": {
        "id": "i1bN9AigxDeT"
      },
      "source": [
        "## Deterministic Environment\n"
      ]
    },
    {
      "cell_type": "markdown",
      "metadata": {
        "id": "YhewMWSnxjcA"
      },
      "source": [
        "*Defining a simple 4x4 deterministic environment*"
      ]
    },
    {
      "cell_type": "code",
      "metadata": {
        "id": "c9Ci1dwrtrPm"
      },
      "source": [
        "class DeterministicEnvironment(gym.Env):\n",
        "  metadata= {'render.modes': []}\n",
        "\n",
        "  def __init__(self):\n",
        "    '''\n",
        "    Initializes the number of states, action, & maximum timestep of the environment\n",
        "    '''\n",
        "\n",
        "    self.observation_space= spaces.Discrete(N_STATES)\n",
        "    self.action_space= spaces.Discrete(N_ACTIONS)\n",
        "    self.max_timesteps= MAX_TIMESTEPS\n",
        "\n",
        "  def reset(self):\n",
        "    '''\n",
        "    Resets the environment to its default setup\n",
        "\n",
        "    Output:\n",
        "      observation: 2-element list - Coordinates of the agent's default position in the grid\n",
        "    '''\n",
        "\n",
        "    self.timestep= 0\n",
        "\n",
        "    self.agent_pos= AGENT_POS.copy()\n",
        "    self.diamond_pos= DIAMOND_POS.copy()\n",
        "    self.coin_pos= COIN_POS.copy()\n",
        "    self.monster_pos= MONSTER_POS.copy()\n",
        "    self.goal_pos= GOAL_POS.copy()\n",
        "\n",
        "    self.state= np.zeros((4, 4))\n",
        "\n",
        "    self.state[tuple(self.agent_pos)]= 1\n",
        "    self.state[tuple(self.diamond_pos)]= 5\n",
        "    self.state[tuple(self.coin_pos)]= 3\n",
        "    self.state[tuple(self.monster_pos)]= -5\n",
        "    self.state[tuple(self.goal_pos)]= 10\n",
        "    \n",
        "    agent_state= self.agent_pos\n",
        "\n",
        "    return STATE_LOOKUP[tuple(agent_state)]\n",
        "\n",
        "  def step(self, action: int):\n",
        "    '''\n",
        "    1. Moves the agent as per the given action\n",
        "    2. Sets the rewards per state in the environment\n",
        "    3. Calculates the reward of the new state\n",
        "\n",
        "    Input:\n",
        "      action: int - Action to be performed\n",
        "\n",
        "    Output:\n",
        "      action: int - Action taken\n",
        "      observation: 2-element list\n",
        "      reward: int - State reward\n",
        "      done: bool - Denotes if the learning is complete (or) goal is reached\n",
        "      info: dict\n",
        "    '''\n",
        "\n",
        "    # Initializing the grid\n",
        "    self.state= np.zeros((4, 4))\n",
        "\n",
        "    # Move the agent\n",
        "    if action == 0: # Go down one step\n",
        "      self.agent_pos[0] += 1\n",
        "    if action == 1: # Go up one step\n",
        "      self.agent_pos[0] -= 1\n",
        "    if action == 2: # Go right one step\n",
        "      self.agent_pos[1] += 1\n",
        "    if action == 3: # Go left one step\n",
        "      self.agent_pos[1] -= 1\n",
        "\n",
        "    # To keep the agent within the confines of the environment\n",
        "    self.agent_pos= np.clip(self.agent_pos, 0, 3)\n",
        "\n",
        "    # Initialize the state rewards\n",
        "    self.state[tuple(self.agent_pos)]= 1\n",
        "    self.state[tuple(self.diamond_pos)]= 5\n",
        "    self.state[tuple(self.coin_pos)]= 3\n",
        "    self.state[tuple(self.monster_pos)]= -5\n",
        "    self.state[tuple(self.goal_pos)]= 10\n",
        "\n",
        "    agent_state= self.agent_pos\n",
        "\n",
        "    # Calculates the reward for the action\n",
        "    reward= 0\n",
        "    if (self.agent_pos == self.diamond_pos).all():\n",
        "      reward += 5\n",
        "    if (self.agent_pos == self.coin_pos).all():\n",
        "      reward += 3\n",
        "    if (self.agent_pos == self.monster_pos).all():\n",
        "      reward -= 5\n",
        "    if (self.agent_pos == self.goal_pos).all():\n",
        "      reward += 10\n",
        "\n",
        "    # Timestep increment\n",
        "    self.timestep += 1\n",
        "\n",
        "    done= True if ((self.timestep >= self.max_timesteps) or (self.agent_pos == self.goal_pos).all()) else False\n",
        "    info= {}\n",
        "\n",
        "    return STATE_LOOKUP[tuple(agent_state)], reward, done, info\n",
        "\n",
        "  def render(self):\n",
        "    '''\n",
        "    Provides pictorial representation of environment\n",
        "    '''\n",
        "\n",
        "    plt.imshow(self.state)"
      ],
      "execution_count": 6,
      "outputs": []
    },
    {
      "cell_type": "markdown",
      "metadata": {
        "id": "Nb5MHc-DE6yI"
      },
      "source": [
        "*Test render*"
      ]
    },
    {
      "cell_type": "code",
      "metadata": {
        "colab": {
          "base_uri": "https://localhost:8080/",
          "height": 286
        },
        "id": "LcchIk5_8H4Q",
        "outputId": "5614e84f-aed3-498d-efcb-00efb37b4009"
      },
      "source": [
        "env= DeterministicEnvironment()\n",
        "state= env.reset()\n",
        "env.render()\n",
        "print('Current state : {}'.format(state))"
      ],
      "execution_count": 7,
      "outputs": [
        {
          "output_type": "stream",
          "text": [
            "Current state : 0\n"
          ],
          "name": "stdout"
        },
        {
          "output_type": "display_data",
          "data": {
            "image/png": "[encoded data removed]",
            "text/plain": [
              "<Figure size 432x288 with 1 Axes>"
            ]
          },
          "metadata": {
            "tags": [],
            "needs_background": "light"
          }
        }
      ]
    },
    {
      "cell_type": "markdown",
      "metadata": {
        "id": "6ASY-urZxMxw"
      },
      "source": [
        "## Stochastic Environment\n"
      ]
    },
    {
      "cell_type": "markdown",
      "metadata": {
        "id": "MqHI65I8xhhU"
      },
      "source": [
        "*Defining a simple 4x4 stochastic environment*"
      ]
    },
    {
      "cell_type": "code",
      "metadata": {
        "id": "ePNIo_qxuXl1"
      },
      "source": [
        "class StochasticEnvironment(gym.Env):\n",
        "  metadata= {'render.modes': []}\n",
        "\n",
        "  def __init__(self):\n",
        "    '''\n",
        "    Initializes the number of states, action, & maximum timestep of the environment\n",
        "    '''\n",
        "\n",
        "    self.observation_space= spaces.Discrete(N_STATES)\n",
        "    self.action_space= spaces.Discrete(N_ACTIONS)\n",
        "    self.max_timesteps= MAX_TIMESTEPS\n",
        "\n",
        "  def reset(self):\n",
        "    '''\n",
        "    Resets the environment to its default setup\n",
        "\n",
        "    Output:\n",
        "      observation: 2-element list - Coordinates of the agent's default position in the grid\n",
        "    '''\n",
        "\n",
        "    self.timestep= 0\n",
        "\n",
        "    self.agent_pos= AGENT_POS.copy()\n",
        "    self.diamond_pos= DIAMOND_POS.copy()\n",
        "    self.coin_pos= COIN_POS.copy()\n",
        "    self.monster_pos= MONSTER_POS.copy()\n",
        "    self.goal_pos= GOAL_POS.copy()\n",
        "\n",
        "    self.state= np.zeros((4, 4))\n",
        "\n",
        "    self.state[tuple(self.agent_pos)]= 1\n",
        "    self.state[tuple(self.diamond_pos)]= 5\n",
        "    self.state[tuple(self.coin_pos)]= 3\n",
        "    self.state[tuple(self.monster_pos)]= -5\n",
        "    self.state[tuple(self.goal_pos)]= 10\n",
        "    \n",
        "    agent_state= self.agent_pos\n",
        "\n",
        "    return STATE_LOOKUP[tuple(agent_state)]\n",
        "  \n",
        "  def step(self, action):\n",
        "    '''\n",
        "    1. Randomly chooses the action to be performed\n",
        "    1. Moves the agent as per the chosen action\n",
        "    2. Sets the rewards per state in the environment\n",
        "    3. Calculates the reward of the new state\n",
        "\n",
        "    Input:\n",
        "      action: int - Action to be performed\n",
        "\n",
        "    Output:\n",
        "      action: int - Action taken\n",
        "      observation: 2-element list\n",
        "      reward: int - State reward\n",
        "      done: bool - Denotes if the learning is complete (or) goal is reached\n",
        "      info: dict\n",
        "    '''\n",
        "\n",
        "    # Initializing the grid\n",
        "    self.state= np.zeros((4, 4))\n",
        "\n",
        "    # Defining stochasticity to the environment\n",
        "    action= action if random.uniform(0, 1) < 0.75 else random.choice([i for i in range(self.action_space.n) if i != action])\n",
        "\n",
        "    # Move the agent\n",
        "    if action == 0: # Go down one step\n",
        "      self.agent_pos[0] += 1\n",
        "    if action == 1: # Go up one step\n",
        "      self.agent_pos[0] -= 1\n",
        "    if action == 2: # Go right one step\n",
        "      self.agent_pos[1] += 1\n",
        "    if action == 3: # Go left one step\n",
        "      self.agent_pos[1] -= 1\n",
        "\n",
        "    # To keep the agent within the confines of the environment\n",
        "    self.agent_pos= np.clip(self.agent_pos, 0, 3)\n",
        "\n",
        "    # Initialize the state rewards\n",
        "    self.state[tuple(self.agent_pos)]= 1\n",
        "    self.state[tuple(self.diamond_pos)]= 5\n",
        "    self.state[tuple(self.coin_pos)]= 3\n",
        "    self.state[tuple(self.monster_pos)]= -5\n",
        "    self.state[tuple(self.goal_pos)]= 10\n",
        "\n",
        "    agent_state= self.agent_pos\n",
        "\n",
        "    # Calculates the reward for the action\n",
        "    reward= 0\n",
        "    if (self.agent_pos == self.diamond_pos).all():\n",
        "      reward += 5\n",
        "    if (self.agent_pos == self.coin_pos).all():\n",
        "      reward += 3\n",
        "    if (self.agent_pos == self.monster_pos).all():\n",
        "      reward -= 5\n",
        "    if (self.agent_pos == self.goal_pos).all():\n",
        "      reward += 10\n",
        "\n",
        "    # Timestep increment\n",
        "    self.timestep += 1\n",
        "\n",
        "    done= True if ((self.timestep >= self.max_timesteps) or (self.agent_pos == self.goal_pos).all()) else False\n",
        "    info= {}\n",
        "\n",
        "    return STATE_LOOKUP[tuple(agent_state)], reward, done, info\n",
        "\n",
        "  def render(self):\n",
        "    '''\n",
        "    Provides pictorial representation of environment\n",
        "    '''\n",
        "\n",
        "    plt.imshow(self.state)"
      ],
      "execution_count": 8,
      "outputs": []
    },
    {
      "cell_type": "markdown",
      "metadata": {
        "id": "KjJhq6hiFEVL"
      },
      "source": [
        "*Test render*"
      ]
    },
    {
      "cell_type": "code",
      "metadata": {
        "colab": {
          "base_uri": "https://localhost:8080/",
          "height": 286
        },
        "id": "EwCvWgzl7rrd",
        "outputId": "dec9dadc-7c2c-42a7-87f9-8d000e4e4295"
      },
      "source": [
        "env= StochasticEnvironment()\n",
        "state= env.reset()\n",
        "env.render()\n",
        "print('Current state : {}'.format(state))"
      ],
      "execution_count": 9,
      "outputs": [
        {
          "output_type": "stream",
          "text": [
            "Current state : 0\n"
          ],
          "name": "stdout"
        },
        {
          "output_type": "display_data",
          "data": {
            "image/png": "[encoded data removed]",
            "text/plain": [
              "<Figure size 432x288 with 1 Axes>"
            ]
          },
          "metadata": {
            "tags": [],
            "needs_background": "light"
          }
        }
      ]
    },
    {
      "cell_type": "markdown",
      "metadata": {
        "id": "2ZFFzyEJxS7B"
      },
      "source": [
        "## Random Agent"
      ]
    },
    {
      "cell_type": "markdown",
      "metadata": {
        "id": "M1P57OQZxZl8"
      },
      "source": [
        "*Defining a random agent*"
      ]
    },
    {
      "cell_type": "code",
      "metadata": {
        "id": "IgRMssZkxnBX"
      },
      "source": [
        "class RandomAgent:\n",
        "  \n",
        "  def __init__(self, env):\n",
        "    self.env= env\n",
        "    self.observation_space= env.observation_space\n",
        "    self.action_space= env.action_space\n",
        "\n",
        "  def step(self, state):\n",
        "    return np.random.choice(self.action_space.n)"
      ],
      "execution_count": 10,
      "outputs": []
    },
    {
      "cell_type": "markdown",
      "metadata": {
        "id": "tY84t-54xadi"
      },
      "source": [
        "## Defining agents that learn using Tabular methods\n"
      ]
    },
    {
      "cell_type": "markdown",
      "metadata": {
        "id": "YIjQmGpzGs7u"
      },
      "source": [
        "### Q-learning agent"
      ]
    },
    {
      "cell_type": "markdown",
      "metadata": {
        "id": "Cuu6SIxaxdCt"
      },
      "source": [
        "*Defining a Q learning agent*"
      ]
    },
    {
      "cell_type": "code",
      "metadata": {
        "id": "JhW8rgkgu6Pf"
      },
      "source": [
        "# Subclass of the Random agent class\n",
        "class QLearningAgent(RandomAgent):\n",
        "\n",
        "  def __init__(self, env, discount_rate= 0.99, learning_rate= 0.01, epsilon= 1.0):\n",
        "    '''\n",
        "    '''\n",
        "    super().__init__(env)\n",
        "\n",
        "    # Sets the exploration, exploitation balance\n",
        "    # Closer to 1.0 - exploration | Closer to 0.0 - exploitation\n",
        "    self.epsilon= epsilon \n",
        "\n",
        "    # Sets the learning & decay parameters\n",
        "    self.gamma= discount_rate\n",
        "    self.alpha= learning_rate\n",
        "\n",
        "    self.build_model()\n",
        "\n",
        "  def build_model(self):\n",
        "    '''\n",
        "    '''\n",
        "    self.Q_table= np.zeros((self.observation_space.n, self.action_space.n))\n",
        "\n",
        "  def step(self, state: int):\n",
        "    '''\n",
        "    '''\n",
        "    Q_state= self.Q_table[state]\n",
        "    greedy_action= np.argmax(Q_state)\n",
        "    random_action= super().step(state)\n",
        "\n",
        "    # Depending on the epsilon value greedy or random action is chosen\n",
        "    return random_action if random.random() < self.epsilon else greedy_action\n",
        "\n",
        "  def train(self, experience: tuple):\n",
        "    '''\n",
        "    '''\n",
        "    state, action, next_state, reward, done= experience\n",
        "    \n",
        "    # Q-value calculation\n",
        "    Q_next= np.zeros([self.action_space.n]) if done else self.Q_table[next_state]\n",
        "    Q_value= reward + self.gamma * np.max(Q_next) - self.Q_table[state, action]\n",
        "    self.Q_table[state, action] += self.alpha * Q_value\n",
        "\n",
        "    if done:\n",
        "      # Setting exponential epsilon decay to prefer exploitation over exploration\n",
        "      self.epsilon= self.epsilon * 0.99"
      ],
      "execution_count": 11,
      "outputs": []
    },
    {
      "cell_type": "markdown",
      "metadata": {
        "id": "QQdopMBuBTQZ"
      },
      "source": [
        "## Running various agents in environment"
      ]
    },
    {
      "cell_type": "markdown",
      "metadata": {
        "id": "6k5D5rnMad26"
      },
      "source": [
        "*Running the random agent in the Deterministic Environment*"
      ]
    },
    {
      "cell_type": "code",
      "metadata": {
        "colab": {
          "base_uri": "https://localhost:8080/",
          "height": 307
        },
        "id": "C8CaivB7BVug",
        "outputId": "630cb74c-5de7-436d-96d3-fa2658912e86"
      },
      "source": [
        "environment= DeterministicEnvironment()\n",
        "random_agent= RandomAgent(env= environment)\n",
        "state= environment.reset()\n",
        "done= False\n",
        "\n",
        "grid= widgets.Grid(1, 1)\n",
        "\n",
        "total_reward= 0\n",
        "while not done:\n",
        "  action= random_agent.step(state= state)\n",
        "  next_state, reward, done, info= environment.step(action= action)\n",
        "  # print('By taking action \\'{}\\' the agent moved from {} to {} and got reward {}'.format(ACTION_LOOKUP[action], state, next_state, reward))\n",
        "  state= next_state\n",
        "  total_reward+= reward\n",
        "\n",
        "  with grid.output_to(0, 0):\n",
        "    grid.clear_cell()\n",
        "    environment.render()\n",
        "    # time.sleep(1)\n",
        "\n",
        "if done == True and environment.timestep < MAX_TIMESTEPS:\n",
        "  print('Agent has reached the Goal position')\n",
        "elif done == True and environment.timestep == MAX_TIMESTEPS:\n",
        "  print('Agent ran out of time')\n",
        "\n",
        "print('At the end of the run, the agent is at state {} & got a total reward of {}'.format(state, total_reward))"
      ],
      "execution_count": 12,
      "outputs": [
        {
          "output_type": "display_data",
          "data": {
            "text/html": [
              "<style>\n",
              "       table#id2, #id2 > tbody > tr > th, #id2 > tbody > tr > td {\n",
              "         border: 1px solid lightgray;\n",
              "         border-collapse:collapse;\n",
              "         \n",
              "        }</style>"
            ],
            "text/plain": [
              "<IPython.core.display.HTML object>"
            ]
          },
          "metadata": {
            "tags": [
              "outputarea_id2"
            ]
          }
        },
        {
          "output_type": "display_data",
          "data": {
            "text/html": [
              "<table id=id2><tr><td id=id2-0-0></td></tr></table>"
            ],
            "text/plain": [
              "<IPython.core.display.HTML object>"
            ]
          },
          "metadata": {
            "tags": [
              "outputarea_id2"
            ]
          }
        },
        {
          "output_type": "display_data",
          "data": {
            "application/javascript": [
              "window[\"b274ed14-77ae-11eb-a30a-0242ac1c0002\"] = google.colab.output.getActiveOutputArea();\n",
              "//# sourceURL=js_97cd42d522"
            ],
            "text/plain": [
              "<IPython.core.display.Javascript object>"
            ]
          },
          "metadata": {
            "tags": [
              "id2-0-0",
              "outputarea_id2"
            ]
          }
        },
        {
          "output_type": "display_data",
          "data": {
            "application/javascript": [
              "window[\"b2759e6c-77ae-11eb-a30a-0242ac1c0002\"] = document.querySelector(\"#id2-0-0\");\n",
              "//# sourceURL=js_5c9784fa98"
            ],
            "text/plain": [
              "<IPython.core.display.Javascript object>"
            ]
          },
          "metadata": {
            "tags": [
              "id2-0-0",
              "outputarea_id2"
            ]
          }
        },
        {
          "output_type": "display_data",
          "data": {
            "application/javascript": [
              "window[\"b276314c-77ae-11eb-a30a-0242ac1c0002\"] = google.colab.output.setActiveOutputArea(window[\"b2759e6c-77ae-11eb-a30a-0242ac1c0002\"]);\n",
              "//# sourceURL=js_bedd7ce0d8"
            ],
            "text/plain": [
              "<IPython.core.display.Javascript object>"
            ]
          },
          "metadata": {
            "tags": [
              "id2-0-0",
              "outputarea_id2"
            ]
          }
        },
        {
          "output_type": "display_data",
          "data": {
            "application/javascript": [
              "window[\"b28dfd68-77ae-11eb-a30a-0242ac1c0002\"] = google.colab.output.setActiveOutputArea(window[\"b274ed14-77ae-11eb-a30a-0242ac1c0002\"]);\n",
              "//# sourceURL=js_4e674fa781"
            ],
            "text/plain": [
              "<IPython.core.display.Javascript object>"
            ]
          },
          "metadata": {
            "tags": [
              "id2-0-0",
              "outputarea_id2"
            ]
          }
        },
        {
          "output_type": "display_data",
          "data": {
            "application/javascript": [
              "window[\"b28f870a-77ae-11eb-a30a-0242ac1c0002\"] = google.colab.output.getActiveOutputArea();\n",
              "//# sourceURL=js_d30047633d"
            ],
            "text/plain": [
              "<IPython.core.display.Javascript object>"
            ]
          },
          "metadata": {
            "tags": [
              "id2-0-0",
              "outputarea_id2"
            ]
          }
        },
        {
          "output_type": "display_data",
          "data": {
            "application/javascript": [
              "window[\"b28fcada-77ae-11eb-a30a-0242ac1c0002\"] = document.querySelector(\"#id2-0-0\");\n",
              "//# sourceURL=js_fe09451de1"
            ],
            "text/plain": [
              "<IPython.core.display.Javascript object>"
            ]
          },
          "metadata": {
            "tags": [
              "id2-0-0",
              "outputarea_id2"
            ]
          }
        },
        {
          "output_type": "display_data",
          "data": {
            "application/javascript": [
              "window[\"b2900c5c-77ae-11eb-a30a-0242ac1c0002\"] = google.colab.output.setActiveOutputArea(window[\"b28fcada-77ae-11eb-a30a-0242ac1c0002\"]);\n",
              "//# sourceURL=js_d746a75a86"
            ],
            "text/plain": [
              "<IPython.core.display.Javascript object>"
            ]
          },
          "metadata": {
            "tags": [
              "id2-0-0",
              "outputarea_id2"
            ]
          }
        },
        {
          "output_type": "display_data",
          "data": {
            "application/javascript": [
              "window[\"b2aaf846-77ae-11eb-a30a-0242ac1c0002\"] = google.colab.output.setActiveOutputArea(window[\"b28f870a-77ae-11eb-a30a-0242ac1c0002\"]);\n",
              "//# sourceURL=js_531544313c"
            ],
            "text/plain": [
              "<IPython.core.display.Javascript object>"
            ]
          },
          "metadata": {
            "tags": [
              "id2-0-0",
              "outputarea_id2"
            ]
          }
        },
        {
          "output_type": "display_data",
          "data": {
            "application/javascript": [
              "window[\"b2ac4750-77ae-11eb-a30a-0242ac1c0002\"] = google.colab.output.getActiveOutputArea();\n",
              "//# sourceURL=js_5e5650ba61"
            ],
            "text/plain": [
              "<IPython.core.display.Javascript object>"
            ]
          },
          "metadata": {
            "tags": [
              "id2-0-0",
              "outputarea_id2"
            ]
          }
        },
        {
          "output_type": "display_data",
          "data": {
            "application/javascript": [
              "window[\"b2ac8fb2-77ae-11eb-a30a-0242ac1c0002\"] = document.querySelector(\"#id2-0-0\");\n",
              "//# sourceURL=js_347ad00595"
            ],
            "text/plain": [
              "<IPython.core.display.Javascript object>"
            ]
          },
          "metadata": {
            "tags": [
              "id2-0-0",
              "outputarea_id2"
            ]
          }
        },
        {
          "output_type": "display_data",
          "data": {
            "application/javascript": [
              "window[\"b2acd256-77ae-11eb-a30a-0242ac1c0002\"] = google.colab.output.setActiveOutputArea(window[\"b2ac8fb2-77ae-11eb-a30a-0242ac1c0002\"]);\n",
              "//# sourceURL=js_9af432886c"
            ],
            "text/plain": [
              "<IPython.core.display.Javascript object>"
            ]
          },
          "metadata": {
            "tags": [
              "id2-0-0",
              "outputarea_id2"
            ]
          }
        },
        {
          "output_type": "display_data",
          "data": {
            "application/javascript": [
              "window[\"b2c59156-77ae-11eb-a30a-0242ac1c0002\"] = google.colab.output.setActiveOutputArea(window[\"b2ac4750-77ae-11eb-a30a-0242ac1c0002\"]);\n",
              "//# sourceURL=js_303814a307"
            ],
            "text/plain": [
              "<IPython.core.display.Javascript object>"
            ]
          },
          "metadata": {
            "tags": [
              "id2-0-0",
              "outputarea_id2"
            ]
          }
        },
        {
          "output_type": "display_data",
          "data": {
            "application/javascript": [
              "window[\"b2c6db1a-77ae-11eb-a30a-0242ac1c0002\"] = google.colab.output.getActiveOutputArea();\n",
              "//# sourceURL=js_88f3b3a3bb"
            ],
            "text/plain": [
              "<IPython.core.display.Javascript object>"
            ]
          },
          "metadata": {
            "tags": [
              "id2-0-0",
              "outputarea_id2"
            ]
          }
        },
        {
          "output_type": "display_data",
          "data": {
            "application/javascript": [
              "window[\"b2c720e8-77ae-11eb-a30a-0242ac1c0002\"] = document.querySelector(\"#id2-0-0\");\n",
              "//# sourceURL=js_5edaa981c3"
            ],
            "text/plain": [
              "<IPython.core.display.Javascript object>"
            ]
          },
          "metadata": {
            "tags": [
              "id2-0-0",
              "outputarea_id2"
            ]
          }
        },
        {
          "output_type": "display_data",
          "data": {
            "application/javascript": [
              "window[\"b2c761ac-77ae-11eb-a30a-0242ac1c0002\"] = google.colab.output.setActiveOutputArea(window[\"b2c720e8-77ae-11eb-a30a-0242ac1c0002\"]);\n",
              "//# sourceURL=js_250171d0bb"
            ],
            "text/plain": [
              "<IPython.core.display.Javascript object>"
            ]
          },
          "metadata": {
            "tags": [
              "id2-0-0",
              "outputarea_id2"
            ]
          }
        },
        {
          "output_type": "display_data",
          "data": {
            "application/javascript": [
              "window[\"b2e33d46-77ae-11eb-a30a-0242ac1c0002\"] = google.colab.output.setActiveOutputArea(window[\"b2c6db1a-77ae-11eb-a30a-0242ac1c0002\"]);\n",
              "//# sourceURL=js_6329f8870a"
            ],
            "text/plain": [
              "<IPython.core.display.Javascript object>"
            ]
          },
          "metadata": {
            "tags": [
              "id2-0-0",
              "outputarea_id2"
            ]
          }
        },
        {
          "output_type": "display_data",
          "data": {
            "application/javascript": [
              "window[\"b2e493b2-77ae-11eb-a30a-0242ac1c0002\"] = google.colab.output.getActiveOutputArea();\n",
              "//# sourceURL=js_0ed07395af"
            ],
            "text/plain": [
              "<IPython.core.display.Javascript object>"
            ]
          },
          "metadata": {
            "tags": [
              "id2-0-0",
              "outputarea_id2"
            ]
          }
        },
        {
          "output_type": "display_data",
          "data": {
            "application/javascript": [
              "window[\"b2e507a2-77ae-11eb-a30a-0242ac1c0002\"] = document.querySelector(\"#id2-0-0\");\n",
              "//# sourceURL=js_7f75f1562c"
            ],
            "text/plain": [
              "<IPython.core.display.Javascript object>"
            ]
          },
          "metadata": {
            "tags": [
              "id2-0-0",
              "outputarea_id2"
            ]
          }
        },
        {
          "output_type": "display_data",
          "data": {
            "application/javascript": [
              "window[\"b2e54e1a-77ae-11eb-a30a-0242ac1c0002\"] = google.colab.output.setActiveOutputArea(window[\"b2e507a2-77ae-11eb-a30a-0242ac1c0002\"]);\n",
              "//# sourceURL=js_19589619e9"
            ],
            "text/plain": [
              "<IPython.core.display.Javascript object>"
            ]
          },
          "metadata": {
            "tags": [
              "id2-0-0",
              "outputarea_id2"
            ]
          }
        },
        {
          "output_type": "display_data",
          "data": {
            "application/javascript": [
              "window[\"b2fe8c54-77ae-11eb-a30a-0242ac1c0002\"] = google.colab.output.setActiveOutputArea(window[\"b2e493b2-77ae-11eb-a30a-0242ac1c0002\"]);\n",
              "//# sourceURL=js_d3ce8ea1e0"
            ],
            "text/plain": [
              "<IPython.core.display.Javascript object>"
            ]
          },
          "metadata": {
            "tags": [
              "id2-0-0",
              "outputarea_id2"
            ]
          }
        },
        {
          "output_type": "display_data",
          "data": {
            "application/javascript": [
              "window[\"b2ffd8f2-77ae-11eb-a30a-0242ac1c0002\"] = google.colab.output.getActiveOutputArea();\n",
              "//# sourceURL=js_9b8a2a2472"
            ],
            "text/plain": [
              "<IPython.core.display.Javascript object>"
            ]
          },
          "metadata": {
            "tags": [
              "id2-0-0",
              "outputarea_id2"
            ]
          }
        },
        {
          "output_type": "display_data",
          "data": {
            "application/javascript": [
              "window[\"b3001f10-77ae-11eb-a30a-0242ac1c0002\"] = document.querySelector(\"#id2-0-0\");\n",
              "//# sourceURL=js_3f7d11036e"
            ],
            "text/plain": [
              "<IPython.core.display.Javascript object>"
            ]
          },
          "metadata": {
            "tags": [
              "id2-0-0",
              "outputarea_id2"
            ]
          }
        },
        {
          "output_type": "display_data",
          "data": {
            "application/javascript": [
              "window[\"b3005d68-77ae-11eb-a30a-0242ac1c0002\"] = google.colab.output.setActiveOutputArea(window[\"b3001f10-77ae-11eb-a30a-0242ac1c0002\"]);\n",
              "//# sourceURL=js_be5d410ee3"
            ],
            "text/plain": [
              "<IPython.core.display.Javascript object>"
            ]
          },
          "metadata": {
            "tags": [
              "id2-0-0",
              "outputarea_id2"
            ]
          }
        },
        {
          "output_type": "display_data",
          "data": {
            "application/javascript": [
              "window[\"b31981da-77ae-11eb-a30a-0242ac1c0002\"] = google.colab.output.setActiveOutputArea(window[\"b2ffd8f2-77ae-11eb-a30a-0242ac1c0002\"]);\n",
              "//# sourceURL=js_7efbb05a3a"
            ],
            "text/plain": [
              "<IPython.core.display.Javascript object>"
            ]
          },
          "metadata": {
            "tags": [
              "id2-0-0",
              "outputarea_id2"
            ]
          }
        },
        {
          "output_type": "display_data",
          "data": {
            "application/javascript": [
              "window[\"b31afea2-77ae-11eb-a30a-0242ac1c0002\"] = google.colab.output.getActiveOutputArea();\n",
              "//# sourceURL=js_677ec88f39"
            ],
            "text/plain": [
              "<IPython.core.display.Javascript object>"
            ]
          },
          "metadata": {
            "tags": [
              "id2-0-0",
              "outputarea_id2"
            ]
          }
        },
        {
          "output_type": "display_data",
          "data": {
            "application/javascript": [
              "window[\"b31b49a2-77ae-11eb-a30a-0242ac1c0002\"] = document.querySelector(\"#id2-0-0\");\n",
              "//# sourceURL=js_9355de223d"
            ],
            "text/plain": [
              "<IPython.core.display.Javascript object>"
            ]
          },
          "metadata": {
            "tags": [
              "id2-0-0",
              "outputarea_id2"
            ]
          }
        },
        {
          "output_type": "display_data",
          "data": {
            "application/javascript": [
              "window[\"b31b9808-77ae-11eb-a30a-0242ac1c0002\"] = google.colab.output.setActiveOutputArea(window[\"b31b49a2-77ae-11eb-a30a-0242ac1c0002\"]);\n",
              "//# sourceURL=js_ce729f0f32"
            ],
            "text/plain": [
              "<IPython.core.display.Javascript object>"
            ]
          },
          "metadata": {
            "tags": [
              "id2-0-0",
              "outputarea_id2"
            ]
          }
        },
        {
          "output_type": "display_data",
          "data": {
            "application/javascript": [
              "window[\"b3367286-77ae-11eb-a30a-0242ac1c0002\"] = google.colab.output.setActiveOutputArea(window[\"b31afea2-77ae-11eb-a30a-0242ac1c0002\"]);\n",
              "//# sourceURL=js_025b7b819d"
            ],
            "text/plain": [
              "<IPython.core.display.Javascript object>"
            ]
          },
          "metadata": {
            "tags": [
              "id2-0-0",
              "outputarea_id2"
            ]
          }
        },
        {
          "output_type": "display_data",
          "data": {
            "application/javascript": [
              "window[\"b337ba42-77ae-11eb-a30a-0242ac1c0002\"] = google.colab.output.getActiveOutputArea();\n",
              "//# sourceURL=js_e3438254f2"
            ],
            "text/plain": [
              "<IPython.core.display.Javascript object>"
            ]
          },
          "metadata": {
            "tags": [
              "id2-0-0",
              "outputarea_id2"
            ]
          }
        },
        {
          "output_type": "display_data",
          "data": {
            "application/javascript": [
              "window[\"b337ff52-77ae-11eb-a30a-0242ac1c0002\"] = document.querySelector(\"#id2-0-0\");\n",
              "//# sourceURL=js_c3a9e852a1"
            ],
            "text/plain": [
              "<IPython.core.display.Javascript object>"
            ]
          },
          "metadata": {
            "tags": [
              "id2-0-0",
              "outputarea_id2"
            ]
          }
        },
        {
          "output_type": "display_data",
          "data": {
            "application/javascript": [
              "window[\"b3384c6e-77ae-11eb-a30a-0242ac1c0002\"] = google.colab.output.setActiveOutputArea(window[\"b337ff52-77ae-11eb-a30a-0242ac1c0002\"]);\n",
              "//# sourceURL=js_972284788e"
            ],
            "text/plain": [
              "<IPython.core.display.Javascript object>"
            ]
          },
          "metadata": {
            "tags": [
              "id2-0-0",
              "outputarea_id2"
            ]
          }
        },
        {
          "output_type": "display_data",
          "data": {
            "application/javascript": [
              "window[\"b3535fd6-77ae-11eb-a30a-0242ac1c0002\"] = google.colab.output.setActiveOutputArea(window[\"b337ba42-77ae-11eb-a30a-0242ac1c0002\"]);\n",
              "//# sourceURL=js_0ecaf89156"
            ],
            "text/plain": [
              "<IPython.core.display.Javascript object>"
            ]
          },
          "metadata": {
            "tags": [
              "id2-0-0",
              "outputarea_id2"
            ]
          }
        },
        {
          "output_type": "display_data",
          "data": {
            "application/javascript": [
              "window[\"b354a10c-77ae-11eb-a30a-0242ac1c0002\"] = google.colab.output.getActiveOutputArea();\n",
              "//# sourceURL=js_3589bf40b3"
            ],
            "text/plain": [
              "<IPython.core.display.Javascript object>"
            ]
          },
          "metadata": {
            "tags": [
              "id2-0-0",
              "outputarea_id2"
            ]
          }
        },
        {
          "output_type": "display_data",
          "data": {
            "application/javascript": [
              "window[\"b354e5ea-77ae-11eb-a30a-0242ac1c0002\"] = document.querySelector(\"#id2-0-0\");\n",
              "//# sourceURL=js_dfdaf38e15"
            ],
            "text/plain": [
              "<IPython.core.display.Javascript object>"
            ]
          },
          "metadata": {
            "tags": [
              "id2-0-0",
              "outputarea_id2"
            ]
          }
        },
        {
          "output_type": "display_data",
          "data": {
            "application/javascript": [
              "window[\"b3552686-77ae-11eb-a30a-0242ac1c0002\"] = google.colab.output.setActiveOutputArea(window[\"b354e5ea-77ae-11eb-a30a-0242ac1c0002\"]);\n",
              "//# sourceURL=js_a7ed4614bc"
            ],
            "text/plain": [
              "<IPython.core.display.Javascript object>"
            ]
          },
          "metadata": {
            "tags": [
              "id2-0-0",
              "outputarea_id2"
            ]
          }
        },
        {
          "output_type": "display_data",
          "data": {
            "application/javascript": [
              "window[\"b36e3522-77ae-11eb-a30a-0242ac1c0002\"] = google.colab.output.setActiveOutputArea(window[\"b354a10c-77ae-11eb-a30a-0242ac1c0002\"]);\n",
              "//# sourceURL=js_cd8945bab5"
            ],
            "text/plain": [
              "<IPython.core.display.Javascript object>"
            ]
          },
          "metadata": {
            "tags": [
              "id2-0-0",
              "outputarea_id2"
            ]
          }
        },
        {
          "output_type": "display_data",
          "data": {
            "application/javascript": [
              "window[\"b36f7ea0-77ae-11eb-a30a-0242ac1c0002\"] = google.colab.output.getActiveOutputArea();\n",
              "//# sourceURL=js_9a8b924482"
            ],
            "text/plain": [
              "<IPython.core.display.Javascript object>"
            ]
          },
          "metadata": {
            "tags": [
              "id2-0-0",
              "outputarea_id2"
            ]
          }
        },
        {
          "output_type": "display_data",
          "data": {
            "application/javascript": [
              "window[\"b36fbfb4-77ae-11eb-a30a-0242ac1c0002\"] = document.querySelector(\"#id2-0-0\");\n",
              "//# sourceURL=js_e43b052c36"
            ],
            "text/plain": [
              "<IPython.core.display.Javascript object>"
            ]
          },
          "metadata": {
            "tags": [
              "id2-0-0",
              "outputarea_id2"
            ]
          }
        },
        {
          "output_type": "display_data",
          "data": {
            "application/javascript": [
              "window[\"b37002da-77ae-11eb-a30a-0242ac1c0002\"] = google.colab.output.setActiveOutputArea(window[\"b36fbfb4-77ae-11eb-a30a-0242ac1c0002\"]);\n",
              "//# sourceURL=js_6b3140cae5"
            ],
            "text/plain": [
              "<IPython.core.display.Javascript object>"
            ]
          },
          "metadata": {
            "tags": [
              "id2-0-0",
              "outputarea_id2"
            ]
          }
        },
        {
          "output_type": "display_data",
          "data": {
            "image/png": "[encoded data removed]",
            "text/plain": [
              "<Figure size 432x288 with 1 Axes>"
            ]
          },
          "metadata": {
            "tags": [
              "id2-0-0",
              "outputarea_id2",
              "user_output"
            ],
            "needs_background": "light"
          }
        },
        {
          "output_type": "display_data",
          "data": {
            "application/javascript": [
              "window[\"b38afb62-77ae-11eb-a30a-0242ac1c0002\"] = google.colab.output.setActiveOutputArea(window[\"b36f7ea0-77ae-11eb-a30a-0242ac1c0002\"]);\n",
              "//# sourceURL=js_27ceaa1055"
            ],
            "text/plain": [
              "<IPython.core.display.Javascript object>"
            ]
          },
          "metadata": {
            "tags": [
              "id2-0-0",
              "outputarea_id2"
            ]
          }
        },
        {
          "output_type": "stream",
          "text": [
            "Agent has reached the Goal position\n",
            "At the end of the run, the agent is at state 15 & got a total reward of 11\n"
          ],
          "name": "stdout"
        }
      ]
    },
    {
      "cell_type": "markdown",
      "metadata": {
        "id": "AKMY1JX9c_jK"
      },
      "source": [
        "*Running the random agent in the Stochastic Environment*"
      ]
    },
    {
      "cell_type": "code",
      "metadata": {
        "colab": {
          "base_uri": "https://localhost:8080/",
          "height": 307
        },
        "id": "w23Qr8k6ca_G",
        "outputId": "a3912d85-7b27-4a0c-f0d8-7e518cf08d4b"
      },
      "source": [
        "environment= StochasticEnvironment()\n",
        "random_agent= RandomAgent(env= environment)\n",
        "state= environment.reset()\n",
        "done= False\n",
        "\n",
        "grid= widgets.Grid(1, 1)\n",
        "\n",
        "total_reward= 0\n",
        "while not done:\n",
        "  action= random_agent.step(state= state)\n",
        "  next_state, reward, done, info= environment.step(action= action)\n",
        "  # print('By taking action \\'{}\\' the agent moved from {} to {} and got reward {}'.format(ACTION_LOOKUP[action], state, next_state, reward))\n",
        "  state= next_state\n",
        "  total_reward += reward\n",
        "\n",
        "  with grid.output_to(0, 0):\n",
        "    grid.clear_cell()\n",
        "    environment.render()\n",
        "    # time.sleep(1)\n",
        "\n",
        "if done == True and environment.timestep < MAX_TIMESTEPS:\n",
        "  print('Agent has reached the Goal position')\n",
        "elif done == True and environment.timestep == MAX_TIMESTEPS:\n",
        "  print('Agent ran out of time')\n",
        "\n",
        "print('At the end of the run, the agent got is at state {} & a total reward of {}'.format(state, total_reward))"
      ],
      "execution_count": 13,
      "outputs": [
        {
          "output_type": "display_data",
          "data": {
            "text/html": [
              "<style>\n",
              "       table#id4, #id4 > tbody > tr > th, #id4 > tbody > tr > td {\n",
              "         border: 1px solid lightgray;\n",
              "         border-collapse:collapse;\n",
              "         \n",
              "        }</style>"
            ],
            "text/plain": [
              "<IPython.core.display.HTML object>"
            ]
          },
          "metadata": {
            "tags": [
              "outputarea_id4"
            ]
          }
        },
        {
          "output_type": "display_data",
          "data": {
            "text/html": [
              "<table id=id4><tr><td id=id4-0-0></td></tr></table>"
            ],
            "text/plain": [
              "<IPython.core.display.HTML object>"
            ]
          },
          "metadata": {
            "tags": [
              "outputarea_id4"
            ]
          }
        },
        {
          "output_type": "display_data",
          "data": {
            "application/javascript": [
              "window[\"b3949730-77ae-11eb-a30a-0242ac1c0002\"] = google.colab.output.getActiveOutputArea();\n",
              "//# sourceURL=js_435f7ba41d"
            ],
            "text/plain": [
              "<IPython.core.display.Javascript object>"
            ]
          },
          "metadata": {
            "tags": [
              "id4-0-0",
              "outputarea_id4"
            ]
          }
        },
        {
          "output_type": "display_data",
          "data": {
            "application/javascript": [
              "window[\"b394f5e0-77ae-11eb-a30a-0242ac1c0002\"] = document.querySelector(\"#id4-0-0\");\n",
              "//# sourceURL=js_b61b0ebf04"
            ],
            "text/plain": [
              "<IPython.core.display.Javascript object>"
            ]
          },
          "metadata": {
            "tags": [
              "id4-0-0",
              "outputarea_id4"
            ]
          }
        },
        {
          "output_type": "display_data",
          "data": {
            "application/javascript": [
              "window[\"b395a1e8-77ae-11eb-a30a-0242ac1c0002\"] = google.colab.output.setActiveOutputArea(window[\"b394f5e0-77ae-11eb-a30a-0242ac1c0002\"]);\n",
              "//# sourceURL=js_b1d82e2b0e"
            ],
            "text/plain": [
              "<IPython.core.display.Javascript object>"
            ]
          },
          "metadata": {
            "tags": [
              "id4-0-0",
              "outputarea_id4"
            ]
          }
        },
        {
          "output_type": "display_data",
          "data": {
            "application/javascript": [
              "window[\"b3ba4246-77ae-11eb-a30a-0242ac1c0002\"] = google.colab.output.setActiveOutputArea(window[\"b3949730-77ae-11eb-a30a-0242ac1c0002\"]);\n",
              "//# sourceURL=js_d509da362a"
            ],
            "text/plain": [
              "<IPython.core.display.Javascript object>"
            ]
          },
          "metadata": {
            "tags": [
              "id4-0-0",
              "outputarea_id4"
            ]
          }
        },
        {
          "output_type": "display_data",
          "data": {
            "application/javascript": [
              "window[\"b3bb986c-77ae-11eb-a30a-0242ac1c0002\"] = google.colab.output.getActiveOutputArea();\n",
              "//# sourceURL=js_3e52267324"
            ],
            "text/plain": [
              "<IPython.core.display.Javascript object>"
            ]
          },
          "metadata": {
            "tags": [
              "id4-0-0",
              "outputarea_id4"
            ]
          }
        },
        {
          "output_type": "display_data",
          "data": {
            "application/javascript": [
              "window[\"b3bbdcdc-77ae-11eb-a30a-0242ac1c0002\"] = document.querySelector(\"#id4-0-0\");\n",
              "//# sourceURL=js_99dce22abb"
            ],
            "text/plain": [
              "<IPython.core.display.Javascript object>"
            ]
          },
          "metadata": {
            "tags": [
              "id4-0-0",
              "outputarea_id4"
            ]
          }
        },
        {
          "output_type": "display_data",
          "data": {
            "application/javascript": [
              "window[\"b3bc2106-77ae-11eb-a30a-0242ac1c0002\"] = google.colab.output.setActiveOutputArea(window[\"b3bbdcdc-77ae-11eb-a30a-0242ac1c0002\"]);\n",
              "//# sourceURL=js_e797d22035"
            ],
            "text/plain": [
              "<IPython.core.display.Javascript object>"
            ]
          },
          "metadata": {
            "tags": [
              "id4-0-0",
              "outputarea_id4"
            ]
          }
        },
        {
          "output_type": "display_data",
          "data": {
            "application/javascript": [
              "window[\"b3d6281c-77ae-11eb-a30a-0242ac1c0002\"] = google.colab.output.setActiveOutputArea(window[\"b3bb986c-77ae-11eb-a30a-0242ac1c0002\"]);\n",
              "//# sourceURL=js_347709e13a"
            ],
            "text/plain": [
              "<IPython.core.display.Javascript object>"
            ]
          },
          "metadata": {
            "tags": [
              "id4-0-0",
              "outputarea_id4"
            ]
          }
        },
        {
          "output_type": "display_data",
          "data": {
            "application/javascript": [
              "window[\"b3d78c66-77ae-11eb-a30a-0242ac1c0002\"] = google.colab.output.getActiveOutputArea();\n",
              "//# sourceURL=js_889110366c"
            ],
            "text/plain": [
              "<IPython.core.display.Javascript object>"
            ]
          },
          "metadata": {
            "tags": [
              "id4-0-0",
              "outputarea_id4"
            ]
          }
        },
        {
          "output_type": "display_data",
          "data": {
            "application/javascript": [
              "window[\"b3d7d32e-77ae-11eb-a30a-0242ac1c0002\"] = document.querySelector(\"#id4-0-0\");\n",
              "//# sourceURL=js_25515b5f16"
            ],
            "text/plain": [
              "<IPython.core.display.Javascript object>"
            ]
          },
          "metadata": {
            "tags": [
              "id4-0-0",
              "outputarea_id4"
            ]
          }
        },
        {
          "output_type": "display_data",
          "data": {
            "application/javascript": [
              "window[\"b3d81e10-77ae-11eb-a30a-0242ac1c0002\"] = google.colab.output.setActiveOutputArea(window[\"b3d7d32e-77ae-11eb-a30a-0242ac1c0002\"]);\n",
              "//# sourceURL=js_0aad4193d2"
            ],
            "text/plain": [
              "<IPython.core.display.Javascript object>"
            ]
          },
          "metadata": {
            "tags": [
              "id4-0-0",
              "outputarea_id4"
            ]
          }
        },
        {
          "output_type": "display_data",
          "data": {
            "application/javascript": [
              "window[\"b3f32bec-77ae-11eb-a30a-0242ac1c0002\"] = google.colab.output.setActiveOutputArea(window[\"b3d78c66-77ae-11eb-a30a-0242ac1c0002\"]);\n",
              "//# sourceURL=js_7c11a35f8b"
            ],
            "text/plain": [
              "<IPython.core.display.Javascript object>"
            ]
          },
          "metadata": {
            "tags": [
              "id4-0-0",
              "outputarea_id4"
            ]
          }
        },
        {
          "output_type": "display_data",
          "data": {
            "application/javascript": [
              "window[\"b3f49e5a-77ae-11eb-a30a-0242ac1c0002\"] = google.colab.output.getActiveOutputArea();\n",
              "//# sourceURL=js_e24454ad31"
            ],
            "text/plain": [
              "<IPython.core.display.Javascript object>"
            ]
          },
          "metadata": {
            "tags": [
              "id4-0-0",
              "outputarea_id4"
            ]
          }
        },
        {
          "output_type": "display_data",
          "data": {
            "application/javascript": [
              "window[\"b3f4f3fa-77ae-11eb-a30a-0242ac1c0002\"] = document.querySelector(\"#id4-0-0\");\n",
              "//# sourceURL=js_0692fd5790"
            ],
            "text/plain": [
              "<IPython.core.display.Javascript object>"
            ]
          },
          "metadata": {
            "tags": [
              "id4-0-0",
              "outputarea_id4"
            ]
          }
        },
        {
          "output_type": "display_data",
          "data": {
            "application/javascript": [
              "window[\"b3f53d42-77ae-11eb-a30a-0242ac1c0002\"] = google.colab.output.setActiveOutputArea(window[\"b3f4f3fa-77ae-11eb-a30a-0242ac1c0002\"]);\n",
              "//# sourceURL=js_de2394e1ef"
            ],
            "text/plain": [
              "<IPython.core.display.Javascript object>"
            ]
          },
          "metadata": {
            "tags": [
              "id4-0-0",
              "outputarea_id4"
            ]
          }
        },
        {
          "output_type": "display_data",
          "data": {
            "application/javascript": [
              "window[\"b411897a-77ae-11eb-a30a-0242ac1c0002\"] = google.colab.output.setActiveOutputArea(window[\"b3f49e5a-77ae-11eb-a30a-0242ac1c0002\"]);\n",
              "//# sourceURL=js_f2ee6a8a42"
            ],
            "text/plain": [
              "<IPython.core.display.Javascript object>"
            ]
          },
          "metadata": {
            "tags": [
              "id4-0-0",
              "outputarea_id4"
            ]
          }
        },
        {
          "output_type": "display_data",
          "data": {
            "application/javascript": [
              "window[\"b4141a28-77ae-11eb-a30a-0242ac1c0002\"] = google.colab.output.getActiveOutputArea();\n",
              "//# sourceURL=js_f3bbb3ea52"
            ],
            "text/plain": [
              "<IPython.core.display.Javascript object>"
            ]
          },
          "metadata": {
            "tags": [
              "id4-0-0",
              "outputarea_id4"
            ]
          }
        },
        {
          "output_type": "display_data",
          "data": {
            "application/javascript": [
              "window[\"b414c9dc-77ae-11eb-a30a-0242ac1c0002\"] = document.querySelector(\"#id4-0-0\");\n",
              "//# sourceURL=js_4ece93673c"
            ],
            "text/plain": [
              "<IPython.core.display.Javascript object>"
            ]
          },
          "metadata": {
            "tags": [
              "id4-0-0",
              "outputarea_id4"
            ]
          }
        },
        {
          "output_type": "display_data",
          "data": {
            "application/javascript": [
              "window[\"b4155136-77ae-11eb-a30a-0242ac1c0002\"] = google.colab.output.setActiveOutputArea(window[\"b414c9dc-77ae-11eb-a30a-0242ac1c0002\"]);\n",
              "//# sourceURL=js_e3f7aec4d8"
            ],
            "text/plain": [
              "<IPython.core.display.Javascript object>"
            ]
          },
          "metadata": {
            "tags": [
              "id4-0-0",
              "outputarea_id4"
            ]
          }
        },
        {
          "output_type": "display_data",
          "data": {
            "application/javascript": [
              "window[\"b42f7a98-77ae-11eb-a30a-0242ac1c0002\"] = google.colab.output.setActiveOutputArea(window[\"b4141a28-77ae-11eb-a30a-0242ac1c0002\"]);\n",
              "//# sourceURL=js_98ecda39f9"
            ],
            "text/plain": [
              "<IPython.core.display.Javascript object>"
            ]
          },
          "metadata": {
            "tags": [
              "id4-0-0",
              "outputarea_id4"
            ]
          }
        },
        {
          "output_type": "display_data",
          "data": {
            "application/javascript": [
              "window[\"b4312ea6-77ae-11eb-a30a-0242ac1c0002\"] = google.colab.output.getActiveOutputArea();\n",
              "//# sourceURL=js_df922b55b7"
            ],
            "text/plain": [
              "<IPython.core.display.Javascript object>"
            ]
          },
          "metadata": {
            "tags": [
              "id4-0-0",
              "outputarea_id4"
            ]
          }
        },
        {
          "output_type": "display_data",
          "data": {
            "application/javascript": [
              "window[\"b4317924-77ae-11eb-a30a-0242ac1c0002\"] = document.querySelector(\"#id4-0-0\");\n",
              "//# sourceURL=js_18e3bfcb63"
            ],
            "text/plain": [
              "<IPython.core.display.Javascript object>"
            ]
          },
          "metadata": {
            "tags": [
              "id4-0-0",
              "outputarea_id4"
            ]
          }
        },
        {
          "output_type": "display_data",
          "data": {
            "application/javascript": [
              "window[\"b431dd7e-77ae-11eb-a30a-0242ac1c0002\"] = google.colab.output.setActiveOutputArea(window[\"b4317924-77ae-11eb-a30a-0242ac1c0002\"]);\n",
              "//# sourceURL=js_1ff672023b"
            ],
            "text/plain": [
              "<IPython.core.display.Javascript object>"
            ]
          },
          "metadata": {
            "tags": [
              "id4-0-0",
              "outputarea_id4"
            ]
          }
        },
        {
          "output_type": "display_data",
          "data": {
            "application/javascript": [
              "window[\"b44fce7e-77ae-11eb-a30a-0242ac1c0002\"] = google.colab.output.setActiveOutputArea(window[\"b4312ea6-77ae-11eb-a30a-0242ac1c0002\"]);\n",
              "//# sourceURL=js_fa9e30ba1a"
            ],
            "text/plain": [
              "<IPython.core.display.Javascript object>"
            ]
          },
          "metadata": {
            "tags": [
              "id4-0-0",
              "outputarea_id4"
            ]
          }
        },
        {
          "output_type": "display_data",
          "data": {
            "application/javascript": [
              "window[\"b4513ba6-77ae-11eb-a30a-0242ac1c0002\"] = google.colab.output.getActiveOutputArea();\n",
              "//# sourceURL=js_c28cb7611c"
            ],
            "text/plain": [
              "<IPython.core.display.Javascript object>"
            ]
          },
          "metadata": {
            "tags": [
              "id4-0-0",
              "outputarea_id4"
            ]
          }
        },
        {
          "output_type": "display_data",
          "data": {
            "application/javascript": [
              "window[\"b4518534-77ae-11eb-a30a-0242ac1c0002\"] = document.querySelector(\"#id4-0-0\");\n",
              "//# sourceURL=js_b9c81a94fc"
            ],
            "text/plain": [
              "<IPython.core.display.Javascript object>"
            ]
          },
          "metadata": {
            "tags": [
              "id4-0-0",
              "outputarea_id4"
            ]
          }
        },
        {
          "output_type": "display_data",
          "data": {
            "application/javascript": [
              "window[\"b451ce36-77ae-11eb-a30a-0242ac1c0002\"] = google.colab.output.setActiveOutputArea(window[\"b4518534-77ae-11eb-a30a-0242ac1c0002\"]);\n",
              "//# sourceURL=js_fef493887c"
            ],
            "text/plain": [
              "<IPython.core.display.Javascript object>"
            ]
          },
          "metadata": {
            "tags": [
              "id4-0-0",
              "outputarea_id4"
            ]
          }
        },
        {
          "output_type": "display_data",
          "data": {
            "application/javascript": [
              "window[\"b46cfe9a-77ae-11eb-a30a-0242ac1c0002\"] = google.colab.output.setActiveOutputArea(window[\"b4513ba6-77ae-11eb-a30a-0242ac1c0002\"]);\n",
              "//# sourceURL=js_bae9242705"
            ],
            "text/plain": [
              "<IPython.core.display.Javascript object>"
            ]
          },
          "metadata": {
            "tags": [
              "id4-0-0",
              "outputarea_id4"
            ]
          }
        },
        {
          "output_type": "display_data",
          "data": {
            "application/javascript": [
              "window[\"b46e96f6-77ae-11eb-a30a-0242ac1c0002\"] = google.colab.output.getActiveOutputArea();\n",
              "//# sourceURL=js_295f335cd8"
            ],
            "text/plain": [
              "<IPython.core.display.Javascript object>"
            ]
          },
          "metadata": {
            "tags": [
              "id4-0-0",
              "outputarea_id4"
            ]
          }
        },
        {
          "output_type": "display_data",
          "data": {
            "application/javascript": [
              "window[\"b46f0b04-77ae-11eb-a30a-0242ac1c0002\"] = document.querySelector(\"#id4-0-0\");\n",
              "//# sourceURL=js_571e21478c"
            ],
            "text/plain": [
              "<IPython.core.display.Javascript object>"
            ]
          },
          "metadata": {
            "tags": [
              "id4-0-0",
              "outputarea_id4"
            ]
          }
        },
        {
          "output_type": "display_data",
          "data": {
            "application/javascript": [
              "window[\"b46f5712-77ae-11eb-a30a-0242ac1c0002\"] = google.colab.output.setActiveOutputArea(window[\"b46f0b04-77ae-11eb-a30a-0242ac1c0002\"]);\n",
              "//# sourceURL=js_46db9b7cf5"
            ],
            "text/plain": [
              "<IPython.core.display.Javascript object>"
            ]
          },
          "metadata": {
            "tags": [
              "id4-0-0",
              "outputarea_id4"
            ]
          }
        },
        {
          "output_type": "display_data",
          "data": {
            "application/javascript": [
              "window[\"b48a092c-77ae-11eb-a30a-0242ac1c0002\"] = google.colab.output.setActiveOutputArea(window[\"b46e96f6-77ae-11eb-a30a-0242ac1c0002\"]);\n",
              "//# sourceURL=js_b4aa488556"
            ],
            "text/plain": [
              "<IPython.core.display.Javascript object>"
            ]
          },
          "metadata": {
            "tags": [
              "id4-0-0",
              "outputarea_id4"
            ]
          }
        },
        {
          "output_type": "display_data",
          "data": {
            "application/javascript": [
              "window[\"b48b7f82-77ae-11eb-a30a-0242ac1c0002\"] = google.colab.output.getActiveOutputArea();\n",
              "//# sourceURL=js_5d36c4228c"
            ],
            "text/plain": [
              "<IPython.core.display.Javascript object>"
            ]
          },
          "metadata": {
            "tags": [
              "id4-0-0",
              "outputarea_id4"
            ]
          }
        },
        {
          "output_type": "display_data",
          "data": {
            "application/javascript": [
              "window[\"b48bca78-77ae-11eb-a30a-0242ac1c0002\"] = document.querySelector(\"#id4-0-0\");\n",
              "//# sourceURL=js_62fc543ee6"
            ],
            "text/plain": [
              "<IPython.core.display.Javascript object>"
            ]
          },
          "metadata": {
            "tags": [
              "id4-0-0",
              "outputarea_id4"
            ]
          }
        },
        {
          "output_type": "display_data",
          "data": {
            "application/javascript": [
              "window[\"b48c147e-77ae-11eb-a30a-0242ac1c0002\"] = google.colab.output.setActiveOutputArea(window[\"b48bca78-77ae-11eb-a30a-0242ac1c0002\"]);\n",
              "//# sourceURL=js_8f89ce1dbf"
            ],
            "text/plain": [
              "<IPython.core.display.Javascript object>"
            ]
          },
          "metadata": {
            "tags": [
              "id4-0-0",
              "outputarea_id4"
            ]
          }
        },
        {
          "output_type": "display_data",
          "data": {
            "application/javascript": [
              "window[\"b4a95656-77ae-11eb-a30a-0242ac1c0002\"] = google.colab.output.setActiveOutputArea(window[\"b48b7f82-77ae-11eb-a30a-0242ac1c0002\"]);\n",
              "//# sourceURL=js_1af917944d"
            ],
            "text/plain": [
              "<IPython.core.display.Javascript object>"
            ]
          },
          "metadata": {
            "tags": [
              "id4-0-0",
              "outputarea_id4"
            ]
          }
        },
        {
          "output_type": "display_data",
          "data": {
            "application/javascript": [
              "window[\"b4aae002-77ae-11eb-a30a-0242ac1c0002\"] = google.colab.output.getActiveOutputArea();\n",
              "//# sourceURL=js_746f2b868d"
            ],
            "text/plain": [
              "<IPython.core.display.Javascript object>"
            ]
          },
          "metadata": {
            "tags": [
              "id4-0-0",
              "outputarea_id4"
            ]
          }
        },
        {
          "output_type": "display_data",
          "data": {
            "application/javascript": [
              "window[\"b4ab27ba-77ae-11eb-a30a-0242ac1c0002\"] = document.querySelector(\"#id4-0-0\");\n",
              "//# sourceURL=js_1f1cade6e4"
            ],
            "text/plain": [
              "<IPython.core.display.Javascript object>"
            ]
          },
          "metadata": {
            "tags": [
              "id4-0-0",
              "outputarea_id4"
            ]
          }
        },
        {
          "output_type": "display_data",
          "data": {
            "application/javascript": [
              "window[\"b4acb38c-77ae-11eb-a30a-0242ac1c0002\"] = google.colab.output.setActiveOutputArea(window[\"b4ab27ba-77ae-11eb-a30a-0242ac1c0002\"]);\n",
              "//# sourceURL=js_9b3060b9b0"
            ],
            "text/plain": [
              "<IPython.core.display.Javascript object>"
            ]
          },
          "metadata": {
            "tags": [
              "id4-0-0",
              "outputarea_id4"
            ]
          }
        },
        {
          "output_type": "display_data",
          "data": {
            "application/javascript": [
              "window[\"b4cb9a4a-77ae-11eb-a30a-0242ac1c0002\"] = google.colab.output.setActiveOutputArea(window[\"b4aae002-77ae-11eb-a30a-0242ac1c0002\"]);\n",
              "//# sourceURL=js_aa75b12d83"
            ],
            "text/plain": [
              "<IPython.core.display.Javascript object>"
            ]
          },
          "metadata": {
            "tags": [
              "id4-0-0",
              "outputarea_id4"
            ]
          }
        },
        {
          "output_type": "display_data",
          "data": {
            "application/javascript": [
              "window[\"b4cd72c0-77ae-11eb-a30a-0242ac1c0002\"] = google.colab.output.getActiveOutputArea();\n",
              "//# sourceURL=js_e918070071"
            ],
            "text/plain": [
              "<IPython.core.display.Javascript object>"
            ]
          },
          "metadata": {
            "tags": [
              "id4-0-0",
              "outputarea_id4"
            ]
          }
        },
        {
          "output_type": "display_data",
          "data": {
            "application/javascript": [
              "window[\"b4cdb7c6-77ae-11eb-a30a-0242ac1c0002\"] = document.querySelector(\"#id4-0-0\");\n",
              "//# sourceURL=js_4bd2bc577d"
            ],
            "text/plain": [
              "<IPython.core.display.Javascript object>"
            ]
          },
          "metadata": {
            "tags": [
              "id4-0-0",
              "outputarea_id4"
            ]
          }
        },
        {
          "output_type": "display_data",
          "data": {
            "application/javascript": [
              "window[\"b4cdfd4e-77ae-11eb-a30a-0242ac1c0002\"] = google.colab.output.setActiveOutputArea(window[\"b4cdb7c6-77ae-11eb-a30a-0242ac1c0002\"]);\n",
              "//# sourceURL=js_b593fca95b"
            ],
            "text/plain": [
              "<IPython.core.display.Javascript object>"
            ]
          },
          "metadata": {
            "tags": [
              "id4-0-0",
              "outputarea_id4"
            ]
          }
        },
        {
          "output_type": "display_data",
          "data": {
            "application/javascript": [
              "window[\"b4eb9f7a-77ae-11eb-a30a-0242ac1c0002\"] = google.colab.output.setActiveOutputArea(window[\"b4cd72c0-77ae-11eb-a30a-0242ac1c0002\"]);\n",
              "//# sourceURL=js_9d79ab18c6"
            ],
            "text/plain": [
              "<IPython.core.display.Javascript object>"
            ]
          },
          "metadata": {
            "tags": [
              "id4-0-0",
              "outputarea_id4"
            ]
          }
        },
        {
          "output_type": "display_data",
          "data": {
            "application/javascript": [
              "window[\"b4ed3f06-77ae-11eb-a30a-0242ac1c0002\"] = google.colab.output.getActiveOutputArea();\n",
              "//# sourceURL=js_0ed072105a"
            ],
            "text/plain": [
              "<IPython.core.display.Javascript object>"
            ]
          },
          "metadata": {
            "tags": [
              "id4-0-0",
              "outputarea_id4"
            ]
          }
        },
        {
          "output_type": "display_data",
          "data": {
            "application/javascript": [
              "window[\"b4ed94ec-77ae-11eb-a30a-0242ac1c0002\"] = document.querySelector(\"#id4-0-0\");\n",
              "//# sourceURL=js_5d71ef5a4f"
            ],
            "text/plain": [
              "<IPython.core.display.Javascript object>"
            ]
          },
          "metadata": {
            "tags": [
              "id4-0-0",
              "outputarea_id4"
            ]
          }
        },
        {
          "output_type": "display_data",
          "data": {
            "application/javascript": [
              "window[\"b4edef1e-77ae-11eb-a30a-0242ac1c0002\"] = google.colab.output.setActiveOutputArea(window[\"b4ed94ec-77ae-11eb-a30a-0242ac1c0002\"]);\n",
              "//# sourceURL=js_6e7169db7e"
            ],
            "text/plain": [
              "<IPython.core.display.Javascript object>"
            ]
          },
          "metadata": {
            "tags": [
              "id4-0-0",
              "outputarea_id4"
            ]
          }
        },
        {
          "output_type": "display_data",
          "data": {
            "application/javascript": [
              "window[\"b516d280-77ae-11eb-a30a-0242ac1c0002\"] = google.colab.output.setActiveOutputArea(window[\"b4ed3f06-77ae-11eb-a30a-0242ac1c0002\"]);\n",
              "//# sourceURL=js_057093db9a"
            ],
            "text/plain": [
              "<IPython.core.display.Javascript object>"
            ]
          },
          "metadata": {
            "tags": [
              "id4-0-0",
              "outputarea_id4"
            ]
          }
        },
        {
          "output_type": "display_data",
          "data": {
            "application/javascript": [
              "window[\"b5186366-77ae-11eb-a30a-0242ac1c0002\"] = google.colab.output.getActiveOutputArea();\n",
              "//# sourceURL=js_d34f00e110"
            ],
            "text/plain": [
              "<IPython.core.display.Javascript object>"
            ]
          },
          "metadata": {
            "tags": [
              "id4-0-0",
              "outputarea_id4"
            ]
          }
        },
        {
          "output_type": "display_data",
          "data": {
            "application/javascript": [
              "window[\"b518b3e8-77ae-11eb-a30a-0242ac1c0002\"] = document.querySelector(\"#id4-0-0\");\n",
              "//# sourceURL=js_2511dd65c0"
            ],
            "text/plain": [
              "<IPython.core.display.Javascript object>"
            ]
          },
          "metadata": {
            "tags": [
              "id4-0-0",
              "outputarea_id4"
            ]
          }
        },
        {
          "output_type": "display_data",
          "data": {
            "application/javascript": [
              "window[\"b51917d4-77ae-11eb-a30a-0242ac1c0002\"] = google.colab.output.setActiveOutputArea(window[\"b518b3e8-77ae-11eb-a30a-0242ac1c0002\"]);\n",
              "//# sourceURL=js_d7136a6c36"
            ],
            "text/plain": [
              "<IPython.core.display.Javascript object>"
            ]
          },
          "metadata": {
            "tags": [
              "id4-0-0",
              "outputarea_id4"
            ]
          }
        },
        {
          "output_type": "display_data",
          "data": {
            "application/javascript": [
              "window[\"b5365fc4-77ae-11eb-a30a-0242ac1c0002\"] = google.colab.output.setActiveOutputArea(window[\"b5186366-77ae-11eb-a30a-0242ac1c0002\"]);\n",
              "//# sourceURL=js_49b7228170"
            ],
            "text/plain": [
              "<IPython.core.display.Javascript object>"
            ]
          },
          "metadata": {
            "tags": [
              "id4-0-0",
              "outputarea_id4"
            ]
          }
        },
        {
          "output_type": "display_data",
          "data": {
            "application/javascript": [
              "window[\"b537e84e-77ae-11eb-a30a-0242ac1c0002\"] = google.colab.output.getActiveOutputArea();\n",
              "//# sourceURL=js_641c582869"
            ],
            "text/plain": [
              "<IPython.core.display.Javascript object>"
            ]
          },
          "metadata": {
            "tags": [
              "id4-0-0",
              "outputarea_id4"
            ]
          }
        },
        {
          "output_type": "display_data",
          "data": {
            "application/javascript": [
              "window[\"b538306a-77ae-11eb-a30a-0242ac1c0002\"] = document.querySelector(\"#id4-0-0\");\n",
              "//# sourceURL=js_1b11df0269"
            ],
            "text/plain": [
              "<IPython.core.display.Javascript object>"
            ]
          },
          "metadata": {
            "tags": [
              "id4-0-0",
              "outputarea_id4"
            ]
          }
        },
        {
          "output_type": "display_data",
          "data": {
            "application/javascript": [
              "window[\"b538937a-77ae-11eb-a30a-0242ac1c0002\"] = google.colab.output.setActiveOutputArea(window[\"b538306a-77ae-11eb-a30a-0242ac1c0002\"]);\n",
              "//# sourceURL=js_e2dd4db419"
            ],
            "text/plain": [
              "<IPython.core.display.Javascript object>"
            ]
          },
          "metadata": {
            "tags": [
              "id4-0-0",
              "outputarea_id4"
            ]
          }
        },
        {
          "output_type": "display_data",
          "data": {
            "application/javascript": [
              "window[\"b5562890-77ae-11eb-a30a-0242ac1c0002\"] = google.colab.output.setActiveOutputArea(window[\"b537e84e-77ae-11eb-a30a-0242ac1c0002\"]);\n",
              "//# sourceURL=js_4dd8f8ceb6"
            ],
            "text/plain": [
              "<IPython.core.display.Javascript object>"
            ]
          },
          "metadata": {
            "tags": [
              "id4-0-0",
              "outputarea_id4"
            ]
          }
        },
        {
          "output_type": "display_data",
          "data": {
            "application/javascript": [
              "window[\"b557f828-77ae-11eb-a30a-0242ac1c0002\"] = google.colab.output.getActiveOutputArea();\n",
              "//# sourceURL=js_5136badf2b"
            ],
            "text/plain": [
              "<IPython.core.display.Javascript object>"
            ]
          },
          "metadata": {
            "tags": [
              "id4-0-0",
              "outputarea_id4"
            ]
          }
        },
        {
          "output_type": "display_data",
          "data": {
            "application/javascript": [
              "window[\"b5584d64-77ae-11eb-a30a-0242ac1c0002\"] = document.querySelector(\"#id4-0-0\");\n",
              "//# sourceURL=js_e3f48469f5"
            ],
            "text/plain": [
              "<IPython.core.display.Javascript object>"
            ]
          },
          "metadata": {
            "tags": [
              "id4-0-0",
              "outputarea_id4"
            ]
          }
        },
        {
          "output_type": "display_data",
          "data": {
            "application/javascript": [
              "window[\"b5589ad0-77ae-11eb-a30a-0242ac1c0002\"] = google.colab.output.setActiveOutputArea(window[\"b5584d64-77ae-11eb-a30a-0242ac1c0002\"]);\n",
              "//# sourceURL=js_c24aba2cfb"
            ],
            "text/plain": [
              "<IPython.core.display.Javascript object>"
            ]
          },
          "metadata": {
            "tags": [
              "id4-0-0",
              "outputarea_id4"
            ]
          }
        },
        {
          "output_type": "display_data",
          "data": {
            "application/javascript": [
              "window[\"b5768310-77ae-11eb-a30a-0242ac1c0002\"] = google.colab.output.setActiveOutputArea(window[\"b557f828-77ae-11eb-a30a-0242ac1c0002\"]);\n",
              "//# sourceURL=js_277f5210be"
            ],
            "text/plain": [
              "<IPython.core.display.Javascript object>"
            ]
          },
          "metadata": {
            "tags": [
              "id4-0-0",
              "outputarea_id4"
            ]
          }
        },
        {
          "output_type": "display_data",
          "data": {
            "application/javascript": [
              "window[\"b577cd7e-77ae-11eb-a30a-0242ac1c0002\"] = google.colab.output.getActiveOutputArea();\n",
              "//# sourceURL=js_4a57d076db"
            ],
            "text/plain": [
              "<IPython.core.display.Javascript object>"
            ]
          },
          "metadata": {
            "tags": [
              "id4-0-0",
              "outputarea_id4"
            ]
          }
        },
        {
          "output_type": "display_data",
          "data": {
            "application/javascript": [
              "window[\"b5781022-77ae-11eb-a30a-0242ac1c0002\"] = document.querySelector(\"#id4-0-0\");\n",
              "//# sourceURL=js_eb3314dcbb"
            ],
            "text/plain": [
              "<IPython.core.display.Javascript object>"
            ]
          },
          "metadata": {
            "tags": [
              "id4-0-0",
              "outputarea_id4"
            ]
          }
        },
        {
          "output_type": "display_data",
          "data": {
            "application/javascript": [
              "window[\"b5785230-77ae-11eb-a30a-0242ac1c0002\"] = google.colab.output.setActiveOutputArea(window[\"b5781022-77ae-11eb-a30a-0242ac1c0002\"]);\n",
              "//# sourceURL=js_51d269de52"
            ],
            "text/plain": [
              "<IPython.core.display.Javascript object>"
            ]
          },
          "metadata": {
            "tags": [
              "id4-0-0",
              "outputarea_id4"
            ]
          }
        },
        {
          "output_type": "display_data",
          "data": {
            "application/javascript": [
              "window[\"b592604e-77ae-11eb-a30a-0242ac1c0002\"] = google.colab.output.setActiveOutputArea(window[\"b577cd7e-77ae-11eb-a30a-0242ac1c0002\"]);\n",
              "//# sourceURL=js_b67bae69d7"
            ],
            "text/plain": [
              "<IPython.core.display.Javascript object>"
            ]
          },
          "metadata": {
            "tags": [
              "id4-0-0",
              "outputarea_id4"
            ]
          }
        },
        {
          "output_type": "display_data",
          "data": {
            "application/javascript": [
              "window[\"b593ab34-77ae-11eb-a30a-0242ac1c0002\"] = google.colab.output.getActiveOutputArea();\n",
              "//# sourceURL=js_4f63ee5959"
            ],
            "text/plain": [
              "<IPython.core.display.Javascript object>"
            ]
          },
          "metadata": {
            "tags": [
              "id4-0-0",
              "outputarea_id4"
            ]
          }
        },
        {
          "output_type": "display_data",
          "data": {
            "application/javascript": [
              "window[\"b593ebda-77ae-11eb-a30a-0242ac1c0002\"] = document.querySelector(\"#id4-0-0\");\n",
              "//# sourceURL=js_8432d2eb85"
            ],
            "text/plain": [
              "<IPython.core.display.Javascript object>"
            ]
          },
          "metadata": {
            "tags": [
              "id4-0-0",
              "outputarea_id4"
            ]
          }
        },
        {
          "output_type": "display_data",
          "data": {
            "application/javascript": [
              "window[\"b5942af0-77ae-11eb-a30a-0242ac1c0002\"] = google.colab.output.setActiveOutputArea(window[\"b593ebda-77ae-11eb-a30a-0242ac1c0002\"]);\n",
              "//# sourceURL=js_c31862fc80"
            ],
            "text/plain": [
              "<IPython.core.display.Javascript object>"
            ]
          },
          "metadata": {
            "tags": [
              "id4-0-0",
              "outputarea_id4"
            ]
          }
        },
        {
          "output_type": "display_data",
          "data": {
            "application/javascript": [
              "window[\"b5b1e644-77ae-11eb-a30a-0242ac1c0002\"] = google.colab.output.setActiveOutputArea(window[\"b593ab34-77ae-11eb-a30a-0242ac1c0002\"]);\n",
              "//# sourceURL=js_4a235abb72"
            ],
            "text/plain": [
              "<IPython.core.display.Javascript object>"
            ]
          },
          "metadata": {
            "tags": [
              "id4-0-0",
              "outputarea_id4"
            ]
          }
        },
        {
          "output_type": "display_data",
          "data": {
            "application/javascript": [
              "window[\"b5b34a02-77ae-11eb-a30a-0242ac1c0002\"] = google.colab.output.getActiveOutputArea();\n",
              "//# sourceURL=js_09200c2880"
            ],
            "text/plain": [
              "<IPython.core.display.Javascript object>"
            ]
          },
          "metadata": {
            "tags": [
              "id4-0-0",
              "outputarea_id4"
            ]
          }
        },
        {
          "output_type": "display_data",
          "data": {
            "application/javascript": [
              "window[\"b5b39282-77ae-11eb-a30a-0242ac1c0002\"] = document.querySelector(\"#id4-0-0\");\n",
              "//# sourceURL=js_8a523e0e4d"
            ],
            "text/plain": [
              "<IPython.core.display.Javascript object>"
            ]
          },
          "metadata": {
            "tags": [
              "id4-0-0",
              "outputarea_id4"
            ]
          }
        },
        {
          "output_type": "display_data",
          "data": {
            "application/javascript": [
              "window[\"b5b3d68e-77ae-11eb-a30a-0242ac1c0002\"] = google.colab.output.setActiveOutputArea(window[\"b5b39282-77ae-11eb-a30a-0242ac1c0002\"]);\n",
              "//# sourceURL=js_850364d059"
            ],
            "text/plain": [
              "<IPython.core.display.Javascript object>"
            ]
          },
          "metadata": {
            "tags": [
              "id4-0-0",
              "outputarea_id4"
            ]
          }
        },
        {
          "output_type": "display_data",
          "data": {
            "application/javascript": [
              "window[\"b5cf99f0-77ae-11eb-a30a-0242ac1c0002\"] = google.colab.output.setActiveOutputArea(window[\"b5b34a02-77ae-11eb-a30a-0242ac1c0002\"]);\n",
              "//# sourceURL=js_f182f610dc"
            ],
            "text/plain": [
              "<IPython.core.display.Javascript object>"
            ]
          },
          "metadata": {
            "tags": [
              "id4-0-0",
              "outputarea_id4"
            ]
          }
        },
        {
          "output_type": "display_data",
          "data": {
            "application/javascript": [
              "window[\"b5d0e31e-77ae-11eb-a30a-0242ac1c0002\"] = google.colab.output.getActiveOutputArea();\n",
              "//# sourceURL=js_0fd7ec8ebd"
            ],
            "text/plain": [
              "<IPython.core.display.Javascript object>"
            ]
          },
          "metadata": {
            "tags": [
              "id4-0-0",
              "outputarea_id4"
            ]
          }
        },
        {
          "output_type": "display_data",
          "data": {
            "application/javascript": [
              "window[\"b5d12400-77ae-11eb-a30a-0242ac1c0002\"] = document.querySelector(\"#id4-0-0\");\n",
              "//# sourceURL=js_2199e28fbf"
            ],
            "text/plain": [
              "<IPython.core.display.Javascript object>"
            ]
          },
          "metadata": {
            "tags": [
              "id4-0-0",
              "outputarea_id4"
            ]
          }
        },
        {
          "output_type": "display_data",
          "data": {
            "application/javascript": [
              "window[\"b5d16596-77ae-11eb-a30a-0242ac1c0002\"] = google.colab.output.setActiveOutputArea(window[\"b5d12400-77ae-11eb-a30a-0242ac1c0002\"]);\n",
              "//# sourceURL=js_04fee35d1d"
            ],
            "text/plain": [
              "<IPython.core.display.Javascript object>"
            ]
          },
          "metadata": {
            "tags": [
              "id4-0-0",
              "outputarea_id4"
            ]
          }
        },
        {
          "output_type": "display_data",
          "data": {
            "application/javascript": [
              "window[\"b5f0670c-77ae-11eb-a30a-0242ac1c0002\"] = google.colab.output.setActiveOutputArea(window[\"b5d0e31e-77ae-11eb-a30a-0242ac1c0002\"]);\n",
              "//# sourceURL=js_b3172554ed"
            ],
            "text/plain": [
              "<IPython.core.display.Javascript object>"
            ]
          },
          "metadata": {
            "tags": [
              "id4-0-0",
              "outputarea_id4"
            ]
          }
        },
        {
          "output_type": "display_data",
          "data": {
            "application/javascript": [
              "window[\"b5f37870-77ae-11eb-a30a-0242ac1c0002\"] = google.colab.output.getActiveOutputArea();\n",
              "//# sourceURL=js_c8d19f0249"
            ],
            "text/plain": [
              "<IPython.core.display.Javascript object>"
            ]
          },
          "metadata": {
            "tags": [
              "id4-0-0",
              "outputarea_id4"
            ]
          }
        },
        {
          "output_type": "display_data",
          "data": {
            "application/javascript": [
              "window[\"b5f42676-77ae-11eb-a30a-0242ac1c0002\"] = document.querySelector(\"#id4-0-0\");\n",
              "//# sourceURL=js_a01b2a66c6"
            ],
            "text/plain": [
              "<IPython.core.display.Javascript object>"
            ]
          },
          "metadata": {
            "tags": [
              "id4-0-0",
              "outputarea_id4"
            ]
          }
        },
        {
          "output_type": "display_data",
          "data": {
            "application/javascript": [
              "window[\"b5f47d88-77ae-11eb-a30a-0242ac1c0002\"] = google.colab.output.setActiveOutputArea(window[\"b5f42676-77ae-11eb-a30a-0242ac1c0002\"]);\n",
              "//# sourceURL=js_9343977550"
            ],
            "text/plain": [
              "<IPython.core.display.Javascript object>"
            ]
          },
          "metadata": {
            "tags": [
              "id4-0-0",
              "outputarea_id4"
            ]
          }
        },
        {
          "output_type": "display_data",
          "data": {
            "application/javascript": [
              "window[\"b60fd4ac-77ae-11eb-a30a-0242ac1c0002\"] = google.colab.output.setActiveOutputArea(window[\"b5f37870-77ae-11eb-a30a-0242ac1c0002\"]);\n",
              "//# sourceURL=js_dbfe9953a4"
            ],
            "text/plain": [
              "<IPython.core.display.Javascript object>"
            ]
          },
          "metadata": {
            "tags": [
              "id4-0-0",
              "outputarea_id4"
            ]
          }
        },
        {
          "output_type": "display_data",
          "data": {
            "application/javascript": [
              "window[\"b611ac46-77ae-11eb-a30a-0242ac1c0002\"] = google.colab.output.getActiveOutputArea();\n",
              "//# sourceURL=js_2fe3d73eda"
            ],
            "text/plain": [
              "<IPython.core.display.Javascript object>"
            ]
          },
          "metadata": {
            "tags": [
              "id4-0-0",
              "outputarea_id4"
            ]
          }
        },
        {
          "output_type": "display_data",
          "data": {
            "application/javascript": [
              "window[\"b611ffac-77ae-11eb-a30a-0242ac1c0002\"] = document.querySelector(\"#id4-0-0\");\n",
              "//# sourceURL=js_ffd9ef2210"
            ],
            "text/plain": [
              "<IPython.core.display.Javascript object>"
            ]
          },
          "metadata": {
            "tags": [
              "id4-0-0",
              "outputarea_id4"
            ]
          }
        },
        {
          "output_type": "display_data",
          "data": {
            "application/javascript": [
              "window[\"b612529a-77ae-11eb-a30a-0242ac1c0002\"] = google.colab.output.setActiveOutputArea(window[\"b611ffac-77ae-11eb-a30a-0242ac1c0002\"]);\n",
              "//# sourceURL=js_2afaf4df6e"
            ],
            "text/plain": [
              "<IPython.core.display.Javascript object>"
            ]
          },
          "metadata": {
            "tags": [
              "id4-0-0",
              "outputarea_id4"
            ]
          }
        },
        {
          "output_type": "display_data",
          "data": {
            "application/javascript": [
              "window[\"b62c58a2-77ae-11eb-a30a-0242ac1c0002\"] = google.colab.output.setActiveOutputArea(window[\"b611ac46-77ae-11eb-a30a-0242ac1c0002\"]);\n",
              "//# sourceURL=js_4d927145df"
            ],
            "text/plain": [
              "<IPython.core.display.Javascript object>"
            ]
          },
          "metadata": {
            "tags": [
              "id4-0-0",
              "outputarea_id4"
            ]
          }
        },
        {
          "output_type": "display_data",
          "data": {
            "application/javascript": [
              "window[\"b62e0a12-77ae-11eb-a30a-0242ac1c0002\"] = google.colab.output.getActiveOutputArea();\n",
              "//# sourceURL=js_f76b2b4777"
            ],
            "text/plain": [
              "<IPython.core.display.Javascript object>"
            ]
          },
          "metadata": {
            "tags": [
              "id4-0-0",
              "outputarea_id4"
            ]
          }
        },
        {
          "output_type": "display_data",
          "data": {
            "application/javascript": [
              "window[\"b62e53d2-77ae-11eb-a30a-0242ac1c0002\"] = document.querySelector(\"#id4-0-0\");\n",
              "//# sourceURL=js_2c5fd6d9ef"
            ],
            "text/plain": [
              "<IPython.core.display.Javascript object>"
            ]
          },
          "metadata": {
            "tags": [
              "id4-0-0",
              "outputarea_id4"
            ]
          }
        },
        {
          "output_type": "display_data",
          "data": {
            "application/javascript": [
              "window[\"b62e99b4-77ae-11eb-a30a-0242ac1c0002\"] = google.colab.output.setActiveOutputArea(window[\"b62e53d2-77ae-11eb-a30a-0242ac1c0002\"]);\n",
              "//# sourceURL=js_095f8a2568"
            ],
            "text/plain": [
              "<IPython.core.display.Javascript object>"
            ]
          },
          "metadata": {
            "tags": [
              "id4-0-0",
              "outputarea_id4"
            ]
          }
        },
        {
          "output_type": "display_data",
          "data": {
            "application/javascript": [
              "window[\"b64c891a-77ae-11eb-a30a-0242ac1c0002\"] = google.colab.output.setActiveOutputArea(window[\"b62e0a12-77ae-11eb-a30a-0242ac1c0002\"]);\n",
              "//# sourceURL=js_f31c27ca51"
            ],
            "text/plain": [
              "<IPython.core.display.Javascript object>"
            ]
          },
          "metadata": {
            "tags": [
              "id4-0-0",
              "outputarea_id4"
            ]
          }
        },
        {
          "output_type": "display_data",
          "data": {
            "application/javascript": [
              "window[\"b64e356c-77ae-11eb-a30a-0242ac1c0002\"] = google.colab.output.getActiveOutputArea();\n",
              "//# sourceURL=js_cecf78628d"
            ],
            "text/plain": [
              "<IPython.core.display.Javascript object>"
            ]
          },
          "metadata": {
            "tags": [
              "id4-0-0",
              "outputarea_id4"
            ]
          }
        },
        {
          "output_type": "display_data",
          "data": {
            "application/javascript": [
              "window[\"b64e8b48-77ae-11eb-a30a-0242ac1c0002\"] = document.querySelector(\"#id4-0-0\");\n",
              "//# sourceURL=js_43070069d7"
            ],
            "text/plain": [
              "<IPython.core.display.Javascript object>"
            ]
          },
          "metadata": {
            "tags": [
              "id4-0-0",
              "outputarea_id4"
            ]
          }
        },
        {
          "output_type": "display_data",
          "data": {
            "application/javascript": [
              "window[\"b64ee746-77ae-11eb-a30a-0242ac1c0002\"] = google.colab.output.setActiveOutputArea(window[\"b64e8b48-77ae-11eb-a30a-0242ac1c0002\"]);\n",
              "//# sourceURL=js_99efc210fb"
            ],
            "text/plain": [
              "<IPython.core.display.Javascript object>"
            ]
          },
          "metadata": {
            "tags": [
              "id4-0-0",
              "outputarea_id4"
            ]
          }
        },
        {
          "output_type": "display_data",
          "data": {
            "application/javascript": [
              "window[\"b676858a-77ae-11eb-a30a-0242ac1c0002\"] = google.colab.output.setActiveOutputArea(window[\"b64e356c-77ae-11eb-a30a-0242ac1c0002\"]);\n",
              "//# sourceURL=js_2eacdb8afe"
            ],
            "text/plain": [
              "<IPython.core.display.Javascript object>"
            ]
          },
          "metadata": {
            "tags": [
              "id4-0-0",
              "outputarea_id4"
            ]
          }
        },
        {
          "output_type": "display_data",
          "data": {
            "application/javascript": [
              "window[\"b677e90c-77ae-11eb-a30a-0242ac1c0002\"] = google.colab.output.getActiveOutputArea();\n",
              "//# sourceURL=js_37152f3e08"
            ],
            "text/plain": [
              "<IPython.core.display.Javascript object>"
            ]
          },
          "metadata": {
            "tags": [
              "id4-0-0",
              "outputarea_id4"
            ]
          }
        },
        {
          "output_type": "display_data",
          "data": {
            "application/javascript": [
              "window[\"b6783cc2-77ae-11eb-a30a-0242ac1c0002\"] = document.querySelector(\"#id4-0-0\");\n",
              "//# sourceURL=js_605197ab80"
            ],
            "text/plain": [
              "<IPython.core.display.Javascript object>"
            ]
          },
          "metadata": {
            "tags": [
              "id4-0-0",
              "outputarea_id4"
            ]
          }
        },
        {
          "output_type": "display_data",
          "data": {
            "application/javascript": [
              "window[\"b6788cf4-77ae-11eb-a30a-0242ac1c0002\"] = google.colab.output.setActiveOutputArea(window[\"b6783cc2-77ae-11eb-a30a-0242ac1c0002\"]);\n",
              "//# sourceURL=js_ce6188d1f8"
            ],
            "text/plain": [
              "<IPython.core.display.Javascript object>"
            ]
          },
          "metadata": {
            "tags": [
              "id4-0-0",
              "outputarea_id4"
            ]
          }
        },
        {
          "output_type": "display_data",
          "data": {
            "application/javascript": [
              "window[\"b698ed0a-77ae-11eb-a30a-0242ac1c0002\"] = google.colab.output.setActiveOutputArea(window[\"b677e90c-77ae-11eb-a30a-0242ac1c0002\"]);\n",
              "//# sourceURL=js_5b49bc6567"
            ],
            "text/plain": [
              "<IPython.core.display.Javascript object>"
            ]
          },
          "metadata": {
            "tags": [
              "id4-0-0",
              "outputarea_id4"
            ]
          }
        },
        {
          "output_type": "display_data",
          "data": {
            "application/javascript": [
              "window[\"b69a5b9a-77ae-11eb-a30a-0242ac1c0002\"] = google.colab.output.getActiveOutputArea();\n",
              "//# sourceURL=js_70f7aad47c"
            ],
            "text/plain": [
              "<IPython.core.display.Javascript object>"
            ]
          },
          "metadata": {
            "tags": [
              "id4-0-0",
              "outputarea_id4"
            ]
          }
        },
        {
          "output_type": "display_data",
          "data": {
            "application/javascript": [
              "window[\"b69aafbe-77ae-11eb-a30a-0242ac1c0002\"] = document.querySelector(\"#id4-0-0\");\n",
              "//# sourceURL=js_225358f5cc"
            ],
            "text/plain": [
              "<IPython.core.display.Javascript object>"
            ]
          },
          "metadata": {
            "tags": [
              "id4-0-0",
              "outputarea_id4"
            ]
          }
        },
        {
          "output_type": "display_data",
          "data": {
            "application/javascript": [
              "window[\"b69b00f4-77ae-11eb-a30a-0242ac1c0002\"] = google.colab.output.setActiveOutputArea(window[\"b69aafbe-77ae-11eb-a30a-0242ac1c0002\"]);\n",
              "//# sourceURL=js_badd759157"
            ],
            "text/plain": [
              "<IPython.core.display.Javascript object>"
            ]
          },
          "metadata": {
            "tags": [
              "id4-0-0",
              "outputarea_id4"
            ]
          }
        },
        {
          "output_type": "display_data",
          "data": {
            "application/javascript": [
              "window[\"b6b652e6-77ae-11eb-a30a-0242ac1c0002\"] = google.colab.output.setActiveOutputArea(window[\"b69a5b9a-77ae-11eb-a30a-0242ac1c0002\"]);\n",
              "//# sourceURL=js_3dc369dab0"
            ],
            "text/plain": [
              "<IPython.core.display.Javascript object>"
            ]
          },
          "metadata": {
            "tags": [
              "id4-0-0",
              "outputarea_id4"
            ]
          }
        },
        {
          "output_type": "display_data",
          "data": {
            "application/javascript": [
              "window[\"b6b80000-77ae-11eb-a30a-0242ac1c0002\"] = google.colab.output.getActiveOutputArea();\n",
              "//# sourceURL=js_fdf5b716b8"
            ],
            "text/plain": [
              "<IPython.core.display.Javascript object>"
            ]
          },
          "metadata": {
            "tags": [
              "id4-0-0",
              "outputarea_id4"
            ]
          }
        },
        {
          "output_type": "display_data",
          "data": {
            "application/javascript": [
              "window[\"b6b858e8-77ae-11eb-a30a-0242ac1c0002\"] = document.querySelector(\"#id4-0-0\");\n",
              "//# sourceURL=js_112705da2f"
            ],
            "text/plain": [
              "<IPython.core.display.Javascript object>"
            ]
          },
          "metadata": {
            "tags": [
              "id4-0-0",
              "outputarea_id4"
            ]
          }
        },
        {
          "output_type": "display_data",
          "data": {
            "application/javascript": [
              "window[\"b6b8aece-77ae-11eb-a30a-0242ac1c0002\"] = google.colab.output.setActiveOutputArea(window[\"b6b858e8-77ae-11eb-a30a-0242ac1c0002\"]);\n",
              "//# sourceURL=js_10858a52d5"
            ],
            "text/plain": [
              "<IPython.core.display.Javascript object>"
            ]
          },
          "metadata": {
            "tags": [
              "id4-0-0",
              "outputarea_id4"
            ]
          }
        },
        {
          "output_type": "display_data",
          "data": {
            "application/javascript": [
              "window[\"b6d7671a-77ae-11eb-a30a-0242ac1c0002\"] = google.colab.output.setActiveOutputArea(window[\"b6b80000-77ae-11eb-a30a-0242ac1c0002\"]);\n",
              "//# sourceURL=js_df0dedcb9b"
            ],
            "text/plain": [
              "<IPython.core.display.Javascript object>"
            ]
          },
          "metadata": {
            "tags": [
              "id4-0-0",
              "outputarea_id4"
            ]
          }
        },
        {
          "output_type": "display_data",
          "data": {
            "application/javascript": [
              "window[\"b6d8c7ae-77ae-11eb-a30a-0242ac1c0002\"] = google.colab.output.getActiveOutputArea();\n",
              "//# sourceURL=js_77633bfbdb"
            ],
            "text/plain": [
              "<IPython.core.display.Javascript object>"
            ]
          },
          "metadata": {
            "tags": [
              "id4-0-0",
              "outputarea_id4"
            ]
          }
        },
        {
          "output_type": "display_data",
          "data": {
            "application/javascript": [
              "window[\"b6d91268-77ae-11eb-a30a-0242ac1c0002\"] = document.querySelector(\"#id4-0-0\");\n",
              "//# sourceURL=js_a2cc8f8724"
            ],
            "text/plain": [
              "<IPython.core.display.Javascript object>"
            ]
          },
          "metadata": {
            "tags": [
              "id4-0-0",
              "outputarea_id4"
            ]
          }
        },
        {
          "output_type": "display_data",
          "data": {
            "application/javascript": [
              "window[\"b6d956a6-77ae-11eb-a30a-0242ac1c0002\"] = google.colab.output.setActiveOutputArea(window[\"b6d91268-77ae-11eb-a30a-0242ac1c0002\"]);\n",
              "//# sourceURL=js_86237aefbe"
            ],
            "text/plain": [
              "<IPython.core.display.Javascript object>"
            ]
          },
          "metadata": {
            "tags": [
              "id4-0-0",
              "outputarea_id4"
            ]
          }
        },
        {
          "output_type": "display_data",
          "data": {
            "application/javascript": [
              "window[\"b6f9f28a-77ae-11eb-a30a-0242ac1c0002\"] = google.colab.output.setActiveOutputArea(window[\"b6d8c7ae-77ae-11eb-a30a-0242ac1c0002\"]);\n",
              "//# sourceURL=js_ee81d1dafc"
            ],
            "text/plain": [
              "<IPython.core.display.Javascript object>"
            ]
          },
          "metadata": {
            "tags": [
              "id4-0-0",
              "outputarea_id4"
            ]
          }
        },
        {
          "output_type": "display_data",
          "data": {
            "application/javascript": [
              "window[\"b6fb8c6c-77ae-11eb-a30a-0242ac1c0002\"] = google.colab.output.getActiveOutputArea();\n",
              "//# sourceURL=js_a47dc1e706"
            ],
            "text/plain": [
              "<IPython.core.display.Javascript object>"
            ]
          },
          "metadata": {
            "tags": [
              "id4-0-0",
              "outputarea_id4"
            ]
          }
        },
        {
          "output_type": "display_data",
          "data": {
            "application/javascript": [
              "window[\"b6fbdda2-77ae-11eb-a30a-0242ac1c0002\"] = document.querySelector(\"#id4-0-0\");\n",
              "//# sourceURL=js_d87cb9dbc3"
            ],
            "text/plain": [
              "<IPython.core.display.Javascript object>"
            ]
          },
          "metadata": {
            "tags": [
              "id4-0-0",
              "outputarea_id4"
            ]
          }
        },
        {
          "output_type": "display_data",
          "data": {
            "application/javascript": [
              "window[\"b6fc4080-77ae-11eb-a30a-0242ac1c0002\"] = google.colab.output.setActiveOutputArea(window[\"b6fbdda2-77ae-11eb-a30a-0242ac1c0002\"]);\n",
              "//# sourceURL=js_bf1da42678"
            ],
            "text/plain": [
              "<IPython.core.display.Javascript object>"
            ]
          },
          "metadata": {
            "tags": [
              "id4-0-0",
              "outputarea_id4"
            ]
          }
        },
        {
          "output_type": "display_data",
          "data": {
            "application/javascript": [
              "window[\"b71b6f46-77ae-11eb-a30a-0242ac1c0002\"] = google.colab.output.setActiveOutputArea(window[\"b6fb8c6c-77ae-11eb-a30a-0242ac1c0002\"]);\n",
              "//# sourceURL=js_137ba39689"
            ],
            "text/plain": [
              "<IPython.core.display.Javascript object>"
            ]
          },
          "metadata": {
            "tags": [
              "id4-0-0",
              "outputarea_id4"
            ]
          }
        },
        {
          "output_type": "display_data",
          "data": {
            "application/javascript": [
              "window[\"b71cbe8c-77ae-11eb-a30a-0242ac1c0002\"] = google.colab.output.getActiveOutputArea();\n",
              "//# sourceURL=js_8eedbccd86"
            ],
            "text/plain": [
              "<IPython.core.display.Javascript object>"
            ]
          },
          "metadata": {
            "tags": [
              "id4-0-0",
              "outputarea_id4"
            ]
          }
        },
        {
          "output_type": "display_data",
          "data": {
            "application/javascript": [
              "window[\"b71cfc8a-77ae-11eb-a30a-0242ac1c0002\"] = document.querySelector(\"#id4-0-0\");\n",
              "//# sourceURL=js_b3f198abd0"
            ],
            "text/plain": [
              "<IPython.core.display.Javascript object>"
            ]
          },
          "metadata": {
            "tags": [
              "id4-0-0",
              "outputarea_id4"
            ]
          }
        },
        {
          "output_type": "display_data",
          "data": {
            "application/javascript": [
              "window[\"b71d36b4-77ae-11eb-a30a-0242ac1c0002\"] = google.colab.output.setActiveOutputArea(window[\"b71cfc8a-77ae-11eb-a30a-0242ac1c0002\"]);\n",
              "//# sourceURL=js_f9ef0b5c22"
            ],
            "text/plain": [
              "<IPython.core.display.Javascript object>"
            ]
          },
          "metadata": {
            "tags": [
              "id4-0-0",
              "outputarea_id4"
            ]
          }
        },
        {
          "output_type": "display_data",
          "data": {
            "application/javascript": [
              "window[\"b73e296e-77ae-11eb-a30a-0242ac1c0002\"] = google.colab.output.setActiveOutputArea(window[\"b71cbe8c-77ae-11eb-a30a-0242ac1c0002\"]);\n",
              "//# sourceURL=js_df836ae283"
            ],
            "text/plain": [
              "<IPython.core.display.Javascript object>"
            ]
          },
          "metadata": {
            "tags": [
              "id4-0-0",
              "outputarea_id4"
            ]
          }
        },
        {
          "output_type": "display_data",
          "data": {
            "application/javascript": [
              "window[\"b743ff92-77ae-11eb-a30a-0242ac1c0002\"] = google.colab.output.getActiveOutputArea();\n",
              "//# sourceURL=js_92e1488c9d"
            ],
            "text/plain": [
              "<IPython.core.display.Javascript object>"
            ]
          },
          "metadata": {
            "tags": [
              "id4-0-0",
              "outputarea_id4"
            ]
          }
        },
        {
          "output_type": "display_data",
          "data": {
            "application/javascript": [
              "window[\"b74470bc-77ae-11eb-a30a-0242ac1c0002\"] = document.querySelector(\"#id4-0-0\");\n",
              "//# sourceURL=js_7b2e52b658"
            ],
            "text/plain": [
              "<IPython.core.display.Javascript object>"
            ]
          },
          "metadata": {
            "tags": [
              "id4-0-0",
              "outputarea_id4"
            ]
          }
        },
        {
          "output_type": "display_data",
          "data": {
            "application/javascript": [
              "window[\"b744b568-77ae-11eb-a30a-0242ac1c0002\"] = google.colab.output.setActiveOutputArea(window[\"b74470bc-77ae-11eb-a30a-0242ac1c0002\"]);\n",
              "//# sourceURL=js_023c0067dc"
            ],
            "text/plain": [
              "<IPython.core.display.Javascript object>"
            ]
          },
          "metadata": {
            "tags": [
              "id4-0-0",
              "outputarea_id4"
            ]
          }
        },
        {
          "output_type": "display_data",
          "data": {
            "application/javascript": [
              "window[\"b7614de0-77ae-11eb-a30a-0242ac1c0002\"] = google.colab.output.setActiveOutputArea(window[\"b743ff92-77ae-11eb-a30a-0242ac1c0002\"]);\n",
              "//# sourceURL=js_d842575805"
            ],
            "text/plain": [
              "<IPython.core.display.Javascript object>"
            ]
          },
          "metadata": {
            "tags": [
              "id4-0-0",
              "outputarea_id4"
            ]
          }
        },
        {
          "output_type": "display_data",
          "data": {
            "application/javascript": [
              "window[\"b7629240-77ae-11eb-a30a-0242ac1c0002\"] = google.colab.output.getActiveOutputArea();\n",
              "//# sourceURL=js_997385b6d8"
            ],
            "text/plain": [
              "<IPython.core.display.Javascript object>"
            ]
          },
          "metadata": {
            "tags": [
              "id4-0-0",
              "outputarea_id4"
            ]
          }
        },
        {
          "output_type": "display_data",
          "data": {
            "application/javascript": [
              "window[\"b762d1e2-77ae-11eb-a30a-0242ac1c0002\"] = document.querySelector(\"#id4-0-0\");\n",
              "//# sourceURL=js_2c39479b7e"
            ],
            "text/plain": [
              "<IPython.core.display.Javascript object>"
            ]
          },
          "metadata": {
            "tags": [
              "id4-0-0",
              "outputarea_id4"
            ]
          }
        },
        {
          "output_type": "display_data",
          "data": {
            "application/javascript": [
              "window[\"b7630f7c-77ae-11eb-a30a-0242ac1c0002\"] = google.colab.output.setActiveOutputArea(window[\"b762d1e2-77ae-11eb-a30a-0242ac1c0002\"]);\n",
              "//# sourceURL=js_e25c9e6160"
            ],
            "text/plain": [
              "<IPython.core.display.Javascript object>"
            ]
          },
          "metadata": {
            "tags": [
              "id4-0-0",
              "outputarea_id4"
            ]
          }
        },
        {
          "output_type": "display_data",
          "data": {
            "application/javascript": [
              "window[\"b780249a-77ae-11eb-a30a-0242ac1c0002\"] = google.colab.output.setActiveOutputArea(window[\"b7629240-77ae-11eb-a30a-0242ac1c0002\"]);\n",
              "//# sourceURL=js_5ed8994f0d"
            ],
            "text/plain": [
              "<IPython.core.display.Javascript object>"
            ]
          },
          "metadata": {
            "tags": [
              "id4-0-0",
              "outputarea_id4"
            ]
          }
        },
        {
          "output_type": "display_data",
          "data": {
            "application/javascript": [
              "window[\"b781c5a2-77ae-11eb-a30a-0242ac1c0002\"] = google.colab.output.getActiveOutputArea();\n",
              "//# sourceURL=js_6356917603"
            ],
            "text/plain": [
              "<IPython.core.display.Javascript object>"
            ]
          },
          "metadata": {
            "tags": [
              "id4-0-0",
              "outputarea_id4"
            ]
          }
        },
        {
          "output_type": "display_data",
          "data": {
            "application/javascript": [
              "window[\"b782092c-77ae-11eb-a30a-0242ac1c0002\"] = document.querySelector(\"#id4-0-0\");\n",
              "//# sourceURL=js_41258cfeff"
            ],
            "text/plain": [
              "<IPython.core.display.Javascript object>"
            ]
          },
          "metadata": {
            "tags": [
              "id4-0-0",
              "outputarea_id4"
            ]
          }
        },
        {
          "output_type": "display_data",
          "data": {
            "application/javascript": [
              "window[\"b7824c98-77ae-11eb-a30a-0242ac1c0002\"] = google.colab.output.setActiveOutputArea(window[\"b782092c-77ae-11eb-a30a-0242ac1c0002\"]);\n",
              "//# sourceURL=js_f8e6130368"
            ],
            "text/plain": [
              "<IPython.core.display.Javascript object>"
            ]
          },
          "metadata": {
            "tags": [
              "id4-0-0",
              "outputarea_id4"
            ]
          }
        },
        {
          "output_type": "display_data",
          "data": {
            "application/javascript": [
              "window[\"b79d9b56-77ae-11eb-a30a-0242ac1c0002\"] = google.colab.output.setActiveOutputArea(window[\"b781c5a2-77ae-11eb-a30a-0242ac1c0002\"]);\n",
              "//# sourceURL=js_fd5b483e52"
            ],
            "text/plain": [
              "<IPython.core.display.Javascript object>"
            ]
          },
          "metadata": {
            "tags": [
              "id4-0-0",
              "outputarea_id4"
            ]
          }
        },
        {
          "output_type": "display_data",
          "data": {
            "application/javascript": [
              "window[\"b79ed96c-77ae-11eb-a30a-0242ac1c0002\"] = google.colab.output.getActiveOutputArea();\n",
              "//# sourceURL=js_20fa6d4c6b"
            ],
            "text/plain": [
              "<IPython.core.display.Javascript object>"
            ]
          },
          "metadata": {
            "tags": [
              "id4-0-0",
              "outputarea_id4"
            ]
          }
        },
        {
          "output_type": "display_data",
          "data": {
            "application/javascript": [
              "window[\"b79f18e6-77ae-11eb-a30a-0242ac1c0002\"] = document.querySelector(\"#id4-0-0\");\n",
              "//# sourceURL=js_f53a4f6f06"
            ],
            "text/plain": [
              "<IPython.core.display.Javascript object>"
            ]
          },
          "metadata": {
            "tags": [
              "id4-0-0",
              "outputarea_id4"
            ]
          }
        },
        {
          "output_type": "display_data",
          "data": {
            "application/javascript": [
              "window[\"b79f54e6-77ae-11eb-a30a-0242ac1c0002\"] = google.colab.output.setActiveOutputArea(window[\"b79f18e6-77ae-11eb-a30a-0242ac1c0002\"]);\n",
              "//# sourceURL=js_5ccd44b879"
            ],
            "text/plain": [
              "<IPython.core.display.Javascript object>"
            ]
          },
          "metadata": {
            "tags": [
              "id4-0-0",
              "outputarea_id4"
            ]
          }
        },
        {
          "output_type": "display_data",
          "data": {
            "application/javascript": [
              "window[\"b7bcc116-77ae-11eb-a30a-0242ac1c0002\"] = google.colab.output.setActiveOutputArea(window[\"b79ed96c-77ae-11eb-a30a-0242ac1c0002\"]);\n",
              "//# sourceURL=js_fdc218b68e"
            ],
            "text/plain": [
              "<IPython.core.display.Javascript object>"
            ]
          },
          "metadata": {
            "tags": [
              "id4-0-0",
              "outputarea_id4"
            ]
          }
        },
        {
          "output_type": "display_data",
          "data": {
            "application/javascript": [
              "window[\"b7bded02-77ae-11eb-a30a-0242ac1c0002\"] = google.colab.output.getActiveOutputArea();\n",
              "//# sourceURL=js_c309250087"
            ],
            "text/plain": [
              "<IPython.core.display.Javascript object>"
            ]
          },
          "metadata": {
            "tags": [
              "id4-0-0",
              "outputarea_id4"
            ]
          }
        },
        {
          "output_type": "display_data",
          "data": {
            "application/javascript": [
              "window[\"b7be30fa-77ae-11eb-a30a-0242ac1c0002\"] = document.querySelector(\"#id4-0-0\");\n",
              "//# sourceURL=js_78f4dc74c8"
            ],
            "text/plain": [
              "<IPython.core.display.Javascript object>"
            ]
          },
          "metadata": {
            "tags": [
              "id4-0-0",
              "outputarea_id4"
            ]
          }
        },
        {
          "output_type": "display_data",
          "data": {
            "application/javascript": [
              "window[\"b7be6c00-77ae-11eb-a30a-0242ac1c0002\"] = google.colab.output.setActiveOutputArea(window[\"b7be30fa-77ae-11eb-a30a-0242ac1c0002\"]);\n",
              "//# sourceURL=js_3931befd7d"
            ],
            "text/plain": [
              "<IPython.core.display.Javascript object>"
            ]
          },
          "metadata": {
            "tags": [
              "id4-0-0",
              "outputarea_id4"
            ]
          }
        },
        {
          "output_type": "display_data",
          "data": {
            "application/javascript": [
              "window[\"b7e413d8-77ae-11eb-a30a-0242ac1c0002\"] = google.colab.output.setActiveOutputArea(window[\"b7bded02-77ae-11eb-a30a-0242ac1c0002\"]);\n",
              "//# sourceURL=js_0b07be6c8b"
            ],
            "text/plain": [
              "<IPython.core.display.Javascript object>"
            ]
          },
          "metadata": {
            "tags": [
              "id4-0-0",
              "outputarea_id4"
            ]
          }
        },
        {
          "output_type": "display_data",
          "data": {
            "application/javascript": [
              "window[\"b7e9916e-77ae-11eb-a30a-0242ac1c0002\"] = google.colab.output.getActiveOutputArea();\n",
              "//# sourceURL=js_41a8093bbe"
            ],
            "text/plain": [
              "<IPython.core.display.Javascript object>"
            ]
          },
          "metadata": {
            "tags": [
              "id4-0-0",
              "outputarea_id4"
            ]
          }
        },
        {
          "output_type": "display_data",
          "data": {
            "application/javascript": [
              "window[\"b7ea8178-77ae-11eb-a30a-0242ac1c0002\"] = document.querySelector(\"#id4-0-0\");\n",
              "//# sourceURL=js_4e57145247"
            ],
            "text/plain": [
              "<IPython.core.display.Javascript object>"
            ]
          },
          "metadata": {
            "tags": [
              "id4-0-0",
              "outputarea_id4"
            ]
          }
        },
        {
          "output_type": "display_data",
          "data": {
            "application/javascript": [
              "window[\"b7eb84ba-77ae-11eb-a30a-0242ac1c0002\"] = google.colab.output.setActiveOutputArea(window[\"b7ea8178-77ae-11eb-a30a-0242ac1c0002\"]);\n",
              "//# sourceURL=js_7029143448"
            ],
            "text/plain": [
              "<IPython.core.display.Javascript object>"
            ]
          },
          "metadata": {
            "tags": [
              "id4-0-0",
              "outputarea_id4"
            ]
          }
        },
        {
          "output_type": "display_data",
          "data": {
            "application/javascript": [
              "window[\"b8050a20-77ae-11eb-a30a-0242ac1c0002\"] = google.colab.output.setActiveOutputArea(window[\"b7e9916e-77ae-11eb-a30a-0242ac1c0002\"]);\n",
              "//# sourceURL=js_811d6a9ce0"
            ],
            "text/plain": [
              "<IPython.core.display.Javascript object>"
            ]
          },
          "metadata": {
            "tags": [
              "id4-0-0",
              "outputarea_id4"
            ]
          }
        },
        {
          "output_type": "display_data",
          "data": {
            "application/javascript": [
              "window[\"b8066fbe-77ae-11eb-a30a-0242ac1c0002\"] = google.colab.output.getActiveOutputArea();\n",
              "//# sourceURL=js_82f3cdc433"
            ],
            "text/plain": [
              "<IPython.core.display.Javascript object>"
            ]
          },
          "metadata": {
            "tags": [
              "id4-0-0",
              "outputarea_id4"
            ]
          }
        },
        {
          "output_type": "display_data",
          "data": {
            "application/javascript": [
              "window[\"b806b2bc-77ae-11eb-a30a-0242ac1c0002\"] = document.querySelector(\"#id4-0-0\");\n",
              "//# sourceURL=js_d682c614df"
            ],
            "text/plain": [
              "<IPython.core.display.Javascript object>"
            ]
          },
          "metadata": {
            "tags": [
              "id4-0-0",
              "outputarea_id4"
            ]
          }
        },
        {
          "output_type": "display_data",
          "data": {
            "application/javascript": [
              "window[\"b80708ac-77ae-11eb-a30a-0242ac1c0002\"] = google.colab.output.setActiveOutputArea(window[\"b806b2bc-77ae-11eb-a30a-0242ac1c0002\"]);\n",
              "//# sourceURL=js_1fcbbb4e21"
            ],
            "text/plain": [
              "<IPython.core.display.Javascript object>"
            ]
          },
          "metadata": {
            "tags": [
              "id4-0-0",
              "outputarea_id4"
            ]
          }
        },
        {
          "output_type": "display_data",
          "data": {
            "application/javascript": [
              "window[\"b825235a-77ae-11eb-a30a-0242ac1c0002\"] = google.colab.output.setActiveOutputArea(window[\"b8066fbe-77ae-11eb-a30a-0242ac1c0002\"]);\n",
              "//# sourceURL=js_91c3591c27"
            ],
            "text/plain": [
              "<IPython.core.display.Javascript object>"
            ]
          },
          "metadata": {
            "tags": [
              "id4-0-0",
              "outputarea_id4"
            ]
          }
        },
        {
          "output_type": "display_data",
          "data": {
            "application/javascript": [
              "window[\"b826aa4a-77ae-11eb-a30a-0242ac1c0002\"] = google.colab.output.getActiveOutputArea();\n",
              "//# sourceURL=js_20867bfdb2"
            ],
            "text/plain": [
              "<IPython.core.display.Javascript object>"
            ]
          },
          "metadata": {
            "tags": [
              "id4-0-0",
              "outputarea_id4"
            ]
          }
        },
        {
          "output_type": "display_data",
          "data": {
            "application/javascript": [
              "window[\"b826f464-77ae-11eb-a30a-0242ac1c0002\"] = document.querySelector(\"#id4-0-0\");\n",
              "//# sourceURL=js_365dd020f2"
            ],
            "text/plain": [
              "<IPython.core.display.Javascript object>"
            ]
          },
          "metadata": {
            "tags": [
              "id4-0-0",
              "outputarea_id4"
            ]
          }
        },
        {
          "output_type": "display_data",
          "data": {
            "application/javascript": [
              "window[\"b8273b9a-77ae-11eb-a30a-0242ac1c0002\"] = google.colab.output.setActiveOutputArea(window[\"b826f464-77ae-11eb-a30a-0242ac1c0002\"]);\n",
              "//# sourceURL=js_0d7fb3f1a1"
            ],
            "text/plain": [
              "<IPython.core.display.Javascript object>"
            ]
          },
          "metadata": {
            "tags": [
              "id4-0-0",
              "outputarea_id4"
            ]
          }
        },
        {
          "output_type": "display_data",
          "data": {
            "application/javascript": [
              "window[\"b843e4fc-77ae-11eb-a30a-0242ac1c0002\"] = google.colab.output.setActiveOutputArea(window[\"b826aa4a-77ae-11eb-a30a-0242ac1c0002\"]);\n",
              "//# sourceURL=js_819bdfccb5"
            ],
            "text/plain": [
              "<IPython.core.display.Javascript object>"
            ]
          },
          "metadata": {
            "tags": [
              "id4-0-0",
              "outputarea_id4"
            ]
          }
        },
        {
          "output_type": "display_data",
          "data": {
            "application/javascript": [
              "window[\"b845a53a-77ae-11eb-a30a-0242ac1c0002\"] = google.colab.output.getActiveOutputArea();\n",
              "//# sourceURL=js_9d3bcbad34"
            ],
            "text/plain": [
              "<IPython.core.display.Javascript object>"
            ]
          },
          "metadata": {
            "tags": [
              "id4-0-0",
              "outputarea_id4"
            ]
          }
        },
        {
          "output_type": "display_data",
          "data": {
            "application/javascript": [
              "window[\"b845fa94-77ae-11eb-a30a-0242ac1c0002\"] = document.querySelector(\"#id4-0-0\");\n",
              "//# sourceURL=js_9449e21e04"
            ],
            "text/plain": [
              "<IPython.core.display.Javascript object>"
            ]
          },
          "metadata": {
            "tags": [
              "id4-0-0",
              "outputarea_id4"
            ]
          }
        },
        {
          "output_type": "display_data",
          "data": {
            "application/javascript": [
              "window[\"b8463dc4-77ae-11eb-a30a-0242ac1c0002\"] = google.colab.output.setActiveOutputArea(window[\"b845fa94-77ae-11eb-a30a-0242ac1c0002\"]);\n",
              "//# sourceURL=js_4554d2af14"
            ],
            "text/plain": [
              "<IPython.core.display.Javascript object>"
            ]
          },
          "metadata": {
            "tags": [
              "id4-0-0",
              "outputarea_id4"
            ]
          }
        },
        {
          "output_type": "display_data",
          "data": {
            "application/javascript": [
              "window[\"b8629b0e-77ae-11eb-a30a-0242ac1c0002\"] = google.colab.output.setActiveOutputArea(window[\"b845a53a-77ae-11eb-a30a-0242ac1c0002\"]);\n",
              "//# sourceURL=js_c439aa9a6b"
            ],
            "text/plain": [
              "<IPython.core.display.Javascript object>"
            ]
          },
          "metadata": {
            "tags": [
              "id4-0-0",
              "outputarea_id4"
            ]
          }
        },
        {
          "output_type": "display_data",
          "data": {
            "application/javascript": [
              "window[\"b8641f4c-77ae-11eb-a30a-0242ac1c0002\"] = google.colab.output.getActiveOutputArea();\n",
              "//# sourceURL=js_7ab27997f7"
            ],
            "text/plain": [
              "<IPython.core.display.Javascript object>"
            ]
          },
          "metadata": {
            "tags": [
              "id4-0-0",
              "outputarea_id4"
            ]
          }
        },
        {
          "output_type": "display_data",
          "data": {
            "application/javascript": [
              "window[\"b8646934-77ae-11eb-a30a-0242ac1c0002\"] = document.querySelector(\"#id4-0-0\");\n",
              "//# sourceURL=js_ad5d181bcf"
            ],
            "text/plain": [
              "<IPython.core.display.Javascript object>"
            ]
          },
          "metadata": {
            "tags": [
              "id4-0-0",
              "outputarea_id4"
            ]
          }
        },
        {
          "output_type": "display_data",
          "data": {
            "application/javascript": [
              "window[\"b864ae62-77ae-11eb-a30a-0242ac1c0002\"] = google.colab.output.setActiveOutputArea(window[\"b8646934-77ae-11eb-a30a-0242ac1c0002\"]);\n",
              "//# sourceURL=js_4cdb4b5350"
            ],
            "text/plain": [
              "<IPython.core.display.Javascript object>"
            ]
          },
          "metadata": {
            "tags": [
              "id4-0-0",
              "outputarea_id4"
            ]
          }
        },
        {
          "output_type": "display_data",
          "data": {
            "application/javascript": [
              "window[\"b8813ece-77ae-11eb-a30a-0242ac1c0002\"] = google.colab.output.setActiveOutputArea(window[\"b8641f4c-77ae-11eb-a30a-0242ac1c0002\"]);\n",
              "//# sourceURL=js_cac8a856cd"
            ],
            "text/plain": [
              "<IPython.core.display.Javascript object>"
            ]
          },
          "metadata": {
            "tags": [
              "id4-0-0",
              "outputarea_id4"
            ]
          }
        },
        {
          "output_type": "display_data",
          "data": {
            "application/javascript": [
              "window[\"b88277bc-77ae-11eb-a30a-0242ac1c0002\"] = google.colab.output.getActiveOutputArea();\n",
              "//# sourceURL=js_8457b514d7"
            ],
            "text/plain": [
              "<IPython.core.display.Javascript object>"
            ]
          },
          "metadata": {
            "tags": [
              "id4-0-0",
              "outputarea_id4"
            ]
          }
        },
        {
          "output_type": "display_data",
          "data": {
            "application/javascript": [
              "window[\"b882bc5e-77ae-11eb-a30a-0242ac1c0002\"] = document.querySelector(\"#id4-0-0\");\n",
              "//# sourceURL=js_8c62fad787"
            ],
            "text/plain": [
              "<IPython.core.display.Javascript object>"
            ]
          },
          "metadata": {
            "tags": [
              "id4-0-0",
              "outputarea_id4"
            ]
          }
        },
        {
          "output_type": "display_data",
          "data": {
            "application/javascript": [
              "window[\"b882f9da-77ae-11eb-a30a-0242ac1c0002\"] = google.colab.output.setActiveOutputArea(window[\"b882bc5e-77ae-11eb-a30a-0242ac1c0002\"]);\n",
              "//# sourceURL=js_015c11401a"
            ],
            "text/plain": [
              "<IPython.core.display.Javascript object>"
            ]
          },
          "metadata": {
            "tags": [
              "id4-0-0",
              "outputarea_id4"
            ]
          }
        },
        {
          "output_type": "display_data",
          "data": {
            "application/javascript": [
              "window[\"b89fce70-77ae-11eb-a30a-0242ac1c0002\"] = google.colab.output.setActiveOutputArea(window[\"b88277bc-77ae-11eb-a30a-0242ac1c0002\"]);\n",
              "//# sourceURL=js_db7e1af734"
            ],
            "text/plain": [
              "<IPython.core.display.Javascript object>"
            ]
          },
          "metadata": {
            "tags": [
              "id4-0-0",
              "outputarea_id4"
            ]
          }
        },
        {
          "output_type": "display_data",
          "data": {
            "application/javascript": [
              "window[\"b8a10b64-77ae-11eb-a30a-0242ac1c0002\"] = google.colab.output.getActiveOutputArea();\n",
              "//# sourceURL=js_a02d1c9e31"
            ],
            "text/plain": [
              "<IPython.core.display.Javascript object>"
            ]
          },
          "metadata": {
            "tags": [
              "id4-0-0",
              "outputarea_id4"
            ]
          }
        },
        {
          "output_type": "display_data",
          "data": {
            "application/javascript": [
              "window[\"b8a14b42-77ae-11eb-a30a-0242ac1c0002\"] = document.querySelector(\"#id4-0-0\");\n",
              "//# sourceURL=js_bfc6504caa"
            ],
            "text/plain": [
              "<IPython.core.display.Javascript object>"
            ]
          },
          "metadata": {
            "tags": [
              "id4-0-0",
              "outputarea_id4"
            ]
          }
        },
        {
          "output_type": "display_data",
          "data": {
            "application/javascript": [
              "window[\"b8a1879c-77ae-11eb-a30a-0242ac1c0002\"] = google.colab.output.setActiveOutputArea(window[\"b8a14b42-77ae-11eb-a30a-0242ac1c0002\"]);\n",
              "//# sourceURL=js_b4b8b4504a"
            ],
            "text/plain": [
              "<IPython.core.display.Javascript object>"
            ]
          },
          "metadata": {
            "tags": [
              "id4-0-0",
              "outputarea_id4"
            ]
          }
        },
        {
          "output_type": "display_data",
          "data": {
            "application/javascript": [
              "window[\"b8be66dc-77ae-11eb-a30a-0242ac1c0002\"] = google.colab.output.setActiveOutputArea(window[\"b8a10b64-77ae-11eb-a30a-0242ac1c0002\"]);\n",
              "//# sourceURL=js_6ad85ccb9b"
            ],
            "text/plain": [
              "<IPython.core.display.Javascript object>"
            ]
          },
          "metadata": {
            "tags": [
              "id4-0-0",
              "outputarea_id4"
            ]
          }
        },
        {
          "output_type": "display_data",
          "data": {
            "application/javascript": [
              "window[\"b8bf8f62-77ae-11eb-a30a-0242ac1c0002\"] = google.colab.output.getActiveOutputArea();\n",
              "//# sourceURL=js_d6f5f0ebf5"
            ],
            "text/plain": [
              "<IPython.core.display.Javascript object>"
            ]
          },
          "metadata": {
            "tags": [
              "id4-0-0",
              "outputarea_id4"
            ]
          }
        },
        {
          "output_type": "display_data",
          "data": {
            "application/javascript": [
              "window[\"b8bfd7ce-77ae-11eb-a30a-0242ac1c0002\"] = document.querySelector(\"#id4-0-0\");\n",
              "//# sourceURL=js_2c7f34de18"
            ],
            "text/plain": [
              "<IPython.core.display.Javascript object>"
            ]
          },
          "metadata": {
            "tags": [
              "id4-0-0",
              "outputarea_id4"
            ]
          }
        },
        {
          "output_type": "display_data",
          "data": {
            "application/javascript": [
              "window[\"b8c01842-77ae-11eb-a30a-0242ac1c0002\"] = google.colab.output.setActiveOutputArea(window[\"b8bfd7ce-77ae-11eb-a30a-0242ac1c0002\"]);\n",
              "//# sourceURL=js_ef9808bafe"
            ],
            "text/plain": [
              "<IPython.core.display.Javascript object>"
            ]
          },
          "metadata": {
            "tags": [
              "id4-0-0",
              "outputarea_id4"
            ]
          }
        },
        {
          "output_type": "display_data",
          "data": {
            "application/javascript": [
              "window[\"b8dde05c-77ae-11eb-a30a-0242ac1c0002\"] = google.colab.output.setActiveOutputArea(window[\"b8bf8f62-77ae-11eb-a30a-0242ac1c0002\"]);\n",
              "//# sourceURL=js_d13e9a4d70"
            ],
            "text/plain": [
              "<IPython.core.display.Javascript object>"
            ]
          },
          "metadata": {
            "tags": [
              "id4-0-0",
              "outputarea_id4"
            ]
          }
        },
        {
          "output_type": "display_data",
          "data": {
            "application/javascript": [
              "window[\"b8df1bb6-77ae-11eb-a30a-0242ac1c0002\"] = google.colab.output.getActiveOutputArea();\n",
              "//# sourceURL=js_6dd7271429"
            ],
            "text/plain": [
              "<IPython.core.display.Javascript object>"
            ]
          },
          "metadata": {
            "tags": [
              "id4-0-0",
              "outputarea_id4"
            ]
          }
        },
        {
          "output_type": "display_data",
          "data": {
            "application/javascript": [
              "window[\"b8df5a90-77ae-11eb-a30a-0242ac1c0002\"] = document.querySelector(\"#id4-0-0\");\n",
              "//# sourceURL=js_66cc81d730"
            ],
            "text/plain": [
              "<IPython.core.display.Javascript object>"
            ]
          },
          "metadata": {
            "tags": [
              "id4-0-0",
              "outputarea_id4"
            ]
          }
        },
        {
          "output_type": "display_data",
          "data": {
            "application/javascript": [
              "window[\"b8df9794-77ae-11eb-a30a-0242ac1c0002\"] = google.colab.output.setActiveOutputArea(window[\"b8df5a90-77ae-11eb-a30a-0242ac1c0002\"]);\n",
              "//# sourceURL=js_a5d5c49c4b"
            ],
            "text/plain": [
              "<IPython.core.display.Javascript object>"
            ]
          },
          "metadata": {
            "tags": [
              "id4-0-0",
              "outputarea_id4"
            ]
          }
        },
        {
          "output_type": "display_data",
          "data": {
            "application/javascript": [
              "window[\"b8ff05ca-77ae-11eb-a30a-0242ac1c0002\"] = google.colab.output.setActiveOutputArea(window[\"b8df1bb6-77ae-11eb-a30a-0242ac1c0002\"]);\n",
              "//# sourceURL=js_5ff539f194"
            ],
            "text/plain": [
              "<IPython.core.display.Javascript object>"
            ]
          },
          "metadata": {
            "tags": [
              "id4-0-0",
              "outputarea_id4"
            ]
          }
        },
        {
          "output_type": "display_data",
          "data": {
            "application/javascript": [
              "window[\"b902595a-77ae-11eb-a30a-0242ac1c0002\"] = google.colab.output.getActiveOutputArea();\n",
              "//# sourceURL=js_1ab2f5720e"
            ],
            "text/plain": [
              "<IPython.core.display.Javascript object>"
            ]
          },
          "metadata": {
            "tags": [
              "id4-0-0",
              "outputarea_id4"
            ]
          }
        },
        {
          "output_type": "display_data",
          "data": {
            "application/javascript": [
              "window[\"b902ba94-77ae-11eb-a30a-0242ac1c0002\"] = document.querySelector(\"#id4-0-0\");\n",
              "//# sourceURL=js_fb9cca01da"
            ],
            "text/plain": [
              "<IPython.core.display.Javascript object>"
            ]
          },
          "metadata": {
            "tags": [
              "id4-0-0",
              "outputarea_id4"
            ]
          }
        },
        {
          "output_type": "display_data",
          "data": {
            "application/javascript": [
              "window[\"b90317a0-77ae-11eb-a30a-0242ac1c0002\"] = google.colab.output.setActiveOutputArea(window[\"b902ba94-77ae-11eb-a30a-0242ac1c0002\"]);\n",
              "//# sourceURL=js_e7cd6c75fa"
            ],
            "text/plain": [
              "<IPython.core.display.Javascript object>"
            ]
          },
          "metadata": {
            "tags": [
              "id4-0-0",
              "outputarea_id4"
            ]
          }
        },
        {
          "output_type": "display_data",
          "data": {
            "application/javascript": [
              "window[\"b9206d14-77ae-11eb-a30a-0242ac1c0002\"] = google.colab.output.setActiveOutputArea(window[\"b902595a-77ae-11eb-a30a-0242ac1c0002\"]);\n",
              "//# sourceURL=js_d760aac713"
            ],
            "text/plain": [
              "<IPython.core.display.Javascript object>"
            ]
          },
          "metadata": {
            "tags": [
              "id4-0-0",
              "outputarea_id4"
            ]
          }
        },
        {
          "output_type": "display_data",
          "data": {
            "application/javascript": [
              "window[\"b925a93c-77ae-11eb-a30a-0242ac1c0002\"] = google.colab.output.getActiveOutputArea();\n",
              "//# sourceURL=js_c0ff75feda"
            ],
            "text/plain": [
              "<IPython.core.display.Javascript object>"
            ]
          },
          "metadata": {
            "tags": [
              "id4-0-0",
              "outputarea_id4"
            ]
          }
        },
        {
          "output_type": "display_data",
          "data": {
            "application/javascript": [
              "window[\"b925f0a4-77ae-11eb-a30a-0242ac1c0002\"] = document.querySelector(\"#id4-0-0\");\n",
              "//# sourceURL=js_eba4ad87d3"
            ],
            "text/plain": [
              "<IPython.core.display.Javascript object>"
            ]
          },
          "metadata": {
            "tags": [
              "id4-0-0",
              "outputarea_id4"
            ]
          }
        },
        {
          "output_type": "display_data",
          "data": {
            "application/javascript": [
              "window[\"b92637da-77ae-11eb-a30a-0242ac1c0002\"] = google.colab.output.setActiveOutputArea(window[\"b925f0a4-77ae-11eb-a30a-0242ac1c0002\"]);\n",
              "//# sourceURL=js_da800345b0"
            ],
            "text/plain": [
              "<IPython.core.display.Javascript object>"
            ]
          },
          "metadata": {
            "tags": [
              "id4-0-0",
              "outputarea_id4"
            ]
          }
        },
        {
          "output_type": "display_data",
          "data": {
            "application/javascript": [
              "window[\"b94cd318-77ae-11eb-a30a-0242ac1c0002\"] = google.colab.output.setActiveOutputArea(window[\"b925a93c-77ae-11eb-a30a-0242ac1c0002\"]);\n",
              "//# sourceURL=js_7671988e81"
            ],
            "text/plain": [
              "<IPython.core.display.Javascript object>"
            ]
          },
          "metadata": {
            "tags": [
              "id4-0-0",
              "outputarea_id4"
            ]
          }
        },
        {
          "output_type": "display_data",
          "data": {
            "application/javascript": [
              "window[\"b951029e-77ae-11eb-a30a-0242ac1c0002\"] = google.colab.output.getActiveOutputArea();\n",
              "//# sourceURL=js_020dece560"
            ],
            "text/plain": [
              "<IPython.core.display.Javascript object>"
            ]
          },
          "metadata": {
            "tags": [
              "id4-0-0",
              "outputarea_id4"
            ]
          }
        },
        {
          "output_type": "display_data",
          "data": {
            "application/javascript": [
              "window[\"b95251b2-77ae-11eb-a30a-0242ac1c0002\"] = document.querySelector(\"#id4-0-0\");\n",
              "//# sourceURL=js_3f7d389562"
            ],
            "text/plain": [
              "<IPython.core.display.Javascript object>"
            ]
          },
          "metadata": {
            "tags": [
              "id4-0-0",
              "outputarea_id4"
            ]
          }
        },
        {
          "output_type": "display_data",
          "data": {
            "application/javascript": [
              "window[\"b952fdba-77ae-11eb-a30a-0242ac1c0002\"] = google.colab.output.setActiveOutputArea(window[\"b95251b2-77ae-11eb-a30a-0242ac1c0002\"]);\n",
              "//# sourceURL=js_5db2761b48"
            ],
            "text/plain": [
              "<IPython.core.display.Javascript object>"
            ]
          },
          "metadata": {
            "tags": [
              "id4-0-0",
              "outputarea_id4"
            ]
          }
        },
        {
          "output_type": "display_data",
          "data": {
            "application/javascript": [
              "window[\"b96c795c-77ae-11eb-a30a-0242ac1c0002\"] = google.colab.output.setActiveOutputArea(window[\"b951029e-77ae-11eb-a30a-0242ac1c0002\"]);\n",
              "//# sourceURL=js_60440be0b6"
            ],
            "text/plain": [
              "<IPython.core.display.Javascript object>"
            ]
          },
          "metadata": {
            "tags": [
              "id4-0-0",
              "outputarea_id4"
            ]
          }
        },
        {
          "output_type": "display_data",
          "data": {
            "application/javascript": [
              "window[\"b96dc406-77ae-11eb-a30a-0242ac1c0002\"] = google.colab.output.getActiveOutputArea();\n",
              "//# sourceURL=js_7c006c1e2f"
            ],
            "text/plain": [
              "<IPython.core.display.Javascript object>"
            ]
          },
          "metadata": {
            "tags": [
              "id4-0-0",
              "outputarea_id4"
            ]
          }
        },
        {
          "output_type": "display_data",
          "data": {
            "application/javascript": [
              "window[\"b96e0b3c-77ae-11eb-a30a-0242ac1c0002\"] = document.querySelector(\"#id4-0-0\");\n",
              "//# sourceURL=js_bd0aec966e"
            ],
            "text/plain": [
              "<IPython.core.display.Javascript object>"
            ]
          },
          "metadata": {
            "tags": [
              "id4-0-0",
              "outputarea_id4"
            ]
          }
        },
        {
          "output_type": "display_data",
          "data": {
            "application/javascript": [
              "window[\"b96e491c-77ae-11eb-a30a-0242ac1c0002\"] = google.colab.output.setActiveOutputArea(window[\"b96e0b3c-77ae-11eb-a30a-0242ac1c0002\"]);\n",
              "//# sourceURL=js_2e28feb12d"
            ],
            "text/plain": [
              "<IPython.core.display.Javascript object>"
            ]
          },
          "metadata": {
            "tags": [
              "id4-0-0",
              "outputarea_id4"
            ]
          }
        },
        {
          "output_type": "display_data",
          "data": {
            "application/javascript": [
              "window[\"b98d36ce-77ae-11eb-a30a-0242ac1c0002\"] = google.colab.output.setActiveOutputArea(window[\"b96dc406-77ae-11eb-a30a-0242ac1c0002\"]);\n",
              "//# sourceURL=js_68442bdb1b"
            ],
            "text/plain": [
              "<IPython.core.display.Javascript object>"
            ]
          },
          "metadata": {
            "tags": [
              "id4-0-0",
              "outputarea_id4"
            ]
          }
        },
        {
          "output_type": "display_data",
          "data": {
            "application/javascript": [
              "window[\"b98e712e-77ae-11eb-a30a-0242ac1c0002\"] = google.colab.output.getActiveOutputArea();\n",
              "//# sourceURL=js_727a8dc180"
            ],
            "text/plain": [
              "<IPython.core.display.Javascript object>"
            ]
          },
          "metadata": {
            "tags": [
              "id4-0-0",
              "outputarea_id4"
            ]
          }
        },
        {
          "output_type": "display_data",
          "data": {
            "application/javascript": [
              "window[\"b98eb33c-77ae-11eb-a30a-0242ac1c0002\"] = document.querySelector(\"#id4-0-0\");\n",
              "//# sourceURL=js_648c3fe332"
            ],
            "text/plain": [
              "<IPython.core.display.Javascript object>"
            ]
          },
          "metadata": {
            "tags": [
              "id4-0-0",
              "outputarea_id4"
            ]
          }
        },
        {
          "output_type": "display_data",
          "data": {
            "application/javascript": [
              "window[\"b98efeaa-77ae-11eb-a30a-0242ac1c0002\"] = google.colab.output.setActiveOutputArea(window[\"b98eb33c-77ae-11eb-a30a-0242ac1c0002\"]);\n",
              "//# sourceURL=js_ded92f6640"
            ],
            "text/plain": [
              "<IPython.core.display.Javascript object>"
            ]
          },
          "metadata": {
            "tags": [
              "id4-0-0",
              "outputarea_id4"
            ]
          }
        },
        {
          "output_type": "display_data",
          "data": {
            "application/javascript": [
              "window[\"b9ad984c-77ae-11eb-a30a-0242ac1c0002\"] = google.colab.output.setActiveOutputArea(window[\"b98e712e-77ae-11eb-a30a-0242ac1c0002\"]);\n",
              "//# sourceURL=js_15a686c258"
            ],
            "text/plain": [
              "<IPython.core.display.Javascript object>"
            ]
          },
          "metadata": {
            "tags": [
              "id4-0-0",
              "outputarea_id4"
            ]
          }
        },
        {
          "output_type": "display_data",
          "data": {
            "application/javascript": [
              "window[\"b9aee594-77ae-11eb-a30a-0242ac1c0002\"] = google.colab.output.getActiveOutputArea();\n",
              "//# sourceURL=js_aaf40afb62"
            ],
            "text/plain": [
              "<IPython.core.display.Javascript object>"
            ]
          },
          "metadata": {
            "tags": [
              "id4-0-0",
              "outputarea_id4"
            ]
          }
        },
        {
          "output_type": "display_data",
          "data": {
            "application/javascript": [
              "window[\"b9af2874-77ae-11eb-a30a-0242ac1c0002\"] = document.querySelector(\"#id4-0-0\");\n",
              "//# sourceURL=js_dc1e26d5b0"
            ],
            "text/plain": [
              "<IPython.core.display.Javascript object>"
            ]
          },
          "metadata": {
            "tags": [
              "id4-0-0",
              "outputarea_id4"
            ]
          }
        },
        {
          "output_type": "display_data",
          "data": {
            "application/javascript": [
              "window[\"b9af6a00-77ae-11eb-a30a-0242ac1c0002\"] = google.colab.output.setActiveOutputArea(window[\"b9af2874-77ae-11eb-a30a-0242ac1c0002\"]);\n",
              "//# sourceURL=js_2720e22de7"
            ],
            "text/plain": [
              "<IPython.core.display.Javascript object>"
            ]
          },
          "metadata": {
            "tags": [
              "id4-0-0",
              "outputarea_id4"
            ]
          }
        },
        {
          "output_type": "display_data",
          "data": {
            "application/javascript": [
              "window[\"b9cd5a2e-77ae-11eb-a30a-0242ac1c0002\"] = google.colab.output.setActiveOutputArea(window[\"b9aee594-77ae-11eb-a30a-0242ac1c0002\"]);\n",
              "//# sourceURL=js_6c3fffbaf6"
            ],
            "text/plain": [
              "<IPython.core.display.Javascript object>"
            ]
          },
          "metadata": {
            "tags": [
              "id4-0-0",
              "outputarea_id4"
            ]
          }
        },
        {
          "output_type": "display_data",
          "data": {
            "application/javascript": [
              "window[\"b9ce8cbe-77ae-11eb-a30a-0242ac1c0002\"] = google.colab.output.getActiveOutputArea();\n",
              "//# sourceURL=js_038bea787d"
            ],
            "text/plain": [
              "<IPython.core.display.Javascript object>"
            ]
          },
          "metadata": {
            "tags": [
              "id4-0-0",
              "outputarea_id4"
            ]
          }
        },
        {
          "output_type": "display_data",
          "data": {
            "application/javascript": [
              "window[\"b9ceceb8-77ae-11eb-a30a-0242ac1c0002\"] = document.querySelector(\"#id4-0-0\");\n",
              "//# sourceURL=js_b10c93d450"
            ],
            "text/plain": [
              "<IPython.core.display.Javascript object>"
            ]
          },
          "metadata": {
            "tags": [
              "id4-0-0",
              "outputarea_id4"
            ]
          }
        },
        {
          "output_type": "display_data",
          "data": {
            "application/javascript": [
              "window[\"b9cf0dec-77ae-11eb-a30a-0242ac1c0002\"] = google.colab.output.setActiveOutputArea(window[\"b9ceceb8-77ae-11eb-a30a-0242ac1c0002\"]);\n",
              "//# sourceURL=js_549c207221"
            ],
            "text/plain": [
              "<IPython.core.display.Javascript object>"
            ]
          },
          "metadata": {
            "tags": [
              "id4-0-0",
              "outputarea_id4"
            ]
          }
        },
        {
          "output_type": "display_data",
          "data": {
            "image/png": "[encoded data removed]",
            "text/plain": [
              "<Figure size 432x288 with 1 Axes>"
            ]
          },
          "metadata": {
            "tags": [
              "id4-0-0",
              "outputarea_id4",
              "user_output"
            ],
            "needs_background": "light"
          }
        },
        {
          "output_type": "display_data",
          "data": {
            "application/javascript": [
              "window[\"b9ee25e2-77ae-11eb-a30a-0242ac1c0002\"] = google.colab.output.setActiveOutputArea(window[\"b9ce8cbe-77ae-11eb-a30a-0242ac1c0002\"]);\n",
              "//# sourceURL=js_1aa86aaca7"
            ],
            "text/plain": [
              "<IPython.core.display.Javascript object>"
            ]
          },
          "metadata": {
            "tags": [
              "id4-0-0",
              "outputarea_id4"
            ]
          }
        },
        {
          "output_type": "stream",
          "text": [
            "Agent ran out of time\n",
            "At the end of the run, the agent got is at state 6 & a total reward of -2\n"
          ],
          "name": "stdout"
        }
      ]
    },
    {
      "cell_type": "markdown",
      "metadata": {
        "id": "v4Z_9Gz2dLCt"
      },
      "source": [
        "*Running the Q-learning random agent in the Deterministic Environment*"
      ]
    },
    {
      "cell_type": "code",
      "metadata": {
        "id": "ZiR53K8fyliv"
      },
      "source": [
        "# Initializing the environment & the Q-learning agent\n",
        "environment= DeterministicEnvironment()\n",
        "Q_agent= QLearningAgent(env= environment)"
      ],
      "execution_count": 14,
      "outputs": []
    },
    {
      "cell_type": "code",
      "metadata": {
        "colab": {
          "base_uri": "https://localhost:8080/"
        },
        "id": "MbMNwxcdyvEj",
        "outputId": "e4282dde-0753-4cf9-c41f-4dae520d4383"
      },
      "source": [
        "# Metrics to calculate\n",
        "reached= 0\n",
        "not_reached= 0\n",
        "total_reward= 0\n",
        "\n",
        "for each_episode in range(10):\n",
        "  state= environment.reset()\n",
        "  done= False\n",
        "\n",
        "  reward_per_episode= 0\n",
        "  while not done:\n",
        "    action= Q_agent.step(state= state)\n",
        "    next_state, reward, done, info= environment.step(action= action)\n",
        "    Q_agent.train(experience= (state, action, next_state, reward, done))\n",
        "    state= next_state\n",
        "    reward_per_episode += reward\n",
        "    total_reward += reward\n",
        "\n",
        "  if done == True and environment.timestep < MAX_TIMESTEPS:\n",
        "    # Agent has reached the goal\n",
        "    reached += 1\n",
        "  elif done == True and environment.timestep == MAX_TIMESTEPS:\n",
        "    # Agent ran out of time & has not reached the goal\n",
        "    not_reached += 1\n",
        "  print('Total reward obtained in episode {}: {}, and the epsilon value is {:.2f}'.format(each_episode+1, reward_per_episode, Q_agent.epsilon))\n",
        "\n",
        "print('\\nReached: {} & Not reached: {}'.format(reached, not_reached))\n",
        "print('At the end of the run, the agent got is at state {} & a total reward of {}'.format(state, total_reward))\n",
        "\n",
        "print('\\nThe final q-table is')\n",
        "print(Q_agent.Q_table)"
      ],
      "execution_count": 15,
      "outputs": [
        {
          "output_type": "stream",
          "text": [
            "Total reward obtained in episode 1: 19, and the epsilon value is 0.99\n",
            "Total reward obtained in episode 2: 43, and the epsilon value is 0.98\n",
            "Total reward obtained in episode 3: -18, and the epsilon value is 0.97\n",
            "Total reward obtained in episode 4: 13, and the epsilon value is 0.96\n",
            "Total reward obtained in episode 5: 1, and the epsilon value is 0.95\n",
            "Total reward obtained in episode 6: 10, and the epsilon value is 0.94\n",
            "Total reward obtained in episode 7: -5, and the epsilon value is 0.93\n",
            "Total reward obtained in episode 8: -10, and the epsilon value is 0.92\n",
            "Total reward obtained in episode 9: 4, and the epsilon value is 0.91\n",
            "Total reward obtained in episode 10: 1, and the epsilon value is 0.90\n",
            "\n",
            "Reached: 3 & Not reached: 7\n",
            "At the end of the run, the agent got is at state 3 & a total reward of 58\n",
            "\n",
            "The final q-table is\n",
            "[[ 4.97773150e-06  3.59954198e-07  1.03681748e-05  5.00180255e-07]\n",
            " [ 2.36870835e-04  3.33074903e-06  1.47889601e-04  2.09037478e-07]\n",
            " [ 1.01398778e-02  9.75199500e-06  9.85050000e-04  4.46615967e-06]\n",
            " [ 1.49000000e-01  4.95000000e-04  1.47510000e-03  8.17477486e-05]\n",
            " [ 1.53307192e-06  1.48640362e-07  1.84119810e-04  4.43925431e-06]\n",
            " [-5.67279760e-01  2.58597951e-06  1.44098725e-02  2.50259774e-06]\n",
            " [ 7.80796730e-03  0.00000000e+00  3.92559944e-01  1.34386955e-04]\n",
            " [ 2.46975449e-03  4.32306968e-03  1.49985001e-01  2.94515199e-03]\n",
            " [ 5.00181600e-04  3.92876668e-06 -3.85546434e-01  2.93783266e-06]\n",
            " [ 3.12132552e-02  4.37879751e-04  1.22261598e-02  2.13769494e-06]\n",
            " [ 3.39855732e-01  7.28709687e-03  3.93263538e-03 -2.91672228e-01]\n",
            " [ 1.00000000e-01  1.51455052e-01  9.90000000e-04  8.39259172e-03]\n",
            " [ 4.51892886e-04  1.49901665e-05  1.96280644e-02  6.74156927e-04]\n",
            " [ 3.00913615e-02 -4.76959638e-01  4.84856760e-01  7.68507045e-04]\n",
            " [ 4.19727109e-01  1.79953276e-02  1.99000000e-01  3.36717213e-02]\n",
            " [ 0.00000000e+00  0.00000000e+00  0.00000000e+00  0.00000000e+00]]\n"
          ],
          "name": "stdout"
        }
      ]
    },
    {
      "cell_type": "markdown",
      "metadata": {
        "id": "Fi-TvG5evpXT"
      },
      "source": [
        "## References\n",
        "1. Reinforcement Learning: An Introduction by Richard S. Sutton & Andrew G. Barto - http://incompleteideas.net/book/RLbook2020.pdf\n",
        "2. Q-learning [Wikipedia] - https://en.wikipedia.org/wiki/Q-learning\n",
        "3. An Introduction to Q-Learning [Youtube] - https://youtu.be/wN3rxIKmMgE\n",
        "4. Simple Reinforcement Learning: Q-learning - https://towardsdatascience.com/simple-reinforcement-learning-q-learning-fcddc4b6fe56\n",
        "5. Introduction to Various Reinforcement Learning Algorithms. Part I (Q-Learning, SARSA, DQN, DDPG) - https://towardsdatascience.com/introduction-to-various-reinforcement-learning-algorithms-i-q-learning-sarsa-dqn-ddpg-72a5e0cb6287"
      ]
    }
  ]
}