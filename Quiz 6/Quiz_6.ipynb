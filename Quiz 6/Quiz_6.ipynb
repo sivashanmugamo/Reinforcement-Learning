{
  "nbformat": 4,
  "nbformat_minor": 0,
  "metadata": {
    "colab": {
      "name": "Shiva Quiz 6.ipynb",
      "provenance": [],
      "collapsed_sections": []
    },
    "kernelspec": {
      "name": "python3",
      "display_name": "Python 3"
    },
    "language_info": {
      "name": "python"
    },
    "accelerator": "GPU"
  },
  "cells": [
    {
      "cell_type": "code",
      "metadata": {
        "id": "_I0vEsi9b1GH"
      },
      "source": [
        "# Importing required libraries\n",
        "import numpy as np\n",
        "import matplotlib.pyplot as plt\n",
        "\n",
        "import torch\n",
        "import torch.nn as nn\n",
        "import torch.nn.functional as F\n",
        "import torch.optim as optim\n",
        "\n",
        "import torchvision\n",
        "import torchvision.transforms as transforms"
      ],
      "execution_count": 1,
      "outputs": []
    },
    {
      "cell_type": "markdown",
      "metadata": {
        "id": "pWfyhv4AfDql"
      },
      "source": [
        "### Part 1 - Tensors"
      ]
    },
    {
      "cell_type": "code",
      "metadata": {
        "colab": {
          "base_uri": "https://localhost:8080/"
        },
        "id": "bsPXiJrzcHfA",
        "outputId": "311db50b-57f9-4676-cbfc-ba67174b295d"
      },
      "source": [
        "sample_data= [[1, 2, 3], [3, 2, 1]]\n",
        "\n",
        "# As numpy array\n",
        "data_numpy= np.array(sample_data)\n",
        "print(f'Numpy array: \\n {data_numpy}')\n",
        "\n",
        "# As tensor - New\n",
        "data_tensor= torch.tensor(sample_data)\n",
        "print(f'Tensor: \\n {data_tensor}')\n",
        "\n",
        "# As tensor - From numpy array\n",
        "data_tensor= torch.from_numpy(data_numpy)\n",
        "print(f'Tensor from Numpy: \\n {data_tensor}')\n",
        "\n",
        "# As tensor - From another tensor - Ones\n",
        "data_tensor_2= torch.ones_like(data_tensor)\n",
        "print(f'Ones tensor: \\n {data_tensor_2}')\n",
        "\n",
        "# As tensor - From another tensor - Random\n",
        "data_tensor_3= torch.rand_like(data_tensor, dtype= torch.float)\n",
        "print(f'Random tensor: \\n {data_tensor_3}')"
      ],
      "execution_count": 2,
      "outputs": [
        {
          "output_type": "stream",
          "text": [
            "Numpy array: \n",
            " [[1 2 3]\n",
            " [3 2 1]]\n",
            "Tensor: \n",
            " tensor([[1, 2, 3],\n",
            "        [3, 2, 1]])\n",
            "Tensor from Numpy: \n",
            " tensor([[1, 2, 3],\n",
            "        [3, 2, 1]])\n",
            "Ones tensor: \n",
            " tensor([[1, 1, 1],\n",
            "        [1, 1, 1]])\n",
            "Random tensor: \n",
            " tensor([[0.4331, 0.9743, 0.8942],\n",
            "        [0.8764, 0.2708, 0.8692]])\n"
          ],
          "name": "stdout"
        }
      ]
    },
    {
      "cell_type": "code",
      "metadata": {
        "colab": {
          "base_uri": "https://localhost:8080/"
        },
        "id": "2N99QqfccT_e",
        "outputId": "6897ebec-8702-4f94-8a76-1b3aa8a8794e"
      },
      "source": [
        "# With respect to shape\n",
        "shape= (4, 3,)\n",
        "\n",
        "# Random tensor\n",
        "rand_tensor= torch.rand(shape)\n",
        "print(f'Random tensor: \\n {rand_tensor}')\n",
        "\n",
        "# Ones tensor\n",
        "ones_tensor= torch.ones(shape)\n",
        "print(f'Ones tensor: \\n {ones_tensor}')\n",
        "\n",
        "# Zeros tensor\n",
        "zero_tensor= torch.zeros(shape)\n",
        "print(f'Zeros tensor: \\n {zero_tensor}')"
      ],
      "execution_count": 3,
      "outputs": [
        {
          "output_type": "stream",
          "text": [
            "Random tensor: \n",
            " tensor([[0.5561, 0.4225, 0.6881],\n",
            "        [0.8808, 0.3018, 0.8259],\n",
            "        [0.1042, 0.3798, 0.9147],\n",
            "        [0.0631, 0.5397, 0.3467]])\n",
            "Ones tensor: \n",
            " tensor([[1., 1., 1.],\n",
            "        [1., 1., 1.],\n",
            "        [1., 1., 1.],\n",
            "        [1., 1., 1.]])\n",
            "Zeros tensor: \n",
            " tensor([[0., 0., 0.],\n",
            "        [0., 0., 0.],\n",
            "        [0., 0., 0.],\n",
            "        [0., 0., 0.]])\n"
          ],
          "name": "stdout"
        }
      ]
    },
    {
      "cell_type": "code",
      "metadata": {
        "colab": {
          "base_uri": "https://localhost:8080/"
        },
        "id": "IURJRm7KgEa2",
        "outputId": "4f19255e-5298-4ed2-bf94-53eff8cd2592"
      },
      "source": [
        "# Tensor attributes\n",
        "print(f'Shape: \\n {ones_tensor.shape}')\n",
        "print(f'Datatype: \\n {ones_tensor.dtype}')\n",
        "print(f'Device its stored in: \\n {ones_tensor.device}')"
      ],
      "execution_count": 4,
      "outputs": [
        {
          "output_type": "stream",
          "text": [
            "Shape: \n",
            " torch.Size([4, 3])\n",
            "Datatype: \n",
            " torch.float32\n",
            "Device its stored in: \n",
            " cpu\n"
          ],
          "name": "stdout"
        }
      ]
    },
    {
      "cell_type": "code",
      "metadata": {
        "colab": {
          "base_uri": "https://localhost:8080/"
        },
        "id": "NfJSUsxwgkRT",
        "outputId": "657a566e-fec3-410d-f34d-98c70976a06b"
      },
      "source": [
        "# Assigning values to an index of a tensor\n",
        "tensor = torch.rand(4, 3)\n",
        "tensor[:,1] = 0\n",
        "print(f'Assigning value: \\n {tensor}')"
      ],
      "execution_count": 5,
      "outputs": [
        {
          "output_type": "stream",
          "text": [
            "Assigning value: \n",
            " tensor([[0.1229, 0.0000, 0.3065],\n",
            "        [0.4131, 0.0000, 0.6664],\n",
            "        [0.1086, 0.0000, 0.6263],\n",
            "        [0.3104, 0.0000, 0.1299]])\n"
          ],
          "name": "stdout"
        }
      ]
    },
    {
      "cell_type": "code",
      "metadata": {
        "colab": {
          "base_uri": "https://localhost:8080/"
        },
        "id": "ICZNX6EYg0ea",
        "outputId": "a1a55daa-97d4-4ec0-fe65-1734f9c086ca"
      },
      "source": [
        "# Concating tensors\n",
        "concat_tensor = torch.cat([tensor, tensor, tensor], dim=1)\n",
        "print(concat_tensor)"
      ],
      "execution_count": 6,
      "outputs": [
        {
          "output_type": "stream",
          "text": [
            "tensor([[0.1229, 0.0000, 0.3065, 0.1229, 0.0000, 0.3065, 0.1229, 0.0000, 0.3065],\n",
            "        [0.4131, 0.0000, 0.6664, 0.4131, 0.0000, 0.6664, 0.4131, 0.0000, 0.6664],\n",
            "        [0.1086, 0.0000, 0.6263, 0.1086, 0.0000, 0.6263, 0.1086, 0.0000, 0.6263],\n",
            "        [0.3104, 0.0000, 0.1299, 0.3104, 0.0000, 0.1299, 0.3104, 0.0000, 0.1299]])\n"
          ],
          "name": "stdout"
        }
      ]
    },
    {
      "cell_type": "code",
      "metadata": {
        "colab": {
          "base_uri": "https://localhost:8080/"
        },
        "id": "lxV7q590hK62",
        "outputId": "d554651c-3536-480b-8f6b-38ac36b41f3b"
      },
      "source": [
        "# Element-wise product\n",
        "print(f\"Element wise product of tensors: \\n {tensor.mul(tensor)} \\n\")"
      ],
      "execution_count": 7,
      "outputs": [
        {
          "output_type": "stream",
          "text": [
            "Element wise product of tensors: \n",
            " tensor([[0.0151, 0.0000, 0.0939],\n",
            "        [0.1706, 0.0000, 0.4441],\n",
            "        [0.0118, 0.0000, 0.3922],\n",
            "        [0.0963, 0.0000, 0.0169]]) \n",
            "\n"
          ],
          "name": "stdout"
        }
      ]
    },
    {
      "cell_type": "code",
      "metadata": {
        "colab": {
          "base_uri": "https://localhost:8080/"
        },
        "id": "4dCdgTaJhbS6",
        "outputId": "01ec6428-739c-47dc-8c3c-28cd636c653c"
      },
      "source": [
        "# Matrix multiplication - A * transpose(A)\n",
        "print(f\"Matrix multiplication of tensors: \\n {tensor.matmul(tensor.T)} \\n\")"
      ],
      "execution_count": 8,
      "outputs": [
        {
          "output_type": "stream",
          "text": [
            "Matrix multiplication of tensors: \n",
            " tensor([[0.1090, 0.2550, 0.2053, 0.0780],\n",
            "        [0.2550, 0.6147, 0.4622, 0.2148],\n",
            "        [0.2053, 0.4622, 0.4040, 0.1151],\n",
            "        [0.0780, 0.2148, 0.1151, 0.1132]]) \n",
            "\n"
          ],
          "name": "stdout"
        }
      ]
    },
    {
      "cell_type": "code",
      "metadata": {
        "colab": {
          "base_uri": "https://localhost:8080/"
        },
        "id": "7KYRCPCOistz",
        "outputId": "94b6b723-78b9-41ee-8356-606e48f32b23"
      },
      "source": [
        "# In-place operations\n",
        "print(f'Add 2 to tensor: \\n {tensor.add_(2)}')\n",
        "print(f'Multiply 4 to tensor: \\n {tensor.mul_(4)}')\n",
        "print(f'Divide 2 to tensor: \\n {tensor.div_(2)}')"
      ],
      "execution_count": 9,
      "outputs": [
        {
          "output_type": "stream",
          "text": [
            "Add 2 to tensor: \n",
            " tensor([[2.1229, 2.0000, 2.3065],\n",
            "        [2.4131, 2.0000, 2.6664],\n",
            "        [2.1086, 2.0000, 2.6263],\n",
            "        [2.3104, 2.0000, 2.1299]])\n",
            "Multiply 4 to tensor: \n",
            " tensor([[ 8.4917,  8.0000,  9.2259],\n",
            "        [ 9.6523,  8.0000, 10.6657],\n",
            "        [ 8.4342,  8.0000, 10.5050],\n",
            "        [ 9.2415,  8.0000,  8.5196]])\n",
            "Divide 2 to tensor: \n",
            " tensor([[4.2459, 4.0000, 4.6129],\n",
            "        [4.8261, 4.0000, 5.3328],\n",
            "        [4.2171, 4.0000, 5.2525],\n",
            "        [4.6208, 4.0000, 4.2598]])\n"
          ],
          "name": "stdout"
        }
      ]
    },
    {
      "cell_type": "code",
      "metadata": {
        "colab": {
          "base_uri": "https://localhost:8080/"
        },
        "id": "aHVb9XNyjJiP",
        "outputId": "2c9c05d4-099b-40f1-8e33-de50cad2f23b"
      },
      "source": [
        "# Bridge - Basically pointing to the values between Numpy array & Tensors\n",
        "print(f\"Tensor: \\n {ones_tensor}\")\n",
        "numpy_bridge = ones_tensor.numpy()\n",
        "print(f\"Numpy: \\n {numpy_bridge}\")\n",
        "\n",
        "ones_tensor.add_(1)\n",
        "print(f\"Tensor: \\n {ones_tensor}\")\n",
        "print(f\"Numpy: \\n {numpy_bridge}\")\n",
        "\n",
        "torch_bridge = torch.from_numpy(data_numpy)\n",
        "\n",
        "np.add(data_numpy, 1, out=data_numpy)\n",
        "print(f\"Tensor: \\n {torch_bridge}\")\n",
        "print(f\"Numpy: \\n {data_numpy}\")"
      ],
      "execution_count": 10,
      "outputs": [
        {
          "output_type": "stream",
          "text": [
            "Tensor: \n",
            " tensor([[1., 1., 1.],\n",
            "        [1., 1., 1.],\n",
            "        [1., 1., 1.],\n",
            "        [1., 1., 1.]])\n",
            "Numpy: \n",
            " [[1. 1. 1.]\n",
            " [1. 1. 1.]\n",
            " [1. 1. 1.]\n",
            " [1. 1. 1.]]\n",
            "Tensor: \n",
            " tensor([[2., 2., 2.],\n",
            "        [2., 2., 2.],\n",
            "        [2., 2., 2.],\n",
            "        [2., 2., 2.]])\n",
            "Numpy: \n",
            " [[2. 2. 2.]\n",
            " [2. 2. 2.]\n",
            " [2. 2. 2.]\n",
            " [2. 2. 2.]]\n",
            "Tensor: \n",
            " tensor([[2, 3, 4],\n",
            "        [4, 3, 2]])\n",
            "Numpy: \n",
            " [[2 3 4]\n",
            " [4 3 2]]\n"
          ],
          "name": "stdout"
        }
      ]
    },
    {
      "cell_type": "markdown",
      "metadata": {
        "id": "1B_3Es6tfF6p"
      },
      "source": [
        "### Part 2 - Autograd & Differentiation"
      ]
    },
    {
      "cell_type": "code",
      "metadata": {
        "id": "F4gruMVccUs-"
      },
      "source": [
        "model= torchvision.models.resnet18(pretrained= True)\n",
        "data= torch.rand(1, 3, 128, 128)\n",
        "labels= torch.rand(1, 1000)"
      ],
      "execution_count": 11,
      "outputs": []
    },
    {
      "cell_type": "code",
      "metadata": {
        "id": "qXKHoLqDlBq1"
      },
      "source": [
        "prediction = model(data)\n",
        "loss = (prediction - labels).sum()\n",
        "loss.backward()"
      ],
      "execution_count": 12,
      "outputs": []
    },
    {
      "cell_type": "code",
      "metadata": {
        "id": "saZTRK6XlS72"
      },
      "source": [
        "# SGD - Stochastic Gradient Descent\n",
        "criterion= nn.MSELoss()\n",
        "optimizer = optim.SGD(model.parameters(), lr=0.01, momentum=0.9)\n",
        "optimizer.step()"
      ],
      "execution_count": 13,
      "outputs": []
    },
    {
      "cell_type": "code",
      "metadata": {
        "id": "B-GcXE3ilcRg"
      },
      "source": [
        "a = torch.tensor([2., 3.], requires_grad=True)\n",
        "b = torch.tensor([6., 4.], requires_grad=True)\n",
        "\n",
        "# Initializing an equation\n",
        "Q = 3*a**3 - b**2"
      ],
      "execution_count": 14,
      "outputs": []
    },
    {
      "cell_type": "code",
      "metadata": {
        "id": "DVh4O89nlmk-"
      },
      "source": [
        "external_grad = torch.tensor([1., 1.])\n",
        "Q.backward(gradient=external_grad)"
      ],
      "execution_count": 15,
      "outputs": []
    },
    {
      "cell_type": "code",
      "metadata": {
        "colab": {
          "base_uri": "https://localhost:8080/"
        },
        "id": "bNUioG1AlpVH",
        "outputId": "1091787a-1a7d-453c-f706-f037f208764b"
      },
      "source": [
        "print(9*a**2 == a.grad)\n",
        "print(-2*b == b.grad)"
      ],
      "execution_count": 16,
      "outputs": [
        {
          "output_type": "stream",
          "text": [
            "tensor([True, True])\n",
            "tensor([True, True])\n"
          ],
          "name": "stdout"
        }
      ]
    },
    {
      "cell_type": "markdown",
      "metadata": {
        "id": "honFsZGBmLJq"
      },
      "source": [
        "### Part 3 - Neural Networks"
      ]
    },
    {
      "cell_type": "code",
      "metadata": {
        "id": "0Y0KGm2SlsKD"
      },
      "source": [
        "class Net(nn.Module):\n",
        "\n",
        "    def __init__(self):\n",
        "        super(Net, self).__init__()\n",
        "        self.conv1 = nn.Conv2d(1, 6, 3)\n",
        "        self.conv2 = nn.Conv2d(6, 16, 3)\n",
        "        self.fc1 = nn.Linear(16 * 6 * 6, 120)\n",
        "        self.fc2 = nn.Linear(120, 84)\n",
        "        self.fc3 = nn.Linear(84, 10)\n",
        "\n",
        "    def forward(self, x):\n",
        "        x = F.max_pool2d(F.relu(self.conv1(x)), (2, 2))\n",
        "        x = F.max_pool2d(F.relu(self.conv2(x)), 2)\n",
        "        x = x.view(-1, self.num_flat_features(x))\n",
        "        x = F.relu(self.fc1(x))\n",
        "        x = F.relu(self.fc2(x))\n",
        "        x = self.fc3(x)\n",
        "        return x\n",
        "\n",
        "    def num_flat_features(self, x):\n",
        "        size = x.size()[1:]\n",
        "        num_features = 1\n",
        "        for s in size:\n",
        "            num_features *= s\n",
        "        return num_features"
      ],
      "execution_count": 17,
      "outputs": []
    },
    {
      "cell_type": "code",
      "metadata": {
        "colab": {
          "base_uri": "https://localhost:8080/"
        },
        "id": "XLffus5gm_2a",
        "outputId": "c6a63999-cc39-4d32-b7ac-d60edf2fffa7"
      },
      "source": [
        "neural_net = Net()\n",
        "parameter= list(neural_net.parameters())\n",
        "print(parameter[0])"
      ],
      "execution_count": 18,
      "outputs": [
        {
          "output_type": "stream",
          "text": [
            "Parameter containing:\n",
            "tensor([[[[-0.1648, -0.1697,  0.2588],\n",
            "          [-0.0387,  0.0900,  0.1299],\n",
            "          [-0.0836,  0.0240, -0.3243]]],\n",
            "\n",
            "\n",
            "        [[[ 0.1830,  0.2597,  0.3034],\n",
            "          [-0.2504,  0.1034, -0.1721],\n",
            "          [-0.1281,  0.1746, -0.0403]]],\n",
            "\n",
            "\n",
            "        [[[-0.2586,  0.0690, -0.1409],\n",
            "          [ 0.0130, -0.2025,  0.2905],\n",
            "          [-0.1939,  0.0262,  0.1686]]],\n",
            "\n",
            "\n",
            "        [[[-0.2073, -0.0166, -0.2171],\n",
            "          [-0.1754,  0.0246,  0.2330],\n",
            "          [-0.0349, -0.0296, -0.1315]]],\n",
            "\n",
            "\n",
            "        [[[-0.0241, -0.0907, -0.2589],\n",
            "          [ 0.0035, -0.0816,  0.0434],\n",
            "          [-0.1244,  0.1357, -0.2637]]],\n",
            "\n",
            "\n",
            "        [[[ 0.2039,  0.0029,  0.2922],\n",
            "          [ 0.0328,  0.1260, -0.1118],\n",
            "          [-0.0238, -0.3224, -0.1261]]]], requires_grad=True)\n"
          ],
          "name": "stdout"
        }
      ]
    },
    {
      "cell_type": "code",
      "metadata": {
        "colab": {
          "base_uri": "https://localhost:8080/"
        },
        "id": "Umm2uFQ2o2gX",
        "outputId": "dd4c0e02-51e9-4129-a2b5-70e68733446b"
      },
      "source": [
        "input = torch.randn(1, 1, 32, 32)\n",
        "out = neural_net(input)\n",
        "print(out)"
      ],
      "execution_count": 19,
      "outputs": [
        {
          "output_type": "stream",
          "text": [
            "tensor([[-0.0263, -0.1240,  0.0452, -0.0980, -0.0644,  0.0245,  0.0244,  0.1503,\n",
            "         -0.1004,  0.0393]], grad_fn=<AddmmBackward>)\n"
          ],
          "name": "stdout"
        }
      ]
    },
    {
      "cell_type": "code",
      "metadata": {
        "id": "qgjciYy6pC2-"
      },
      "source": [
        "neural_net.zero_grad()\n",
        "out.backward(torch.randn(1, 10))"
      ],
      "execution_count": 20,
      "outputs": []
    },
    {
      "cell_type": "code",
      "metadata": {
        "colab": {
          "base_uri": "https://localhost:8080/"
        },
        "id": "RtuN-L9spRPs",
        "outputId": "c52863c0-4ee8-439a-e8b6-4b2fd8c369c3"
      },
      "source": [
        "target = torch.randn(10)\n",
        "target = target.view(1, -1)\n",
        "\n",
        "loss = criterion(out, target)\n",
        "print(loss)"
      ],
      "execution_count": 21,
      "outputs": [
        {
          "output_type": "stream",
          "text": [
            "tensor(0.8655, grad_fn=<MseLossBackward>)\n"
          ],
          "name": "stdout"
        }
      ]
    },
    {
      "cell_type": "code",
      "metadata": {
        "colab": {
          "base_uri": "https://localhost:8080/"
        },
        "id": "HRT_v3K9p3CL",
        "outputId": "ee8a777b-3ea7-4268-8d94-846585d041ca"
      },
      "source": [
        "neural_net.zero_grad()\n",
        "print('Gradient before backward propagation')\n",
        "print(neural_net.conv1.bias.grad)\n",
        "\n",
        "# loss.backward(retain_graph= True)\n",
        "print('Gradient after backward propagation')\n",
        "print(neural_net.conv1.bias.grad)"
      ],
      "execution_count": 22,
      "outputs": [
        {
          "output_type": "stream",
          "text": [
            "Gradient before backward propagation\n",
            "tensor([0., 0., 0., 0., 0., 0.])\n",
            "Gradient after backward propagation\n",
            "tensor([0., 0., 0., 0., 0., 0.])\n"
          ],
          "name": "stdout"
        }
      ]
    },
    {
      "cell_type": "code",
      "metadata": {
        "id": "Vy6sEbNVqCvO"
      },
      "source": [
        "learning_rate = 0.01\n",
        "for f in neural_net.parameters():\n",
        "    f.data.sub_(f.grad.data * learning_rate)"
      ],
      "execution_count": 23,
      "outputs": []
    },
    {
      "cell_type": "code",
      "metadata": {
        "id": "_J8ixk8NrStO"
      },
      "source": [
        "optimizer.zero_grad()\n",
        "output = neural_net(input)\n",
        "loss = criterion(output, target)\n",
        "loss.backward()\n",
        "optimizer.step()   "
      ],
      "execution_count": 24,
      "outputs": []
    },
    {
      "cell_type": "markdown",
      "metadata": {
        "id": "ScJssqIVrtWs"
      },
      "source": [
        "### Part 4 - Classifier"
      ]
    },
    {
      "cell_type": "code",
      "metadata": {
        "id": "TYhw9v75u2Uk"
      },
      "source": [
        "class CIFAR_Net(nn.Module):\n",
        "    def __init__(self):\n",
        "        super(CIFAR_Net, self).__init__()\n",
        "        self.conv1 = nn.Conv2d(3, 6, 5)\n",
        "        self.pool = nn.MaxPool2d(2, 2)\n",
        "        self.conv2 = nn.Conv2d(6, 16, 5)\n",
        "        self.fc1 = nn.Linear(16 * 5 * 5, 120)\n",
        "        self.fc2 = nn.Linear(120, 84)\n",
        "        self.fc3 = nn.Linear(84, 10)\n",
        "\n",
        "    def forward(self, x):\n",
        "        x = self.pool(F.relu(self.conv1(x)))\n",
        "        x = self.pool(F.relu(self.conv2(x)))\n",
        "        x = x.view(-1, 16 * 5 * 5)\n",
        "        x = F.relu(self.fc1(x))\n",
        "        x = F.relu(self.fc2(x))\n",
        "        x = self.fc3(x)\n",
        "        return x"
      ],
      "execution_count": 25,
      "outputs": []
    },
    {
      "cell_type": "code",
      "metadata": {
        "colab": {
          "base_uri": "https://localhost:8080/"
        },
        "id": "XSgd8OB8r-x9",
        "outputId": "708101bf-3081-4c4e-f8cd-a985fab4dac4"
      },
      "source": [
        "transform = transforms.Compose([transforms.ToTensor(), transforms.Normalize((0.5, 0.5, 0.5), (0.5, 0.5, 0.5))])\n",
        "\n",
        "trainset = torchvision.datasets.CIFAR10(root='./data', train=True, download=True, transform=transform)\n",
        "trainloader = torch.utils.data.DataLoader(trainset, batch_size=4, shuffle=True, num_workers=2)\n",
        "\n",
        "testset = torchvision.datasets.CIFAR10(root='./data', train=False, download=True, transform=transform)\n",
        "testloader = torch.utils.data.DataLoader(testset, batch_size=4, shuffle=False, num_workers=2)\n",
        "\n",
        "classes = ('plane', 'car', 'bird', 'cat', 'deer', 'dog', 'frog', 'horse', 'ship', 'truck')"
      ],
      "execution_count": 26,
      "outputs": [
        {
          "output_type": "stream",
          "text": [
            "Files already downloaded and verified\n",
            "Files already downloaded and verified\n"
          ],
          "name": "stdout"
        }
      ]
    },
    {
      "cell_type": "code",
      "metadata": {
        "colab": {
          "base_uri": "https://localhost:8080/",
          "height": 156
        },
        "id": "oDJen-NvsLbl",
        "outputId": "636619ac-e5a6-4742-f387-d69b050486ed"
      },
      "source": [
        "def imshow(img):\n",
        "    img = img / 2 + 0.5\n",
        "    npimg = img.numpy()\n",
        "    plt.imshow(np.transpose(npimg, (1, 2, 0)))\n",
        "    plt.show()\n",
        "\n",
        "dataiter = iter(trainloader)\n",
        "images, labels = dataiter.next()\n",
        "\n",
        "imshow(torchvision.utils.make_grid(images))\n",
        "print(' '.join('%5s' % classes[labels[j]] for j in range(4)))"
      ],
      "execution_count": 27,
      "outputs": [
        {
          "output_type": "display_data",
          "data": {
            "image/png": "[encoded data removed]",
            "text/plain": [
              "<Figure size 432x288 with 1 Axes>"
            ]
          },
          "metadata": {
            "tags": [],
            "needs_background": "light"
          }
        },
        {
          "output_type": "stream",
          "text": [
            "horse   cat   car  deer\n"
          ],
          "name": "stdout"
        }
      ]
    },
    {
      "cell_type": "code",
      "metadata": {
        "id": "VKXt3J7_sfK3"
      },
      "source": [
        "classifier= CIFAR_Net()\n",
        "criterion= nn.CrossEntropyLoss()\n",
        "optimizer= optim.SGD(classifier.parameters(), lr= 0.01, momentum= 0.9)"
      ],
      "execution_count": 28,
      "outputs": []
    },
    {
      "cell_type": "code",
      "metadata": {
        "colab": {
          "base_uri": "https://localhost:8080/"
        },
        "id": "YiSghbI7sxay",
        "outputId": "67c45633-46fe-4bd2-9753-afe8d625e1c0"
      },
      "source": [
        "loss_trend= list()\n",
        "for epoch in range(2):\n",
        "    running_loss = 0.0\n",
        "    for i, data in enumerate(trainloader, 0):\n",
        "        inp, labels = data\n",
        "        optimizer.zero_grad()\n",
        "        pred = classifier(inp)\n",
        "        loss = criterion(pred, labels)\n",
        "        loss.backward()\n",
        "        optimizer.step()\n",
        "\n",
        "        running_loss += loss.item()\n",
        "        if i % 2000 == 1999:\n",
        "            print('[%d, %5d] loss: %.3f' %(epoch + 1, i + 1, running_loss / 2000))\n",
        "            loss_trend.append(running_loss/2000)\n",
        "            running_loss = 0.0"
      ],
      "execution_count": 29,
      "outputs": [
        {
          "output_type": "stream",
          "text": [
            "[1,  2000] loss: 2.060\n",
            "[1,  4000] loss: 1.961\n",
            "[1,  6000] loss: 1.940\n",
            "[1,  8000] loss: 1.954\n",
            "[1, 10000] loss: 1.966\n",
            "[1, 12000] loss: 1.959\n",
            "[2,  2000] loss: 1.981\n",
            "[2,  4000] loss: 2.006\n",
            "[2,  6000] loss: 1.959\n",
            "[2,  8000] loss: 2.015\n",
            "[2, 10000] loss: 1.989\n",
            "[2, 12000] loss: 1.975\n"
          ],
          "name": "stdout"
        }
      ]
    },
    {
      "cell_type": "code",
      "metadata": {
        "colab": {
          "base_uri": "https://localhost:8080/",
          "height": 318
        },
        "id": "NQdJkv6bveDf",
        "outputId": "ea9d825e-d7b2-4585-e56d-2f4529682264"
      },
      "source": [
        "print('Loss of the Neural Network')\n",
        "plt.title('Loss')\n",
        "plt.plot(loss_trend)"
      ],
      "execution_count": 30,
      "outputs": [
        {
          "output_type": "stream",
          "text": [
            "Loss of the Neural Network\n"
          ],
          "name": "stdout"
        },
        {
          "output_type": "execute_result",
          "data": {
            "text/plain": [
              "[<matplotlib.lines.Line2D at 0x7fd4399c3bd0>]"
            ]
          },
          "metadata": {
            "tags": []
          },
          "execution_count": 30
        },
        {
          "output_type": "display_data",
          "data": {
            "image/png": "[encoded data removed]",
            "text/plain": [
              "<Figure size 432x288 with 1 Axes>"
            ]
          },
          "metadata": {
            "tags": [],
            "needs_background": "light"
          }
        }
      ]
    },
    {
      "cell_type": "code",
      "metadata": {
        "colab": {
          "base_uri": "https://localhost:8080/",
          "height": 156
        },
        "id": "NFMffXPNumUN",
        "outputId": "f44cc3fb-20a5-4f09-d804-42b7e336b553"
      },
      "source": [
        "dataiter = iter(testloader)\n",
        "images, labels = dataiter.next()\n",
        "imshow(torchvision.utils.make_grid(images))\n",
        "print('GroundTruth: ', ' '.join('%5s' % classes[labels[j]] for j in range(4)))"
      ],
      "execution_count": 31,
      "outputs": [
        {
          "output_type": "display_data",
          "data": {
            "image/png": "[encoded data removed]",
            "text/plain": [
              "<Figure size 432x288 with 1 Axes>"
            ]
          },
          "metadata": {
            "tags": [],
            "needs_background": "light"
          }
        },
        {
          "output_type": "stream",
          "text": [
            "GroundTruth:    cat  ship  ship plane\n"
          ],
          "name": "stdout"
        }
      ]
    },
    {
      "cell_type": "code",
      "metadata": {
        "colab": {
          "base_uri": "https://localhost:8080/"
        },
        "id": "8z80qlZHuodR",
        "outputId": "456cc242-062c-48ca-c20a-c1a7eee079e5"
      },
      "source": [
        "prediction= classifier(images)\n",
        "_, predicted = torch.max(prediction, 1)\n",
        "print('Predicted: ', ' '.join('%5s' % classes[predicted[j]] for j in range(4)))"
      ],
      "execution_count": 33,
      "outputs": [
        {
          "output_type": "stream",
          "text": [
            "Predicted:    cat  ship  ship  ship\n"
          ],
          "name": "stdout"
        }
      ]
    },
    {
      "cell_type": "code",
      "metadata": {
        "colab": {
          "base_uri": "https://localhost:8080/"
        },
        "id": "dwoJojokwWBJ",
        "outputId": "4a651af4-25f2-4f50-c5d0-84aaa6e209be"
      },
      "source": [
        "correct = 0\n",
        "total = 0\n",
        "with torch.no_grad():\n",
        "    for data in testloader:\n",
        "        images, labels = data\n",
        "        outputs = classifier(images)\n",
        "        _, predicted = torch.max(outputs.data, 1)\n",
        "        total += labels.size(0)\n",
        "        correct += (predicted == labels).sum().item()\n",
        "\n",
        "print('Accuracy of the network on the 10000 test images: %d %%' % (100 * correct / total))"
      ],
      "execution_count": 34,
      "outputs": [
        {
          "output_type": "stream",
          "text": [
            "Accuracy of the network on the 10000 test images: 22 %\n"
          ],
          "name": "stdout"
        }
      ]
    },
    {
      "cell_type": "code",
      "metadata": {
        "colab": {
          "base_uri": "https://localhost:8080/"
        },
        "id": "pD7-oS7GwW3U",
        "outputId": "98e03c6c-d92d-404c-9991-dcfbd89bc642"
      },
      "source": [
        "class_correct = list(0. for i in range(10))\n",
        "class_total = list(0. for i in range(10))\n",
        "with torch.no_grad():\n",
        "    for data in testloader:\n",
        "        images, labels = data\n",
        "        outputs = classifier(images)\n",
        "        _, predicted = torch.max(outputs, 1)\n",
        "        c = (predicted == labels).squeeze()\n",
        "        for i in range(4):\n",
        "            label = labels[i]\n",
        "            class_correct[label] += c[i].item()\n",
        "            class_total[label] += 1\n",
        "\n",
        "for i in range(10):\n",
        "    print('Accuracy of %5s : %2d %%' % (classes[i], 100 * class_correct[i] / class_total[i]))"
      ],
      "execution_count": 35,
      "outputs": [
        {
          "output_type": "stream",
          "text": [
            "Accuracy of plane :  1 %\n",
            "Accuracy of   car : 49 %\n",
            "Accuracy of  bird : 17 %\n",
            "Accuracy of   cat : 36 %\n",
            "Accuracy of  deer :  0 %\n",
            "Accuracy of   dog : 15 %\n",
            "Accuracy of  frog : 28 %\n",
            "Accuracy of horse : 14 %\n",
            "Accuracy of  ship : 60 %\n",
            "Accuracy of truck :  7 %\n"
          ],
          "name": "stdout"
        }
      ]
    },
    {
      "cell_type": "code",
      "metadata": {
        "id": "yTlh3dVnwej9"
      },
      "source": [
        ""
      ],
      "execution_count": null,
      "outputs": []
    }
  ]
}