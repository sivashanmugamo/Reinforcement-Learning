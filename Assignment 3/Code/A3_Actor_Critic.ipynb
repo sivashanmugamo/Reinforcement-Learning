{
  "nbformat": 4,
  "nbformat_minor": 0,
  "metadata": {
    "colab": {
      "name": "A3 - Actor Critic.ipynb",
      "provenance": []
    },
    "kernelspec": {
      "name": "python3",
      "display_name": "Python 3"
    },
    "language_info": {
      "name": "python"
    },
    "accelerator": "GPU"
  },
  "cells": [
    {
      "cell_type": "markdown",
      "metadata": {
        "id": "Z0Nr6DoGNm6r"
      },
      "source": [
        "CSE 546 - Reinforcement Learning\n",
        "# Assignment 3 - Actor critic\n",
        "Author: @sivashanmugamo"
      ]
    },
    {
      "cell_type": "markdown",
      "metadata": {
        "id": "rDL5lcS1Rn7l"
      },
      "source": [
        "## Pre-requisites"
      ]
    },
    {
      "cell_type": "code",
      "metadata": {
        "id": "hBQsV3hlExDC"
      },
      "source": [
        "#!pip3 install box2d-py > /dev/null 2>&1"
      ],
      "execution_count": 95,
      "outputs": []
    },
    {
      "cell_type": "markdown",
      "metadata": {
        "id": "zwqg8MoXNnRt"
      },
      "source": [
        "Importing required libraries"
      ]
    },
    {
      "cell_type": "code",
      "metadata": {
        "id": "bQbgZAxeErvZ"
      },
      "source": [
        "import math, time, random, pickle\n",
        "import numpy as np\n",
        "from scipy.interpolate import make_interp_spline\n",
        "from matplotlib import pyplot as plt\n",
        "\n",
        "import gym\n",
        "from gym import spaces\n",
        "\n",
        "import torch\n",
        "from torch import nn, optim, autograd"
      ],
      "execution_count": 96,
      "outputs": []
    },
    {
      "cell_type": "markdown",
      "metadata": {
        "id": "8NKbo7DbNnvu"
      },
      "source": [
        "Checking for GPU availability"
      ]
    },
    {
      "cell_type": "code",
      "metadata": {
        "id": "-3UTG9SLEuwq"
      },
      "source": [
        "DEVICE= torch.device('cuda' if torch.cuda.is_available() else 'cpu')"
      ],
      "execution_count": 97,
      "outputs": []
    },
    {
      "cell_type": "markdown",
      "metadata": {
        "id": "QgNHVSUXRr5P"
      },
      "source": [
        "## Environment"
      ]
    },
    {
      "cell_type": "markdown",
      "metadata": {
        "id": "ajyamKuhPdur"
      },
      "source": [
        "Global Initiations"
      ]
    },
    {
      "cell_type": "code",
      "metadata": {
        "id": "zd-gbZakPdGj"
      },
      "source": [
        "ENV_1= 'CartPole-v1'\n",
        "ENV_2= 'LunarLander-v2'"
      ],
      "execution_count": 98,
      "outputs": []
    },
    {
      "cell_type": "markdown",
      "metadata": {
        "id": "YfJ_CEyOSWPO"
      },
      "source": [
        "Initializing the positions of the agent, goal, and rewards"
      ]
    },
    {
      "cell_type": "code",
      "metadata": {
        "id": "wG_Pzc3BRyKM"
      },
      "source": [
        "AGENT_POS= [0, 0]\n",
        "DIAMOND_POS= [1, 3]\n",
        "COIN_POS= [3, 2]\n",
        "MONSTER_POS= [2, 1]\n",
        "GOAL_POS= [3, 3]"
      ],
      "execution_count": 99,
      "outputs": []
    },
    {
      "cell_type": "markdown",
      "metadata": {
        "id": "mZWEzZRqSZ3v"
      },
      "source": [
        "Pre-defining the minimum number of states and actions that will be used in the environment"
      ]
    },
    {
      "cell_type": "code",
      "metadata": {
        "id": "3vMptBiZRy3C"
      },
      "source": [
        "N_STATES= 16\n",
        "N_ACTIONS= 4\n",
        "MAX_TIMESTEPS= 50"
      ],
      "execution_count": 100,
      "outputs": []
    },
    {
      "cell_type": "markdown",
      "metadata": {
        "id": "kNFM2jOGSfRQ"
      },
      "source": [
        "Initializing lookup dictionaries for states & actions"
      ]
    },
    {
      "cell_type": "code",
      "metadata": {
        "id": "P_2q1XDSR3ej"
      },
      "source": [
        "STATE_LOOKUP= dict()\n",
        "ACTION_LOOKUP= {0: 'Down', 1: 'Up', 2: 'Right', 3: 'Left'}\n",
        "\n",
        "k= 0\n",
        "for i in range(4):\n",
        "  for j in range(4):\n",
        "    STATE_LOOKUP[(i, j)]= k\n",
        "    k+= 1"
      ],
      "execution_count": 101,
      "outputs": []
    },
    {
      "cell_type": "markdown",
      "metadata": {
        "id": "RTle8DonSlEo"
      },
      "source": [
        "Defining a simple grid environment"
      ]
    },
    {
      "cell_type": "code",
      "metadata": {
        "id": "2ohpbcMiR4K4"
      },
      "source": [
        "class SimpleGrid(gym.Env):\n",
        "  metadata= {'render.modes': []}\n",
        "\n",
        "  def __init__(self):\n",
        "    '''\n",
        "    Initializes the number of states, action, & maximum timestep of the environment\n",
        "    '''\n",
        "\n",
        "    self.observation_space= spaces.Discrete(N_STATES)\n",
        "    self.action_space= spaces.Discrete(N_ACTIONS)\n",
        "    self.max_timesteps= MAX_TIMESTEPS\n",
        "\n",
        "  def reset(self):\n",
        "    '''\n",
        "    Resets the environment to its default setup\n",
        "\n",
        "    Output:\n",
        "      observation: 2-element list - Coordinates of the agent's default position in the grid\n",
        "    '''\n",
        "\n",
        "    self.timestep= 0\n",
        "\n",
        "    self.agent_pos= AGENT_POS.copy()\n",
        "    self.diamond_pos= DIAMOND_POS.copy()\n",
        "    self.coin_pos= COIN_POS.copy()\n",
        "    self.monster_pos= MONSTER_POS.copy()\n",
        "    self.goal_pos= GOAL_POS.copy()\n",
        "\n",
        "    self.state= np.zeros((4, 4))\n",
        "\n",
        "    self.state[tuple(self.agent_pos)]= 1\n",
        "    self.state[tuple(self.diamond_pos)]= 5\n",
        "    self.state[tuple(self.coin_pos)]= 3\n",
        "    self.state[tuple(self.monster_pos)]= -5\n",
        "    self.state[tuple(self.goal_pos)]= 10\n",
        "    \n",
        "    agent_state= self.agent_pos\n",
        "\n",
        "    return STATE_LOOKUP[tuple(agent_state)]\n",
        "\n",
        "  def step(self, action: int):\n",
        "    '''\n",
        "    1. Moves the agent as per the given action\n",
        "    2. Sets the rewards per state in the environment\n",
        "    3. Calculates the reward of the new state\n",
        "\n",
        "    Input:\n",
        "      action: int - Action to be performed\n",
        "\n",
        "    Output:\n",
        "      action: int - Action taken\n",
        "      observation: 2-element list\n",
        "      reward: int - State reward\n",
        "      done: bool - Denotes if the learning is complete (or) goal is reached\n",
        "      info: dict\n",
        "    '''\n",
        "\n",
        "    # Initializing the grid\n",
        "    self.state= np.zeros((4, 4))\n",
        "\n",
        "    # Move the agent\n",
        "    if action == 0: # Go down one step\n",
        "      self.agent_pos[0] += 1\n",
        "    if action == 1: # Go up one step\n",
        "      self.agent_pos[0] -= 1\n",
        "    if action == 2: # Go right one step\n",
        "      self.agent_pos[1] += 1\n",
        "    if action == 3: # Go left one step\n",
        "      self.agent_pos[1] -= 1\n",
        "\n",
        "    # To keep the agent within the confines of the environment\n",
        "    self.agent_pos= np.clip(self.agent_pos, 0, 3)\n",
        "\n",
        "    # Initialize the state rewards\n",
        "    self.state[tuple(self.agent_pos)]= 1\n",
        "    self.state[tuple(self.diamond_pos)]= 5\n",
        "    self.state[tuple(self.coin_pos)]= 3\n",
        "    self.state[tuple(self.monster_pos)]= -5\n",
        "    self.state[tuple(self.goal_pos)]= 10\n",
        "\n",
        "    agent_state= self.agent_pos\n",
        "\n",
        "    # Calculates the reward for the action\n",
        "    reward= 0\n",
        "    if (self.agent_pos == self.diamond_pos).all():\n",
        "      reward += 5\n",
        "    if (self.agent_pos == self.coin_pos).all():\n",
        "      reward += 3\n",
        "    if (self.agent_pos == self.monster_pos).all():\n",
        "      reward -= 5\n",
        "    if (self.agent_pos == self.goal_pos).all():\n",
        "      reward += 10\n",
        "\n",
        "    # Timestep increment\n",
        "    self.timestep += 1\n",
        "\n",
        "    done= True if ((self.timestep >= self.max_timesteps) or (self.agent_pos == self.goal_pos).all()) else False\n",
        "    info= {}\n",
        "\n",
        "    return STATE_LOOKUP[tuple(agent_state)], reward, done, info\n",
        "\n",
        "  def render(self):\n",
        "    '''\n",
        "    Provides pictorial representation of environment\n",
        "    '''\n",
        "\n",
        "    plt.imshow(self.state)"
      ],
      "execution_count": 102,
      "outputs": []
    },
    {
      "cell_type": "markdown",
      "metadata": {
        "id": "ZuJxjslzRXUR"
      },
      "source": [
        "## Advantage Actor Critic"
      ]
    },
    {
      "cell_type": "markdown",
      "metadata": {
        "id": "YJAbGiJTNojl"
      },
      "source": [
        "Initiating a class for the actor-critic network"
      ]
    },
    {
      "cell_type": "code",
      "metadata": {
        "id": "1MN7m4D8E1D9"
      },
      "source": [
        "class AC(nn.Module):\n",
        "  def __init__(self, env, n_input: int, n_output: int, \n",
        "               n_hidden: int= 256, learning_rate: float= 1e-3) -> None:\n",
        "    super(AC, self).__init__()\n",
        "\n",
        "    self.env= env\n",
        "\n",
        "    # Observation space size\n",
        "    self.n_input= n_input\n",
        "    self.n_hidden= n_hidden\n",
        "\n",
        "    # Action space size\n",
        "    self.n_output= n_output\n",
        "\n",
        "    self.alpha= learning_rate\n",
        "\n",
        "    # Critic model\n",
        "    # Predicts value\n",
        "    self.critic= nn.Sequential(\n",
        "        nn.Linear(self.n_input, self.n_hidden), \n",
        "        nn.ReLU(), \n",
        "        nn.Linear(self.n_hidden, 1)\n",
        "    )\n",
        "\n",
        "    # Actor network\n",
        "    # Predicts policy distribution\n",
        "    self.actor= nn.Sequential(\n",
        "        nn.Linear(self.n_input, self.n_hidden), \n",
        "        nn.ReLU(),  \n",
        "        nn.Linear(self.n_hidden, self.n_output), \n",
        "        nn.Softmax(dim= 1)\n",
        "    )\n",
        "\n",
        "  def forward(self, state: np.array) -> tuple:\n",
        "    '''\n",
        "    Predicts the value & probability distribution of action based \n",
        "    on the state\n",
        "    '''\n",
        "\n",
        "    state= autograd.Variable(torch.from_numpy(state).float().unsqueeze(0))\n",
        "    return (self.critic(state), self.actor(state))"
      ],
      "execution_count": 103,
      "outputs": []
    },
    {
      "cell_type": "markdown",
      "metadata": {
        "id": "3Kz6tkdEP8BR"
      },
      "source": [
        "To plot the reward per episode graph"
      ]
    },
    {
      "cell_type": "code",
      "metadata": {
        "id": "fpBoENHTJ0gG"
      },
      "source": [
        "def plot_result(rewards: list) -> None:\n",
        "      plt.title('Reward per episode')\n",
        "      plt.plot(rewards)\n",
        "      plt.xlabel('# Episodes')\n",
        "      plt.ylabel('Rewards')\n",
        "      plt.show()"
      ],
      "execution_count": 104,
      "outputs": []
    },
    {
      "cell_type": "markdown",
      "metadata": {
        "id": "kRMPE7f-QBEQ"
      },
      "source": [
        "Agent function that runs for 100 timesteps for every one of 1000 episodes by default"
      ]
    },
    {
      "cell_type": "code",
      "metadata": {
        "id": "DEu_Hr2QE_Ma"
      },
      "source": [
        "def A2C(env, discount_rate: float= 0.99, max_timesteps: int= 100, \n",
        "        max_episodes: int= 1000, verbose: bool= False):\n",
        "  n_input= env.observation_space.shape[0]\n",
        "  n_output= env.action_space.n\n",
        "\n",
        "  gamma= discount_rate\n",
        "\n",
        "  # Initiating model\n",
        "  ac= AC(\n",
        "      env= env,\n",
        "      n_input= n_input, \n",
        "      n_output= n_output\n",
        "  )\n",
        "\n",
        "  # Initiatig optimizer\n",
        "  optimizer= optim.Adam(ac.parameters(), lr= ac.alpha)\n",
        "\n",
        "  episode_reward_list= list()\n",
        "  entropy= 0\n",
        "  for each_episode in range(max_episodes):\n",
        "    rewards_list= list()\n",
        "    values_list= list()\n",
        "    log_prob_list= list()\n",
        "\n",
        "    state= env.reset()\n",
        "    for each_timestep in range(max_timesteps):\n",
        "      value, policy= ac.forward(state)\n",
        "\n",
        "      value= value.detach().numpy()[0, 0]\n",
        "      dist= policy.detach().numpy()\n",
        "\n",
        "      # Choosing action\n",
        "      action= np.random.choice(n_output, p= np.squeeze(dist))\n",
        "      log_prob= torch.log(policy.squeeze(0))[action]\n",
        "      entropy+= (-1) * np.sum(np.mean(dist) * np.log(dist))\n",
        "\n",
        "      # Perform a_t according to policy\\pi(a_t|s_t; \\theta)\n",
        "      # Receive reward r_t & new state s_{t+1}\n",
        "      next_state, reward, done, info= env.step(action)\n",
        "      state= next_state\n",
        "\n",
        "      rewards_list.append(reward)\n",
        "      values_list.append(value)\n",
        "      log_prob_list.append(log_prob)\n",
        "\n",
        "      # Until terminal s_t or t - t_{\\text{start}} == t_{\\text{max}}\n",
        "      if done or (each_timestep + 1 == max_timesteps):\n",
        "        Q= ac.forward(next_state)[0].detach().numpy()[0, 0]\n",
        "        episode_reward_list.append(np.sum(rewards_list))\n",
        "        if (each_episode % 10) == 0 and verbose:\n",
        "          print('At episode {}, reward is {}'.format(\n",
        "              each_episode, np.sum(rewards_list)))\n",
        "        break\n",
        "\n",
        "    Q_values= torch.zeros_like(torch.Tensor(values_list))\n",
        "    for i in reversed(range(len(rewards_list))):\n",
        "      Q= rewards_list[i] + gamma * Q\n",
        "      Q_values[i]= Q\n",
        "\n",
        "    # Updating network\n",
        "    value_t= torch.FloatTensor(values_list)\n",
        "    Q_t= Q_values.float()\n",
        "    log_prob_t= torch.stack(log_prob_list)\n",
        "\n",
        "    # Advantage: A(s, a)= Q(s, a) - V(s)\n",
        "    advantage_t= Q_t - value_t\n",
        "\n",
        "    # Loss functions\n",
        "    actor_loss= (-1) * (log_prob_t * advantage_t).mean()\n",
        "    critic_loss= 0.5 * advantage_t.pow(2).mean()\n",
        "\n",
        "    ac_loss= actor_loss + critic_loss + (0.001 * entropy)\n",
        "\n",
        "    optimizer.zero_grad()\n",
        "    ac_loss.backward()\n",
        "    optimizer.step()\n",
        "  \n",
        "  plot_result(rewards= episode_reward_list)"
      ],
      "execution_count": 105,
      "outputs": []
    },
    {
      "cell_type": "markdown",
      "metadata": {
        "id": "q1dZJRRTRfZ3"
      },
      "source": [
        "## Environment runs"
      ]
    },
    {
      "cell_type": "markdown",
      "metadata": {
        "id": "E-lh0sOZQLPH"
      },
      "source": [
        "Performance of specified environment 1"
      ]
    },
    {
      "cell_type": "code",
      "metadata": {
        "colab": {
          "base_uri": "https://localhost:8080/",
          "height": 295
        },
        "id": "J8EGdz45FGc9",
        "outputId": "11ac475c-ab8c-4183-dd66-4788ad7292a9"
      },
      "source": [
        "env_1= gym.make(ENV_1)\n",
        "A2C(env= env_1)"
      ],
      "execution_count": 109,
      "outputs": [
        {
          "output_type": "display_data",
          "data": {
            "image/png": "[encoded data removed]",
            "text/plain": [
              "<Figure size 432x288 with 1 Axes>"
            ]
          },
          "metadata": {
            "tags": [],
            "needs_background": "light"
          }
        }
      ]
    },
    {
      "cell_type": "markdown",
      "metadata": {
        "id": "Zof15_EzQPQc"
      },
      "source": [
        "Performance of specified environment 2"
      ]
    },
    {
      "cell_type": "code",
      "metadata": {
        "colab": {
          "base_uri": "https://localhost:8080/",
          "height": 295
        },
        "id": "CmeaINQRFIt4",
        "outputId": "74e7d6d0-04d5-4be6-dc63-e49ca75eb093"
      },
      "source": [
        "env_2= gym.make(ENV_2)\n",
        "A2C(env= env_2)"
      ],
      "execution_count": 107,
      "outputs": [
        {
          "output_type": "display_data",
          "data": {
            "image/png": "[encoded data removed]",
            "text/plain": [
              "<Figure size 432x288 with 1 Axes>"
            ]
          },
          "metadata": {
            "tags": [],
            "needs_background": "light"
          }
        }
      ]
    },
    {
      "cell_type": "markdown",
      "metadata": {
        "id": "3CTIPTXPFnS8"
      },
      "source": [
        "## References\n",
        "1. Advantage Actor Critic (A2C) Pseudocode - https://www.researchgate.net/figure/Pseudo-code-for-advantage-actor-critic-algorithm_fig8_325129154\n",
        "2. An intro to Advantage Actor Critic methods - https://www.freecodecamp.org/news/an-intro-to-advantage-actor-critic-methods-lets-play-sonic-the-hedgehog-86d6240171d/\n",
        "2. Intuitive RL: Intro to Advantage-Actor-Critic (A2C) - https://hackernoon.com/intuitive-rl-intro-to-advantage-actor-critic-a2c-4ff545978752\n",
        "3. The idea behind Actor-Critics and how A2C and A3C improve them - https://theaisummer.com/Actor_critics/\n",
        "4. Reinforcement Learning 6: Policy Gradients and Actor Critics - https://youtu.be/bRfUxQs6xIM\n",
        "5. Asynchronous Methods for Deep Reinforcement Learning - https://arxiv.org/pdf/1602.01783.pdf\n",
        "6. Lilian Weng blog: Policy Gradient Algorithms - https://lilianweng.github.io/lil-log/2018/04/08/policy-gradient-algorithms.html"
      ]
    }
  ]
}